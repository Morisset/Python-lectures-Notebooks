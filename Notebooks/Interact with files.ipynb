{
 "cells": [
  {
   "cell_type": "code",
   "execution_count": 1,
   "metadata": {
    "collapsed": false,
    "jupyter": {
     "outputs_hidden": false
    }
   },
   "outputs": [
    {
     "name": "stdout",
     "output_type": "stream",
     "text": [
      "Mon Oct 12 21:36:54 2020\n",
      "3.7.6 (default, Jan  8 2020, 13:42:34) \n",
      "[Clang 4.0.1 (tags/RELEASE_401/final)]\n"
     ]
    }
   ],
   "source": [
    "# The following is to know when this notebook has been run and with which python version.\n",
    "import time, sys\n",
    "print(time.ctime())\n",
    "print(sys.version.split('|')[0])"
   ]
  },
  {
   "cell_type": "markdown",
   "metadata": {},
   "source": [
    "# C: How to read and write files (ASCII and FITS)"
   ]
  },
  {
   "cell_type": "markdown",
   "metadata": {},
   "source": [
    "This is part of the Python lecture given by Christophe Morisset at IA-UNAM."
   ]
  },
  {
   "cell_type": "markdown",
   "metadata": {},
   "source": [
    "Some informations are here: http://www.tutorialspoint.com/python/python_files_io.htm"
   ]
  },
  {
   "cell_type": "markdown",
   "metadata": {},
   "source": [
    "## Reading a simple ascii file"
   ]
  },
  {
   "cell_type": "code",
   "execution_count": 2,
   "metadata": {
    "collapsed": false,
    "jupyter": {
     "outputs_hidden": false
    }
   },
   "outputs": [],
   "source": [
    "# numpy is needed in some part of the lecture\n",
    "import numpy as np"
   ]
  },
  {
   "cell_type": "markdown",
   "metadata": {},
   "source": [
    "First of all, we will have to have some files on the hard drive to read them The following notebook cell will write a file in the same directory where the notebook has been started."
   ]
  },
  {
   "cell_type": "code",
   "execution_count": 3,
   "metadata": {
    "collapsed": false,
    "jupyter": {
     "outputs_hidden": false
    }
   },
   "outputs": [
    {
     "name": "stdout",
     "output_type": "stream",
     "text": [
      "Overwriting data1.dat\n"
     ]
    }
   ],
   "source": [
    "%%writefile data1.dat\n",
    "1   2.3  6   8 star\n",
    "2   3.5  7   9 galaxy\n",
    "3  -4.2  5   7 cluster"
   ]
  },
  {
   "cell_type": "markdown",
   "metadata": {},
   "source": [
    "Now the goal is to read this file. The first way is to open the file, read it completely in a variable and close the file. Then we can play with the content of the file."
   ]
  },
  {
   "cell_type": "code",
   "execution_count": 4,
   "metadata": {
    "collapsed": false,
    "jupyter": {
     "outputs_hidden": false
    }
   },
   "outputs": [],
   "source": [
    "datafile = open('data1.dat', 'r') # Open the file to read it"
   ]
  },
  {
   "cell_type": "code",
   "execution_count": 5,
   "metadata": {
    "collapsed": false,
    "jupyter": {
     "outputs_hidden": false
    }
   },
   "outputs": [],
   "source": [
    "data = datafile.readlines() # The variable data will receive the content of the file."
   ]
  },
  {
   "cell_type": "code",
   "execution_count": 6,
   "metadata": {
    "collapsed": false,
    "jupyter": {
     "outputs_hidden": false
    }
   },
   "outputs": [],
   "source": [
    "datafile.close() # Not need anymore of the file."
   ]
  },
  {
   "cell_type": "code",
   "execution_count": 7,
   "metadata": {
    "collapsed": false,
    "jupyter": {
     "outputs_hidden": false
    }
   },
   "outputs": [
    {
     "name": "stdout",
     "output_type": "stream",
     "text": [
      "<class 'list'>\n"
     ]
    }
   ],
   "source": [
    "print(type(data)) # The data file is stored in the form of a list, each element of the list corresponding to a row of the list."
   ]
  },
  {
   "cell_type": "code",
   "execution_count": 8,
   "metadata": {
    "collapsed": false,
    "jupyter": {
     "outputs_hidden": false
    }
   },
   "outputs": [
    {
     "name": "stdout",
     "output_type": "stream",
     "text": [
      "['1   2.3  6   8 star\\n', '2   3.5  7   9 galaxy\\n', '3  -4.2  5   7 cluster\\n']\n"
     ]
    }
   ],
   "source": [
    "print(data) # Each row is a string and terminates with \\n, symbol of END OF LINE."
   ]
  },
  {
   "cell_type": "code",
   "execution_count": 9,
   "metadata": {
    "collapsed": false,
    "jupyter": {
     "outputs_hidden": false
    }
   },
   "outputs": [
    {
     "name": "stdout",
     "output_type": "stream",
     "text": [
      "3\n"
     ]
    }
   ],
   "source": [
    "print(len(data)) # number of rows"
   ]
  },
  {
   "cell_type": "code",
   "execution_count": 10,
   "metadata": {
    "collapsed": false,
    "jupyter": {
     "outputs_hidden": false
    }
   },
   "outputs": [
    {
     "name": "stdout",
     "output_type": "stream",
     "text": [
      "1   2.3  6   8 star\n",
      " tralala\n"
     ]
    }
   ],
   "source": [
    "print(data[0], 'tralala')"
   ]
  },
  {
   "cell_type": "code",
   "execution_count": 11,
   "metadata": {
    "collapsed": false,
    "jupyter": {
     "outputs_hidden": false
    }
   },
   "outputs": [
    {
     "name": "stdout",
     "output_type": "stream",
     "text": [
      "1   2.3  6   8 star\n",
      "\n",
      "2   3.5  7   9 galaxy\n",
      "\n",
      "3  -4.2  5   7 cluster\n",
      "\n"
     ]
    }
   ],
   "source": [
    "for row in data:\n",
    "    print(row)"
   ]
  },
  {
   "cell_type": "code",
   "execution_count": 12,
   "metadata": {
    "collapsed": false,
    "jupyter": {
     "outputs_hidden": false
    }
   },
   "outputs": [
    {
     "name": "stdout",
     "output_type": "stream",
     "text": [
      "1   2.3  6   8 star\n",
      "\n",
      "2   3.5  7   9 galaxy\n",
      "\n",
      "3  -4.2  5   7 cluster\n",
      "\n"
     ]
    }
   ],
   "source": [
    "# In python 2:\n",
    "for row in data:\n",
    "    print(row),"
   ]
  },
  {
   "cell_type": "code",
   "execution_count": 13,
   "metadata": {
    "collapsed": false,
    "jupyter": {
     "outputs_hidden": false
    }
   },
   "outputs": [
    {
     "name": "stdout",
     "output_type": "stream",
     "text": [
      "1   2.3  6   8 star\n",
      "2   3.5  7   9 galaxy\n",
      "3  -4.2  5   7 cluster\n"
     ]
    }
   ],
   "source": [
    "# In python 3:\n",
    "for row in data:\n",
    "    print(row, end='')"
   ]
  },
  {
   "cell_type": "code",
   "execution_count": 14,
   "metadata": {
    "collapsed": false,
    "jupyter": {
     "outputs_hidden": false
    }
   },
   "outputs": [
    {
     "name": "stdout",
     "output_type": "stream",
     "text": [
      "<class 'str'>\n"
     ]
    }
   ],
   "source": [
    "print(type(data[0])) # Each element is a string"
   ]
  },
  {
   "cell_type": "markdown",
   "metadata": {},
   "source": [
    "Now it is easy to separate each field with the split command: "
   ]
  },
  {
   "cell_type": "code",
   "execution_count": 15,
   "metadata": {
    "collapsed": false,
    "jupyter": {
     "outputs_hidden": false
    }
   },
   "outputs": [
    {
     "name": "stdout",
     "output_type": "stream",
     "text": [
      "['1', '2.3', '6', '8', 'star']\n",
      "['2', '3.5', '7', '9', 'galaxy']\n",
      "['3', '-4.2', '5', '7', 'cluster']\n"
     ]
    }
   ],
   "source": [
    "for row in data:\n",
    "    print(row.split())"
   ]
  },
  {
   "cell_type": "code",
   "execution_count": 16,
   "metadata": {
    "collapsed": false,
    "jupyter": {
     "outputs_hidden": false
    }
   },
   "outputs": [
    {
     "name": "stdout",
     "output_type": "stream",
     "text": [
      "N =  1 f =  2.30 type =       star\n",
      "N =  2 f =  3.50 type =     galaxy\n",
      "N =  3 f = -4.20 type =    cluster\n"
     ]
    }
   ],
   "source": [
    "# One can also transform the data if the type is known:\n",
    "for row in data:\n",
    "    this_data = row.split()\n",
    "    print('N = {0:2d} f = {1:5.2f} type = {2:>10s}'.format(int(this_data[0]), \n",
    "                                                           float(this_data[1]), \n",
    "                                                           this_data[4]))"
   ]
  },
  {
   "cell_type": "code",
   "execution_count": 18,
   "metadata": {
    "collapsed": false,
    "jupyter": {
     "outputs_hidden": false
    }
   },
   "outputs": [
    {
     "name": "stdout",
     "output_type": "stream",
     "text": [
      "[1, 2, 3]\n",
      "[2.3, 3.5, -4.2]\n",
      "['star', 'galaxy', 'cluster']\n",
      "[1 2 3]\n"
     ]
    }
   ],
   "source": [
    "# One can even fill a list with the data, by column:\n",
    "N = []\n",
    "f = []\n",
    "type_ = [] # take care, type is a python command, you can erase it if you use it...\n",
    "for row in data:\n",
    "    this_data = row.split()\n",
    "    N.append(int(this_data[0]))\n",
    "    f.append(float(this_data[1]))\n",
    "    type_.append(this_data[4])\n",
    "print(N)\n",
    "print(f)\n",
    "print(type_)\n",
    "N = np.array(N)\n",
    "print(N)"
   ]
  },
  {
   "cell_type": "code",
   "execution_count": 19,
   "metadata": {
    "collapsed": false,
    "jupyter": {
     "outputs_hidden": false
    }
   },
   "outputs": [
    {
     "name": "stdout",
     "output_type": "stream",
     "text": [
      "[1 2 3]\n",
      "[ 2.3  3.5 -4.2]\n"
     ]
    }
   ],
   "source": [
    "# If the file number of rows is not too big, you can use list comprehension (and even send the result to a numpy array)\n",
    "N = np.array([int(row.split()[0]) for row in data])\n",
    "f = np.array([float(row.split()[1]) for row in data])\n",
    "# Each one of this command scans all the rows, don't use for huge files\n",
    "print(N)\n",
    "print(f)"
   ]
  },
  {
   "cell_type": "markdown",
   "metadata": {},
   "source": [
    "## How to treat special rows (headers, comments)"
   ]
  },
  {
   "cell_type": "code",
   "execution_count": 20,
   "metadata": {
    "collapsed": false,
    "jupyter": {
     "outputs_hidden": false
    }
   },
   "outputs": [
    {
     "name": "stdout",
     "output_type": "stream",
     "text": [
      "Overwriting data2.dat\n"
     ]
    }
   ],
   "source": [
    "%%writefile data2.dat\n",
    "# The following data are for test purpose\n",
    "N    f   x   y type\n",
    "1   2.3  6   8 star\n",
    "2   3.5  7   9 galaxy\n",
    "3  -4.2  5   7 cluster\n",
    "#4  -10.5  5  7 test"
   ]
  },
  {
   "cell_type": "code",
   "execution_count": 21,
   "metadata": {
    "collapsed": false,
    "jupyter": {
     "outputs_hidden": false
    }
   },
   "outputs": [
    {
     "name": "stdout",
     "output_type": "stream",
     "text": [
      "# The following data are for test purpose\n",
      "N    f   x   y type\n",
      "1   2.3  6   8 star\n",
      "2   3.5  7   9 galaxy\n",
      "3  -4.2  5   7 cluster\n",
      "#4  -10.5  5  7 test\n"
     ]
    }
   ],
   "source": [
    "!cat data2.dat # Just to check that the # comments are also in the file"
   ]
  },
  {
   "cell_type": "markdown",
   "metadata": {},
   "source": [
    "The file has to be read row by row, to be sure that special cases are treated."
   ]
  },
  {
   "cell_type": "code",
   "execution_count": 22,
   "metadata": {
    "collapsed": false,
    "jupyter": {
     "outputs_hidden": false
    }
   },
   "outputs": [
    {
     "name": "stdout",
     "output_type": "stream",
     "text": [
      "# The following data are for test purpose\n",
      "N    f   x   y type\n",
      "['1   2.3  6   8 star\\n', '2   3.5  7   9 galaxy\\n', '3  -4.2  5   7 cluster\\n']\n"
     ]
    }
   ],
   "source": [
    "datafile = open('data2.dat', 'r') # Open the file to read it\n",
    "\n",
    "row = datafile.readline() # this reads only one line\n",
    "first_comment = row\n",
    "print(first_comment, end='')\n",
    "\n",
    "row = datafile.readline() # this reads only one line\n",
    "header = row\n",
    "print(header, end='')\n",
    "\n",
    "data = []\n",
    "while True: # loops until exit by break command\n",
    "    row = datafile.readline()\n",
    "    if row == '':\n",
    "        break\n",
    "    if row[0] != '#' and row[0] != '\\n': # comment lines are skipped\n",
    "        data.append(row)\n",
    "datafile.close()\n",
    "print(data)"
   ]
  },
  {
   "cell_type": "code",
   "execution_count": 23,
   "metadata": {
    "collapsed": false,
    "jupyter": {
     "outputs_hidden": false
    }
   },
   "outputs": [
    {
     "name": "stdout",
     "output_type": "stream",
     "text": [
      "# The following data are for test purpose\n",
      "N    f   x   y type\n",
      "['1   2.3  6   8 star\\n', '2   3.5  7   9 galaxy\\n', '3  -4.2  5   7 cluster\\n']\n"
     ]
    }
   ],
   "source": [
    "datafile = open('data2.dat', 'r') # Open the file to read it\n",
    "row = datafile.readline() # this reads only one line\n",
    "first_comment = row\n",
    "print(first_comment, end='')\n",
    "row = datafile.readline() # this reads only one line\n",
    "header = row\n",
    "print(header, end='')\n",
    "data = []\n",
    "row = datafile.readline()\n",
    "while row != '': # loops until exit by break command\n",
    "    if row[0] != '#': # comment lines are skipped\n",
    "        data.append(row)\n",
    "    row = datafile.readline()\n",
    "datafile.close()\n",
    "print(data)"
   ]
  },
  {
   "cell_type": "code",
   "execution_count": 24,
   "metadata": {
    "collapsed": false,
    "jupyter": {
     "outputs_hidden": false
    }
   },
   "outputs": [
    {
     "name": "stdout",
     "output_type": "stream",
     "text": [
      "['N    f   x   y type\\n', '1   2.3  6   8 star\\n', '2   3.5  7   9 galaxy\\n', '3  -4.2  5   7 cluster\\n']\n"
     ]
    }
   ],
   "source": [
    "# very shorter way to deal with the file. No need to look for the end of the file.\n",
    "datafile = open('data2.dat', 'r') # Open the file to read it\n",
    "data = []\n",
    "for row in datafile:\n",
    "    if row[0] != '#': # comment lines are skipped\n",
    "        data.append(row)  \n",
    "datafile.close()\n",
    "print(data)\n",
    "# This way will include the header in the data... Not what we want"
   ]
  },
  {
   "cell_type": "code",
   "execution_count": 27,
   "metadata": {
    "collapsed": false,
    "jupyter": {
     "outputs_hidden": false
    }
   },
   "outputs": [
    {
     "name": "stdout",
     "output_type": "stream",
     "text": [
      "N    f   x   y type\n",
      "-----\n",
      "['1   2.3  6   8 star\\n', '2   3.5  7   9 galaxy\\n', '3  -4.2  5   7 cluster\\n']\n",
      "-----\n",
      "['# The following data are for test purpose\\n', '#4  -10.5  5  7 test\\n']\n"
     ]
    }
   ],
   "source": [
    "# very shorter way to deal with the file:\n",
    "# we know that the header is the first no-comment line in the file.\n",
    "datafile = open('data2.dat', 'r') # Open the file to read it\n",
    "data = []\n",
    "comments = [] # we can keep the comments for some usage\n",
    "header_not_read = True # We will turn it to True once the header is read\n",
    "for row in datafile:\n",
    "    if row[0] != '#': # comment lines are skipped\n",
    "        if header_not_read:\n",
    "            header = row\n",
    "            header_not_read = False # next time, data will be read\n",
    "        else:\n",
    "            data.append(row)\n",
    "    else:\n",
    "        comments.append(row)\n",
    "datafile.close()\n",
    "print(header, end='')\n",
    "print('-----')\n",
    "print(data)\n",
    "print('-----')\n",
    "print(comments)"
   ]
  },
  {
   "cell_type": "code",
   "execution_count": 28,
   "metadata": {
    "collapsed": false,
    "jupyter": {
     "outputs_hidden": false
    }
   },
   "outputs": [
    {
     "name": "stdout",
     "output_type": "stream",
     "text": [
      "N    f   x   y type\n",
      "\n",
      "[(1, 2.3, 6.0, 8.0, 'star'), (2, 3.5, 7.0, 9.0, 'galaxy'), (3, -4.2, 5.0, 7.0, 'cluster')]\n",
      "['# The following data are for test purpose\\n', '#4  -10.5  5  7 test\\n']\n"
     ]
    }
   ],
   "source": [
    "# Alternative way using \"with\". No need to close the file, done when the \"with\" block is terminated.\n",
    "data = []\n",
    "comments = []\n",
    "header_read = False\n",
    "def change_type(row_split):\n",
    "    # This function change the type of the data read from the file from 5 strings into int, 3 floats and a string\n",
    "    # It also return the result in form of a tuple\n",
    "    return (int(row_split[0]), \n",
    "            float(row_split[1]), \n",
    "            float(row_split[2]), \n",
    "            float(row_split[3]), \n",
    "            row_split[4])\n",
    "with open('data2.dat', 'r') as datafile:\n",
    "    for row in datafile:\n",
    "        if row[0] != '#' and row[0] != '\\n': # comment lines are skipped\n",
    "            if not header_read:\n",
    "                header = row\n",
    "                header_read = True\n",
    "            else:\n",
    "                data.append(change_type(row.split()))\n",
    "        else:\n",
    "            comments.append(row)\n",
    "print(header)\n",
    "print(data)\n",
    "print(comments)"
   ]
  },
  {
   "cell_type": "code",
   "execution_count": 29,
   "metadata": {
    "collapsed": false,
    "jupyter": {
     "outputs_hidden": false
    }
   },
   "outputs": [],
   "source": [
    "# We can define the result as a structured array\n",
    "# We use the header to define the field names.\n",
    "# data must be a list of tuples.\n",
    "a = np.array(data, dtype={'names':header.split(), \n",
    "                          'formats':['i4','f16', 'f16', 'f16', 'U10']})"
   ]
  },
  {
   "cell_type": "code",
   "execution_count": 30,
   "metadata": {
    "collapsed": false,
    "jupyter": {
     "outputs_hidden": false
    }
   },
   "outputs": [
    {
     "data": {
      "text/plain": [
       "array([(1,  2.3, 6., 8., 'star'), (2,  3.5, 7., 9., 'galaxy'),\n",
       "       (3, -4.2, 5., 7., 'cluster')],\n",
       "      dtype=[('N', '<i4'), ('f', '<f16'), ('x', '<f16'), ('y', '<f16'), ('type', '<U10')])"
      ]
     },
     "execution_count": 30,
     "metadata": {},
     "output_type": "execute_result"
    }
   ],
   "source": [
    "a"
   ]
  },
  {
   "cell_type": "code",
   "execution_count": 31,
   "metadata": {
    "collapsed": false,
    "jupyter": {
     "outputs_hidden": false
    }
   },
   "outputs": [
    {
     "name": "stdout",
     "output_type": "stream",
     "text": [
      "(1, 2.3, 6.0, 8.0, 'star')\n"
     ]
    }
   ],
   "source": [
    "print(data[0])"
   ]
  },
  {
   "cell_type": "code",
   "execution_count": 32,
   "metadata": {
    "collapsed": false,
    "jupyter": {
     "outputs_hidden": false
    }
   },
   "outputs": [
    {
     "name": "stdout",
     "output_type": "stream",
     "text": [
      "(1, 2.3, 6., 8., 'star')\n"
     ]
    }
   ],
   "source": [
    "print(a[0])"
   ]
  },
  {
   "cell_type": "code",
   "execution_count": 33,
   "metadata": {
    "collapsed": false,
    "jupyter": {
     "outputs_hidden": false
    }
   },
   "outputs": [
    {
     "name": "stdout",
     "output_type": "stream",
     "text": [
      "[1 2 3]\n"
     ]
    }
   ],
   "source": [
    "# Easy access to the columns, by their name\n",
    "print(a['N'])"
   ]
  },
  {
   "cell_type": "code",
   "execution_count": 34,
   "metadata": {
    "collapsed": false,
    "jupyter": {
     "outputs_hidden": false
    }
   },
   "outputs": [
    {
     "name": "stdout",
     "output_type": "stream",
     "text": [
      "['star' 'galaxy' 'cluster']\n"
     ]
    }
   ],
   "source": [
    "print(a['type'])"
   ]
  },
  {
   "cell_type": "code",
   "execution_count": 36,
   "metadata": {
    "collapsed": false,
    "jupyter": {
     "outputs_hidden": false
    }
   },
   "outputs": [
    {
     "name": "stdout",
     "output_type": "stream",
     "text": [
      "[10.         11.40175425  8.60232527]\n"
     ]
    }
   ],
   "source": [
    "# Easy combine the values of columns\n",
    "print(np.sqrt(a['x']**2 + a['y']**2))"
   ]
  },
  {
   "cell_type": "markdown",
   "metadata": {},
   "source": [
    "### Using numpy loadtxt"
   ]
  },
  {
   "cell_type": "markdown",
   "metadata": {},
   "source": [
    "http://docs.scipy.org/doc/numpy/reference/generated/numpy.loadtxt.html"
   ]
  },
  {
   "cell_type": "code",
   "execution_count": 37,
   "metadata": {
    "collapsed": false,
    "jupyter": {
     "outputs_hidden": false
    }
   },
   "outputs": [],
   "source": [
    "# Fast way for reading the file\n",
    "# One hace to tell to skip the 2 first rows\n",
    "# skiprows \n",
    "b = np.loadtxt('data2.dat', skiprows=2, dtype='i4,f, f, f, U10')"
   ]
  },
  {
   "cell_type": "code",
   "execution_count": 38,
   "metadata": {
    "collapsed": false,
    "jupyter": {
     "outputs_hidden": false
    }
   },
   "outputs": [
    {
     "name": "stdout",
     "output_type": "stream",
     "text": [
      "[(1,  2.3, 6., 8., 'star') (2,  3.5, 7., 9., 'galaxy')\n",
      " (3, -4.2, 5., 7., 'cluster')]\n"
     ]
    }
   ],
   "source": [
    "print(b)"
   ]
  },
  {
   "cell_type": "code",
   "execution_count": 39,
   "metadata": {
    "collapsed": false,
    "jupyter": {
     "outputs_hidden": false
    }
   },
   "outputs": [
    {
     "data": {
      "text/plain": [
       "numpy.ndarray"
      ]
     },
     "execution_count": 39,
     "metadata": {},
     "output_type": "execute_result"
    }
   ],
   "source": [
    "type(b)"
   ]
  },
  {
   "cell_type": "code",
   "execution_count": 40,
   "metadata": {
    "collapsed": false,
    "jupyter": {
     "outputs_hidden": false
    }
   },
   "outputs": [
    {
     "data": {
      "text/plain": [
       "dtype([('f0', '<i4'), ('f1', '<f4'), ('f2', '<f4'), ('f3', '<f4'), ('f4', '<U10')])"
      ]
     },
     "execution_count": 40,
     "metadata": {},
     "output_type": "execute_result"
    }
   ],
   "source": [
    "# The names of the columns are f0, f1, f2, etc\n",
    "b.dtype"
   ]
  },
  {
   "cell_type": "markdown",
   "metadata": {},
   "source": [
    "### Using numpy genfromtxt"
   ]
  },
  {
   "cell_type": "markdown",
   "metadata": {},
   "source": [
    "http://docs.scipy.org/doc/numpy/reference/generated/numpy.genfromtxt.html"
   ]
  },
  {
   "cell_type": "code",
   "execution_count": 41,
   "metadata": {
    "collapsed": false,
    "jupyter": {
     "outputs_hidden": false
    }
   },
   "outputs": [
    {
     "name": "stderr",
     "output_type": "stream",
     "text": [
      "/Users/christophemorisset/anaconda3/lib/python3.7/site-packages/ipykernel_launcher.py:4: VisibleDeprecationWarning: Reading unicode strings without specifying the encoding argument is deprecated. Set the encoding, use None for the system default.\n",
      "  after removing the cwd from sys.path.\n"
     ]
    }
   ],
   "source": [
    "# Fast and versatile way to read the file\n",
    "# the names are taken from the file\n",
    "# The types are defined automatically when reading the columns\n",
    "c = np.genfromtxt('data2.dat', names=True, dtype=None, skip_header=1)"
   ]
  },
  {
   "cell_type": "code",
   "execution_count": 42,
   "metadata": {
    "collapsed": false,
    "jupyter": {
     "outputs_hidden": false
    }
   },
   "outputs": [
    {
     "name": "stdout",
     "output_type": "stream",
     "text": [
      "[(1,  2.3, 6, 8, b'star') (2,  3.5, 7, 9, b'galaxy')\n",
      " (3, -4.2, 5, 7, b'cluster')]\n"
     ]
    }
   ],
   "source": [
    "print(c)"
   ]
  },
  {
   "cell_type": "code",
   "execution_count": 43,
   "metadata": {
    "collapsed": false,
    "jupyter": {
     "outputs_hidden": false
    }
   },
   "outputs": [
    {
     "data": {
      "text/plain": [
       "numpy.ndarray"
      ]
     },
     "execution_count": 43,
     "metadata": {},
     "output_type": "execute_result"
    }
   ],
   "source": [
    "type(c)"
   ]
  },
  {
   "cell_type": "code",
   "execution_count": 44,
   "metadata": {
    "collapsed": false,
    "jupyter": {
     "outputs_hidden": false
    }
   },
   "outputs": [
    {
     "data": {
      "text/plain": [
       "dtype([('N', '<i8'), ('f', '<f8'), ('x', '<i8'), ('y', '<i8'), ('type', 'S7')])"
      ]
     },
     "execution_count": 44,
     "metadata": {},
     "output_type": "execute_result"
    }
   ],
   "source": [
    "c.dtype"
   ]
  },
  {
   "cell_type": "code",
   "execution_count": 45,
   "metadata": {
    "collapsed": false,
    "jupyter": {
     "outputs_hidden": false
    }
   },
   "outputs": [
    {
     "data": {
      "text/plain": [
       "array([ 2.3,  3.5, -4.2])"
      ]
     },
     "execution_count": 45,
     "metadata": {},
     "output_type": "execute_result"
    }
   ],
   "source": [
    "c['f']"
   ]
  },
  {
   "cell_type": "markdown",
   "metadata": {},
   "source": [
    "Now a value of x is missing (not possible with space separator, so we use \",\" as separator):"
   ]
  },
  {
   "cell_type": "code",
   "execution_count": 47,
   "metadata": {
    "collapsed": false,
    "jupyter": {
     "outputs_hidden": false
    }
   },
   "outputs": [
    {
     "name": "stdout",
     "output_type": "stream",
     "text": [
      "Overwriting data3.dat\n"
     ]
    }
   ],
   "source": [
    "%%writefile data3.dat\n",
    "# The following data are for test purpose\n",
    "N,    f,   x,   y, type\n",
    "1,   2.3,  6,   8, star\n",
    "2,   3000.5,   ,  9, galaxy\n",
    "3,  -4.2,  5,   7, cluster\n",
    "#4,  -10.5,  5,  7, test"
   ]
  },
  {
   "cell_type": "code",
   "execution_count": 48,
   "metadata": {
    "collapsed": false,
    "jupyter": {
     "outputs_hidden": false
    }
   },
   "outputs": [
    {
     "name": "stderr",
     "output_type": "stream",
     "text": [
      "/Users/christophemorisset/anaconda3/lib/python3.7/site-packages/ipykernel_launcher.py:2: VisibleDeprecationWarning: Reading unicode strings without specifying the encoding argument is deprecated. Set the encoding, use None for the system default.\n",
      "  \n"
     ]
    }
   ],
   "source": [
    "d = np.genfromtxt('data3.dat', names=True, dtype=None, skip_header=1, \n",
    "                  delimiter=',')"
   ]
  },
  {
   "cell_type": "code",
   "execution_count": 49,
   "metadata": {
    "collapsed": false,
    "jupyter": {
     "outputs_hidden": false
    }
   },
   "outputs": [
    {
     "data": {
      "text/plain": [
       "array([(1,  2.3000e+00,  6, 8, b' star'),\n",
       "       (2,  3.0005e+03, -1, 9, b' galaxy'),\n",
       "       (3, -4.2000e+00,  5, 7, b' cluster')],\n",
       "      dtype=[('N', '<i8'), ('f', '<f8'), ('x', '<i8'), ('y', '<i8'), ('type', 'S8')])"
      ]
     },
     "execution_count": 49,
     "metadata": {},
     "output_type": "execute_result"
    }
   ],
   "source": [
    "# The missing value has been changed to -1\n",
    "d"
   ]
  },
  {
   "cell_type": "code",
   "execution_count": 52,
   "metadata": {
    "collapsed": false,
    "jupyter": {
     "outputs_hidden": false
    }
   },
   "outputs": [
    {
     "name": "stderr",
     "output_type": "stream",
     "text": [
      "/Users/christophemorisset/anaconda3/lib/python3.7/site-packages/ipykernel_launcher.py:3: VisibleDeprecationWarning: Reading unicode strings without specifying the encoding argument is deprecated. Set the encoding, use None for the system default.\n",
      "  This is separate from the ipykernel package so we can avoid doing imports until\n"
     ]
    }
   ],
   "source": [
    "# Th emissing value can be set to whatever you want (but non a NaN here, as the typ eis integer, and NaN is a float...)\n",
    "d = np.genfromtxt('data3.dat', names=True, dtype=None, skip_header=1, delimiter=',', \n",
    "                  filling_values=999)"
   ]
  },
  {
   "cell_type": "code",
   "execution_count": 53,
   "metadata": {
    "collapsed": false,
    "jupyter": {
     "outputs_hidden": false
    }
   },
   "outputs": [
    {
     "data": {
      "text/plain": [
       "999"
      ]
     },
     "execution_count": 53,
     "metadata": {},
     "output_type": "execute_result"
    }
   ],
   "source": [
    "d['x'][1]"
   ]
  },
  {
   "cell_type": "code",
   "execution_count": 54,
   "metadata": {
    "collapsed": false,
    "jupyter": {
     "outputs_hidden": false
    }
   },
   "outputs": [
    {
     "name": "stderr",
     "output_type": "stream",
     "text": [
      "/Users/christophemorisset/anaconda3/lib/python3.7/site-packages/ipykernel_launcher.py:3: VisibleDeprecationWarning: Reading unicode strings without specifying the encoding argument is deprecated. Set the encoding, use None for the system default.\n",
      "  This is separate from the ipykernel package so we can avoid doing imports until\n"
     ]
    }
   ],
   "source": [
    "# ons can select the columns to be store\n",
    "e = np.genfromtxt('data3.dat', names=True, dtype=None, skip_header=1, \n",
    "                  delimiter=',',usecols=(0,1,4))"
   ]
  },
  {
   "cell_type": "code",
   "execution_count": 55,
   "metadata": {
    "collapsed": false,
    "jupyter": {
     "outputs_hidden": false
    }
   },
   "outputs": [
    {
     "name": "stdout",
     "output_type": "stream",
     "text": [
      "[(1,  2.3000e+00, b' star') (2,  3.0005e+03, b' galaxy')\n",
      " (3, -4.2000e+00, b' cluster')]\n"
     ]
    }
   ],
   "source": [
    "print(e)"
   ]
  },
  {
   "cell_type": "code",
   "execution_count": 60,
   "metadata": {},
   "outputs": [],
   "source": [
    "# ons can select the columns to be store\n",
    "N, f, typ = np.genfromtxt('data3.dat', skip_header=2, \n",
    "                  delimiter=',',usecols=(0,1,4), unpack=True)"
   ]
  },
  {
   "cell_type": "code",
   "execution_count": 61,
   "metadata": {
    "collapsed": false,
    "jupyter": {
     "outputs_hidden": false
    }
   },
   "outputs": [
    {
     "name": "stdout",
     "output_type": "stream",
     "text": [
      "[1. 2. 3.]\n",
      "[ 2.3000e+00  3.0005e+03 -4.2000e+00]\n"
     ]
    }
   ],
   "source": [
    "# The resulting array now contains only the given columns\n",
    "print(N)\n",
    "print(f)"
   ]
  },
  {
   "cell_type": "markdown",
   "metadata": {},
   "source": [
    "### Using recfrom to obtain a record array"
   ]
  },
  {
   "cell_type": "code",
   "execution_count": 62,
   "metadata": {
    "collapsed": false,
    "jupyter": {
     "outputs_hidden": false
    }
   },
   "outputs": [
    {
     "name": "stderr",
     "output_type": "stream",
     "text": [
      "/Users/christophemorisset/anaconda3/lib/python3.7/site-packages/numpy/lib/npyio.py:2336: VisibleDeprecationWarning: Reading unicode strings without specifying the encoding argument is deprecated. Set the encoding, use None for the system default.\n",
      "  output = genfromtxt(fname, **kwargs)\n"
     ]
    }
   ],
   "source": [
    "# Uses the same keywords than genfromtxt\n",
    "f = np.recfromtxt('data3.dat', names=True, dtype=None, skip_header=1, \n",
    "                  delimiter=',',usecols=(\"N\", \"f\", \"type\"))"
   ]
  },
  {
   "cell_type": "code",
   "execution_count": 63,
   "metadata": {
    "collapsed": false,
    "jupyter": {
     "outputs_hidden": false
    }
   },
   "outputs": [
    {
     "data": {
      "text/plain": [
       "rec.array([(1,  2.3000e+00, b' star'), (2,  3.0005e+03, b' galaxy'),\n",
       "           (3, -4.2000e+00, b' cluster')],\n",
       "          dtype=[('N', '<i8'), ('f', '<f8'), ('type', 'S8')])"
      ]
     },
     "execution_count": 63,
     "metadata": {},
     "output_type": "execute_result"
    }
   ],
   "source": [
    "f"
   ]
  },
  {
   "cell_type": "code",
   "execution_count": 64,
   "metadata": {
    "collapsed": false,
    "jupyter": {
     "outputs_hidden": false
    }
   },
   "outputs": [
    {
     "data": {
      "text/plain": [
       "array([1, 2, 3])"
      ]
     },
     "execution_count": 64,
     "metadata": {},
     "output_type": "execute_result"
    }
   ],
   "source": [
    "f.N"
   ]
  },
  {
   "cell_type": "markdown",
   "metadata": {},
   "source": [
    "## Fixed size ascii files"
   ]
  },
  {
   "cell_type": "code",
   "execution_count": 65,
   "metadata": {
    "collapsed": false,
    "jupyter": {
     "outputs_hidden": false
    }
   },
   "outputs": [
    {
     "name": "stdout",
     "output_type": "stream",
     "text": [
      "Overwriting data4.dat\n"
     ]
    }
   ],
   "source": [
    "%%writefile data4.dat\n",
    "#  Line      Iobs    lambda  relat_error Obs_code\n",
    "H  1  4861A 1.00000    4861. 0.08000  Anabel                               \n",
    "H  1  6563A 2.8667     6563. 0.19467  Anabel                               \n",
    "H  1  4340A 0.4933     4340. 0.03307  Anabel                               \n",
    "H  1  4102A 0.2907     4102. 0.02229  Anabel                               \n",
    "H  1  3970A 0.1800     3970. 0.01253  Anabel                               \n",
    "N  2  6584A 2.1681     6584. 0.08686  Anabel                               \n",
    "N  2 121.7m 0.0044621217000. 0.20000  Liu                                  \n",
    "O  1  6300A 0.0147     6300. 0.00325  Anabel                               \n",
    "TOTL  2326A 0.07900    2326. 0.20000  Adams                                \n",
    "C  2 157.6m 0.00856 1576000. 0.20000  Liu                                  \n",
    "O  1 63.17m 0.13647  631700. 0.10000  Liu                                  \n",
    "O  1 145.5m 0.00446 1455000. 0.200    Liu                                  \n",
    "TOTL  3727A 0.77609    3727. 0.200    Torres-Peimbert                      \n",
    "S II  4070A 0.06174    4070. 0.200    Torres-Peimbert                      \n",
    "S II  4078A 0.06174    4078. 0.200    Torres-Peimbert                      "
   ]
  },
  {
   "cell_type": "code",
   "execution_count": 76,
   "metadata": {
    "collapsed": false,
    "jupyter": {
     "outputs_hidden": false
    }
   },
   "outputs": [],
   "source": [
    "# Here we cannot use SPACE as a separator, as some strings contains spaces.\n",
    "# \"delimiter\" is used to specify the size (in characters in the file) of each variables. \n",
    "# The types must be clearly defined too.\n",
    "obs  = np.genfromtxt('data4.dat', \n",
    "                     dtype=[\"U11\",\"float\",\"float\",\"float\",\"U2\"],\n",
    "                     delimiter=[11,9,8,10,2],\n",
    "                     names = True\n",
    "                     )"
   ]
  },
  {
   "cell_type": "code",
   "execution_count": 77,
   "metadata": {
    "collapsed": false,
    "jupyter": {
     "outputs_hidden": false
    }
   },
   "outputs": [
    {
     "data": {
      "text/plain": [
       "array([('H  1  4861A', 1.      ,    4861., 0.08   , 'An'),\n",
       "       ('H  1  6563A', 2.8667  ,    6563., 0.19467, 'An'),\n",
       "       ('H  1  4340A', 0.4933  ,    4340., 0.03307, 'An'),\n",
       "       ('H  1  4102A', 0.2907  ,    4102., 0.02229, 'An'),\n",
       "       ('H  1  3970A', 0.18    ,    3970., 0.01253, 'An'),\n",
       "       ('N  2  6584A', 2.1681  ,    6584., 0.08686, 'An'),\n",
       "       ('N  2 121.7m', 0.004462, 1217000., 0.2    , 'Li'),\n",
       "       ('O  1  6300A', 0.0147  ,    6300., 0.00325, 'An'),\n",
       "       ('TOTL  2326A', 0.079   ,    2326., 0.2    , 'Ad'),\n",
       "       ('C  2 157.6m', 0.00856 , 1576000., 0.2    , 'Li'),\n",
       "       ('O  1 63.17m', 0.13647 ,  631700., 0.1    , 'Li'),\n",
       "       ('O  1 145.5m', 0.00446 , 1455000., 0.2    , 'Li'),\n",
       "       ('TOTL  3727A', 0.77609 ,    3727., 0.2    , 'To'),\n",
       "       ('S II  4070A', 0.06174 ,    4070., 0.2    , 'To'),\n",
       "       ('S II  4078A', 0.06174 ,    4078., 0.2    , 'To')],\n",
       "      dtype=[('Line', '<U11'), ('Iobs', '<f8'), ('lambda', '<f8'), ('relat_erro', '<f8'), ('r', '<U2')])"
      ]
     },
     "execution_count": 77,
     "metadata": {},
     "output_type": "execute_result"
    }
   ],
   "source": [
    "obs # The same delimiter (fixed sizes) is applied to the names. May not be what you want:"
   ]
  },
  {
   "cell_type": "code",
   "execution_count": 78,
   "metadata": {
    "collapsed": false,
    "jupyter": {
     "outputs_hidden": false
    }
   },
   "outputs": [
    {
     "name": "stderr",
     "output_type": "stream",
     "text": [
      "/Users/christophemorisset/anaconda3/lib/python3.7/site-packages/ipykernel_launcher.py:5: VisibleDeprecationWarning: Reading unicode strings without specifying the encoding argument is deprecated. Set the encoding, use None for the system default.\n",
      "  \"\"\"\n"
     ]
    }
   ],
   "source": [
    "# Defining the names:\n",
    "obs2  = np.genfromtxt('data4.dat', skip_header=1,\n",
    "                     dtype=None,\n",
    "                     delimiter=[11,9,8,10,2],\n",
    "                     names = ['label', 'i_obs', 'lambda', 'e_obs', 'observer']\n",
    "                     )"
   ]
  },
  {
   "cell_type": "code",
   "execution_count": 79,
   "metadata": {
    "collapsed": false,
    "jupyter": {
     "outputs_hidden": false
    }
   },
   "outputs": [
    {
     "data": {
      "text/plain": [
       "array([(b'H  1  4861A', 1.      ,    4861., 0.08   , b'An'),\n",
       "       (b'H  1  6563A', 2.8667  ,    6563., 0.19467, b'An'),\n",
       "       (b'H  1  4340A', 0.4933  ,    4340., 0.03307, b'An'),\n",
       "       (b'H  1  4102A', 0.2907  ,    4102., 0.02229, b'An'),\n",
       "       (b'H  1  3970A', 0.18    ,    3970., 0.01253, b'An'),\n",
       "       (b'N  2  6584A', 2.1681  ,    6584., 0.08686, b'An'),\n",
       "       (b'N  2 121.7m', 0.004462, 1217000., 0.2    , b'Li'),\n",
       "       (b'O  1  6300A', 0.0147  ,    6300., 0.00325, b'An'),\n",
       "       (b'TOTL  2326A', 0.079   ,    2326., 0.2    , b'Ad'),\n",
       "       (b'C  2 157.6m', 0.00856 , 1576000., 0.2    , b'Li'),\n",
       "       (b'O  1 63.17m', 0.13647 ,  631700., 0.1    , b'Li'),\n",
       "       (b'O  1 145.5m', 0.00446 , 1455000., 0.2    , b'Li'),\n",
       "       (b'TOTL  3727A', 0.77609 ,    3727., 0.2    , b'To'),\n",
       "       (b'S II  4070A', 0.06174 ,    4070., 0.2    , b'To'),\n",
       "       (b'S II  4078A', 0.06174 ,    4078., 0.2    , b'To')],\n",
       "      dtype=[('label', 'S11'), ('i_obs', '<f8'), ('lambda', '<f8'), ('e_obs', '<f8'), ('observer', 'S2')])"
      ]
     },
     "execution_count": 79,
     "metadata": {},
     "output_type": "execute_result"
    }
   ],
   "source": [
    "obs2 "
   ]
  },
  {
   "cell_type": "code",
   "execution_count": 80,
   "metadata": {
    "collapsed": false,
    "jupyter": {
     "outputs_hidden": false
    }
   },
   "outputs": [
    {
     "name": "stdout",
     "output_type": "stream",
     "text": [
      "Overwriting data5.dat\n"
     ]
    }
   ],
   "source": [
    "%%writefile data5.dat\n",
    "#  Line      Iobs    lambda  relat_error Obs_code\n",
    "H  1  4861A 1.00000    4861. 0.08000 x Anabel                               \n",
    "H  1  6563A 2.8667     6563. 0.19467 x Anabel                               \n",
    "H  1  4340A 0.4933     4340. 0.03307 x Anabel                               \n",
    "H  1  4102A 0.2907     4102. 0.02229 x Anabel                               \n",
    "H  1  3970A 0.1800     3970. 0.01253 t Anabel                               \n",
    "N  2  6584A 2.1681           0.08686 x Anabel                               \n",
    "N  2 121.7m 0.00446 1217000. 0.20000 g Liu                                  \n",
    "O  1  6300A 0.0147     6300. 0.00325 t Anabel                               \n",
    "TOTL  2326A 0.07900    2326. 0.20000 g Adams                                \n",
    "C  2 157.6m 0.00856 1576000. 0.20000 t Liu                                  \n",
    "O  1 63.17m 0.13647  631700. 0.10000 g Liu                                  \n",
    "O  1 145.5m 0.00446 1455000. 0.200   g Liu                                  \n",
    "TOTL  3727A 0.77609    3727. 0.200   g Torres-Peimbert                      \n",
    "S II  4070A 0.06174    4070. 0.200   g Torres-Peimbert                      \n",
    "S II  4078A 0.06174    4078. 0.200   g Torres-Peimbert   "
   ]
  },
  {
   "cell_type": "code",
   "execution_count": 81,
   "metadata": {
    "collapsed": false,
    "jupyter": {
     "outputs_hidden": false
    }
   },
   "outputs": [
    {
     "name": "stderr",
     "output_type": "stream",
     "text": [
      "/Users/christophemorisset/anaconda3/lib/python3.7/site-packages/ipykernel_launcher.py:6: VisibleDeprecationWarning: Reading unicode strings without specifying the encoding argument is deprecated. Set the encoding, use None for the system default.\n",
      "  \n"
     ]
    }
   ],
   "source": [
    "# Here we want to skip one column:\n",
    "obs3  = np.genfromtxt('data5.dat', skip_header=1,\n",
    "                     dtype=None,\n",
    "                     delimiter=[11, 8, 9, 9, 2, 2],\n",
    "                     names = ['label', 'i_obs', 'lambda', 'e_obs', 'na', 'observer'],\n",
    "                     usecols = (0, 1, 2, 3, 5)\n",
    "                     )"
   ]
  },
  {
   "cell_type": "code",
   "execution_count": 82,
   "metadata": {
    "collapsed": false,
    "jupyter": {
     "outputs_hidden": false
    }
   },
   "outputs": [
    {
     "data": {
      "text/plain": [
       "array([(b'H  1  4861A', 1.     ,    4861., 0.08   , b'An'),\n",
       "       (b'H  1  6563A', 2.8667 ,    6563., 0.19467, b'An'),\n",
       "       (b'H  1  4340A', 0.4933 ,    4340., 0.03307, b'An'),\n",
       "       (b'H  1  4102A', 0.2907 ,    4102., 0.02229, b'An'),\n",
       "       (b'H  1  3970A', 0.18   ,    3970., 0.01253, b'An'),\n",
       "       (b'N  2  6584A', 2.1681 ,      nan, 0.08686, b'An'),\n",
       "       (b'N  2 121.7m', 0.00446, 1217000., 0.2    , b'Li'),\n",
       "       (b'O  1  6300A', 0.0147 ,    6300., 0.00325, b'An'),\n",
       "       (b'TOTL  2326A', 0.079  ,    2326., 0.2    , b'Ad'),\n",
       "       (b'C  2 157.6m', 0.00856, 1576000., 0.2    , b'Li'),\n",
       "       (b'O  1 63.17m', 0.13647,  631700., 0.1    , b'Li'),\n",
       "       (b'O  1 145.5m', 0.00446, 1455000., 0.2    , b'Li'),\n",
       "       (b'TOTL  3727A', 0.77609,    3727., 0.2    , b'To'),\n",
       "       (b'S II  4070A', 0.06174,    4070., 0.2    , b'To'),\n",
       "       (b'S II  4078A', 0.06174,    4078., 0.2    , b'To')],\n",
       "      dtype=[('label', 'S11'), ('i_obs', '<f8'), ('lambda', '<f8'), ('e_obs', '<f8'), ('observer', 'S2')])"
      ]
     },
     "execution_count": 82,
     "metadata": {},
     "output_type": "execute_result"
    }
   ],
   "source": [
    "obs3"
   ]
  },
  {
   "cell_type": "code",
   "execution_count": 83,
   "metadata": {
    "collapsed": false,
    "jupyter": {
     "outputs_hidden": false
    }
   },
   "outputs": [
    {
     "data": {
      "text/plain": [
       "array([   4861.,    6563.,    4340.,    4102.,    3970.,      nan,\n",
       "       1217000.,    6300.,    2326., 1576000.,  631700., 1455000.,\n",
       "          3727.,    4070.,    4078.])"
      ]
     },
     "execution_count": 83,
     "metadata": {},
     "output_type": "execute_result"
    }
   ],
   "source": [
    "obs3['lambda']"
   ]
  },
  {
   "cell_type": "code",
   "execution_count": 84,
   "metadata": {
    "collapsed": false,
    "jupyter": {
     "outputs_hidden": false
    }
   },
   "outputs": [],
   "source": [
    "new_obs3 = obs3.view(np.recarray)"
   ]
  },
  {
   "cell_type": "code",
   "execution_count": 85,
   "metadata": {
    "collapsed": false,
    "jupyter": {
     "outputs_hidden": false
    }
   },
   "outputs": [
    {
     "data": {
      "text/plain": [
       "array([b'H  1  4861A', b'H  1  6563A', b'H  1  4340A', b'H  1  4102A',\n",
       "       b'H  1  3970A', b'N  2  6584A', b'N  2 121.7m', b'O  1  6300A',\n",
       "       b'TOTL  2326A', b'C  2 157.6m', b'O  1 63.17m', b'O  1 145.5m',\n",
       "       b'TOTL  3727A', b'S II  4070A', b'S II  4078A'], dtype='|S11')"
      ]
     },
     "execution_count": 85,
     "metadata": {},
     "output_type": "execute_result"
    }
   ],
   "source": [
    "new_obs3.label"
   ]
  },
  {
   "cell_type": "code",
   "execution_count": 86,
   "metadata": {
    "collapsed": false,
    "jupyter": {
     "outputs_hidden": false
    }
   },
   "outputs": [
    {
     "ename": "SyntaxError",
     "evalue": "invalid syntax (<ipython-input-86-ed3c65ebb4cc>, line 1)",
     "output_type": "error",
     "traceback": [
      "\u001b[0;36m  File \u001b[0;32m\"<ipython-input-86-ed3c65ebb4cc>\"\u001b[0;36m, line \u001b[0;32m1\u001b[0m\n\u001b[0;31m    new_obs3.lambda # lambda is reserved!!!\u001b[0m\n\u001b[0m                  ^\u001b[0m\n\u001b[0;31mSyntaxError\u001b[0m\u001b[0;31m:\u001b[0m invalid syntax\n"
     ]
    }
   ],
   "source": [
    "new_obs3.lambda # lambda is reserved!!!"
   ]
  },
  {
   "cell_type": "code",
   "execution_count": 87,
   "metadata": {
    "collapsed": false,
    "jupyter": {
     "outputs_hidden": false
    }
   },
   "outputs": [
    {
     "data": {
      "text/plain": [
       "array([   4861.,    6563.,    4340.,    4102.,    3970.,      nan,\n",
       "       1217000.,    6300.,    2326., 1576000.,  631700., 1455000.,\n",
       "          3727.,    4070.,    4078.])"
      ]
     },
     "execution_count": 87,
     "metadata": {},
     "output_type": "execute_result"
    }
   ],
   "source": [
    "new_obs3['lambda']"
   ]
  },
  {
   "cell_type": "markdown",
   "metadata": {},
   "source": [
    "Using masks on the structured array."
   ]
  },
  {
   "cell_type": "code",
   "execution_count": 88,
   "metadata": {
    "collapsed": false,
    "jupyter": {
     "outputs_hidden": false
    }
   },
   "outputs": [
    {
     "name": "stdout",
     "output_type": "stream",
     "text": [
      "[(b'H  1  4861A', 1.    , 4861., 0.08   , b'An')\n",
      " (b'H  1  6563A', 2.8667, 6563., 0.19467, b'An')\n",
      " (b'H  1  4340A', 0.4933, 4340., 0.03307, b'An')\n",
      " (b'H  1  4102A', 0.2907, 4102., 0.02229, b'An')\n",
      " (b'H  1  3970A', 0.18  , 3970., 0.01253, b'An')\n",
      " (b'O  1  6300A', 0.0147, 6300., 0.00325, b'An')]\n"
     ]
    }
   ],
   "source": [
    "mask_observer = (obs3['observer'] == b'An') & (np.isfinite(obs3['lambda']))\n",
    "print(obs3[mask_observer])"
   ]
  },
  {
   "cell_type": "code",
   "execution_count": 89,
   "metadata": {
    "collapsed": false,
    "jupyter": {
     "outputs_hidden": false
    }
   },
   "outputs": [
    {
     "name": "stdout",
     "output_type": "stream",
     "text": [
      "line b'H  1  4861A', wavelength=4861.0A Intensity=1.000+/- 8.0%)\n",
      "line b'H  1  6563A', wavelength=6563.0A Intensity=2.867+/-19.5%)\n",
      "line b'H  1  4340A', wavelength=4340.0A Intensity=0.493+/- 3.3%)\n",
      "line b'H  1  4102A', wavelength=4102.0A Intensity=0.291+/- 2.2%)\n",
      "line b'H  1  3970A', wavelength=3970.0A Intensity=0.180+/- 1.3%)\n",
      "line b'O  1  6300A', wavelength=6300.0A Intensity=0.015+/- 0.3%)\n"
     ]
    }
   ],
   "source": [
    "for o in obs3[mask_observer]:\n",
    "    print('line {0[label]:4s}, wavelength={0[lambda]}A Intensity={0[i_obs]:5.3f}+/-{1:4.1f}%)'.format(o, o['e_obs']*100))"
   ]
  },
  {
   "cell_type": "markdown",
   "metadata": {},
   "source": [
    "## Writing files"
   ]
  },
  {
   "cell_type": "markdown",
   "metadata": {},
   "source": [
    "### Simple \"write\" method from \"open\" class"
   ]
  },
  {
   "cell_type": "code",
   "execution_count": 94,
   "metadata": {
    "collapsed": false,
    "jupyter": {
     "outputs_hidden": false
    }
   },
   "outputs": [],
   "source": [
    "f = open('data10.dat', 'w')"
   ]
  },
  {
   "cell_type": "code",
   "execution_count": 95,
   "metadata": {
    "collapsed": false,
    "jupyter": {
     "outputs_hidden": false
    }
   },
   "outputs": [
    {
     "data": {
      "text/plain": [
       "7"
      ]
     },
     "execution_count": 95,
     "metadata": {},
     "output_type": "execute_result"
    }
   ],
   "source": [
    "f.write('tralala')\n",
    "f.write('trololo')"
   ]
  },
  {
   "cell_type": "code",
   "execution_count": 97,
   "metadata": {},
   "outputs": [],
   "source": [
    "!cat 'data10.dat' # the writing method put everything together."
   ]
  },
  {
   "cell_type": "code",
   "execution_count": 98,
   "metadata": {
    "collapsed": false,
    "jupyter": {
     "outputs_hidden": false
    }
   },
   "outputs": [],
   "source": [
    "f.close()"
   ]
  },
  {
   "cell_type": "code",
   "execution_count": 99,
   "metadata": {
    "collapsed": false,
    "jupyter": {
     "outputs_hidden": false
    }
   },
   "outputs": [
    {
     "name": "stdout",
     "output_type": "stream",
     "text": [
      "tralalatrololo"
     ]
    }
   ],
   "source": [
    "!cat 'data10.dat' # the writing method put everything together."
   ]
  },
  {
   "cell_type": "code",
   "execution_count": 100,
   "metadata": {
    "collapsed": false,
    "jupyter": {
     "outputs_hidden": false
    }
   },
   "outputs": [
    {
     "name": "stdout",
     "output_type": "stream",
     "text": [
      "tralala\n",
      "trololo\n"
     ]
    }
   ],
   "source": [
    "f = open('data11.dat', 'w')\n",
    "f.write('tralala\\n') # \\n to indicate end of line\n",
    "f.write('trololo\\n')\n",
    "f.close()\n",
    "!cat 'data11.dat'"
   ]
  },
  {
   "cell_type": "code",
   "execution_count": 101,
   "metadata": {
    "collapsed": false,
    "jupyter": {
     "outputs_hidden": false
    }
   },
   "outputs": [
    {
     "name": "stdout",
     "output_type": "stream",
     "text": [
      "tralala\n",
      "trololo\n",
      "trilili\n",
      "trululu\n"
     ]
    }
   ],
   "source": [
    "f = open('data11.dat', 'a') # Append to the edn of the file\n",
    "f.write('trilili\\n') # \\n to indicate end of line\n",
    "f.write('trululu\\n')\n",
    "f.close()\n",
    "!cat 'data11.dat'"
   ]
  },
  {
   "cell_type": "code",
   "execution_count": 102,
   "metadata": {
    "collapsed": false,
    "jupyter": {
     "outputs_hidden": false
    },
    "scrolled": true
   },
   "outputs": [
    {
     "name": "stdout",
     "output_type": "stream",
     "text": [
      "Hola Sr. Smith\n",
      "This is a file\n",
      "with a lot of lines.\n",
      "It is easy to write it.\n",
      "The value of your data is 3.\n"
     ]
    }
   ],
   "source": [
    "a = 'Smith'\n",
    "b = 3\n",
    "with open('data12.dat', 'w') as datafile:\n",
    "    datafile.write(\"\"\"Hola Sr. {0}\n",
    "This is a file\n",
    "with a lot of lines.\n",
    "It is easy to write it.\n",
    "The value of your data is {1}.\n",
    "\"\"\".format(a, b))\n",
    "!cat \"data12.dat\""
   ]
  },
  {
   "cell_type": "markdown",
   "metadata": {},
   "source": [
    "### Using pickle (and cpickle) python specific format"
   ]
  },
  {
   "cell_type": "code",
   "execution_count": 103,
   "metadata": {
    "collapsed": false,
    "jupyter": {
     "outputs_hidden": false
    }
   },
   "outputs": [],
   "source": [
    "# Let's define some stuffs we want to keep in a file (data and variable names)\n",
    "a = 5\n",
    "b = 'Hola'\n",
    "c = np.array([1,2,3,4,5])\n",
    "def d(x):\n",
    "    \"\"\" Function mia\"\"\"\n",
    "    return x**2"
   ]
  },
  {
   "cell_type": "code",
   "execution_count": 104,
   "metadata": {
    "collapsed": false,
    "jupyter": {
     "outputs_hidden": false
    }
   },
   "outputs": [],
   "source": [
    "import pickle # The module we will use for this"
   ]
  },
  {
   "cell_type": "code",
   "execution_count": 105,
   "metadata": {
    "collapsed": false,
    "jupyter": {
     "outputs_hidden": false
    }
   },
   "outputs": [],
   "source": [
    "pickle.dump((a,b,c,d), open('Demo.pickle','wb')) # Writing the variables"
   ]
  },
  {
   "cell_type": "code",
   "execution_count": 106,
   "metadata": {
    "collapsed": false,
    "jupyter": {
     "outputs_hidden": false
    }
   },
   "outputs": [],
   "source": [
    "res = pickle.load(open('Demo.pickle', 'rb'))"
   ]
  },
  {
   "cell_type": "code",
   "execution_count": 107,
   "metadata": {
    "collapsed": false,
    "jupyter": {
     "outputs_hidden": false
    }
   },
   "outputs": [
    {
     "data": {
      "text/plain": [
       "tuple"
      ]
     },
     "execution_count": 107,
     "metadata": {},
     "output_type": "execute_result"
    }
   ],
   "source": [
    "type(res)"
   ]
  },
  {
   "cell_type": "code",
   "execution_count": 108,
   "metadata": {
    "collapsed": false,
    "jupyter": {
     "outputs_hidden": false
    }
   },
   "outputs": [
    {
     "name": "stdout",
     "output_type": "stream",
     "text": [
      "5\n",
      "Hola\n",
      "[1 2 3 4 5]\n"
     ]
    }
   ],
   "source": [
    "print(res[0])\n",
    "print(res[1])\n",
    "print(res[2])"
   ]
  },
  {
   "cell_type": "code",
   "execution_count": 109,
   "metadata": {
    "collapsed": false,
    "jupyter": {
     "outputs_hidden": false
    }
   },
   "outputs": [
    {
     "data": {
      "text/plain": [
       "25"
      ]
     },
     "execution_count": 109,
     "metadata": {},
     "output_type": "execute_result"
    }
   ],
   "source": [
    "res[3](5)"
   ]
  },
  {
   "cell_type": "code",
   "execution_count": 110,
   "metadata": {
    "collapsed": false,
    "jupyter": {
     "outputs_hidden": false
    }
   },
   "outputs": [],
   "source": [
    "a2,b2,c2,d2 = pickle.load(open('Demo.pickle', 'rb'))"
   ]
  },
  {
   "cell_type": "code",
   "execution_count": 111,
   "metadata": {
    "collapsed": false,
    "jupyter": {
     "outputs_hidden": false
    }
   },
   "outputs": [
    {
     "data": {
      "text/plain": [
       "5"
      ]
     },
     "execution_count": 111,
     "metadata": {},
     "output_type": "execute_result"
    }
   ],
   "source": [
    "a2"
   ]
  },
  {
   "cell_type": "code",
   "execution_count": 112,
   "metadata": {
    "collapsed": false,
    "jupyter": {
     "outputs_hidden": false
    }
   },
   "outputs": [
    {
     "data": {
      "text/plain": [
       "100"
      ]
     },
     "execution_count": 112,
     "metadata": {},
     "output_type": "execute_result"
    }
   ],
   "source": [
    "d2(10)"
   ]
  },
  {
   "cell_type": "code",
   "execution_count": 113,
   "metadata": {
    "collapsed": false,
    "jupyter": {
     "outputs_hidden": false
    }
   },
   "outputs": [
    {
     "name": "stdout",
     "output_type": "stream",
     "text": [
      "Help on function d in module __main__:\n",
      "\n",
      "d(x)\n",
      "    Function mia\n",
      "\n"
     ]
    }
   ],
   "source": [
    "help(d2)"
   ]
  },
  {
   "cell_type": "code",
   "execution_count": 114,
   "metadata": {
    "collapsed": false,
    "jupyter": {
     "outputs_hidden": false
    }
   },
   "outputs": [
    {
     "name": "stdout",
     "output_type": "stream",
     "text": [
      "40.6 µs ± 2.11 µs per loop (mean ± std. dev. of 7 runs, 10000 loops each)\n"
     ]
    }
   ],
   "source": [
    "%timeit res = pickle.load(open('Demo.pickle', 'rb'))"
   ]
  },
  {
   "cell_type": "code",
   "execution_count": 115,
   "metadata": {
    "collapsed": false,
    "jupyter": {
     "outputs_hidden": false
    }
   },
   "outputs": [],
   "source": [
    "import gzip\n",
    "pickle.dump((a,b,c,d), gzip.open('Demo.pklz','wb')) # Writing the variables"
   ]
  },
  {
   "cell_type": "code",
   "execution_count": 116,
   "metadata": {
    "collapsed": false,
    "jupyter": {
     "outputs_hidden": false
    }
   },
   "outputs": [],
   "source": [
    "f = gzip.open('Demo.pklz','rb')\n",
    "a, b, c, d = pickle.load(f)\n",
    "f.close()"
   ]
  },
  {
   "cell_type": "markdown",
   "metadata": {},
   "source": [
    "### FITS files"
   ]
  },
  {
   "cell_type": "raw",
   "metadata": {},
   "source": [
    "What is the FITS format?\n",
    "The FITS format is the most popular way to save and interchange astronomical data. The files are organized in units each of which contains a human readable header and a data. This structure is refereed as HDUs (Header/DATA Unit). \n",
    "\n",
    "A FITS file can contain one or more HDUs, the first of which is called \"primary\" and the rest are called \"extensions\". The primary HDU usually contains 1D spectrum, 2D image or 3D data cube, although any dimension from 0 to 999 are possible. The data are 1, 2 or 4 bytes integers or 4 or 8 bytes real numbers. \n",
    "\n",
    "The extensions can contain or arrays as in the primary HDU or ascii tables or binary tables. \n",
    "If a FITS file contains only tables, it primary HDU does not contain data, but only header. \n",
    "\n",
    "Both headers and data in a FITS file are organized in blocs of 2880 bytes. The header contain 80 bytes lines each of which consists of a keyword of 8 bytes followed in most of the cases by '= ' in the position 9 and 10 and then the value of the keyword. The rest of the line is a comment string beginning with '/'. Each header begins with the following lines\n",
    "\n",
    "SIMPLE  =                    T / file conforms to FITS standard\n",
    "BITPIX  =                   16 / number of bits per data pixel\n",
    "NAXIS   =                    2 / number of data axes\n",
    "NAXIS1  =                  440 / length of data axis 1\n",
    "NAXIS2  =                  300 / length of data axis 2\n",
    "\n",
    "which defines the format of the file as standard FITS, the data format and the dimensions of the stored data. \n",
    "\n",
    "One block of 2880 bytes contains 36 lines of 80 characters per line. The header can have several blocks of 36 lines. The last block is identified by the presence of the keyword 'END' The next 2880 bytes block contains the first part of the data. The empty lines after 'END' keyword are filled with blanks and the unused bytes from the end of the data to the end of the 2880 bytes block are filled with NULLs.\n"
   ]
  },
  {
   "cell_type": "code",
   "execution_count": 117,
   "metadata": {
    "collapsed": false,
    "jupyter": {
     "outputs_hidden": false
    }
   },
   "outputs": [
    {
     "name": "stdout",
     "output_type": "stream",
     "text": [
      "4.0\n"
     ]
    }
   ],
   "source": [
    "import astropy\n",
    "print(astropy.__version__)"
   ]
  },
  {
   "cell_type": "code",
   "execution_count": 118,
   "metadata": {
    "collapsed": false,
    "jupyter": {
     "outputs_hidden": false
    }
   },
   "outputs": [],
   "source": [
    "from astropy.io import fits"
   ]
  },
  {
   "cell_type": "code",
   "execution_count": null,
   "metadata": {
    "collapsed": false,
    "jupyter": {
     "outputs_hidden": false
    }
   },
   "outputs": [],
   "source": [
    "# All of the functionality of PyFITS is now available in Astropy\n",
    "# from astropy.io import fits as pyfits"
   ]
  },
  {
   "cell_type": "markdown",
   "metadata": {},
   "source": [
    "Manual here: https://pythonhosted.org/pyfits/"
   ]
  },
  {
   "cell_type": "markdown",
   "metadata": {},
   "source": [
    "We will use one FITS files from San Pedro Martir echelle spectrograph. The file can be downloaded from: https://github.com/Morisset/Python-lectures-Notebooks/raw/master/Notebooks/n10017o.fits"
   ]
  },
  {
   "cell_type": "code",
   "execution_count": 119,
   "metadata": {
    "collapsed": false,
    "jupyter": {
     "outputs_hidden": false
    }
   },
   "outputs": [],
   "source": [
    "hdulist = fits.open('n10017o.fits')"
   ]
  },
  {
   "cell_type": "code",
   "execution_count": 120,
   "metadata": {
    "collapsed": false,
    "jupyter": {
     "outputs_hidden": false
    }
   },
   "outputs": [
    {
     "data": {
      "text/plain": [
       "1"
      ]
     },
     "execution_count": 120,
     "metadata": {},
     "output_type": "execute_result"
    }
   ],
   "source": [
    "# The result hdulist is a list of HDU objects. \n",
    "# In the case of a simple file, there is only one primary HDU so the list contains only one element\n",
    "len(hdulist)"
   ]
  },
  {
   "cell_type": "code",
   "execution_count": 121,
   "metadata": {
    "collapsed": false,
    "jupyter": {
     "outputs_hidden": false
    }
   },
   "outputs": [
    {
     "name": "stdout",
     "output_type": "stream",
     "text": [
      "Filename: n10017o.fits\n",
      "No.    Name      Ver    Type      Cards   Dimensions   Format\n",
      "  0  PRIMARY       1 PrimaryHDU      62   (2154, 2048)   int16 (rescales to uint16)   \n"
     ]
    }
   ],
   "source": [
    "# The information on what the file contains can be obtained by calling the info() method:\n",
    "hdulist.info()\n",
    "# The table said that there is only a primary HDU which contains 2154 X 2048 image with data stored in 2 bytes (16 bits) integers."
   ]
  },
  {
   "cell_type": "code",
   "execution_count": 122,
   "metadata": {
    "collapsed": false,
    "jupyter": {
     "outputs_hidden": false
    }
   },
   "outputs": [
    {
     "data": {
      "text/plain": [
       "['SIMPLE',\n",
       " 'BITPIX',\n",
       " 'NAXIS',\n",
       " 'NAXIS1',\n",
       " 'NAXIS2',\n",
       " 'EXTEND',\n",
       " 'COMMENT',\n",
       " 'COMMENT',\n",
       " 'BZERO',\n",
       " 'BSCALE',\n",
       " 'EXPTIME',\n",
       " 'DETECTOR',\n",
       " 'ORIGIN',\n",
       " 'OBSERVAT',\n",
       " 'TELESCOP',\n",
       " 'LATITUDE',\n",
       " 'LONGITUD',\n",
       " 'ALTITUD',\n",
       " 'SECONDAR',\n",
       " 'TIMEZONE',\n",
       " 'OBSERVER',\n",
       " 'OBJECT',\n",
       " 'INSTRUME',\n",
       " 'GAINMODE',\n",
       " 'FILTER',\n",
       " 'IMGTYPE',\n",
       " 'EQUINOX',\n",
       " 'ST',\n",
       " 'UT',\n",
       " 'JD',\n",
       " 'DATE-OBS',\n",
       " 'CCDSUM',\n",
       " 'RA',\n",
       " 'DEC',\n",
       " 'AH',\n",
       " 'AIRMASS',\n",
       " 'TMMIRROR',\n",
       " 'TSMIRROR',\n",
       " 'TAIR',\n",
       " 'XTEMP',\n",
       " 'HUMIDITY',\n",
       " 'ATMOSBAR',\n",
       " 'WIND',\n",
       " 'WDATE',\n",
       " 'DATE',\n",
       " 'NAMPS',\n",
       " 'CCDNAMPS',\n",
       " 'AMPNAME',\n",
       " 'CREATOR',\n",
       " 'VERSION',\n",
       " 'COMMENT',\n",
       " 'COMMENT',\n",
       " 'HISTORY',\n",
       " 'HISTORY',\n",
       " 'HISTORY',\n",
       " 'HISTORY',\n",
       " 'HISTORY',\n",
       " 'HISTORY',\n",
       " 'HISTORY',\n",
       " 'HISTORY',\n",
       " 'HISTORY',\n",
       " 'HISTORY']"
      ]
     },
     "execution_count": 122,
     "metadata": {},
     "output_type": "execute_result"
    }
   ],
   "source": [
    "# As described above, the HDU (header/data unit) contains header and data. The header is a dictionary. \n",
    "# To see what keywords were used in the header one can do:\n",
    "list(hdulist[0].header.keys())"
   ]
  },
  {
   "cell_type": "code",
   "execution_count": 123,
   "metadata": {
    "collapsed": false,
    "jupyter": {
     "outputs_hidden": false
    }
   },
   "outputs": [
    {
     "data": {
      "text/plain": [
       "'107 Psc'"
      ]
     },
     "execution_count": 123,
     "metadata": {},
     "output_type": "execute_result"
    }
   ],
   "source": [
    "# and to get the value of a given keyword :\n",
    "hdulist[0].header['OBJECT'] "
   ]
  },
  {
   "cell_type": "code",
   "execution_count": 124,
   "metadata": {},
   "outputs": [
    {
     "data": {
      "text/plain": [
       "\u001b[0;31mType:\u001b[0m           Header\n",
       "\u001b[0;31mString form:\u001b[0m    SIMPLE  =                    T / conforms to FITS standard                      BITPIX  =         <...>\n",
       "\u001b[0;31mLength:\u001b[0m         62\n",
       "\u001b[0;31mFile:\u001b[0m           ~/anaconda3/lib/python3.7/site-packages/astropy/io/fits/header.py\n",
       "\u001b[0;31mDocstring:\u001b[0m     \n",
       "FITS header class.  This class exposes both a dict-like interface and a\n",
       "list-like interface to FITS headers.\n",
       "\n",
       "The header may be indexed by keyword and, like a dict, the associated value\n",
       "will be returned.  When the header contains cards with duplicate keywords,\n",
       "only the value of the first card with the given keyword will be returned.\n",
       "It is also possible to use a 2-tuple as the index in the form (keyword,\n",
       "n)--this returns the n-th value with that keyword, in the case where there\n",
       "are duplicate keywords.\n",
       "\n",
       "For example::\n",
       "\n",
       "    >>> header['NAXIS']\n",
       "    0\n",
       "    >>> header[('FOO', 1)]  # Return the value of the second FOO keyword\n",
       "    'foo'\n",
       "\n",
       "The header may also be indexed by card number::\n",
       "\n",
       "    >>> header[0]  # Return the value of the first card in the header\n",
       "    'T'\n",
       "\n",
       "Commentary keywords such as HISTORY and COMMENT are special cases: When\n",
       "indexing the Header object with either 'HISTORY' or 'COMMENT' a list of all\n",
       "the HISTORY/COMMENT values is returned::\n",
       "\n",
       "    >>> header['HISTORY']\n",
       "    This is the first history entry in this header.\n",
       "    This is the second history entry in this header.\n",
       "    ...\n",
       "\n",
       "See the Astropy documentation for more details on working with headers.\n",
       "\u001b[0;31mInit docstring:\u001b[0m\n",
       "Construct a `Header` from an iterable and/or text file.\n",
       "\n",
       "Parameters\n",
       "----------\n",
       "cards : A list of `Card` objects, optional\n",
       "    The cards to initialize the header with. Also allowed are other\n",
       "    `Header` (or `dict`-like) objects.\n",
       "\n",
       "    .. versionchanged:: 1.2\n",
       "        Allowed ``cards`` to be a `dict`-like object.\n",
       "\n",
       "copy : bool, optional\n",
       "\n",
       "    If ``True`` copies the ``cards`` if they were another `Header`\n",
       "    instance.\n",
       "    Default is ``False``.\n",
       "\n",
       "    .. versionadded:: 1.3\n"
      ]
     },
     "metadata": {},
     "output_type": "display_data"
    }
   ],
   "source": [
    "hh = hdulist[0].header\n",
    "hh?"
   ]
  },
  {
   "cell_type": "code",
   "execution_count": 125,
   "metadata": {
    "collapsed": false,
    "jupyter": {
     "outputs_hidden": false
    }
   },
   "outputs": [
    {
     "data": {
      "text/plain": [
       "SIMPLE  =                    T / conforms to FITS standard                      \n",
       "BITPIX  =                   16 / array data type                                \n",
       "NAXIS   =                    2 / number of array dimensions                     \n",
       "NAXIS1  =                 2154 / length of data axis 1                          \n",
       "NAXIS2  =                 2048 / length of data axis 2                          \n",
       "EXTEND  =                    T                                                  \n",
       "COMMENT FITS (Flexible Image Transport System) format is defined in 'Astronomy  \n",
       "COMMENT and Astrophysics', volume 376, page 359; bibcode: 2001A&A...376..359H   \n",
       "BZERO   =                32768 / BZERO                                          \n",
       "BSCALE  =                    1 / BSCALE                                         \n",
       "EXPTIME =                600.0 / Integration Time, sec.                         \n",
       "DETECTOR= 'e2vm2 E2V-4240'     / CCD Type                                       \n",
       "ORIGIN  = 'UNAM    '           / OAN SPM, IA-UNAM                               \n",
       "OBSERVAT= 'SPM     '           / Observatory                                    \n",
       "TELESCOP= '2.12m   '           / Telescope                                      \n",
       "LATITUDE= '+31:02:39'          / Latitude                                       \n",
       "LONGITUD= '115:27:49'          / Longitud                                       \n",
       "ALTITUD =                 2800 / altitud                                        \n",
       "SECONDAR=                   -1 / F/ Secondary type                              \n",
       "TIMEZONE=                    8 / Time Zone                                      \n",
       "OBSERVER= 'Leonid  '           / Observer's Name                                \n",
       "OBJECT  = '107 Psc '           / Object                                         \n",
       "INSTRUME= 'Echelle '           / Instrument                                     \n",
       "GAINMODE=                    1 / Gain factor in the CCD                         \n",
       "FILTER  = 'None    '           / Filter                                         \n",
       "IMGTYPE = 'object  '           / Image Type                                     \n",
       "EQUINOX =               2011.7 / Equinox                                        \n",
       "ST      = '01:25:41.3'         / Sideral Time                                   \n",
       "UT      = '10:34:27'           / Universal Time                                 \n",
       "JD      =            2455803.5 / Julian Date                                    \n",
       "DATE-OBS= '2011-08-30'         / Observation Date UTM                           \n",
       "CCDSUM  = '1 1     '           / Binning [ Cols:Rows ]                          \n",
       "RA      = ' 01:43:10.8'        / Right Ascension                                \n",
       "DEC     = ' 20''19''43.0'      / Declination                                    \n",
       "AH      = ' -00:17:29.1'       / Hour Angle                                     \n",
       "AIRMASS =                 1.02 / Airmass                                        \n",
       "TMMIRROR=                    0 / Primary Mirror Temperature (celsius degree)    \n",
       "TSMIRROR=                    0 / Secundary Mirror Temperature (celsius degree)  \n",
       "TAIR    =                    0 / Internal Telescope Air Temperature (celsius deg\n",
       "XTEMP   =                 14.7 / Exterior Temperature (celsius degree)          \n",
       "HUMIDITY=                 46.0 / % external Humidity                            \n",
       "ATMOSBAR=                731.9 / Atmosferic Presure in mb                       \n",
       "WIND    = 'S at 30.6 km/h'     / Wind Direction                                 \n",
       "WDATE   = '10:34:10, 08/30/11' / Weather Acquisition Date (Local time)          \n",
       "DATE    = '2011-08-30T10:34:29' / file creation date (YYYY-MM-DDThh:mm:ss UT)   \n",
       "NAMPS   =                    1 / Number of Amplifiers                           \n",
       "CCDNAMPS=                    1 / Number of amplifiers used                      \n",
       "AMPNAME = '1 Channel'          / Amplifier name                                 \n",
       "CREATOR = 'Python Oan ccds'    / Name of the software task that created the file\n",
       "VERSION = '4.12D   '           / Application Software Version                   \n",
       "COMMENT Visit our weather site http://www.astrossp.unam.mx/weather15            \n",
       "COMMENT for complete meteorological data of your observation night              \n",
       "HISTORY bin2fits V1.0                                                           \n",
       "HISTORY Programmer: Enrique Colorado [ colorado@astrosen.unam.mx ]              \n",
       "HISTORY Observatorio Astronomico Nacional -UNAM                                 \n",
       "HISTORY V1.00 By Arturo Nunez and Colorado >Ported to Python using pyfits       \n",
       "HISTORY V0.50 By E. Colorado >Added interior mirrors temperatures               \n",
       "HISTORY V0.49 By E. Colorado >Added BIASSEC parameter                           \n",
       "HISTORY V0.48 By E. Colorado >Aditional info for autofocus calculations         \n",
       "HISTORY V0.4 By E. Colorado >Now we include timezone, and remove lat. sign      \n",
       "HISTORY V0.3 By E. Colorado >Now we include weather data                        \n",
       "HISTORY V0.2 By E. Colorado >General OAN Working Release                        "
      ]
     },
     "execution_count": 125,
     "metadata": {},
     "output_type": "execute_result"
    }
   ],
   "source": [
    "hdulist[0].header"
   ]
  },
  {
   "cell_type": "code",
   "execution_count": 126,
   "metadata": {
    "collapsed": false,
    "jupyter": {
     "outputs_hidden": false
    }
   },
   "outputs": [
    {
     "name": "stdout",
     "output_type": "stream",
     "text": [
      "('SIMPLE', True, 'conforms to FITS standard')\n",
      "('BITPIX', 16, 'array data type')\n",
      "('NAXIS', 2, 'number of array dimensions')\n",
      "('NAXIS1', 2154, 'length of data axis 1')\n",
      "('NAXIS2', 2048, 'length of data axis 2')\n",
      "('EXTEND', True, '')\n",
      "('COMMENT', \"FITS (Flexible Image Transport System) format is defined in 'Astronomy\", '')\n",
      "('COMMENT', \"and Astrophysics', volume 376, page 359; bibcode: 2001A&A...376..359H\", '')\n",
      "('BZERO', 32768, 'BZERO')\n",
      "('BSCALE', 1, 'BSCALE')\n",
      "('EXPTIME', 600.0, 'Integration Time, sec.')\n",
      "('DETECTOR', 'e2vm2 E2V-4240', 'CCD Type')\n",
      "('ORIGIN', 'UNAM', 'OAN SPM, IA-UNAM')\n",
      "('OBSERVAT', 'SPM', 'Observatory')\n",
      "('TELESCOP', '2.12m', 'Telescope')\n",
      "('LATITUDE', '+31:02:39', 'Latitude')\n",
      "('LONGITUD', '115:27:49', 'Longitud')\n",
      "('ALTITUD', 2800, 'altitud')\n",
      "('SECONDAR', -1, 'F/ Secondary type')\n",
      "('TIMEZONE', 8, 'Time Zone')\n",
      "('OBSERVER', 'Leonid', \"Observer's Name\")\n",
      "('OBJECT', '107 Psc', 'Object')\n",
      "('INSTRUME', 'Echelle', 'Instrument')\n",
      "('GAINMODE', 1, 'Gain factor in the CCD')\n",
      "('FILTER', 'None', 'Filter')\n",
      "('IMGTYPE', 'object', 'Image Type')\n",
      "('EQUINOX', 2011.7, 'Equinox')\n",
      "('ST', '01:25:41.3', 'Sideral Time')\n",
      "('UT', '10:34:27', 'Universal Time')\n",
      "('JD', 2455803.5, 'Julian Date')\n",
      "('DATE-OBS', '2011-08-30', 'Observation Date UTM')\n",
      "('CCDSUM', '1 1', 'Binning [ Cols:Rows ]')\n",
      "('RA', ' 01:43:10.8', 'Right Ascension')\n",
      "('DEC', \" 20'19'43.0\", 'Declination')\n",
      "('AH', ' -00:17:29.1', 'Hour Angle')\n",
      "('AIRMASS', 1.02, 'Airmass')\n",
      "('TMMIRROR', 0, 'Primary Mirror Temperature (celsius degree)')\n",
      "('TSMIRROR', 0, 'Secundary Mirror Temperature (celsius degree)')\n",
      "('TAIR', 0, 'Internal Telescope Air Temperature (celsius deg')\n",
      "('XTEMP', 14.7, 'Exterior Temperature (celsius degree)')\n",
      "('HUMIDITY', 46.0, '% external Humidity')\n",
      "('ATMOSBAR', 731.9, 'Atmosferic Presure in mb')\n",
      "('WIND', 'S at 30.6 km/h', 'Wind Direction')\n",
      "('WDATE', '10:34:10, 08/30/11', 'Weather Acquisition Date (Local time)')\n",
      "('DATE', '2011-08-30T10:34:29', 'file creation date (YYYY-MM-DDThh:mm:ss UT)')\n",
      "('NAMPS', 1, 'Number of Amplifiers')\n",
      "('CCDNAMPS', 1, 'Number of amplifiers used')\n",
      "('AMPNAME', '1 Channel', 'Amplifier name')\n",
      "('CREATOR', 'Python Oan ccds', 'Name of the software task that created the file')\n",
      "('VERSION', '4.12D', 'Application Software Version')\n",
      "('COMMENT', 'Visit our weather site http://www.astrossp.unam.mx/weather15', '')\n",
      "('COMMENT', 'for complete meteorological data of your observation night', '')\n",
      "('HISTORY', 'bin2fits V1.0', '')\n",
      "('HISTORY', 'Programmer: Enrique Colorado [ colorado@astrosen.unam.mx ]', '')\n",
      "('HISTORY', 'Observatorio Astronomico Nacional -UNAM', '')\n",
      "('HISTORY', 'V1.00 By Arturo Nunez and Colorado >Ported to Python using pyfits', '')\n",
      "('HISTORY', 'V0.50 By E. Colorado >Added interior mirrors temperatures', '')\n",
      "('HISTORY', 'V0.49 By E. Colorado >Added BIASSEC parameter', '')\n",
      "('HISTORY', 'V0.48 By E. Colorado >Aditional info for autofocus calculations', '')\n",
      "('HISTORY', 'V0.4 By E. Colorado >Now we include timezone, and remove lat. sign', '')\n",
      "('HISTORY', 'V0.3 By E. Colorado >Now we include weather data', '')\n",
      "('HISTORY', 'V0.2 By E. Colorado >General OAN Working Release', '')\n"
     ]
    }
   ],
   "source": [
    "# The header can be printed as it appears in the file by\n",
    "print(hdulist[0].header.cards)"
   ]
  },
  {
   "cell_type": "code",
   "execution_count": 127,
   "metadata": {
    "collapsed": false,
    "jupyter": {
     "outputs_hidden": false
    }
   },
   "outputs": [],
   "source": [
    "# The data in the file are accessible with\n",
    "data = hdulist[0].data"
   ]
  },
  {
   "cell_type": "code",
   "execution_count": 129,
   "metadata": {},
   "outputs": [
    {
     "data": {
      "text/plain": [
       "(2048, 2154)"
      ]
     },
     "execution_count": 129,
     "metadata": {},
     "output_type": "execute_result"
    }
   ],
   "source": [
    "data.shape"
   ]
  },
  {
   "cell_type": "code",
   "execution_count": 128,
   "metadata": {
    "collapsed": false,
    "jupyter": {
     "outputs_hidden": false
    }
   },
   "outputs": [
    {
     "data": {
      "text/plain": [
       "<matplotlib.image.AxesImage at 0x7fd1d2b45950>"
      ]
     },
     "execution_count": 128,
     "metadata": {},
     "output_type": "execute_result"
    },
    {
     "data": {
      "image/png": "[encoded data removed]",
      "text/plain": [
       "<Figure size 1080x1080 with 1 Axes>"
      ]
     },
     "metadata": {
      "needs_background": "light"
     },
     "output_type": "display_data"
    }
   ],
   "source": [
    "# and can be seen with [we need to import matplotlib.pyplot as plt before running this]:\n",
    "%matplotlib inline\n",
    "import matplotlib.pyplot as plt\n",
    "f, ax = plt.subplots(figsize=(15,15))\n",
    "ax.imshow(data)"
   ]
  },
  {
   "cell_type": "code",
   "execution_count": 130,
   "metadata": {
    "collapsed": false,
    "jupyter": {
     "outputs_hidden": false
    }
   },
   "outputs": [
    {
     "data": {
      "text/plain": [
       "[<matplotlib.lines.Line2D at 0x7fd1d10e4a50>]"
      ]
     },
     "execution_count": 130,
     "metadata": {},
     "output_type": "execute_result"
    },
    {
     "data": {
      "image/png": "[encoded data removed]",
      "text/plain": [
       "<Figure size 432x288 with 1 Axes>"
      ]
     },
     "metadata": {
      "needs_background": "light"
     },
     "output_type": "display_data"
    }
   ],
   "source": [
    "# A column from the data can be plotted with \n",
    "plt.plot(data[:,1000])\n",
    "# where I am plotting the column number 1000. "
   ]
  },
  {
   "cell_type": "code",
   "execution_count": 131,
   "metadata": {
    "collapsed": false,
    "jupyter": {
     "outputs_hidden": false
    }
   },
   "outputs": [
    {
     "data": {
      "text/plain": [
       "[<matplotlib.lines.Line2D at 0x7fd1d1a812d0>]"
      ]
     },
     "execution_count": 131,
     "metadata": {},
     "output_type": "execute_result"
    },
    {
     "data": {
      "image/png": "[encoded data removed]",
      "text/plain": [
       "<Figure size 432x288 with 1 Axes>"
      ]
     },
     "metadata": {
      "needs_background": "light"
     },
     "output_type": "display_data"
    }
   ],
   "source": [
    "# In the same way a line from the data is plotted with: \n",
    "plt.plot(data[1000,:])"
   ]
  },
  {
   "cell_type": "code",
   "execution_count": 132,
   "metadata": {
    "collapsed": false,
    "jupyter": {
     "outputs_hidden": false
    }
   },
   "outputs": [],
   "source": [
    "# For this example I'll use a spectrum obtain with the high dispersion camera on board of IUE. \n",
    "# The file is opened as usual:\n",
    "hdulist = fits.open('swp04345.mxhi')"
   ]
  },
  {
   "cell_type": "markdown",
   "metadata": {},
   "source": [
    "The file is there: https://github.com/Morisset/Python-lectures-Notebooks/raw/master/Notebooks/swp04345.mxhi"
   ]
  },
  {
   "cell_type": "code",
   "execution_count": 133,
   "metadata": {
    "collapsed": false,
    "jupyter": {
     "outputs_hidden": false
    }
   },
   "outputs": [
    {
     "data": {
      "text/plain": [
       "2"
      ]
     },
     "execution_count": 133,
     "metadata": {},
     "output_type": "execute_result"
    }
   ],
   "source": [
    "#but now hdulist has 2 elements (2 header/data units):\n",
    "len(hdulist)"
   ]
  },
  {
   "cell_type": "code",
   "execution_count": 134,
   "metadata": {
    "collapsed": false,
    "jupyter": {
     "outputs_hidden": false
    }
   },
   "outputs": [
    {
     "name": "stdout",
     "output_type": "stream",
     "text": [
      "Filename: swp04345.mxhi\n",
      "No.    Name      Ver    Type      Cards   Dimensions   Format\n",
      "  0  PRIMARY       1 PrimaryHDU     421   ()      \n",
      "  1  MEHI          1 BinTableHDU     61   60R x 17C   [1B, 1I, 1D, 1I, 1D, 1E, 1E, 768E, 768E, 768E, 768I, 768E, 768E, 1I, 1I, 1E, 7E]   \n"
     ]
    }
   ],
   "source": [
    "# We can see that the primary header has dimension (), son does not contain any data. \n",
    "# The data are in the extension.\n",
    "hdulist.info()"
   ]
  },
  {
   "cell_type": "code",
   "execution_count": 136,
   "metadata": {
    "collapsed": false,
    "jupyter": {
     "outputs_hidden": false
    }
   },
   "outputs": [
    {
     "name": "stdout",
     "output_type": "stream",
     "text": [
      "('SIMPLE', True, 'Standard FITS Format')\n",
      "('BITPIX', 8, 'Binary data')\n",
      "('NAXIS', 0, 'Two-dimensional image')\n",
      "('EXTEND', True, 'Extensions are present')\n",
      "('TELESCOP', 'IUE', 'International Ultraviolet Explorer')\n",
      "('DATE', '16/10/96', 'Date file written')\n",
      "('ORIGIN', 'GSFC', 'Institution generating the file')\n",
      "('COMMENT', '*', '')\n",
      "('COMMENT', '* CORE DATA ITEMS - COMMON SET', '')\n",
      "('COMMENT', '*', '')\n",
      "('CAMERA', 'SWP', 'Camera')\n",
      "('IMAGE', 4345, 'Sequential image number')\n",
      "('DISPERSN', 'HIGH', 'Spectrograph dispersion mode')\n",
      "('APERTURE', 'LARGE', 'Aperture')\n",
      "('DISPTYPE', 'HIGH', 'Dispersion processing type')\n",
      "('READMODE', 'FULL', 'Read mode')\n",
      "('READGAIN', 'LOW', 'Read gain')\n",
      "('EXPOGAIN', 'MAXIMUM', 'Exposure gain')\n",
      "('UVC-VOLT', -5.0, 'UVC voltage')\n",
      "('ABNNOSTD', 'NO', 'Non-standard image acquisition')\n",
      "('ABNBADSC', 'NO', 'LWP bad scans')\n",
      "('ABNHTRWU', 'NO', 'LWR heater warmup')\n",
      "('ABNREAD', 'NO', 'Read at other than 20 KB')\n",
      "('ABNUVC', 'NO', 'Non-standard UVC voltage')\n",
      "('ABNHISTR', 'NO', 'History replay')\n",
      "('ABNOTHER', 'NO', 'Other abnormality')\n",
      "('THDAREAD', 8.8, 'THDA at read of image')\n",
      "('EQUINOX', 1950.0, 'Epoch of coordinates')\n",
      "('STATION', 'GSFC', 'Observing station')\n",
      "('ORBEPOCH', '22/02/79', 'Orbital elements epoch')\n",
      "('ORBSAXIS', 42170.5, 'Semi-major axis in kilometers')\n",
      "('ORBECCEN', 0.2381567, 'Eccentricity')\n",
      "('ORBINCLI', 28.379, 'Inclination in degrees')\n",
      "('ORBASCEN', 199.759, 'Ascending node in degrees')\n",
      "('ORBPERIG', 265.437, 'Argument of perigee in degrees')\n",
      "('ORBANOMA', 337.433, 'Mean anomaly in degrees')\n",
      "('POSANGLE', 30.32, 'Pos angle of the large aperture (deg)')\n",
      "('LAMP', 'NONE', 'Lamp')\n",
      "('PGM-ID', 'LABDS', 'Program identification')\n",
      "('ABNMINFR', 'NO', 'Bad/missing minor frames')\n",
      "('CC-PERCN', 82.7, 'Cross-correlation % successful')\n",
      "('CC-WINDW', 29, 'Cross-correlation window size')\n",
      "('CC-TEMPL', 23, 'Cross-correlation template size')\n",
      "('CC-MEDN', 0.431, 'Median cross-correlation coefficient')\n",
      "('CC-STDEV', 0.145, 'St dev of cross-corr coefficients')\n",
      "('SHFTMEAN', 0.287, 'Mean shift between image and ITF')\n",
      "('SHFTMAX', 1.425, 'Maximum shift between image and ITF')\n",
      "('ITF', 'SWP85R92A', 'ITF identification')\n",
      "('TILTCORR', 'NO', 'Tilt correction flag')\n",
      "('MEANRAT', 0.987, 'SI vs LI mean')\n",
      "('STDEVRAT', 0.9, 'SI vs LI standard deviation')\n",
      "('COMMENT', 'BY RA:  EXP 1 APER L MAX DN = 165', '')\n",
      "('COMMENT', 'BY RA:     0 MISSING MINOR FRAMES NOTED ON SCRIPT', '')\n",
      "('COMMENT', 'BY RA:  EXP 1 TRACKED ON FES', '')\n",
      "('COMMENT', 'BY RA:  S   PREP USED', '')\n",
      "('COMMENT', '*', '')\n",
      "('COMMENT', '* CORE DATA ITEMS - LARGE APERTURE SET', '')\n",
      "('COMMENT', '*', '')\n",
      "('LDATEOBS', '23/02/79', 'Observing date')\n",
      "('LTIMEOBS', '02:49:03', 'Observing time')\n",
      "('LJD-OBS', 2443927.6174, 'Julian Date start of obs.')\n",
      "('LEXPTRMD', 'NO-TRAIL', 'Trail mode')\n",
      "('LEXPMULT', 'NO', 'Multiple exposure mode')\n",
      "('LEXPSEGM', 'NO', 'Segmented exposure code')\n",
      "('LEXPTIME', 10799.793, 'Integration time in seconds')\n",
      "('LTHDASTR', 8.2, 'THDA at start of exposure')\n",
      "('LTHDAEND', 8.8, 'THDA at end of exposure')\n",
      "('LRA', 14.425, 'Homogeneous R.A. in degrees')\n",
      "('LDEC', -72.4333, 'Homogeneous Dec. in degrees')\n",
      "('LLAPSTAT', 'OPEN', 'Large aperture status')\n",
      "('LFES2MD', 'SO', 'FES(2) mode')\n",
      "('LFES2CN', 363, 'FES(2) counts on target')\n",
      "('LTARGET', 'HD 5980', 'Object as given by Guest Observer')\n",
      "('LTARGRA', 14.4417, 'R.A. in degrees (given by GO)')\n",
      "('LTARGDEC', -72.4347, 'Dec. in degrees (given by GO)')\n",
      "('LOBJECT', 'HD  5980', 'Homogeneous Object ID')\n",
      "('LIUECLAS', 11, 'Object class')\n",
      "('LFOCUS', -1.5, 'Focus')\n",
      "('LFPM', 0.08, 'Flux particle monitor')\n",
      "('LGSTAR2X', 307, 'X coordinate of guide star in FES 2')\n",
      "('LGSTAR2Y', -835, 'Y coordinate of guide star in FES 2')\n",
      "('LJD-MID', 2443927.67989, 'Julian Date middle of obs.')\n",
      "('LHELCORR', -0.00228, 'Heliocentric corr to midpoint (days)')\n",
      "('LDATABKG', 67, 'Estimated mean background level (DNs)')\n",
      "('LDATACNT', 150, 'Estimated maximum continuum level (DNs)')\n",
      "('LCNTRAPR', 290.74, 'Predicted center line of spectrum')\n",
      "('LXTRMODE', 'POINT', 'Extraction mode')\n",
      "('LXTRCNTR', 290.7, 'Center line of extracted spectrum')\n",
      "('LRADVELO', 2.67, 'Heliocentric velocity correction in km/s')\n",
      "('COMMENT', '*', '')\n",
      "('COMMENT', '* THE IUE VICAR HEADER', '')\n",
      "('COMMENT', '*', '')\n",
      "('COMMENT', 'IUE-VICAR HEADER START', '')\n",
      "('', '                        0001000107680768   1 1 013004345            1  C', '')\n",
      "('', '      *    *        *   *   *10,800*      *   *  * * * * * *     *  2  C', '')\n",
      "('', 'SWP4345,HD5980,180M,LGAP,HI,DAY54,1979,LABDS,SITKO                  3  C', '')\n",
      "('', '                                                                    4  C', '')\n",
      "('', '                        10799 SECS                                  5  C', '')\n",
      "('', '                                                                    6  C', '')\n",
      "('', '                                                                    7  C', '')\n",
      "('', '                                                                    8  C', '')\n",
      "('', '                                                                    9  C', '')\n",
      "('', '79 54055056* 8   * 215 *OPSTST23*133019 CAMINIT                  * 10  C', '')\n",
      "('', '                                *133019   1178 3830 4337 1149    * 11  C', '')\n",
      "('', '                                *                                * 12  C', '')\n",
      "('', '                                *                                * 13  C', '')\n",
      "('', '                                *                                * 14  C', '')\n",
      "('', '200834 XPREP 2                  *202631 SPREP 2                  * 15  C', '')\n",
      "('', '015359 EXPOBCM 2 12 0  MAXG NOL *                                * 16  C', '')\n",
      "('', '020605 EXPOSURE END TIME        *                                * 17  C', '')\n",
      "('', '                                *                                * 18  C', '')\n",
      "('', '025850 READPREP 2       NORMAL  *025923 SCAN 2  RDLO SS 1 G3 58  * 19  C', '')\n",
      "('', '025925 X 56 Y 72 G1 99 HR 106   *165808 SPREP 3                  * 20  C', '')\n",
      "('', '024907 EXPOBCM 3 180 0 MAXG NOL *                                * 21  C', '')\n",
      "('', '054910 EXPOSURE END TIME        *                                * 22  C', '')\n",
      "('', '                                *                                * 23  C', '')\n",
      "('', '054953 REREAD 3 3       NORMAL  *055055 SCAN 3  RDLO SS 1 G3 44  * 24  C', '')\n",
      "('', '055056 X 60 Y 76 G1 82 HR 105   *                                * 25  C', '')\n",
      "('', '                                *020838 MODE SWH                 * 26  C', '')\n",
      "('', '023438 APERTURE OP              *                                * 27  C', '')\n",
      "('', '                                *                                * 28  C', '')\n",
      "('', '                                *                                * 29  C', '')\n",
      "('', '                                *024716TARGET IN SWLA            * 30  C', '')\n",
      "('', '015155TARGET FROM SWLA          *                                * 31  C', '')\n",
      "('', '                                *                                * 32  C', '')\n",
      "('', '                                                                   33  C', '')\n",
      "('', '                                                                   34  C', '')\n",
      "('', '                                                                   35  C', '')\n",
      "('', 'LABDS* *  *SAVAGE          *   *   * *        * *0* *              36  C', '')\n",
      "('', '005745*-722603*   *OB* *11.8*+0.04*         *    *       *   *     37  C', '')\n",
      "('', '                                                                   38  C', '')\n",
      "('', '                                                                   39  C', '')\n",
      "('', '                                                                   40  C', '')\n",
      "('', '                                                                   41  C', '')\n",
      "('', '                                                                   42  C', '')\n",
      "('', '                                                                   43  C', '')\n",
      "('', '                                                                   44  C', '')\n",
      "('', '                                                                   45  C', '')\n",
      "('', '                                                                   46  C', '')\n",
      "('', '                                                                   47  C', '')\n",
      "('', '                                                                   48  C', '')\n",
      "('', '                                                                   49  C', '')\n",
      "('', '                                                                   50  C', '')\n",
      "('', '000000000000000000000000000000000000000000000000000000000000000000 51  C', '')\n",
      "('', '000000000000000000000000000000000000000000000000000000000000004040 51  C', '')\n",
      "('', '000000000000000000000000000000000000000000000000000000000000000000 52  C', '')\n",
      "('', '000000000000000000000000000000000000000000000000000000000000004040 52  C', '')\n",
      "('', '000000000000000000000000000000000000000000000000000000000000000000 53  C', '')\n",
      "('', '000000000000000000000000000000000000000000000000000000000000004040 53  C', '')\n",
      "('', '000000000000000000000000000000000000000000000000000000000000000000 54  C', '')\n",
      "('', '000000000000000000000000000000000000000000000000000000000000004040 54  C', '')\n",
      "('', '000000000000000000000000000000000000000000000000000000000000000000 55  C', '')\n",
      "('', '000000000000000000000000000000000000000000000000000000000000004040 55  C', '')\n",
      "('', '000000000000000000000000000000000000000000000000000000000000000000 56  C', '')\n",
      "('', '000000000000000000000000000000000000000000000000000000000000004040 56  C', '')\n",
      "('', '000000000000000000000000000000000000000000000000000000000000000000 57  C', '')\n",
      "('', '000000000000000000000000000000000000000000000000000000000000004040 57  C', '')\n",
      "('', '000000000000000000000000000000000000000000000000000000000000000000 58  C', '')\n",
      "('', '000000000000000000000000000000000000000000000000000000000000004040 58  C', '')\n",
      "('', '000000000000000000000000000000000000000000000000000000000000000000 59  C', '')\n",
      "('', '000000000000000000000000000000000000000000000000000000000000004040 59  C', '')\n",
      "('', '000000000000000000000000000000000000000000000000000000000000000000 60  C', '')\n",
      "('', '000000000000000000000000000000000000000000000000000000000000004040 60  C', '')\n",
      "('', '000000000000000000000000000000000000000000000000000000000000000000 61  C', '')\n",
      "('', '000000000000000000000000000000000000000000000000000000000000004040 61  C', '')\n",
      "('', '000000000000000000000000000000000000000000000000000000000000000000 62  C', '')\n",
      "('', '000000000000000000000000000000000000000000000000000000000000004040 62  C', '')\n",
      "('', '000000000000000000000000000000000000000000000000000000000000000000 63  C', '')\n",
      "('', '000000000000000000000000000000000000000000000000000000000000004040 63  C', '')\n",
      "('', '000000000000000000000000000000000000000000000000000000000000000000 64  C', '')\n",
      "('', '000000000000000000000000000000000000000000000000000000000000004040 64  C', '')\n",
      "('', '000000000000000000000000000000000000000000000000000000000000000000 65  C', '')\n",
      "('', '000000000000000000000000000000000000000000000000000000000000004040 65  C', '')\n",
      "('', '000000000000000000000000000000000000000000000000000000000000000000 66  C', '')\n",
      "('', '000000000000000000000000000000000000000000000000000000000000004040 66  C', '')\n",
      "('', '000000000000000000000000000000000000000000000000000000000000000000 67  C', '')\n",
      "('', '000000000000000000000000000000000000000000000000000000000000004040 67  C', '')\n",
      "('', '000000000000000000000000000000000000000000000000000000000000000000 68  C', '')\n",
      "('', '000000000000000000000000000000000000000000000000000000000000004040 68  C', '')\n",
      "('', '000000000000000000000000000000000000000000000000000000000000000000 69  C', '')\n",
      "('', '000000000000000000000000000000000000000000000000000000000000004040 69  C', '')\n",
      "('', '000000000000000000000000000000000000000000000000000000000000000000 70  C', '')\n",
      "('', '000000000000000000000000000000000000000000000000000000000000004040 70  C', '')\n",
      "('', '000000000000000000000000000000000000000000000000000000000000000000 71  C', '')\n",
      "('', '000000000000000000000000000000000000000000000000000000000000004040 71  C', '')\n",
      "('', '000000000000000000000000000000000000000000000000000000000000000000 72  C', '')\n",
      "('', '000000000000000000000000000000000000000000000000000000000000004040 72  C', '')\n",
      "('', '000000000000000000000000000000000000000000000000000000000000000000 73  C', '')\n",
      "('', '000000000000000000000000000000000000000000000000000000000000004040 73  C', '')\n",
      "('', '000000000000000000000000000000000000000000000000000000000000000000 74  C', '')\n",
      "('', '000000000000000000000000000000000000000000000000000000000000004040 74  C', '')\n",
      "('', '000000000000000000000000000000000000000000000000000000000000000000 75  C', '')\n",
      "('', '000000000000000000000000000000000000000000000000000000000000004040 75  C', '')\n",
      "('', '0231F4FACC000000A6737B00C50E003AC80D31444B2E6827253D4540321E314B62 76  C', '')\n",
      "('', '27003D87F306060B6E70005E8085320D2C2A13282C1A3211151200A5ACAB000000 76  C', '')\n",
      "('', 'AC0400FF000436B9A5C100AF52B312341E2B33352C16182D2E1A1F181C202D2B34 77  C', '')\n",
      "('', '70717A247D247C227B1525A01E9320941F951E96219301B8E10000E02CE0F90C40 77  C', '')\n",
      "('', '7C007C0083007A7B7B7B7C7C3A8A0082453C3D314A7A93944EC989987D7D824300 78  C', '')\n",
      "('', '003A30333539302F2E3234322B2B000006C1F65682820001008282404040404040 78  C', '')\n",
      "('', 'BBAB06C2F255838100010080803B3535333A343030353735323286B784B941B76D 79  C', '')\n",
      "('', 'B96BB72DB978B778B931B77AB97BB744B940404040404040404040404040404040 79  C', '')\n",
      "('', 'D0000080000000000000FF40404040404040404040404040404040404040404040 80  C', '')\n",
      "('', '404040404040404040404040404040404040404040404040404040404040404040 80  C', '')\n",
      "('', '0FFBFFFF000000000203FE025046436BFB30000000000000D00000000000000080 81  C', '')\n",
      "('', '00000000000000FF000000880000000C0000000C00000000000000000000004040 81  C', '')\n",
      "('', '4F25600000000000FF000000FF0000000000000000000000000000000000000000 82  C', '')\n",
      "('', '0000007F000000FF00000000000000FF000000FF00000000000000000000004040 82  C', '')\n",
      "('', '                                                                   83  C', '')\n",
      "('', '                                                                   84  C', '')\n",
      "('', '                                                                   85  C', '')\n",
      "('', '03060000001C00000021879BE02CDFE1000004000016909E4ABAAB06C1F2558381 86  C', '')\n",
      "('', '00010080807BC978C931C9000061414151000040404000400F0D0E404040404040 86  C', '')\n",
      "('', '030D0000001C0000002186A3E02CE0E1000004000016909E4ABAAB06C1F2558381 87  C', '')\n",
      "('', '00010080807AC977C931C9000061414151000040404000401F0D0E404040404040 87  C', '')\n",
      "('', '030E0000001C00FFFFEF86A8E02CDFE1000004000016809E4ABAAB06C1F2558381 88  C', '')\n",
      "('', '00010080807BC978C931C900006141514200004040400040290D0E404040404040 88  C', '')\n",
      "('', '01360000001E00FFFFF68A9DE02CE0E1000004000016809E52000006C1F2558381 89  C', '')\n",
      "('', '0001007F80797F777A317900006140414100004040400040080B0C404040404040 89  C', '')\n",
      "('', '020500000019000000338AA0E02CE0E1000004000016809E52000006C2F2558381 90  C', '')\n",
      "('', '0001007F807A7F787A317900006140414100004040400040050B0C404040404040 90  C', '')\n",
      "('', '023B00FFFFFE00FFFFF986A5E02DE0E1000004000010809E4ABAAB06C1F2558381 91  C', '')\n",
      "('', '000100807F7AC978CA31C900006141414A00004040400040190D0E404040404040 91  C', '')\n",
      "('', '023B00FFFFF40000000C86A7E02DE0E1000004000010809E4ABBAB06C1F2558381 92  C', '')\n",
      "('', '000100807F7AC978CA31C900006141514A00004040400040260D0E404040404040 92  C', '')\n",
      "('', '02110000002300FFFFED89A5E02CE0E1000004000006909E4C3B3535333A343030 93  C', '')\n",
      "('', '35373532327AC97BCA44C9000061514140000040404000401D0D0E404040404040 93  C', '')\n",
      "('', '021A0000002300FFFFED89ACE02CE0E1000004000006909E4C3B3435333A34302F 94  C', '')\n",
      "('', '35363532327AC97BC944C900006151414000004040400040160D0E404040404040 94  C', '')\n",
      "('', '021B0000002300FFFFED88A8DF2DE0E1000004000004809E4C3B3837353C353232 95  C', '')\n",
      "('', '36383735357AC97BC944C9000071424140000040404000401F0D0E404040404040 95  C', '')\n",
      "('', '02310000002300FFFFED869CE02CE0E1000004000002809E4A3B3535333A343030 96  C', '')\n",
      "('', '35373532327AB97BB744B9000061414140000040404000400C0B0C404040404040 96  C', '')\n",
      "('', '053100FFFFF40000000C87A3E02CE0E1000006000016809E4A3A3335333A342F2F 97  C', '')\n",
      "('', '35373531327AC77AC748C700006140414000004040400040040D0E404040404040 97  C', '')\n",
      "('', '053300FFFFF40000000C87A9E02DE0E2000005000016809E4A3C3736343C363232 98  C', '')\n",
      "('', '36383735347AC97AC948C90000614A414000004040400040060D0E404040404040 98  C', '')\n",
      "('', '053300FFFFF40000000C87A1E02CE0E100000E000016809E4A3C3837353C373332 99  C', '')\n",
      "('', '37383735357ACA7AC948C90000714A414000004040400040250D0E404040404040 99  C', '')\n",
      "('', '404040404040404040404040404040404040404040404040404040404040404040100  C', '')\n",
      "('', '404040404040404040404040404040404040404040404040404040404040404040100  C', '')\n",
      "('', '****** SCHEME NAME: F3HLAC. ****                                       C', '')\n",
      "('', \"*ARCHIVE   12:00Z MAR 18,'80                                          HL\", '')\n",
      "('COMMENT', 'IUE-VICAR HEADER END', '')\n",
      "('HISTORY', 'IUE-LOG STARTED                             16-OCT-1996 00:18:27', '')\n",
      "('HISTORY', 'PROCESSING SYSTEM: NEWSIPS VERSION 3.1_A', '')\n",
      "('HISTORY', 'OPEN VMS VERSION', '')\n",
      "('HISTORY', 'SWP04345', '')\n",
      "('HISTORY', 'PROCESSED AT GODDARD SPACE FLIGHT CENTER', '')\n",
      "('HISTORY', '****************************************************************', '')\n",
      "('HISTORY', '****************************************************************', '')\n",
      "('HISTORY', 'START RAW_SCREEN                            16-OCT-1996 00:18:37', '')\n",
      "('HISTORY', '  39 BRIGHT SPOTS DETECTED', '')\n",
      "('HISTORY', '   0 MISSING MINOR FRAMES DETECTED', '')\n",
      "('HISTORY', 'LARGE APERTURE SPECTRUM WILL BE EXTRACTED AS', '')\n",
      "('HISTORY', '          POINT SOURCE', '')\n",
      "('HISTORY', 'LARGE APERTURE CONTINUUM DN LEVEL = 150', '')\n",
      "('HISTORY', 'BACKGROUND DN LEVEL =  67', '')\n",
      "('HISTORY', 'ORDER REGISTRATION', '')\n",
      "('HISTORY', '  GLOBAL OFFSET  0.78 PIXELS RELATIVE TO FIDUCIAL: SWP 13589', '')\n",
      "('HISTORY', '  RELATIVE ORDER LOCATIONS DETERMINED FROM EMPIRICAL POSITIONS', '')\n",
      "('HISTORY', 'END   RAW_SCREEN                            16-OCT-1996 00:19:03', '')\n",
      "('HISTORY', '****************************************************************', '')\n",
      "('HISTORY', 'START TTDC                                  16-OCT-1996 00:19:07', '')\n",
      "('HISTORY', 'TEMPERATURE USED FOR CORRECTING DISPERSION CONSTANTS =  8.80', '')\n",
      "('HISTORY', 'DATE OF OBSERVATION USED FOR CORRECTING', '')\n",
      "('HISTORY', '          DISPERSION CONSTANTS = 23/ 2/79  02:49:03', '')\n",
      "('HISTORY', 'ORDER  66 ZERO-POINT CORRECTION =   0.115 ANGSTROMS', '')\n",
      "('HISTORY', 'ORDER  67 ZERO-POINT CORRECTION =   0.119 ANGSTROMS', '')\n",
      "('HISTORY', 'ORDER  68 ZERO-POINT CORRECTION =   0.115 ANGSTROMS', '')\n",
      "('HISTORY', 'ORDER  69 ZERO-POINT CORRECTION =   0.115 ANGSTROMS', '')\n",
      "('HISTORY', 'ORDER  70 ZERO-POINT CORRECTION =   0.110 ANGSTROMS', '')\n",
      "('HISTORY', 'ORDER  71 ZERO-POINT CORRECTION =   0.110 ANGSTROMS', '')\n",
      "('HISTORY', 'ORDER  72 ZERO-POINT CORRECTION =   0.110 ANGSTROMS', '')\n",
      "('HISTORY', 'ORDER  73 ZERO-POINT CORRECTION =   0.111 ANGSTROMS', '')\n",
      "('HISTORY', 'ORDER  74 ZERO-POINT CORRECTION =   0.112 ANGSTROMS', '')\n",
      "('HISTORY', 'ORDER  75 ZERO-POINT CORRECTION =   0.109 ANGSTROMS', '')\n",
      "('HISTORY', 'ORDER  76 ZERO-POINT CORRECTION =   0.108 ANGSTROMS', '')\n",
      "('HISTORY', 'ORDER  77 ZERO-POINT CORRECTION =   0.105 ANGSTROMS', '')\n",
      "('HISTORY', 'ORDER  78 ZERO-POINT CORRECTION =   0.103 ANGSTROMS', '')\n",
      "('HISTORY', 'ORDER  79 ZERO-POINT CORRECTION =   0.106 ANGSTROMS', '')\n",
      "('HISTORY', 'ORDER  80 ZERO-POINT CORRECTION =   0.103 ANGSTROMS', '')\n",
      "('HISTORY', 'ORDER  81 ZERO-POINT CORRECTION =   0.101 ANGSTROMS', '')\n",
      "('HISTORY', 'ORDER  82 ZERO-POINT CORRECTION =   0.101 ANGSTROMS', '')\n",
      "('HISTORY', 'ORDER  83 ZERO-POINT CORRECTION =   0.101 ANGSTROMS', '')\n",
      "('HISTORY', 'ORDER  84 ZERO-POINT CORRECTION =   0.101 ANGSTROMS', '')\n",
      "('HISTORY', 'ORDER  85 ZERO-POINT CORRECTION =   0.099 ANGSTROMS', '')\n",
      "('HISTORY', 'ORDER  86 ZERO-POINT CORRECTION =   0.100 ANGSTROMS', '')\n",
      "('HISTORY', 'ORDER  87 ZERO-POINT CORRECTION =   0.091 ANGSTROMS', '')\n",
      "('HISTORY', 'ORDER  88 ZERO-POINT CORRECTION =   0.096 ANGSTROMS', '')\n",
      "('HISTORY', 'ORDER  89 ZERO-POINT CORRECTION =   0.095 ANGSTROMS', '')\n",
      "('HISTORY', 'ORDER  90 ZERO-POINT CORRECTION =   0.096 ANGSTROMS', '')\n",
      "('HISTORY', 'ORDER  91 ZERO-POINT CORRECTION =   0.094 ANGSTROMS', '')\n",
      "('HISTORY', 'ORDER  92 ZERO-POINT CORRECTION =   0.092 ANGSTROMS', '')\n",
      "('HISTORY', 'ORDER  93 ZERO-POINT CORRECTION =   0.089 ANGSTROMS', '')\n",
      "('HISTORY', 'ORDER  94 ZERO-POINT CORRECTION =   0.093 ANGSTROMS', '')\n",
      "('HISTORY', 'ORDER  95 ZERO-POINT CORRECTION =   0.096 ANGSTROMS', '')\n",
      "('HISTORY', 'ORDER  96 ZERO-POINT CORRECTION =   0.089 ANGSTROMS', '')\n",
      "('HISTORY', 'ORDER  97 ZERO-POINT CORRECTION =   0.089 ANGSTROMS', '')\n",
      "('HISTORY', 'ORDER  98 ZERO-POINT CORRECTION =   0.087 ANGSTROMS', '')\n",
      "('HISTORY', 'ORDER  99 ZERO-POINT CORRECTION =   0.083 ANGSTROMS', '')\n",
      "('HISTORY', 'ORDER 100 ZERO-POINT CORRECTION =   0.087 ANGSTROMS', '')\n",
      "('HISTORY', 'ORDER 101 ZERO-POINT CORRECTION =   0.083 ANGSTROMS', '')\n",
      "('HISTORY', 'ORDER 102 ZERO-POINT CORRECTION =   0.076 ANGSTROMS', '')\n",
      "('HISTORY', 'ORDER 103 ZERO-POINT CORRECTION =   0.074 ANGSTROMS', '')\n",
      "('HISTORY', 'ORDER 104 ZERO-POINT CORRECTION =   0.072 ANGSTROMS', '')\n",
      "('HISTORY', 'ORDER 105 ZERO-POINT CORRECTION =   0.071 ANGSTROMS', '')\n",
      "('HISTORY', 'ORDER 106 ZERO-POINT CORRECTION =   0.069 ANGSTROMS', '')\n",
      "('HISTORY', 'ORDER 107 ZERO-POINT CORRECTION =   0.067 ANGSTROMS', '')\n",
      "('HISTORY', 'ORDER 108 ZERO-POINT CORRECTION =   0.065 ANGSTROMS', '')\n",
      "('HISTORY', 'ORDER 109 ZERO-POINT CORRECTION =   0.063 ANGSTROMS', '')\n",
      "('HISTORY', 'ORDER 110 ZERO-POINT CORRECTION =   0.061 ANGSTROMS', '')\n",
      "('HISTORY', 'ORDER 111 ZERO-POINT CORRECTION =   0.059 ANGSTROMS', '')\n",
      "('HISTORY', 'ORDER 112 ZERO-POINT CORRECTION =   0.057 ANGSTROMS', '')\n",
      "('HISTORY', 'ORDER 113 ZERO-POINT CORRECTION =   0.055 ANGSTROMS', '')\n",
      "('HISTORY', 'ORDER 114 ZERO-POINT CORRECTION =   0.052 ANGSTROMS', '')\n",
      "('HISTORY', 'ORDER 115 ZERO-POINT CORRECTION =   0.050 ANGSTROMS', '')\n",
      "('HISTORY', 'ORDER 116 ZERO-POINT CORRECTION =   0.048 ANGSTROMS', '')\n",
      "('HISTORY', 'ORDER 117 ZERO-POINT CORRECTION =   0.045 ANGSTROMS', '')\n",
      "('HISTORY', 'ORDER 118 ZERO-POINT CORRECTION =   0.043 ANGSTROMS', '')\n",
      "('HISTORY', 'ORDER 119 ZERO-POINT CORRECTION =   0.040 ANGSTROMS', '')\n",
      "('HISTORY', 'ORDER 120 ZERO-POINT CORRECTION =   0.038 ANGSTROMS', '')\n",
      "('HISTORY', 'ORDER 121 ZERO-POINT CORRECTION =   0.035 ANGSTROMS', '')\n",
      "('HISTORY', 'ORDER 122 ZERO-POINT CORRECTION =   0.032 ANGSTROMS', '')\n",
      "('HISTORY', 'ORDER 123 ZERO-POINT CORRECTION =   0.030 ANGSTROMS', '')\n",
      "('HISTORY', 'ORDER 124 ZERO-POINT CORRECTION =   0.027 ANGSTROMS', '')\n",
      "('HISTORY', 'ORDER 125 ZERO-POINT CORRECTION =   0.024 ANGSTROMS', '')\n",
      "('HISTORY', '', '')\n",
      "('HISTORY', 'SPACECRAFT VELOCITY:', '')\n",
      "('HISTORY', 'X= -2.86     Y= -2.42     Z=  0.71', '')\n",
      "('HISTORY', 'EARTH VELOCITY:', '')\n",
      "('HISTORY', 'X=-13.59     Y=-24.64     Z=-10.69', '')\n",
      "('HISTORY', 'NET CORRECTION VECTOR TO HELIOCENTRIC VELOCITY:', '')\n",
      "('HISTORY', 'X=-16.46     Y=-27.06     Z= -9.98', '')\n",
      "('HISTORY', 'HELIOCENTRIC VELOCITY CORRECTION:  +2.67  KM/S', '')\n",
      "('HISTORY', 'END   TTDC                                  16-OCT-1996 00:19:10', '')\n",
      "('HISTORY', '****************************************************************', '')\n",
      "('HISTORY', 'START CROSS-CORR                            16-OCT-1996 00:19:14', '')\n",
      "('HISTORY', 'WINDOW SIZE USED:    29 X  29 PIXELS', '')\n",
      "('HISTORY', 'TEMPLATE SIZE USED:  23 X  23 PIXELS', '')\n",
      "('HISTORY', 'ITF USED:  SWP85R92A', '')\n",
      "('HISTORY', '  82.7 PERCENT SUCCESSFUL CORRELATIONS (422 OUT OF 510)', '')\n",
      "('HISTORY', 'MEDIAN CORRELATION COEFFICIENT: 0.431', '')\n",
      "('HISTORY', 'STANDARD DEVIATION OF CORRELATION COEFFICIENT: 0.145', '')\n",
      "('HISTORY', 'MEAN SHIFT IN PIXELS: 0.287', '')\n",
      "('HISTORY', 'MAXIMUM SHIFT IN PIXELS: 1.425', '')\n",
      "('HISTORY', 'NUMBER OF SUCCESSFUL SHIFTS FILTERED AS UNRELIABLE IN', '')\n",
      "('HISTORY', '    POST-FILTER ROUTINE:  11', '')\n",
      "('HISTORY', 'END   CROSS-CORR                            16-OCT-1996 00:19:59', '')\n",
      "('HISTORY', '****************************************************************', '')\n",
      "('HISTORY', 'START PHOTOM                                16-OCT-1996 00:20:08', '')\n",
      "('HISTORY', 'ITF USED: SWP85R92A', '')\n",
      "('HISTORY', 'MEAN TEMPERATURE OF ITF:  9.3 C', '')\n",
      "('HISTORY', 'ITF UVC=-5.0 KV; UVFLOOD WAVELENGTH = 2536 A; ITF SEC =-6.1 KV', '')\n",
      "('HISTORY', 'ITF CONSTRUCTION: RAW SPACE, FOURIER FILTERED; JAN92', '')\n",
      "('HISTORY', 'END   PHOTOM                                16-OCT-1996 00:21:43', '')\n",
      "('HISTORY', '****************************************************************', '')\n",
      "('HISTORY', 'START GEOM                                  16-OCT-1996 00:21:45', '')\n",
      "('HISTORY', ' EARLY EPOCH ORDER SPATIAL DEVIATION CORRECTION APPLIED', '')\n",
      "('HISTORY', ' DE-SPLAYING ANGLE OF -0.29E-04 RADIANS', '')\n",
      "('HISTORY', ' PREDICTED CENTER LINE OF ORDER 100 - LINE 290.74', '')\n",
      "('HISTORY', 'END   GEOM                                  16-OCT-1996 00:30:51', '')\n",
      "('HISTORY', '****************************************************************', '')\n",
      "('HISTORY', 'START COSMIC_RAY                            16-OCT-1996 00:31:00', '')\n",
      "('HISTORY', ' MEAN FN VALUE OF INTERORDER BACKGROUND =   46.907', '')\n",
      "('HISTORY', ' 11968 PIXELS GREATER THAN 1.500   SIGMA FLAGGED IN', '')\n",
      "('HISTORY', ' COSMIC_RAY IMAGE', '')\n",
      "('HISTORY', 'END   COSMIC_RAY                            16-OCT-1996 00:31:13', '')\n",
      "('HISTORY', '****************************************************************', '')\n",
      "('HISTORY', 'START BCKGRD                                16-OCT-1996 00:31:15', '')\n",
      "('HISTORY', ' INTERORDER POINTS IDENTIFIED FOR POINT    SOURCE', '')\n",
      "('HISTORY', ' GLOBAL BACKGROUND DETERMINATION SUCCESSFUL', '')\n",
      "('HISTORY', '    NORMAL GRID INTERPOLATION', '')\n",
      "('HISTORY', 'END   BCKGRD                                16-OCT-1996 00:32:11', '')\n",
      "('HISTORY', '****************************************************************', '')\n",
      "('HISTORY', 'START EXTRACT                               16-OCT-1996 00:32:14', '')\n",
      "('HISTORY', 'BOXCAR EXTRACTION', '')\n",
      "('HISTORY', 'NOISE MODEL USED: SWP VERSION 1.0', '')\n",
      "('HISTORY', '', '')\n",
      "('HISTORY', '**********************LARGE APERTURE DATA***********************', '')\n",
      "('HISTORY', '', '')\n",
      "('HISTORY', 'MEAN SLIT HEIGHT FOR LARGE APERTURE POINT SOURCE USED FOR EACH ORDER', '')\n",
      "('HISTORY', ' ORDER 100 FOUND AT LINE 290.68', '')\n",
      "('HISTORY', '*** WARNING: ORDER 113 EXPLICIT CENTROID DETERMINATION INVALID.', '')\n",
      "('HISTORY', '             FIDUCIAL CENTROID USED.', '')\n",
      "('HISTORY', '*** WARNING: ORDER 114 EXPLICIT CENTROID DETERMINATION INVALID.', '')\n",
      "('HISTORY', '             FIDUCIAL CENTROID USED.', '')\n",
      "('HISTORY', '*** WARNING: ORDER 119 EXPLICIT CENTROID DETERMINATION INVALID.', '')\n",
      "('HISTORY', '             FIDUCIAL CENTROID USED.', '')\n",
      "('HISTORY', '*** WARNING: ORDER 120 EXPLICIT CENTROID DETERMINATION INVALID.', '')\n",
      "('HISTORY', '             FIDUCIAL CENTROID USED.', '')\n",
      "('HISTORY', '*** WARNING: ORDER 121 EXPLICIT CENTROID DETERMINATION INVALID.', '')\n",
      "('HISTORY', '             FIDUCIAL CENTROID USED.', '')\n",
      "('HISTORY', '*** WARNING: ORDER 122 EXPLICIT CENTROID DETERMINATION INVALID.', '')\n",
      "('HISTORY', '             FIDUCIAL CENTROID USED.', '')\n",
      "('HISTORY', '*** WARNING: ORDER 123 EXPLICIT CENTROID DETERMINATION INVALID.', '')\n",
      "('HISTORY', '             FIDUCIAL CENTROID USED.', '')\n",
      "('HISTORY', '*** WARNING: ORDER 124 EXPLICIT CENTROID DETERMINATION INVALID.', '')\n",
      "('HISTORY', '             FIDUCIAL CENTROID USED.', '')\n",
      "('HISTORY', '*** WARNING: ORDER 125 EXPLICIT CENTROID DETERMINATION INVALID.', '')\n",
      "('HISTORY', '             FIDUCIAL CENTROID USED.', '')\n",
      "('HISTORY', '', '')\n",
      "('HISTORY', ' SWP RIPPLE CORRECTION VERSION 2.0 APPLIED.', '')\n",
      "('HISTORY', ' ABSOLUTE FLUX CALIBRATION DERIVED FROM LOW DISPERSION FLUX', '')\n",
      "('HISTORY', ' CALIBRATION.', '')\n",
      "('HISTORY', ' ABSOLUTE FLUX CALIBRATION SWP VERSION 1.2 APPLIED USING:', '')\n",
      "('HISTORY', '      MODE = LARGE APERTURE POINT SOURCE', '')\n",
      "('HISTORY', '      CALIBRATION EPOCH = 1985.00', '')\n",
      "('HISTORY', '      CAMERA RISE TIME = 0.130 SECONDS', '')\n",
      "('HISTORY', '      EFFECTIVE EXPOSURE TIME = 10799.793 SECONDS', '')\n",
      "('HISTORY', ' TEMPERATURE-DEPENDENT SENSITIVITY CORRECTION APPLIED USING:', '')\n",
      "('HISTORY', '      THDA OF IMAGE =  8.80', '')\n",
      "('HISTORY', '      REFERENCE THDA =  9.40', '')\n",
      "('HISTORY', '      TEMPERATURE COEFFICIENT = -0.0046', '')\n",
      "('HISTORY', '      TEMPERATURE CORRECTION FACTOR =   0.997', '')\n",
      "('HISTORY', ' SENSITIVITY DEGRADATION CORRECTION SWP VERSION 1.0 APPLIED USING:', '')\n",
      "('HISTORY', '      MODE = LARGE APERTURE POINT SOURCE', '')\n",
      "('HISTORY', '      CALIBRATION EPOCH = 1985.00', '')\n",
      "('HISTORY', '      OBSERVATION DATE = 1979.148', '')\n",
      "('HISTORY', 'END   EXTRACT                               16-OCT-1996 00:32:36', '')\n",
      "('HISTORY', '****************************************************************', '')\n",
      "('HISTORY', 'START FITSCOPY                              16-OCT-1996 00:32:39', '')\n"
     ]
    }
   ],
   "source": [
    "# The first header contains the minimal infirmation:\n",
    "print(hdulist[0].header.cards)"
   ]
  },
  {
   "cell_type": "code",
   "execution_count": 137,
   "metadata": {
    "collapsed": false,
    "jupyter": {
     "outputs_hidden": false
    }
   },
   "outputs": [
    {
     "name": "stdout",
     "output_type": "stream",
     "text": [
      "('XTENSION', 'BINTABLE', 'Binary table extension')\n",
      "('BITPIX', 8, 'Binary data')\n",
      "('NAXIS', 2, 'Two-dimensional table array')\n",
      "('NAXIS1', 16961, 'Width of row in bytes')\n",
      "('NAXIS2', 60, 'Number of orders')\n"
     ]
    }
   ],
   "source": [
    "# The number of axis is 0 which means there is no data block in the primary HDU. \n",
    "# The header of the second HDU begins with the keyword XTENSION and with the specification of the data\n",
    "print(hdulist[1].header.cards[:5])"
   ]
  },
  {
   "cell_type": "code",
   "execution_count": 138,
   "metadata": {
    "collapsed": false,
    "jupyter": {
     "outputs_hidden": false
    }
   },
   "outputs": [],
   "source": [
    "# To progress further we need to know what is in the table. \n",
    "# As usual, the columns have names and type of the stored data. \n",
    "# These information can be obtained using the column attribute of hdulist:\n",
    "cols = hdulist[1].columns"
   ]
  },
  {
   "cell_type": "code",
   "execution_count": 139,
   "metadata": {
    "collapsed": false,
    "jupyter": {
     "outputs_hidden": false
    }
   },
   "outputs": [
    {
     "data": {
      "text/plain": [
       "<bound method ColDefs.info of ColDefs(\n",
       "    name = 'ORDER'; format = '1B'\n",
       "    name = 'NPOINTS'; format = '1I'\n",
       "    name = 'WAVELENGTH'; format = '1D'; unit = 'ANGSTROM'\n",
       "    name = 'STARTPIX'; format = '1I'; unit = 'PIXEL'\n",
       "    name = 'DELTAW'; format = '1D'; unit = 'ANGSTROM'\n",
       "    name = 'SLIT HEIGHT'; format = '1E'; unit = 'PIXEL'\n",
       "    name = 'LINE_FOUND'; format = '1E'; unit = 'PIXEL'\n",
       "    name = 'NET'; format = '768E'; unit = 'FN'\n",
       "    name = 'BACKGROUND'; format = '768E'; unit = 'FN'\n",
       "    name = 'NOISE'; format = '768E'; unit = 'FN'\n",
       "    name = 'QUALITY'; format = '768I'\n",
       "    name = 'RIPPLE'; format = '768E'; unit = 'FN'\n",
       "    name = 'ABS_CAL'; format = '768E'; unit = 'ERG/CM2/S/A'\n",
       "    name = 'START-BKG'; format = '1I'; unit = 'PIXEL'\n",
       "    name = 'END-BKG'; format = '1I'; unit = 'PIXEL'\n",
       "    name = 'SCALE_BKG'; format = '1E'\n",
       "    name = 'COEFF'; format = '7E'\n",
       ")>"
      ]
     },
     "execution_count": 139,
     "metadata": {},
     "output_type": "execute_result"
    }
   ],
   "source": [
    "# the cols.info returns the names of the columns and the information of their format and units.\n",
    "cols.info"
   ]
  },
  {
   "cell_type": "code",
   "execution_count": 140,
   "metadata": {
    "collapsed": false,
    "jupyter": {
     "outputs_hidden": false
    }
   },
   "outputs": [
    {
     "data": {
      "image/png": "[encoded data removed]",
      "text/plain": [
       "<Figure size 432x288 with 1 Axes>"
      ]
     },
     "metadata": {
      "needs_background": "light"
     },
     "output_type": "display_data"
    }
   ],
   "source": [
    "# The data are available using (this example is NOT the right way of plotting the data, it's just an example) \n",
    "# and don't forget to import numpy as np to have np.arange working]:\n",
    "\n",
    "data1 = hdulist[1].data\n",
    "DTs =  data1.ABS_CAL\n",
    "WLs = data1.WAVELENGTH\n",
    "DWs = data1.DELTAW\n",
    "for WL, DW, DT in zip(WLs, DWs, DTs):\n",
    "    plt.plot(WL + np.arange(len(DT)) * DW, DT)"
   ]
  },
  {
   "cell_type": "markdown",
   "metadata": {},
   "source": [
    "### Writing FITS files"
   ]
  },
  {
   "cell_type": "code",
   "execution_count": 141,
   "metadata": {
    "collapsed": false,
    "jupyter": {
     "outputs_hidden": false
    }
   },
   "outputs": [],
   "source": [
    "# Creation of numpy array with the data. \n",
    "x = np.arange(100)"
   ]
  },
  {
   "cell_type": "code",
   "execution_count": 142,
   "metadata": {
    "collapsed": false,
    "jupyter": {
     "outputs_hidden": false
    }
   },
   "outputs": [
    {
     "name": "stdout",
     "output_type": "stream",
     "text": [
      "('SIMPLE', True, 'conforms to FITS standard')\n",
      "('BITPIX', 64, 'array data type')\n",
      "('NAXIS', 1, 'number of array dimensions')\n",
      "('NAXIS1', 100, '')\n",
      "('EXTEND', True, '')\n"
     ]
    }
   ],
   "source": [
    "# Creation of the HDU from the data. \n",
    "hdu = fits.PrimaryHDU(x)\n",
    "print(hdu.header.cards)"
   ]
  },
  {
   "cell_type": "code",
   "execution_count": 143,
   "metadata": {
    "collapsed": false,
    "jupyter": {
     "outputs_hidden": false
    }
   },
   "outputs": [],
   "source": [
    "#Adding additional keywords to the header. \n",
    "# The automatically created header contains only the required minimum of keywords. \n",
    "# If additional keywords are needed they are added with:\n",
    "hdu.header['testkey'] = (0.001,'some test value')"
   ]
  },
  {
   "cell_type": "code",
   "execution_count": 144,
   "metadata": {
    "collapsed": false,
    "jupyter": {
     "outputs_hidden": false
    }
   },
   "outputs": [
    {
     "name": "stdout",
     "output_type": "stream",
     "text": [
      "('SIMPLE', True, 'conforms to FITS standard')\n",
      "('BITPIX', 64, 'array data type')\n",
      "('NAXIS', 1, 'number of array dimensions')\n",
      "('NAXIS1', 100, '')\n",
      "('EXTEND', True, '')\n",
      "('TESTKEY', 0.001, 'some test value')\n"
     ]
    }
   ],
   "source": [
    "print(hdu.header.cards)"
   ]
  },
  {
   "cell_type": "code",
   "execution_count": 145,
   "metadata": {
    "collapsed": false,
    "jupyter": {
     "outputs_hidden": false
    }
   },
   "outputs": [],
   "source": [
    "hdulist = fits.HDUList([hdu])\n",
    "hdulist.writeto('new.fits', overwrite=True) \n",
    "hdulist.close()"
   ]
  },
  {
   "cell_type": "markdown",
   "metadata": {},
   "source": [
    "Another way to deal with FITS tables is to use the ATpy library, we'll see this later"
   ]
  }
 ],
 "metadata": {
  "kernelspec": {
   "display_name": "Python 3",
   "language": "python",
   "name": "python3"
  },
  "language_info": {
   "codemirror_mode": {
    "name": "ipython",
    "version": 3
   },
   "file_extension": ".py",
   "mimetype": "text/x-python",
   "name": "python",
   "nbconvert_exporter": "python",
   "pygments_lexer": "ipython3",
   "version": "3.7.6"
  }
 },
 "nbformat": 4,
 "nbformat_minor": 4
}

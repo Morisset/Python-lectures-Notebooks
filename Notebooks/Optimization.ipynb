{
 "cells": [
  {
   "cell_type": "code",
   "execution_count": 1,
   "metadata": {
    "collapsed": false,
    "jupyter": {
     "outputs_hidden": false
    }
   },
   "outputs": [
    {
     "name": "stdout",
     "output_type": "stream",
     "text": [
      "Thu Nov  3 16:57:24 2022\n"
     ]
    }
   ],
   "source": [
    "# Just to know last time this was run:\n",
    "import time\n",
    "print(time.ctime())"
   ]
  },
  {
   "cell_type": "code",
   "execution_count": 2,
   "metadata": {},
   "outputs": [
    {
     "name": "stdout",
     "output_type": "stream",
     "text": [
      "Scalene extension successfully loaded. Note: Scalene currently only\n",
      "supports CPU+GPU profiling inside Jupyter notebooks. For full Scalene\n",
      "profiling, use the command line version.\n"
     ]
    }
   ],
   "source": [
    "%load_ext scalene"
   ]
  },
  {
   "cell_type": "markdown",
   "metadata": {},
   "source": [
    "# H Optimizing code writing"
   ]
  },
  {
   "cell_type": "markdown",
   "metadata": {},
   "source": [
    "This is part of the Python lecture given by Christophe Morisset at IA-UNAM. More informations at: https://github.com/Morisset/Python-lectures-Notebooks"
   ]
  },
  {
   "cell_type": "code",
   "execution_count": 3,
   "metadata": {
    "collapsed": false,
    "jupyter": {
     "outputs_hidden": false
    }
   },
   "outputs": [],
   "source": [
    "import numpy as np\n",
    "import os\n",
    "from urllib.request import urlopen\n",
    "from scipy.integrate import simps"
   ]
  },
  {
   "cell_type": "markdown",
   "metadata": {},
   "source": [
    "### Profiling the code: CPU usage"
   ]
  },
  {
   "cell_type": "code",
   "execution_count": 4,
   "metadata": {},
   "outputs": [
    {
     "name": "stdout",
     "output_type": "stream",
     "text": [
      "Overwriting test_1_prof.py\n"
     ]
    }
   ],
   "source": [
    "%%writefile test_1_prof.py\n",
    "\n",
    "import numpy as np\n",
    "import os\n",
    "from urllib.request import urlopen\n",
    "from scipy.integrate import simps\n",
    "\n",
    "class Stel_Spectrum(object):\n",
    "    \"\"\"\n",
    "    This object downloads a file from http://astro.uni-tuebingen.de/~rauch/TMAF/NLTE/He+C+N+O/\n",
    "    and is able to make some plots.    \n",
    "    \"\"\"\n",
    "    \n",
    "    spec_count = 0 # This attibute is at the level of the class, not of the object.\n",
    "    def __init__(self, filename=None, T=None, logg=None, verbose=False):\n",
    "        \"\"\"\n",
    "        Initialisation of the Stel_Spectrum object.\n",
    "        Parameter:\n",
    "            - filename\n",
    "            - T: temperature in K, e.g. 150000\n",
    "            - logg: e.g. 7.5\n",
    "            - verbose: if True, some info are printed out\n",
    "        The wl variable is an array of wavelengths in Angstrom.\n",
    "        The fl variable is the flux in erg/s/cm2/A\n",
    "        The variables T and logg are properties: changing them will reload the data\n",
    "        \"\"\"\n",
    "        self.verbose = verbose\n",
    "        if filename is None:\n",
    "            if T is not None and logg is not None:\n",
    "                self.__T = T # We need to initialize the hidden values, as logg is still not defined\n",
    "                self.logg = logg\n",
    "                self.filename = '0{0:06.0f}_{1:.2f}_33_50_02_15.bin_0.1.gz'.format(self.T, self.logg)\n",
    "            else:\n",
    "                raise TypeError(\"T and logg must be given\")\n",
    "        else:\n",
    "            self.filename = filename\n",
    "            self.__T = float(filename.split('_')[0]) # We need to initialize the hidden values, as logg is still not defined\n",
    "            self.logg = float(filename.split('_')[1])\n",
    "        Stel_Spectrum.spec_count += 1\n",
    "        if self.verbose:\n",
    "            print('Instantiation done')\n",
    "            \n",
    "    def dlfile(self):\n",
    "        \"\"\"\n",
    "        Downloading file if not already here. Put it in the current directory\n",
    "        \"\"\"\n",
    "        if not os.path.exists(self.filename):\n",
    "            if self.verbose:\n",
    "                print('Downloading {}'.format(self.filename))\n",
    "            try:\n",
    "                stel_file = urlopen('http://astro.uni-tuebingen.de/~rauch/TMAF/NLTE/He+C+N+O/' + \n",
    "                                            self.filename)\n",
    "                output = open(self.filename,'wb')\n",
    "                output.write(stel_file.read())\n",
    "                output.close()\n",
    "                self.file_found=True\n",
    "            except:\n",
    "                if self.verbose:\n",
    "                    print('file {} not found'.format(self.filename))\n",
    "                self.file_found=False\n",
    "        else:\n",
    "            if self.verbose:\n",
    "                print('{} already on disk'.format(self.filename))\n",
    "            self.file_found=True\n",
    "                \n",
    "    def read_data(self):\n",
    "        \"\"\"\n",
    "        read the data from the file\n",
    "        \"\"\"\n",
    "        if self.file_found:\n",
    "            data = np.genfromtxt(self.filename, comments='*', names='wl, fl')\n",
    "            self.fl = data['fl']\n",
    "            self.wl = data['wl'] # in A\n",
    "            self.fl /= 1e8 # F LAMBDA  GIVEN IN ERG/CM**2/SEC/CM -> erg/s/cm2/A\n",
    "            if self.verbose:\n",
    "                print('Read data from {}'.format(self.filename))\n",
    "        else:\n",
    "            if self.verbose:\n",
    "                print('file not found {}'.format(self.filename))\n",
    "            self.wl = None\n",
    "            self.fl = None\n",
    "        \n",
    "    def plot_spr(self, ax=None, *args, **kwargs):\n",
    "        \"\"\"\n",
    "        Plot the spectrum.\n",
    "        Parameter:\n",
    "            - ax: an axis (optionnal). If Noe or absent, axis is created\n",
    "            - any extra parameter is passed to ax.plot\n",
    "        \"\"\"\n",
    "        if self.wl is None:\n",
    "            print('No data to plot')\n",
    "            return\n",
    "        if ax is None:\n",
    "            fig, ax = plt.subplots()\n",
    "        ax.plot(self.wl, self.fl,\n",
    "                label='T3={0:.0f}, logg={1}'.format(self.T/1e3, self.logg),\n",
    "                *args, **kwargs) # Here are the transmissions of extra parameters to plot\n",
    "        ax.set_yscale('log')\n",
    "        ax.set_ylim(1e6, 1e14)\n",
    "        ax.set_xlabel('Wavelength (A)')\n",
    "        \n",
    "    def get_integ(self):\n",
    "        \"\"\"\n",
    "        Return the integral of Flambda over lambda, in erg/s/cm2\n",
    "        \"\"\"\n",
    "        if self.wl is None:\n",
    "            print('No data')\n",
    "            return None\n",
    "        return simps(self.fl, self.wl) # perform the integral\n",
    "    \n",
    "    def __getT(self): \n",
    "        return self.__T\n",
    "    \n",
    "    def __setT(self, value): \n",
    "        if not isinstance(value, (int, float)): # check the type of the input\n",
    "            raise TypeError('T must be an integer or a float')\n",
    "        if float(value) not in np.linspace(40000, 190000, 16): # check the value of the input\n",
    "            raise ValueError('T value must be between 40000 and 190000K, by 10000K steps')\n",
    "        elif self.__T != value:\n",
    "            self.__T = value\n",
    "            self.filename = '0{0:06.0f}_{1:.2f}_33_50_02_15.bin_0.1.gz'.format(self.T, self.logg)\n",
    "            self.dlfile() # will download new data\n",
    "            self.read_data() # will update the data\n",
    "        \n",
    "    def __delT(self): \n",
    "        print('T is needed')\n",
    "        \n",
    "    T = property(__getT, __setT, __delT, \"Stellar effective temperature in K\")\n",
    "    \n",
    "    def __getlogg(self): \n",
    "        return self.__logg\n",
    "    \n",
    "    def __setlogg(self, value):\n",
    "        try:\n",
    "            self.__logg \n",
    "        except:\n",
    "            self.__logg = -1\n",
    "        if not isinstance(value, (int, float)):\n",
    "            raise TypeError('logg must be an integer or a float')\n",
    "        if float(value) not in (-1., 5., 6., 7. ,8., 9.):\n",
    "            raise ValueError('Error, logg must be 6, 7, 8, or 9')\n",
    "            self.__logg = None\n",
    "        elif self.__logg != value:\n",
    "            self.__logg = value\n",
    "            self.filename = '0{0:06.0f}_{1:.2f}_33_50_02_15.bin_0.1.gz'.format(self.T, self.logg)\n",
    "            self.dlfile() # will download new data\n",
    "            self.read_data() # will update the data\n",
    "        \n",
    "    def __dellogg(self): \n",
    "        print('logg is needed')\n",
    "        \n",
    "    logg = property(__getlogg, __setlogg, __dellogg, \"Stellar logg\")\n",
    "\n",
    "    def print_info(self):\n",
    "        \"\"\"\n",
    "        Print out the filename and the number of points\n",
    "        \"\"\"\n",
    "        print(self.__repr__())\n",
    "        \n",
    "    def __repr__(self):\n",
    "        \"\"\"\n",
    "        This is what is used when calling \"print <obj>\" or <obj> ENTER\n",
    "        \"\"\"\n",
    "        if self.wl is None:\n",
    "            return'Filename: {0}, No data'.format(self.filename)\n",
    "        else:\n",
    "            return'Filename: {0}, number of points: {1}'.format(self.filename, len(self.wl))\n",
    "    \n",
    "    def __del__(self):\n",
    "        Stel_Spectrum.spec_count -= 1\n",
    "\n",
    "spectra = [] # we create an empty list\n",
    "for T in np.linspace(40000, 190000, 4): # this is the list of available temperature (check the site)\n",
    "    spectra.append(Stel_Spectrum(T=T, logg=6, verbose=True)) # we fill the list with the objects for each temperature\n",
    "T = np.array([sp.T for sp in spectra])\n",
    "F = np.array([sp.get_integ() for sp in spectra])\n",
    "for t, f in zip(T, F):\n",
    "    print('Temperature = {0:.0f}K, Flux = {1:.2e} erg/s/cm2'.format(t, f))\n",
    "print('DONE')"
   ]
  },
  {
   "cell_type": "code",
   "execution_count": 9,
   "metadata": {
    "collapsed": false,
    "jupyter": {
     "outputs_hidden": false
    }
   },
   "outputs": [
    {
     "name": "stdout",
     "output_type": "stream",
     "text": [
      "0040000_6.00_33_50_02_15.bin_0.1.gz already on disk\n",
      "Read data from 0040000_6.00_33_50_02_15.bin_0.1.gz\n",
      "Instantiation done\n",
      "0090000_6.00_33_50_02_15.bin_0.1.gz already on disk\n",
      "Read data from 0090000_6.00_33_50_02_15.bin_0.1.gz\n",
      "Instantiation done\n",
      "0140000_6.00_33_50_02_15.bin_0.1.gz already on disk\n",
      "Read data from 0140000_6.00_33_50_02_15.bin_0.1.gz\n",
      "Instantiation done\n",
      "0190000_6.00_33_50_02_15.bin_0.1.gz already on disk\n",
      "Read data from 0190000_6.00_33_50_02_15.bin_0.1.gz\n",
      "Instantiation done\n",
      "Temperature = 40000K, Flux = 4.00e+13 erg/s/cm2\n",
      "Temperature = 90000K, Flux = 1.05e+15 erg/s/cm2\n",
      "Temperature = 140000K, Flux = 6.93e+15 erg/s/cm2\n",
      "Temperature = 190000K, Flux = 2.35e+16 erg/s/cm2\n",
      "DONE\n",
      "\n",
      "IPython CPU timings (estimated):\n",
      "  User   :       0.17 s.\n",
      "  System :       0.00 s.\n",
      "Wall time:       0.18 s.\n"
     ]
    }
   ],
   "source": [
    "%run -t test_1_prof.py"
   ]
  },
  {
   "cell_type": "code",
   "execution_count": 10,
   "metadata": {
    "collapsed": false,
    "jupyter": {
     "outputs_hidden": false
    }
   },
   "outputs": [
    {
     "name": "stdout",
     "output_type": "stream",
     "text": [
      "0040000_6.00_33_50_02_15.bin_0.1.gz already on disk\n",
      "Read data from 0040000_6.00_33_50_02_15.bin_0.1.gz\n",
      "Instantiation done\n",
      "0090000_6.00_33_50_02_15.bin_0.1.gz already on disk\n",
      "Read data from 0090000_6.00_33_50_02_15.bin_0.1.gz\n",
      "Instantiation done\n",
      "0140000_6.00_33_50_02_15.bin_0.1.gz already on disk\n",
      "Read data from 0140000_6.00_33_50_02_15.bin_0.1.gz\n",
      "Instantiation done\n",
      "0190000_6.00_33_50_02_15.bin_0.1.gz already on disk\n",
      "Read data from 0190000_6.00_33_50_02_15.bin_0.1.gz\n",
      "Instantiation done\n",
      "Temperature = 40000K, Flux = 4.00e+13 erg/s/cm2\n",
      "Temperature = 90000K, Flux = 1.05e+15 erg/s/cm2\n",
      "Temperature = 140000K, Flux = 6.93e+15 erg/s/cm2\n",
      "Temperature = 190000K, Flux = 2.35e+16 erg/s/cm2\n",
      "DONE\n",
      " "
     ]
    },
    {
     "data": {
      "text/plain": [
       "         964878 function calls (964866 primitive calls) in 0.309 seconds\n",
       "\n",
       "   Ordered by: internal time\n",
       "\n",
       "   ncalls  tottime  percall  cumtime  percall filename:lineno(function)\n",
       "        4    0.087    0.022    0.319    0.080 npyio.py:1558(genfromtxt)\n",
       "    79896    0.051    0.000    0.079    0.000 _iotools.py:199(_delimited_splitter)\n",
       "    79896    0.034    0.000    0.123    0.000 _iotools.py:226(__call__)\n",
       "       20    0.022    0.001    0.022    0.001 {built-in method numpy.array}\n",
       "   159608    0.022    0.000    0.022    0.000 _iotools.py:671(_loose_call)\n",
       "   159721    0.019    0.000    0.019    0.000 {method 'split' of 'str' objects}\n",
       "   160719    0.012    0.000    0.012    0.000 {built-in method builtins.len}\n",
       "    79996    0.010    0.000    0.010    0.000 _iotools.py:11(_decode_line)\n",
       "    79920    0.009    0.000    0.009    0.000 {method 'strip' of 'str' objects}\n",
       "    80096    0.008    0.000    0.008    0.000 gzip.py:322(closed)\n",
       "    79853    0.006    0.000    0.006    0.000 {method 'append' of 'list' objects}\n",
       "        1    0.006    0.006    0.006    0.006 {built-in method builtins.compile}\n",
       "      168    0.005    0.000    0.005    0.000 {method 'decompress' of 'zlib.Decompress' objects}\n",
       "        4    0.004    0.001    0.324    0.081 test_1_prof.py:65(read_data)\n",
       "        6    0.002    0.000    0.002    0.000 {built-in method io.open}\n",
       "      176    0.001    0.000    0.001    0.000 {built-in method zlib.crc32}\n",
       "      317    0.001    0.000    0.001    0.000 {method 'read' of '_io.BufferedReader' objects}\n",
       "      172    0.001    0.000    0.010    0.000 _compression.py:66(readinto)\n",
       "      172    0.001    0.000    0.009    0.000 gzip.py:462(read)\n",
       "      320    0.001    0.000    0.001    0.000 gzip.py:85(read)\n",
       "      172    0.000    0.000    0.011    0.000 {method 'read1' of '_io.BufferedReader' objects}\n",
       "        4    0.000    0.000    0.001    0.000 _quadrature.py:391(_basic_simpson)\n",
       "        4    0.000    0.000    0.000    0.000 function_base.py:1153(diff)\n",
       "      172    0.000    0.000    0.011    0.000 gzip.py:302(read1)\n",
       "        8    0.000    0.000    0.000    0.000 {built-in method posix.stat}\n",
       "        5    0.000    0.000    0.000    0.000 {built-in method posix.getcwd}\n",
       "      172    0.000    0.000    0.000    0.000 {built-in method _codecs.utf_8_decode}\n",
       "      168    0.000    0.000    0.002    0.000 gzip.py:513(_add_read_data)\n",
       "      172    0.000    0.000    0.000    0.000 codecs.py:319(decode)\n",
       "       36    0.000    0.000    0.000    0.000 socket.py:474(send)\n",
       "      168    0.000    0.000    0.000    0.000 gzip.py:98(prepend)\n",
       "       13    0.000    0.000    0.000    0.000 {method 'reduce' of 'numpy.ufunc' objects}\n",
       "      172    0.000    0.000    0.000    0.000 {method 'cast' of 'memoryview' objects}\n",
       "      2/1    0.000    0.000    0.334    0.334 {built-in method builtins.exec}\n",
       "       34    0.000    0.000    0.001    0.000 iostream.py:500(write)\n",
       "       36    0.000    0.000    0.000    0.000 iostream.py:206(schedule)\n",
       "        1    0.000    0.000    0.000    0.000 function_base.py:23(linspace)\n",
       "        1    0.000    0.000    0.334    0.334 interactiveshell.py:2720(safe_execfile)\n",
       "      176    0.000    0.000    0.000    0.000 _compression.py:12(_check_not_closed)\n",
       "       20    0.000    0.000    0.000    0.000 {method 'format' of 'str' objects}\n",
       "       13    0.000    0.000    0.000    0.000 posixpath.py:334(normpath)\n",
       "      344    0.000    0.000    0.000    0.000 {method '__exit__' of 'memoryview' objects}\n",
       "        4    0.000    0.000    0.001    0.000 gzip.py:25(open)\n",
       "        8    0.000    0.000    0.000    0.000 _iotools.py:312(validate)\n",
       "        1    0.000    0.000    0.326    0.326 test_1_prof.py:2(<module>)\n",
       "       13    0.000    0.000    0.000    0.000 fromnumeric.py:70(_wrapreduction)\n",
       "       16    0.000    0.000    0.000    0.000 parse.py:437(urlsplit)\n",
       "        8    0.000    0.000    0.000    0.000 gzip.py:429(_read_gzip_header)\n",
       "       16    0.000    0.000    0.000    0.000 parse.py:372(urlparse)\n",
       "       92    0.000    0.000    0.001    0.000 {built-in method builtins.next}\n",
       "      182    0.000    0.000    0.000    0.000 {built-in method builtins.isinstance}\n",
       "        8    0.000    0.000    0.000    0.000 _iotools.py:285(__init__)\n",
       "    24/21    0.000    0.000    0.001    0.000 {built-in method numpy.core._multiarray_umath.implement_array_function}\n",
       "        2    0.000    0.000    0.000    0.000 {method '__exit__' of '_io._IOBase' objects}\n",
       "        9    0.000    0.000    0.000    0.000 posixpath.py:71(join)\n",
       "        8    0.000    0.000    0.000    0.000 _iotools.py:598(__init__)\n",
       "        4    0.000    0.000    0.000    0.000 _iotools.py:823(easy_dtype)\n",
       "        1    0.000    0.000    0.333    0.333 py3compat.py:164(execfile)\n",
       "       12    0.000    0.000    0.000    0.000 _datasource.py:301(_isurl)\n",
       "     12/4    0.000    0.000    0.000    0.000 _iotools.py:87(flatten_dtype)\n",
       "       17    0.000    0.000    0.001    0.000 {built-in method builtins.print}\n",
       "       36    0.000    0.000    0.000    0.000 threading.py:1113(is_alive)\n",
       "        4    0.000    0.000    0.325    0.081 test_1_prof.py:132(__setlogg)\n",
       "        5    0.000    0.000    0.000    0.000 _bootlocale.py:33(getpreferredencoding)\n",
       "        5    0.000    0.000    0.000    0.000 posixpath.py:373(abspath)\n",
       "        4    0.000    0.000    0.000    0.000 gzip.py:133(__init__)\n",
       "       36    0.000    0.000    0.000    0.000 iostream.py:96(_event_pipe)\n",
       "        8    0.000    0.000    0.000    0.000 _datasource.py:415(_sanitize_relative_path)\n",
       "        1    0.000    0.000    0.000    0.000 posixpath.py:150(dirname)\n",
       "        8    0.000    0.000    0.000    0.000 {method 'close' of '_io.BufferedReader' objects}\n",
       "       34    0.000    0.000    0.000    0.000 iostream.py:418(_is_master_process)\n",
       "        5    0.000    0.000    0.000    0.000 {built-in method _locale.nl_langinfo}\n",
       "       32    0.000    0.000    0.000    0.000 parse.py:114(_coerce_args)\n",
       "        1    0.000    0.000    0.000    0.000 {built-in method builtins.__build_class__}\n",
       "        4    0.000    0.000    0.001    0.000 _quadrature.py:433(simpson)\n",
       "        4    0.000    0.000    0.325    0.081 test_1_prof.py:14(__init__)\n",
       "        4    0.000    0.000    0.047    0.012 npyio.py:2137(<listcomp>)\n",
       "       16    0.000    0.000    0.000    0.000 genericpath.py:121(_splitext)\n",
       "       12    0.000    0.000    0.000    0.000 _datasource.py:262(_iszip)\n",
       "        4    0.000    0.000    0.000    0.000 gzip.py:402(__init__)\n",
       "       12    0.000    0.000    0.000    0.000 _datasource.py:131(keys)\n",
       "       16    0.000    0.000    0.000    0.000 posixpath.py:117(splitext)\n",
       "        4    0.000    0.000    0.000    0.000 {method 'view' of 'numpy.ndarray' objects}\n",
       "        4    0.000    0.000    0.001    0.000 _datasource.py:485(open)\n",
       "       36    0.000    0.000    0.000    0.000 threading.py:1059(_wait_for_tstate_lock)\n",
       "        4    0.000    0.000    0.000    0.000 fromnumeric.py:1439(squeeze)\n",
       "       36    0.000    0.000    0.000    0.000 {method 'acquire' of '_thread.lock' objects}\n",
       "        1    0.000    0.000    0.000    0.000 posixpath.py:228(expanduser)\n",
       "        8    0.000    0.000    0.000    0.000 {built-in method zlib.decompressobj}\n",
       "        8    0.000    0.000    0.000    0.000 fromnumeric.py:2912(prod)\n",
       "       33    0.000    0.000    0.000    0.000 {method 'rfind' of 'str' objects}\n",
       "        4    0.000    0.000    0.000    0.000 test_1_prof.py:42(dlfile)\n",
       "        4    0.000    0.000    0.000    0.000 _datasource.py:373(abspath)\n",
       "      116    0.000    0.000    0.000    0.000 {method 'replace' of 'str' objects}\n",
       "        4    0.000    0.000    0.000    0.000 _datasource.py:342(_findfile)\n",
       "        5    0.000    0.000    0.000    0.000 codecs.py:309(__init__)\n",
       "        4    0.000    0.000    0.000    0.000 _compression.py:59(close)\n",
       "        4    0.000    0.000    0.000    0.000 npyio.py:1989(<listcomp>)\n",
       "        4    0.000    0.000    0.000    0.000 _compression.py:39(__init__)\n",
       "       16    0.000    0.000    0.000    0.000 <string>:1(<lambda>)\n",
       "       37    0.000    0.000    0.000    0.000 {method 'startswith' of 'str' objects}\n",
       "        4    0.000    0.000    0.000    0.000 gzip.py:517(_read_eof)\n",
       "       36    0.000    0.000    0.000    0.000 threading.py:529(is_set)\n",
       "       34    0.000    0.000    0.000    0.000 {built-in method posix.getpid}\n",
       "        8    0.000    0.000    0.000    0.000 {built-in method _struct.unpack}\n",
       "        4    0.000    0.000    0.001    0.000 _datasource.py:156(open)\n",
       "        8    0.000    0.000    0.000    0.000 <__array_function__ internals>:2(prod)\n",
       "        8    0.000    0.000    0.000    0.000 _iotools.py:584(_find_map_entry)\n",
       "        8    0.000    0.000    0.000    0.000 genericpath.py:16(exists)\n",
       "       32    0.000    0.000    0.000    0.000 {method 'get' of 'dict' objects}\n",
       "        5    0.000    0.000    0.000    0.000 posixpath.py:60(isabs)\n",
       "       15    0.000    0.000    0.000    0.000 posixpath.py:41(_get_sep)\n",
       "       66    0.000    0.000    0.000    0.000 {built-in method posix.fspath}\n",
       "        4    0.000    0.000    0.000    0.000 _iotools.py:170(__init__)\n",
       "       34    0.000    0.000    0.000    0.000 iostream.py:437(_schedule_flush)\n",
       "        8    0.000    0.000    0.000    0.000 _iotools.py:382(__call__)\n",
       "       13    0.000    0.000    0.000    0.000 fromnumeric.py:71(<dictcomp>)\n",
       "        4    0.000    0.000    0.000    0.000 contextlib.py:321(__exit__)\n",
       "        4    0.000    0.000    0.000    0.000 <__array_function__ internals>:2(squeeze)\n",
       "        4    0.000    0.000    0.000    0.000 _datasource.py:150(__getitem__)\n",
       "        9    0.000    0.000    0.000    0.000 {method 'reshape' of 'numpy.ndarray' objects}\n",
       "        4    0.000    0.000    0.000    0.000 gzip.py:326(close)\n",
       "        8    0.000    0.000    0.000    0.000 gzip.py:413(_read_exact)\n",
       "        1    0.000    0.000    0.000    0.000 {method 'any' of 'numpy.generic' objects}\n",
       "        9    0.000    0.000    0.000    0.000 {built-in method builtins.getattr}\n",
       "       25    0.000    0.000    0.000    0.000 {method 'join' of 'str' objects}\n",
       "        4    0.000    0.000    0.000    0.000 {method 'close' of '_io.TextIOWrapper' objects}\n",
       "        4    0.000    0.000    0.000    0.000 _internal.py:433(_view_is_safe)\n",
       "        4    0.000    0.000    0.000    0.000 _datasource.py:247(__init__)\n",
       "       16    0.000    0.000    0.000    0.000 {built-in method __new__ of type object at 0x5580baefb740}\n",
       "        4    0.000    0.000    0.000    0.000 fromnumeric.py:2111(sum)\n",
       "        8    0.000    0.000    0.000    0.000 gzip.py:409(_init_read)\n",
       "       16    0.000    0.000    0.000    0.000 _iotools.py:365(<listcomp>)\n",
       "        4    0.000    0.000    0.000    0.000 {built-in method _abc._abc_instancecheck}\n",
       "        1    0.000    0.000    0.000    0.000 test_1_prof.py:7(Stel_Spectrum)\n",
       "       12    0.000    0.000    0.000    0.000 posixpath.py:131(splitdrive)\n",
       "        8    0.000    0.000    0.000    0.000 _datasource.py:292(_possible_names)\n",
       "       12    0.000    0.000    0.000    0.000 npyio.py:2212(<genexpr>)\n",
       "        4    0.000    0.000    0.000    0.000 gzip.py:352(fileno)\n",
       "        4    0.000    0.000    0.000    0.000 gzip.py:79(__init__)\n",
       "       48    0.000    0.000    0.000    0.000 {method 'lstrip' of 'str' objects}\n",
       "        1    0.000    0.000    0.000    0.000 {built-in method numpy.arange}\n",
       "       36    0.000    0.000    0.000    0.000 {method 'append' of 'collections.deque' objects}\n",
       "        5    0.000    0.000    0.000    0.000 codecs.py:260(__init__)\n",
       "        1    0.000    0.000    0.334    0.334 <string>:1(<module>)\n",
       "        4    0.000    0.000    0.000    0.000 <__array_function__ internals>:2(diff)\n",
       "       20    0.000    0.000    0.000    0.000 _quadrature.py:282(tupleset)\n",
       "        2    0.000    0.000    0.000    0.000 numerictypes.py:285(issubclass_)\n",
       "        1    0.000    0.000    0.000    0.000 <__array_function__ internals>:2(linspace)\n",
       "        4    0.000    0.000    0.000    0.000 <__array_function__ internals>:2(sum)\n",
       "        1    0.000    0.000    0.000    0.000 syspathcontext.py:48(__enter__)\n",
       "        4    0.000    0.000    0.000    0.000 abc.py:117(__instancecheck__)\n",
       "        8    0.000    0.000    0.000    0.000 _iotools.py:531(_dtypeortype)\n",
       "        4    0.000    0.000    0.000    0.000 {built-in method builtins.iter}\n",
       "       13    0.000    0.000    0.000    0.000 {method 'endswith' of 'str' objects}\n",
       "       16    0.000    0.000    0.000    0.000 _datasource.py:104(_load)\n",
       "        6    0.000    0.000    0.000    0.000 _asarray.py:110(asanyarray)\n",
       "        4    0.000    0.000    0.001    0.000 _quadrature.py:424(simps)\n",
       "       32    0.000    0.000    0.000    0.000 parse.py:103(_noop)\n",
       "        1    0.000    0.000    0.000    0.000 <frozen importlib._bootstrap>:1033(_handle_fromlist)\n",
       "        4    0.000    0.000    0.000    0.000 npyio.py:1854(<listcomp>)\n",
       "        4    0.000    0.000    0.001    0.000 test_1_prof.py:101(get_integ)\n",
       "        1    0.000    0.000    0.000    0.000 numerictypes.py:359(issubdtype)\n",
       "        1    0.000    0.000    0.000    0.000 fromnumeric.py:2256(any)\n",
       "       16    0.000    0.000    0.000    0.000 {method 'extend' of 'list' objects}\n",
       "        1    0.000    0.000    0.000    0.000 builtin_trap.py:39(__enter__)\n",
       "        4    0.000    0.000    0.000    0.000 _datasource.py:279(_splitzipext)\n",
       "        1    0.000    0.000    0.000    0.000 _methods.py:53(_any)\n",
       "        1    0.000    0.000    0.000    0.000 traitlets.py:535(get)\n",
       "       17    0.000    0.000    0.000    0.000 {method 'items' of 'dict' objects}\n",
       "        4    0.000    0.000    0.000    0.000 npyio.py:1893(<listcomp>)\n",
       "        1    0.000    0.000    0.000    0.000 traitlets.py:566(__get__)\n",
       "        4    0.000    0.000    0.000    0.000 _datasource.py:257(__del__)\n",
       "       12    0.000    0.000    0.000    0.000 test_1_prof.py:110(__getT)\n",
       "        4    0.000    0.000    0.000    0.000 _datasource.py:429(exists)\n",
       "        3    0.000    0.000    0.000    0.000 {built-in method builtins.issubclass}\n",
       "        4    0.000    0.000    0.000    0.000 gzip.py:345(flush)\n",
       "       12    0.000    0.000    0.000    0.000 {method 'keys' of 'dict' objects}\n",
       "        1    0.000    0.000    0.000    0.000 {method 'astype' of 'numpy.ndarray' objects}\n",
       "        1    0.000    0.000    0.001    0.001 test_1_prof.py:175(<listcomp>)\n",
       "        4    0.000    0.000    0.000    0.000 contextlib.py:317(__init__)\n",
       "        4    0.000    0.000    0.000    0.000 {method 'fileno' of '_io.BufferedReader' objects}\n",
       "        1    0.000    0.000    0.000    0.000 builtin_trap.py:46(__exit__)\n",
       "        8    0.000    0.000    0.000    0.000 _asarray.py:23(asarray)\n",
       "        1    0.000    0.000    0.000    0.000 <__array_function__ internals>:2(result_type)\n",
       "        4    0.000    0.000    0.000    0.000 {method 'update' of 'dict' objects}\n",
       "        1    0.000    0.000    0.000    0.000 <__array_function__ internals>:2(ndim)\n",
       "        1    0.000    0.000    0.000    0.000 <__array_function__ internals>:2(any)\n",
       "        4    0.000    0.000    0.000    0.000 {method 'squeeze' of 'numpy.ndarray' objects}\n",
       "        8    0.000    0.000    0.000    0.000 fromnumeric.py:2907(_prod_dispatcher)\n",
       "       16    0.000    0.000    0.000    0.000 _iotools.py:301(<lambda>)\n",
       "        8    0.000    0.000    0.000    0.000 {method 'add' of 'set' objects}\n",
       "        1    0.000    0.000    0.000    0.000 syspathcontext.py:45(__init__)\n",
       "        1    0.000    0.000    0.000    0.000 numeric.py:1865(isscalar)\n",
       "        4    0.000    0.000    0.000    0.000 _iotools.py:38(_is_string_like)\n",
       "        4    0.000    0.000    0.000    0.000 npyio.py:2219(<listcomp>)\n",
       "        4    0.000    0.000    0.000    0.000 gzip.py:367(readable)\n",
       "        4    0.000    0.000    0.000    0.000 {function DecompressReader.close at 0x7f44eee890d0}\n",
       "        8    0.000    0.000    0.000    0.000 test_1_prof.py:129(__getlogg)\n",
       "        4    0.000    0.000    0.000    0.000 {built-in method numpy.core._multiarray_umath.normalize_axis_index}\n",
       "        1    0.000    0.000    0.000    0.000 {method 'rstrip' of 'str' objects}\n",
       "        5    0.000    0.000    0.000    0.000 {built-in method builtins.hasattr}\n",
       "        4    0.000    0.000    0.000    0.000 fromnumeric.py:1435(_squeeze_dispatcher)\n",
       "        1    0.000    0.000    0.000    0.000 test_1_prof.py:174(<listcomp>)\n",
       "        4    0.000    0.000    0.000    0.000 gzip.py:370(writable)\n",
       "        1    0.000    0.000    0.000    0.000 fromnumeric.py:3106(ndim)\n",
       "        4    0.000    0.000    0.000    0.000 fromnumeric.py:2106(_sum_dispatcher)\n",
       "        4    0.000    0.000    0.000    0.000 _compression.py:36(readable)\n",
       "        4    0.000    0.000    0.000    0.000 _compression.py:150(tell)\n",
       "        4    0.000    0.000    0.000    0.000 function_base.py:1149(_diff_dispatcher)\n",
       "        4    0.000    0.000    0.000    0.000 gzip.py:373(seekable)\n",
       "        1    0.000    0.000    0.000    0.000 fromnumeric.py:3102(_ndim_dispatcher)\n",
       "        4    0.000    0.000    0.000    0.000 contextlib.py:319(__enter__)\n",
       "        1    0.000    0.000    0.000    0.000 function_base.py:18(_linspace_dispatcher)\n",
       "        1    0.000    0.000    0.000    0.000 {method 'disable' of '_lsprof.Profiler' objects}\n",
       "        1    0.000    0.000    0.000    0.000 syspathcontext.py:55(__exit__)\n",
       "        1    0.000    0.000    0.000    0.000 fromnumeric.py:2251(_any_dispatcher)\n",
       "        1    0.000    0.000    0.000    0.000 {built-in method _operator.index}\n",
       "        1    0.000    0.000    0.000    0.000 multiarray.py:644(result_type)"
      ]
     },
     "metadata": {},
     "output_type": "display_data"
    }
   ],
   "source": [
    "%run -p test_1_prof.py"
   ]
  },
  {
   "cell_type": "markdown",
   "metadata": {},
   "source": [
    "## Have a look at Scalene https://github.com/emeryberger/scalene"
   ]
  },
  {
   "cell_type": "code",
   "execution_count": 11,
   "metadata": {},
   "outputs": [
    {
     "name": "stdout",
     "output_type": "stream",
     "text": [
      "0100000_6.00_33_50_02_15.bin_0.1.gz already on disk\n",
      "Read data from 0100000_6.00_33_50_02_15.bin_0.1.gz\n",
      "Instantiation done\n"
     ]
    },
    {
     "data": {
      "text/html": [
       "\n",
       "        <iframe\n",
       "            width=\"700\"\n",
       "            height=\"600\"\n",
       "            src=\"http://localhost:8088/profiler.html\"\n",
       "            frameborder=\"0\"\n",
       "            allowfullscreen\n",
       "            \n",
       "        ></iframe>\n",
       "        "
      ],
      "text/plain": [
       "<IPython.lib.display.IFrame at 0x7f44b236f580>"
      ]
     },
     "metadata": {},
     "output_type": "display_data"
    }
   ],
   "source": [
    "%scrun spectra = Stel_Spectrum(T=100000, logg=6, verbose=True)"
   ]
  },
  {
   "cell_type": "code",
   "execution_count": 20,
   "metadata": {},
   "outputs": [
    {
     "name": "stdout",
     "output_type": "stream",
     "text": [
      "0100000_6.00_33_50_02_15.bin_0.1.gz already on disk\n",
      "Read data from 0100000_6.00_33_50_02_15.bin_0.1.gz\n",
      "Instantiation done\n",
      "1790757180815459.2\n",
      "DONE\n",
      "/home/morisset/Python-lectures-Notebooks/Notebooks\n"
     ]
    },
    {
     "data": {
      "text/html": [
       "\n",
       "        <iframe\n",
       "            width=\"700\"\n",
       "            height=\"600\"\n",
       "            src=\"http://localhost:8088/profiler.html\"\n",
       "            frameborder=\"0\"\n",
       "            allowfullscreen\n",
       "            \n",
       "        ></iframe>\n",
       "        "
      ],
      "text/plain": [
       "<IPython.lib.display.IFrame at 0x7f44b236fa00>"
      ]
     },
     "metadata": {},
     "output_type": "display_data"
    }
   ],
   "source": [
    "%%scalene \n",
    "os.chdir('/home/morisset/Python-lectures-Notebooks/Notebooks')\n",
    "spectra = Stel_Spectrum(T=100000, logg=6, verbose=True)\n",
    "I =  spectra.get_integ()\n",
    "print(I)\n",
    "print('DONE')\n",
    "print(os.getcwd())"
   ]
  },
  {
   "cell_type": "markdown",
   "metadata": {},
   "source": [
    "From terminal: scalene test_1_prof.py"
   ]
  },
  {
   "cell_type": "markdown",
   "metadata": {},
   "source": [
    "## Debugger"
   ]
  },
  {
   "cell_type": "markdown",
   "metadata": {},
   "source": [
    "## !!! Restart Kernel to be sure you are in the right directory (Scalene changes it...)"
   ]
  },
  {
   "cell_type": "code",
   "execution_count": 1,
   "metadata": {},
   "outputs": [],
   "source": [
    "import numpy as np\n",
    "import os\n",
    "from urllib.request import urlopen\n",
    "from scipy.integrate import simps"
   ]
  },
  {
   "cell_type": "markdown",
   "metadata": {},
   "source": [
    "#### From the terminal"
   ]
  },
  {
   "cell_type": "markdown",
   "metadata": {},
   "source": [
    "#### Breakpoint"
   ]
  },
  {
   "cell_type": "code",
   "execution_count": 2,
   "metadata": {
    "collapsed": false,
    "jupyter": {
     "outputs_hidden": false
    }
   },
   "outputs": [],
   "source": [
    "# import pdb # need to call the debugger at the breakpoint\n",
    "# Inserting a pdb.set_trace() in the __init__ method to stop the program and inspect it"
   ]
  },
  {
   "cell_type": "code",
   "execution_count": 3,
   "metadata": {
    "collapsed": false,
    "jupyter": {
     "outputs_hidden": false
    }
   },
   "outputs": [
    {
     "name": "stdout",
     "output_type": "stream",
     "text": [
      "Overwriting test_5_pdb.py\n"
     ]
    }
   ],
   "source": [
    "%%writefile test_5_pdb.py\n",
    "import pdb # This is needed to use the debugger\n",
    "import numpy as np\n",
    "import os\n",
    "from urllib.request import urlopen\n",
    "from scipy.integrate import simps\n",
    "\n",
    "class Stel_Spectrum(object):\n",
    "    \"\"\"\n",
    "    This object downloads a file from http://astro.uni-tuebingen.de/~rauch/TMAF/NLTE/He+C+N+O/\n",
    "    and is able to make some plots.    \n",
    "    \"\"\"\n",
    "    \n",
    "    spec_count = 0 # This attibute is at the level of the class, not of the object.\n",
    "    def __init__(self, filename=None, T=None, logg=None, verbose=False):\n",
    "        \"\"\"\n",
    "        Initialisation of the Stel_Spectrum object.\n",
    "        Parameter:\n",
    "            - filename\n",
    "            - T: temperature in K, e.g. 150000\n",
    "            - logg: e.g. 7.5\n",
    "            - verbose: if True, some info are printed out\n",
    "        The wl variable is an array of wavelengths in Angstrom.\n",
    "        The fl variable is the flux in erg/s/cm2/A\n",
    "        The variables T and logg are properties: changing them will reload the data\n",
    "        \"\"\"\n",
    "        self.verbose = verbose\n",
    "        if filename is None:\n",
    "            if T is not None and logg is not None:\n",
    "                self.__T = T # We need to initialize the hidden values, as logg is still not defined\n",
    "                self.logg = logg\n",
    "                self.filename = '0{0:06.0f}_{1:.2f}_33_50_02_15.bin_0.1.gz'.format(self.T, self.logg)\n",
    "            else:\n",
    "                raise TypeError(\"T and logg must be given\")\n",
    "        else:\n",
    "            self.filename = filename\n",
    "            self.__T = float(filename.split('_')[0]) # We need to initialize the hidden values, as logg is still not defined\n",
    "            self.logg = float(filename.split('_')[1])\n",
    "        Stel_Spectrum.spec_count += 1\n",
    "        if self.verbose:\n",
    "            print('Instantiation done')\n",
    "            \n",
    "    def dlfile(self):\n",
    "        \"\"\"\n",
    "        Downloading file if not already here. Put it in the current directory\n",
    "        \"\"\"\n",
    "        if not os.path.exists(self.filename):\n",
    "            if self.verbose:\n",
    "                print('Downloading {}'.format(self.filename))\n",
    "            try:\n",
    "                stel_file = urlopen('http://astro.uni-tuebingen.de/~rauch/TMAF/NLTE/He+C+N+O/' + \n",
    "                                            self.filename)\n",
    "                output = open(self.filename,'wb')\n",
    "                output.write(stel_file.read())\n",
    "                output.close()\n",
    "                self.file_found=True\n",
    "            except:\n",
    "                if self.verbose:\n",
    "                    print('file {} not found'.format(self.filename))\n",
    "                self.file_found=False\n",
    "        else:\n",
    "            if self.verbose:\n",
    "                print('{} already on disk'.format(self.filename))\n",
    "            self.file_found=True\n",
    "                \n",
    "    def read_data(self):\n",
    "        \"\"\"\n",
    "        read the data from the file\n",
    "        \"\"\"\n",
    "        if self.file_found:\n",
    "            file2read = self.filename+'eee'\n",
    "            pdb.set_trace() # THIS IS A BREAKPOINT\n",
    "            data = np.genfromtxt(file2read, comments='*', names='wl, fl')\n",
    "            self.fl = data['fl']\n",
    "            self.wl = data['wl'] # in A\n",
    "            self.fl /= 1e8 # F LAMBDA  GIVEN IN ERG/CM**2/SEC/CM -> erg/s/cm2/A\n",
    "            if self.verbose:\n",
    "                print('Read data from {}'.format(self.filename))\n",
    "        else:\n",
    "            if self.verbose:\n",
    "                print('file not found {}'.format(self.filename))\n",
    "            self.wl = None\n",
    "            self.fl = None\n",
    "        \n",
    "    def plot_spr(self, ax=None, *args, **kwargs):\n",
    "        \"\"\"\n",
    "        Plot the spectrum.\n",
    "        Parameter:\n",
    "            - ax: an axis (optionnal). If Noe or absent, axis is created\n",
    "            - any extra parameter is passed to ax.plot\n",
    "        \"\"\"\n",
    "        if self.wl is None:\n",
    "            print('No data to plot')\n",
    "            return\n",
    "        if ax is None:\n",
    "            fig, ax = plt.subplots()\n",
    "        ax.plot(self.wl, self.fl,\n",
    "                label='T3={0:.0f}, logg={1}'.format(self.T/1e3, self.logg),\n",
    "                *args, **kwargs) # Here are the transmissions of extra parameters to plot\n",
    "        ax.set_yscale('log')\n",
    "        ax.set_ylim(1e6, 1e14)\n",
    "        ax.set_xlabel('Wavelength (A)')\n",
    "        \n",
    "    def get_integ(self):\n",
    "        \"\"\"\n",
    "        Return the integral of Flambda over lambda, in erg/s/cm2\n",
    "        \"\"\"\n",
    "        if self.wl is None:\n",
    "            print('No data')\n",
    "            return None\n",
    "        return simps(self.fl, self.wl) # perform the integral\n",
    "    \n",
    "    def __getT(self): \n",
    "        return self.__T\n",
    "    \n",
    "    def __setT(self, value): \n",
    "        if not isinstance(value, (int, float)): # check the type of the input\n",
    "            raise TypeError('T must be an integer or a float')\n",
    "        if float(value) not in np.linspace(40000, 190000, 16): # check the value of the input\n",
    "            raise ValueError('T value must be between 40000 and 190000K, by 10000K steps')\n",
    "        elif self.__T != value:\n",
    "            self.__T = value\n",
    "            self.filename = '0{0:06.0f}_{1:.2f}_33_50_02_15.bin_0.1.gz'.format(self.T, self.logg)\n",
    "            self.dlfile() # will download new data\n",
    "            self.read_data() # will update the data\n",
    "        \n",
    "    def __delT(self): \n",
    "        print('T is needed')\n",
    "        \n",
    "    T = property(__getT, __setT, __delT, \"Stellar effective temperature\")\n",
    "    \n",
    "    def __getlogg(self): \n",
    "        return self.__logg\n",
    "    \n",
    "    def __setlogg(self, value):\n",
    "        try:\n",
    "            self.__logg \n",
    "        except:\n",
    "            self.__logg = -1\n",
    "        if not isinstance(value, (int, float)):\n",
    "            raise TypeError('logg must be an integer or a float')\n",
    "        if float(value) not in (-1., 5., 6., 7. ,8., 9.):\n",
    "            raise ValueError('Error, logg must be 6, 7, 8, or 9')\n",
    "            self.__logg = None\n",
    "        elif self.__logg != value:\n",
    "            self.__logg = value\n",
    "            self.filename = '0{0:06.0f}_{1:.2f}_33_50_02_15.bin_0.1.gz'.format(self.T, self.logg)\n",
    "            self.dlfile() # will download new data\n",
    "            self.read_data() # will update the data\n",
    "        \n",
    "    def __dellogg(self): \n",
    "        print('logg is needed')\n",
    "        \n",
    "    logg = property(__getlogg, __setlogg, __dellogg, \"Stellar logg\")\n",
    "\n",
    "    def print_info(self):\n",
    "        \"\"\"\n",
    "        Print out the filename and the number of points\n",
    "        \"\"\"\n",
    "        print(self.__repr__())\n",
    "        \n",
    "    def __repr__(self):\n",
    "        \"\"\"\n",
    "        This is what is used when calling \"print <obj>\" or <obj> ENTER\n",
    "        \"\"\"\n",
    "        if self.wl is None:\n",
    "            return'Filename: {0}, No data'.format(self.filename)\n",
    "        else:\n",
    "            return'Filename: {0}, number of points: {1}'.format(self.filename, len(self.wl))\n",
    "    \n",
    "    def __del__(self):\n",
    "        Stel_Spectrum.spec_count -= 1\n",
    "\n",
    "sp = Stel_Spectrum(T=100000, logg=6)\n",
    "print('ending')\n",
    "print(sp.filename, sp.get_integ())"
   ]
  },
  {
   "cell_type": "markdown",
   "metadata": {},
   "source": [
    "The commands that can be used once inside the pdb debugger session are: \n",
    "* l(list)\tLists the code at the current position\n",
    "* u(p)\t    Walk up the call stack\n",
    "* d(own)\tWalk down the call stack\n",
    "* n(ext)\tExecute the next line (does not go down in new functions)\n",
    "* s(tep)\tExecute the next statement (goes down in new functions)\n",
    "* bt\t    Print the call stack\n",
    "* a\t        Print the local variables\n",
    "* !command\tExecute the given Python command (by opposition to pdb commands\n",
    "* break N   Set a breakpoint at line number N. If no N, list all the breakpoints\n",
    "* disable N Remove the breakpoin number N\n",
    "* c(ontinue) Run until the next breakpoint or the end of the program\n",
    "* return   Continues executing until the function is about to execute a return statement, and then it pauses. This gives you time to look at the return value before the function returns."
   ]
  },
  {
   "cell_type": "code",
   "execution_count": 4,
   "metadata": {
    "collapsed": false,
    "jupyter": {
     "outputs_hidden": false
    }
   },
   "outputs": [
    {
     "name": "stdout",
     "output_type": "stream",
     "text": [
      "> \u001b[0;32m/home/morisset/Python-lectures-Notebooks/Notebooks/test_5_pdb.py\u001b[0m(72)\u001b[0;36mread_data\u001b[0;34m()\u001b[0m\n",
      "\u001b[0;32m     70 \u001b[0;31m            \u001b[0mfile2read\u001b[0m \u001b[0;34m=\u001b[0m \u001b[0mself\u001b[0m\u001b[0;34m.\u001b[0m\u001b[0mfilename\u001b[0m\u001b[0;34m+\u001b[0m\u001b[0;34m'eee'\u001b[0m\u001b[0;34m\u001b[0m\u001b[0;34m\u001b[0m\u001b[0m\n",
      "\u001b[0m\u001b[0;32m     71 \u001b[0;31m            \u001b[0mpdb\u001b[0m\u001b[0;34m.\u001b[0m\u001b[0mset_trace\u001b[0m\u001b[0;34m(\u001b[0m\u001b[0;34m)\u001b[0m \u001b[0;31m# THIS IS A BREAKPOINT\u001b[0m\u001b[0;34m\u001b[0m\u001b[0;34m\u001b[0m\u001b[0m\n",
      "\u001b[0m\u001b[0;32m---> 72 \u001b[0;31m            \u001b[0mdata\u001b[0m \u001b[0;34m=\u001b[0m \u001b[0mnp\u001b[0m\u001b[0;34m.\u001b[0m\u001b[0mgenfromtxt\u001b[0m\u001b[0;34m(\u001b[0m\u001b[0mfile2read\u001b[0m\u001b[0;34m,\u001b[0m \u001b[0mcomments\u001b[0m\u001b[0;34m=\u001b[0m\u001b[0;34m'*'\u001b[0m\u001b[0;34m,\u001b[0m \u001b[0mnames\u001b[0m\u001b[0;34m=\u001b[0m\u001b[0;34m'wl, fl'\u001b[0m\u001b[0;34m)\u001b[0m\u001b[0;34m\u001b[0m\u001b[0;34m\u001b[0m\u001b[0m\n",
      "\u001b[0m\u001b[0;32m     73 \u001b[0;31m            \u001b[0mself\u001b[0m\u001b[0;34m.\u001b[0m\u001b[0mfl\u001b[0m \u001b[0;34m=\u001b[0m \u001b[0mdata\u001b[0m\u001b[0;34m[\u001b[0m\u001b[0;34m'fl'\u001b[0m\u001b[0;34m]\u001b[0m\u001b[0;34m\u001b[0m\u001b[0;34m\u001b[0m\u001b[0m\n",
      "\u001b[0m\u001b[0;32m     74 \u001b[0;31m            \u001b[0mself\u001b[0m\u001b[0;34m.\u001b[0m\u001b[0mwl\u001b[0m \u001b[0;34m=\u001b[0m \u001b[0mdata\u001b[0m\u001b[0;34m[\u001b[0m\u001b[0;34m'wl'\u001b[0m\u001b[0;34m]\u001b[0m \u001b[0;31m# in A\u001b[0m\u001b[0;34m\u001b[0m\u001b[0;34m\u001b[0m\u001b[0m\n",
      "\u001b[0m\n"
     ]
    },
    {
     "name": "stdin",
     "output_type": "stream",
     "text": [
      "ipdb>  l\n"
     ]
    },
    {
     "name": "stdout",
     "output_type": "stream",
     "text": [
      "\u001b[1;32m     67 \u001b[0m        \u001b[0mread\u001b[0m \u001b[0mthe\u001b[0m \u001b[0mdata\u001b[0m \u001b[0;32mfrom\u001b[0m \u001b[0mthe\u001b[0m \u001b[0mfile\u001b[0m\u001b[0;34m\u001b[0m\u001b[0;34m\u001b[0m\u001b[0m\n",
      "\u001b[1;32m     68 \u001b[0m        \"\"\"\n",
      "\u001b[1;32m     69 \u001b[0m        \u001b[0;32mif\u001b[0m \u001b[0mself\u001b[0m\u001b[0;34m.\u001b[0m\u001b[0mfile_found\u001b[0m\u001b[0;34m:\u001b[0m\u001b[0;34m\u001b[0m\u001b[0;34m\u001b[0m\u001b[0m\n",
      "\u001b[1;32m     70 \u001b[0m            \u001b[0mfile2read\u001b[0m \u001b[0;34m=\u001b[0m \u001b[0mself\u001b[0m\u001b[0;34m.\u001b[0m\u001b[0mfilename\u001b[0m\u001b[0;34m+\u001b[0m\u001b[0;34m'eee'\u001b[0m\u001b[0;34m\u001b[0m\u001b[0;34m\u001b[0m\u001b[0m\n",
      "\u001b[1;32m     71 \u001b[0m            \u001b[0mpdb\u001b[0m\u001b[0;34m.\u001b[0m\u001b[0mset_trace\u001b[0m\u001b[0;34m(\u001b[0m\u001b[0;34m)\u001b[0m \u001b[0;31m# THIS IS A BREAKPOINT\u001b[0m\u001b[0;34m\u001b[0m\u001b[0;34m\u001b[0m\u001b[0m\n",
      "\u001b[0;32m---> 72 \u001b[0;31m            \u001b[0mdata\u001b[0m \u001b[0;34m=\u001b[0m \u001b[0mnp\u001b[0m\u001b[0;34m.\u001b[0m\u001b[0mgenfromtxt\u001b[0m\u001b[0;34m(\u001b[0m\u001b[0mfile2read\u001b[0m\u001b[0;34m,\u001b[0m \u001b[0mcomments\u001b[0m\u001b[0;34m=\u001b[0m\u001b[0;34m'*'\u001b[0m\u001b[0;34m,\u001b[0m \u001b[0mnames\u001b[0m\u001b[0;34m=\u001b[0m\u001b[0;34m'wl, fl'\u001b[0m\u001b[0;34m)\u001b[0m\u001b[0;34m\u001b[0m\u001b[0;34m\u001b[0m\u001b[0m\n",
      "\u001b[0m\u001b[1;32m     73 \u001b[0m            \u001b[0mself\u001b[0m\u001b[0;34m.\u001b[0m\u001b[0mfl\u001b[0m \u001b[0;34m=\u001b[0m \u001b[0mdata\u001b[0m\u001b[0;34m[\u001b[0m\u001b[0;34m'fl'\u001b[0m\u001b[0;34m]\u001b[0m\u001b[0;34m\u001b[0m\u001b[0;34m\u001b[0m\u001b[0m\n",
      "\u001b[1;32m     74 \u001b[0m            \u001b[0mself\u001b[0m\u001b[0;34m.\u001b[0m\u001b[0mwl\u001b[0m \u001b[0;34m=\u001b[0m \u001b[0mdata\u001b[0m\u001b[0;34m[\u001b[0m\u001b[0;34m'wl'\u001b[0m\u001b[0;34m]\u001b[0m \u001b[0;31m# in A\u001b[0m\u001b[0;34m\u001b[0m\u001b[0;34m\u001b[0m\u001b[0m\n",
      "\u001b[1;32m     75 \u001b[0m            \u001b[0mself\u001b[0m\u001b[0;34m.\u001b[0m\u001b[0mfl\u001b[0m \u001b[0;34m/=\u001b[0m \u001b[0;36m1e8\u001b[0m \u001b[0;31m# F LAMBDA  GIVEN IN ERG/CM**2/SEC/CM -> erg/s/cm2/A\u001b[0m\u001b[0;34m\u001b[0m\u001b[0;34m\u001b[0m\u001b[0m\n",
      "\u001b[1;32m     76 \u001b[0m            \u001b[0;32mif\u001b[0m \u001b[0mself\u001b[0m\u001b[0;34m.\u001b[0m\u001b[0mverbose\u001b[0m\u001b[0;34m:\u001b[0m\u001b[0;34m\u001b[0m\u001b[0;34m\u001b[0m\u001b[0m\n",
      "\u001b[1;32m     77 \u001b[0m                \u001b[0mprint\u001b[0m\u001b[0;34m(\u001b[0m\u001b[0;34m'Read data from {}'\u001b[0m\u001b[0;34m.\u001b[0m\u001b[0mformat\u001b[0m\u001b[0;34m(\u001b[0m\u001b[0mself\u001b[0m\u001b[0;34m.\u001b[0m\u001b[0mfilename\u001b[0m\u001b[0;34m)\u001b[0m\u001b[0;34m)\u001b[0m\u001b[0;34m\u001b[0m\u001b[0;34m\u001b[0m\u001b[0m\n",
      "\n"
     ]
    },
    {
     "name": "stdin",
     "output_type": "stream",
     "text": [
      "ipdb>  s\n"
     ]
    },
    {
     "name": "stdout",
     "output_type": "stream",
     "text": [
      "--Call--\n",
      "> \u001b[0;32m/home/morisset/anaconda3/lib/python3.9/site-packages/numpy/lib/npyio.py\u001b[0m(1558)\u001b[0;36mgenfromtxt\u001b[0;34m()\u001b[0m\n",
      "\u001b[0;32m   1556 \u001b[0;31m\u001b[0;34m\u001b[0m\u001b[0m\n",
      "\u001b[0m\u001b[0;32m   1557 \u001b[0;31m\u001b[0;34m\u001b[0m\u001b[0m\n",
      "\u001b[0m\u001b[0;32m-> 1558 \u001b[0;31m\u001b[0;34m@\u001b[0m\u001b[0mset_array_function_like_doc\u001b[0m\u001b[0;34m\u001b[0m\u001b[0;34m\u001b[0m\u001b[0m\n",
      "\u001b[0m\u001b[0;32m   1559 \u001b[0;31m\u001b[0;34m@\u001b[0m\u001b[0mset_module\u001b[0m\u001b[0;34m(\u001b[0m\u001b[0;34m'numpy'\u001b[0m\u001b[0;34m)\u001b[0m\u001b[0;34m\u001b[0m\u001b[0;34m\u001b[0m\u001b[0m\n",
      "\u001b[0m\u001b[0;32m   1560 \u001b[0;31mdef genfromtxt(fname, dtype=float, comments='#', delimiter=None,\n",
      "\u001b[0m\n"
     ]
    },
    {
     "name": "stdin",
     "output_type": "stream",
     "text": [
      "ipdb>  n\n"
     ]
    },
    {
     "name": "stdout",
     "output_type": "stream",
     "text": [
      "> \u001b[0;32m/home/morisset/anaconda3/lib/python3.9/site-packages/numpy/lib/npyio.py\u001b[0m(1749)\u001b[0;36mgenfromtxt\u001b[0;34m()\u001b[0m\n",
      "\u001b[0;32m   1747 \u001b[0;31m    \"\"\"\n",
      "\u001b[0m\u001b[0;32m   1748 \u001b[0;31m\u001b[0;34m\u001b[0m\u001b[0m\n",
      "\u001b[0m\u001b[0;32m-> 1749 \u001b[0;31m    \u001b[0;32mif\u001b[0m \u001b[0mlike\u001b[0m \u001b[0;32mis\u001b[0m \u001b[0;32mnot\u001b[0m \u001b[0;32mNone\u001b[0m\u001b[0;34m:\u001b[0m\u001b[0;34m\u001b[0m\u001b[0;34m\u001b[0m\u001b[0m\n",
      "\u001b[0m\u001b[0;32m   1750 \u001b[0;31m        return _genfromtxt_with_like(\n",
      "\u001b[0m\u001b[0;32m   1751 \u001b[0;31m            \u001b[0mfname\u001b[0m\u001b[0;34m,\u001b[0m \u001b[0mdtype\u001b[0m\u001b[0;34m=\u001b[0m\u001b[0mdtype\u001b[0m\u001b[0;34m,\u001b[0m \u001b[0mcomments\u001b[0m\u001b[0;34m=\u001b[0m\u001b[0mcomments\u001b[0m\u001b[0;34m,\u001b[0m \u001b[0mdelimiter\u001b[0m\u001b[0;34m=\u001b[0m\u001b[0mdelimiter\u001b[0m\u001b[0;34m,\u001b[0m\u001b[0;34m\u001b[0m\u001b[0;34m\u001b[0m\u001b[0m\n",
      "\u001b[0m\n"
     ]
    },
    {
     "name": "stdin",
     "output_type": "stream",
     "text": [
      "ipdb>  n\n"
     ]
    },
    {
     "name": "stdout",
     "output_type": "stream",
     "text": [
      "> \u001b[0;32m/home/morisset/anaconda3/lib/python3.9/site-packages/numpy/lib/npyio.py\u001b[0m(1763)\u001b[0;36mgenfromtxt\u001b[0;34m()\u001b[0m\n",
      "\u001b[0;32m   1761 \u001b[0;31m        )\n",
      "\u001b[0m\u001b[0;32m   1762 \u001b[0;31m\u001b[0;34m\u001b[0m\u001b[0m\n",
      "\u001b[0m\u001b[0;32m-> 1763 \u001b[0;31m    \u001b[0;32mif\u001b[0m \u001b[0mmax_rows\u001b[0m \u001b[0;32mis\u001b[0m \u001b[0;32mnot\u001b[0m \u001b[0;32mNone\u001b[0m\u001b[0;34m:\u001b[0m\u001b[0;34m\u001b[0m\u001b[0;34m\u001b[0m\u001b[0m\n",
      "\u001b[0m\u001b[0;32m   1764 \u001b[0;31m        \u001b[0;32mif\u001b[0m \u001b[0mskip_footer\u001b[0m\u001b[0;34m:\u001b[0m\u001b[0;34m\u001b[0m\u001b[0;34m\u001b[0m\u001b[0m\n",
      "\u001b[0m\u001b[0;32m   1765 \u001b[0;31m            raise ValueError(\n",
      "\u001b[0m\n"
     ]
    },
    {
     "name": "stdin",
     "output_type": "stream",
     "text": [
      "ipdb>  n\n"
     ]
    },
    {
     "name": "stdout",
     "output_type": "stream",
     "text": [
      "> \u001b[0;32m/home/morisset/anaconda3/lib/python3.9/site-packages/numpy/lib/npyio.py\u001b[0m(1771)\u001b[0;36mgenfromtxt\u001b[0;34m()\u001b[0m\n",
      "\u001b[0;32m   1769 \u001b[0;31m            \u001b[0;32mraise\u001b[0m \u001b[0mValueError\u001b[0m\u001b[0;34m(\u001b[0m\u001b[0;34m\"'max_rows' must be at least 1.\"\u001b[0m\u001b[0;34m)\u001b[0m\u001b[0;34m\u001b[0m\u001b[0;34m\u001b[0m\u001b[0m\n",
      "\u001b[0m\u001b[0;32m   1770 \u001b[0;31m\u001b[0;34m\u001b[0m\u001b[0m\n",
      "\u001b[0m\u001b[0;32m-> 1771 \u001b[0;31m    \u001b[0;32mif\u001b[0m \u001b[0musemask\u001b[0m\u001b[0;34m:\u001b[0m\u001b[0;34m\u001b[0m\u001b[0;34m\u001b[0m\u001b[0m\n",
      "\u001b[0m\u001b[0;32m   1772 \u001b[0;31m        \u001b[0;32mfrom\u001b[0m \u001b[0mnumpy\u001b[0m\u001b[0;34m.\u001b[0m\u001b[0mma\u001b[0m \u001b[0;32mimport\u001b[0m \u001b[0mMaskedArray\u001b[0m\u001b[0;34m,\u001b[0m \u001b[0mmake_mask_descr\u001b[0m\u001b[0;34m\u001b[0m\u001b[0;34m\u001b[0m\u001b[0m\n",
      "\u001b[0m\u001b[0;32m   1773 \u001b[0;31m    \u001b[0;31m# Check the input dictionary of converters\u001b[0m\u001b[0;34m\u001b[0m\u001b[0;34m\u001b[0m\u001b[0m\n",
      "\u001b[0m\n"
     ]
    },
    {
     "name": "stdin",
     "output_type": "stream",
     "text": [
      "ipdb>  n\n"
     ]
    },
    {
     "name": "stdout",
     "output_type": "stream",
     "text": [
      "> \u001b[0;32m/home/morisset/anaconda3/lib/python3.9/site-packages/numpy/lib/npyio.py\u001b[0m(1774)\u001b[0;36mgenfromtxt\u001b[0;34m()\u001b[0m\n",
      "\u001b[0;32m   1772 \u001b[0;31m        \u001b[0;32mfrom\u001b[0m \u001b[0mnumpy\u001b[0m\u001b[0;34m.\u001b[0m\u001b[0mma\u001b[0m \u001b[0;32mimport\u001b[0m \u001b[0mMaskedArray\u001b[0m\u001b[0;34m,\u001b[0m \u001b[0mmake_mask_descr\u001b[0m\u001b[0;34m\u001b[0m\u001b[0;34m\u001b[0m\u001b[0m\n",
      "\u001b[0m\u001b[0;32m   1773 \u001b[0;31m    \u001b[0;31m# Check the input dictionary of converters\u001b[0m\u001b[0;34m\u001b[0m\u001b[0;34m\u001b[0m\u001b[0m\n",
      "\u001b[0m\u001b[0;32m-> 1774 \u001b[0;31m    \u001b[0muser_converters\u001b[0m \u001b[0;34m=\u001b[0m \u001b[0mconverters\u001b[0m \u001b[0;32mor\u001b[0m \u001b[0;34m{\u001b[0m\u001b[0;34m}\u001b[0m\u001b[0;34m\u001b[0m\u001b[0;34m\u001b[0m\u001b[0m\n",
      "\u001b[0m\u001b[0;32m   1775 \u001b[0;31m    \u001b[0;32mif\u001b[0m \u001b[0;32mnot\u001b[0m \u001b[0misinstance\u001b[0m\u001b[0;34m(\u001b[0m\u001b[0muser_converters\u001b[0m\u001b[0;34m,\u001b[0m \u001b[0mdict\u001b[0m\u001b[0;34m)\u001b[0m\u001b[0;34m:\u001b[0m\u001b[0;34m\u001b[0m\u001b[0;34m\u001b[0m\u001b[0m\n",
      "\u001b[0m\u001b[0;32m   1776 \u001b[0;31m        raise TypeError(\n",
      "\u001b[0m\n"
     ]
    },
    {
     "name": "stdin",
     "output_type": "stream",
     "text": [
      "ipdb>  n\n"
     ]
    },
    {
     "name": "stdout",
     "output_type": "stream",
     "text": [
      "> \u001b[0;32m/home/morisset/anaconda3/lib/python3.9/site-packages/numpy/lib/npyio.py\u001b[0m(1775)\u001b[0;36mgenfromtxt\u001b[0;34m()\u001b[0m\n",
      "\u001b[0;32m   1773 \u001b[0;31m    \u001b[0;31m# Check the input dictionary of converters\u001b[0m\u001b[0;34m\u001b[0m\u001b[0;34m\u001b[0m\u001b[0m\n",
      "\u001b[0m\u001b[0;32m   1774 \u001b[0;31m    \u001b[0muser_converters\u001b[0m \u001b[0;34m=\u001b[0m \u001b[0mconverters\u001b[0m \u001b[0;32mor\u001b[0m \u001b[0;34m{\u001b[0m\u001b[0;34m}\u001b[0m\u001b[0;34m\u001b[0m\u001b[0;34m\u001b[0m\u001b[0m\n",
      "\u001b[0m\u001b[0;32m-> 1775 \u001b[0;31m    \u001b[0;32mif\u001b[0m \u001b[0;32mnot\u001b[0m \u001b[0misinstance\u001b[0m\u001b[0;34m(\u001b[0m\u001b[0muser_converters\u001b[0m\u001b[0;34m,\u001b[0m \u001b[0mdict\u001b[0m\u001b[0;34m)\u001b[0m\u001b[0;34m:\u001b[0m\u001b[0;34m\u001b[0m\u001b[0;34m\u001b[0m\u001b[0m\n",
      "\u001b[0m\u001b[0;32m   1776 \u001b[0;31m        raise TypeError(\n",
      "\u001b[0m\u001b[0;32m   1777 \u001b[0;31m            \u001b[0;34m\"The input argument 'converter' should be a valid dictionary \"\u001b[0m\u001b[0;34m\u001b[0m\u001b[0;34m\u001b[0m\u001b[0m\n",
      "\u001b[0m\n"
     ]
    },
    {
     "name": "stdin",
     "output_type": "stream",
     "text": [
      "ipdb>  n\n"
     ]
    },
    {
     "name": "stdout",
     "output_type": "stream",
     "text": [
      "> \u001b[0;32m/home/morisset/anaconda3/lib/python3.9/site-packages/numpy/lib/npyio.py\u001b[0m(1780)\u001b[0;36mgenfromtxt\u001b[0;34m()\u001b[0m\n",
      "\u001b[0;32m   1778 \u001b[0;31m            \"(got '%s' instead)\" % type(user_converters))\n",
      "\u001b[0m\u001b[0;32m   1779 \u001b[0;31m\u001b[0;34m\u001b[0m\u001b[0m\n",
      "\u001b[0m\u001b[0;32m-> 1780 \u001b[0;31m    \u001b[0;32mif\u001b[0m \u001b[0mencoding\u001b[0m \u001b[0;34m==\u001b[0m \u001b[0;34m'bytes'\u001b[0m\u001b[0;34m:\u001b[0m\u001b[0;34m\u001b[0m\u001b[0;34m\u001b[0m\u001b[0m\n",
      "\u001b[0m\u001b[0;32m   1781 \u001b[0;31m        \u001b[0mencoding\u001b[0m \u001b[0;34m=\u001b[0m \u001b[0;32mNone\u001b[0m\u001b[0;34m\u001b[0m\u001b[0;34m\u001b[0m\u001b[0m\n",
      "\u001b[0m\u001b[0;32m   1782 \u001b[0;31m        \u001b[0mbyte_converters\u001b[0m \u001b[0;34m=\u001b[0m \u001b[0;32mTrue\u001b[0m\u001b[0;34m\u001b[0m\u001b[0;34m\u001b[0m\u001b[0m\n",
      "\u001b[0m\n"
     ]
    },
    {
     "name": "stdin",
     "output_type": "stream",
     "text": [
      "ipdb>  n\n"
     ]
    },
    {
     "name": "stdout",
     "output_type": "stream",
     "text": [
      "> \u001b[0;32m/home/morisset/anaconda3/lib/python3.9/site-packages/numpy/lib/npyio.py\u001b[0m(1781)\u001b[0;36mgenfromtxt\u001b[0;34m()\u001b[0m\n",
      "\u001b[0;32m   1779 \u001b[0;31m\u001b[0;34m\u001b[0m\u001b[0m\n",
      "\u001b[0m\u001b[0;32m   1780 \u001b[0;31m    \u001b[0;32mif\u001b[0m \u001b[0mencoding\u001b[0m \u001b[0;34m==\u001b[0m \u001b[0;34m'bytes'\u001b[0m\u001b[0;34m:\u001b[0m\u001b[0;34m\u001b[0m\u001b[0;34m\u001b[0m\u001b[0m\n",
      "\u001b[0m\u001b[0;32m-> 1781 \u001b[0;31m        \u001b[0mencoding\u001b[0m \u001b[0;34m=\u001b[0m \u001b[0;32mNone\u001b[0m\u001b[0;34m\u001b[0m\u001b[0;34m\u001b[0m\u001b[0m\n",
      "\u001b[0m\u001b[0;32m   1782 \u001b[0;31m        \u001b[0mbyte_converters\u001b[0m \u001b[0;34m=\u001b[0m \u001b[0;32mTrue\u001b[0m\u001b[0;34m\u001b[0m\u001b[0;34m\u001b[0m\u001b[0m\n",
      "\u001b[0m\u001b[0;32m   1783 \u001b[0;31m    \u001b[0;32melse\u001b[0m\u001b[0;34m:\u001b[0m\u001b[0;34m\u001b[0m\u001b[0;34m\u001b[0m\u001b[0m\n",
      "\u001b[0m\n"
     ]
    },
    {
     "name": "stdin",
     "output_type": "stream",
     "text": [
      "ipdb>  n\n"
     ]
    },
    {
     "name": "stdout",
     "output_type": "stream",
     "text": [
      "> \u001b[0;32m/home/morisset/anaconda3/lib/python3.9/site-packages/numpy/lib/npyio.py\u001b[0m(1782)\u001b[0;36mgenfromtxt\u001b[0;34m()\u001b[0m\n",
      "\u001b[0;32m   1780 \u001b[0;31m    \u001b[0;32mif\u001b[0m \u001b[0mencoding\u001b[0m \u001b[0;34m==\u001b[0m \u001b[0;34m'bytes'\u001b[0m\u001b[0;34m:\u001b[0m\u001b[0;34m\u001b[0m\u001b[0;34m\u001b[0m\u001b[0m\n",
      "\u001b[0m\u001b[0;32m   1781 \u001b[0;31m        \u001b[0mencoding\u001b[0m \u001b[0;34m=\u001b[0m \u001b[0;32mNone\u001b[0m\u001b[0;34m\u001b[0m\u001b[0;34m\u001b[0m\u001b[0m\n",
      "\u001b[0m\u001b[0;32m-> 1782 \u001b[0;31m        \u001b[0mbyte_converters\u001b[0m \u001b[0;34m=\u001b[0m \u001b[0;32mTrue\u001b[0m\u001b[0;34m\u001b[0m\u001b[0;34m\u001b[0m\u001b[0m\n",
      "\u001b[0m\u001b[0;32m   1783 \u001b[0;31m    \u001b[0;32melse\u001b[0m\u001b[0;34m:\u001b[0m\u001b[0;34m\u001b[0m\u001b[0;34m\u001b[0m\u001b[0m\n",
      "\u001b[0m\u001b[0;32m   1784 \u001b[0;31m        \u001b[0mbyte_converters\u001b[0m \u001b[0;34m=\u001b[0m \u001b[0;32mFalse\u001b[0m\u001b[0;34m\u001b[0m\u001b[0;34m\u001b[0m\u001b[0m\n",
      "\u001b[0m\n"
     ]
    },
    {
     "name": "stdin",
     "output_type": "stream",
     "text": [
      "ipdb>  u\n"
     ]
    },
    {
     "name": "stdout",
     "output_type": "stream",
     "text": [
      "> \u001b[0;32m/home/morisset/Python-lectures-Notebooks/Notebooks/test_5_pdb.py\u001b[0m(72)\u001b[0;36mread_data\u001b[0;34m()\u001b[0m\n",
      "\u001b[0;32m     70 \u001b[0;31m            \u001b[0mfile2read\u001b[0m \u001b[0;34m=\u001b[0m \u001b[0mself\u001b[0m\u001b[0;34m.\u001b[0m\u001b[0mfilename\u001b[0m\u001b[0;34m+\u001b[0m\u001b[0;34m'eee'\u001b[0m\u001b[0;34m\u001b[0m\u001b[0;34m\u001b[0m\u001b[0m\n",
      "\u001b[0m\u001b[0;32m     71 \u001b[0;31m            \u001b[0mpdb\u001b[0m\u001b[0;34m.\u001b[0m\u001b[0mset_trace\u001b[0m\u001b[0;34m(\u001b[0m\u001b[0;34m)\u001b[0m \u001b[0;31m# THIS IS A BREAKPOINT\u001b[0m\u001b[0;34m\u001b[0m\u001b[0;34m\u001b[0m\u001b[0m\n",
      "\u001b[0m\u001b[0;32m---> 72 \u001b[0;31m            \u001b[0mdata\u001b[0m \u001b[0;34m=\u001b[0m \u001b[0mnp\u001b[0m\u001b[0;34m.\u001b[0m\u001b[0mgenfromtxt\u001b[0m\u001b[0;34m(\u001b[0m\u001b[0mfile2read\u001b[0m\u001b[0;34m,\u001b[0m \u001b[0mcomments\u001b[0m\u001b[0;34m=\u001b[0m\u001b[0;34m'*'\u001b[0m\u001b[0;34m,\u001b[0m \u001b[0mnames\u001b[0m\u001b[0;34m=\u001b[0m\u001b[0;34m'wl, fl'\u001b[0m\u001b[0;34m)\u001b[0m\u001b[0;34m\u001b[0m\u001b[0;34m\u001b[0m\u001b[0m\n",
      "\u001b[0m\u001b[0;32m     73 \u001b[0;31m            \u001b[0mself\u001b[0m\u001b[0;34m.\u001b[0m\u001b[0mfl\u001b[0m \u001b[0;34m=\u001b[0m \u001b[0mdata\u001b[0m\u001b[0;34m[\u001b[0m\u001b[0;34m'fl'\u001b[0m\u001b[0;34m]\u001b[0m\u001b[0;34m\u001b[0m\u001b[0;34m\u001b[0m\u001b[0m\n",
      "\u001b[0m\u001b[0;32m     74 \u001b[0;31m            \u001b[0mself\u001b[0m\u001b[0;34m.\u001b[0m\u001b[0mwl\u001b[0m \u001b[0;34m=\u001b[0m \u001b[0mdata\u001b[0m\u001b[0;34m[\u001b[0m\u001b[0;34m'wl'\u001b[0m\u001b[0;34m]\u001b[0m \u001b[0;31m# in A\u001b[0m\u001b[0;34m\u001b[0m\u001b[0;34m\u001b[0m\u001b[0m\n",
      "\u001b[0m\n"
     ]
    },
    {
     "name": "stdin",
     "output_type": "stream",
     "text": [
      "ipdb>  n\n"
     ]
    },
    {
     "name": "stdout",
     "output_type": "stream",
     "text": [
      "OSError: 0100000_6.00_33_50_02_15.bin_0.1.gzeee not found.\n",
      "> \u001b[0;32m/home/morisset/Python-lectures-Notebooks/Notebooks/test_5_pdb.py\u001b[0m(72)\u001b[0;36mread_data\u001b[0;34m()\u001b[0m\n",
      "\u001b[0;32m     70 \u001b[0;31m            \u001b[0mfile2read\u001b[0m \u001b[0;34m=\u001b[0m \u001b[0mself\u001b[0m\u001b[0;34m.\u001b[0m\u001b[0mfilename\u001b[0m\u001b[0;34m+\u001b[0m\u001b[0;34m'eee'\u001b[0m\u001b[0;34m\u001b[0m\u001b[0;34m\u001b[0m\u001b[0m\n",
      "\u001b[0m\u001b[0;32m     71 \u001b[0;31m            \u001b[0mpdb\u001b[0m\u001b[0;34m.\u001b[0m\u001b[0mset_trace\u001b[0m\u001b[0;34m(\u001b[0m\u001b[0;34m)\u001b[0m \u001b[0;31m# THIS IS A BREAKPOINT\u001b[0m\u001b[0;34m\u001b[0m\u001b[0;34m\u001b[0m\u001b[0m\n",
      "\u001b[0m\u001b[0;32m---> 72 \u001b[0;31m            \u001b[0mdata\u001b[0m \u001b[0;34m=\u001b[0m \u001b[0mnp\u001b[0m\u001b[0;34m.\u001b[0m\u001b[0mgenfromtxt\u001b[0m\u001b[0;34m(\u001b[0m\u001b[0mfile2read\u001b[0m\u001b[0;34m,\u001b[0m \u001b[0mcomments\u001b[0m\u001b[0;34m=\u001b[0m\u001b[0;34m'*'\u001b[0m\u001b[0;34m,\u001b[0m \u001b[0mnames\u001b[0m\u001b[0;34m=\u001b[0m\u001b[0;34m'wl, fl'\u001b[0m\u001b[0;34m)\u001b[0m\u001b[0;34m\u001b[0m\u001b[0;34m\u001b[0m\u001b[0m\n",
      "\u001b[0m\u001b[0;32m     73 \u001b[0;31m            \u001b[0mself\u001b[0m\u001b[0;34m.\u001b[0m\u001b[0mfl\u001b[0m \u001b[0;34m=\u001b[0m \u001b[0mdata\u001b[0m\u001b[0;34m[\u001b[0m\u001b[0;34m'fl'\u001b[0m\u001b[0;34m]\u001b[0m\u001b[0;34m\u001b[0m\u001b[0;34m\u001b[0m\u001b[0m\n",
      "\u001b[0m\u001b[0;32m     74 \u001b[0;31m            \u001b[0mself\u001b[0m\u001b[0;34m.\u001b[0m\u001b[0mwl\u001b[0m \u001b[0;34m=\u001b[0m \u001b[0mdata\u001b[0m\u001b[0;34m[\u001b[0m\u001b[0;34m'wl'\u001b[0m\u001b[0;34m]\u001b[0m \u001b[0;31m# in A\u001b[0m\u001b[0;34m\u001b[0m\u001b[0;34m\u001b[0m\u001b[0m\n",
      "\u001b[0m\n"
     ]
    },
    {
     "name": "stdin",
     "output_type": "stream",
     "text": [
      "ipdb>  q\n"
     ]
    },
    {
     "ename": "BdbQuit",
     "evalue": "",
     "output_type": "error",
     "traceback": [
      "\u001b[0;31m---------------------------------------------------------------------------\u001b[0m",
      "\u001b[0;31mBdbQuit\u001b[0m                                   Traceback (most recent call last)",
      "\u001b[0;32m~/Python-lectures-Notebooks/Notebooks/test_5_pdb.py\u001b[0m in \u001b[0;36m<module>\u001b[0;34m\u001b[0m\n\u001b[1;32m    171\u001b[0m         \u001b[0mStel_Spectrum\u001b[0m\u001b[0;34m.\u001b[0m\u001b[0mspec_count\u001b[0m \u001b[0;34m-=\u001b[0m \u001b[0;36m1\u001b[0m\u001b[0;34m\u001b[0m\u001b[0;34m\u001b[0m\u001b[0m\n\u001b[1;32m    172\u001b[0m \u001b[0;34m\u001b[0m\u001b[0m\n\u001b[0;32m--> 173\u001b[0;31m \u001b[0msp\u001b[0m \u001b[0;34m=\u001b[0m \u001b[0mStel_Spectrum\u001b[0m\u001b[0;34m(\u001b[0m\u001b[0mT\u001b[0m\u001b[0;34m=\u001b[0m\u001b[0;36m100000\u001b[0m\u001b[0;34m,\u001b[0m \u001b[0mlogg\u001b[0m\u001b[0;34m=\u001b[0m\u001b[0;36m6\u001b[0m\u001b[0;34m)\u001b[0m\u001b[0;34m\u001b[0m\u001b[0;34m\u001b[0m\u001b[0m\n\u001b[0m\u001b[1;32m    174\u001b[0m \u001b[0mprint\u001b[0m\u001b[0;34m(\u001b[0m\u001b[0;34m'ending'\u001b[0m\u001b[0;34m)\u001b[0m\u001b[0;34m\u001b[0m\u001b[0;34m\u001b[0m\u001b[0m\n\u001b[1;32m    175\u001b[0m \u001b[0mprint\u001b[0m\u001b[0;34m(\u001b[0m\u001b[0msp\u001b[0m\u001b[0;34m.\u001b[0m\u001b[0mfilename\u001b[0m\u001b[0;34m,\u001b[0m \u001b[0msp\u001b[0m\u001b[0;34m.\u001b[0m\u001b[0mget_integ\u001b[0m\u001b[0;34m(\u001b[0m\u001b[0;34m)\u001b[0m\u001b[0;34m)\u001b[0m\u001b[0;34m\u001b[0m\u001b[0;34m\u001b[0m\u001b[0m\n",
      "\u001b[0;32m~/Python-lectures-Notebooks/Notebooks/test_5_pdb.py\u001b[0m in \u001b[0;36m__init__\u001b[0;34m(self, filename, T, logg, verbose)\u001b[0m\n\u001b[1;32m     28\u001b[0m             \u001b[0;32mif\u001b[0m \u001b[0mT\u001b[0m \u001b[0;32mis\u001b[0m \u001b[0;32mnot\u001b[0m \u001b[0;32mNone\u001b[0m \u001b[0;32mand\u001b[0m \u001b[0mlogg\u001b[0m \u001b[0;32mis\u001b[0m \u001b[0;32mnot\u001b[0m \u001b[0;32mNone\u001b[0m\u001b[0;34m:\u001b[0m\u001b[0;34m\u001b[0m\u001b[0;34m\u001b[0m\u001b[0m\n\u001b[1;32m     29\u001b[0m                 \u001b[0mself\u001b[0m\u001b[0;34m.\u001b[0m\u001b[0m__T\u001b[0m \u001b[0;34m=\u001b[0m \u001b[0mT\u001b[0m \u001b[0;31m# We need to initialize the hidden values, as logg is still not defined\u001b[0m\u001b[0;34m\u001b[0m\u001b[0;34m\u001b[0m\u001b[0m\n\u001b[0;32m---> 30\u001b[0;31m                 \u001b[0mself\u001b[0m\u001b[0;34m.\u001b[0m\u001b[0mlogg\u001b[0m \u001b[0;34m=\u001b[0m \u001b[0mlogg\u001b[0m\u001b[0;34m\u001b[0m\u001b[0;34m\u001b[0m\u001b[0m\n\u001b[0m\u001b[1;32m     31\u001b[0m                 \u001b[0mself\u001b[0m\u001b[0;34m.\u001b[0m\u001b[0mfilename\u001b[0m \u001b[0;34m=\u001b[0m \u001b[0;34m'0{0:06.0f}_{1:.2f}_33_50_02_15.bin_0.1.gz'\u001b[0m\u001b[0;34m.\u001b[0m\u001b[0mformat\u001b[0m\u001b[0;34m(\u001b[0m\u001b[0mself\u001b[0m\u001b[0;34m.\u001b[0m\u001b[0mT\u001b[0m\u001b[0;34m,\u001b[0m \u001b[0mself\u001b[0m\u001b[0;34m.\u001b[0m\u001b[0mlogg\u001b[0m\u001b[0;34m)\u001b[0m\u001b[0;34m\u001b[0m\u001b[0;34m\u001b[0m\u001b[0m\n\u001b[1;32m     32\u001b[0m             \u001b[0;32melse\u001b[0m\u001b[0;34m:\u001b[0m\u001b[0;34m\u001b[0m\u001b[0;34m\u001b[0m\u001b[0m\n",
      "\u001b[0;32m~/Python-lectures-Notebooks/Notebooks/test_5_pdb.py\u001b[0m in \u001b[0;36m__setlogg\u001b[0;34m(self, value)\u001b[0m\n\u001b[1;32m    146\u001b[0m             \u001b[0mself\u001b[0m\u001b[0;34m.\u001b[0m\u001b[0mfilename\u001b[0m \u001b[0;34m=\u001b[0m \u001b[0;34m'0{0:06.0f}_{1:.2f}_33_50_02_15.bin_0.1.gz'\u001b[0m\u001b[0;34m.\u001b[0m\u001b[0mformat\u001b[0m\u001b[0;34m(\u001b[0m\u001b[0mself\u001b[0m\u001b[0;34m.\u001b[0m\u001b[0mT\u001b[0m\u001b[0;34m,\u001b[0m \u001b[0mself\u001b[0m\u001b[0;34m.\u001b[0m\u001b[0mlogg\u001b[0m\u001b[0;34m)\u001b[0m\u001b[0;34m\u001b[0m\u001b[0;34m\u001b[0m\u001b[0m\n\u001b[1;32m    147\u001b[0m             \u001b[0mself\u001b[0m\u001b[0;34m.\u001b[0m\u001b[0mdlfile\u001b[0m\u001b[0;34m(\u001b[0m\u001b[0;34m)\u001b[0m \u001b[0;31m# will download new data\u001b[0m\u001b[0;34m\u001b[0m\u001b[0;34m\u001b[0m\u001b[0m\n\u001b[0;32m--> 148\u001b[0;31m             \u001b[0mself\u001b[0m\u001b[0;34m.\u001b[0m\u001b[0mread_data\u001b[0m\u001b[0;34m(\u001b[0m\u001b[0;34m)\u001b[0m \u001b[0;31m# will update the data\u001b[0m\u001b[0;34m\u001b[0m\u001b[0;34m\u001b[0m\u001b[0m\n\u001b[0m\u001b[1;32m    149\u001b[0m \u001b[0;34m\u001b[0m\u001b[0m\n\u001b[1;32m    150\u001b[0m     \u001b[0;32mdef\u001b[0m \u001b[0m__dellogg\u001b[0m\u001b[0;34m(\u001b[0m\u001b[0mself\u001b[0m\u001b[0;34m)\u001b[0m\u001b[0;34m:\u001b[0m\u001b[0;34m\u001b[0m\u001b[0;34m\u001b[0m\u001b[0m\n",
      "\u001b[0;32m~/Python-lectures-Notebooks/Notebooks/test_5_pdb.py\u001b[0m in \u001b[0;36mread_data\u001b[0;34m(self)\u001b[0m\n\u001b[1;32m     70\u001b[0m             \u001b[0mfile2read\u001b[0m \u001b[0;34m=\u001b[0m \u001b[0mself\u001b[0m\u001b[0;34m.\u001b[0m\u001b[0mfilename\u001b[0m\u001b[0;34m+\u001b[0m\u001b[0;34m'eee'\u001b[0m\u001b[0;34m\u001b[0m\u001b[0;34m\u001b[0m\u001b[0m\n\u001b[1;32m     71\u001b[0m             \u001b[0mpdb\u001b[0m\u001b[0;34m.\u001b[0m\u001b[0mset_trace\u001b[0m\u001b[0;34m(\u001b[0m\u001b[0;34m)\u001b[0m \u001b[0;31m# THIS IS A BREAKPOINT\u001b[0m\u001b[0;34m\u001b[0m\u001b[0;34m\u001b[0m\u001b[0m\n\u001b[0;32m---> 72\u001b[0;31m             \u001b[0mdata\u001b[0m \u001b[0;34m=\u001b[0m \u001b[0mnp\u001b[0m\u001b[0;34m.\u001b[0m\u001b[0mgenfromtxt\u001b[0m\u001b[0;34m(\u001b[0m\u001b[0mfile2read\u001b[0m\u001b[0;34m,\u001b[0m \u001b[0mcomments\u001b[0m\u001b[0;34m=\u001b[0m\u001b[0;34m'*'\u001b[0m\u001b[0;34m,\u001b[0m \u001b[0mnames\u001b[0m\u001b[0;34m=\u001b[0m\u001b[0;34m'wl, fl'\u001b[0m\u001b[0;34m)\u001b[0m\u001b[0;34m\u001b[0m\u001b[0;34m\u001b[0m\u001b[0m\n\u001b[0m\u001b[1;32m     73\u001b[0m             \u001b[0mself\u001b[0m\u001b[0;34m.\u001b[0m\u001b[0mfl\u001b[0m \u001b[0;34m=\u001b[0m \u001b[0mdata\u001b[0m\u001b[0;34m[\u001b[0m\u001b[0;34m'fl'\u001b[0m\u001b[0;34m]\u001b[0m\u001b[0;34m\u001b[0m\u001b[0;34m\u001b[0m\u001b[0m\n\u001b[1;32m     74\u001b[0m             \u001b[0mself\u001b[0m\u001b[0;34m.\u001b[0m\u001b[0mwl\u001b[0m \u001b[0;34m=\u001b[0m \u001b[0mdata\u001b[0m\u001b[0;34m[\u001b[0m\u001b[0;34m'wl'\u001b[0m\u001b[0;34m]\u001b[0m \u001b[0;31m# in A\u001b[0m\u001b[0;34m\u001b[0m\u001b[0;34m\u001b[0m\u001b[0m\n",
      "\u001b[0;32m~/anaconda3/lib/python3.9/bdb.py\u001b[0m in \u001b[0;36mtrace_dispatch\u001b[0;34m(self, frame, event, arg)\u001b[0m\n\u001b[1;32m     92\u001b[0m             \u001b[0;32mreturn\u001b[0m \u001b[0mself\u001b[0m\u001b[0;34m.\u001b[0m\u001b[0mdispatch_return\u001b[0m\u001b[0;34m(\u001b[0m\u001b[0mframe\u001b[0m\u001b[0;34m,\u001b[0m \u001b[0marg\u001b[0m\u001b[0;34m)\u001b[0m\u001b[0;34m\u001b[0m\u001b[0;34m\u001b[0m\u001b[0m\n\u001b[1;32m     93\u001b[0m         \u001b[0;32mif\u001b[0m \u001b[0mevent\u001b[0m \u001b[0;34m==\u001b[0m \u001b[0;34m'exception'\u001b[0m\u001b[0;34m:\u001b[0m\u001b[0;34m\u001b[0m\u001b[0;34m\u001b[0m\u001b[0m\n\u001b[0;32m---> 94\u001b[0;31m             \u001b[0;32mreturn\u001b[0m \u001b[0mself\u001b[0m\u001b[0;34m.\u001b[0m\u001b[0mdispatch_exception\u001b[0m\u001b[0;34m(\u001b[0m\u001b[0mframe\u001b[0m\u001b[0;34m,\u001b[0m \u001b[0marg\u001b[0m\u001b[0;34m)\u001b[0m\u001b[0;34m\u001b[0m\u001b[0;34m\u001b[0m\u001b[0m\n\u001b[0m\u001b[1;32m     95\u001b[0m         \u001b[0;32mif\u001b[0m \u001b[0mevent\u001b[0m \u001b[0;34m==\u001b[0m \u001b[0;34m'c_call'\u001b[0m\u001b[0;34m:\u001b[0m\u001b[0;34m\u001b[0m\u001b[0;34m\u001b[0m\u001b[0m\n\u001b[1;32m     96\u001b[0m             \u001b[0;32mreturn\u001b[0m \u001b[0mself\u001b[0m\u001b[0;34m.\u001b[0m\u001b[0mtrace_dispatch\u001b[0m\u001b[0;34m\u001b[0m\u001b[0;34m\u001b[0m\u001b[0m\n",
      "\u001b[0;32m~/anaconda3/lib/python3.9/bdb.py\u001b[0m in \u001b[0;36mdispatch_exception\u001b[0;34m(self, frame, arg)\u001b[0m\n\u001b[1;32m    172\u001b[0m                     and arg[0] is StopIteration and arg[2] is None):\n\u001b[1;32m    173\u001b[0m                 \u001b[0mself\u001b[0m\u001b[0;34m.\u001b[0m\u001b[0muser_exception\u001b[0m\u001b[0;34m(\u001b[0m\u001b[0mframe\u001b[0m\u001b[0;34m,\u001b[0m \u001b[0marg\u001b[0m\u001b[0;34m)\u001b[0m\u001b[0;34m\u001b[0m\u001b[0;34m\u001b[0m\u001b[0m\n\u001b[0;32m--> 174\u001b[0;31m                 \u001b[0;32mif\u001b[0m \u001b[0mself\u001b[0m\u001b[0;34m.\u001b[0m\u001b[0mquitting\u001b[0m\u001b[0;34m:\u001b[0m \u001b[0;32mraise\u001b[0m \u001b[0mBdbQuit\u001b[0m\u001b[0;34m\u001b[0m\u001b[0;34m\u001b[0m\u001b[0m\n\u001b[0m\u001b[1;32m    175\u001b[0m         \u001b[0;31m# Stop at the StopIteration or GeneratorExit exception when the user\u001b[0m\u001b[0;34m\u001b[0m\u001b[0;34m\u001b[0m\u001b[0m\n\u001b[1;32m    176\u001b[0m         \u001b[0;31m# has set stopframe in a generator by issuing a return command, or a\u001b[0m\u001b[0;34m\u001b[0m\u001b[0;34m\u001b[0m\u001b[0m\n",
      "\u001b[0;31mBdbQuit\u001b[0m: "
     ]
    }
   ],
   "source": [
    "%run test_5_pdb.py"
   ]
  },
  {
   "cell_type": "code",
   "execution_count": 5,
   "metadata": {},
   "outputs": [
    {
     "name": "stdout",
     "output_type": "stream",
     "text": [
      "Overwriting test_2_err.py\n"
     ]
    }
   ],
   "source": [
    "%%writefile test_2_err.py\n",
    "import numpy as np\n",
    "import os\n",
    "from urllib.request import urlopen\n",
    "from scipy.integrate import simps\n",
    "\n",
    "class Stel_Spectrum(object):\n",
    "    \"\"\"\n",
    "    This object downloads a file from http://astro.uni-tuebingen.de/~rauch/TMAF/NLTE/He+C+N+O/\n",
    "    and is able to make some plots.    \n",
    "    \"\"\"\n",
    "    \n",
    "    spec_count = 0 # This attibute is at the level of the class, not of the object.\n",
    "    def __init__(self, filename=None, T=None, logg=None, verbose=False):\n",
    "        \"\"\"\n",
    "        Initialisation of the Stel_Spectrum object.\n",
    "        Parameter:\n",
    "            - filename\n",
    "            - T: temperature in K, e.g. 150000\n",
    "            - logg: e.g. 7.5\n",
    "            - verbose: if True, some info are printed out\n",
    "        The wl variable is an array of wavelengths in Angstrom.\n",
    "        The fl variable is the flux in erg/s/cm2/A\n",
    "        The variables T and logg are properties: changing them will reload the data\n",
    "        \"\"\"\n",
    "        self.verbose = verbose\n",
    "        if filename is None:\n",
    "            if T is not None and logg is not None:\n",
    "                self.__T = T # We need to initialize the hidden values, as logg is still not defined\n",
    "                self.logg = logg\n",
    "                self.filename = '0{0:06.0f}_{1:.2f}_33_50_02_15.bin_0.1.gz'.format(self.T, self.logg)\n",
    "            else:\n",
    "                raise TypeError(\"T and logg must be given\")\n",
    "        else:\n",
    "            self.filename = filename\n",
    "            self.__T = float(filename.split('_')[0]) # We need to initialize the hidden values, as logg is still not defined\n",
    "            self.logg = float(filename.split('_')[1])\n",
    "        Stel_Spectrum.spec_count += 1\n",
    "        if self.verbose:\n",
    "            print('Instantiation done')\n",
    "            \n",
    "    def dlfile(self):\n",
    "        \"\"\"\n",
    "        Downloading file if not already here. Put it in the current directory\n",
    "        \"\"\"\n",
    "        if not os.path.exists(self.filename):\n",
    "            if self.verbose:\n",
    "                print('Downloading {}'.format(self.filename))\n",
    "            try:\n",
    "                stel_file = urlopen('http://astro.uni-tuebingen.de/~rauch/TMAF/NLTE/He+C+N+O/' + \n",
    "                                            self.filename)\n",
    "                output = open(self.filename,'wb')\n",
    "                output.write(stel_file.read())\n",
    "                output.close()\n",
    "                self.file_found=True\n",
    "            except:\n",
    "                if self.verbose:\n",
    "                    print('file {} not found'.format(self.filename))\n",
    "                self.file_found=False\n",
    "        else:\n",
    "            if self.verbose:\n",
    "                print('{} already on disk'.format(self.filename))\n",
    "            self.file_found=True\n",
    "                \n",
    "    def read_data(self):\n",
    "        \"\"\"\n",
    "        read the data from the file\n",
    "        \"\"\"\n",
    "        if self.file_found:\n",
    "            file2read = self.filename+'eee'\n",
    "            data = np.genfromtxt(file2read, comments='*', names='wl, fl')\n",
    "            self.fl = data['fl']\n",
    "            self.wl = data['wl'] # in A\n",
    "            self.fl /= 1e8 # F LAMBDA  GIVEN IN ERG/CM**2/SEC/CM -> erg/s/cm2/A\n",
    "            if self.verbose:\n",
    "                print('Read data from {}'.format(self.filename))\n",
    "        else:\n",
    "            if self.verbose:\n",
    "                print('file not found {}'.format(self.filename))\n",
    "            self.wl = None\n",
    "            self.fl = None\n",
    "        \n",
    "    def plot_spr(self, ax=None, *args, **kwargs):\n",
    "        \"\"\"\n",
    "        Plot the spectrum.\n",
    "        Parameter:\n",
    "            - ax: an axis (optionnal). If Noe or absent, axis is created\n",
    "            - any extra parameter is passed to ax.plot\n",
    "        \"\"\"\n",
    "        if self.wl is None:\n",
    "            print('No data to plot')\n",
    "            return\n",
    "        if ax is None:\n",
    "            fig, ax = plt.subplots()\n",
    "        ax.plot(self.wl, self.fl,\n",
    "                label='T3={0:.0f}, logg={1}'.format(self.T/1e3, self.logg),\n",
    "                *args, **kwargs) # Here are the transmissions of extra parameters to plot\n",
    "        ax.set_yscale('log')\n",
    "        ax.set_ylim(1e6, 1e14)\n",
    "        ax.set_xlabel('Wavelength (A)')\n",
    "        \n",
    "    def get_integ(self):\n",
    "        \"\"\"\n",
    "        Return the integral of Flambda over lambda, in erg/s/cm2\n",
    "        \"\"\"\n",
    "        if self.wl is None:\n",
    "            print('No data')\n",
    "            return None\n",
    "        return simps(self.fl, self.wl) # perform the integral\n",
    "    \n",
    "    def __getT(self): \n",
    "        return self.__T\n",
    "    \n",
    "    def __setT(self, value): \n",
    "        if not isinstance(value, (int, float)): # check the type of the input\n",
    "            raise TypeError('T must be an integer or a float')\n",
    "        if float(value) not in np.linspace(40000, 190000, 16): # check the value of the input\n",
    "            raise ValueError('T value must be between 40000 and 190000K, by 10000K steps')\n",
    "        elif self.__T != value:\n",
    "            self.__T = value\n",
    "            self.filename = '0{0:06.0f}_{1:.2f}_33_50_02_15.bin_0.1.gz'.format(self.T, self.logg)\n",
    "            self.dlfile() # will download new data\n",
    "            self.read_data() # will update the data\n",
    "        \n",
    "    def __delT(self): \n",
    "        print('T is needed')\n",
    "        \n",
    "    T = property(__getT, __setT, __delT, \"Stellar effective temperature\")\n",
    "    \n",
    "    def __getlogg(self): \n",
    "        return self.__logg\n",
    "    \n",
    "    def __setlogg(self, value):\n",
    "        try:\n",
    "            self.__logg \n",
    "        except:\n",
    "            self.__logg = -1\n",
    "        if not isinstance(value, (int, float)):\n",
    "            raise TypeError('logg must be an integer or a float')\n",
    "        if float(value) not in (-1., 5., 6., 7. ,8., 9.):\n",
    "            raise ValueError('Error, logg must be 6, 7, 8, or 9')\n",
    "            self.__logg = None\n",
    "        elif self.__logg != value:\n",
    "            self.__logg = value\n",
    "            self.filename = '0{0:06.0f}_{1:.2f}_33_50_02_15.bin_0.1.gz'.format(self.T, self.logg)\n",
    "            self.dlfile() # will download new data\n",
    "            self.read_data() # will update the data\n",
    "        \n",
    "    def __dellogg(self): \n",
    "        print('logg is needed')\n",
    "        \n",
    "    logg = property(__getlogg, __setlogg, __dellogg, \"Stellar logg\")\n",
    "\n",
    "    def print_info(self):\n",
    "        \"\"\"\n",
    "        Print out the filename and the number of points\n",
    "        \"\"\"\n",
    "        print(self.__repr__())\n",
    "        \n",
    "    def __repr__(self):\n",
    "        \"\"\"\n",
    "        This is what is used when calling \"print <obj>\" or <obj> ENTER\n",
    "        \"\"\"\n",
    "        if self.wl is None:\n",
    "            return'Filename: {0}, No data'.format(self.filename)\n",
    "        else:\n",
    "            return'Filename: {0}, number of points: {1}'.format(self.filename, len(self.wl))\n",
    "    \n",
    "    def __del__(self):\n",
    "        Stel_Spectrum.spec_count -= 1\n",
    "\n",
    "sp = Stel_Spectrum(T=100000, logg=6, verbose=True)\n",
    "print('ending')\n",
    "print(sp.filename, sp.get_integ())"
   ]
  },
  {
   "cell_type": "code",
   "execution_count": null,
   "metadata": {
    "collapsed": false,
    "jupyter": {
     "outputs_hidden": false
    }
   },
   "outputs": [],
   "source": [
    "# From a terminal:\n",
    "# ipython --pdb \n",
    "%run test_2_err.py "
   ]
  },
  {
   "cell_type": "markdown",
   "metadata": {},
   "source": [
    "Run it from spyder debugger mode..."
   ]
  },
  {
   "cell_type": "markdown",
   "metadata": {},
   "source": []
  }
 ],
 "metadata": {
  "kernelspec": {
   "display_name": "Python 3 (ipykernel)",
   "language": "python",
   "name": "python3"
  },
  "language_info": {
   "codemirror_mode": {
    "name": "ipython",
    "version": 3
   },
   "file_extension": ".py",
   "mimetype": "text/x-python",
   "name": "python",
   "nbconvert_exporter": "python",
   "pygments_lexer": "ipython3",
   "version": "3.9.7"
  }
 },
 "nbformat": 4,
 "nbformat_minor": 4
}

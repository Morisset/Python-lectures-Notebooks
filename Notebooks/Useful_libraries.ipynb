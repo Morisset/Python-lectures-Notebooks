{
 "cells": [
  {
   "cell_type": "code",
   "execution_count": 1,
   "metadata": {
    "colab": {
     "base_uri": "https://localhost:8080/",
     "height": 68
    },
    "colab_type": "code",
    "collapsed": false,
    "id": "32L86GWVH7xT",
    "jupyter": {
     "outputs_hidden": false
    },
    "outputId": "75144bd1-f475-47c5-9717-d8dfc69ba867"
   },
   "outputs": [
    {
     "name": "stdout",
     "output_type": "stream",
     "text": [
      "Mon Nov  9 20:34:48 2020\n",
      "3.7.6 (default, Jan  8 2020, 13:42:34) \n",
      "[Clang 4.0.1 (tags/RELEASE_401/final)]\n"
     ]
    }
   ],
   "source": [
    "# The following is to know when this notebook has been run and with which python version.\n",
    "import time, sys\n",
    "print(time.ctime())\n",
    "print(sys.version.split('|')[0])"
   ]
  },
  {
   "cell_type": "code",
   "execution_count": 2,
   "metadata": {
    "colab": {},
    "colab_type": "code",
    "collapsed": false,
    "id": "Ok2reGgrH7xX",
    "jupyter": {
     "outputs_hidden": false
    }
   },
   "outputs": [],
   "source": [
    "import numpy as np"
   ]
  },
  {
   "cell_type": "markdown",
   "metadata": {
    "colab_type": "text",
    "id": "LT0khpzjH7xb"
   },
   "source": [
    "# F Some useful libraries that make life easier"
   ]
  },
  {
   "cell_type": "markdown",
   "metadata": {
    "colab_type": "text",
    "id": "MNiJIN0eH7xb"
   },
   "source": [
    "This is part of the Python lecture given by Christophe Morisset at IA-UNAM."
   ]
  },
  {
   "cell_type": "markdown",
   "metadata": {
    "colab_type": "text",
    "id": "nW9XV2pgH7xc"
   },
   "source": [
    "This lecture will give some insights to the most useful python libraries. It is NOT exhaustive, you have to read the corresponding manual pages to find the best use you can have of them. The list of all python-included libraries is here: https://docs.python.org/3/library/"
   ]
  },
  {
   "cell_type": "markdown",
   "metadata": {
    "colab_type": "text",
    "id": "8gr3DHdrH7xc"
   },
   "source": [
    "### time, datetime and timeit"
   ]
  },
  {
   "cell_type": "markdown",
   "metadata": {
    "colab_type": "text",
    "id": "1uk9swL3H7xd"
   },
   "source": [
    "*  https://docs.python.org/3/library/time.html\n",
    "*  https://docs.python.org/3/library/datetime.html"
   ]
  },
  {
   "cell_type": "code",
   "execution_count": 3,
   "metadata": {
    "colab": {},
    "colab_type": "code",
    "collapsed": false,
    "id": "ZvXi9pc6H7xd",
    "jupyter": {
     "outputs_hidden": false
    }
   },
   "outputs": [],
   "source": [
    "import time\n",
    "import datetime"
   ]
  },
  {
   "cell_type": "code",
   "execution_count": 7,
   "metadata": {
    "colab": {
     "base_uri": "https://localhost:8080/",
     "height": 34
    },
    "colab_type": "code",
    "collapsed": false,
    "id": "lU1GfjWQH7xg",
    "jupyter": {
     "outputs_hidden": false
    },
    "outputId": "ee865dfa-bf31-4e69-d7be-d1bdbd177c6d"
   },
   "outputs": [
    {
     "name": "stdout",
     "output_type": "stream",
     "text": [
      "Mon Nov  9 20:40:01 2020\n"
     ]
    }
   ],
   "source": [
    "print(time.ctime()) # current time, in a string format"
   ]
  },
  {
   "cell_type": "code",
   "execution_count": 6,
   "metadata": {
    "colab": {
     "base_uri": "https://localhost:8080/",
     "height": 34
    },
    "colab_type": "code",
    "collapsed": false,
    "id": "TP9z7JIrH7xj",
    "jupyter": {
     "outputs_hidden": false
    },
    "outputId": "48cf2b0e-921c-471e-ace3-c068b6effd23"
   },
   "outputs": [
    {
     "name": "stdout",
     "output_type": "stream",
     "text": [
      "time.struct_time(tm_year=2020, tm_mon=11, tm_mday=9, tm_hour=20, tm_min=39, tm_sec=59, tm_wday=0, tm_yday=314, tm_isdst=0)\n"
     ]
    }
   ],
   "source": [
    "lt = time.localtime()\n",
    "print(lt)"
   ]
  },
  {
   "cell_type": "code",
   "execution_count": 12,
   "metadata": {
    "colab": {
     "base_uri": "https://localhost:8080/",
     "height": 35
    },
    "colab_type": "code",
    "collapsed": false,
    "id": "d9TfFezSH7xm",
    "jupyter": {
     "outputs_hidden": false
    },
    "outputId": "155e4095-f8bc-41af-dfdb-bee55517e1da"
   },
   "outputs": [
    {
     "data": {
      "text/plain": [
       "'Mon, 09 Nov 2020 20:39:59'"
      ]
     },
     "execution_count": 12,
     "metadata": {},
     "output_type": "execute_result"
    }
   ],
   "source": [
    "time.strftime(\"%a, %d %b %Y %H:%M:%S\",lt)"
   ]
  },
  {
   "cell_type": "code",
   "execution_count": 13,
   "metadata": {
    "colab": {
     "base_uri": "https://localhost:8080/",
     "height": 34
    },
    "colab_type": "code",
    "collapsed": false,
    "id": "u2oSqfGUH7xp",
    "jupyter": {
     "outputs_hidden": false
    },
    "outputId": "58edda61-0281-49c8-fbe2-b239ba928c6f"
   },
   "outputs": [
    {
     "name": "stdout",
     "output_type": "stream",
     "text": [
      "2020-11-09 20:42:32.543704\n"
     ]
    }
   ],
   "source": [
    "print(datetime.datetime.today())"
   ]
  },
  {
   "cell_type": "code",
   "execution_count": 14,
   "metadata": {
    "colab": {},
    "colab_type": "code",
    "collapsed": false,
    "id": "XnWpbpEYH7xs",
    "jupyter": {
     "outputs_hidden": false
    }
   },
   "outputs": [],
   "source": [
    "today = datetime.date.today()\n",
    "philae_landing = datetime.date(2014, 11, 11)"
   ]
  },
  {
   "cell_type": "code",
   "execution_count": 15,
   "metadata": {
    "colab": {},
    "colab_type": "code",
    "collapsed": false,
    "id": "SI03c7FUH7xu",
    "jupyter": {
     "outputs_hidden": false
    }
   },
   "outputs": [],
   "source": [
    "time_to_landing = philae_landing - today"
   ]
  },
  {
   "cell_type": "code",
   "execution_count": 16,
   "metadata": {
    "colab": {
     "base_uri": "https://localhost:8080/",
     "height": 34
    },
    "colab_type": "code",
    "collapsed": false,
    "id": "gN0jfcjvH7xw",
    "jupyter": {
     "outputs_hidden": false
    },
    "outputId": "e932f57d-d40c-46a6-9130-4a84d0278543"
   },
   "outputs": [
    {
     "name": "stdout",
     "output_type": "stream",
     "text": [
      "Philae landed since 2190 days.\n"
     ]
    }
   ],
   "source": [
    "if philae_landing > today:\n",
    "    print('Philae landing in {} days.'.format(time_to_landing.days))\n",
    "else:\n",
    "    print('Philae landed since {} days.'.format(-time_to_landing.days))"
   ]
  },
  {
   "cell_type": "code",
   "execution_count": 19,
   "metadata": {
    "colab": {
     "base_uri": "https://localhost:8080/",
     "height": 34
    },
    "colab_type": "code",
    "collapsed": false,
    "id": "Z0hr13QHH7xz",
    "jupyter": {
     "outputs_hidden": false
    },
    "outputId": "84a175a1-39f9-402d-e718-ccd5c5e7bfdc"
   },
   "outputs": [
    {
     "name": "stdout",
     "output_type": "stream",
     "text": [
      "1000 factorials done in 0.018 secs.\n"
     ]
    }
   ],
   "source": [
    "start = time.time()\n",
    "for i in np.arange(1000):\n",
    "    t = np.math.factorial(i)\n",
    "end = time.time()\n",
    "print('1000 factorials done in {0:.3f} secs.'.format(end-start))"
   ]
  },
  {
   "cell_type": "code",
   "execution_count": 20,
   "metadata": {
    "colab": {
     "base_uri": "https://localhost:8080/",
     "height": 34
    },
    "colab_type": "code",
    "collapsed": false,
    "id": "jGGg-R8qH7x1",
    "jupyter": {
     "outputs_hidden": false
    },
    "outputId": "1b027386-fe99-45c1-9074-19668999edcf"
   },
   "outputs": [
    {
     "name": "stdout",
     "output_type": "stream",
     "text": [
      "0.16812326000035682\n"
     ]
    }
   ],
   "source": [
    "from timeit import Timer\n",
    "command = \"\"\"\\\n",
    "for i in np.arange(1000):\n",
    "    t = np.math.factorial(i)\n",
    "\"\"\"\n",
    "t = Timer(command, setup='import numpy as np')\n",
    "print(t.timeit(number=10))"
   ]
  },
  {
   "cell_type": "markdown",
   "metadata": {
    "colab_type": "text",
    "id": "IKKQyTaOH7x3"
   },
   "source": [
    "in ipython, one can use the magic timeit function:"
   ]
  },
  {
   "cell_type": "code",
   "execution_count": 21,
   "metadata": {
    "colab": {
     "base_uri": "https://localhost:8080/",
     "height": 51
    },
    "colab_type": "code",
    "collapsed": false,
    "id": "7AKQv69eH7x4",
    "jupyter": {
     "outputs_hidden": false
    },
    "outputId": "25bd4c3b-1674-4adc-8408-848566141490"
   },
   "outputs": [
    {
     "name": "stdout",
     "output_type": "stream",
     "text": [
      "525 ns ± 18.3 ns per loop (mean ± std. dev. of 7 runs, 1000000 loops each)\n"
     ]
    }
   ],
   "source": [
    "%timeit np.math.factorial(50)"
   ]
  },
  {
   "cell_type": "markdown",
   "metadata": {
    "colab_type": "text",
    "id": "FXSsYMCQH7x6"
   },
   "source": [
    "or for the whole cell:"
   ]
  },
  {
   "cell_type": "code",
   "execution_count": 22,
   "metadata": {
    "colab": {
     "base_uri": "https://localhost:8080/",
     "height": 34
    },
    "colab_type": "code",
    "collapsed": false,
    "id": "f-JfQ523H7x6",
    "jupyter": {
     "outputs_hidden": false
    },
    "outputId": "287584ed-edf5-493a-d1ec-b8f6d5fb1988"
   },
   "outputs": [
    {
     "name": "stdout",
     "output_type": "stream",
     "text": [
      "13.5 ms ± 481 µs per loop (mean ± std. dev. of 7 runs, 100 loops each)\n"
     ]
    }
   ],
   "source": [
    "%%timeit\n",
    "for i in np.arange(1000):\n",
    "    t = np.math.factorial(i)"
   ]
  },
  {
   "cell_type": "markdown",
   "metadata": {
    "colab_type": "text",
    "id": "KyLxhPrrH7x9"
   },
   "source": [
    "### os"
   ]
  },
  {
   "cell_type": "markdown",
   "metadata": {
    "colab_type": "text",
    "id": "4uO40v8yH7x9"
   },
   "source": [
    "https://docs.python.org/3/library/os.html \n",
    "This module provides a portable way of using operating system dependent functionality. If you just want to read or write a file see open(), if you want to manipulate paths, see the os.path module, and if you want to read all the lines in all the files on the command line see the fileinput module. For creating temporary files and directories see the tempfile module, and for high-level file and directory handling see the shutil module."
   ]
  },
  {
   "cell_type": "code",
   "execution_count": 23,
   "metadata": {
    "colab": {},
    "colab_type": "code",
    "collapsed": false,
    "id": "lBmM4BzFH7x9",
    "jupyter": {
     "outputs_hidden": false
    }
   },
   "outputs": [],
   "source": [
    "import os"
   ]
  },
  {
   "cell_type": "code",
   "execution_count": 24,
   "metadata": {
    "colab": {
     "base_uri": "https://localhost:8080/",
     "height": 34
    },
    "colab_type": "code",
    "collapsed": false,
    "id": "y_JgGxBRH7yA",
    "jupyter": {
     "outputs_hidden": false
    },
    "outputId": "b0109ac4-7fda-401e-f02f-110a2cd4c199"
   },
   "outputs": [
    {
     "name": "stdout",
     "output_type": "stream",
     "text": [
      "/Users/christophemorisset\n"
     ]
    }
   ],
   "source": [
    "# os.environ is a dictionnary containing the environment variables and values\n",
    "if 'HOME' in os.environ:\n",
    "    print(os.environ['HOME'])\n",
    "else:\n",
    "    print('This OS is too limited to understand HOME')"
   ]
  },
  {
   "cell_type": "code",
   "execution_count": 26,
   "metadata": {
    "colab": {
     "base_uri": "https://localhost:8080/",
     "height": 34
    },
    "colab_type": "code",
    "collapsed": false,
    "id": "vlLWYIdBH7yC",
    "jupyter": {
     "outputs_hidden": false
    },
    "outputId": "0b5f5543-4ae8-4be1-95ec-293a176df623"
   },
   "outputs": [
    {
     "name": "stdout",
     "output_type": "stream",
     "text": [
      "None\n"
     ]
    }
   ],
   "source": [
    "# if variable doesn't exists, getenv returns None\n",
    "print(os.getenv('HOMMMMMME'))"
   ]
  },
  {
   "cell_type": "code",
   "execution_count": 27,
   "metadata": {
    "colab": {
     "base_uri": "https://localhost:8080/",
     "height": 51
    },
    "colab_type": "code",
    "collapsed": false,
    "id": "KYbr2GKiH7yE",
    "jupyter": {
     "outputs_hidden": false
    },
    "outputId": "ef4f58a7-bc43-488d-838b-53bdf96b3c75"
   },
   "outputs": [
    {
     "name": "stdout",
     "output_type": "stream",
     "text": [
      "/Users/christophemorisset/Google Drive/Pro/Python-MySQL/Notebooks/Notebooks\n",
      "Notebooks\n"
     ]
    }
   ],
   "source": [
    "# get current working directory\n",
    "cwd = os.getcwd()\n",
    "print(cwd)\n",
    "print(cwd.split('/')[-1])"
   ]
  },
  {
   "cell_type": "code",
   "execution_count": 29,
   "metadata": {
    "colab": {
     "base_uri": "https://localhost:8080/",
     "height": 34
    },
    "colab_type": "code",
    "collapsed": false,
    "id": "0JP8pXdqH7yG",
    "jupyter": {
     "outputs_hidden": false
    },
    "outputId": "4607ab32-a96d-475f-87b3-77f3268facd2"
   },
   "outputs": [
    {
     "name": "stdout",
     "output_type": "stream",
     "text": [
      "Dir /tmp/test3456 exists\n"
     ]
    }
   ],
   "source": [
    "new_dir = '/tmp/test3456'\n",
    "if not os.path.exists(new_dir):\n",
    "    os.mkdir(new_dir)\n",
    "    print('Dir {} created'.format(new_dir))\n",
    "else:\n",
    "    print('Dir {} exists'.format(new_dir))"
   ]
  },
  {
   "cell_type": "code",
   "execution_count": 30,
   "metadata": {
    "colab": {
     "base_uri": "https://localhost:8080/",
     "height": 34
    },
    "colab_type": "code",
    "collapsed": false,
    "id": "kGmoz7jPH7yI",
    "jupyter": {
     "outputs_hidden": false
    },
    "outputId": "7e12a6b0-3032-43fd-c146-c0baac437a80"
   },
   "outputs": [
    {
     "data": {
      "text/plain": [
       "[]"
      ]
     },
     "execution_count": 30,
     "metadata": {},
     "output_type": "execute_result"
    }
   ],
   "source": [
    "# list all the files from a directory\n",
    "os.listdir(new_dir)"
   ]
  },
  {
   "cell_type": "code",
   "execution_count": 33,
   "metadata": {
    "colab": {
     "base_uri": "https://localhost:8080/",
     "height": 35
    },
    "colab_type": "code",
    "collapsed": false,
    "id": "2uBhkUOaH7yK",
    "jupyter": {
     "outputs_hidden": false
    },
    "outputId": "955beff7-9b47-4485-cc66-639b9007d4c2"
   },
   "outputs": [
    {
     "data": {
      "text/plain": [
       "'/private/tmp/test3456'"
      ]
     },
     "execution_count": 33,
     "metadata": {},
     "output_type": "execute_result"
    }
   ],
   "source": [
    "os.chdir(new_dir)\n",
    "os.getcwd()"
   ]
  },
  {
   "cell_type": "code",
   "execution_count": 37,
   "metadata": {
    "colab": {},
    "colab_type": "code",
    "collapsed": false,
    "id": "1M8EMNZEH7yM",
    "jupyter": {
     "outputs_hidden": false
    }
   },
   "outputs": [],
   "source": [
    "# Renaming files in a directory\n",
    "cwd = os.getcwd()\n",
    "os.chdir('/tmp')\n",
    "for filename in os.listdir('./'):\n",
    "    #print(filename)\n",
    "    base_file, ext = os.path.splitext(filename)\n",
    "    #print(base_file, ext)\n",
    "    if ext == '.txt':\n",
    "        newname = base_file + '.exe'\n",
    "        try:\n",
    "            os.rename(filename, newname)\n",
    "            print('file {0} renamed to {1}'.format(filename, newname))\n",
    "        except:\n",
    "            print('file {0} NOT renamed'.format(filename))\n",
    "os.chdir(os.environ['HOME'])"
   ]
  },
  {
   "cell_type": "markdown",
   "metadata": {
    "colab_type": "text",
    "id": "kaPSXOYRH7yO"
   },
   "source": [
    "### glob"
   ]
  },
  {
   "cell_type": "markdown",
   "metadata": {
    "colab_type": "text",
    "id": "6oAnvEGhH7yP"
   },
   "source": [
    "https://docs.python.org/3/library/glob.html"
   ]
  },
  {
   "cell_type": "markdown",
   "metadata": {
    "colab_type": "text",
    "id": "ZnoPMA0CH7yP"
   },
   "source": [
    "No tilde expansion is done, but *, ?, and character ranges expressed with [] will be correctly matched."
   ]
  },
  {
   "cell_type": "code",
   "execution_count": 38,
   "metadata": {
    "colab": {},
    "colab_type": "code",
    "collapsed": false,
    "id": "7CeJ7TwrH7yP",
    "jupyter": {
     "outputs_hidden": false
    }
   },
   "outputs": [],
   "source": [
    "from glob import glob"
   ]
  },
  {
   "cell_type": "code",
   "execution_count": 44,
   "metadata": {},
   "outputs": [],
   "source": [
    "os.chdir('/Users/christophemorisset/Google Drive/Pro/Python-MySQL/Notebooks/Notebooks')"
   ]
  },
  {
   "cell_type": "code",
   "execution_count": 45,
   "metadata": {
    "colab": {
     "base_uri": "https://localhost:8080/",
     "height": 34
    },
    "colab_type": "code",
    "collapsed": false,
    "id": "vdS5Y2c_H7yR",
    "jupyter": {
     "outputs_hidden": false
    },
    "outputId": "a96c3f79-84f6-4e2f-a76f-835efe376027"
   },
   "outputs": [
    {
     "name": "stdout",
     "output_type": "stream",
     "text": [
      "['Calling Fortran.ipynb', 'Test-Install.ipynb', 'intro_Scipy.ipynb', 'Ex1_with_res.ipynb', 'Parallel.ipynb', 'OOP.ipynb', 'Using_astropy.ipynb', 'Tarea_1.ipynb', 'Interact with files.ipynb', 'Tarea2.ipynb', 'Useful_libraries.ipynb', 'Tarea2_done.ipynb', 'intro_numpy.ipynb', 'intro_Python.ipynb', 'Ex1_done.ipynb', 'Ex1.ipynb', 'intro_Matplotlib.ipynb', 'Optimization.ipynb', 'Tarea2_helper.ipynb', 'Using_PyMySQL.ipynb']\n"
     ]
    }
   ],
   "source": [
    "ipynb_files = glob('*.ipynb')\n",
    "print(ipynb_files)"
   ]
  },
  {
   "cell_type": "markdown",
   "metadata": {
    "colab_type": "text",
    "id": "P4M6EE0lH7yT"
   },
   "source": [
    "### pathlib"
   ]
  },
  {
   "cell_type": "code",
   "execution_count": 46,
   "metadata": {
    "colab": {},
    "colab_type": "code",
    "id": "r7rccabJH7yT"
   },
   "outputs": [],
   "source": [
    "from pathlib import Path"
   ]
  },
  {
   "cell_type": "code",
   "execution_count": 47,
   "metadata": {
    "colab": {
     "base_uri": "https://localhost:8080/",
     "height": 68
    },
    "colab_type": "code",
    "id": "XWzbJNo9H7yV",
    "outputId": "b21b6ada-1204-461f-996a-c944d477c5d8"
   },
   "outputs": [
    {
     "name": "stdout",
     "output_type": "stream",
     "text": [
      "/tmp/test1234\n",
      "test1234\n",
      "/tmp\n"
     ]
    }
   ],
   "source": [
    "new_dir = Path('/tmp/test1234')\n",
    "print(new_dir)\n",
    "print(new_dir.name)\n",
    "print(new_dir.parent)"
   ]
  },
  {
   "cell_type": "code",
   "execution_count": 48,
   "metadata": {
    "colab": {
     "base_uri": "https://localhost:8080/",
     "height": 68
    },
    "colab_type": "code",
    "id": "UC-fupn0H7yX",
    "outputId": "b113f3fe-1c69-4cf7-c8df-e474db9bd2d6"
   },
   "outputs": [
    {
     "name": "stdout",
     "output_type": "stream",
     "text": [
      "/tmp/test1234\n",
      "test1234\n",
      "/tmp\n"
     ]
    }
   ],
   "source": [
    "new_dir = Path('/tmp') / Path('test1234')\n",
    "print(new_dir)\n",
    "print(new_dir.name)\n",
    "print(new_dir.parent)"
   ]
  },
  {
   "cell_type": "code",
   "execution_count": 50,
   "metadata": {
    "colab": {
     "base_uri": "https://localhost:8080/",
     "height": 34
    },
    "colab_type": "code",
    "id": "vDcvaOqmH7yY",
    "outputId": "1a4cdcaa-381d-4fbf-d570-1886495ca978"
   },
   "outputs": [
    {
     "name": "stdout",
     "output_type": "stream",
     "text": [
      "Dir /tmp/test1234 exists\n"
     ]
    }
   ],
   "source": [
    "if not new_dir.exists():\n",
    "    new_dir.mkdir() # may use exist_ok=True\n",
    "    print('Dir {} created'.format(new_dir))\n",
    "else:\n",
    "    print('Dir {} exists'.format(new_dir))"
   ]
  },
  {
   "cell_type": "code",
   "execution_count": 51,
   "metadata": {
    "colab": {},
    "colab_type": "code",
    "id": "a7QuThp0H7ya"
   },
   "outputs": [
    {
     "name": "stdout",
     "output_type": "stream",
     "text": [
      "Calling Fortran.ipynb Calling Fortran .ipynb\n",
      "Test-Install.ipynb Test-Install .ipynb\n",
      "intro_Scipy.ipynb intro_Scipy .ipynb\n",
      "Ex1_with_res.ipynb Ex1_with_res .ipynb\n",
      "Parallel.ipynb Parallel .ipynb\n",
      "OOP.ipynb OOP .ipynb\n",
      "Using_astropy.ipynb Using_astropy .ipynb\n",
      "Tarea_1.ipynb Tarea_1 .ipynb\n",
      "Interact with files.ipynb Interact with files .ipynb\n",
      "Tarea2.ipynb Tarea2 .ipynb\n",
      "Useful_libraries.ipynb Useful_libraries .ipynb\n",
      "Tarea2_done.ipynb Tarea2_done .ipynb\n",
      "intro_numpy.ipynb intro_numpy .ipynb\n",
      "intro_Python.ipynb intro_Python .ipynb\n",
      "Ex1_done.ipynb Ex1_done .ipynb\n",
      "Ex1.ipynb Ex1 .ipynb\n",
      "intro_Matplotlib.ipynb intro_Matplotlib .ipynb\n",
      "Optimization.ipynb Optimization .ipynb\n",
      "Tarea2_helper.ipynb Tarea2_helper .ipynb\n",
      "Using_PyMySQL.ipynb Using_PyMySQL .ipynb\n"
     ]
    }
   ],
   "source": [
    "current = Path('.')\n",
    "for f in current.glob('*.ipynb'):\n",
    "    print(f, f.stem, f.suffix)"
   ]
  },
  {
   "cell_type": "code",
   "execution_count": 52,
   "metadata": {
    "colab": {
     "base_uri": "https://localhost:8080/",
     "height": 51
    },
    "colab_type": "code",
    "id": "oT4uVENSH7yc",
    "outputId": "9357e8f0-36db-4514-b3b0-6e3b9803f4e7"
   },
   "outputs": [
    {
     "name": "stdout",
     "output_type": "stream",
     "text": [
      "[PosixPath('/tmp/test1234/test5678.txt'), PosixPath('/tmp/test1234/test1234.txt')]\n",
      "[PosixPath('/tmp/test1234/test1234.txt2'), PosixPath('/tmp/test1234/test5678.txt2')]\n"
     ]
    }
   ],
   "source": [
    "new_dir = Path('/tmp') / Path('test1234')\n",
    "for f in new_dir.glob('test*.txt*'):\n",
    "    f.unlink()\n",
    "\n",
    "f = new_dir / Path('test1234.txt')\n",
    "f.touch()\n",
    "f = new_dir / Path('test5678.txt')\n",
    "f.touch()\n",
    "print(list(new_dir.glob('test*.txt*')))\n",
    "\n",
    "for f in new_dir.glob('test*.txt'):\n",
    "    new_f = f.with_suffix('.txt2')\n",
    "    if not new_f.exists():\n",
    "        f.rename(new_f)\n",
    "    else:\n",
    "        print('{} exists'.format(new_f))\n",
    "\n",
    "print(list(new_dir.glob('test*.txt*')))"
   ]
  },
  {
   "cell_type": "markdown",
   "metadata": {
    "colab_type": "text",
    "id": "9F_EN2-aH7yd"
   },
   "source": [
    "### sys"
   ]
  },
  {
   "cell_type": "markdown",
   "metadata": {
    "colab_type": "text",
    "id": "oz0aXUoWH7ye"
   },
   "source": [
    "https://docs.python.org/3/library/sys.html\n",
    "This module provides access to some variables used or maintained by the interpreter and to functions that interact strongly with the interpreter. It is always available.\n",
    "\n",
    "The sys.argv list contains the arguments passed to the script, when the interpreter was started. The first item contains the name of the script itself."
   ]
  },
  {
   "cell_type": "code",
   "execution_count": 53,
   "metadata": {
    "colab": {
     "base_uri": "https://localhost:8080/",
     "height": 34
    },
    "colab_type": "code",
    "collapsed": false,
    "id": "rY6RzBbCH7ye",
    "jupyter": {
     "outputs_hidden": false
    },
    "outputId": "605fe260-b574-4f80-a0f1-fb9e913c8f96"
   },
   "outputs": [
    {
     "name": "stdout",
     "output_type": "stream",
     "text": [
      "Overwriting sys_text.py\n"
     ]
    }
   ],
   "source": [
    "%%writefile sys_text.py\n",
    "import sys\n",
    "for arg in sys.argv:\n",
    "    print(arg)\n"
   ]
  },
  {
   "cell_type": "code",
   "execution_count": 54,
   "metadata": {
    "colab": {
     "base_uri": "https://localhost:8080/",
     "height": 68
    },
    "colab_type": "code",
    "collapsed": false,
    "id": "q5yEYmmMH7yf",
    "jupyter": {
     "outputs_hidden": false
    },
    "outputId": "ddde33f0-3f2b-4787-be03-fe8059c77dac"
   },
   "outputs": [
    {
     "name": "stdout",
     "output_type": "stream",
     "text": [
      "import sys\n",
      "for arg in sys.argv:\n",
      "    print(arg)\n"
     ]
    }
   ],
   "source": [
    "!cat sys_text.py"
   ]
  },
  {
   "cell_type": "code",
   "execution_count": 58,
   "metadata": {
    "colab": {
     "base_uri": "https://localhost:8080/",
     "height": 51
    },
    "colab_type": "code",
    "collapsed": false,
    "id": "n0Hw7VJ6H7yh",
    "jupyter": {
     "outputs_hidden": false
    },
    "outputId": "5db71827-7b78-43e9-da40-384b6caf948c"
   },
   "outputs": [
    {
     "name": "stdout",
     "output_type": "stream",
     "text": [
      "sys_text.py\n",
      "tralala\n",
      "trololo\n"
     ]
    }
   ],
   "source": [
    "! python sys_text.py tralala trololo"
   ]
  },
  {
   "cell_type": "code",
   "execution_count": 64,
   "metadata": {
    "colab": {
     "base_uri": "https://localhost:8080/",
     "height": 34
    },
    "colab_type": "code",
    "collapsed": false,
    "id": "9L5py-KDH7yj",
    "jupyter": {
     "outputs_hidden": false
    },
    "outputId": "b95f7a0f-96cb-4b92-fb49-9d12ddfd1aad"
   },
   "outputs": [
    {
     "name": "stdout",
     "output_type": "stream",
     "text": [
      "Overwriting fact.py\n"
     ]
    }
   ],
   "source": [
    "%%writefile fact.py\n",
    "import sys\n",
    "import numpy as np\n",
    "print(np.math.factorial(int(sys.argv[1])))\n",
    "\n"
   ]
  },
  {
   "cell_type": "code",
   "execution_count": 69,
   "metadata": {
    "colab": {
     "base_uri": "https://localhost:8080/",
     "height": 85
    },
    "colab_type": "code",
    "collapsed": false,
    "id": "6nTcEAO6H7ym",
    "jupyter": {
     "outputs_hidden": false
    },
    "outputId": "e6055f5b-506a-4c22-aef3-e0c19d2dd63e"
   },
   "outputs": [
    {
     "name": "stdout",
     "output_type": "stream",
     "text": [
      "8320987112741390144276341183223364380754172606361245952449277696409600000000000000\n"
     ]
    }
   ],
   "source": [
    "! python fact.py 60"
   ]
  },
  {
   "cell_type": "markdown",
   "metadata": {
    "colab_type": "text",
    "id": "iKtaOioHH7yn"
   },
   "source": [
    "A more complete managment of the argument (especially those like --v) is available using the argparse library. https://docs.python.org/3/library/argparse.html"
   ]
  },
  {
   "cell_type": "markdown",
   "metadata": {
    "colab_type": "text",
    "id": "QdzXPqo1H7yo"
   },
   "source": [
    "### Talking to the OS subprocess"
   ]
  },
  {
   "cell_type": "markdown",
   "metadata": {
    "colab_type": "text",
    "id": "0ncmBCC4H7yo"
   },
   "source": [
    "The os.popen method is deprecated, subprocess is prefered. A good tutorial is here: http://pymotw.com/3/subprocess/"
   ]
  },
  {
   "cell_type": "code",
   "execution_count": 70,
   "metadata": {
    "colab": {},
    "colab_type": "code",
    "collapsed": false,
    "id": "Xp7Yb8C_H7yo",
    "jupyter": {
     "outputs_hidden": false
    }
   },
   "outputs": [],
   "source": [
    "import subprocess"
   ]
  },
  {
   "cell_type": "code",
   "execution_count": 71,
   "metadata": {
    "colab": {
     "base_uri": "https://localhost:8080/",
     "height": 85
    },
    "colab_type": "code",
    "collapsed": false,
    "id": "l64kq98IH7yq",
    "jupyter": {
     "outputs_hidden": false
    },
    "outputId": "3c0c9894-2ad0-4345-adb6-ed2b3787a26c"
   },
   "outputs": [
    {
     "name": "stdout",
     "output_type": "stream",
     "text": [
      "total 63880\n",
      "-rw-------  1 christophemorisset  staff  4229587 May 31  2016 CALIFA_ah7.dat.gz\n",
      "-rw-------  1 christophemorisset  staff    20137 Nov  1  2018 Calling Fortran.ipynb\n",
      "-rw-------  1 christophemorisset  staff    86815 Jun  2  2016 Calling Fortran.pdf\n",
      "-rw-r--r--  1 christophemorisset  staff      226 Oct 12 22:49 Demo.pickle\n",
      "-rw-r--r--  1 christophemorisset  staff      198 Oct 12 22:52 Demo.pklz\n",
      "-rw-------  1 christophemorisset  staff     8265 Sep 21 18:13 Ex1.ipynb\n",
      "-rw-------  1 christophemorisset  staff   381624 Sep 21 18:13 Ex1_done.ipynb\n",
      "-rw-------  1 christophemorisset  staff   315455 Sep 21 18:13 Ex1_with_res.ipynb\n",
      "-rw-r--r--  1 christophemorisset  staff    93801 Oct 22 10:47 Fig1.jpg\n",
      "-rw-r--r--  1 christophemorisset  staff    64091 Oct 22 10:47 Fig1.pdf\n",
      "-rw-r--r--  1 christophemorisset  staff   123182 Oct 22 10:47 Fig1.png\n",
      "-rw-r--r--  1 christophemorisset  staff   111863 Oct 22 10:31 HII.dat\n",
      "-rw-r--r--  1 christophemorisset  staff    46901 Oct 22 10:18 HII.dat.gz\n",
      "-rw-------@ 1 christophemorisset  staff   860517 Sep 21 16:38 InstallPython.key\n",
      "-rw-------  1 christophemorisset  staff   554465 Oct 13 08:20 Interact with files.ipynb\n",
      "-rw-------  1 christophemorisset  staff   388118 Jun 30  2017 Interact with files.pdf\n",
      "-rw-------  1 christophemorisset  staff   131497 May 31  2016 Intro_1.odp\n",
      "-rw-------  1 christophemorisset  staff   174202 May 31  2016 Intro_1.pdf\n",
      "-rw-------  1 christophemorisset  staff   130234 May 31  2016 Intro_2014.odp\n",
      "-rw-------  1 christophemorisset  staff   110524 Nov 22  2017 MySQL.pdf\n",
      "-rw-------  1 christophemorisset  staff  1270918 May 31  2016 MySQL.pdf.gz\n",
      "-rw-------  1 christophemorisset  staff   688451 Oct  3  2019 OOP.ipynb\n",
      "-rw-------  1 christophemorisset  staff   568413 Jun 30  2017 OOP.pdf\n",
      "-rw-------  1 christophemorisset  staff   870171 Nov  7  2019 Optimization.ipynb\n",
      "-rw-------  1 christophemorisset  staff   481656 Jun  2  2016 Optimization.pdf\n",
      "-rw-------  1 christophemorisset  staff     2537 Nov  9  2016 Parallel.ipynb\n",
      "-rw-r--r--  1 christophemorisset  staff     3679 Oct 22 11:00 Tarea2.ipynb\n",
      "-rw-r--r--  1 christophemorisset  staff   339696 Oct 22 10:55 Tarea2_done.ipynb\n",
      "-rw-r--r--  1 christophemorisset  staff   257277 Oct 22 10:32 Tarea2_helper.ipynb\n",
      "-rw-r--r--  1 christophemorisset  staff     6154 Oct  7 14:03 Tarea_1.ipynb\n",
      "-rw-r--r--  1 christophemorisset  staff     1434 Sep 22 19:01 Test-Install.ipynb\n",
      "-rw-r--r--  1 christophemorisset  staff    35552 Nov  9 21:31 Useful_libraries.ipynb\n",
      "-rw-r--r--@ 1 christophemorisset  staff    77840 Jul  1 23:05 Useful_libraries.pdf\n",
      "-rw-------  1 christophemorisset  staff   282484 Nov  9 09:23 Using_PyMySQL.ipynb\n",
      "-rw-------  1 christophemorisset  staff   221936 Nov 17  2016 Using_PyMySQL.pdf\n",
      "-rw-------  1 christophemorisset  staff    35209 Nov  9 19:51 Using_astropy.ipynb\n",
      "-rw-------  1 christophemorisset  staff   206058 Jun 30  2017 Using_astropy.pdf\n",
      "drwxr-xr-x  4 christophemorisset  staff      128 Oct  7 12:31 \u001b[34m__pycache__\u001b[m\u001b[m/\n",
      "-rw-r--r--  1 christophemorisset  staff       65 Oct 12 21:36 data1.dat\n",
      "-rw-r--r--  1 christophemorisset  staff       14 Oct 12 22:41 data10.dat\n",
      "-rw-r--r--  1 christophemorisset  staff       32 Oct 12 22:43 data11.dat\n",
      "-rw-r--r--  1 christophemorisset  staff      104 Oct 12 22:47 data12.dat\n",
      "-rw-r--r--  1 christophemorisset  staff      148 Oct 12 21:40 data2.dat\n",
      "-rw-r--r--  1 christophemorisset  staff      170 Oct 12 22:04 data3.dat\n",
      "-rw-r--r--  1 christophemorisset  staff     1190 Oct 12 22:21 data4.dat\n",
      "-rw-r--r--  1 christophemorisset  staff     1186 Oct 12 22:32 data5.dat\n",
      "-rw-------  1 christophemorisset  staff      298 May 31  2016 dcumsum.f\n",
      "-rw-------  1 christophemorisset  staff    30716 Nov 10  2016 dcumsum.so\n",
      "-rw-------  1 christophemorisset  staff     1447 Oct  7 12:31 ex1.html\n",
      "-rw-r--r--  1 christophemorisset  staff      155 Oct  7 12:31 ex1.py\n",
      "-rw-------  1 christophemorisset  staff      288 Jun 29  2017 ex1.pyc\n",
      "-rw-------  1 christophemorisset  staff        8 May 31  2016 ex1.txt\n",
      "-rw-------  1 christophemorisset  staff       74 Nov  9 21:29 fact.py\n",
      "-rw-------  1 christophemorisset  staff     4214 May 31  2016 grep.py\n",
      "-rw-------  1 christophemorisset  staff     4995 May 31  2016 grep2.py\n",
      "-rw-------  1 christophemorisset  staff     6319 May 31  2016 grep3.py\n",
      "-rw-------  1 christophemorisset  staff     5575 Dec  9  2016 grep3.pyc\n",
      "-rw-------  1 christophemorisset  staff       49 May 31  2016 hello.py\n",
      "-rw-------  1 christophemorisset  staff     1090 May 31  2016 hellofortran.c\n",
      "-rw-------  1 christophemorisset  staff      178 May 31  2016 hellofortran.f\n",
      "-rw-------  1 christophemorisset  staff    33976 May 31  2016 hellofortran.so\n",
      "-rw-------  1 christophemorisset  staff      150 May 31  2016 index.html\n",
      "-rw-------  1 christophemorisset  staff  2368116 Oct 19 23:10 intro_Matplotlib.ipynb\n",
      "-rw-------  1 christophemorisset  staff  1643810 Jun 30  2017 intro_Matplotlib.pdf\n",
      "-rw-------  1 christophemorisset  staff   326924 May 31  2016 intro_Python.html\n",
      "-rw-------  1 christophemorisset  staff    97772 Oct  7 12:31 intro_Python.ipynb\n",
      "-rw-------  1 christophemorisset  staff   143102 Jun 30  2017 intro_Python.pdf\n",
      "-rw-------  1 christophemorisset  staff   179449 May 31  2016 intro_Python_2.pdf\n",
      "-rw-------  1 christophemorisset  staff   103229 May 31  2016 intro_Python_3.pdf\n",
      "-rw-------  1 christophemorisset  staff   813305 Nov  8 15:37 intro_Scipy.ipynb\n",
      "-rw-------  1 christophemorisset  staff   570062 Jun 30  2017 intro_Scipy.pdf\n",
      "-rw-------  1 christophemorisset  staff   110260 Oct 13 08:20 intro_numpy.ipynb\n",
      "-rw-------  1 christophemorisset  staff   148857 Jun 30  2017 intro_numpy.pdf\n",
      "-rw-------  1 christophemorisset  staff  8830080 May 31  2016 n10017o.fits\n",
      "-rw-r--r--  1 christophemorisset  staff     5760 Oct 12 23:05 new.fits\n",
      "-rw-------  1 christophemorisset  staff   435801 May 31  2016 query_res.dat\n",
      "-rw-------  1 christophemorisset  staff  1059840 May 31  2016 swp04345.mxhi\n",
      "-rw-------  1 christophemorisset  staff       47 Nov  9 21:25 sys_text.py\n",
      "-rw-------  1 christophemorisset  staff      354 Oct 31  2019 tab1.dat\n",
      "-rw-------  1 christophemorisset  staff      668 Oct 31  2019 tab_cds1.ascii\n",
      "-rw-------  1 christophemorisset  staff    43200 May 31  2016 tab_cds1.fits\n",
      "-rw-------  1 christophemorisset  staff     1334 Oct 31  2019 tab_cds1.tex\n",
      "-rw-------  1 christophemorisset  staff     1617 Oct 31  2019 tab_cds2.ascii\n",
      "drwxr-xr-x  4 christophemorisset  staff      128 Sep 21 16:30 \u001b[34mtt\u001b[m\u001b[m/\n"
     ]
    }
   ],
   "source": [
    "ls -l"
   ]
  },
  {
   "cell_type": "code",
   "execution_count": 72,
   "metadata": {
    "colab": {
     "base_uri": "https://localhost:8080/",
     "height": 34
    },
    "colab_type": "code",
    "collapsed": false,
    "id": "ofuFO3s3H7ys",
    "jupyter": {
     "outputs_hidden": false
    },
    "outputId": "68854b8a-de0e-41e1-facb-ea91d9a9d923"
   },
   "outputs": [
    {
     "data": {
      "text/plain": [
       "0"
      ]
     },
     "execution_count": 72,
     "metadata": {},
     "output_type": "execute_result"
    }
   ],
   "source": [
    "subprocess.call(['ls -l'], shell=True)\n",
    "# The results is not visible in Notebook. In command line, the files are listed"
   ]
  },
  {
   "cell_type": "code",
   "execution_count": 75,
   "metadata": {
    "colab": {
     "base_uri": "https://localhost:8080/",
     "height": 119
    },
    "colab_type": "code",
    "collapsed": false,
    "id": "b5PXYqRSH7yu",
    "jupyter": {
     "outputs_hidden": false
    },
    "outputId": "9d211a0c-abf1-46e6-a1cb-364ecf84a271"
   },
   "outputs": [
    {
     "name": "stdout",
     "output_type": "stream",
     "text": [
      "<class 'bytes'>\n",
      "total 63896\n",
      "-rw-------  1 christophemorisset  staff  4229587 May 31  2016 CALIFA_ah7.dat.gz\n",
      "-rw-------  1 christophemorisset  staff    20137 Nov  1  2018 Calling Fortran.ipynb\n",
      "-rw-------  1 christophemorisset  staff    86815 Jun  2  2016 Calling Fortran.pdf\n",
      "-rw-r--r--  1 christophemorisset  staff      226 Oct 12 22:49 Demo.pickle\n",
      "-rw-r--r--  1 christophemorisset  staff      198 Oct 12 22:52 Demo.pklz\n",
      "-rw-------  1 christophemorisset  staff     8265 Sep 21 18:13 Ex1.ipynb\n",
      "-rw-------  1 christophemorisset  staff   381624 Sep 21 18:13 Ex1_done.ipynb\n",
      "-rw-------  1 christophemorisset  staff   315455 Sep 21 18:13 Ex1_with_res.ipynb\n",
      "-rw-r--r--  1 christophemorisset  staff    93801 Oct 22 10:47 Fig1.jpg\n",
      "-rw-r--r--  1 christophemorisset  staff    64091 Oct 22 10:47 Fig1.pdf\n",
      "-rw-r--r--  1 christophemorisset  staff   123182 Oct 22 10:47 Fig1.png\n",
      "-rw-r--r--  1 christophemorisset  staff   111863 Oct 22 10:31 HII.dat\n",
      "-rw-r--r--  1 christophemorisset  staff    46901 Oct 22 10:18 HII.dat.gz\n",
      "-rw-------@ 1 christophemorisset  staff   860517 Sep 21 16:38 InstallPython.key\n",
      "-rw-------  1 christophemorisset  staff   554465 Oct 13 08:20 Interact with files.ipynb\n",
      "-rw-------  1 christophemorisset  staff   388118 Jun 30  2017 Interact with files.pdf\n",
      "-rw-------  1 christophemorisset  staff   131497 May 31  2016 Intro_1.odp\n",
      "-rw-------  1 christophemorisset  staff   174202 May 31  2016 Intro_1.pdf\n",
      "-rw-------  1 christophemorisset  staff   130234 May 31  2016 Intro_2014.odp\n",
      "-rw-------  1 christophemorisset  staff   110524 Nov 22  2017 MySQL.pdf\n",
      "-rw-------  1 christophemorisset  staff  1270918 May 31  2016 MySQL.pdf.gz\n",
      "-rw-------  1 christophemorisset  staff   688451 Oct  3  2019 OOP.ipynb\n",
      "-rw-------  1 christophemorisset  staff   568413 Jun 30  2017 OOP.pdf\n",
      "-rw-------  1 christophemorisset  staff   870171 Nov  7  2019 Optimization.ipynb\n",
      "-rw-------  1 christophemorisset  staff   481656 Jun  2  2016 Optimization.pdf\n",
      "-rw-------  1 christophemorisset  staff     2537 Nov  9  2016 Parallel.ipynb\n",
      "-rw-r--r--  1 christophemorisset  staff     3679 Oct 22 11:00 Tarea2.ipynb\n",
      "-rw-r--r--  1 christophemorisset  staff   339696 Oct 22 10:55 Tarea2_done.ipynb\n",
      "-rw-r--r--  1 christophemorisset  staff   257277 Oct 22 10:32 Tarea2_helper.ipynb\n",
      "-rw-r--r--  1 christophemorisset  staff     6154 Oct  7 14:03 Tarea_1.ipynb\n",
      "-rw-r--r--  1 christophemorisset  staff     1434 Sep 22 19:01 Test-Install.ipynb\n",
      "-rw-r--r--  1 christophemorisset  staff    43179 Nov  9 21:33 Useful_libraries.ipynb\n",
      "-rw-r--r--@ 1 christophemorisset  staff    77840 Jul  1 23:05 Useful_libraries.pdf\n",
      "-rw-------  1 christophemorisset  staff   282484 Nov  9 09:23 Using_PyMySQL.ipynb\n",
      "-rw-------  1 christophemorisset  staff   221936 Nov 17  2016 Using_PyMySQL.pdf\n",
      "-rw-------  1 christophemorisset  staff    35209 Nov  9 19:51 Using_astropy.ipynb\n",
      "-rw-------  1 christophemorisset  staff   206058 Jun 30  2017 Using_astropy.pdf\n",
      "drwxr-xr-x  4 christophemorisset  staff      128 Oct  7 12:31 __pycache__\n",
      "-rw-r--r--  1 christophemorisset  staff       65 Oct 12 21:36 data1.dat\n",
      "-rw-r--r--  1 christophemorisset  staff       14 Oct 12 22:41 data10.dat\n",
      "-rw-r--r--  1 christophemorisset  staff       32 Oct 12 22:43 data11.dat\n",
      "-rw-r--r--  1 christophemorisset  staff      104 Oct 12 22:47 data12.dat\n",
      "-rw-r--r--  1 christophemorisset  staff      148 Oct 12 21:40 data2.dat\n",
      "-rw-r--r--  1 christophemorisset  staff      170 Oct 12 22:04 data3.dat\n",
      "-rw-r--r--  1 christophemorisset  staff     1190 Oct 12 22:21 data4.dat\n",
      "-rw-r--r--  1 christophemorisset  staff     1186 Oct 12 22:32 data5.dat\n",
      "-rw-------  1 christophemorisset  staff      298 May 31  2016 dcumsum.f\n",
      "-rw-------  1 christophemorisset  staff    30716 Nov 10  2016 dcumsum.so\n",
      "-rw-------  1 christophemorisset  staff     1447 Oct  7 12:31 ex1.html\n",
      "-rw-r--r--  1 christophemorisset  staff      155 Oct  7 12:31 ex1.py\n",
      "-rw-------  1 christophemorisset  staff      288 Jun 29  2017 ex1.pyc\n",
      "-rw-------  1 christophemorisset  staff        8 May 31  2016 ex1.txt\n",
      "-rw-------  1 christophemorisset  staff       74 Nov  9 21:29 fact.py\n",
      "-rw-------  1 christophemorisset  staff     4214 May 31  2016 grep.py\n",
      "-rw-------  1 christophemorisset  staff     4995 May 31  2016 grep2.py\n",
      "-rw-------  1 christophemorisset  staff     6319 May 31  2016 grep3.py\n",
      "-rw-------  1 christophemorisset  staff     5575 Dec  9  2016 grep3.pyc\n",
      "-rw-------  1 christophemorisset  staff       49 May 31  2016 hello.py\n",
      "-rw-------  1 christophemorisset  staff     1090 May 31  2016 hellofortran.c\n",
      "-rw-------  1 christophemorisset  staff      178 May 31  2016 hellofortran.f\n",
      "-rw-------  1 christophemorisset  staff    33976 May 31  2016 hellofortran.so\n",
      "-rw-------  1 christophemorisset  staff      150 May 31  2016 index.html\n",
      "-rw-------  1 christophemorisset  staff  2368116 Oct 19 23:10 intro_Matplotlib.ipynb\n",
      "-rw-------  1 christophemorisset  staff  1643810 Jun 30  2017 intro_Matplotlib.pdf\n",
      "-rw-------  1 christophemorisset  staff   326924 May 31  2016 intro_Python.html\n",
      "-rw-------  1 christophemorisset  staff    97772 Oct  7 12:31 intro_Python.ipynb\n",
      "-rw-------  1 christophemorisset  staff   143102 Jun 30  2017 intro_Python.pdf\n",
      "-rw-------  1 christophemorisset  staff   179449 May 31  2016 intro_Python_2.pdf\n",
      "-rw-------  1 christophemorisset  staff   103229 May 31  2016 intro_Python_3.pdf\n",
      "-rw-------  1 christophemorisset  staff   813305 Nov  8 15:37 intro_Scipy.ipynb\n",
      "-rw-------  1 christophemorisset  staff   570062 Jun 30  2017 intro_Scipy.pdf\n",
      "-rw-------  1 christophemorisset  staff   110260 Oct 13 08:20 intro_numpy.ipynb\n",
      "-rw-------  1 christophemorisset  staff   148857 Jun 30  2017 intro_numpy.pdf\n",
      "-rw-------  1 christophemorisset  staff  8830080 May 31  2016 n10017o.fits\n",
      "-rw-r--r--  1 christophemorisset  staff     5760 Oct 12 23:05 new.fits\n",
      "-rw-------  1 christophemorisset  staff   435801 May 31  2016 query_res.dat\n",
      "-rw-------  1 christophemorisset  staff  1059840 May 31  2016 swp04345.mxhi\n",
      "-rw-------  1 christophemorisset  staff       47 Nov  9 21:25 sys_text.py\n",
      "-rw-------  1 christophemorisset  staff      354 Oct 31  2019 tab1.dat\n",
      "-rw-------  1 christophemorisset  staff      668 Oct 31  2019 tab_cds1.ascii\n",
      "-rw-------  1 christophemorisset  staff    43200 May 31  2016 tab_cds1.fits\n",
      "-rw-------  1 christophemorisset  staff     1334 Oct 31  2019 tab_cds1.tex\n",
      "-rw-------  1 christophemorisset  staff     1617 Oct 31  2019 tab_cds2.ascii\n",
      "drwxr-xr-x  4 christophemorisset  staff      128 Sep 21 16:30 tt\n",
      "\n"
     ]
    }
   ],
   "source": [
    "output = subprocess.check_output(['ls', '-l'])\n",
    "print(type(output))\n",
    "print(output.decode())"
   ]
  },
  {
   "cell_type": "code",
   "execution_count": 76,
   "metadata": {
    "colab": {
     "base_uri": "https://localhost:8080/",
     "height": 34
    },
    "colab_type": "code",
    "collapsed": false,
    "id": "jYxGkVsLH7yw",
    "jupyter": {
     "outputs_hidden": false
    },
    "outputId": "8345f68f-94a6-4dd9-8b30-59a2a1c9c8d1"
   },
   "outputs": [
    {
     "name": "stdout",
     "output_type": "stream",
     "text": [
      "<subprocess.Popen object at 0x7f96d07c4550>\n"
     ]
    }
   ],
   "source": [
    "command = 'ls -l'\n",
    "popen = subprocess.Popen(command, shell=True)\n",
    "# The same apply here, no output in Notebook\n",
    "print(popen)"
   ]
  },
  {
   "cell_type": "code",
   "execution_count": 77,
   "metadata": {
    "colab": {
     "base_uri": "https://localhost:8080/",
     "height": 119
    },
    "colab_type": "code",
    "collapsed": false,
    "id": "jN9M7W9AH7yy",
    "jupyter": {
     "outputs_hidden": false
    },
    "outputId": "d7363d86-c8ad-44e2-8268-acd9774564f9"
   },
   "outputs": [
    {
     "name": "stdout",
     "output_type": "stream",
     "text": [
      "<class 'bytes'>\n",
      "total 63896\n",
      "-rw-------  1 christophemorisset  staff  4229587 May 31  2016 CALIFA_ah7.dat.gz\n",
      "-rw-------  1 christophemorisset  staff    20137 Nov  1  2018 Calling Fortran.ipynb\n",
      "-rw-------  1 christophemorisset  staff    86815 Jun  2  2016 Calling Fortran.pdf\n",
      "-rw-r--r--  1 christophemorisset  staff      226 Oct 12 22:49 Demo.pickle\n",
      "-rw-r--r--  1 christophemorisset  staff      198 Oct 12 22:52 Demo.pklz\n",
      "-rw-------  1 christophemorisset  staff     8265 Sep 21 18:13 Ex1.ipynb\n",
      "-rw-------  1 christophemorisset  staff   381624 Sep 21 18:13 Ex1_done.ipynb\n",
      "-rw-------  1 christophemorisset  staff   315455 Sep 21 18:13 Ex1_with_res.ipynb\n",
      "-rw-r--r--  1 christophemorisset  staff    93801 Oct 22 10:47 Fig1.jpg\n",
      "-rw-r--r--  1 christophemorisset  staff    64091 Oct 22 10:47 Fig1.pdf\n",
      "-rw-r--r--  1 christophemorisset  staff   123182 Oct 22 10:47 Fig1.png\n",
      "-rw-r--r--  1 christophemorisset  staff   111863 Oct 22 10:31 HII.dat\n",
      "-rw-r--r--  1 christophemorisset  staff    46901 Oct 22 10:18 HII.dat.gz\n",
      "-rw-------@ 1 christophemorisset  staff   860517 Sep 21 16:38 InstallPython.key\n",
      "-rw-------  1 christophemorisset  staff   554465 Oct 13 08:20 Interact with files.ipynb\n",
      "-rw-------  1 christophemorisset  staff   388118 Jun 30  2017 Interact with files.pdf\n",
      "-rw-------  1 christophemorisset  staff   131497 May 31  2016 Intro_1.odp\n",
      "-rw-------  1 christophemorisset  staff   174202 May 31  2016 Intro_1.pdf\n",
      "-rw-------  1 christophemorisset  staff   130234 May 31  2016 Intro_2014.odp\n",
      "-rw-------  1 christophemorisset  staff   110524 Nov 22  2017 MySQL.pdf\n",
      "-rw-------  1 christophemorisset  staff  1270918 May 31  2016 MySQL.pdf.gz\n",
      "-rw-------  1 christophemorisset  staff   688451 Oct  3  2019 OOP.ipynb\n",
      "-rw-------  1 christophemorisset  staff   568413 Jun 30  2017 OOP.pdf\n",
      "-rw-------  1 christophemorisset  staff   870171 Nov  7  2019 Optimization.ipynb\n",
      "-rw-------  1 christophemorisset  staff   481656 Jun  2  2016 Optimization.pdf\n",
      "-rw-------  1 christophemorisset  staff     2537 Nov  9  2016 Parallel.ipynb\n",
      "-rw-r--r--  1 christophemorisset  staff     3679 Oct 22 11:00 Tarea2.ipynb\n",
      "-rw-r--r--  1 christophemorisset  staff   339696 Oct 22 10:55 Tarea2_done.ipynb\n",
      "-rw-r--r--  1 christophemorisset  staff   257277 Oct 22 10:32 Tarea2_helper.ipynb\n",
      "-rw-r--r--  1 christophemorisset  staff     6154 Oct  7 14:03 Tarea_1.ipynb\n",
      "-rw-r--r--  1 christophemorisset  staff     1434 Sep 22 19:01 Test-Install.ipynb\n",
      "-rw-r--r--  1 christophemorisset  staff    43179 Nov  9 21:33 Useful_libraries.ipynb\n",
      "-rw-r--r--@ 1 christophemorisset  staff    77840 Jul  1 23:05 Useful_libraries.pdf\n",
      "-rw-------  1 christophemorisset  staff   282484 Nov  9 09:23 Using_PyMySQL.ipynb\n",
      "-rw-------  1 christophemorisset  staff   221936 Nov 17  2016 Using_PyMySQL.pdf\n",
      "-rw-------  1 christophemorisset  staff    35209 Nov  9 19:51 Using_astropy.ipynb\n",
      "-rw-------  1 christophemorisset  staff   206058 Jun 30  2017 Using_astropy.pdf\n",
      "drwxr-xr-x  4 christophemorisset  staff      128 Oct  7 12:31 __pycache__\n",
      "-rw-r--r--  1 christophemorisset  staff       65 Oct 12 21:36 data1.dat\n",
      "-rw-r--r--  1 christophemorisset  staff       14 Oct 12 22:41 data10.dat\n",
      "-rw-r--r--  1 christophemorisset  staff       32 Oct 12 22:43 data11.dat\n",
      "-rw-r--r--  1 christophemorisset  staff      104 Oct 12 22:47 data12.dat\n",
      "-rw-r--r--  1 christophemorisset  staff      148 Oct 12 21:40 data2.dat\n",
      "-rw-r--r--  1 christophemorisset  staff      170 Oct 12 22:04 data3.dat\n",
      "-rw-r--r--  1 christophemorisset  staff     1190 Oct 12 22:21 data4.dat\n",
      "-rw-r--r--  1 christophemorisset  staff     1186 Oct 12 22:32 data5.dat\n",
      "-rw-------  1 christophemorisset  staff      298 May 31  2016 dcumsum.f\n",
      "-rw-------  1 christophemorisset  staff    30716 Nov 10  2016 dcumsum.so\n",
      "-rw-------  1 christophemorisset  staff     1447 Oct  7 12:31 ex1.html\n",
      "-rw-r--r--  1 christophemorisset  staff      155 Oct  7 12:31 ex1.py\n",
      "-rw-------  1 christophemorisset  staff      288 Jun 29  2017 ex1.pyc\n",
      "-rw-------  1 christophemorisset  staff        8 May 31  2016 ex1.txt\n",
      "-rw-------  1 christophemorisset  staff       74 Nov  9 21:29 fact.py\n",
      "-rw-------  1 christophemorisset  staff     4214 May 31  2016 grep.py\n",
      "-rw-------  1 christophemorisset  staff     4995 May 31  2016 grep2.py\n",
      "-rw-------  1 christophemorisset  staff     6319 May 31  2016 grep3.py\n",
      "-rw-------  1 christophemorisset  staff     5575 Dec  9  2016 grep3.pyc\n",
      "-rw-------  1 christophemorisset  staff       49 May 31  2016 hello.py\n",
      "-rw-------  1 christophemorisset  staff     1090 May 31  2016 hellofortran.c\n",
      "-rw-------  1 christophemorisset  staff      178 May 31  2016 hellofortran.f\n",
      "-rw-------  1 christophemorisset  staff    33976 May 31  2016 hellofortran.so\n",
      "-rw-------  1 christophemorisset  staff      150 May 31  2016 index.html\n",
      "-rw-------  1 christophemorisset  staff  2368116 Oct 19 23:10 intro_Matplotlib.ipynb\n",
      "-rw-------  1 christophemorisset  staff  1643810 Jun 30  2017 intro_Matplotlib.pdf\n",
      "-rw-------  1 christophemorisset  staff   326924 May 31  2016 intro_Python.html\n",
      "-rw-------  1 christophemorisset  staff    97772 Oct  7 12:31 intro_Python.ipynb\n",
      "-rw-------  1 christophemorisset  staff   143102 Jun 30  2017 intro_Python.pdf\n",
      "-rw-------  1 christophemorisset  staff   179449 May 31  2016 intro_Python_2.pdf\n",
      "-rw-------  1 christophemorisset  staff   103229 May 31  2016 intro_Python_3.pdf\n",
      "-rw-------  1 christophemorisset  staff   813305 Nov  8 15:37 intro_Scipy.ipynb\n",
      "-rw-------  1 christophemorisset  staff   570062 Jun 30  2017 intro_Scipy.pdf\n",
      "-rw-------  1 christophemorisset  staff   110260 Oct 13 08:20 intro_numpy.ipynb\n",
      "-rw-------  1 christophemorisset  staff   148857 Jun 30  2017 intro_numpy.pdf\n",
      "-rw-------  1 christophemorisset  staff  8830080 May 31  2016 n10017o.fits\n",
      "-rw-r--r--  1 christophemorisset  staff     5760 Oct 12 23:05 new.fits\n",
      "-rw-------  1 christophemorisset  staff   435801 May 31  2016 query_res.dat\n",
      "-rw-------  1 christophemorisset  staff  1059840 May 31  2016 swp04345.mxhi\n",
      "-rw-------  1 christophemorisset  staff       47 Nov  9 21:25 sys_text.py\n",
      "-rw-------  1 christophemorisset  staff      354 Oct 31  2019 tab1.dat\n",
      "-rw-------  1 christophemorisset  staff      668 Oct 31  2019 tab_cds1.ascii\n",
      "-rw-------  1 christophemorisset  staff    43200 May 31  2016 tab_cds1.fits\n",
      "-rw-------  1 christophemorisset  staff     1334 Oct 31  2019 tab_cds1.tex\n",
      "-rw-------  1 christophemorisset  staff     1617 Oct 31  2019 tab_cds2.ascii\n",
      "drwxr-xr-x  4 christophemorisset  staff      128 Sep 21 16:30 tt\n",
      "\n"
     ]
    }
   ],
   "source": [
    "popen = subprocess.Popen(command, stdout=subprocess.PIPE, shell=True)\n",
    "res = popen.communicate()[0]\n",
    "print(type(res))\n",
    "print(res.decode())"
   ]
  },
  {
   "cell_type": "code",
   "execution_count": 80,
   "metadata": {
    "colab": {
     "base_uri": "https://localhost:8080/",
     "height": 232
    },
    "colab_type": "code",
    "collapsed": false,
    "id": "PTND8VhiH7y0",
    "jupyter": {
     "outputs_hidden": false
    },
    "outputId": "c702c550-9697-4394-d2f7-dd234f8fb654"
   },
   "outputs": [
    {
     "name": "stdout",
     "output_type": "stream",
     "text": [
      "CALIFA_ah7.dat.gz\n",
      "MySQL.pdf.gz\n",
      "intro_Matplotlib.ipynb\n",
      "intro_Matplotlib.pdf\n",
      "n10017o.fits\n",
      "swp04345.mxhi\n"
     ]
    }
   ],
   "source": [
    "popen = subprocess.Popen(command, stdout=subprocess.PIPE, shell=True)\n",
    "res = popen.communicate()[0]\n",
    "for line in res.decode().split('\\n'):\n",
    "    lspl = line.split()\n",
    "    if len(lspl)> 4:\n",
    "        if int(lspl[4]) > 1000000:\n",
    "            print(lspl[8])"
   ]
  },
  {
   "cell_type": "markdown",
   "metadata": {
    "colab_type": "text",
    "id": "MXvE3YCBH7y2"
   },
   "source": [
    "### re"
   ]
  },
  {
   "cell_type": "markdown",
   "metadata": {
    "colab_type": "text",
    "id": "_Oc5EkqJH7y2"
   },
   "source": [
    "The re module provides regular expression tools for advanced string processing. For complex matching and manipulation, regular expressions offer succinct, optimized solutions:"
   ]
  },
  {
   "cell_type": "code",
   "execution_count": 85,
   "metadata": {
    "colab": {
     "base_uri": "https://localhost:8080/",
     "height": 34
    },
    "colab_type": "code",
    "collapsed": false,
    "id": "nTGpCPekH7y2",
    "jupyter": {
     "outputs_hidden": false
    },
    "outputId": "10b9758f-87bb-41b7-90ab-073fd5288c7d"
   },
   "outputs": [
    {
     "data": {
      "text/plain": [
       "['fo', 'fell', 'fastest']"
      ]
     },
     "execution_count": 85,
     "metadata": {},
     "output_type": "execute_result"
    }
   ],
   "source": [
    "import re\n",
    "# Search the words starting with \"f\"\n",
    "re.findall(r'\\bf[a-z]*', 'whifch foOt or hand fell fastest')"
   ]
  },
  {
   "cell_type": "code",
   "execution_count": 90,
   "metadata": {
    "colab": {
     "base_uri": "https://localhost:8080/",
     "height": 35
    },
    "colab_type": "code",
    "collapsed": false,
    "id": "z1ffiZhsH7y4",
    "jupyter": {
     "outputs_hidden": false
    },
    "outputId": "0bee0f0b-2696-44b3-aa58-71726a04de7d"
   },
   "outputs": [
    {
     "data": {
      "text/plain": [
       "'cat in the hat'"
      ]
     },
     "execution_count": 90,
     "metadata": {},
     "output_type": "execute_result"
    }
   ],
   "source": [
    "# Remove duplicate words\n",
    "re.sub(r'(\\b[a-z]+) \\1', r'\\1', 'cat in the the hat')"
   ]
  },
  {
   "cell_type": "markdown",
   "metadata": {
    "colab_type": "text",
    "id": "38FF2lkBH7y5"
   },
   "source": [
    "More in https://docs.python.org/3/library/re.html"
   ]
  },
  {
   "cell_type": "markdown",
   "metadata": {
    "colab_type": "text",
    "id": "cSgSOI7KH7y5"
   },
   "source": [
    "### urllib"
   ]
  },
  {
   "cell_type": "code",
   "execution_count": 91,
   "metadata": {
    "colab": {},
    "colab_type": "code",
    "collapsed": false,
    "id": "gdyqReWHH7y6",
    "jupyter": {
     "outputs_hidden": false
    }
   },
   "outputs": [],
   "source": [
    "# from urllib2 import urlopen # python 2\n",
    "from urllib.request import urlopen"
   ]
  },
  {
   "cell_type": "code",
   "execution_count": null,
   "metadata": {
    "colab": {
     "base_uri": "https://localhost:8080/",
     "height": 153
    },
    "colab_type": "code",
    "collapsed": false,
    "id": "QfNtvQZGH7y8",
    "jupyter": {
     "outputs_hidden": false
    },
    "outputId": "e24b0aa9-a62e-47b1-b791-ac7e0ac5398b"
   },
   "outputs": [],
   "source": [
    "for line in urlopen('http://dev.on-rev.com/myip.irev'):\n",
    "    print(line)\n",
    "    if 'IP' in str(line):\n",
    "        IP = str(line).split(':')[1][:-7]\n",
    "print('-------')\n",
    "print(IP)"
   ]
  },
  {
   "cell_type": "markdown",
   "metadata": {},
   "source": [
    "### Tables with power: pandas at https://pandas.pydata.org/"
   ]
  },
  {
   "cell_type": "code",
   "execution_count": 92,
   "metadata": {},
   "outputs": [],
   "source": [
    "import pandas as pd"
   ]
  },
  {
   "cell_type": "code",
   "execution_count": 94,
   "metadata": {},
   "outputs": [
    {
     "name": "stdout",
     "output_type": "stream",
     "text": [
      "Overwriting data2.dat\n"
     ]
    }
   ],
   "source": [
    "%%writefile data2.dat\n",
    "# The following data are for test purpose\n",
    "N    f   x   y type\n",
    "1   2.3  6   8 star\n",
    "2   3.5  7   9 galaxy\n",
    "3  -4.2  5   7 cluster\n",
    "#4  -10.5  5  7 test"
   ]
  },
  {
   "cell_type": "code",
   "execution_count": 95,
   "metadata": {},
   "outputs": [],
   "source": [
    "df = pd.read_csv('data2.dat', comment='#', delim_whitespace=True)"
   ]
  },
  {
   "cell_type": "code",
   "execution_count": 96,
   "metadata": {},
   "outputs": [
    {
     "data": {
      "text/html": [
       "<div>\n",
       "<style scoped>\n",
       "    .dataframe tbody tr th:only-of-type {\n",
       "        vertical-align: middle;\n",
       "    }\n",
       "\n",
       "    .dataframe tbody tr th {\n",
       "        vertical-align: top;\n",
       "    }\n",
       "\n",
       "    .dataframe thead th {\n",
       "        text-align: right;\n",
       "    }\n",
       "</style>\n",
       "<table border=\"1\" class=\"dataframe\">\n",
       "  <thead>\n",
       "    <tr style=\"text-align: right;\">\n",
       "      <th></th>\n",
       "      <th>N</th>\n",
       "      <th>f</th>\n",
       "      <th>x</th>\n",
       "      <th>y</th>\n",
       "      <th>type</th>\n",
       "    </tr>\n",
       "  </thead>\n",
       "  <tbody>\n",
       "    <tr>\n",
       "      <th>0</th>\n",
       "      <td>1</td>\n",
       "      <td>2.3</td>\n",
       "      <td>6</td>\n",
       "      <td>8</td>\n",
       "      <td>star</td>\n",
       "    </tr>\n",
       "    <tr>\n",
       "      <th>1</th>\n",
       "      <td>2</td>\n",
       "      <td>3.5</td>\n",
       "      <td>7</td>\n",
       "      <td>9</td>\n",
       "      <td>galaxy</td>\n",
       "    </tr>\n",
       "    <tr>\n",
       "      <th>2</th>\n",
       "      <td>3</td>\n",
       "      <td>-4.2</td>\n",
       "      <td>5</td>\n",
       "      <td>7</td>\n",
       "      <td>cluster</td>\n",
       "    </tr>\n",
       "  </tbody>\n",
       "</table>\n",
       "</div>"
      ],
      "text/plain": [
       "   N    f  x  y     type\n",
       "0  1  2.3  6  8     star\n",
       "1  2  3.5  7  9   galaxy\n",
       "2  3 -4.2  5  7  cluster"
      ]
     },
     "execution_count": 96,
     "metadata": {},
     "output_type": "execute_result"
    }
   ],
   "source": [
    "df"
   ]
  },
  {
   "cell_type": "code",
   "execution_count": 97,
   "metadata": {},
   "outputs": [
    {
     "name": "stdout",
     "output_type": "stream",
     "text": [
      "<class 'pandas.core.frame.DataFrame'>\n",
      "RangeIndex: 3 entries, 0 to 2\n",
      "Data columns (total 5 columns):\n",
      " #   Column  Non-Null Count  Dtype  \n",
      "---  ------  --------------  -----  \n",
      " 0   N       3 non-null      int64  \n",
      " 1   f       3 non-null      float64\n",
      " 2   x       3 non-null      int64  \n",
      " 3   y       3 non-null      int64  \n",
      " 4   type    3 non-null      object \n",
      "dtypes: float64(1), int64(3), object(1)\n",
      "memory usage: 248.0+ bytes\n"
     ]
    }
   ],
   "source": [
    "df.info()"
   ]
  },
  {
   "cell_type": "code",
   "execution_count": 98,
   "metadata": {},
   "outputs": [
    {
     "data": {
      "text/html": [
       "<div>\n",
       "<style scoped>\n",
       "    .dataframe tbody tr th:only-of-type {\n",
       "        vertical-align: middle;\n",
       "    }\n",
       "\n",
       "    .dataframe tbody tr th {\n",
       "        vertical-align: top;\n",
       "    }\n",
       "\n",
       "    .dataframe thead th {\n",
       "        text-align: right;\n",
       "    }\n",
       "</style>\n",
       "<table border=\"1\" class=\"dataframe\">\n",
       "  <thead>\n",
       "    <tr style=\"text-align: right;\">\n",
       "      <th></th>\n",
       "      <th>N</th>\n",
       "      <th>f</th>\n",
       "      <th>x</th>\n",
       "      <th>y</th>\n",
       "    </tr>\n",
       "  </thead>\n",
       "  <tbody>\n",
       "    <tr>\n",
       "      <th>count</th>\n",
       "      <td>3.0</td>\n",
       "      <td>3.000000</td>\n",
       "      <td>3.0</td>\n",
       "      <td>3.0</td>\n",
       "    </tr>\n",
       "    <tr>\n",
       "      <th>mean</th>\n",
       "      <td>2.0</td>\n",
       "      <td>0.533333</td>\n",
       "      <td>6.0</td>\n",
       "      <td>8.0</td>\n",
       "    </tr>\n",
       "    <tr>\n",
       "      <th>std</th>\n",
       "      <td>1.0</td>\n",
       "      <td>4.142865</td>\n",
       "      <td>1.0</td>\n",
       "      <td>1.0</td>\n",
       "    </tr>\n",
       "    <tr>\n",
       "      <th>min</th>\n",
       "      <td>1.0</td>\n",
       "      <td>-4.200000</td>\n",
       "      <td>5.0</td>\n",
       "      <td>7.0</td>\n",
       "    </tr>\n",
       "    <tr>\n",
       "      <th>25%</th>\n",
       "      <td>1.5</td>\n",
       "      <td>-0.950000</td>\n",
       "      <td>5.5</td>\n",
       "      <td>7.5</td>\n",
       "    </tr>\n",
       "    <tr>\n",
       "      <th>50%</th>\n",
       "      <td>2.0</td>\n",
       "      <td>2.300000</td>\n",
       "      <td>6.0</td>\n",
       "      <td>8.0</td>\n",
       "    </tr>\n",
       "    <tr>\n",
       "      <th>75%</th>\n",
       "      <td>2.5</td>\n",
       "      <td>2.900000</td>\n",
       "      <td>6.5</td>\n",
       "      <td>8.5</td>\n",
       "    </tr>\n",
       "    <tr>\n",
       "      <th>max</th>\n",
       "      <td>3.0</td>\n",
       "      <td>3.500000</td>\n",
       "      <td>7.0</td>\n",
       "      <td>9.0</td>\n",
       "    </tr>\n",
       "  </tbody>\n",
       "</table>\n",
       "</div>"
      ],
      "text/plain": [
       "         N         f    x    y\n",
       "count  3.0  3.000000  3.0  3.0\n",
       "mean   2.0  0.533333  6.0  8.0\n",
       "std    1.0  4.142865  1.0  1.0\n",
       "min    1.0 -4.200000  5.0  7.0\n",
       "25%    1.5 -0.950000  5.5  7.5\n",
       "50%    2.0  2.300000  6.0  8.0\n",
       "75%    2.5  2.900000  6.5  8.5\n",
       "max    3.0  3.500000  7.0  9.0"
      ]
     },
     "execution_count": 98,
     "metadata": {},
     "output_type": "execute_result"
    }
   ],
   "source": [
    "df.describe()"
   ]
  },
  {
   "cell_type": "code",
   "execution_count": 100,
   "metadata": {},
   "outputs": [],
   "source": [
    "df['R'] = np.sqrt(df['x']**2 + df.y**2)"
   ]
  },
  {
   "cell_type": "code",
   "execution_count": 101,
   "metadata": {},
   "outputs": [
    {
     "data": {
      "text/plain": [
       "<matplotlib.axes._subplots.AxesSubplot at 0x7f96d0aa8550>"
      ]
     },
     "execution_count": 101,
     "metadata": {},
     "output_type": "execute_result"
    },
    {
     "data": {
      "image/png": "[encoded data removed]",
      "text/plain": [
       "<Figure size 432x288 with 1 Axes>"
      ]
     },
     "metadata": {
      "needs_background": "light"
     },
     "output_type": "display_data"
    }
   ],
   "source": [
    "df.plot()"
   ]
  },
  {
   "cell_type": "markdown",
   "metadata": {
    "colab": {},
    "colab_type": "code",
    "id": "xyckF72pJr90"
   },
   "source": [
    "### Plotting with alternative style: seaborn at https://seaborn.pydata.org/"
   ]
  },
  {
   "cell_type": "code",
   "execution_count": 102,
   "metadata": {},
   "outputs": [],
   "source": [
    "import seaborn as sns"
   ]
  },
  {
   "cell_type": "code",
   "execution_count": 106,
   "metadata": {},
   "outputs": [
    {
     "data": {
      "text/html": [
       "<div>\n",
       "<style scoped>\n",
       "    .dataframe tbody tr th:only-of-type {\n",
       "        vertical-align: middle;\n",
       "    }\n",
       "\n",
       "    .dataframe tbody tr th {\n",
       "        vertical-align: top;\n",
       "    }\n",
       "\n",
       "    .dataframe thead th {\n",
       "        text-align: right;\n",
       "    }\n",
       "</style>\n",
       "<table border=\"1\" class=\"dataframe\">\n",
       "  <thead>\n",
       "    <tr style=\"text-align: right;\">\n",
       "      <th></th>\n",
       "      <th>subject</th>\n",
       "      <th>timepoint</th>\n",
       "      <th>event</th>\n",
       "      <th>region</th>\n",
       "      <th>signal</th>\n",
       "    </tr>\n",
       "  </thead>\n",
       "  <tbody>\n",
       "    <tr>\n",
       "      <th>0</th>\n",
       "      <td>s13</td>\n",
       "      <td>18</td>\n",
       "      <td>stim</td>\n",
       "      <td>parietal</td>\n",
       "      <td>-0.017552</td>\n",
       "    </tr>\n",
       "    <tr>\n",
       "      <th>1</th>\n",
       "      <td>s5</td>\n",
       "      <td>14</td>\n",
       "      <td>stim</td>\n",
       "      <td>parietal</td>\n",
       "      <td>-0.080883</td>\n",
       "    </tr>\n",
       "    <tr>\n",
       "      <th>2</th>\n",
       "      <td>s12</td>\n",
       "      <td>18</td>\n",
       "      <td>stim</td>\n",
       "      <td>parietal</td>\n",
       "      <td>-0.081033</td>\n",
       "    </tr>\n",
       "    <tr>\n",
       "      <th>3</th>\n",
       "      <td>s11</td>\n",
       "      <td>18</td>\n",
       "      <td>stim</td>\n",
       "      <td>parietal</td>\n",
       "      <td>-0.046134</td>\n",
       "    </tr>\n",
       "    <tr>\n",
       "      <th>4</th>\n",
       "      <td>s10</td>\n",
       "      <td>18</td>\n",
       "      <td>stim</td>\n",
       "      <td>parietal</td>\n",
       "      <td>-0.037970</td>\n",
       "    </tr>\n",
       "    <tr>\n",
       "      <th>...</th>\n",
       "      <td>...</td>\n",
       "      <td>...</td>\n",
       "      <td>...</td>\n",
       "      <td>...</td>\n",
       "      <td>...</td>\n",
       "    </tr>\n",
       "    <tr>\n",
       "      <th>1059</th>\n",
       "      <td>s0</td>\n",
       "      <td>8</td>\n",
       "      <td>cue</td>\n",
       "      <td>frontal</td>\n",
       "      <td>0.018165</td>\n",
       "    </tr>\n",
       "    <tr>\n",
       "      <th>1060</th>\n",
       "      <td>s13</td>\n",
       "      <td>7</td>\n",
       "      <td>cue</td>\n",
       "      <td>frontal</td>\n",
       "      <td>-0.029130</td>\n",
       "    </tr>\n",
       "    <tr>\n",
       "      <th>1061</th>\n",
       "      <td>s12</td>\n",
       "      <td>7</td>\n",
       "      <td>cue</td>\n",
       "      <td>frontal</td>\n",
       "      <td>-0.004939</td>\n",
       "    </tr>\n",
       "    <tr>\n",
       "      <th>1062</th>\n",
       "      <td>s11</td>\n",
       "      <td>7</td>\n",
       "      <td>cue</td>\n",
       "      <td>frontal</td>\n",
       "      <td>-0.025367</td>\n",
       "    </tr>\n",
       "    <tr>\n",
       "      <th>1063</th>\n",
       "      <td>s0</td>\n",
       "      <td>0</td>\n",
       "      <td>cue</td>\n",
       "      <td>parietal</td>\n",
       "      <td>-0.006899</td>\n",
       "    </tr>\n",
       "  </tbody>\n",
       "</table>\n",
       "<p>1064 rows × 5 columns</p>\n",
       "</div>"
      ],
      "text/plain": [
       "     subject  timepoint event    region    signal\n",
       "0        s13         18  stim  parietal -0.017552\n",
       "1         s5         14  stim  parietal -0.080883\n",
       "2        s12         18  stim  parietal -0.081033\n",
       "3        s11         18  stim  parietal -0.046134\n",
       "4        s10         18  stim  parietal -0.037970\n",
       "...      ...        ...   ...       ...       ...\n",
       "1059      s0          8   cue   frontal  0.018165\n",
       "1060     s13          7   cue   frontal -0.029130\n",
       "1061     s12          7   cue   frontal -0.004939\n",
       "1062     s11          7   cue   frontal -0.025367\n",
       "1063      s0          0   cue  parietal -0.006899\n",
       "\n",
       "[1064 rows x 5 columns]"
      ]
     },
     "execution_count": 106,
     "metadata": {},
     "output_type": "execute_result"
    }
   ],
   "source": [
    "fmri = sns.load_dataset(\"fmri\") # medical data from https://github.com/mwaskom/Waskom_CerebCortex_2017\n",
    "fmri"
   ]
  },
  {
   "cell_type": "code",
   "execution_count": 107,
   "metadata": {},
   "outputs": [
    {
     "data": {
      "image/png": "[encoded data removed]",
      "text/plain": [
       "<Figure size 784.375x360 with 2 Axes>"
      ]
     },
     "metadata": {
      "needs_background": "light"
     },
     "output_type": "display_data"
    }
   ],
   "source": [
    "sns.relplot(data=fmri, kind=\"line\",\n",
    "            x=\"timepoint\", y=\"signal\", col=\"region\",\n",
    "            hue=\"event\", style=\"event\");"
   ]
  }
 ],
 "metadata": {
  "colab": {
   "name": "Useful_libraries.ipynb",
   "provenance": []
  },
  "kernelspec": {
   "display_name": "Python 3",
   "language": "python",
   "name": "python3"
  },
  "language_info": {
   "codemirror_mode": {
    "name": "ipython",
    "version": 3
   },
   "file_extension": ".py",
   "mimetype": "text/x-python",
   "name": "python",
   "nbconvert_exporter": "python",
   "pygments_lexer": "ipython3",
   "version": "3.7.9"
  }
 },
 "nbformat": 4,
 "nbformat_minor": 4
}

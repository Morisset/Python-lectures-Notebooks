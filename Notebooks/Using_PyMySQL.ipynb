{
 "cells": [
  {
   "cell_type": "code",
   "execution_count": null,
   "metadata": {
    "collapsed": false,
    "jupyter": {
     "outputs_hidden": false
    }
   },
   "outputs": [],
   "source": [
    "# Just to know last time this was run:\n",
    "import time\n",
    "print(time.ctime())"
   ]
  },
  {
   "cell_type": "markdown",
   "metadata": {},
   "source": [
    "# J Using PyMySQL to access MySQL databases"
   ]
  },
  {
   "cell_type": "markdown",
   "metadata": {},
   "source": [
    "This package contains a pure-Python MySQL client library. In this sense, it does not need to have access to mysql header or library, which is the case for the mysqldb package.\n",
    "The goal of PyMySQL is to be a drop-in replacement for MySQLdb and work on CPython, PyPy, IronPython and Jython."
   ]
  },
  {
   "cell_type": "markdown",
   "metadata": {},
   "source": [
    "It is installed with \"pip install pymysql\""
   ]
  },
  {
   "cell_type": "markdown",
   "metadata": {},
   "source": [
    "We first import the usual libraries"
   ]
  },
  {
   "cell_type": "code",
   "execution_count": null,
   "metadata": {
    "collapsed": false,
    "jupyter": {
     "outputs_hidden": false
    }
   },
   "outputs": [],
   "source": [
    "%matplotlib inline\n",
    "import numpy as np\n",
    "import matplotlib.pyplot as plt"
   ]
  },
  {
   "cell_type": "markdown",
   "metadata": {},
   "source": [
    "This is the import of the library used to connect to MySQl database"
   ]
  },
  {
   "cell_type": "code",
   "execution_count": null,
   "metadata": {
    "collapsed": false,
    "jupyter": {
     "outputs_hidden": false
    }
   },
   "outputs": [],
   "source": [
    "import pymysql"
   ]
  },
  {
   "cell_type": "markdown",
   "metadata": {},
   "source": [
    "First you need to connect to a database. In our example, we will use the 3MdB database, which needs a password. https://sites.google.com/site/mexicanmillionmodels/"
   ]
  },
  {
   "cell_type": "markdown",
   "metadata": {},
   "source": [
    "## TIP: DIRECTLY GO TO THE LAST SECTION (USING PANDAS)"
   ]
  },
  {
   "cell_type": "markdown",
   "metadata": {},
   "source": [
    "### Connect to the database"
   ]
  },
  {
   "cell_type": "code",
   "execution_count": null,
   "metadata": {
    "collapsed": false,
    "jupyter": {
     "outputs_hidden": false
    }
   },
   "outputs": [],
   "source": [
    "user_password = '***' # ask me for the password :-)"
   ]
  },
  {
   "cell_type": "code",
   "execution_count": null,
   "metadata": {
    "collapsed": false,
    "jupyter": {
     "outputs_hidden": false
    }
   },
   "outputs": [],
   "source": [
    "# We create a connector to the database\n",
    "connector = pymysql.connect(host='3mdb.astro.unam.mx', port=3306, user='OVN_user', passwd=user_password, db='3MdB')"
   ]
  },
  {
   "cell_type": "markdown",
   "metadata": {},
   "source": [
    "### Use a cursor to send query and receive results"
   ]
  },
  {
   "cell_type": "code",
   "execution_count": null,
   "metadata": {
    "collapsed": false,
    "jupyter": {
     "outputs_hidden": false
    }
   },
   "outputs": [],
   "source": [
    "# The cursor is used to send and receive the quesries to the databse\n",
    "cur = connector.cursor()"
   ]
  },
  {
   "cell_type": "code",
   "execution_count": null,
   "metadata": {
    "collapsed": false,
    "jupyter": {
     "outputs_hidden": false
    }
   },
   "outputs": [],
   "source": [
    "# Send the query to be executed. It returns the number of lines of the result\n",
    "cur.execute('select * from `lines` limit 15')"
   ]
  },
  {
   "cell_type": "code",
   "execution_count": null,
   "metadata": {
    "collapsed": false,
    "jupyter": {
     "outputs_hidden": false
    }
   },
   "outputs": [],
   "source": [
    "# get a description of the columns of the query results\n",
    "cur.description"
   ]
  },
  {
   "cell_type": "code",
   "execution_count": null,
   "metadata": {
    "collapsed": false,
    "jupyter": {
     "outputs_hidden": false
    }
   },
   "outputs": [],
   "source": [
    "# fech all the resulting data into a variable\n",
    "lines = cur.fetchall()"
   ]
  },
  {
   "cell_type": "code",
   "execution_count": null,
   "metadata": {
    "collapsed": false,
    "jupyter": {
     "outputs_hidden": false
    }
   },
   "outputs": [],
   "source": [
    "# close the cursor once used\n",
    "cur.close()"
   ]
  },
  {
   "cell_type": "code",
   "execution_count": null,
   "metadata": {
    "collapsed": false,
    "jupyter": {
     "outputs_hidden": false
    }
   },
   "outputs": [],
   "source": [
    "# the result is in a form of tuple of tuples\n",
    "print(lines)"
   ]
  },
  {
   "cell_type": "code",
   "execution_count": null,
   "metadata": {
    "collapsed": false,
    "jupyter": {
     "outputs_hidden": false
    }
   },
   "outputs": [],
   "source": [
    "# Each element of the first level tuple is a tuple corresponding to a row of the query results\n",
    "print(len(lines))\n",
    "print(lines[0])"
   ]
  },
  {
   "cell_type": "markdown",
   "metadata": {},
   "source": [
    "### Using a cursor that returns a dictionary"
   ]
  },
  {
   "cell_type": "code",
   "execution_count": null,
   "metadata": {
    "collapsed": false,
    "jupyter": {
     "outputs_hidden": false
    }
   },
   "outputs": [],
   "source": [
    "cur_dic = connector.cursor(pymysql.cursors.DictCursor)"
   ]
  },
  {
   "cell_type": "code",
   "execution_count": null,
   "metadata": {
    "collapsed": false,
    "jupyter": {
     "outputs_hidden": false
    }
   },
   "outputs": [],
   "source": [
    "cur_dic.execute('select * from `lines` limit 15')"
   ]
  },
  {
   "cell_type": "code",
   "execution_count": null,
   "metadata": {
    "collapsed": false,
    "jupyter": {
     "outputs_hidden": false
    }
   },
   "outputs": [],
   "source": [
    "lines_dic = cur_dic.fetchall()"
   ]
  },
  {
   "cell_type": "code",
   "execution_count": null,
   "metadata": {
    "collapsed": false,
    "jupyter": {
     "outputs_hidden": false
    }
   },
   "outputs": [],
   "source": [
    "print(lines_dic)"
   ]
  },
  {
   "cell_type": "code",
   "execution_count": null,
   "metadata": {
    "collapsed": false,
    "jupyter": {
     "outputs_hidden": false
    }
   },
   "outputs": [],
   "source": [
    "# Each element of the table is a dictionary corresponding to a row od the query results\n",
    "print(lines_dic[0])"
   ]
  },
  {
   "cell_type": "code",
   "execution_count": null,
   "metadata": {
    "collapsed": false,
    "jupyter": {
     "outputs_hidden": false
    }
   },
   "outputs": [],
   "source": [
    "# One can easily create a new dictionary than hold the data in columns, better for plotting.\n",
    "new_dic = {k:np.array([d[k] for d in lines_dic]) for k in lines_dic[0].keys()}"
   ]
  },
  {
   "cell_type": "code",
   "execution_count": null,
   "metadata": {
    "collapsed": false,
    "jupyter": {
     "outputs_hidden": false
    }
   },
   "outputs": [],
   "source": [
    "# The names of the columns are the names use in the database\n",
    "new_dic['lambda']"
   ]
  },
  {
   "cell_type": "code",
   "execution_count": null,
   "metadata": {
    "collapsed": false,
    "jupyter": {
     "outputs_hidden": false
    }
   },
   "outputs": [],
   "source": [
    "# One can also transform the results into a numpy recarray.\n",
    "# First step: create a table from the dictionnary\n",
    "lines_tab = [list(e.values()) for e in lines_dic]\n",
    "lines_tab"
   ]
  },
  {
   "cell_type": "code",
   "execution_count": null,
   "metadata": {
    "collapsed": false,
    "jupyter": {
     "outputs_hidden": false
    }
   },
   "outputs": [],
   "source": [
    "# Second step: transform the table into a numpy recarray, using the names from the dictionnary\n",
    "names = list(lines_dic[0].keys())\n",
    "res = np.rec.fromrecords(lines_tab, names = names)"
   ]
  },
  {
   "cell_type": "code",
   "execution_count": null,
   "metadata": {
    "collapsed": false,
    "jupyter": {
     "outputs_hidden": false
    }
   },
   "outputs": [],
   "source": [
    "res"
   ]
  },
  {
   "cell_type": "code",
   "execution_count": null,
   "metadata": {
    "collapsed": false,
    "jupyter": {
     "outputs_hidden": false
    }
   },
   "outputs": [],
   "source": [
    "res['lambda']"
   ]
  },
  {
   "cell_type": "markdown",
   "metadata": {},
   "source": [
    "### Example of plotting the result of a query"
   ]
  },
  {
   "cell_type": "code",
   "execution_count": null,
   "metadata": {
    "collapsed": false,
    "jupyter": {
     "outputs_hidden": false
    }
   },
   "outputs": [],
   "source": [
    "# Send the query\n",
    "N = cur_dic.execute('select O__3__5007A, N__2__6584A, H__1__6563A, oxygen from tab where ref = \"HII_CHIm\"')"
   ]
  },
  {
   "cell_type": "code",
   "execution_count": null,
   "metadata": {
    "collapsed": false,
    "jupyter": {
     "outputs_hidden": false
    }
   },
   "outputs": [],
   "source": [
    "print(N)"
   ]
  },
  {
   "cell_type": "code",
   "execution_count": null,
   "metadata": {
    "collapsed": false,
    "jupyter": {
     "outputs_hidden": false
    }
   },
   "outputs": [],
   "source": [
    "# obtain the results as a dictionnary\n",
    "res = cur_dic.fetchall()"
   ]
  },
  {
   "cell_type": "code",
   "execution_count": null,
   "metadata": {
    "collapsed": false,
    "jupyter": {
     "outputs_hidden": false
    }
   },
   "outputs": [],
   "source": [
    "# transform the dictionary into a recarray\n",
    "data = np.rec.fromrecords([list(e.values()) for e in res], names = list(res[0].keys()))"
   ]
  },
  {
   "cell_type": "code",
   "execution_count": null,
   "metadata": {
    "collapsed": false,
    "jupyter": {
     "outputs_hidden": false
    }
   },
   "outputs": [],
   "source": [
    "# check the data\n",
    "data[0]"
   ]
  },
  {
   "cell_type": "code",
   "execution_count": null,
   "metadata": {
    "collapsed": false,
    "jupyter": {
     "outputs_hidden": false
    }
   },
   "outputs": [],
   "source": [
    "data['O__3__5007A']"
   ]
  },
  {
   "cell_type": "code",
   "execution_count": null,
   "metadata": {
    "collapsed": false,
    "jupyter": {
     "outputs_hidden": false
    }
   },
   "outputs": [],
   "source": [
    "# Plot the results, using a column as color code\n",
    "fig, ax = plt.subplots(figsize=(10,7))\n",
    "scat = ax.scatter(np.log10(data['N__2__6584A'] / data['H__1__6563A']), np.log10(data['O__3__5007A'] / data['H__1__6563A']), \n",
    "            c=data['oxygen'], edgecolor='none')\n",
    "fig.colorbar(scat);"
   ]
  },
  {
   "cell_type": "code",
   "execution_count": null,
   "metadata": {
    "collapsed": false,
    "jupyter": {
     "outputs_hidden": false
    }
   },
   "outputs": [],
   "source": [
    "# Disconnect cursor and connector\n",
    "cur_dic.close()\n",
    "connector.close()"
   ]
  },
  {
   "cell_type": "markdown",
   "metadata": {},
   "source": [
    "### Using pandas library"
   ]
  },
  {
   "cell_type": "code",
   "execution_count": null,
   "metadata": {
    "collapsed": false,
    "jupyter": {
     "outputs_hidden": false
    }
   },
   "outputs": [],
   "source": [
    "import pandas as pd \n",
    "import pymysql \n",
    "import matplotlib.pyplot as plt\n",
    "\n",
    "user_password = '***' # ask me for the password :-)\n",
    "co = pymysql.connect(host='3mdb.astro.unam.mx', db='3MdB', user='OVN_user', passwd=user_password) # change for the right  passwd, just ask me for them!!! "
   ]
  },
  {
   "cell_type": "code",
   "execution_count": null,
   "metadata": {
    "collapsed": false,
    "jupyter": {
     "outputs_hidden": false
    }
   },
   "outputs": [],
   "source": [
    "res = pd.read_sql(\"\"\"\n",
    "SELECT log10(N__2__6584A/H__1__6563A) as n2, \n",
    "    log10(O__3__5007A/H__1__4861A) as o3, \n",
    "    OXYGEN as O \n",
    "FROM tab \n",
    "WHERE ref = 'DIG_HR'\"\"\", \n",
    "                  con=co) \n",
    "co.close() "
   ]
  },
  {
   "cell_type": "code",
   "execution_count": null,
   "metadata": {
    "collapsed": false,
    "jupyter": {
     "outputs_hidden": false
    }
   },
   "outputs": [],
   "source": [
    "print(len(res))"
   ]
  },
  {
   "cell_type": "code",
   "execution_count": null,
   "metadata": {
    "collapsed": false,
    "jupyter": {
     "outputs_hidden": false
    }
   },
   "outputs": [],
   "source": [
    "plt.scatter(res['n2'], res['o3'], c=res['O'], edgecolor='None')\n",
    "plt.colorbar()"
   ]
  },
  {
   "cell_type": "code",
   "execution_count": null,
   "metadata": {},
   "outputs": [],
   "source": [
    "res"
   ]
  },
  {
   "cell_type": "markdown",
   "metadata": {},
   "source": [
    "### More on databases, astronomy, SQL and python:\n",
    "\n",
    "* AstroBetter: a very usefull blog, this post is on CDS and Python: https://www.astrobetter.com/blog/2020/07/06/the-cds-and-python-iv-simbad-the-yellow-pages-of-astronomical-sources/\n",
    "\n",
    "* Astroquery: part of astropy : https://astroquery.readthedocs.io/en/latest/index.html\n",
    "\n",
    "astroquery: An Astronomical Web-querying Package in Python \n",
    "Ginsburg, A., Sipocz, B. M., Brasseur, C. E., Cowperthwaite, P. S., Craig, M. W., Deil, C., Guillochon, J., Guzman, G., Liedtke, S., Lian Lim, P., Lockhart, K. E., Mommert, M., Morris, B. M., Norman, H., Parikh, M., Persson, M. V., Robitaille, T. P., Segovia, J.-C., Singer, L. P., Tollerud, E. J., de Val-Borro, M., Valtchanov, I., Woillez, J., Astroquery Collaboration, & a subset of astropy Collaboration\n",
    "2019, Astronomical Journal, 157, 98\n",
    "\n",
    "ABSTRACT: astroquery is a collection of tools for requesting data from databases hosted on remote servers with interfaces exposed on the internet, including those with web pages but without formal application program interfaces. These tools are built on the Python requests package, which is used to make HTTP requests, and astropy, which provides most of the data parsing functionality. astroquery modules generally attempt to replicate the web page interface provided by a given service as closely as possible, making the transition from browser-based to command-line interaction easy. astroquery has received significant contributions from throughout the astronomical community, including several from telescope archives. astroquery enables the creation of fully reproducible workflows from data acquisition through publication. This paper describes the philosophy, basic structure, and development model of the astroquery package. The complete documentation for astroquery can be found at <A href=\"http://astroquery.readthedocs.io/\">http://astroquery.readthedocs.io/</A>.\n",
    "ADS URL : https://ui.adsabs.harvard.edu/abs/2019AJ....157...98G\n",
    "\n",
    "* Some examples of Astroquery uses:\n",
    " * part of astroquery: TAP/TAP+: https://astroquery.readthedocs.io/en/latest/utils/tap.html\n",
    " * Gaia TAP+: https://astroquery.readthedocs.io/en/latest/gaia/gaia.html\n",
    " * Atomic line list: https://astroquery.readthedocs.io/en/latest/atomic/atomic.html\n",
    " * Simbad: https://astroquery.readthedocs.io/en/latest/simbad/simbad.html\n",
    " * Vizier: https://astroquery.readthedocs.io/en/latest/vizier/vizier.html\n",
    " * This lecture explains step by step how to extract information from the Gaia database: https://allendowney.github.io/AstronomicalData/\n",
    "\n",
    "\n",
    "* ADQL: Astronomy Data Query Language: \n",
    " * IVOA reference document: https://www.ivoa.net/documents/ADQL/20180112/PR-ADQL-2.1-20180112.html\n",
    " * Man page on CDS: http://tapvizier.u-strasbg.fr/adql/help.html\n",
    " * ADQL cookbook on Gaia server: https://www.gaia.ac.uk/data/gaia-data-release-1/adql-cookbook\n",
    "\n",
    "\n",
    "* Virtual Observatory : \n",
    " * Cone search: http://voservices.net/spectrum/search_form_cone.aspx\n",
    " * SQL interface: http://voservices.net/spectrum/search_form_sql.aspx\n",
    "\n",
    "\n",
    "* SciServer (needs an account): \n",
    " * Main page: https://www.sciserver.org/\n",
    " * Dashboard: https://apps.sciserver.org/dashboard/\n",
    " * Introduction to CasJobs: https://skyserver.sdss.org/CasJobs/Guide.aspx\n",
    " * Example of Skyquery: http://www.voservices.net/skyquery/Assets/Query/Examples/00_index.aspx\n",
    " * Using Python : https://github.com/sciserver/SciScript-Python\n",
    " * Example using ython: https://github.com/sciserver/SciScript-Python/blob/master/Examples/Examples_SciScript-Python.ipynb\n",
    "\n",
    "\n",
    "* An enhanced command line SQL interpreter client for astronomical surveys: https://github.com/mgckind/easyaccess"
   ]
  },
  {
   "cell_type": "code",
   "execution_count": null,
   "metadata": {},
   "outputs": [],
   "source": []
  }
 ],
 "metadata": {
  "kernelspec": {
   "display_name": "Python 3",
   "language": "python",
   "name": "python3"
  },
  "language_info": {
   "codemirror_mode": {
    "name": "ipython",
    "version": 3
   },
   "file_extension": ".py",
   "mimetype": "text/x-python",
   "name": "python",
   "nbconvert_exporter": "python",
   "pygments_lexer": "ipython3",
   "version": "3.7.9"
  }
 },
 "nbformat": 4,
 "nbformat_minor": 4
}

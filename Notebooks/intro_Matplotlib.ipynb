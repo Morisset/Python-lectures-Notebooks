{
 "cells": [
  {
   "cell_type": "code",
   "execution_count": null,
   "metadata": {
    "collapsed": false,
    "jupyter": {
     "outputs_hidden": false
    }
   },
   "outputs": [],
   "source": [
    "# The following is to know when this notebook has been run and with which python version.\n",
    "import time, sys\n",
    "print(time.ctime())\n",
    "print(sys.version.split('|')[0])"
   ]
  },
  {
   "cell_type": "markdown",
   "metadata": {},
   "source": [
    "This is part of the Python lecture given by Christophe Morisset at IA-UNAM. More informations at: http://python-astro.blogspot.mx/\n"
   ]
  },
  {
   "cell_type": "markdown",
   "metadata": {},
   "source": [
    "# D: How to make plots, images, 3D, etc, using Matplotlib"
   ]
  },
  {
   "cell_type": "code",
   "execution_count": null,
   "metadata": {
    "collapsed": false,
    "jupyter": {
     "outputs_hidden": false
    }
   },
   "outputs": [],
   "source": [
    "# this allows the plots to appear in the Notebook webpage:\n",
    "%matplotlib inline\n",
    "import numpy as np\n",
    "import matplotlib.pyplot as plt # this is the plotting library"
   ]
  },
  {
   "cell_type": "markdown",
   "metadata": {},
   "source": [
    "Very well done tutorials on the mail Matplotlib web page: http://matplotlib.org/"
   ]
  },
  {
   "cell_type": "markdown",
   "metadata": {},
   "source": [
    "#### Simple plot"
   ]
  },
  {
   "cell_type": "markdown",
   "metadata": {},
   "source": [
    " In the following cell, we plot a function"
   ]
  },
  {
   "cell_type": "code",
   "execution_count": null,
   "metadata": {
    "collapsed": false,
    "jupyter": {
     "outputs_hidden": false
    }
   },
   "outputs": [],
   "source": [
    "# Just to convince that things are easy:\n",
    "x = np.arange(10) # define an array\n",
    "plt.plot(x, x**2); # so quickly plotted... Notice the \";\" at the end of the line -> ;"
   ]
  },
  {
   "cell_type": "markdown",
   "metadata": {},
   "source": [
    "#### Controling colors and symbols"
   ]
  },
  {
   "cell_type": "code",
   "execution_count": null,
   "metadata": {
    "collapsed": false,
    "jupyter": {
     "outputs_hidden": false
    }
   },
   "outputs": [],
   "source": [
    "plt.plot(x, x**2, 'or');"
   ]
  },
  {
   "cell_type": "code",
   "execution_count": null,
   "metadata": {
    "collapsed": false,
    "jupyter": {
     "outputs_hidden": false
    }
   },
   "outputs": [],
   "source": [
    "plt.plot(x, x**2, c='green', marker='^');"
   ]
  },
  {
   "cell_type": "code",
   "execution_count": null,
   "metadata": {
    "collapsed": false,
    "jupyter": {
     "outputs_hidden": false
    }
   },
   "outputs": [],
   "source": [
    "# To illustrate the possibilities of the interactive window:\n",
    "%matplotlib tk\n",
    "plt.plot(x, x**2, '*b', linestyle='-') ;"
   ]
  },
  {
   "cell_type": "code",
   "execution_count": null,
   "metadata": {
    "collapsed": false,
    "jupyter": {
     "outputs_hidden": false
    }
   },
   "outputs": [],
   "source": [
    "# Back to the inline graphics mode\n",
    "%matplotlib inline"
   ]
  },
  {
   "cell_type": "markdown",
   "metadata": {},
   "source": [
    "#### Overplot"
   ]
  },
  {
   "cell_type": "code",
   "execution_count": null,
   "metadata": {
    "collapsed": false,
    "jupyter": {
     "outputs_hidden": false
    }
   },
   "outputs": [],
   "source": [
    "x = np.linspace(0, 20, 100)  # 100 evenly-spaced values from 0 to 20\n",
    "y = np.sin(x)\n",
    "\n",
    "plt.plot(x, y)\n",
    "plt.plot(x, y**2); # overplot by default;"
   ]
  },
  {
   "cell_type": "markdown",
   "metadata": {},
   "source": [
    "#### Fixing axes limits"
   ]
  },
  {
   "cell_type": "code",
   "execution_count": null,
   "metadata": {
    "collapsed": false,
    "jupyter": {
     "outputs_hidden": false
    }
   },
   "outputs": [],
   "source": [
    "plt.plot(x, y)\n",
    "plt.xlim(0., np.pi*2); # Take car, it's NOT plt.xlim = (1, 2), this would ERASE the xlim method from plt!!!;"
   ]
  },
  {
   "cell_type": "markdown",
   "metadata": {},
   "source": [
    "#### Labels, titles"
   ]
  },
  {
   "cell_type": "code",
   "execution_count": null,
   "metadata": {
    "collapsed": false,
    "jupyter": {
     "outputs_hidden": false
    }
   },
   "outputs": [],
   "source": [
    "plt.plot(x, y)\n",
    "plt.xlim((0., np.pi*2))\n",
    "plt.title(r'Sin(x) between 0 and $2\\pi$')\n",
    "plt.xlabel('x')\n",
    "plt.ylabel('f(x)');"
   ]
  },
  {
   "cell_type": "markdown",
   "metadata": {},
   "source": [
    "#### plot method documentation"
   ]
  },
  {
   "cell_type": "code",
   "execution_count": null,
   "metadata": {
    "collapsed": false,
    "jupyter": {
     "outputs_hidden": false
    }
   },
   "outputs": [],
   "source": [
    "help(plt.plot)"
   ]
  },
  {
   "cell_type": "markdown",
   "metadata": {},
   "source": [
    "#### Legends"
   ]
  },
  {
   "cell_type": "code",
   "execution_count": null,
   "metadata": {
    "collapsed": false,
    "jupyter": {
     "outputs_hidden": false
    }
   },
   "outputs": [],
   "source": [
    "x = np.linspace(0, 20, 100)\n",
    "y1 = np.sin(x)\n",
    "y2 = np.cos(x)\n",
    "\n",
    "plt.plot(x, y1, '-b', label='sine')\n",
    "plt.plot(x, y2, '-r', label='cosine')\n",
    "plt.legend(loc='upper right', fancybox=True, framealpha=0.5)\n",
    "plt.ylim((-1.5, 2.0));"
   ]
  },
  {
   "cell_type": "markdown",
   "metadata": {},
   "source": [
    "#### Object oriented way"
   ]
  },
  {
   "cell_type": "code",
   "execution_count": null,
   "metadata": {
    "collapsed": false,
    "jupyter": {
     "outputs_hidden": false
    }
   },
   "outputs": [],
   "source": [
    "fig = plt.figure()  # a new figure window\n",
    "ax = fig.add_subplot(1,1,1)  # specify (nrows, ncols, axnum)\n",
    "ax2 = fig.add_subplot(3, 2, 6)  # specify (nrows, ncols, axnum)\n",
    "# same as ax = fig.add_subplot()"
   ]
  },
  {
   "cell_type": "code",
   "execution_count": null,
   "metadata": {
    "collapsed": false,
    "jupyter": {
     "outputs_hidden": false
    }
   },
   "outputs": [],
   "source": [
    "fig, ax = plt.subplots()  # one command way\n",
    "ax.plot(x, y1)\n",
    "ax.plot(x, y2)\n",
    "ax.set_xlim(0., 2*np.pi)\n",
    "ax.legend(['sine', 'cosine'], loc='best') # If the legends are not already defined in the plot call\n",
    "ax.set_xlabel(\"$x$\")\n",
    "ax.set_ylabel(\"$\\sin(x)$\")\n",
    "ax.set_title(\"I like $\\pi$\");"
   ]
  },
  {
   "cell_type": "code",
   "execution_count": null,
   "metadata": {
    "collapsed": false,
    "jupyter": {
     "outputs_hidden": false
    }
   },
   "outputs": [],
   "source": [
    "# The following outputs a HUGE quantity of information! I comment it for now\n",
    "#help(ax)"
   ]
  },
  {
   "cell_type": "markdown",
   "metadata": {},
   "source": [
    "#### log plots"
   ]
  },
  {
   "cell_type": "code",
   "execution_count": null,
   "metadata": {
    "collapsed": false,
    "jupyter": {
     "outputs_hidden": false
    }
   },
   "outputs": [],
   "source": [
    "xl = np.logspace(1, 4, 100)\n",
    "fig, ax = plt.subplots()\n",
    "ax.semilogx(xl, xl**2);"
   ]
  },
  {
   "cell_type": "code",
   "execution_count": null,
   "metadata": {
    "collapsed": false,
    "jupyter": {
     "outputs_hidden": false
    }
   },
   "outputs": [],
   "source": [
    "xl = np.logspace(1, 4, 100)\n",
    "fig, ax = plt.subplots()\n",
    "ax.plot(np.log10(xl), xl**2);"
   ]
  },
  {
   "cell_type": "code",
   "execution_count": null,
   "metadata": {
    "collapsed": false,
    "jupyter": {
     "outputs_hidden": false
    }
   },
   "outputs": [],
   "source": [
    "fig, ax = plt.subplots()\n",
    "ax.semilogy(xl, xl**3);"
   ]
  },
  {
   "cell_type": "code",
   "execution_count": null,
   "metadata": {
    "collapsed": false,
    "jupyter": {
     "outputs_hidden": false
    }
   },
   "outputs": [],
   "source": [
    "fig, ax = plt.subplots(figsize=(10,10))\n",
    "ax.loglog(xl, xl**3);\n",
    "ax.grid(which=\"both\",ls=\":\", c='blue')"
   ]
  },
  {
   "cell_type": "code",
   "execution_count": null,
   "metadata": {},
   "outputs": [],
   "source": [
    "# log axes can be defined after the plot\n",
    "fig, ax = plt.subplots(figsize=(5,5))\n",
    "ax.plot(xl, xl**3)\n",
    "ax.set_yscale('log')\n",
    "ax.set_xscale('log')"
   ]
  },
  {
   "cell_type": "markdown",
   "metadata": {},
   "source": [
    "#### Scatter"
   ]
  },
  {
   "cell_type": "code",
   "execution_count": null,
   "metadata": {
    "collapsed": false,
    "jupyter": {
     "outputs_hidden": false
    }
   },
   "outputs": [],
   "source": [
    "xr = np.random.rand(100)\n",
    "yr = np.random.rand(100)\n",
    "cr = np.random.rand(100)\n",
    "sr = np.random.rand(100)\n",
    "\n",
    "fig, ax = plt.subplots()\n",
    "sc = ax.scatter(xr, yr, c=cr, s=30+sr*100, edgecolor='none', alpha=0.5); # Sizes and colors depend on valyues of other variables\n",
    "fig.colorbar(sc);"
   ]
  },
  {
   "cell_type": "markdown",
   "metadata": {},
   "source": [
    "#### multiple plots"
   ]
  },
  {
   "cell_type": "code",
   "execution_count": null,
   "metadata": {
    "collapsed": false,
    "jupyter": {
     "outputs_hidden": false
    }
   },
   "outputs": [],
   "source": [
    "fig, axes = plt.subplots(4, 3, figsize=(10,12))\n",
    "print(axes.shape)"
   ]
  },
  {
   "cell_type": "code",
   "execution_count": null,
   "metadata": {
    "collapsed": false,
    "jupyter": {
     "outputs_hidden": false
    }
   },
   "outputs": [],
   "source": [
    "fig, axes = plt.subplots(4, 3, figsize=(10,12))\n",
    "for i, ax in enumerate(axes.ravel()): # axes is a 2D array.. Need to ravel it to run over every ax\n",
    "    ax.set_title('plot # {}'.format(i+1))\n",
    "    ax.plot(x, y1**(i+1))\n",
    "    ax.set_ylim((-1, 1))\n",
    "fig.tight_layout() # Better output"
   ]
  },
  {
   "cell_type": "code",
   "execution_count": null,
   "metadata": {
    "collapsed": false,
    "jupyter": {
     "outputs_hidden": false
    }
   },
   "outputs": [],
   "source": [
    "fig = plt.figure(figsize=(8, 8))\n",
    "gs = plt.GridSpec(3, 3)\n",
    "ax1 = fig.add_subplot(gs[0, :])\n",
    "ax2 = fig.add_subplot(gs[1, :2])\n",
    "ax3 = fig.add_subplot(gs[1:, 2])\n",
    "ax4 = fig.add_subplot(gs[2, 0])\n",
    "ax5 = fig.add_subplot(gs[2, 1])\n",
    "ax1.plot(x, y1)\n",
    "ax1.set_title('AX1')\n",
    "ax2.plot(x, y2)\n",
    "ax2.set_title('AX2')\n",
    "ax3.scatter(xr, yr, c=cr, s=30+sr*100, edgecolor='none', alpha=0.5)\n",
    "ax3.set_title('AX3')\n",
    "ax4.set_title('AX4')\n",
    "ax5.set_title('AX5')\n",
    "fig.tight_layout()\n",
    "#etc..."
   ]
  },
  {
   "cell_type": "markdown",
   "metadata": {},
   "source": [
    "#### Order of the commands"
   ]
  },
  {
   "cell_type": "code",
   "execution_count": null,
   "metadata": {
    "collapsed": false,
    "jupyter": {
     "outputs_hidden": false
    }
   },
   "outputs": [],
   "source": [
    "fig1 = plt.figure(figsize=(8, 3))\n",
    "ax1 = fig1.add_subplot(1, 2, 1)\n",
    "ax1.plot(x, np.sin(x))\n",
    "ax1.set_title('sine')\n",
    "\n",
    "ax2 = fig1.add_subplot(1, 2, 2)\n",
    "ax2.plot(x, np.cos(x))\n",
    "ax2.set_title('cosine');"
   ]
  },
  {
   "cell_type": "code",
   "execution_count": null,
   "metadata": {
    "collapsed": false,
    "jupyter": {
     "outputs_hidden": false
    }
   },
   "outputs": [],
   "source": [
    "fig1 = plt.figure(figsize=(8, 3))\n",
    "ax1 = fig1.add_subplot(1, 2, 1)\n",
    "ax2 = fig1.add_subplot(1, 2, 2)\n",
    "\n",
    "ax1.plot(x, np.sin(x))\n",
    "ax2.plot(x, np.cos(x))\n",
    "\n",
    "ax1.set_title('sine') # you can go back to change ax1 and ax2 after plotting\n",
    "ax2.set_title('cosine') # They both are objects containing method to apply on them;"
   ]
  },
  {
   "cell_type": "code",
   "execution_count": null,
   "metadata": {
    "collapsed": false,
    "jupyter": {
     "outputs_hidden": false
    }
   },
   "outputs": [],
   "source": [
    "fig1, (ax1, ax2) = plt.subplots(1, 2, figsize=(8, 3))\n",
    "# fig, axes = plt.subplots(1, 2, figsize=(8, 3))\n",
    "# ax1 = axes[0]\n",
    "# ax2 = axes[1]\n",
    "\n",
    "ax1.plot(x, np.sin(x))\n",
    "ax2.plot(x, np.cos(x))\n",
    "\n",
    "ax1.set_title('sine') # you can go back to change ax1 and ax2 after plotting\n",
    "ax2.set_title('cosine'); # They both are objects containing method to apply on them"
   ]
  },
  {
   "cell_type": "markdown",
   "metadata": {},
   "source": [
    "#### Everything is object"
   ]
  },
  {
   "cell_type": "code",
   "execution_count": null,
   "metadata": {
    "collapsed": false,
    "jupyter": {
     "outputs_hidden": false
    }
   },
   "outputs": [],
   "source": [
    "fig, ax = plt.subplots()\n",
    "lines = ax.plot(x, np.sin(x))\n",
    "print(type(lines))\n",
    "print(len(lines))"
   ]
  },
  {
   "cell_type": "code",
   "execution_count": null,
   "metadata": {
    "collapsed": false,
    "jupyter": {
     "outputs_hidden": false
    }
   },
   "outputs": [],
   "source": [
    "fig, ax = plt.subplots()\n",
    "lines = ax.plot(x, np.sin(x))\n",
    "line = lines[0]\n",
    "#help(line) # HUGE quantity of information\n",
    "line.set_color('red')\n",
    "line.set_linewidth(3)\n",
    "fig.canvas.draw() # this is not necessary in notebook, but in scripts it is."
   ]
  },
  {
   "cell_type": "code",
   "execution_count": null,
   "metadata": {
    "collapsed": false,
    "jupyter": {
     "outputs_hidden": false
    }
   },
   "outputs": [],
   "source": [
    "fig, ax = plt.subplots()\n",
    "lines = ax.plot([[1,2,3],[10,20,30]])\n",
    "print(lines)\n",
    "\n",
    "lines[0].set_linestyle('--')\n",
    "lines[1].set_linestyle('-.')\n",
    "lines[2].set_linestyle(':')"
   ]
  },
  {
   "cell_type": "code",
   "execution_count": null,
   "metadata": {
    "collapsed": false,
    "jupyter": {
     "outputs_hidden": false
    }
   },
   "outputs": [],
   "source": [
    "fig, ax = plt.subplots()\n",
    "lines = ax.plot(x, np.sin(x))\n",
    "ax.text(4, 0.5, \"Hello\");"
   ]
  },
  {
   "cell_type": "code",
   "execution_count": null,
   "metadata": {
    "collapsed": false,
    "jupyter": {
     "outputs_hidden": false
    }
   },
   "outputs": [],
   "source": [
    "fig, ax = plt.subplots()\n",
    "lines = ax.plot(x, np.sin(x))\n",
    "ax.set_xlim(-10,10)\n",
    "ax.text(0.1, 0.1, \"Hello\", transform=ax.transAxes);"
   ]
  },
  {
   "cell_type": "code",
   "execution_count": null,
   "metadata": {
    "collapsed": false,
    "jupyter": {
     "outputs_hidden": false
    }
   },
   "outputs": [],
   "source": [
    "fig, ax = plt.subplots()\n",
    "lines = ax.plot(x, np.sin(x))\n",
    "for x_text in 2.5+2*np.pi*(np.arange(3)):\n",
    "    ax.text(x_text, 0.8, \"Hello\")"
   ]
  },
  {
   "cell_type": "code",
   "execution_count": null,
   "metadata": {
    "collapsed": false,
    "jupyter": {
     "outputs_hidden": false
    }
   },
   "outputs": [],
   "source": [
    "fig, ax = plt.subplots()\n",
    "lines = ax.plot(x, np.sin(x))\n",
    "txt = ax.text(4, 0.5, \"Hello\")\n",
    "txt.set_rotation(90)\n",
    "txt.set_size(40)"
   ]
  },
  {
   "cell_type": "code",
   "execution_count": null,
   "metadata": {
    "collapsed": false,
    "jupyter": {
     "outputs_hidden": false
    }
   },
   "outputs": [],
   "source": [
    "fig, ax = plt.subplots()\n",
    "lines = ax.plot(x, np.sin(x)) # !!! data will change latter\n",
    "lines[0].set_ydata(np.sin(2 * x)**2) # Change the data themselve!!!"
   ]
  },
  {
   "cell_type": "markdown",
   "metadata": {},
   "source": [
    "#### Error bars"
   ]
  },
  {
   "cell_type": "code",
   "execution_count": null,
   "metadata": {
    "collapsed": false,
    "jupyter": {
     "outputs_hidden": false
    }
   },
   "outputs": [],
   "source": [
    "x = np.arange(0.1, 4, 0.5)\n",
    "y = np.exp(-x)\n",
    "xerr = np.random.rand(len(x))*0.3\n",
    "fig, ax = plt.subplots()\n",
    "eb = ax.errorbar(x, y, xerr=xerr, yerr=0.4, fmt='o');\n",
    "print(type(eb))"
   ]
  },
  {
   "cell_type": "markdown",
   "metadata": {},
   "source": [
    "#### Sharing axes"
   ]
  },
  {
   "cell_type": "code",
   "execution_count": null,
   "metadata": {
    "collapsed": false,
    "jupyter": {
     "outputs_hidden": false
    }
   },
   "outputs": [],
   "source": [
    "%matplotlib tk\n",
    "fig, axes = plt.subplots(2, sharex=True)\n",
    "axes[0].plot(x, y)\n",
    "axes[0].set_title('Sharing X axis')\n",
    "axes[1].scatter(x, y);"
   ]
  },
  {
   "cell_type": "code",
   "execution_count": null,
   "metadata": {
    "collapsed": false,
    "jupyter": {
     "outputs_hidden": false
    }
   },
   "outputs": [],
   "source": [
    "import matplotlib\n",
    "print(matplotlib.__version__)"
   ]
  },
  {
   "cell_type": "code",
   "execution_count": null,
   "metadata": {
    "collapsed": false,
    "jupyter": {
     "outputs_hidden": false
    }
   },
   "outputs": [],
   "source": [
    "f, (ax1, ax2) = plt.subplots(1, 2, sharey=True) # Unpacking the axes\n",
    "ax1.plot(x, y)\n",
    "f.suptitle('Main TITLE')\n",
    "ax1.set_title('Sharing Y axis')\n",
    "ax2.scatter(x, y);"
   ]
  },
  {
   "cell_type": "code",
   "execution_count": null,
   "metadata": {
    "collapsed": false,
    "jupyter": {
     "outputs_hidden": false
    }
   },
   "outputs": [],
   "source": [
    "fig, (ax1, ax2, ax3) = plt.subplots(3, sharex=True, sharey=True)\n",
    "ax1.plot(x, y)\n",
    "ax1.set_title('Sharing both axes')\n",
    "ax2.scatter(x, y)\n",
    "ax3.scatter(x, 2 * y ** 2 - 1, color='r')\n",
    "# Fine-tune figure; make subplots close to each other \n",
    "fig.subplots_adjust(hspace=0)"
   ]
  },
  {
   "cell_type": "code",
   "execution_count": null,
   "metadata": {
    "collapsed": false,
    "jupyter": {
     "outputs_hidden": false
    }
   },
   "outputs": [],
   "source": [
    "%matplotlib inline"
   ]
  },
  {
   "cell_type": "code",
   "execution_count": null,
   "metadata": {
    "collapsed": false,
    "jupyter": {
     "outputs_hidden": false
    }
   },
   "outputs": [],
   "source": [
    "fig, (ax1, ax2, ax3) = plt.subplots(3, sharex=True, sharey=True)\n",
    "ax1.plot(x, y)\n",
    "ax1.set_title('Sharing both axes')\n",
    "ax2.scatter(x, y)\n",
    "ax3.scatter(x, 2 * y ** 2 - 1, color='r')\n",
    "# Fine-tune figure; make subplots close to each other \n",
    "fig.subplots_adjust(hspace=0)"
   ]
  },
  {
   "cell_type": "markdown",
   "metadata": {},
   "source": [
    "#### Histograms"
   ]
  },
  {
   "cell_type": "code",
   "execution_count": null,
   "metadata": {
    "collapsed": false,
    "jupyter": {
     "outputs_hidden": false
    }
   },
   "outputs": [],
   "source": [
    "x = np.random.normal(size=1000)\n",
    "fig, ax = plt.subplots()\n",
    "H = ax.hist(x)\n",
    "print(H)"
   ]
  },
  {
   "cell_type": "code",
   "execution_count": null,
   "metadata": {
    "collapsed": false,
    "jupyter": {
     "outputs_hidden": false
    }
   },
   "outputs": [],
   "source": [
    "fig, ax = plt.subplots()\n",
    "H = ax.hist(x, bins=50)"
   ]
  },
  {
   "cell_type": "code",
   "execution_count": null,
   "metadata": {
    "collapsed": false,
    "jupyter": {
     "outputs_hidden": false
    }
   },
   "outputs": [],
   "source": [
    "fig, ax = plt.subplots()\n",
    "H = ax.hist(x, bins=50, histtype='stepfilled', log=True, color='r')"
   ]
  },
  {
   "cell_type": "code",
   "execution_count": null,
   "metadata": {
    "collapsed": false,
    "jupyter": {
     "outputs_hidden": false
    }
   },
   "outputs": [],
   "source": [
    "x2 = np.random.normal(size=1000)\n",
    "fig, ax = plt.subplots()\n",
    "H = ax.hist((x, x2), bins=50, alpha=0.3, histtype='stepfilled')"
   ]
  },
  {
   "cell_type": "code",
   "execution_count": null,
   "metadata": {
    "collapsed": false,
    "jupyter": {
     "outputs_hidden": false
    }
   },
   "outputs": [],
   "source": [
    "fig, ax = plt.subplots(figsize=(15,5))\n",
    "H = ax.hist((x, x2), bins=50, histtype='bar')"
   ]
  },
  {
   "cell_type": "code",
   "execution_count": null,
   "metadata": {
    "collapsed": false,
    "jupyter": {
     "outputs_hidden": false
    }
   },
   "outputs": [],
   "source": [
    "fig, ax = plt.subplots()\n",
    "H = ax.hist((x, x2), bins=50, histtype='bar', stacked=True)"
   ]
  },
  {
   "cell_type": "code",
   "execution_count": null,
   "metadata": {
    "collapsed": false,
    "jupyter": {
     "outputs_hidden": false
    }
   },
   "outputs": [],
   "source": [
    "fig, ax = plt.subplots()\n",
    "H = ax.hist((x, x2), bins=50, range=(-2, 2), histtype='step', stacked=True, fill=True)"
   ]
  },
  {
   "cell_type": "code",
   "execution_count": null,
   "metadata": {
    "collapsed": false,
    "jupyter": {
     "outputs_hidden": false
    }
   },
   "outputs": [],
   "source": [
    "fig, ax = plt.subplots()\n",
    "H = ax.hist((x, x2), bins=(-2, -1, -0.2, -0.1, 0., 0.1, 0.2, 1, 2), range=(-2, 2), \n",
    "            histtype='step', stacked=True, fill=True, normed=True)"
   ]
  },
  {
   "cell_type": "code",
   "execution_count": null,
   "metadata": {
    "collapsed": false,
    "jupyter": {
     "outputs_hidden": false
    }
   },
   "outputs": [],
   "source": [
    "fig, ax = plt.subplots()\n",
    "H = ax.hist(x, bins=50, histtype='step', cumulative=True, normed=True)\n",
    "H2 = ax.hist(x2, bins=50, histtype='step', cumulative=True, normed=True)"
   ]
  },
  {
   "cell_type": "markdown",
   "metadata": {},
   "source": [
    "#### boxplots"
   ]
  },
  {
   "cell_type": "code",
   "execution_count": null,
   "metadata": {
    "collapsed": false,
    "jupyter": {
     "outputs_hidden": false
    }
   },
   "outputs": [],
   "source": [
    "help(ax.boxplot)"
   ]
  },
  {
   "cell_type": "code",
   "execution_count": null,
   "metadata": {
    "collapsed": false,
    "jupyter": {
     "outputs_hidden": false
    }
   },
   "outputs": [],
   "source": [
    "fig, ax = plt.subplots()\n",
    "bp = ax.violinplot((x, x2), showmeans=True,showmedians=True)"
   ]
  },
  {
   "cell_type": "code",
   "execution_count": null,
   "metadata": {
    "collapsed": false,
    "jupyter": {
     "outputs_hidden": false
    }
   },
   "outputs": [],
   "source": [
    "data = np.random.lognormal(size=(37, 4), mean=1.5, sigma=1.75)\n",
    "\n",
    "fig, ax = plt.subplots(figsize=(6,6))\n",
    "bp = ax.boxplot(data) # Nothing to see !"
   ]
  },
  {
   "cell_type": "code",
   "execution_count": null,
   "metadata": {
    "collapsed": false,
    "jupyter": {
     "outputs_hidden": false
    }
   },
   "outputs": [],
   "source": [
    "data = np.random.lognormal(size=(37, 4), mean=1.5, sigma=1.75)\n",
    "\n",
    "fig, ax = plt.subplots(figsize=(6,6))\n",
    "bp = ax.boxplot(data)\n",
    "ax.set_yscale('log')"
   ]
  },
  {
   "cell_type": "markdown",
   "metadata": {},
   "source": [
    "#### Ticks, axes and spines"
   ]
  },
  {
   "cell_type": "code",
   "execution_count": null,
   "metadata": {
    "collapsed": false,
    "jupyter": {
     "outputs_hidden": false
    }
   },
   "outputs": [],
   "source": [
    "x = np.linspace(0, 2*np.pi, 50)\n",
    "y = np.sin(x)\n",
    "y2 = y + 0.1 * np.random.normal(size=x.shape) # add noise to the data\n",
    "\n",
    "fig, ax = plt.subplots()\n",
    "ax.plot(x, y, 'k--')\n",
    "ax.plot(x, y2, 'ro')\n",
    "\n",
    "# set ticks and tick labels\n",
    "ax.set_xlim((0, 2*np.pi))\n",
    "ax.set_xticks([0, np.pi, 2*np.pi])\n",
    "ax.set_xticklabels(['0', '$\\pi$','2$\\pi$'])\n",
    "ax.set_ylim((-1.5, 1.5))\n",
    "ax.set_yticks([-1, 0, 1])\n",
    "\n",
    "# Only draw spine between the y-ticks\n",
    "ax.spines['left'].set_bounds(-1, 1)\n",
    "# Hide the right and top spines\n",
    "ax.spines['right'].set_visible(False)\n",
    "ax.spines['top'].set_visible(False)\n",
    "# Only show ticks on the left and bottom spines\n",
    "ax.yaxis.set_ticks_position('left')\n",
    "ax.xaxis.set_ticks_position('bottom')\n"
   ]
  },
  {
   "cell_type": "markdown",
   "metadata": {},
   "source": [
    "#### A plot inside a plot"
   ]
  },
  {
   "cell_type": "code",
   "execution_count": null,
   "metadata": {
    "collapsed": false,
    "jupyter": {
     "outputs_hidden": false
    }
   },
   "outputs": [],
   "source": [
    "x = np.linspace(0, 5, 10)\n",
    "y = x ** 2\n",
    "\n",
    "fig = plt.figure(figsize=(7,6.5))\n",
    "\n",
    "ax1 = fig.add_axes([0.1, 0.1, 0.9, 0.9]) # main axes\n",
    "ax2 = fig.add_axes([0.15, 0.5, 0.4, 0.3]) # inset axes\n",
    "\n",
    "# main figure\n",
    "ax1.plot(x, y, 'r', label='red line')\n",
    "ax1.legend(loc=4)\n",
    "# insert\n",
    "ax2.plot(y, x, 'g', label = 'green line')\n",
    "ax2.set_title('close-up')\n",
    "ax2.legend(loc='best');"
   ]
  },
  {
   "cell_type": "code",
   "execution_count": null,
   "metadata": {
    "collapsed": false,
    "jupyter": {
     "outputs_hidden": false
    }
   },
   "outputs": [],
   "source": [
    "# The classical way\n",
    "\n",
    "# create some data to use for the plot\n",
    "dt = 0.001\n",
    "t = np.arange(0.0, 10.0, dt)\n",
    "r = np.exp(-t[:1000]/0.05)  # impulse response\n",
    "x = np.random.randn(len(t))\n",
    "s = np.convolve(x,r)[:len(x)]*dt  # colored noise\n",
    "\n",
    "# the main axes is subplot(111) by default\n",
    "plt.plot(t, s)\n",
    "plt.axis([0, 1, 1.1*np.amin(s), 2*np.amax(s) ])\n",
    "plt.xlabel('time (s)')\n",
    "plt.ylabel('current (nA)')\n",
    "plt.title('Gaussian colored noise')\n",
    "\n",
    "# this is an inset axes over the main axes\n",
    "a = plt.axes([.65, .6, .2, .2], facecolor='y')\n",
    "n, bins, patches = plt.hist(s, 400, normed=1)\n",
    "plt.title('Probability')\n",
    "plt.setp(a, xticks=[], yticks=[])\n",
    "\n",
    "# this is another inset axes over the main axes\n",
    "b = plt.axes([0.2, 0.6, .2, .2], facecolor='y')\n",
    "plt.plot(t[:len(r)], r)\n",
    "plt.title('Impulse response')\n",
    "plt.setp(b, xlim=(0,.2), xticks=[], yticks=[]);\n"
   ]
  },
  {
   "cell_type": "code",
   "execution_count": null,
   "metadata": {
    "collapsed": false,
    "jupyter": {
     "outputs_hidden": false
    }
   },
   "outputs": [],
   "source": [
    "# The Object oriented way\n",
    "\n",
    "# the main axes is subplot(111) by default\n",
    "fig, ax = plt.subplots()\n",
    "ax.plot(t, s)\n",
    "ax.axis([0, 1, 1.1*np.amin(s), 2*np.amax(s) ])\n",
    "# The previous command is equivalent to:\n",
    "#ax.set_xlim((0., 1))\n",
    "#ax.set_ylim((1.1*np.amin(s), 2*np.amax(s)))\n",
    "ax.set_xlabel('time (s)')\n",
    "ax.set_ylabel('current (nA)')\n",
    "ax.set_title('Gaussian colored noise')\n",
    "ax.yaxis.tick_right()\n",
    "ax.yaxis.set_label_position(\"right\")\n",
    "\n",
    "# this is an inset axes over the main axes\n",
    "ax2 = plt.axes([.65, .6, .2, .2], facecolor='y')\n",
    "n, bins, patches = ax2.hist(s, 400, normed=1)\n",
    "ax2.set_title('Probability')\n",
    "ax2.xaxis.set_ticks([])\n",
    "ax2.yaxis.set_ticks([])\n",
    "\n",
    "# this is another inset axes over the main axes\n",
    "ax3 = plt.axes([0.2, 0.6, .2, .2], facecolor='y')\n",
    "ax3.plot(t[:len(r)], r)\n",
    "ax3.set_title('Impulse response')\n",
    "ax3.set_xlim((0., .2))\n",
    "ax3.xaxis.set_ticks([])\n",
    "ax3.yaxis.set_ticks([]);"
   ]
  },
  {
   "cell_type": "markdown",
   "metadata": {},
   "source": [
    "#### Play with all the objects of a plot"
   ]
  },
  {
   "cell_type": "code",
   "execution_count": null,
   "metadata": {
    "collapsed": false,
    "jupyter": {
     "outputs_hidden": false
    }
   },
   "outputs": [],
   "source": [
    "# Define some data\n",
    "t = np.arange(0.0, 2.0, 0.01)\n",
    "s = np.sin(2*np.pi*t)\n",
    "fig, ax = plt.subplots()\n",
    "\n",
    "# Plot the data and keep the data-line into an object\n",
    "ax.plot(t, s);"
   ]
  },
  {
   "cell_type": "code",
   "execution_count": null,
   "metadata": {
    "collapsed": false,
    "jupyter": {
     "outputs_hidden": false
    }
   },
   "outputs": [],
   "source": [
    "# Define some data\n",
    "t = np.arange(0.0, 2.0, 0.01)\n",
    "s = np.sin(2*np.pi*t)\n",
    "fig, ax = plt.subplots()\n",
    "\n",
    "# Plot the data and keep the data-line into an object\n",
    "datalines = ax.plot(t, s)\n",
    "\n",
    "\n",
    "# Plot grids on the figure\n",
    "ax.grid(True)\n",
    "tit = ax.set_title('Sin')\n",
    "\n",
    "# Put all the lines and labels into lists of objects\n",
    "ticklines = iter(ax.spines.values())\n",
    "gridlines = ax.get_xgridlines()\n",
    "gridlines.extend( ax.get_ygridlines() )\n",
    "labels = ax.get_xticklabels()\n",
    "labels.extend( ax.get_yticklabels() )\n",
    "labels.append(tit)# Loop on the lists of lines to change properties\n",
    "print(labels)\n",
    "\n",
    "for line in ticklines:\n",
    "    line.set_linewidth(2)\n",
    "    line.set_color('blue')\n",
    "\n",
    "for line in datalines:\n",
    "    line.set_linewidth(5)\n",
    "    line.set_color('green')\n",
    "\n",
    "for line in gridlines:\n",
    "    line.set_linestyle(':')\n",
    "    line.set_linewidth(2)\n",
    "\n",
    "# loop on the labels to change properties\n",
    "for label in labels:\n",
    "    label.set_color('r')\n",
    "    label.set_fontsize(15)"
   ]
  },
  {
   "cell_type": "markdown",
   "metadata": {},
   "source": [
    "#### Changing font etc for all the plots:"
   ]
  },
  {
   "cell_type": "code",
   "execution_count": null,
   "metadata": {
    "collapsed": false,
    "jupyter": {
     "outputs_hidden": false
    }
   },
   "outputs": [],
   "source": [
    "import matplotlib\n",
    "matplotlib.rcParams.update({'font.size': 18, 'font.family': 'serif'})"
   ]
  },
  {
   "cell_type": "code",
   "execution_count": null,
   "metadata": {
    "collapsed": false,
    "jupyter": {
     "outputs_hidden": false
    }
   },
   "outputs": [],
   "source": [
    "# Define some data\n",
    "t = np.arange(0.0, 2.0, 0.01)\n",
    "s = np.sin(2*np.pi*t)\n",
    "fig, ax = plt.subplots()\n",
    "\n",
    "# Plot the data and keep the data-line into an object\n",
    "datalines = ax.plot(t, s)\n",
    "# Plot grids on the figure\n",
    "ax.grid(True)\n",
    "ax.set_xlabel('x')\n",
    "tit = ax.set_title('Sin')"
   ]
  },
  {
   "cell_type": "code",
   "execution_count": null,
   "metadata": {
    "collapsed": false,
    "jupyter": {
     "outputs_hidden": false
    }
   },
   "outputs": [],
   "source": [
    "# Back to default values\n",
    "matplotlib.rcParams.update({'font.size': 12, 'font.family': 'sans'})"
   ]
  },
  {
   "cell_type": "code",
   "execution_count": null,
   "metadata": {
    "collapsed": false,
    "jupyter": {
     "outputs_hidden": false
    }
   },
   "outputs": [],
   "source": [
    "# Define some data\n",
    "t = np.arange(0.0, 2.0, 0.01)\n",
    "s = np.sin(2*np.pi*t)\n",
    "fig, ax = plt.subplots()\n",
    "\n",
    "# Plot the data and keep the data-line into an object\n",
    "datalines = ax.plot(t, s)\n",
    "# Plot grids on the figure\n",
    "ax.grid(True)\n",
    "tit = ax.set_title('Sin')"
   ]
  },
  {
   "cell_type": "code",
   "execution_count": null,
   "metadata": {
    "collapsed": false,
    "jupyter": {
     "outputs_hidden": false
    }
   },
   "outputs": [],
   "source": [
    "matplotlib.rc('axes', linewidth=1.5)\n",
    "matplotlib.rc('lines', linewidth=2)\n",
    "matplotlib.rc('font', size=15)\n",
    "matplotlib.rc('xtick.major', width=2, size=10)\n",
    "matplotlib.rc('xtick.minor', width=2, size=5)\n",
    "matplotlib.rc('ytick.major', width=2, size=10)\n",
    "matplotlib.rc('ytick.minor', width=2, size=5)\n",
    "\n",
    "# Define some data\n",
    "t = np.arange(0.0, 2.0, 0.01)\n",
    "s = np.sin(2*np.pi*t)\n",
    "fig, ax = plt.subplots(figsize=(5,5))\n",
    "\n",
    "# Plot the data and keep the data-line into an object\n",
    "datalines = ax.plot(t, s)\n",
    "# Plot grids on the figure\n",
    "ax.grid(True)\n",
    "tit = ax.set_title('Sin')"
   ]
  },
  {
   "cell_type": "markdown",
   "metadata": {},
   "source": [
    "#### Twin axes"
   ]
  },
  {
   "cell_type": "code",
   "execution_count": null,
   "metadata": {
    "collapsed": false,
    "jupyter": {
     "outputs_hidden": false
    }
   },
   "outputs": [],
   "source": [
    "x = np.linspace(0, 4, 100)\n",
    "fig, ax1 = plt.subplots()\n",
    "\n",
    "ax1.plot(x, x**2, lw=2, color=\"blue\")\n",
    "ax1.set_xlabel('size (m)')\n",
    "ax1.set_ylabel(r\"area $(m^2)$\", fontsize=18, color=\"blue\")\n",
    "for label in ax1.get_yticklabels():\n",
    "    label.set_color(\"blue\")\n",
    "    \n",
    "ax2 = ax1.twinx()\n",
    "ax2.plot(x, x**3, lw=2, color=\"red\")\n",
    "ax2.set_ylabel(r\"volume $(m^3)$\", fontsize=18, color=\"red\")\n",
    "for label in ax2.get_yticklabels():\n",
    "    label.set_color(\"red\")"
   ]
  },
  {
   "cell_type": "markdown",
   "metadata": {},
   "source": [
    "#### Axis crossing at 0"
   ]
  },
  {
   "cell_type": "code",
   "execution_count": null,
   "metadata": {
    "collapsed": false,
    "jupyter": {
     "outputs_hidden": false
    }
   },
   "outputs": [],
   "source": [
    "fig, ax = plt.subplots()\n",
    "\n",
    "ax.spines['right'].set_color('none')\n",
    "ax.spines['top'].set_color('none')\n",
    "\n",
    "ax.xaxis.set_ticks_position('bottom')\n",
    "ax.spines['bottom'].set_position(('data',0)) # set position of x spine to x=0\n",
    "\n",
    "ax.yaxis.set_ticks_position('left')\n",
    "ax.spines['left'].set_position(('data',0))   # set position of y spine to y=0\n",
    "\n",
    "xx = np.linspace(-0.75, 1., 100)\n",
    "ax.plot(xx, xx**3);"
   ]
  },
  {
   "cell_type": "markdown",
   "metadata": {},
   "source": [
    "#### Pie plots"
   ]
  },
  {
   "cell_type": "code",
   "execution_count": null,
   "metadata": {
    "collapsed": false,
    "jupyter": {
     "outputs_hidden": false
    }
   },
   "outputs": [],
   "source": [
    "fracs = [30, 15, 45, 10]\n",
    "colors = ['b', 'g', 'r', 'w']\n",
    "\n",
    "fig, ax = plt.subplots(figsize=(6, 6))  # make the plot square\n",
    "pie = ax.pie(fracs, colors=colors, explode=(0, 0, 0.05, 0), shadow=True,\n",
    "             labels=['A', 'B', 'C', 'D'])"
   ]
  },
  {
   "cell_type": "markdown",
   "metadata": {},
   "source": [
    "#### Filled regions"
   ]
  },
  {
   "cell_type": "code",
   "execution_count": null,
   "metadata": {
    "collapsed": false,
    "jupyter": {
     "outputs_hidden": false
    }
   },
   "outputs": [],
   "source": [
    "x = np.linspace(0, 10, 1000)\n",
    "y1 = np.sin(x)\n",
    "y2 = np.cos(x)\n",
    "\n",
    "fig, ax = plt.subplots()\n",
    "ax.fill_between(x, y1, y2, where=(y1 < y2), color='red')\n",
    "ax.fill_between(x, y1, y2, where=(y1 > y2), color='blue');"
   ]
  },
  {
   "cell_type": "markdown",
   "metadata": {},
   "source": [
    "#### 2D-histograms and hexagon plots"
   ]
  },
  {
   "cell_type": "code",
   "execution_count": null,
   "metadata": {
    "collapsed": false,
    "jupyter": {
     "outputs_hidden": false
    }
   },
   "outputs": [],
   "source": [
    "from matplotlib.colors import LogNorm\n",
    "\n",
    "#normal distribution center at x=0 and y=5\n",
    "x = np.random.randn(100000)\n",
    "y = np.random.randn(100000)+5\n",
    "\n",
    "fig, ax = plt.subplots()\n",
    "counts, xedges, yedges, Image = ax.hist2d(x, y, bins=(40, 80), norm=LogNorm())\n",
    "cb = fig.colorbar(Image)"
   ]
  },
  {
   "cell_type": "code",
   "execution_count": null,
   "metadata": {},
   "outputs": [],
   "source": [
    "from matplotlib.colors import LogNorm\n",
    "\n",
    "#normal distribution center at x=0 and y=5\n",
    "x = np.random.randn(100000)\n",
    "y = np.random.randn(100000)+5\n",
    "\n",
    "fig, ax = plt.subplots()\n",
    "ax.scatter(x,y, alpha=0.01, marker='.')"
   ]
  },
  {
   "cell_type": "code",
   "execution_count": null,
   "metadata": {
    "collapsed": false,
    "jupyter": {
     "outputs_hidden": false
    }
   },
   "outputs": [],
   "source": [
    "x, y = np.random.normal(size=(2, 10000))\n",
    "\n",
    "fig, (ax1, ax2) = plt.subplots(2, 1, figsize=(5, 8))\n",
    "\n",
    "im = ax1.hexbin(x, y, gridsize=20)\n",
    "ax1.set_xlabel('X')\n",
    "cb = fig.colorbar(im, ax=ax1)\n",
    "cb.set_label('Intensity')\n",
    "\n",
    "H = ax2.hist2d(x, y, bins=20)\n",
    "print(H[0].shape)\n",
    "cb = fig.colorbar(H[3], ax=ax2)\n",
    "cb.set_label('Intensity 2')\n",
    "fig.tight_layout()"
   ]
  },
  {
   "cell_type": "markdown",
   "metadata": {},
   "source": [
    "#### 2D data sets and Images"
   ]
  },
  {
   "cell_type": "code",
   "execution_count": null,
   "metadata": {
    "collapsed": false,
    "jupyter": {
     "outputs_hidden": false
    }
   },
   "outputs": [],
   "source": [
    "N = 100\n",
    "I = np.random.random((N, N))\n",
    "I += np.sin(np.linspace(0, np.pi, N))\n",
    "print(I.shape)\n",
    "fig, ax = plt.subplots()\n",
    "im = ax.imshow(I, cmap=plt.cm.cubehelix, vmin=0, vmax=2.2, interpolation='bicubic') # draw the image\n",
    "cb = fig.colorbar(im) # put the colorbar\n",
    "cb.set_label('Value')"
   ]
  },
  {
   "cell_type": "code",
   "execution_count": null,
   "metadata": {
    "collapsed": false,
    "jupyter": {
     "outputs_hidden": false
    }
   },
   "outputs": [],
   "source": [
    "fig, ax = plt.subplots()\n",
    "im = ax.imshow(I, cmap=plt.cm.jet, interpolation='none') # draw the image, no interpolations, raw data\n",
    "cb = fig.colorbar(im, ax=ax) # put the colorbar"
   ]
  },
  {
   "cell_type": "code",
   "execution_count": null,
   "metadata": {
    "collapsed": false,
    "jupyter": {
     "outputs_hidden": false
    }
   },
   "outputs": [],
   "source": [
    "help(plt.imshow)"
   ]
  },
  {
   "cell_type": "markdown",
   "metadata": {},
   "source": [
    "#### Contour"
   ]
  },
  {
   "cell_type": "code",
   "execution_count": null,
   "metadata": {
    "collapsed": false,
    "jupyter": {
     "outputs_hidden": false
    }
   },
   "outputs": [],
   "source": [
    "from scipy.interpolate import griddata\n",
    "\n",
    "# make up data.\n",
    "#npts = int(raw_input('enter # of random points to plot:'))\n",
    "npts = 200\n",
    "points = np.random.rand(npts, 2) * 4 - 2\n",
    "x = points[:,0]\n",
    "y = points[:,1]\n",
    "#print(points)\n",
    "def func(x,y):\n",
    "    #return x*(1-x)*np.cos(4*np.pi*x) * np.sin(4*np.pi*y**2)**2\n",
    "    return x * np.exp(-x**2 - y**2)\n",
    "print(points.shape)\n",
    "values = func(points[:,0], points[:,1])\n",
    "# define grid.\n",
    "xi, yi = np.mgrid[-2.1:2.1:100j, -2.1:2.1:200j]\n",
    "# grid the data.\n",
    "zi = griddata(points, values, (xi, yi), method='nearest') # Linear does not work???\n",
    "\n",
    "# contour the gridded data, plotting dots at the nonuniform data points.\n",
    "fig, ax = plt.subplots()\n",
    "ax.contour(xi, yi, zi, 25, linewidths=0.5, colors='k')\n",
    "CF = ax.contourf(xi, yi, zi, 25, \n",
    "                  vmax=abs(zi).max(), vmin=-abs(zi).max())\n",
    "cb = fig.colorbar(CF)  # draw colorbar\n",
    "# plot data points.\n",
    "ax.scatter(x, y, marker='o', c='b', s=5, zorder=10)\n",
    "ax.set_xlim(-2, 2)\n",
    "ax.set_ylim(-2, 2)\n",
    "ax.set_title('griddata test (%d points)' % npts);"
   ]
  },
  {
   "cell_type": "markdown",
   "metadata": {},
   "source": [
    "#### 3D scatter plots"
   ]
  },
  {
   "cell_type": "code",
   "execution_count": null,
   "metadata": {
    "collapsed": false,
    "jupyter": {
     "outputs_hidden": false
    }
   },
   "outputs": [],
   "source": [
    "from mpl_toolkits.mplot3d import Axes3D\n",
    "fig = plt.figure()\n",
    "ax = plt.axes(projection='3d')\n",
    "\n",
    "z = np.linspace(0, 1, 100)\n",
    "x = z * np.sin(20 * z)\n",
    "y = z * np.cos(20 * z)\n",
    "\n",
    "c = np.sqrt(x**2 + y**2)\n",
    "\n",
    "ax.scatter(x, y, z, c=c);\n",
    "#ax.set_zscale('log')"
   ]
  },
  {
   "cell_type": "code",
   "execution_count": null,
   "metadata": {
    "collapsed": false,
    "jupyter": {
     "outputs_hidden": false
    }
   },
   "outputs": [],
   "source": [
    "fig = plt.figure()\n",
    "ax = plt.axes(projection='3d')\n",
    "\n",
    "ax.plot(x, y, z, '-b')"
   ]
  },
  {
   "cell_type": "code",
   "execution_count": null,
   "metadata": {
    "collapsed": false,
    "jupyter": {
     "outputs_hidden": false
    }
   },
   "outputs": [],
   "source": [
    "alpha = 0.7\n",
    "phi_ext = 2 * np.pi * 0.5\n",
    "\n",
    "def flux_qubit_potential(phi_m, phi_p):\n",
    "    return 2 + alpha - 2 * np.cos(phi_p)*np.cos(phi_m) - alpha * np.cos(phi_ext - 2*phi_p)\n",
    "\n",
    "phi_m = np.linspace(0, 2*np.pi, 100)\n",
    "phi_p = np.linspace(0, 2*np.pi, 100)\n",
    "X,Y = np.meshgrid(phi_p, phi_m)\n",
    "Z = flux_qubit_potential(X, Y).T\n",
    "fig = plt.figure(figsize=(14,6))\n",
    "\n",
    "# `ax` is a 3D-aware axis instance, because of the projection='3d' keyword argument to add_subplot\n",
    "ax = fig.add_subplot(1, 2, 1, projection='3d')\n",
    "\n",
    "p = ax.plot_surface(X, Y, Z, rstride=4, cstride=4, linewidth=0)\n",
    "\n",
    "# surface_plot with color grading and color bar\n",
    "ax = fig.add_subplot(1, 2, 2, projection='3d')\n",
    "p = ax.plot_surface(X, Y, Z, rstride=1, cstride=1, cmap=plt.cm.coolwarm, linewidth=0, \n",
    "                    antialiased=False)\n",
    "cb = fig.colorbar(p, shrink=0.5)"
   ]
  },
  {
   "cell_type": "code",
   "execution_count": null,
   "metadata": {
    "collapsed": false,
    "jupyter": {
     "outputs_hidden": false
    }
   },
   "outputs": [],
   "source": [
    "pi = np.pi\n",
    "fig = plt.figure(figsize=(12,10))\n",
    "\n",
    "ax = fig.add_subplot(1,1,1, projection='3d')\n",
    "\n",
    "ax.plot_surface(X, Y, Z, rstride=4, cstride=4, alpha=0.25)\n",
    "cset = ax.contour(X, Y, Z, zdir='z', offset=-pi, cmap=plt.cm.coolwarm)\n",
    "cset = ax.contour(X, Y, Z, zdir='x', offset=-pi, cmap=plt.cm.coolwarm)\n",
    "cset = ax.contour(X, Y, Z, zdir='y', offset=3*pi, cmap=plt.cm.coolwarm)\n",
    "\n",
    "ax.set_xlim3d(-pi, 2*pi);\n",
    "ax.set_ylim3d(0, 3*pi);\n",
    "ax.set_zlim3d(-pi, 2*pi);"
   ]
  },
  {
   "cell_type": "code",
   "execution_count": null,
   "metadata": {
    "collapsed": false,
    "jupyter": {
     "outputs_hidden": false
    }
   },
   "outputs": [],
   "source": [
    "# Interactive rotating the plot\n",
    "%matplotlib tk\n",
    "fig = plt.figure(figsize=(12,10))\n",
    "\n",
    "ax = fig.add_subplot(1,1,1, projection='3d')\n",
    "\n",
    "ax.plot_surface(X, Y, Z, rstride=4, cstride=4, alpha=0.25)\n",
    "cset = ax.contour(X, Y, Z, zdir='z', offset=-pi, cmap=plt.cm.coolwarm)\n",
    "cset = ax.contour(X, Y, Z, zdir='x', offset=-pi, cmap=plt.cm.coolwarm)\n",
    "cset = ax.contour(X, Y, Z, zdir='y', offset=3*pi, cmap=plt.cm.coolwarm)\n",
    "\n",
    "ax.set_xlim3d(-pi, 2*pi);\n",
    "ax.set_ylim3d(0, 3*pi);\n",
    "ax.set_zlim3d(-pi, 2*pi);"
   ]
  },
  {
   "cell_type": "markdown",
   "metadata": {},
   "source": [
    "#### Saving plots"
   ]
  },
  {
   "cell_type": "code",
   "execution_count": null,
   "metadata": {
    "collapsed": false,
    "jupyter": {
     "outputs_hidden": false
    }
   },
   "outputs": [],
   "source": [
    "%matplotlib inline\n",
    "fig = plt.figure()\n",
    "\n",
    "ax = fig.add_subplot(1,1,1, projection='3d')\n",
    "\n",
    "ax.plot_surface(X, Y, Z, rstride=4, cstride=4, alpha=0.25)\n",
    "cset = ax.contour(X, Y, Z, zdir='z', offset=-pi, cmap=plt.cm.coolwarm)\n",
    "cset = ax.contour(X, Y, Z, zdir='x', offset=-pi, cmap=plt.cm.coolwarm)\n",
    "cset = ax.contour(X, Y, Z, zdir='y', offset=3*pi, cmap=plt.cm.coolwarm)\n",
    "ax.view_init(45, 45)\n",
    "ax.set_xlim3d(-pi, 2*pi);\n",
    "ax.set_ylim3d(0, 3*pi);\n",
    "ax.set_zlim3d(-pi, 2*pi);\n",
    "fig.set_size_inches(10,10)\n",
    "fig.savefig('Fig1.pdf')"
   ]
  },
  {
   "cell_type": "code",
   "execution_count": null,
   "metadata": {
    "collapsed": false,
    "jupyter": {
     "outputs_hidden": false
    }
   },
   "outputs": [],
   "source": [
    "ls *pdf"
   ]
  },
  {
   "cell_type": "markdown",
   "metadata": {},
   "source": [
    "Other tutorials:  http://matplotlib.org/mpl_toolkits/mplot3d/tutorial.html"
   ]
  },
  {
   "cell_type": "markdown",
   "metadata": {},
   "source": [
    "#### Access and clear the current figure and axe"
   ]
  },
  {
   "cell_type": "code",
   "execution_count": null,
   "metadata": {
    "collapsed": false,
    "jupyter": {
     "outputs_hidden": false
    }
   },
   "outputs": [],
   "source": [
    "fig, ax = plt.subplots()\n",
    "print(plt.gca() is ax) # You can get the  current axes with gca\n",
    "print(plt.gcf() is fig) # The same for the current axes. \n",
    "# But it's preferable to store them in a variable when creating\n",
    "plt.clf() # clear the current figure\n",
    "plt.cla() # clear the current axes\n",
    "fig.clf() # clear a given figure\n",
    "ax.cla(); # clear a given axes"
   ]
  },
  {
   "cell_type": "markdown",
   "metadata": {},
   "source": [
    "#### What's happen when not in a Notebook? plt.show() and plt.ion() commands"
   ]
  },
  {
   "cell_type": "markdown",
   "metadata": {},
   "source": [
    "We are here in a Notebook, but most of the time, you will execute programs from a script or using the command line in a terminal.\n",
    "\n",
    "When using plot, scatter or any other plotting tool, the figure will not appear when typing the command, you need to send the _plt.show()_ command to pop-up it (or them if you did more than one figure). And you will loose the interactivity with the command line! You will recover it once the figure windows are closed.\n",
    "\n",
    "The way to change this behaviour is to call the _plt.ion()_ command (interactive On).\n",
    "\n",
    "If you are working within an ipython session created with the --pylab option, it is done by default.\n"
   ]
  }
 ],
 "metadata": {
  "kernelspec": {
   "display_name": "Python 3",
   "language": "python",
   "name": "python3"
  },
  "language_info": {
   "codemirror_mode": {
    "name": "ipython",
    "version": 3
   },
   "file_extension": ".py",
   "mimetype": "text/x-python",
   "name": "python",
   "nbconvert_exporter": "python",
   "pygments_lexer": "ipython3",
   "version": "3.7.6"
  }
 },
 "nbformat": 4,
 "nbformat_minor": 4
}

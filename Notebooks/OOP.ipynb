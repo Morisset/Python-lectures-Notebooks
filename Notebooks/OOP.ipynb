{
 "cells": [
  {
   "cell_type": "code",
   "execution_count": null,
   "metadata": {
    "collapsed": false,
    "jupyter": {
     "outputs_hidden": false
    }
   },
   "outputs": [],
   "source": [
    "# The following is to know when this notebook has been run and with which python version.\n",
    "import time, sys\n",
    "print(time.ctime())\n",
    "print(sys.version.split('|')[0])"
   ]
  },
  {
   "cell_type": "markdown",
   "metadata": {},
   "source": [
    "# G Object Oriented Programation. Objects, classes, etc..."
   ]
  },
  {
   "cell_type": "markdown",
   "metadata": {},
   "source": [
    "This is part of the Python lecture given by Christophe Morisset at IA-UNAM. More informations at: https://github.com/Morisset/Python-lectures-Notebooks"
   ]
  },
  {
   "cell_type": "code",
   "execution_count": null,
   "metadata": {
    "collapsed": false,
    "jupyter": {
     "outputs_hidden": false
    }
   },
   "outputs": [],
   "source": [
    "%matplotlib inline\n",
    "import numpy as np\n",
    "import matplotlib.pyplot as plt\n",
    "import os # We will need this latter\n",
    "from scipy.integrate import simps\n",
    "from urllib.request import urlopen\n",
    "# In python 2, it was:\n",
    "# from urllib2 import urlopen"
   ]
  },
  {
   "cell_type": "markdown",
   "metadata": {},
   "source": [
    "We want here to make some plots of atmosphere models that will be downloaded from internet. We need:\n",
    "    \n",
    "* Download the file\n",
    "* read it\n",
    "* plot it\n",
    "\n",
    "This can all be done in functions, and also in object."
   ]
  },
  {
   "cell_type": "markdown",
   "metadata": {},
   "source": [
    "### Functions"
   ]
  },
  {
   "cell_type": "markdown",
   "metadata": {},
   "source": [
    "Let's first see the way we can do it with functions:"
   ]
  },
  {
   "cell_type": "markdown",
   "metadata": {},
   "source": [
    "The files are located there: http://astro.uni-tuebingen.de/~rauch/TMAF/flux_He+C+N+O.html"
   ]
  },
  {
   "cell_type": "markdown",
   "metadata": {},
   "source": [
    "For exemple, a file is: http://astro.uni-tuebingen.de/~rauch/TMAF/NLTE/He+C+N+O/0050000_7.00_33_50_02_15.bin_0.1.gz\n",
    "We can download it using urllib2, putting this into a function:"
   ]
  },
  {
   "cell_type": "code",
   "execution_count": null,
   "metadata": {},
   "outputs": [],
   "source": [
    "def dlfile(filename):\n",
    "    stel_file = urlopen('http://astro.uni-tuebingen.de/~rauch/TMAF/NLTE/He+C+N+O/' + filename)\n",
    "    output = open(filename,'wb') #the file where we will put the data. b stands for binary, as it is a gzip file\n",
    "    output.write(stel_file.read()) # the reading of the distant file is redirected to the writting of the local one\n",
    "    output.close()"
   ]
  },
  {
   "cell_type": "code",
   "execution_count": null,
   "metadata": {},
   "outputs": [],
   "source": [
    "filename = '0050000_7.00_33_50_02_15.bin_0.1.gz'\n",
    "dlfile(filename)"
   ]
  },
  {
   "cell_type": "code",
   "execution_count": null,
   "metadata": {
    "collapsed": false,
    "jupyter": {
     "outputs_hidden": false
    }
   },
   "outputs": [],
   "source": [
    "! ls -l *gz"
   ]
  },
  {
   "cell_type": "code",
   "execution_count": null,
   "metadata": {
    "collapsed": false,
    "jupyter": {
     "outputs_hidden": false
    }
   },
   "outputs": [],
   "source": [
    "data = np.genfromtxt(filename, comments='*', names='wl, fl') # genfromtxt can read gzip files"
   ]
  },
  {
   "cell_type": "code",
   "execution_count": null,
   "metadata": {
    "collapsed": false,
    "jupyter": {
     "outputs_hidden": false
    }
   },
   "outputs": [],
   "source": [
    "data"
   ]
  },
  {
   "cell_type": "code",
   "execution_count": null,
   "metadata": {
    "collapsed": false,
    "jupyter": {
     "outputs_hidden": false
    }
   },
   "outputs": [],
   "source": [
    "plt.plot(data['wl'], data['fl']) # let's have a look at the data\n",
    "plt.xlabel(r'Wavelength [$\\AA$]');"
   ]
  },
  {
   "cell_type": "markdown",
   "metadata": {},
   "source": [
    "If we want to overplot another file, we only have to download it and follow the same process:"
   ]
  },
  {
   "cell_type": "code",
   "execution_count": null,
   "metadata": {},
   "outputs": [],
   "source": [
    "filename2 = '0110000_7.00_33_50_02_15.bin_0.1.gz'\n",
    "dlfile(filename2)"
   ]
  },
  {
   "cell_type": "code",
   "execution_count": null,
   "metadata": {},
   "outputs": [],
   "source": [
    "data2 = np.genfromtxt(filename2, comments='*', names='wl, fl') # data and data2 contains the 2 different data sets"
   ]
  },
  {
   "cell_type": "code",
   "execution_count": null,
   "metadata": {
    "collapsed": false,
    "jupyter": {
     "outputs_hidden": false
    }
   },
   "outputs": [],
   "source": [
    "plt.plot(data['wl'], data['fl'])\n",
    "plt.plot(data2['wl'], data2['fl']);"
   ]
  },
  {
   "cell_type": "code",
   "execution_count": null,
   "metadata": {
    "collapsed": false,
    "jupyter": {
     "outputs_hidden": false
    }
   },
   "outputs": [],
   "source": [
    "fig, ax = plt.subplots(figsize=(10,10))\n",
    "ax.plot(data['wl'], data['fl'])\n",
    "ax.plot(data2['wl'], data2['fl'])\n",
    "ax.set_yscale('log')\n",
    "ax.set_ylim(1e14, 1e22);"
   ]
  },
  {
   "cell_type": "markdown",
   "metadata": {},
   "source": [
    "Great, but it would be better if everything were in the same place. Making a function more complete that deal with everything:"
   ]
  },
  {
   "cell_type": "code",
   "execution_count": null,
   "metadata": {
    "collapsed": false,
    "jupyter": {
     "outputs_hidden": false
    }
   },
   "outputs": [],
   "source": [
    "def plot_spr(filename):\n",
    "    dlfile(filename) # download the file\n",
    "    data = np.genfromtxt(filename, comments='*', names='wl, fl') # read it\n",
    "    fig, ax = plt.subplots()\n",
    "    ax.plot(data['wl'], data['fl']) # plot it\n",
    "    ax.set_yscale('log') # use log axes\n",
    "    ax.set_ylim(1e14, 1e22)\n",
    "plot_spr(filename)"
   ]
  },
  {
   "cell_type": "markdown",
   "metadata": {},
   "source": [
    "The main problem here is to superimpose the 2 plots. We can define the axis object outside and send it to the function:"
   ]
  },
  {
   "cell_type": "code",
   "execution_count": null,
   "metadata": {
    "collapsed": false,
    "jupyter": {
     "outputs_hidden": false
    }
   },
   "outputs": [],
   "source": [
    "def plot_spr(filename, ax=None): # default is no axis sent to the function\n",
    "    dlfile(filename)\n",
    "    data = np.genfromtxt(filename, comments='*', names='wl, fl')\n",
    "    if ax is None: # make a figue if no axis is passed to the function\n",
    "        fig, ax = plt.subplots()\n",
    "    else:\n",
    "        fig = plt.gcf()\n",
    "    ax.plot(data['wl'], data['fl'])\n",
    "    ax.set_yscale('log')\n",
    "    ax.set_ylim(1e14, 1e22)\n",
    "   \n",
    "fig, ax = plt.subplots() # the figure and axis is buildt before calling the plotting function\n",
    "plot_spr(filename, ax=ax) # sending axis let the plots appear on the same figure\n",
    "plot_spr(filename2, ax=ax);"
   ]
  },
  {
   "cell_type": "code",
   "execution_count": null,
   "metadata": {
    "collapsed": false,
    "jupyter": {
     "outputs_hidden": false
    }
   },
   "outputs": [],
   "source": [
    "fig, (ax1, ax2) = plt.subplots(1, 2, figsize=(10, 4)) # the figure and axis is buildt before calling the plotting function\n",
    "plot_spr(filename, ax=ax1) # sending axis let the plots appear on the same figure\n",
    "plot_spr(filename2, ax=ax2)"
   ]
  },
  {
   "cell_type": "markdown",
   "metadata": {},
   "source": [
    "But now that everything is compact, we don't have access to the data, they are INSIDE the function..."
   ]
  },
  {
   "cell_type": "markdown",
   "metadata": {},
   "source": [
    "### Classes and Objects"
   ]
  },
  {
   "cell_type": "markdown",
   "metadata": {},
   "source": [
    "It's time to make a class and to instantiate objects.\n",
    "Classes are intelligent containers. The can hold variables and functions (called methods).\n",
    "The following terminology is from http://www.tutorialspoint.com/python/python_classes_objects.htm:\n",
    "\n",
    "\n",
    "* *Class*: A user-defined prototype for an object that defines a set of attributes that characterize any object of the class. The attributes are data members (class variables and instance variables) and methods, accessed via dot notation.\n",
    "* *Class variable or attribute*: A variable that is shared by all instances of a class. Class variables are defined within a class but outside any of the class's methods. Class variables aren't used as frequently as instance variables are.\n",
    "* *Data member*: A class variable or instance variable that holds data associated with a class and its objects.\n",
    "* *Function overloading*: The assignment of more than one behavior to a particular function. The operation performed varies by the types of objects (arguments) involved.\n",
    "* *Instance variable or attribute*: A variable that is defined inside a method and belongs only to the current instance of a class.\n",
    "* *Inheritance* : The transfer of the characteristics of a class to other classes that are derived from it.\n",
    "* *Instance*: An individual object of a certain class. An object obj that belongs to a class Circle, for example, is an instance of the class Circle.\n",
    "* *Instantiation* : The creation of an instance of a class.\n",
    "* *Method* : A special kind of function that is defined in a class definition.\n",
    "* *Object* : A unique instance of a data structure that's defined by its class. An object comprises both data members (class variables and instance variables) and methods.\n",
    "* *Operator overloading*: The assignment of more than one function to a particular operator."
   ]
  },
  {
   "cell_type": "code",
   "execution_count": null,
   "metadata": {},
   "outputs": [],
   "source": [
    "class Stel_Spectrum(object):\n",
    "    \"\"\"\n",
    "    This object downloads a file from http://astro.uni-tuebingen.de/~rauch/TMAF/NLTE/He+C+N+O/\n",
    "    and is able to make some plots.    \n",
    "    \"\"\"\n",
    "    def __init__(self, filename): # This function will be called at the instantiation of any object.\n",
    "        self.filename = filename # we put the file name value into an instance variable. That allows any method to access it.\n",
    "        self._dlfile() # calling a method (defined below). No need for argument, as filename is known\n",
    "        self.data = np.genfromtxt(self.filename, comments='*', names='wl, fl') # reading the data into an istance variable.\n",
    "        \n",
    "    def _dlfile(self): # method.\n",
    "        if not os.path.exists(self.filename): # only donwload if not yet on the disk\n",
    "            stel_file = urlopen('http://astro.uni-tuebingen.de/~rauch/TMAF/NLTE/He+C+N+O/' + \n",
    "                                        self.filename)\n",
    "            output = open(self.filename,'wb')\n",
    "            output.write(stel_file.read())\n",
    "            output.close()\n",
    "            \n",
    "    def plot_spr(self, ax=None): # another method. Used to plot\n",
    "        if ax is None:\n",
    "            fig, ax = plt.subplots()\n",
    "        else:\n",
    "            fig = plt.gcf()\n",
    "        ax.plot(self.data['wl'], self.data['fl'])\n",
    "        ax.set_yscale('log')\n",
    "        ax.set_ylim(1e14, 1e22)\n"
   ]
  },
  {
   "cell_type": "code",
   "execution_count": null,
   "metadata": {},
   "outputs": [],
   "source": [
    "sp1 = Stel_Spectrum(filename) # instantiation of an object from the Stel_Spectrum class\n",
    "sp2 = Stel_Spectrum(filename2) # another object. They have the same structure, but hols different data"
   ]
  },
  {
   "cell_type": "code",
   "execution_count": null,
   "metadata": {
    "collapsed": false,
    "jupyter": {
     "outputs_hidden": false
    }
   },
   "outputs": [],
   "source": [
    "print(sp1.filename) # access the instace variable\n",
    "print(sp2.filename)"
   ]
  },
  {
   "cell_type": "code",
   "execution_count": null,
   "metadata": {
    "collapsed": false,
    "jupyter": {
     "outputs_hidden": false
    }
   },
   "outputs": [],
   "source": [
    "sp1.TAB"
   ]
  },
  {
   "cell_type": "code",
   "execution_count": null,
   "metadata": {
    "collapsed": false,
    "jupyter": {
     "outputs_hidden": false
    }
   },
   "outputs": [],
   "source": [
    "sp2.data # the data are available."
   ]
  },
  {
   "cell_type": "code",
   "execution_count": null,
   "metadata": {
    "collapsed": false,
    "jupyter": {
     "outputs_hidden": false
    }
   },
   "outputs": [],
   "source": [
    "fig, ax = plt.subplots()\n",
    "sp1.plot_spr(ax=ax) # calling the metod\n",
    "sp2.plot_spr(ax=ax)"
   ]
  },
  {
   "cell_type": "code",
   "execution_count": null,
   "metadata": {
    "collapsed": false,
    "jupyter": {
     "outputs_hidden": false
    }
   },
   "outputs": [],
   "source": [
    "len(sp1.data) # the data from the object are like any other data."
   ]
  },
  {
   "cell_type": "markdown",
   "metadata": {},
   "source": [
    "We can add comments and a method that gives information about the object itself."
   ]
  },
  {
   "cell_type": "code",
   "execution_count": null,
   "metadata": {},
   "outputs": [],
   "source": [
    "class Stel_Spectrum(object):\n",
    "    \"\"\"\n",
    "    This object downloads a file from http://astro.uni-tuebingen.de/~rauch/TMAF/NLTE/He+C+N+O/\n",
    "    and is able to make some plots.    \n",
    "    \"\"\"\n",
    "    def __init__(self, filename):\n",
    "        \"\"\"\n",
    "        Initialisation of the Stel_Spectrum object.\n",
    "        Parameter:\n",
    "            - filename e.g. 0050000_7.00_33_50_02_15.bin_0.1.gz\n",
    "        \"\"\"\n",
    "        self.filename = filename\n",
    "        self.dlfile()\n",
    "        self.data = np.genfromtxt(filename, comments='*', names='wl, fl')\n",
    "        \n",
    "    def dlfile(self):\n",
    "        \"\"\"\n",
    "        Downloading file if not already here\n",
    "        \"\"\"\n",
    "        if not os.path.exists(self.filename):\n",
    "            print('Downloading {}.'.format(self.filename))\n",
    "            stel_file = urlopen('http://astro.uni-tuebingen.de/~rauch/TMAF/NLTE/He+C+N+O/' + self.filename)\n",
    "            output = open(self.filename,'wb')\n",
    "            output.write(stel_file.read())\n",
    "            output.close()\n",
    "        else:\n",
    "            print('{} already on disk.'.format(self.filename))\n",
    "            \n",
    "    def plot_spr(self, ax=None):\n",
    "        \"\"\"\n",
    "        Plot the spectrum.\n",
    "        Parameter:\n",
    "            - ax: an axis (optionnal). If None or absent, axis is created\n",
    "        \"\"\"\n",
    "        if ax is None:\n",
    "            fig, ax = plt.subplots()\n",
    "        ax.plot(self.data['wl'], self.data['fl'])\n",
    "        ax.set_yscale('log')\n",
    "        ax.set_ylim(1e14, 1e22)\n",
    "        \n",
    "    def print_info(self):\n",
    "        \"\"\"\n",
    "        Print out the filename and the number of points\n",
    "        \"\"\"\n",
    "        print('Filename: {0}, number of points: {1}'.format(self.filename, len(self.data)))"
   ]
  },
  {
   "cell_type": "code",
   "execution_count": null,
   "metadata": {
    "collapsed": false,
    "jupyter": {
     "outputs_hidden": false
    }
   },
   "outputs": [],
   "source": [
    "sp1 = Stel_Spectrum(filename) # we have to instatiate again to take the changes into account\n",
    "sp2 = Stel_Spectrum(filename2)\n",
    "sp1.print_info()\n",
    "sp2.print_info()"
   ]
  },
  {
   "cell_type": "code",
   "execution_count": null,
   "metadata": {
    "collapsed": false,
    "jupyter": {
     "outputs_hidden": false
    }
   },
   "outputs": [],
   "source": [
    "help(sp1) # the comments are easily accessible"
   ]
  },
  {
   "cell_type": "code",
   "execution_count": null,
   "metadata": {
    "collapsed": false,
    "jupyter": {
     "outputs_hidden": false
    }
   },
   "outputs": [],
   "source": [
    "help(sp1.plot_spr)"
   ]
  },
  {
   "cell_type": "code",
   "execution_count": null,
   "metadata": {},
   "outputs": [],
   "source": [
    "sp1.plot_spr?"
   ]
  },
  {
   "cell_type": "code",
   "execution_count": null,
   "metadata": {
    "collapsed": false,
    "jupyter": {
     "outputs_hidden": false
    }
   },
   "outputs": [],
   "source": [
    "print(sp1)"
   ]
  },
  {
   "cell_type": "markdown",
   "metadata": {},
   "source": [
    "Adding more method and changing the name of the data to wl and fl. We can accept T and logg to define the filename and download it. Some error catching process are implemented. We laso add a method to compute the integrale of the flux over the wavelengths."
   ]
  },
  {
   "cell_type": "code",
   "execution_count": null,
   "metadata": {
    "collapsed": false,
    "jupyter": {
     "outputs_hidden": false
    }
   },
   "outputs": [],
   "source": [
    "class Stel_Spectrum(object):\n",
    "    \"\"\"\n",
    "    This object downloads a file from http://astro.uni-tuebingen.de/~rauch/TMAF/NLTE/He+C+N+O/\n",
    "    and is able to make some plots.    \n",
    "    \"\"\"\n",
    "    def __init__(self, filename=None, T=None, logg=None, verbose=False):\n",
    "        \"\"\"\n",
    "        Initialisation of the Stel_Spectrum object.\n",
    "        Parameter:\n",
    "            - filename\n",
    "            - T: temperature in K, e.g. 150000\n",
    "            - logg: e.g. 7.5\n",
    "        The wl attribute is an array of wavelengths in Angstrom.\n",
    "        The fl attribute is the flux in erg/s/cm2/A\n",
    "        \"\"\"\n",
    "        self.verbose = verbose\n",
    "        if filename is None:\n",
    "            if T is not None and logg is not None:\n",
    "                self.T = T\n",
    "                self.logg = logg\n",
    "                self.filename = '0{0:06.0f}_{1:.2f}_33_50_02_15.bin_0.1.gz'.format(self.T, self.logg)\n",
    "            else:\n",
    "                raise TypeError(\"T and logg must be given\")\n",
    "        else:\n",
    "            self.filename = filename\n",
    "            self.T = float(filename.split('_')[0])\n",
    "            self.logg = float(filename.split('_')[1])\n",
    "        self.dlfile()\n",
    "        if self.file_found:\n",
    "            data = np.genfromtxt(self.filename, comments='*', names='wl, fl')\n",
    "            self.fl = data['fl']\n",
    "            self.wl = data['wl'] # in A\n",
    "            self.fl /= 1e8 # F LAMBDA  GIVEN IN ERG/CM**2/SEC/CM -> erg/s/cm2/A\n",
    "            if self.verbose:\n",
    "                print('Data from {} read.'.format(self.filename))\n",
    "        else:\n",
    "            self.wl = None\n",
    "            self.fl = None\n",
    "            \n",
    "    def dlfile(self):\n",
    "        \"\"\"\n",
    "        Downloading file if not already here. Put it in the curremt directory\n",
    "        \"\"\"\n",
    "        if not os.path.exists(self.filename):\n",
    "            if self.verbose:\n",
    "                print('Downloading {}'.format(self.filename))\n",
    "            try:\n",
    "                stel_file = urlopen('http://astro.uni-tuebingen.de/~rauch/TMAF/NLTE/He+C+N+O/' + \n",
    "                                            self.filename)\n",
    "                output = open(self.filename,'wb')\n",
    "                output.write(stel_file.read())\n",
    "                output.close()\n",
    "                self.file_found=True\n",
    "            except:\n",
    "                print('file {} not found'.format(self.filename))\n",
    "                self.file_found=False\n",
    "        else:\n",
    "            self.file_found=True\n",
    "                \n",
    "    def plot_spr(self, ax=None):\n",
    "        \"\"\"\n",
    "        Plot the spectrum.\n",
    "        Parameter:\n",
    "            - ax: an axis (optionnal). If Noe or absent, axis is created\n",
    "        \"\"\"\n",
    "        if self.wl is None:\n",
    "            print('No data to plot')\n",
    "            return\n",
    "        if ax is None:\n",
    "            fig, ax = plt.subplots()\n",
    "        ax.plot(self.wl, self.fl, label='T={0:.0f} kK, logg={1}'.format(self.T/1e3, self.logg))\n",
    "        ax.set_yscale('log')\n",
    "        ax.set_ylim(1e6, 1e14)\n",
    "        ax.set_xlabel('Wavelength (A)')\n",
    "        \n",
    "    def print_info(self):\n",
    "        \"\"\"\n",
    "        Print out the filename and the number of points\n",
    "        \"\"\"\n",
    "        print(self.__repr__())\n",
    "        \n",
    "    def __repr__(self):\n",
    "        \"\"\"\n",
    "        This is what is used when calling \"print <obj>\" or <obj> ENTER\n",
    "        \"\"\"\n",
    "        if self.wl is None:\n",
    "            return'Filename: {0}, No data'.format(self.filename)\n",
    "        else:\n",
    "            return'Filename: {0}, number of points: {1}'.format(self.filename, len(self.wl))\n",
    "    \n",
    "    def get_integ(self):\n",
    "        \"\"\"\n",
    "        Return the integral of Flambda over lambda, in erg/s/cm2\n",
    "        \"\"\"\n",
    "        if self.wl is None:\n",
    "            print('No data')\n",
    "            return None\n",
    "        return simps(self.fl, self.wl) # perform the integral\n",
    "        "
   ]
  },
  {
   "cell_type": "code",
   "execution_count": null,
   "metadata": {
    "collapsed": false,
    "jupyter": {
     "outputs_hidden": false
    }
   },
   "outputs": [],
   "source": [
    "sp1 = Stel_Spectrum(T=130000, logg=6)\n",
    "print(sp1)"
   ]
  },
  {
   "cell_type": "code",
   "execution_count": null,
   "metadata": {
    "collapsed": false,
    "jupyter": {
     "outputs_hidden": false
    }
   },
   "outputs": [],
   "source": [
    "spectra = [] # we create an empty list\n",
    "for T in np.linspace(40000, 190000, 16): # this is the list of available temperature (check the site)\n",
    "    spectra.append(Stel_Spectrum(T=T, logg=6, verbose=True)) # we fill the list with the objects for each temperature"
   ]
  },
  {
   "cell_type": "code",
   "execution_count": null,
   "metadata": {
    "collapsed": false,
    "jupyter": {
     "outputs_hidden": false
    }
   },
   "outputs": [],
   "source": [
    "spectra # the list hold 16 objects, each one with its own data and methods"
   ]
  },
  {
   "cell_type": "code",
   "execution_count": null,
   "metadata": {
    "collapsed": false,
    "jupyter": {
     "outputs_hidden": false
    }
   },
   "outputs": [],
   "source": [
    "fig, ax = plt.subplots(figsize=(16,10))\n",
    "for sp in spectra: # easy to loop on the objects\n",
    "    sp.plot_spr(ax=ax)\n",
    "ax.legend(loc=4);"
   ]
  },
  {
   "cell_type": "code",
   "execution_count": null,
   "metadata": {
    "collapsed": false,
    "jupyter": {
     "outputs_hidden": false
    }
   },
   "outputs": [],
   "source": [
    "for sp in spectra:\n",
    "    print(sp.T, sp.get_integ())"
   ]
  },
  {
   "cell_type": "code",
   "execution_count": null,
   "metadata": {
    "collapsed": false,
    "jupyter": {
     "outputs_hidden": false
    }
   },
   "outputs": [],
   "source": [
    "# using list comprehension to compute on the fly the coordinates of the plot:\n",
    "plt.semilogy([sp.T/1e3 for sp in spectra], [sp.get_integ() for sp in spectra])\n",
    "plt.xlabel('T [kK]');"
   ]
  },
  {
   "cell_type": "code",
   "execution_count": null,
   "metadata": {},
   "outputs": [],
   "source": [
    "# Better to put the values into a numpy array:\n",
    "Ts = np.array([sp.T for sp in spectra])\n",
    "Fs = np.array([sp.get_integ() for sp in spectra])"
   ]
  },
  {
   "cell_type": "code",
   "execution_count": null,
   "metadata": {
    "collapsed": false,
    "jupyter": {
     "outputs_hidden": false
    }
   },
   "outputs": [],
   "source": [
    "# check that the luminosity increase like sigma.T**4\n",
    "from astropy import __version__ as astropyversion\n",
    "print(astropyversion)"
   ]
  },
  {
   "cell_type": "code",
   "execution_count": null,
   "metadata": {
    "collapsed": false,
    "jupyter": {
     "outputs_hidden": false
    }
   },
   "outputs": [],
   "source": [
    "from astropy import constants # in real life, it is better to move this to the top of the program\n",
    "sigma = constants.sigma_sb.to('erg/(s K4 cm2)') # convert Steffen-Boltzmann constant into cgs units\n",
    "fig, ax = plt.subplots(figsize=(8,8))\n",
    "ax.loglog(Ts, Fs, 'ro', label='Flux from integral')\n",
    "ax.loglog(Ts, sigma.value * Ts**4 / np.pi, label=r'$\\sigma T^4 / \\pi$') # overplot sigma . T^4 / pi\n",
    "ax.legend(loc=2, fontsize=15)\n",
    "ax.set_xlabel('T [K]')\n",
    "ax.set_ylabel('Flux [erg/s/cm2]');"
   ]
  },
  {
   "cell_type": "markdown",
   "metadata": {},
   "source": [
    "### Using \\*args and **kwargs in functions"
   ]
  },
  {
   "cell_type": "markdown",
   "metadata": {},
   "source": [
    "This allows to pass arguments (without and with keyword respectively) to function. No need to know what are the arguments when desining the function."
   ]
  },
  {
   "cell_type": "code",
   "execution_count": null,
   "metadata": {
    "collapsed": false,
    "jupyter": {
     "outputs_hidden": false
    }
   },
   "outputs": [],
   "source": [
    "class Stel_Spectrum(object):\n",
    "    \"\"\"\n",
    "    This object downloads a file from http://astro.uni-tuebingen.de/~rauch/TMAF/NLTE/He+C+N+O/\n",
    "    and is able to make some plots.    \n",
    "    \"\"\"\n",
    "    def __init__(self, filename=None, T=None, logg=None):\n",
    "        \"\"\"\n",
    "        Initialisation of the Stel_Spectrum object.\n",
    "        Parameter:\n",
    "            - filename\n",
    "            - T: temperature in K, e.g. 150000\n",
    "            - logg: e.g. 7.5\n",
    "        The wl variable is an array of wavelengths in Angstrom.\n",
    "        The fl variable is the flux in erg/s/cm2/A\n",
    "        \"\"\"\n",
    "        if filename is None:\n",
    "            if T is not None and logg is not None:\n",
    "                self.T = T\n",
    "                self.logg = logg\n",
    "                self.filename = '0{0:06.0f}_{1:.2f}_33_50_02_15.bin_0.1.gz'.format(self.T, self.logg)\n",
    "            else:\n",
    "                raise TypeError(\"T and logg must be given\")\n",
    "        else:\n",
    "            self.filename = filename\n",
    "            self.T = float(filename.split('_')[0])\n",
    "            self.logg = float(filename.split('_')[1])\n",
    "        self.dlfile()\n",
    "        if self.file_found:\n",
    "            data = np.genfromtxt(self.filename, comments='*', names='wl, fl')\n",
    "            self.fl = data['fl']\n",
    "            self.wl = data['wl'] # in A\n",
    "            self.fl /= 1e8 # F LAMBDA  GIVEN IN ERG/CM**2/SEC/CM -> erg/s/cm2/A\n",
    "        else:\n",
    "            self.wl = None\n",
    "            self.fl = None\n",
    "            \n",
    "    def dlfile(self):\n",
    "        \"\"\"\n",
    "        Downloading file if not already here. Put it in the curremt directory\n",
    "        \"\"\"\n",
    "        if not os.path.exists(self.filename):\n",
    "            print('Downloading {}'.format(self.filename))\n",
    "            try:\n",
    "                stel_file = urlopen('http://astro.uni-tuebingen.de/~rauch/TMAF/NLTE/He+C+N+O/' + \n",
    "                                            self.filename)\n",
    "                output = open(self.filename,'wb')\n",
    "                output.write(stel_file.read())\n",
    "                output.close()\n",
    "                self.file_found=True\n",
    "            except:\n",
    "                print('file {} not found'.format(self.filename))\n",
    "                self.file_found=False\n",
    "        else:\n",
    "            self.file_found=True\n",
    "                \n",
    "    def plot_spr(self, ax=None, *args, **kwargs):\n",
    "        \"\"\"\n",
    "        Plot the spectrum.\n",
    "        Parameter:\n",
    "            - ax: an axis (optionnal). If Noe or absent, axis is created\n",
    "            - any extra parameter is passed to ax.plot\n",
    "        \"\"\"\n",
    "        if self.wl is None:\n",
    "            print('No data to plot')\n",
    "            return\n",
    "        if ax is None:\n",
    "            fig, ax = plt.subplots()\n",
    "        ax.plot(self.wl, self.fl,\n",
    "                label='T3={0:.0f}, logg={1}'.format(self.T/1e3, self.logg),\n",
    "                *args, **kwargs) # Here are the transmissions of extra parameters to plot\n",
    "        ax.set_yscale('log')\n",
    "        ax.set_ylim(1e6, 1e14)\n",
    "        ax.set_xlabel('Wavelength (A)')\n",
    "        \n",
    "    def print_info(self):\n",
    "        \"\"\"\n",
    "        Print out the filename and the number of points\n",
    "        \"\"\"\n",
    "        print(self.__repr__())\n",
    "        \n",
    "    def __repr__(self):\n",
    "        \"\"\"\n",
    "        This is what is used when calling \"print <obj>\" or <obj> ENTER\n",
    "        \"\"\"\n",
    "        if self.wl is None:\n",
    "            return'Filename: {0}, No data'.format(self.filename)\n",
    "        else:\n",
    "            return'Filename: {0}, number of points: {1}'.format(self.filename, len(self.wl))\n",
    "    \n",
    "    def get_integ(self):\n",
    "        \"\"\"\n",
    "        Return the integral of Flambda over lambda, in erg/s/cm2\n",
    "        \"\"\"\n",
    "        if self.wl is None:\n",
    "            print('No data')\n",
    "            return None\n",
    "        return simps(self.fl, self.wl) # perform the integral\n",
    "        "
   ]
  },
  {
   "cell_type": "code",
   "execution_count": null,
   "metadata": {
    "collapsed": false,
    "jupyter": {
     "outputs_hidden": false
    }
   },
   "outputs": [],
   "source": [
    "sp1 = Stel_Spectrum(T=100000, logg=5)\n",
    "print(sp1)\n",
    "fig, ax = plt.subplots()\n",
    "sp1.plot_spr(ax, 'r', linewidth=2, linestyle='--') # any extra argument is passed to plot"
   ]
  },
  {
   "cell_type": "markdown",
   "metadata": {},
   "source": [
    "### Class variables or class attributes"
   ]
  },
  {
   "cell_type": "markdown",
   "metadata": {},
   "source": [
    "They are known and share between all the instanciations of a class. Usefull to count the number of objects of the same class."
   ]
  },
  {
   "cell_type": "code",
   "execution_count": null,
   "metadata": {},
   "outputs": [],
   "source": [
    "class Stel_Spectrum(object):\n",
    "    \"\"\"\n",
    "    This object downloads a file from http://astro.uni-tuebingen.de/~rauch/TMAF/NLTE/He+C+N+O/\n",
    "    and is able to make some plots.    \n",
    "    \"\"\"\n",
    "    \n",
    "    spec_count = 0 # This attibute is at the level of the class, not of the object.\n",
    "    def __init__(self, filename=None, T=None, logg=None, verbose=False):\n",
    "        \"\"\"\n",
    "        Initialisation of the Stel_Spectrum object.\n",
    "        Parameter:\n",
    "            - filename\n",
    "            - T: temperature in K, e.g. 150000\n",
    "            - logg: e.g. 7.5\n",
    "        The wl variable is an array of wavelengths in Angstrom.\n",
    "        The fl variable is the flux in erg/s/cm2/A\n",
    "        \"\"\"\n",
    "        self.verbose = verbose\n",
    "        if filename is None:\n",
    "            if T is not None and logg is not None:\n",
    "                self.T = T\n",
    "                self.logg = logg\n",
    "                self.filename = '0{0:06.0f}_{1:.2f}_33_50_02_15.bin_0.1.gz'.format(self.T, self.logg)\n",
    "            else:\n",
    "                raise TypeError(\"T and logg must be given\")\n",
    "        else:\n",
    "            self.filename = filename\n",
    "            self.T = float(filename.split('_')[0])\n",
    "            self.logg = float(filename.split('_')[1])\n",
    "        self.dlfile()\n",
    "        if self.file_found:\n",
    "            data = np.genfromtxt(self.filename, comments='*', names='wl, fl')\n",
    "            self.fl = data['fl']\n",
    "            self.wl = data['wl'] # in A\n",
    "            self.fl /= 1e8 # F LAMBDA  GIVEN IN ERG/CM**2/SEC/CM -> erg/s/cm2/A\n",
    "            if verbose:\n",
    "                print('Data read')\n",
    "        else:\n",
    "            self.wl = None\n",
    "            self.fl = None\n",
    "        Stel_Spectrum.spec_count += 1\n",
    "        if self.verbose:\n",
    "            print('Number of spectra: {}'.format(Stel_Spectrum.spec_count))\n",
    "            \n",
    "    def dlfile(self):\n",
    "        \"\"\"\n",
    "        Downloading file if not already here. Put it in the curremt directory\n",
    "        \"\"\"\n",
    "        if not os.path.exists(self.filename):\n",
    "            print('Downloading {}'.format(self.filename))\n",
    "            try:\n",
    "                stel_file = urlopen('http://astro.uni-tuebingen.de/~rauch/TMAF/NLTE/He+C+N+O/' + \n",
    "                                            self.filename)\n",
    "                output = open(self.filename,'wb')\n",
    "                output.write(stel_file.read())\n",
    "                output.close()\n",
    "                self.file_found=True\n",
    "            except:\n",
    "                print('file {} not found'.format(self.filename))\n",
    "                self.file_found=False\n",
    "        else:\n",
    "            self.file_found=True\n",
    "                \n",
    "    def plot_spr(self, ax=None, *args, **kwargs):\n",
    "        \"\"\"\n",
    "        Plot the spectrum.\n",
    "        Parameter:\n",
    "            - ax: an axis (optionnal). If None or absent, axis is created\n",
    "            - any extra parameter is passed to ax.plot\n",
    "        \"\"\"\n",
    "        if self.wl is None:\n",
    "            print('No data to plot')\n",
    "            return\n",
    "        if ax is None:\n",
    "            fig, ax = plt.subplots()\n",
    "        ax.plot(self.wl, self.fl,\n",
    "                label='T3={0:.0f}, logg={1}'.format(self.T/1e3, self.logg),\n",
    "                *args, **kwargs) # Here are the transmissions of extra parameters to plot\n",
    "        ax.set_yscale('log')\n",
    "        ax.set_ylim(1e6, 1e14)\n",
    "        ax.set_xlabel('Wavelength (A)')\n",
    "        \n",
    "    def print_info(self):\n",
    "        \"\"\"\n",
    "        Print out the filename and the number of points\n",
    "        \"\"\"\n",
    "        print(self.__repr__())\n",
    "        \n",
    "    def __repr__(self):\n",
    "        \"\"\"\n",
    "        This is what is used when calling \"print <obj>\" or <obj> ENTER\n",
    "        \"\"\"\n",
    "        if self.wl is None:\n",
    "            return'Filename: {0}, No data'.format(self.filename)\n",
    "        else:\n",
    "            return'Filename: {0}, number of points: {1}'.format(self.filename, len(self.wl))\n",
    "    \n",
    "    def get_integ(self):\n",
    "        \"\"\"\n",
    "        Return the integral of Flambda over lambda, in erg/s/cm2\n",
    "        \"\"\"\n",
    "        if self.wl is None:\n",
    "            print('No data')\n",
    "            return None\n",
    "        return simps(self.fl, self.wl) # perform the integral\n",
    "    \n",
    "    def __del__(self):\n",
    "        Stel_Spectrum.spec_count -= 1"
   ]
  },
  {
   "cell_type": "code",
   "execution_count": null,
   "metadata": {
    "collapsed": false,
    "jupyter": {
     "outputs_hidden": false
    }
   },
   "outputs": [],
   "source": [
    "sp1 = Stel_Spectrum(T=100000, logg=5, verbose=True)\n",
    "sp2 = Stel_Spectrum(T=100000, logg=6, verbose=True)\n",
    "sp3 = Stel_Spectrum(T=100000, logg=7, verbose=True)\n",
    "print(Stel_Spectrum.spec_count)\n",
    "print(sp3.spec_count)"
   ]
  },
  {
   "cell_type": "code",
   "execution_count": null,
   "metadata": {
    "collapsed": false,
    "jupyter": {
     "outputs_hidden": false
    }
   },
   "outputs": [],
   "source": [
    "del sp1\n",
    "print(Stel_Spectrum.spec_count)"
   ]
  },
  {
   "cell_type": "code",
   "execution_count": null,
   "metadata": {
    "collapsed": false,
    "jupyter": {
     "outputs_hidden": false
    }
   },
   "outputs": [],
   "source": [
    "for logg in (5, 6, 7, 8):\n",
    "    sp = Stel_Spectrum(T=100000, logg=logg)\n",
    "print(Stel_Spectrum.spec_count) # the deleted objects are not count (it would have been the case without the __del__ method)"
   ]
  },
  {
   "cell_type": "code",
   "execution_count": null,
   "metadata": {
    "collapsed": false,
    "jupyter": {
     "outputs_hidden": false
    }
   },
   "outputs": [],
   "source": [
    "sp = 'tralala'\n",
    "print(Stel_Spectrum.spec_count)"
   ]
  },
  {
   "cell_type": "markdown",
   "metadata": {},
   "source": [
    "That can be used for example to change a value for a class variable used everywhere (e.g. the reddening correction to be applied to all the spectra before plotting them...)"
   ]
  },
  {
   "cell_type": "markdown",
   "metadata": {},
   "source": [
    "### Adding functionnality to classes and objects (monkey-patch)"
   ]
  },
  {
   "cell_type": "code",
   "execution_count": null,
   "metadata": {
    "collapsed": false,
    "jupyter": {
     "outputs_hidden": false
    }
   },
   "outputs": [],
   "source": [
    "sp1 = Stel_Spectrum(T=100000, logg=5) # Instanciation of a class\n",
    "def print_ok(): # defining a function outside the class\n",
    "    print('ok')    \n",
    "sp1.print_ok = print_ok # include the function to the object\n",
    "sp1.print_ok() # works, the instance is modified"
   ]
  },
  {
   "cell_type": "code",
   "execution_count": null,
   "metadata": {
    "collapsed": false,
    "jupyter": {
     "outputs_hidden": false
    }
   },
   "outputs": [],
   "source": [
    "def print_ok2(self):\n",
    "    print(self.T)    \n",
    "Stel_Spectrum.print_ok2 = print_ok2 # include the function to the class\n",
    "sp1.print_ok2() # the class has been modified, and it applies immediatly on the already instatiated objects\n",
    "\n",
    "print_ok2(sp1)"
   ]
  },
  {
   "cell_type": "code",
   "execution_count": null,
   "metadata": {},
   "outputs": [],
   "source": [
    "def print_info_ori(self):\n",
    "    print(self.__repr__())\n",
    "Stel_Spectrum.print_info_ori = print_info_ori\n",
    "\n",
    "def print_info(self):\n",
    "    print('NEW ONE: ',self.__repr__())\n",
    "Stel_Spectrum.print_info = print_info\n",
    "sp3 = Stel_Spectrum(T=100000, logg=6)\n",
    "sp3.print_info_ori()\n",
    "sp3.print_info()"
   ]
  },
  {
   "cell_type": "code",
   "execution_count": null,
   "metadata": {
    "collapsed": false,
    "jupyter": {
     "outputs_hidden": false
    }
   },
   "outputs": [],
   "source": [
    "sp2 = Stel_Spectrum(T=100000, logg=6)\n",
    "sp2.print_ok2()\n",
    "sp2.print_ok() # ERROR : the print_ok was only included to an object, not to the class"
   ]
  },
  {
   "cell_type": "code",
   "execution_count": null,
   "metadata": {
    "collapsed": false,
    "jupyter": {
     "outputs_hidden": false
    }
   },
   "outputs": [],
   "source": [
    "def print_T(self): # self could have been named otherwise\n",
    "    print(self.T)\n",
    "sp1.print_T = print_T # adding to the object\n",
    "sp1.print_T() # ERROR: the object has no self reference"
   ]
  },
  {
   "cell_type": "code",
   "execution_count": null,
   "metadata": {
    "collapsed": false,
    "jupyter": {
     "outputs_hidden": false
    }
   },
   "outputs": [],
   "source": [
    "Stel_Spectrum.print_T = print_T # Adding to the class\n",
    "sp2 = Stel_Spectrum(T=100000, logg=5) # works immediatly\n",
    "sp2.print_T()"
   ]
  },
  {
   "cell_type": "code",
   "execution_count": null,
   "metadata": {
    "collapsed": false,
    "jupyter": {
     "outputs_hidden": false
    }
   },
   "outputs": [],
   "source": [
    "def print_T(self): # changing the definition of print_T\n",
    "    print('T={}'.format(self.T))    \n",
    "sp2.print_T() # does NOT affect the class nor the object"
   ]
  },
  {
   "cell_type": "code",
   "execution_count": null,
   "metadata": {
    "collapsed": false,
    "jupyter": {
     "outputs_hidden": false
    }
   },
   "outputs": [],
   "source": [
    "Stel_Spectrum.print_T = print_T # Adding to the class\n",
    "sp2.print_T() # now it changes the behaviour"
   ]
  },
  {
   "cell_type": "code",
   "execution_count": null,
   "metadata": {
    "collapsed": false,
    "jupyter": {
     "outputs_hidden": false
    }
   },
   "outputs": [],
   "source": [
    "# The same function can also be called passing the object. Good for testing and developping\n",
    "print_T(sp2)"
   ]
  },
  {
   "cell_type": "markdown",
   "metadata": {},
   "source": [
    "The monkey patch is usefull for testing purpose. When everything is working fine, better to incorporate the method to the class definition."
   ]
  },
  {
   "cell_type": "markdown",
   "metadata": {},
   "source": [
    "### Class inheritance"
   ]
  },
  {
   "cell_type": "markdown",
   "metadata": {},
   "source": [
    "This is very easy to create a new class from an existing one."
   ]
  },
  {
   "cell_type": "code",
   "execution_count": null,
   "metadata": {},
   "outputs": [],
   "source": [
    "class Stel_Sp2(Stel_Spectrum):\n",
    "\n",
    "    def __init__(self, *args, **kwds):\n",
    "        super(Stel_Sp2, self).__init__(*args, **kwds) \n",
    "        \n",
    "    def print_logg(self):\n",
    "        print('logg = {}'.format(self.logg))"
   ]
  },
  {
   "cell_type": "code",
   "execution_count": null,
   "metadata": {
    "collapsed": false,
    "jupyter": {
     "outputs_hidden": false
    }
   },
   "outputs": [],
   "source": [
    "print(filename)\n",
    "sp2 = Stel_Sp2(filename) \n",
    "sp2.plot_spr()\n",
    "sp2.print_logg()"
   ]
  },
  {
   "cell_type": "code",
   "execution_count": null,
   "metadata": {
    "collapsed": false,
    "jupyter": {
     "outputs_hidden": false
    }
   },
   "outputs": [],
   "source": [
    "# One can even overwrite methods\n",
    "class Stel_Sp2(Stel_Spectrum):\n",
    "\n",
    "    def __init__(self, *args, **kwds):\n",
    "        super(Stel_Sp2, self).__init__(*args, **kwds) \n",
    "        \n",
    "    def print_logg(self):\n",
    "        print('logg = {}'.format(self.logg))\n",
    "    \n",
    "    def print_info(self):\n",
    "        \"\"\"\n",
    "        Print out new information\n",
    "        \"\"\"\n",
    "        print('File: {}, T={}, logg={}'.format(filename, self.T, self.logg))\n",
    "\n",
    "sp1 = Stel_Spectrum(T=100000, logg=5) \n",
    "sp2 = Stel_Sp2(T=100000, logg=5) \n",
    "sp1.print_info()\n",
    "sp2.print_info()"
   ]
  },
  {
   "cell_type": "markdown",
   "metadata": {},
   "source": [
    "One can mix inheritances, using multiple parents to generate children (!). A lot of examples on the web..."
   ]
  },
  {
   "cell_type": "markdown",
   "metadata": {},
   "source": [
    "### Properties"
   ]
  },
  {
   "cell_type": "markdown",
   "metadata": {},
   "source": [
    "It is sometimes useful to have things that behave like attributes (print A.b, A.c = 2), but that call some routines. This is the goal of the properties."
   ]
  },
  {
   "cell_type": "markdown",
   "metadata": {},
   "source": [
    "For example here, we want the data to be updated if one change T or logg."
   ]
  },
  {
   "cell_type": "code",
   "execution_count": null,
   "metadata": {},
   "outputs": [],
   "source": [
    "class Stel_Spectrum(object):\n",
    "    \"\"\"\n",
    "    This object downloads a file from http://astro.uni-tuebingen.de/~rauch/TMAF/NLTE/He+C+N+O/\n",
    "    and is able to make some plots.    \n",
    "    \"\"\"\n",
    "    \n",
    "    spec_count = 0 # This attibute is at the level of the class, not of the object.\n",
    "    def __init__(self, filename=None, T=None, logg=None, verbose=False):\n",
    "        \"\"\"\n",
    "        Initialisation of the Stel_Spectrum object.\n",
    "        Parameter:\n",
    "            - filename\n",
    "            - T: temperature in K, e.g. 150000\n",
    "            - logg: e.g. 7.5\n",
    "            - verbose: if True, some info are printed out\n",
    "        The wl variable is an array of wavelengths in Angstrom.\n",
    "        The fl variable is the flux in erg/s/cm2/A\n",
    "        The variables T and logg are properties: changing them will reload the data\n",
    "        \"\"\"\n",
    "        self.verbose = verbose\n",
    "        if filename is None:\n",
    "            if T is not None and logg is not None:\n",
    "                self.__T = T # We need to initialize the hidden values, as logg is still not defined\n",
    "                self.logg = logg\n",
    "                self.filename = '0{0:06.0f}_{1:.2f}_33_50_02_15.bin_0.1.gz'.format(self.T, self.logg)\n",
    "            else:\n",
    "                raise TypeError(\"T and logg must be given\")\n",
    "        else:\n",
    "            self.filename = filename\n",
    "            self.__T = float(filename.split('_')[0]) # We need to initialize the hidden values, as logg is still not defined\n",
    "            self.logg = float(filename.split('_')[1])\n",
    "        Stel_Spectrum.spec_count += 1\n",
    "        if self.verbose:\n",
    "            print('Instantiation done')\n",
    "            \n",
    "    def dlfile(self):\n",
    "        \"\"\"\n",
    "        Downloading file if not already here. Put it in the current directory\n",
    "        \"\"\"\n",
    "        if not os.path.exists(self.filename):\n",
    "            if self.verbose:\n",
    "                print('Downloading {}'.format(self.filename))\n",
    "            try:\n",
    "                stel_file = urlopen('http://astro.uni-tuebingen.de/~rauch/TMAF/NLTE/He+C+N+O/' + \n",
    "                                            self.filename)\n",
    "                output = open(self.filename,'wb')\n",
    "                output.write(stel_file.read())\n",
    "                output.close()\n",
    "                self.file_found=True\n",
    "            except:\n",
    "                if self.verbose:\n",
    "                    print('file {} not found'.format(self.filename))\n",
    "                self.file_found=False\n",
    "        else:\n",
    "            if self.verbose:\n",
    "                print('{} already on disk'.format(self.filename))\n",
    "            self.file_found=True\n",
    "                \n",
    "    def read_data(self):\n",
    "        \"\"\"\n",
    "        read the data from the file\n",
    "        \"\"\"\n",
    "        if self.file_found:\n",
    "            data = np.genfromtxt(self.filename, comments='*', names='wl, fl')\n",
    "            self.fl = data['fl']\n",
    "            self.wl = data['wl'] # in A\n",
    "            self.fl /= 1e8 # F LAMBDA  GIVEN IN ERG/CM**2/SEC/CM -> erg/s/cm2/A\n",
    "            if self.verbose:\n",
    "                print('Read data from {}'.format(self.filename))\n",
    "        else:\n",
    "            if self.verbose:\n",
    "                print('file not found {}'.format(self.filename))\n",
    "            self.wl = None\n",
    "            self.fl = None\n",
    "        \n",
    "    def plot_spr(self, ax=None, *args, **kwargs):\n",
    "        \"\"\"\n",
    "        Plot the spectrum.\n",
    "        Parameter:\n",
    "            - ax: an axis (optionnal). If Noe or absent, axis is created\n",
    "            - any extra parameter is passed to ax.plot\n",
    "        \"\"\"\n",
    "        if self.wl is None:\n",
    "            print('No data to plot')\n",
    "            return\n",
    "        if ax is None:\n",
    "            fig, ax = plt.subplots()\n",
    "        ax.plot(self.wl, self.fl,\n",
    "                label='T3={0:.0f}, logg={1}'.format(self.T/1e3, self.logg),\n",
    "                *args, **kwargs) # Here are the transmissions of extra parameters to plot\n",
    "        ax.set_yscale('log')\n",
    "        ax.set_ylim(1e6, 1e14)\n",
    "        ax.set_xlabel('Wavelength (A)')\n",
    "        \n",
    "    def get_integ(self):\n",
    "        \"\"\"\n",
    "        Return the integral of Flambda over lambda, in erg/s/cm2\n",
    "        \"\"\"\n",
    "        if self.wl is None:\n",
    "            print('No data')\n",
    "            return None\n",
    "        return simps(self.fl, self.wl) # perform the integral\n",
    "    \n",
    "    def __getT(self): \n",
    "        return self.__T\n",
    "    \n",
    "    def __setT(self, value): \n",
    "        if not isinstance(value, (int, float)): # check the type of the input\n",
    "            raise TypeError('T must be an integer or a float')\n",
    "        if float(value) not in np.linspace(40000, 190000, 16): # check the value of the input\n",
    "            raise ValueError('T value must be between 40000 and 190000K, by 10000K steps')\n",
    "        elif self.__T != value:\n",
    "            self.__T = value\n",
    "            self.filename = '0{0:06.0f}_{1:.2f}_33_50_02_15.bin_0.1.gz'.format(self.T, self.logg)\n",
    "            self.dlfile() # will download new data\n",
    "            self.read_data() # will update the data\n",
    "        \n",
    "    def __delT(self): \n",
    "        print('T is needed')\n",
    "        \n",
    "    T = property(__getT, __setT, __delT, \"Stellar effective temperature in K\")\n",
    "    \n",
    "    def __getlogg(self): \n",
    "        return self.__logg\n",
    "    \n",
    "    def __setlogg(self, value):\n",
    "        try:\n",
    "            self.__logg \n",
    "        except:\n",
    "            self.__logg = -1\n",
    "        if not isinstance(value, (int, float)):\n",
    "            raise TypeError('logg must be an integer or a float')\n",
    "        if float(value) not in (-1., 5., 6., 7. ,8., 9.):\n",
    "            raise ValueError('Error, logg must be 6, 7, 8, or 9')\n",
    "            self.__logg = None\n",
    "        elif self.__logg != value:\n",
    "            self.__logg = value\n",
    "            self.filename = '0{0:06.0f}_{1:.2f}_33_50_02_15.bin_0.1.gz'.format(self.T, self.logg)\n",
    "            self.dlfile() # will download new data\n",
    "            self.read_data() # will update the data\n",
    "        \n",
    "    def __dellogg(self): \n",
    "        print('logg is needed')\n",
    "        \n",
    "    logg = property(__getlogg, __setlogg, __dellogg, \"Stellar logg\")\n",
    "\n",
    "    def print_info(self):\n",
    "        \"\"\"\n",
    "        Print out the filename and the number of points\n",
    "        \"\"\"\n",
    "        print(self.__repr__())\n",
    "        \n",
    "    def __repr__(self):\n",
    "        \"\"\"\n",
    "        This is what is used when calling \"print <obj>\" or <obj> ENTER\n",
    "        \"\"\"\n",
    "        if self.wl is None:\n",
    "            return'Filename: {0}, No data'.format(self.filename)\n",
    "        else:\n",
    "            return'Filename: {0}, number of points: {1}'.format(self.filename, len(self.wl))\n",
    "    \n",
    "    def __del__(self):\n",
    "        Stel_Spectrum.spec_count -= 1"
   ]
  },
  {
   "cell_type": "code",
   "execution_count": null,
   "metadata": {
    "collapsed": false,
    "jupyter": {
     "outputs_hidden": false
    }
   },
   "outputs": [],
   "source": [
    "sp2 = Stel_Spectrum(T=50000, logg=6, verbose=True)\n",
    "print(sp2.T)\n",
    "sp2.plot_spr()"
   ]
  },
  {
   "cell_type": "code",
   "execution_count": null,
   "metadata": {
    "collapsed": false,
    "jupyter": {
     "outputs_hidden": false
    }
   },
   "outputs": [],
   "source": [
    "# The properties are used to control type and values of the inputs\n",
    "sp2.T = 1800"
   ]
  },
  {
   "cell_type": "code",
   "execution_count": null,
   "metadata": {
    "collapsed": false,
    "jupyter": {
     "outputs_hidden": false
    }
   },
   "outputs": [],
   "source": [
    "sp2.logg = 'tralala'"
   ]
  },
  {
   "cell_type": "code",
   "execution_count": null,
   "metadata": {
    "collapsed": false,
    "jupyter": {
     "outputs_hidden": false
    }
   },
   "outputs": [],
   "source": [
    "sp2.T = 180000\n",
    "sp2.logg = 7\n",
    "print(sp2)\n",
    "print(sp2.T)"
   ]
  },
  {
   "cell_type": "code",
   "execution_count": null,
   "metadata": {
    "collapsed": false,
    "jupyter": {
     "outputs_hidden": false
    }
   },
   "outputs": [],
   "source": [
    "sp2.plot_spr()"
   ]
  },
  {
   "cell_type": "code",
   "execution_count": null,
   "metadata": {
    "collapsed": false,
    "jupyter": {
     "outputs_hidden": false
    }
   },
   "outputs": [],
   "source": [
    "del sp2.T"
   ]
  },
  {
   "cell_type": "code",
   "execution_count": null,
   "metadata": {
    "collapsed": false,
    "jupyter": {
     "outputs_hidden": false
    }
   },
   "outputs": [],
   "source": [
    "sp2.T"
   ]
  },
  {
   "cell_type": "code",
   "execution_count": null,
   "metadata": {},
   "outputs": [],
   "source": [
    "del sp2.filename"
   ]
  },
  {
   "cell_type": "code",
   "execution_count": null,
   "metadata": {
    "collapsed": false,
    "jupyter": {
     "outputs_hidden": false
    }
   },
   "outputs": [],
   "source": [
    "sp2.filename"
   ]
  },
  {
   "cell_type": "code",
   "execution_count": null,
   "metadata": {},
   "outputs": [],
   "source": [
    "print(sp2)"
   ]
  },
  {
   "cell_type": "code",
   "execution_count": null,
   "metadata": {
    "collapsed": false,
    "jupyter": {
     "outputs_hidden": false
    }
   },
   "outputs": [],
   "source": [
    "print(sp2.__T)"
   ]
  },
  {
   "cell_type": "code",
   "execution_count": null,
   "metadata": {},
   "outputs": [],
   "source": [
    "sp2.T?"
   ]
  },
  {
   "cell_type": "code",
   "execution_count": null,
   "metadata": {},
   "outputs": [],
   "source": [
    "sp2.fl?"
   ]
  }
 ],
 "metadata": {
  "kernelspec": {
   "display_name": "Python 3",
   "language": "python",
   "name": "python3"
  },
  "language_info": {
   "codemirror_mode": {
    "name": "ipython",
    "version": 3
   },
   "file_extension": ".py",
   "mimetype": "text/x-python",
   "name": "python",
   "nbconvert_exporter": "python",
   "pygments_lexer": "ipython3",
   "version": "3.7.9"
  }
 },
 "nbformat": 4,
 "nbformat_minor": 4
}

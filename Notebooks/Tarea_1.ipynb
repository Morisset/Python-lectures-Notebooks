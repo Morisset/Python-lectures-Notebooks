{
 "cells": [
  {
   "cell_type": "markdown",
   "metadata": {},
   "source": [
    "## Tarea 1. Usar las celdas vacias para contestar."
   ]
  },
  {
   "cell_type": "markdown",
   "metadata": {},
   "source": [
    "ESCRIBIR SU NOMBRE ACA: "
   ]
  },
  {
   "cell_type": "markdown",
   "metadata": {},
   "source": []
  },
  {
   "cell_type": "markdown",
   "metadata": {},
   "source": [
    "Crear una lista con los valores 1, 6, 23, -3.14 y 7.8. Llamar esta lista L."
   ]
  },
  {
   "cell_type": "code",
   "execution_count": null,
   "metadata": {},
   "outputs": [],
   "source": []
  },
  {
   "cell_type": "markdown",
   "metadata": {},
   "source": [
    "Agregar a esta lista los valores 5.5 y -123"
   ]
  },
  {
   "cell_type": "code",
   "execution_count": null,
   "metadata": {},
   "outputs": [],
   "source": []
  },
  {
   "cell_type": "markdown",
   "metadata": {},
   "source": [
    "Imprimir en la pantalla los valores de la lista."
   ]
  },
  {
   "cell_type": "code",
   "execution_count": null,
   "metadata": {},
   "outputs": [],
   "source": []
  },
  {
   "cell_type": "markdown",
   "metadata": {},
   "source": [
    "Imprimir en la pantalla los valores de la lista en orden decreciente."
   ]
  },
  {
   "cell_type": "code",
   "execution_count": null,
   "metadata": {},
   "outputs": [],
   "source": []
  },
  {
   "cell_type": "markdown",
   "metadata": {},
   "source": [
    "Imprimir en la pantalla los valores de la lista de esta forma:\n",
    "\n",
    "valor numero 1: 1\n",
    "\n",
    "valor numero 2: 6\n",
    "\n",
    "valor numero 3: 23\n",
    "\n",
    "etc"
   ]
  },
  {
   "cell_type": "code",
   "execution_count": null,
   "metadata": {},
   "outputs": [],
   "source": []
  },
  {
   "cell_type": "markdown",
   "metadata": {},
   "source": [
    "Generar una cadena de caracteres juntando los valores de la lista L, en orden creciente y separados por en caracter \"&\":\n",
    "\n",
    "-123 & -3.14 & 1 & 5.5 & 6 & 7.8 & 23"
   ]
  },
  {
   "cell_type": "code",
   "execution_count": null,
   "metadata": {},
   "outputs": [],
   "source": []
  },
  {
   "cell_type": "markdown",
   "metadata": {},
   "source": [
    "Crear un diccionario D con las llaves \"NGC 1535\", \"IC 2165\", \"NGC 3918\", \"NGC 7009\" y con los valores  1649, 1856, 923, 871 respectivamente."
   ]
  },
  {
   "cell_type": "code",
   "execution_count": null,
   "metadata": {},
   "outputs": [],
   "source": []
  },
  {
   "cell_type": "markdown",
   "metadata": {},
   "source": [
    "Hacer un bucle sobre este diccionario, imprimiendo la distancia solamente de los obyectos de tipo \"NGC\":\n",
    "\n",
    "NGC 1535 esta a 1649 pc de la tierra.\n",
    "\n",
    "NGC 3918 esta a 923 pc de la tierra.\n",
    "\n",
    "etc"
   ]
  },
  {
   "cell_type": "code",
   "execution_count": null,
   "metadata": {},
   "outputs": [],
   "source": []
  },
  {
   "cell_type": "markdown",
   "metadata": {},
   "source": [
    "Crear una función f(name) que toma el nombre de un obyecto como argumento y da de vuelta la distancia en kpc. Su uso es por ejemplo el siguiente:\n",
    "\n",
    "f('NGC 1535')\n",
    "\n",
    "contesta 1.649.\n",
    "\n",
    "Si el nombre no es conocido, la función debe contestar None."
   ]
  },
  {
   "cell_type": "code",
   "execution_count": null,
   "metadata": {},
   "outputs": [],
   "source": []
  },
  {
   "cell_type": "markdown",
   "metadata": {},
   "source": [
    "Usar numpy para crear una tabla llamada x con 150 elementos, entre los valores -5 y 10. Crear otra tabla llamada y con 120 elementos de -6 a 6."
   ]
  },
  {
   "cell_type": "code",
   "execution_count": null,
   "metadata": {},
   "outputs": [],
   "source": []
  },
  {
   "cell_type": "markdown",
   "metadata": {},
   "source": [
    "Crear una lista de matrices de coordenadas x_2d y y_2 a partir de los vectores de coordenadas x y y (usar meshgrid)."
   ]
  },
  {
   "cell_type": "code",
   "execution_count": null,
   "metadata": {},
   "outputs": [],
   "source": []
  },
  {
   "cell_type": "markdown",
   "metadata": {},
   "source": [
    "Cual es el numero de valores que hay en x_2d y y_2d? Cuales son sus formas?"
   ]
  },
  {
   "cell_type": "code",
   "execution_count": null,
   "metadata": {},
   "outputs": [],
   "source": []
  },
  {
   "cell_type": "markdown",
   "metadata": {},
   "source": [
    "Calcular y guardar en la variable r la distancia entre el origin (0,0) y los puntos de coordenadas x_2d y y_2d."
   ]
  },
  {
   "cell_type": "code",
   "execution_count": null,
   "metadata": {},
   "outputs": [],
   "source": []
  },
  {
   "cell_type": "markdown",
   "metadata": {},
   "source": [
    "Cuales son los valores minimo, maximo, promedio y mediano de la variable r? Imprimir estos datos con 2 decimales a continuacion del punto"
   ]
  },
  {
   "cell_type": "code",
   "execution_count": null,
   "metadata": {},
   "outputs": [],
   "source": []
  },
  {
   "cell_type": "markdown",
   "metadata": {},
   "source": [
    "Generar una tabla con 10,000 valores distribuidos aleatoriamente siguiendo una lei normal, con centro en 5 y de desviacion tipica de 2.5. \n",
    "\n",
    "Calcular el promedio, la mediana y la desviación de la distribución para verificar que es correcta."
   ]
  },
  {
   "cell_type": "code",
   "execution_count": null,
   "metadata": {},
   "outputs": [],
   "source": []
  },
  {
   "cell_type": "markdown",
   "metadata": {},
   "source": [
    "Repetir 5 Veces la operación anterior para ver como se cambia la estadistica."
   ]
  },
  {
   "cell_type": "code",
   "execution_count": null,
   "metadata": {},
   "outputs": [],
   "source": []
  }
 ],
 "metadata": {
  "kernelspec": {
   "display_name": "Python 3",
   "language": "python",
   "name": "python3"
  },
  "language_info": {
   "codemirror_mode": {
    "name": "ipython",
    "version": 3
   },
   "file_extension": ".py",
   "mimetype": "text/x-python",
   "name": "python",
   "nbconvert_exporter": "python",
   "pygments_lexer": "ipython3",
   "version": "3.9.5"
  }
 },
 "nbformat": 4,
 "nbformat_minor": 4
}

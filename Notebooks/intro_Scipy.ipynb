{
 "cells": [
  {
   "cell_type": "code",
   "execution_count": null,
   "metadata": {
    "collapsed": false,
    "jupyter": {
     "outputs_hidden": false
    }
   },
   "outputs": [],
   "source": [
    "# The following is to know when this notebook has been run and with which python version.\n",
    "import time, sys\n",
    "print(time.ctime())\n",
    "print(sys.version.split('|')[0])"
   ]
  },
  {
   "cell_type": "markdown",
   "metadata": {},
   "source": [
    "# E Introduction to Scipy"
   ]
  },
  {
   "cell_type": "markdown",
   "metadata": {},
   "source": [
    "This is part of the Python lecture given by Christophe Morisset at IA-UNAM."
   ]
  },
  {
   "cell_type": "markdown",
   "metadata": {},
   "source": [
    "Scipy is a library with a lot of foncionalities, we will not cover everything here, but rather point to some of them with examples.\n",
    "Some useful links about scipy:\n",
    "\n",
    "* https://scipy-lectures.github.io/intro/scipy.html\n",
    "* http://docs.scipy.org/doc/scipy/reference/tutorial/"
   ]
  },
  {
   "cell_type": "code",
   "execution_count": null,
   "metadata": {
    "collapsed": false,
    "jupyter": {
     "outputs_hidden": false
    }
   },
   "outputs": [],
   "source": [
    "%matplotlib inline\n",
    "import numpy as np\n",
    "import matplotlib.pyplot as plt"
   ]
  },
  {
   "cell_type": "code",
   "execution_count": null,
   "metadata": {
    "collapsed": false,
    "jupyter": {
     "outputs_hidden": false
    }
   },
   "outputs": [],
   "source": [
    "import scipy # This imports a lot of scipy stuff, but not the \"important\" modules"
   ]
  },
  {
   "cell_type": "markdown",
   "metadata": {},
   "source": [
    "### Some usefull methods"
   ]
  },
  {
   "cell_type": "code",
   "execution_count": null,
   "metadata": {
    "collapsed": false,
    "jupyter": {
     "outputs_hidden": false
    }
   },
   "outputs": [],
   "source": [
    "from scipy.special import gamma\n",
    "%timeit g1 = gamma(10.3)\n",
    "%timeit g1 = gamma(10)\n",
    "%timeit g2 = 9*8*7*6*5*4*3*2\n",
    "%timeit g3 = 10*9*8*7*6*5*4*3*2\n",
    "g1 = gamma(10.3)\n",
    "g2 = 9*8*7*6*5*4*3*2\n",
    "g3 = 10*9*8*7*6*5*4*3*2\n",
    "print(g1, g2, g3)"
   ]
  },
  {
   "cell_type": "code",
   "execution_count": null,
   "metadata": {
    "collapsed": false,
    "jupyter": {
     "outputs_hidden": false
    }
   },
   "outputs": [],
   "source": [
    "from scipy import constants as cst\n",
    "print(cst.astronomical_unit) # A lot of constants\n",
    "from scipy.constants import codata # a lot more, with units. From NIST\n",
    "print('{} {}'.format(codata.value('proton mass'), codata.unit('proton mass')))"
   ]
  },
  {
   "cell_type": "markdown",
   "metadata": {},
   "source": [
    "List there: http://docs.scipy.org/doc/scipy/reference/constants.html#constants-database"
   ]
  },
  {
   "cell_type": "markdown",
   "metadata": {},
   "source": [
    "### Integrations"
   ]
  },
  {
   "cell_type": "code",
   "execution_count": null,
   "metadata": {
    "collapsed": false,
    "jupyter": {
     "outputs_hidden": false
    }
   },
   "outputs": [],
   "source": [
    "from scipy.integrate import trapz, cumtrapz, simps\n",
    "#help(scipy.integrate) # a big one...\n",
    "print('----------------------------------------------------------------------------------')\n",
    "help(trapz)\n",
    "print('----------------------------------------------------------------------------------')\n",
    "help(cumtrapz)\n",
    "print('----------------------------------------------------------------------------------')\n",
    "help(simps)"
   ]
  },
  {
   "cell_type": "code",
   "execution_count": null,
   "metadata": {
    "collapsed": false,
    "jupyter": {
     "outputs_hidden": false
    }
   },
   "outputs": [],
   "source": [
    "dir(scipy.integrate)"
   ]
  },
  {
   "cell_type": "code",
   "execution_count": null,
   "metadata": {
    "collapsed": false,
    "jupyter": {
     "outputs_hidden": false
    }
   },
   "outputs": [],
   "source": [
    "# Defining x and y\n",
    "x = np.linspace(0, np.pi, 100)\n",
    "y = np.sin(x)\n",
    "# Compare the integrales using two methods\n",
    "%timeit i1 = trapz(y, x)\n",
    "%timeit i2 = simps(y, x)\n",
    "\n",
    "print(trapz(y, x))\n",
    "print(simps(y, x))\n",
    "\n",
    "x = np.linspace(0, np.pi, 10)\n",
    "y = np.sin(x)\n",
    "%timeit i1 = trapz(y, x)\n",
    "%timeit i2 = simps(y, x)\n",
    "print(trapz(y, x))\n",
    "print(simps(y, x))\n"
   ]
  },
  {
   "cell_type": "code",
   "execution_count": null,
   "metadata": {
    "collapsed": false,
    "jupyter": {
     "outputs_hidden": false
    }
   },
   "outputs": [],
   "source": [
    "# Cumulative integrale\n",
    "cum = cumtrapz(np.abs(y), x)\n",
    "print(len(x), len(cum), cum)"
   ]
  },
  {
   "cell_type": "code",
   "execution_count": null,
   "metadata": {
    "collapsed": false,
    "jupyter": {
     "outputs_hidden": false
    }
   },
   "outputs": [],
   "source": [
    "# Cumulative integral\n",
    "print('{} {}'.format(len(x), len(cumtrapz(np.abs(y), x))))\n",
    "f, ax = plt.subplots()\n",
    "ax.plot(x[0:-1], cumtrapz(np.abs(y), x), 'bo');"
   ]
  },
  {
   "cell_type": "code",
   "execution_count": null,
   "metadata": {
    "collapsed": false,
    "jupyter": {
     "outputs_hidden": false
    }
   },
   "outputs": [],
   "source": [
    "from scipy.integrate import quad # To compute a definite integral\n",
    "from scipy.special import jv # Bessel function\n",
    "%timeit res = quad(np.sin, 0, np.pi)\n",
    "print(quad(np.sin, 0, np.pi))\n",
    "#help(quad)\n",
    "print(quad(lambda x: jv(3.5, x), 0, 10)) # Integrate the Bessel function of order 2.5 between 0 and 10"
   ]
  },
  {
   "cell_type": "markdown",
   "metadata": {},
   "source": [
    "We now want to evaluate:\n",
    "$$ \\int_0^1 1 + 2 x + 3 x^2 dx $$"
   ]
  },
  {
   "cell_type": "code",
   "execution_count": null,
   "metadata": {
    "collapsed": false,
    "jupyter": {
     "outputs_hidden": false
    }
   },
   "outputs": [],
   "source": [
    "# We want here integrate a user-defined function (here polynome) between 0 and 1\n",
    "def f(x, a, b, c):\n",
    "    \"\"\" Returning a 2nd order polynome \"\"\"\n",
    "    return a + b * x + c * x**2\n",
    "%timeit I = quad(f, 0, 1, args=(1,2,3)) # args will send 1, 2, 3 to f\n",
    "I = quad(f, 0, 1, args=(1,2,3)) # args will send 1, 2, 3 to f\n",
    "print(I)\n",
    "Integ = I[0]\n",
    "print(Integ)"
   ]
  },
  {
   "cell_type": "markdown",
   "metadata": {},
   "source": [
    "### Interpolations"
   ]
  },
  {
   "cell_type": "code",
   "execution_count": null,
   "metadata": {
    "collapsed": false,
    "jupyter": {
     "outputs_hidden": false
    }
   },
   "outputs": [],
   "source": [
    "from scipy.interpolate import interp1d, interp2d, splrep, splev, griddata"
   ]
  },
  {
   "cell_type": "code",
   "execution_count": null,
   "metadata": {
    "collapsed": false,
    "jupyter": {
     "outputs_hidden": false
    }
   },
   "outputs": [],
   "source": [
    "#help(scipy.interpolate) # a huge one...\n",
    "help(interp1d)"
   ]
  },
  {
   "cell_type": "code",
   "execution_count": null,
   "metadata": {
    "collapsed": false,
    "jupyter": {
     "outputs_hidden": false
    }
   },
   "outputs": [],
   "source": [
    "x = np.linspace(0, 10, 10)\n",
    "y = np.sin(x)\n",
    "f = interp1d(x, y) # this creates a function that can be call at any interpolate point\n",
    "f2 = interp1d(x, y, kind='cubic') # The same but using cubic interpolation\n",
    "tck = splrep(x, y, s=0) # This initiate the spline interpolating function, finding the B-spline representation of 1-D curve.\n",
    "# tck is a sequence of length 3 returned by `splrep` or `splprep` containing the knots, coefficients, and degree of the spline.\n",
    "f3 = lambda x: splev(x, tck) # Evaluate the B-spline or its derivatives."
   ]
  },
  {
   "cell_type": "code",
   "execution_count": null,
   "metadata": {
    "collapsed": false,
    "jupyter": {
     "outputs_hidden": false
    }
   },
   "outputs": [],
   "source": [
    "# Defining the high resolution mesh\n",
    "xfine = np.linspace(0, 10, 100)\n",
    "yfine = np.sin(xfine)\n",
    "# Plot to compare the results\n",
    "fig, (ax1, ax2) = plt.subplots(2, figsize=(10,10))\n",
    "\n",
    "ax1.plot(x, y, 'or', label='data')\n",
    "ax1.plot(xfine, f(xfine), label='lineal')\n",
    "ax1.plot(xfine, f2(xfine), label='cubic')\n",
    "ax1.plot(xfine, f3(xfine), label='spline', alpha=0.6) \n",
    "ax1.legend(loc=9)\n",
    "\n",
    "ax2.plot(xfine, (yfine-f(xfine)), label='data-linear')\n",
    "ax2.plot(xfine, (yfine-f2(xfine)), label='data-cubic')\n",
    "ax2.plot(xfine, (yfine-f3(xfine)), label='data-spline')\n",
    "ax2.legend(loc='best')\n",
    "ax2.set_ylim((-0.03, 0.02));"
   ]
  },
  {
   "cell_type": "code",
   "execution_count": null,
   "metadata": {
    "collapsed": false,
    "jupyter": {
     "outputs_hidden": false
    }
   },
   "outputs": [],
   "source": [
    "x0 = 3.5\n",
    "print('{} {} {} {}'.format(np.sin(x0), f(x0), f2(x0), f3(x0)))"
   ]
  },
  {
   "cell_type": "markdown",
   "metadata": {},
   "source": [
    "#### 2D interpolation"
   ]
  },
  {
   "cell_type": "code",
   "execution_count": null,
   "metadata": {
    "collapsed": false,
    "jupyter": {
     "outputs_hidden": false
    }
   },
   "outputs": [],
   "source": [
    "# Defining a 2D-function\n",
    "def func(x, y):\n",
    "    return x * (1+x) * np.cos(4*np.pi*x) * np.sin(4*np.pi*y**2)**2"
   ]
  },
  {
   "cell_type": "code",
   "execution_count": null,
   "metadata": {
    "collapsed": false,
    "jupyter": {
     "outputs_hidden": false
    }
   },
   "outputs": [],
   "source": [
    "# Initializing a 2D coordinate grid. Note the use of j to specify that the end point is included.\n",
    "grid_x, grid_y = np.mgrid[0:1:100j, 0:1:200j]"
   ]
  },
  {
   "cell_type": "code",
   "execution_count": null,
   "metadata": {
    "collapsed": false,
    "jupyter": {
     "outputs_hidden": false
    }
   },
   "outputs": [],
   "source": [
    "print(grid_x)\n",
    "print(grid_y)"
   ]
  },
  {
   "cell_type": "code",
   "execution_count": null,
   "metadata": {
    "collapsed": false,
    "jupyter": {
     "outputs_hidden": false
    }
   },
   "outputs": [],
   "source": [
    "plt.imshow(grid_y)"
   ]
  },
  {
   "cell_type": "code",
   "execution_count": null,
   "metadata": {
    "collapsed": false,
    "jupyter": {
     "outputs_hidden": false
    }
   },
   "outputs": [],
   "source": [
    "# Generating 1000 x 2 points randomly\n",
    "points = np.random.rand(1000, 2)\n",
    "print(points)\n",
    "values = func(points[:,0], points[:,1])\n",
    "print(np.min(points), np.max(points))"
   ]
  },
  {
   "cell_type": "code",
   "execution_count": null,
   "metadata": {
    "collapsed": false,
    "jupyter": {
     "outputs_hidden": false
    }
   },
   "outputs": [],
   "source": [
    "# griddata is the 2D-interpolating method. We want to obtain values on (grid_x, grid_y) points, \n",
    "# using \"points\" and \"values\".\n",
    "%timeit grid_z0 = griddata(points, values, (grid_x, grid_y), method='nearest')\n",
    "%timeit grid_z1 = griddata(points, values, (grid_x, grid_y), method='linear')\n",
    "%timeit grid_z2 = griddata(points, values, (grid_x, grid_y), method='cubic')"
   ]
  },
  {
   "cell_type": "code",
   "execution_count": null,
   "metadata": {
    "collapsed": false,
    "jupyter": {
     "outputs_hidden": false
    }
   },
   "outputs": [],
   "source": [
    "# 4 subplots\n",
    "grid_z0 = griddata(points, values, (grid_x, grid_y), method='nearest')\n",
    "grid_z1 = griddata(points, values, (grid_x, grid_y), method='linear')\n",
    "grid_z2 = griddata(points, values, (grid_x, grid_y), method='cubic')\n",
    "fig, ((ax1, ax2), (ax3, ax4)) = plt.subplots(2, 2, figsize=(12, 12))\n",
    "\n",
    "ax1.imshow(func(grid_x, grid_y), extent=(0,1,0,1), interpolation='none',\n",
    "           origin='upper')\n",
    "ax1.plot(points[:,0], points[:,1], 'ko', ms=1)\n",
    "ax1.set_title('Original')\n",
    "\n",
    "ax2.imshow(grid_z0, extent=(0,1,0,1), interpolation='none',\n",
    "           origin='upper')\n",
    "ax2.plot(points[:,0], points[:,1], 'k.', ms=1)\n",
    "ax2.set_title('Nearest')\n",
    "\n",
    "ax3.imshow(grid_z1, extent=(0,1,0,1), interpolation='none',\n",
    "           origin='upper')\n",
    "ax3.plot(points[:,0], points[:,1], 'k.', ms=1)\n",
    "ax3.set_title('Linear')\n",
    "\n",
    "ax4.imshow(grid_z2, extent=(0,1,0,1), interpolation='none',\n",
    "           origin='upper')\n",
    "ax4.plot(points[:,0], points[:,1], 'k.', ms=1)\n",
    "ax4.set_title('Cubic');"
   ]
  },
  {
   "cell_type": "code",
   "execution_count": null,
   "metadata": {},
   "outputs": [],
   "source": [
    "print(grid_z1[10,10])"
   ]
  },
  {
   "cell_type": "markdown",
   "metadata": {},
   "source": [
    "### Linear algebra"
   ]
  },
  {
   "cell_type": "markdown",
   "metadata": {},
   "source": [
    "Scipy is able to deal with matrices, solving linear equations, solving linear least-squares problems and pseudo-inverses, finding eigenvalues and eigenvectors, and more, see here: \n",
    "http://docs.scipy.org/doc/scipy/reference/tutorial/linalg.html"
   ]
  },
  {
   "cell_type": "markdown",
   "metadata": {},
   "source": [
    "### Data fit"
   ]
  },
  {
   "cell_type": "code",
   "execution_count": null,
   "metadata": {
    "collapsed": false,
    "jupyter": {
     "outputs_hidden": false
    }
   },
   "outputs": [],
   "source": [
    "from scipy.optimize import curve_fit # this is used to adjust a set of data"
   ]
  },
  {
   "cell_type": "code",
   "execution_count": null,
   "metadata": {
    "collapsed": false,
    "jupyter": {
     "outputs_hidden": false
    }
   },
   "outputs": [],
   "source": [
    "#help(curve_fit)"
   ]
  },
  {
   "cell_type": "code",
   "execution_count": null,
   "metadata": {
    "collapsed": false,
    "jupyter": {
     "outputs_hidden": false
    }
   },
   "outputs": [],
   "source": [
    "def gauss(x, A, B, C, S):\n",
    "    # This is a gaussian function.\n",
    "    return A + B*np.exp(-1 * (x - C)**2 / (2 * S**2))"
   ]
  },
  {
   "cell_type": "code",
   "execution_count": null,
   "metadata": {
    "collapsed": false,
    "jupyter": {
     "outputs_hidden": false
    }
   },
   "outputs": [],
   "source": [
    "# We define the parameters used to generate the signal (gaussian at lambda=5007)\n",
    "N_lam = 200\n",
    "A = 4.\n",
    "B = 15.\n",
    "Lam0 = 5007.\n",
    "Sigma = 10.\n",
    "# We define a wavelength range\n",
    "lam = np.linspace(4900, 5100, N_lam)\n",
    "# Computing the signal\n",
    "fl = gauss(lam, A, B, Lam0, Sigma)\n",
    "f, ax =plt.subplots()\n",
    "ax.plot(lam, fl)\n",
    "ax.set_ylim(0,20);"
   ]
  },
  {
   "cell_type": "code",
   "execution_count": null,
   "metadata": {
    "collapsed": false,
    "jupyter": {
     "outputs_hidden": false
    }
   },
   "outputs": [],
   "source": [
    "SN = 2. # Signal/Noise\n",
    "noise = B / SN * (np.random.rand(N_lam)*2 - 1)\n",
    "fl2 = fl + noise\n",
    "f, ax =plt.subplots()\n",
    "ax.plot(lam, fl, label='signal')\n",
    "ax.plot(lam, noise, label='noise')\n",
    "ax.plot(lam, fl2, label='signal + noise')\n",
    "ax.legend(loc='best');"
   ]
  },
  {
   "cell_type": "code",
   "execution_count": null,
   "metadata": {
    "collapsed": false,
    "jupyter": {
     "outputs_hidden": false
    }
   },
   "outputs": [],
   "source": [
    "# Initial guess:\n",
    "A_i = 0.\n",
    "B_i = 1.\n",
    "Lam0_i = 5000.\n",
    "Sigma_i = 1.\n",
    "fl_init = gauss(lam, A_i, B_i, Lam0_i, Sigma_i)\n",
    "error = np.ones_like(lam) * np.mean(np.abs(noise)) # We define the error (the same on each pixel of the spectrum)"
   ]
  },
  {
   "cell_type": "code",
   "execution_count": null,
   "metadata": {
    "collapsed": false,
    "jupyter": {
     "outputs_hidden": false
    }
   },
   "outputs": [],
   "source": [
    "# fitting the noisy data with the gaussian function, using the initial guess and the errors\n",
    "fit, covar = curve_fit(gauss, lam, fl2, [A_i, B_i, Lam0_i, Sigma_i], error)\n",
    "print('{0:.2f} {1:5.2f} {2:.2f} {3:5.2f} {4:5.2f}'.format(A_i, B_i, Lam0_i, Sigma_i, B_i*Sigma_i))\n",
    "print('{0:.2f} {1:5.2f} {2:.2f} {3:5.2f} {4:5.2f}'.format(A, B, Lam0, Sigma, B*Sigma))\n",
    "print('{0[0]:.2f} {0[1]:5.2f} {0[2]:5.2f} {0[3]:.2f}  {1:5.2f}'.format(fit, fit[1]*fit[3]))"
   ]
  },
  {
   "cell_type": "code",
   "execution_count": null,
   "metadata": {
    "collapsed": false,
    "jupyter": {
     "outputs_hidden": false
    }
   },
   "outputs": [],
   "source": [
    "# Computing the fit on the lambdas\n",
    "fl_fit = gauss(lam, fit[0], fit[1], fit[2], fit[3])"
   ]
  },
  {
   "cell_type": "code",
   "execution_count": null,
   "metadata": {
    "collapsed": false,
    "jupyter": {
     "outputs_hidden": false
    }
   },
   "outputs": [],
   "source": [
    "fig, (ax1, ax2) = plt.subplots(2, 1, figsize=(12, 8))\n",
    "\n",
    "ax1.plot(lam, fl, label='original')\n",
    "ax1.plot(lam, fl2, label='original + noise')\n",
    "ax1.plot(lam, fl_init, label='initial guess')\n",
    "ax1.plot(lam, fl_fit, label='fit')\n",
    "ax1.legend()\n",
    "\n",
    "ax2.plot(lam, fl_fit - fl2, label='Residu=Fit-input')\n",
    "ax2.legend();"
   ]
  },
  {
   "cell_type": "code",
   "execution_count": null,
   "metadata": {
    "collapsed": false,
    "jupyter": {
     "outputs_hidden": false
    }
   },
   "outputs": [],
   "source": [
    "# Integrating using the Simpson method the gaussian (without the continuum)\n",
    "print(simps(fl - A, lam))\n",
    "print(simps(fl2 - fit[0], lam))\n",
    "print(simps(fl_fit - fit[0], lam))"
   ]
  },
  {
   "cell_type": "code",
   "execution_count": null,
   "metadata": {
    "collapsed": false,
    "jupyter": {
     "outputs_hidden": false
    }
   },
   "outputs": [],
   "source": [
    "khi_sq = (((fl2-fl_fit) / error)**2).sum() # The problem here is to determine the error...\n",
    "khi_sq_red = khi_sq / (len(lam) - 4 - 1) # reduced khi_sq = khi_sq / (N - free_params - 1)\n",
    "print('khi^2={}, khi^2_reduced={}'.format(khi_sq, khi_sq_red))"
   ]
  },
  {
   "cell_type": "markdown",
   "metadata": {},
   "source": [
    "### Multivariate estimation"
   ]
  },
  {
   "cell_type": "code",
   "execution_count": null,
   "metadata": {
    "collapsed": false,
    "jupyter": {
     "outputs_hidden": false
    }
   },
   "outputs": [],
   "source": [
    "from scipy import stats"
   ]
  },
  {
   "cell_type": "code",
   "execution_count": null,
   "metadata": {
    "collapsed": false,
    "jupyter": {
     "outputs_hidden": false
    }
   },
   "outputs": [],
   "source": [
    "def measure(n):\n",
    "    \"\"\"Measurement model, return two coupled measurements.\"\"\"\n",
    "    m1 = np.random.normal(size=n)\n",
    "    m2 = np.random.normal(scale=0.5, size=n)\n",
    "    return m1+m2, m1-m2"
   ]
  },
  {
   "cell_type": "code",
   "execution_count": null,
   "metadata": {
    "collapsed": false,
    "jupyter": {
     "outputs_hidden": false
    }
   },
   "outputs": [],
   "source": [
    "m1, m2 = measure(2000)\n",
    "xmin = m1.min()\n",
    "xmax = m1.max()\n",
    "ymin = m2.min()\n",
    "ymax = m2.max()\n",
    "print(xmin, xmax, ymin, ymax)"
   ]
  },
  {
   "cell_type": "code",
   "execution_count": null,
   "metadata": {
    "collapsed": false,
    "jupyter": {
     "outputs_hidden": false
    }
   },
   "outputs": [],
   "source": [
    "X, Y = np.mgrid[xmin:xmax:100j, ymin:ymax:100j]\n",
    "positions = np.vstack([X.ravel(), Y.ravel()])\n",
    "values = np.vstack([m1, m2])\n",
    "kernel = stats.gaussian_kde(values)\n",
    "Z = np.reshape(kernel.evaluate(positions).T, X.shape)\n",
    "print(Z.shape)"
   ]
  },
  {
   "cell_type": "code",
   "execution_count": null,
   "metadata": {
    "collapsed": false,
    "jupyter": {
     "outputs_hidden": false
    }
   },
   "outputs": [],
   "source": [
    "fig, ax = plt.subplots(figsize=(12, 8))\n",
    "ax.imshow(np.rot90(Z), cmap=plt.cm.gist_earth_r, extent=[xmin, xmax, ymin, ymax], origin='upper')\n",
    "ax.plot(m1, m2, 'k.', markersize=2)\n",
    "ax.set_xlim([xmin, xmax])\n",
    "ax.set_ylim([ymin, ymax])\n",
    "levels = [0.01, 0.02, 0.03, 0.04, 0.05, 0.06, 0.07, 0.08, 0.09, 0.10, 0.11, 0.12, 0.13, 0.14, 0.15]\n",
    "cs = ax.contour(X, Y, Z, levels=levels); # I dont't know what those levels mean... but it works fine!"
   ]
  },
  {
   "cell_type": "code",
   "execution_count": null,
   "metadata": {
    "collapsed": false,
    "jupyter": {
     "outputs_hidden": false
    }
   },
   "outputs": [],
   "source": [
    "# We save the contour paths in a list\n",
    "paths = []\n",
    "for collec in cs.collections:\n",
    "    try:\n",
    "        paths.append(collec.get_paths()[0])\n",
    "    except:\n",
    "        pass"
   ]
  },
  {
   "cell_type": "code",
   "execution_count": null,
   "metadata": {
    "collapsed": false,
    "jupyter": {
     "outputs_hidden": false
    }
   },
   "outputs": [],
   "source": [
    "# Looking for the number of points inside each contour\n",
    "print(len(m1))\n",
    "for level, path in zip(levels, paths):\n",
    "    print('level {0:4.2f} contains {1:2.0f}% of the data'.format(level, \n",
    "                                path.contains_points(list(zip(m1, m2))).sum() / float(len(m1))*100))"
   ]
  },
  {
   "cell_type": "code",
   "execution_count": null,
   "metadata": {
    "collapsed": false,
    "jupyter": {
     "outputs_hidden": false
    }
   },
   "outputs": [],
   "source": [
    "fig, ax = plt.subplots(figsize=(8, 6))\n",
    "ax.plot(m1, m2, 'k.', markersize=2)\n",
    "ax.set_xlim([xmin, xmax])\n",
    "ax.set_ylim([ymin, ymax])\n",
    "cs = ax.contour(X, Y, Z, levels=[0.08]); #  seems to correspond to 50% of the points inside"
   ]
  },
  {
   "cell_type": "markdown",
   "metadata": {},
   "source": [
    "### Convolution"
   ]
  },
  {
   "cell_type": "markdown",
   "metadata": {},
   "source": [
    "More information there: http://docs.scipy.org/doc/scipy/reference/tutorial/ndimage.html"
   ]
  },
  {
   "cell_type": "code",
   "execution_count": null,
   "metadata": {
    "collapsed": false,
    "jupyter": {
     "outputs_hidden": false
    }
   },
   "outputs": [],
   "source": [
    "# Let's define an image representing a long slit of width 10 pixels\n",
    "slit = np.zeros((100, 100))\n",
    "slit[30:50, :] = 1"
   ]
  },
  {
   "cell_type": "code",
   "execution_count": null,
   "metadata": {
    "collapsed": false,
    "jupyter": {
     "outputs_hidden": false
    }
   },
   "outputs": [],
   "source": [
    "plt.imshow(slit)\n",
    "plt.colorbar();"
   ]
  },
  {
   "cell_type": "code",
   "execution_count": null,
   "metadata": {
    "collapsed": false,
    "jupyter": {
     "outputs_hidden": false
    }
   },
   "outputs": [],
   "source": [
    "# This is the routine to apply a gaussian convolution\n",
    "from scipy.ndimage.filters import gaussian_filter"
   ]
  },
  {
   "cell_type": "code",
   "execution_count": null,
   "metadata": {
    "collapsed": false,
    "jupyter": {
     "outputs_hidden": false
    }
   },
   "outputs": [],
   "source": [
    "slit_seeing = gaussian_filter(slit, 3) # Convolve with a gaussian, 3 is the standard deviation in pixels\n",
    "plt.imshow(slit_seeing)\n",
    "plt.colorbar();"
   ]
  },
  {
   "cell_type": "code",
   "execution_count": null,
   "metadata": {
    "collapsed": false,
    "jupyter": {
     "outputs_hidden": false
    }
   },
   "outputs": [],
   "source": [
    "f, ax =plt.subplots()\n",
    "ax.plot(slit[:,50], label='slit') # original slit\n",
    "ax.plot(slit_seeing[:,50], label='slit+seeing') # slit with seeing\n",
    "ax.legend(loc='best');"
   ]
  },
  {
   "cell_type": "code",
   "execution_count": null,
   "metadata": {
    "collapsed": false,
    "jupyter": {
     "outputs_hidden": false
    }
   },
   "outputs": [],
   "source": [
    "# Check that the slit transmission is conserved:\n",
    "print(simps(slit[:,50]), simps(slit_seeing[:,50]))"
   ]
  },
  {
   "cell_type": "markdown",
   "metadata": {},
   "source": [
    "### Quantiles"
   ]
  },
  {
   "cell_type": "code",
   "execution_count": null,
   "metadata": {
    "collapsed": false,
    "jupyter": {
     "outputs_hidden": false
    }
   },
   "outputs": [],
   "source": [
    "from scipy.stats.mstats import mquantiles"
   ]
  },
  {
   "cell_type": "code",
   "execution_count": null,
   "metadata": {
    "collapsed": false,
    "jupyter": {
     "outputs_hidden": false
    }
   },
   "outputs": [],
   "source": [
    "#help(mquantiles)"
   ]
  },
  {
   "cell_type": "code",
   "execution_count": null,
   "metadata": {
    "collapsed": false,
    "jupyter": {
     "outputs_hidden": false
    }
   },
   "outputs": [],
   "source": [
    "data = np.random.randn(1000)"
   ]
  },
  {
   "cell_type": "code",
   "execution_count": null,
   "metadata": {
    "collapsed": false,
    "jupyter": {
     "outputs_hidden": false
    }
   },
   "outputs": [],
   "source": [
    "mquantiles(data, [0.16, 0.84]) # should return something close to -1, 1 (the stv of the normal distribution)"
   ]
  },
  {
   "cell_type": "code",
   "execution_count": null,
   "metadata": {
    "collapsed": false,
    "jupyter": {
     "outputs_hidden": false
    }
   },
   "outputs": [],
   "source": [
    "data = np.array([[   6.,    7.,    1.],\n",
    "                         [  47.,   15.,    2.],\n",
    "                         [  49.,   36.,    3.],\n",
    "                         [  15.,   39.,    4.],\n",
    "                         [  42.,   40., -999.],\n",
    "                         [  41.,   41., -999.],\n",
    "                         [   7., -999., -999.],\n",
    "                         [  39., -999., -999.],\n",
    "                         [  43., -999., -999.],\n",
    "                         [  40., -999., -999.],\n",
    "                         [  36., -999., -999.]])"
   ]
  },
  {
   "cell_type": "code",
   "execution_count": null,
   "metadata": {
    "collapsed": false,
    "jupyter": {
     "outputs_hidden": false
    }
   },
   "outputs": [],
   "source": [
    "mq = mquantiles(data, axis=0, limit=(0, 50))\n",
    "print(mq)\n",
    "print(type(mq))\n",
    "mq?\n",
    "print(mq.mask)"
   ]
  },
  {
   "cell_type": "markdown",
   "metadata": {},
   "source": [
    "### Input/Output"
   ]
  },
  {
   "cell_type": "markdown",
   "metadata": {},
   "source": [
    "Scipy has many modules, classes, and functions available to read data from and write data to a variety of file formats."
   ]
  },
  {
   "cell_type": "markdown",
   "metadata": {},
   "source": [
    "Including MATLAB and IDL files. See http://docs.scipy.org/doc/scipy/reference/io.html"
   ]
  }
 ],
 "metadata": {
  "kernelspec": {
   "display_name": "Python 3",
   "language": "python",
   "name": "python3"
  },
  "language_info": {
   "codemirror_mode": {
    "name": "ipython",
    "version": 3
   },
   "file_extension": ".py",
   "mimetype": "text/x-python",
   "name": "python",
   "nbconvert_exporter": "python",
   "pygments_lexer": "ipython3",
   "version": "3.7.6"
  }
 },
 "nbformat": 4,
 "nbformat_minor": 4
}

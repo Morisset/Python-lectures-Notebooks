{
 "cells": [
  {
   "cell_type": "code",
   "execution_count": 1,
   "metadata": {
    "colab": {
     "base_uri": "https://localhost:8080/",
     "height": 68
    },
    "colab_type": "code",
    "collapsed": false,
    "id": "32L86GWVH7xT",
    "jupyter": {
     "outputs_hidden": false
    },
    "outputId": "75144bd1-f475-47c5-9717-d8dfc69ba867"
   },
   "outputs": [
    {
     "name": "stdout",
     "output_type": "stream",
     "text": [
      "Tue Mar 25 10:12:31 2025\n",
      "3.12.9 \n"
     ]
    }
   ],
   "source": [
    "# The following is to know when this notebook has been run and with which python version.\n",
    "import time, sys\n",
    "print(time.ctime())\n",
    "print(sys.version.split('|')[0])"
   ]
  },
  {
   "cell_type": "code",
   "execution_count": 2,
   "metadata": {
    "colab": {},
    "colab_type": "code",
    "collapsed": false,
    "id": "Ok2reGgrH7xX",
    "jupyter": {
     "outputs_hidden": false
    }
   },
   "outputs": [],
   "source": [
    "import numpy as np\n",
    "import scipy "
   ]
  },
  {
   "cell_type": "markdown",
   "metadata": {
    "colab_type": "text",
    "id": "LT0khpzjH7xb"
   },
   "source": [
    "# F Some useful libraries that make life easier"
   ]
  },
  {
   "cell_type": "markdown",
   "metadata": {
    "colab_type": "text",
    "id": "MNiJIN0eH7xb"
   },
   "source": [
    "This is part of the Python lecture given by Christophe Morisset at IA-UNAM."
   ]
  },
  {
   "cell_type": "markdown",
   "metadata": {
    "colab_type": "text",
    "id": "nW9XV2pgH7xc"
   },
   "source": [
    "This lecture will give some insights to the most useful python libraries. It is NOT exhaustive, you have to read the corresponding manual pages to find the best use you can have of them. The list of all python-included libraries is here: https://docs.python.org/3/library/"
   ]
  },
  {
   "cell_type": "markdown",
   "metadata": {
    "colab_type": "text",
    "id": "8gr3DHdrH7xc"
   },
   "source": [
    "### time, datetime and timeit"
   ]
  },
  {
   "cell_type": "markdown",
   "metadata": {
    "colab_type": "text",
    "id": "1uk9swL3H7xd"
   },
   "source": [
    "*  https://docs.python.org/3/library/time.html\n",
    "*  https://docs.python.org/3/library/datetime.html"
   ]
  },
  {
   "cell_type": "code",
   "execution_count": 3,
   "metadata": {
    "colab": {},
    "colab_type": "code",
    "collapsed": false,
    "id": "ZvXi9pc6H7xd",
    "jupyter": {
     "outputs_hidden": false
    }
   },
   "outputs": [],
   "source": [
    "import time\n",
    "import datetime"
   ]
  },
  {
   "cell_type": "code",
   "execution_count": 4,
   "metadata": {
    "colab": {
     "base_uri": "https://localhost:8080/",
     "height": 34
    },
    "colab_type": "code",
    "collapsed": false,
    "id": "lU1GfjWQH7xg",
    "jupyter": {
     "outputs_hidden": false
    },
    "outputId": "ee865dfa-bf31-4e69-d7be-d1bdbd177c6d"
   },
   "outputs": [
    {
     "name": "stdout",
     "output_type": "stream",
     "text": [
      "Tue Mar 25 10:16:13 2025\n"
     ]
    }
   ],
   "source": [
    "print(time.ctime()) # current time, in a string format"
   ]
  },
  {
   "cell_type": "code",
   "execution_count": 5,
   "metadata": {
    "colab": {
     "base_uri": "https://localhost:8080/",
     "height": 34
    },
    "colab_type": "code",
    "collapsed": false,
    "id": "TP9z7JIrH7xj",
    "jupyter": {
     "outputs_hidden": false
    },
    "outputId": "48cf2b0e-921c-471e-ace3-c068b6effd23"
   },
   "outputs": [
    {
     "name": "stdout",
     "output_type": "stream",
     "text": [
      "time.struct_time(tm_year=2025, tm_mon=3, tm_mday=25, tm_hour=10, tm_min=16, tm_sec=34, tm_wday=1, tm_yday=84, tm_isdst=0)\n"
     ]
    }
   ],
   "source": [
    "lt = time.localtime()\n",
    "print(lt)"
   ]
  },
  {
   "cell_type": "code",
   "execution_count": 8,
   "metadata": {
    "colab": {
     "base_uri": "https://localhost:8080/",
     "height": 35
    },
    "colab_type": "code",
    "collapsed": false,
    "id": "d9TfFezSH7xm",
    "jupyter": {
     "outputs_hidden": false
    },
    "outputId": "155e4095-f8bc-41af-dfdb-bee55517e1da"
   },
   "outputs": [
    {
     "data": {
      "text/plain": [
       "'Tue, 25 Mar 2025 10:16:34'"
      ]
     },
     "execution_count": 8,
     "metadata": {},
     "output_type": "execute_result"
    }
   ],
   "source": [
    "time.strftime(\"%a, %d %b %Y %H:%M:%S\",lt)"
   ]
  },
  {
   "cell_type": "code",
   "execution_count": 10,
   "metadata": {
    "colab": {
     "base_uri": "https://localhost:8080/",
     "height": 34
    },
    "colab_type": "code",
    "collapsed": false,
    "id": "u2oSqfGUH7xp",
    "jupyter": {
     "outputs_hidden": false
    },
    "outputId": "58edda61-0281-49c8-fbe2-b239ba928c6f"
   },
   "outputs": [
    {
     "name": "stdout",
     "output_type": "stream",
     "text": [
      "2025-03-25 10:18:07.968428\n"
     ]
    }
   ],
   "source": [
    "print(datetime.datetime.today())"
   ]
  },
  {
   "cell_type": "code",
   "execution_count": 11,
   "metadata": {
    "colab": {},
    "colab_type": "code",
    "collapsed": false,
    "id": "XnWpbpEYH7xs",
    "jupyter": {
     "outputs_hidden": false
    }
   },
   "outputs": [],
   "source": [
    "today = datetime.date.today()\n",
    "eclipse_total = datetime.date(2024, 4, 8)"
   ]
  },
  {
   "cell_type": "code",
   "execution_count": 12,
   "metadata": {
    "colab": {},
    "colab_type": "code",
    "collapsed": false,
    "id": "SI03c7FUH7xu",
    "jupyter": {
     "outputs_hidden": false
    }
   },
   "outputs": [],
   "source": [
    "time_to_eclipse = eclipse_total - today"
   ]
  },
  {
   "cell_type": "code",
   "execution_count": 13,
   "metadata": {
    "colab": {
     "base_uri": "https://localhost:8080/",
     "height": 34
    },
    "colab_type": "code",
    "collapsed": false,
    "id": "gN0jfcjvH7xw",
    "jupyter": {
     "outputs_hidden": false
    },
    "outputId": "e932f57d-d40c-46a6-9130-4a84d0278543"
   },
   "outputs": [
    {
     "name": "stdout",
     "output_type": "stream",
     "text": [
      "Eclipse 351 days ago.\n"
     ]
    }
   ],
   "source": [
    "if eclipse_total > today:\n",
    "    print('Eclipse in {} days.'.format(time_to_eclipse.days))\n",
    "else:\n",
    "    print('Eclipse {} days ago.'.format(-time_to_eclipse.days))"
   ]
  },
  {
   "cell_type": "code",
   "execution_count": 17,
   "metadata": {
    "colab": {
     "base_uri": "https://localhost:8080/",
     "height": 34
    },
    "colab_type": "code",
    "collapsed": false,
    "id": "Z0hr13QHH7xz",
    "jupyter": {
     "outputs_hidden": false
    },
    "outputId": "84a175a1-39f9-402d-e718-ccd5c5e7bfdc"
   },
   "outputs": [
    {
     "name": "stdout",
     "output_type": "stream",
     "text": [
      "1742919797.872316 1742919797.8847868\n",
      "1000 factorials done in 0.012 secs.\n"
     ]
    }
   ],
   "source": [
    "start = time.time()\n",
    "for i in np.arange(1000):\n",
    "    t = scipy.special.factorial(i)\n",
    "end = time.time()\n",
    "print(start, end)\n",
    "print(f'1000 factorials done in {end-start:.3f} secs.')"
   ]
  },
  {
   "cell_type": "code",
   "execution_count": 15,
   "metadata": {
    "colab": {
     "base_uri": "https://localhost:8080/",
     "height": 34
    },
    "colab_type": "code",
    "collapsed": false,
    "id": "jGGg-R8qH7x1",
    "jupyter": {
     "outputs_hidden": false
    },
    "outputId": "1b027386-fe99-45c1-9074-19668999edcf"
   },
   "outputs": [
    {
     "name": "stdout",
     "output_type": "stream",
     "text": [
      "0.11850858316756785\n"
     ]
    }
   ],
   "source": [
    "from timeit import Timer\n",
    "command = \"\"\"\\\n",
    "for i in range(1000):\n",
    "    t = scipy.special.factorial(i)\n",
    "\"\"\"\n",
    "t = Timer(command, setup='import scipy')\n",
    "print(t.timeit(number=10))"
   ]
  },
  {
   "cell_type": "markdown",
   "metadata": {
    "colab_type": "text",
    "id": "IKKQyTaOH7x3"
   },
   "source": [
    "in ipython, one can use the magic timeit function:"
   ]
  },
  {
   "cell_type": "code",
   "execution_count": 21,
   "metadata": {
    "colab": {
     "base_uri": "https://localhost:8080/",
     "height": 51
    },
    "colab_type": "code",
    "collapsed": false,
    "id": "7AKQv69eH7x4",
    "jupyter": {
     "outputs_hidden": false
    },
    "outputId": "25bd4c3b-1674-4adc-8408-848566141490"
   },
   "outputs": [
    {
     "name": "stdout",
     "output_type": "stream",
     "text": [
      "6.66 μs ± 30.5 ns per loop (mean ± std. dev. of 7 runs, 100,000 loops each)\n"
     ]
    }
   ],
   "source": [
    "%timeit scipy.special.factorial(1000)"
   ]
  },
  {
   "cell_type": "markdown",
   "metadata": {
    "colab_type": "text",
    "id": "FXSsYMCQH7x6"
   },
   "source": [
    "or for the whole cell:"
   ]
  },
  {
   "cell_type": "code",
   "execution_count": 22,
   "metadata": {
    "colab": {
     "base_uri": "https://localhost:8080/",
     "height": 34
    },
    "colab_type": "code",
    "collapsed": false,
    "id": "f-JfQ523H7x6",
    "jupyter": {
     "outputs_hidden": false
    },
    "outputId": "287584ed-edf5-493a-d1ec-b8f6d5fb1988"
   },
   "outputs": [
    {
     "name": "stdout",
     "output_type": "stream",
     "text": [
      "5.97 ms ± 25.7 μs per loop (mean ± std. dev. of 7 runs, 100 loops each)\n"
     ]
    }
   ],
   "source": [
    "%%timeit\n",
    "for i in np.arange(1000):\n",
    "    t =  scipy.special.factorial(i)"
   ]
  },
  {
   "cell_type": "markdown",
   "metadata": {
    "colab_type": "text",
    "id": "KyLxhPrrH7x9"
   },
   "source": [
    "### os"
   ]
  },
  {
   "cell_type": "markdown",
   "metadata": {
    "colab_type": "text",
    "id": "4uO40v8yH7x9"
   },
   "source": [
    "https://docs.python.org/3/library/os.html \n",
    "This module provides a portable way of using operating system dependent functionality. If you just want to read or write a file see open(), if you want to manipulate paths, see the os.path module, and if you want to read all the lines in all the files on the command line see the fileinput module. For creating temporary files and directories see the tempfile module, and for high-level file and directory handling see the shutil module."
   ]
  },
  {
   "cell_type": "code",
   "execution_count": 23,
   "metadata": {
    "colab": {},
    "colab_type": "code",
    "collapsed": false,
    "id": "lBmM4BzFH7x9",
    "jupyter": {
     "outputs_hidden": false
    }
   },
   "outputs": [],
   "source": [
    "import os"
   ]
  },
  {
   "cell_type": "code",
   "execution_count": 24,
   "metadata": {
    "colab": {
     "base_uri": "https://localhost:8080/",
     "height": 34
    },
    "colab_type": "code",
    "collapsed": false,
    "id": "y_JgGxBRH7yA",
    "jupyter": {
     "outputs_hidden": false
    },
    "outputId": "b0109ac4-7fda-401e-f02f-110a2cd4c199"
   },
   "outputs": [
    {
     "name": "stdout",
     "output_type": "stream",
     "text": [
      "/Users/christophemorisset\n"
     ]
    }
   ],
   "source": [
    "# os.environ is a dictionnary containing the environment variables and values\n",
    "if 'HOME' in os.environ:\n",
    "    print(os.environ['HOME'])\n",
    "else:\n",
    "    print('This OS is too limited to understand HOME')"
   ]
  },
  {
   "cell_type": "code",
   "execution_count": 25,
   "metadata": {
    "colab": {
     "base_uri": "https://localhost:8080/",
     "height": 34
    },
    "colab_type": "code",
    "collapsed": false,
    "id": "vlLWYIdBH7yC",
    "jupyter": {
     "outputs_hidden": false
    },
    "outputId": "0b5f5543-4ae8-4be1-95ec-293a176df623"
   },
   "outputs": [
    {
     "name": "stdout",
     "output_type": "stream",
     "text": [
      "None\n"
     ]
    }
   ],
   "source": [
    "# if variable doesn't exists, getenv returns None\n",
    "print(os.getenv('HOMMMMMME'))"
   ]
  },
  {
   "cell_type": "code",
   "execution_count": 26,
   "metadata": {
    "colab": {
     "base_uri": "https://localhost:8080/",
     "height": 51
    },
    "colab_type": "code",
    "collapsed": false,
    "id": "KYbr2GKiH7yE",
    "jupyter": {
     "outputs_hidden": false
    },
    "outputId": "ef4f58a7-bc43-488d-838b-53bdf96b3c75"
   },
   "outputs": [
    {
     "name": "stdout",
     "output_type": "stream",
     "text": [
      "/Users/christophemorisset/Google Drive/Pro/Python-MySQL/Python-lectures-Notebooks/Notebooks\n",
      "Notebooks\n"
     ]
    }
   ],
   "source": [
    "# get current working directory\n",
    "cwd = os.getcwd()\n",
    "print(cwd)\n",
    "print(cwd.split('/')[-1])"
   ]
  },
  {
   "cell_type": "code",
   "execution_count": 28,
   "metadata": {
    "colab": {
     "base_uri": "https://localhost:8080/",
     "height": 34
    },
    "colab_type": "code",
    "collapsed": false,
    "id": "0JP8pXdqH7yG",
    "jupyter": {
     "outputs_hidden": false
    },
    "outputId": "4607ab32-a96d-475f-87b3-77f3268facd2"
   },
   "outputs": [
    {
     "name": "stdout",
     "output_type": "stream",
     "text": [
      "Dir /tmp/test3457 exists\n"
     ]
    }
   ],
   "source": [
    "new_dir = '/tmp/test3457'\n",
    "if not os.path.exists(new_dir):\n",
    "    os.mkdir(new_dir)\n",
    "    print('Dir {} created'.format(new_dir))\n",
    "else:\n",
    "    print('Dir {} exists'.format(new_dir))"
   ]
  },
  {
   "cell_type": "code",
   "execution_count": 29,
   "metadata": {
    "colab": {
     "base_uri": "https://localhost:8080/",
     "height": 34
    },
    "colab_type": "code",
    "collapsed": false,
    "id": "kGmoz7jPH7yI",
    "jupyter": {
     "outputs_hidden": false
    },
    "outputId": "7e12a6b0-3032-43fd-c146-c0baac437a80"
   },
   "outputs": [
    {
     "data": {
      "text/plain": [
       "[]"
      ]
     },
     "execution_count": 29,
     "metadata": {},
     "output_type": "execute_result"
    }
   ],
   "source": [
    "# list all the files from a directory\n",
    "os.listdir(new_dir)"
   ]
  },
  {
   "cell_type": "code",
   "execution_count": 30,
   "metadata": {
    "colab": {
     "base_uri": "https://localhost:8080/",
     "height": 35
    },
    "colab_type": "code",
    "collapsed": false,
    "id": "2uBhkUOaH7yK",
    "jupyter": {
     "outputs_hidden": false
    },
    "outputId": "955beff7-9b47-4485-cc66-639b9007d4c2"
   },
   "outputs": [
    {
     "data": {
      "text/plain": [
       "'/private/tmp/test3457'"
      ]
     },
     "execution_count": 30,
     "metadata": {},
     "output_type": "execute_result"
    }
   ],
   "source": [
    "os.chdir(new_dir)\n",
    "os.getcwd()"
   ]
  },
  {
   "cell_type": "code",
   "execution_count": 31,
   "metadata": {
    "colab": {},
    "colab_type": "code",
    "collapsed": false,
    "id": "1M8EMNZEH7yM",
    "jupyter": {
     "outputs_hidden": false
    }
   },
   "outputs": [
    {
     "name": "stdout",
     "output_type": "stream",
     "text": [
      "file b.txt renamed to b.exe\n",
      "file a.txt renamed to a.exe\n",
      "--------------------\n",
      "\u001b[34mFirefox-Cache\u001b[m\u001b[m                    \u001b[32mdrivefs_ipc.501\u001b[m\u001b[m\n",
      "a.exe                            \u001b[32mdrivefs_ipc.501_shell\u001b[m\u001b[m\n",
      "b.exe                            \u001b[32mlogi.ghub.system_tray.connection\u001b[m\u001b[m\n",
      "c.text                           \u001b[34mtest3457\u001b[m\u001b[m\n",
      "\u001b[34mcom.apple.launchd.nwOJY2Ntk5\u001b[m\u001b[m\n"
     ]
    }
   ],
   "source": [
    "# Renaming files in a directory\n",
    "os.chdir('/tmp')\n",
    "open('a.txt', 'a').close()\n",
    "open('b.txt', 'a').close()\n",
    "open('c.text', 'a').close()\n",
    "for filename in os.listdir('./'):\n",
    "    #print(filename)\n",
    "    base_file, ext = os.path.splitext(filename)\n",
    "    #print(base_file, ext)\n",
    "    if ext == '.txt':\n",
    "        newname = base_file + '.exe'\n",
    "        try:\n",
    "            os.rename(filename, newname)\n",
    "            print('file {0} renamed to {1}'.format(filename, newname))\n",
    "        except:\n",
    "            print('file {0} NOT renamed'.format(filename))\n",
    "print('-'*20)\n",
    "!ls\n",
    "os.chdir(cwd)"
   ]
  },
  {
   "cell_type": "markdown",
   "metadata": {
    "colab_type": "text",
    "id": "kaPSXOYRH7yO"
   },
   "source": [
    "### glob"
   ]
  },
  {
   "cell_type": "markdown",
   "metadata": {
    "colab_type": "text",
    "id": "6oAnvEGhH7yP"
   },
   "source": [
    "https://docs.python.org/3/library/glob.html"
   ]
  },
  {
   "cell_type": "markdown",
   "metadata": {
    "colab_type": "text",
    "id": "ZnoPMA0CH7yP"
   },
   "source": [
    "No tilde expansion is done, but *, ?, and character ranges expressed with [] will be correctly matched."
   ]
  },
  {
   "cell_type": "code",
   "execution_count": 32,
   "metadata": {
    "colab": {},
    "colab_type": "code",
    "collapsed": false,
    "id": "7CeJ7TwrH7yP",
    "jupyter": {
     "outputs_hidden": false
    }
   },
   "outputs": [],
   "source": [
    "from glob import glob"
   ]
  },
  {
   "cell_type": "code",
   "execution_count": 33,
   "metadata": {},
   "outputs": [],
   "source": [
    "os.chdir(cwd)"
   ]
  },
  {
   "cell_type": "code",
   "execution_count": 34,
   "metadata": {},
   "outputs": [
    {
     "data": {
      "text/plain": [
       "'/Users/christophemorisset/Google Drive/Pro/Python-MySQL/Python-lectures-Notebooks/Notebooks'"
      ]
     },
     "execution_count": 34,
     "metadata": {},
     "output_type": "execute_result"
    }
   ],
   "source": [
    "cwd"
   ]
  },
  {
   "cell_type": "code",
   "execution_count": 35,
   "metadata": {
    "colab": {
     "base_uri": "https://localhost:8080/",
     "height": 34
    },
    "colab_type": "code",
    "collapsed": false,
    "id": "vdS5Y2c_H7yR",
    "jupyter": {
     "outputs_hidden": false
    },
    "outputId": "a96c3f79-84f6-4e2f-a76f-835efe376027"
   },
   "outputs": [
    {
     "name": "stdout",
     "output_type": "stream",
     "text": [
      "['Calling Fortran.ipynb', 'Galaxies_classification.ipynb', 'Test-Install.ipynb', 'Using_SQLalchemy.ipynb', 'intro_Scipy.ipynb', 'ANN.ipynb', 'Ex1_with_res.ipynb', 'Parallel.ipynb', 'OOP.ipynb', 'Using_astropy.ipynb', 'Tarea_1.ipynb', 'Interact with files.ipynb', 'Useful_libraries.ipynb', 'intro_numpy.ipynb', 'intro_Python.ipynb', 'Redshifts_ai4neb.ipynb', 'Ex1_done.ipynb', 'Ex1.ipynb', 'intro_Matplotlib.ipynb', 'Optimization.ipynb', 'Evaluacion.ipynb', 'Redshifts.ipynb', 'Using_astroquery.ipynb']\n"
     ]
    }
   ],
   "source": [
    "ipynb_files = glob('*.ipynb')\n",
    "print(ipynb_files)"
   ]
  },
  {
   "cell_type": "markdown",
   "metadata": {},
   "source": [
    "glob is also included in pathlib, better use it from there:"
   ]
  },
  {
   "cell_type": "markdown",
   "metadata": {
    "colab_type": "text",
    "id": "P4M6EE0lH7yT"
   },
   "source": [
    "### pathlib"
   ]
  },
  {
   "cell_type": "markdown",
   "metadata": {},
   "source": [
    "https://docs.python.org/3/library/pathlib.html"
   ]
  },
  {
   "cell_type": "code",
   "execution_count": 37,
   "metadata": {
    "colab": {},
    "colab_type": "code",
    "id": "r7rccabJH7yT"
   },
   "outputs": [],
   "source": [
    "from pathlib import Path"
   ]
  },
  {
   "cell_type": "code",
   "execution_count": 38,
   "metadata": {
    "colab": {
     "base_uri": "https://localhost:8080/",
     "height": 68
    },
    "colab_type": "code",
    "id": "XWzbJNo9H7yV",
    "outputId": "b21b6ada-1204-461f-996a-c944d477c5d8"
   },
   "outputs": [
    {
     "name": "stdout",
     "output_type": "stream",
     "text": [
      "/tmp/test1236\n",
      "test1236\n",
      "/tmp\n"
     ]
    }
   ],
   "source": [
    "new_dir = Path('/tmp/test1236')\n",
    "print(new_dir)\n",
    "print(new_dir.name)\n",
    "print(new_dir.parent)"
   ]
  },
  {
   "cell_type": "code",
   "execution_count": 39,
   "metadata": {
    "colab": {
     "base_uri": "https://localhost:8080/",
     "height": 68
    },
    "colab_type": "code",
    "id": "UC-fupn0H7yX",
    "outputId": "b113f3fe-1c69-4cf7-c8df-e474db9bd2d6"
   },
   "outputs": [
    {
     "name": "stdout",
     "output_type": "stream",
     "text": [
      "/tmp/test1236\n",
      "test1236\n",
      "/tmp\n"
     ]
    }
   ],
   "source": [
    "new_dir = Path('/tmp') / Path('test1236')\n",
    "print(new_dir)\n",
    "print(new_dir.name)\n",
    "print(new_dir.parent)"
   ]
  },
  {
   "cell_type": "code",
   "execution_count": 41,
   "metadata": {
    "colab": {
     "base_uri": "https://localhost:8080/",
     "height": 34
    },
    "colab_type": "code",
    "id": "vDcvaOqmH7yY",
    "outputId": "1a4cdcaa-381d-4fbf-d570-1886495ca978"
   },
   "outputs": [
    {
     "name": "stdout",
     "output_type": "stream",
     "text": [
      "Dir /tmp/test1236 exists\n"
     ]
    }
   ],
   "source": [
    "if not new_dir.exists():\n",
    "    new_dir.mkdir() # may use exist_ok=True\n",
    "    print('Dir {} created'.format(new_dir))\n",
    "else:\n",
    "    print('Dir {} exists'.format(new_dir))"
   ]
  },
  {
   "cell_type": "code",
   "execution_count": 46,
   "metadata": {
    "colab": {},
    "colab_type": "code",
    "id": "a7QuThp0H7ya"
   },
   "outputs": [
    {
     "name": "stdout",
     "output_type": "stream",
     "text": [
      "Calling Fortran.ipynb is Calling Fortran + .ipynb\n",
      "Galaxies_classification.ipynb is Galaxies_classification + .ipynb\n",
      "Test-Install.ipynb is Test-Install + .ipynb\n",
      "Using_SQLalchemy.ipynb is Using_SQLalchemy + .ipynb\n",
      "intro_Scipy.ipynb is intro_Scipy + .ipynb\n",
      "ANN.ipynb is ANN + .ipynb\n",
      "Ex1_with_res.ipynb is Ex1_with_res + .ipynb\n",
      "Parallel.ipynb is Parallel + .ipynb\n",
      "OOP.ipynb is OOP + .ipynb\n",
      "Using_astropy.ipynb is Using_astropy + .ipynb\n",
      "Tarea_1.ipynb is Tarea_1 + .ipynb\n",
      "Interact with files.ipynb is Interact with files + .ipynb\n",
      "Useful_libraries.ipynb is Useful_libraries + .ipynb\n",
      "intro_numpy.ipynb is intro_numpy + .ipynb\n",
      "intro_Python.ipynb is intro_Python + .ipynb\n",
      "Redshifts_ai4neb.ipynb is Redshifts_ai4neb + .ipynb\n",
      "Ex1_done.ipynb is Ex1_done + .ipynb\n",
      "Ex1.ipynb is Ex1 + .ipynb\n",
      "intro_Matplotlib.ipynb is intro_Matplotlib + .ipynb\n",
      "Optimization.ipynb is Optimization + .ipynb\n",
      "Evaluacion.ipynb is Evaluacion + .ipynb\n",
      "Redshifts.ipynb is Redshifts + .ipynb\n",
      "Using_astroquery.ipynb is Using_astroquery + .ipynb\n"
     ]
    }
   ],
   "source": [
    "current = Path('.')\n",
    "for f in current.glob('*.ipynb'):\n",
    "    print(f\"{f} is {f.stem} + {f.suffix}\")"
   ]
  },
  {
   "cell_type": "code",
   "execution_count": 44,
   "metadata": {
    "colab": {
     "base_uri": "https://localhost:8080/",
     "height": 51
    },
    "colab_type": "code",
    "id": "oT4uVENSH7yc",
    "outputId": "9357e8f0-36db-4514-b3b0-6e3b9803f4e7"
   },
   "outputs": [
    {
     "name": "stdout",
     "output_type": "stream",
     "text": [
      "['test5678.txt', 'test1234.txt']\n",
      "['test1234.txt2', 'test5678.txt2']\n"
     ]
    }
   ],
   "source": [
    "new_dir = Path('/tmp') / Path('test1236')\n",
    "for f in new_dir.glob('test*.txt*'):\n",
    "    f.unlink() # remove file\n",
    "\n",
    "f = new_dir / Path('test1234.txt')\n",
    "f.touch()\n",
    "f = new_dir / Path('test5678.txt')\n",
    "f.touch()\n",
    "print([f.name for f in new_dir.glob('test*.txt*')])\n",
    "\n",
    "for f in new_dir.glob('test*.txt'):\n",
    "    new_f = f.with_suffix('.txt2')\n",
    "    if not new_f.exists():\n",
    "        f.rename(new_f)\n",
    "    else:\n",
    "        print('{} exists'.format(new_f))\n",
    "\n",
    "print([f.name for f in new_dir.glob('test*.txt*')])"
   ]
  },
  {
   "cell_type": "markdown",
   "metadata": {
    "colab_type": "text",
    "id": "9F_EN2-aH7yd"
   },
   "source": [
    "### sys"
   ]
  },
  {
   "cell_type": "code",
   "execution_count": 49,
   "metadata": {},
   "outputs": [
    {
     "data": {
      "text/plain": [
       "'/Users/christophemorisset/Google Drive/Pro/Python-MySQL/Python-lectures-Notebooks/Notebooks'"
      ]
     },
     "execution_count": 49,
     "metadata": {},
     "output_type": "execute_result"
    }
   ],
   "source": [
    "pwd"
   ]
  },
  {
   "cell_type": "markdown",
   "metadata": {
    "colab_type": "text",
    "id": "oz0aXUoWH7ye"
   },
   "source": [
    "https://docs.python.org/3/library/sys.html\n",
    "This module provides access to some variables used or maintained by the interpreter and to functions that interact strongly with the interpreter. It is always available.\n",
    "\n",
    "The sys.argv list contains the arguments passed to the script, when the interpreter was started. The first item contains the name of the script itself."
   ]
  },
  {
   "cell_type": "code",
   "execution_count": 47,
   "metadata": {
    "colab": {
     "base_uri": "https://localhost:8080/",
     "height": 34
    },
    "colab_type": "code",
    "collapsed": false,
    "id": "rY6RzBbCH7ye",
    "jupyter": {
     "outputs_hidden": false
    },
    "outputId": "605fe260-b574-4f80-a0f1-fb9e913c8f96"
   },
   "outputs": [
    {
     "name": "stdout",
     "output_type": "stream",
     "text": [
      "Overwriting sys_text.py\n"
     ]
    }
   ],
   "source": [
    "%%writefile sys_text.py\n",
    "import sys\n",
    "for arg in sys.argv:\n",
    "    print(arg)\n"
   ]
  },
  {
   "cell_type": "code",
   "execution_count": 48,
   "metadata": {
    "colab": {
     "base_uri": "https://localhost:8080/",
     "height": 68
    },
    "colab_type": "code",
    "collapsed": false,
    "id": "q5yEYmmMH7yf",
    "jupyter": {
     "outputs_hidden": false
    },
    "outputId": "ddde33f0-3f2b-4787-be03-fe8059c77dac"
   },
   "outputs": [
    {
     "name": "stdout",
     "output_type": "stream",
     "text": [
      "import sys\n",
      "for arg in sys.argv:\n",
      "    print(arg)\n"
     ]
    }
   ],
   "source": [
    "!cat sys_text.py"
   ]
  },
  {
   "cell_type": "code",
   "execution_count": 51,
   "metadata": {
    "colab": {
     "base_uri": "https://localhost:8080/",
     "height": 51
    },
    "colab_type": "code",
    "collapsed": false,
    "id": "n0Hw7VJ6H7yh",
    "jupyter": {
     "outputs_hidden": false
    },
    "outputId": "5db71827-7b78-43e9-da40-384b6caf948c"
   },
   "outputs": [
    {
     "name": "stdout",
     "output_type": "stream",
     "text": [
      "sys_text.py\n",
      "tralala\n",
      "trololo\n",
      "1234\n"
     ]
    }
   ],
   "source": [
    "! python sys_text.py tralala trololo 1234"
   ]
  },
  {
   "cell_type": "code",
   "execution_count": 52,
   "metadata": {
    "colab": {
     "base_uri": "https://localhost:8080/",
     "height": 34
    },
    "colab_type": "code",
    "collapsed": false,
    "id": "9L5py-KDH7yj",
    "jupyter": {
     "outputs_hidden": false
    },
    "outputId": "b95f7a0f-96cb-4b92-fb49-9d12ddfd1aad"
   },
   "outputs": [
    {
     "name": "stdout",
     "output_type": "stream",
     "text": [
      "Overwriting fact.py\n"
     ]
    }
   ],
   "source": [
    "%%writefile fact.py\n",
    "import sys\n",
    "import scipy\n",
    "print(scipy.special.factorial(int(sys.argv[1])))"
   ]
  },
  {
   "cell_type": "code",
   "execution_count": 54,
   "metadata": {
    "colab": {
     "base_uri": "https://localhost:8080/",
     "height": 85
    },
    "colab_type": "code",
    "collapsed": false,
    "id": "6nTcEAO6H7ym",
    "jupyter": {
     "outputs_hidden": false
    },
    "outputId": "e6055f5b-506a-4c22-aef3-e0c19d2dd63e"
   },
   "outputs": [
    {
     "name": "stdout",
     "output_type": "stream",
     "text": [
      "8.32098711274139e+81\n"
     ]
    }
   ],
   "source": [
    "! python fact.py 60"
   ]
  },
  {
   "cell_type": "markdown",
   "metadata": {
    "colab_type": "text",
    "id": "iKtaOioHH7yn"
   },
   "source": [
    "A more complete managment of the argument (especially those like --v) is available using the argparse library. https://docs.python.org/3/library/argparse.html"
   ]
  },
  {
   "cell_type": "markdown",
   "metadata": {
    "colab_type": "text",
    "id": "QdzXPqo1H7yo"
   },
   "source": [
    "### Talking to the OS subprocess"
   ]
  },
  {
   "cell_type": "markdown",
   "metadata": {
    "colab_type": "text",
    "id": "0ncmBCC4H7yo"
   },
   "source": [
    "The os.popen method is deprecated, subprocess is prefered. https://docs.python.org/3/library/subprocess.html . A good tutorial is here: http://pymotw.com/3/subprocess/"
   ]
  },
  {
   "cell_type": "code",
   "execution_count": 56,
   "metadata": {
    "colab": {},
    "colab_type": "code",
    "collapsed": false,
    "id": "Xp7Yb8C_H7yo",
    "jupyter": {
     "outputs_hidden": false
    }
   },
   "outputs": [],
   "source": [
    "import subprocess"
   ]
  },
  {
   "cell_type": "code",
   "execution_count": 58,
   "metadata": {},
   "outputs": [
    {
     "name": "stdout",
     "output_type": "stream",
     "text": [
      "total 133576\n",
      "-rw-r--r--  1 christophemorisset  staff    735972 Feb 11 09:43 ANN.ipynb\n",
      "-rwxr-xr-x  1 christophemorisset  staff    173771 Feb 11 09:43 \u001b[31mANN_1_2.png\u001b[m\u001b[m\n",
      "-rw-r--r--  1 christophemorisset  staff     20137 Feb 11 09:43 Calling Fortran.ipynb\n",
      "-rw-r--r--  1 christophemorisset  staff     86815 Feb 11 09:43 Calling Fortran.pdf\n",
      "-rw-r--r--  1 christophemorisset  staff   3600128 Feb 11 09:43 DR9_photo-z-small.npy\n",
      "-rw-r--r--  1 christophemorisset  staff       217 Feb 25 12:46 Demo.pickle\n",
      "-rw-r--r--  1 christophemorisset  staff       194 Feb 25 12:45 Demo.pklz\n",
      "-rw-r--r--  1 christophemorisset  staff       445 Feb 11 09:43 Evaluacion.ipynb\n",
      "-rw-r--r--  1 christophemorisset  staff      7717 Feb 11 09:43 Ex1.ipynb\n",
      "-rw-r--r--  1 christophemorisset  staff    381664 Feb 11 09:43 Ex1_done.ipynb\n",
      "-rw-r--r--  1 christophemorisset  staff    315341 Feb 11 09:43 Ex1_with_res.ipynb\n",
      "-rw-------  1 christophemorisset  staff    120910 Mar 11 11:13 Fig1.pdf\n",
      "-rw-r--r--  1 christophemorisset  staff     23342 Feb 11 09:43 Galaxies_classification.ipynb\n",
      "-rw-r--r--  1 christophemorisset  staff   1177040 Feb 11 09:43 HII.dat\n",
      "-rw-r--r--  1 christophemorisset  staff    853215 Feb 11 09:43 InstallPython.key\n",
      "-rw-------  1 christophemorisset  staff    709810 Mar 11 16:57 Interact with files.ipynb\n",
      "-rw-r--r--  1 christophemorisset  staff    432747 Feb 11 09:43 Interact with files.pdf\n",
      "-rw-r--r--  1 christophemorisset  staff    131497 Feb 11 09:43 Intro_1.odp\n",
      "-rw-r--r--  1 christophemorisset  staff    174202 Feb 11 09:43 Intro_1.pdf\n",
      "-rw-r--r--  1 christophemorisset  staff    130234 Feb 11 09:43 Intro_2014.odp\n",
      "-rw-r--r--  1 christophemorisset  staff   1477306 Feb 11 09:43 Machine Learning.pdf\n",
      "-rw-r--r--  1 christophemorisset  staff   1698962 Feb 11 09:43 MySQL 2.pdf\n",
      "-rw-r--r--  1 christophemorisset  staff    108782 Feb 11 09:43 MySQL.pdf\n",
      "-rw-r--r--  1 christophemorisset  staff   1166839 Feb 11 09:43 OOP.ipynb\n",
      "-rw-r--r--  1 christophemorisset  staff    536767 Feb 11 09:43 OOP.pdf\n",
      "-rw-r--r--  1 christophemorisset  staff     98792 Feb 11 09:43 Optimization.ipynb\n",
      "-rw-r--r--  1 christophemorisset  staff    481656 Feb 11 09:43 Optimization.pdf\n",
      "-rw-r--r--  1 christophemorisset  staff      2537 Feb 11 09:43 Parallel.ipynb\n",
      "-rw-r--r--  1 christophemorisset  staff    158652 Feb 11 09:43 Redshifts.ipynb\n",
      "-rw-r--r--  1 christophemorisset  staff    939003 Feb 11 09:43 Redshifts_ai4neb.ipynb\n",
      "-rw-r--r--  1 christophemorisset  staff      6120 Feb 11 09:43 Tarea_1.ipynb\n",
      "-rw-r--r--  1 christophemorisset  staff      1434 Feb 11 09:43 Test-Install.ipynb\n",
      "-rw-------  2 christophemorisset  staff     47792 Mar 25 11:00 Useful_libraries.ipynb\n",
      "-rw-r--r--  1 christophemorisset  staff    514073 Feb 11 09:43 Useful_libraries.pdf\n",
      "-rw-r--r--  1 christophemorisset  staff    120874 Feb 11 09:43 Using_SQLalchemy.ipynb\n",
      "-rw-r--r--  1 christophemorisset  staff     80302 Feb 11 09:43 Using_SQLalchemy.pdf\n",
      "-rw-------  1 christophemorisset  staff     38403 Mar 25 09:42 Using_astropy.ipynb\n",
      "-rw-r--r--  1 christophemorisset  staff    208399 Feb 11 09:43 Using_astropy.pdf\n",
      "-rw-r--r--  1 christophemorisset  staff     93320 Feb 11 09:43 Using_astroquery.ipynb\n",
      "-rw-r--r--  1 christophemorisset  staff     70028 Feb 11 09:43 Using_astroquery.pdf\n",
      "drwxr-xr-x  5 christophemorisset  staff       160 Feb 13 09:23 \u001b[34m__pycache__\u001b[m\u001b[m\n",
      "-rw-r--r--  1 christophemorisset  staff       114 Feb 11 09:43 call_test_2_err.py\n",
      "-rw-r--r--  1 christophemorisset  staff  14794880 Feb 11 09:43 cosmo-early.npy\n",
      "-rw-r--r--  1 christophemorisset  staff  14794880 Feb 11 09:43 cosmo-late.npy\n",
      "-rw-r--r--  1 christophemorisset  staff        65 Feb 25 10:15 data1.dat\n",
      "-rw-r--r--  1 christophemorisset  staff        14 Feb 25 12:22 data10.dat\n",
      "-rw-r--r--  1 christophemorisset  staff        16 Feb 25 12:36 data11.dat\n",
      "-rw-r--r--  1 christophemorisset  staff        16 Feb 25 12:36 data11.dat.gz\n",
      "-rw-r--r--  1 christophemorisset  staff       148 Feb 25 12:32 data12.dat\n",
      "-rw-------  1 christophemorisset  staff       210 Mar 24 19:50 data2.dat\n",
      "-rw-r--r--  1 christophemorisset  staff       165 Feb 25 11:42 data3.dat\n",
      "-rw-r--r--  1 christophemorisset  staff      1188 Feb 25 12:09 data4.dat\n",
      "-rw-r--r--  1 christophemorisset  staff      1186 Feb 25 12:11 data5.dat\n",
      "-rw-------  1 christophemorisset  staff      1187 Mar 24 20:11 data6.dat\n",
      "-rw-r--r--  1 christophemorisset  staff       298 Feb 11 09:43 dcumsum.f\n",
      "-rw-r--r--@ 1 christophemorisset  staff      1206 Feb 11 11:36 ex1.html\n",
      "-rw-------  1 christophemorisset  staff       159 Feb 11 21:45 ex1.py\n",
      "-rw-r--r--  1 christophemorisset  staff         8 Feb 11 09:43 ex1.txt\n",
      "-rw-r--r--  1 christophemorisset  staff       201 Feb 11 11:57 ex2.py\n",
      "-rw-------  1 christophemorisset  staff        39 Feb 13 09:14 ex3.py\n",
      "-rw-------  1 christophemorisset  staff        73 Mar 25 10:56 fact.py\n",
      "-rw-r--r--  1 christophemorisset  staff      4214 Feb 11 09:43 grep.py\n",
      "-rw-r--r--  1 christophemorisset  staff      4995 Feb 11 09:43 grep2.py\n",
      "-rw-r--r--  1 christophemorisset  staff      6319 Feb 11 09:43 grep3.py\n",
      "-rw-r--r--  1 christophemorisset  staff        49 Feb 11 09:43 hello.py\n",
      "-rw-r--r--  1 christophemorisset  staff      1090 Feb 11 09:43 hellofortran.c\n",
      "-rw-r--r--  1 christophemorisset  staff       178 Feb 11 09:43 hellofortran.f\n",
      "-rw-r--r--  1 christophemorisset  staff     33976 Feb 11 09:43 hellofortran.so\n",
      "-rw-r--r--  1 christophemorisset  staff       150 Feb 11 09:43 index.html\n",
      "-rw-------  1 christophemorisset  staff   4321848 Mar 24 19:22 intro_Matplotlib.ipynb\n",
      "-rw-r--r--  1 christophemorisset  staff   1677612 Feb 11 09:43 intro_Matplotlib.pdf\n",
      "-rw-r--r--  1 christophemorisset  staff    326924 Feb 11 09:43 intro_Python.html\n",
      "-rw-------  1 christophemorisset  staff    112578 Feb 13 09:17 intro_Python.ipynb\n",
      "-rw-r--r--  1 christophemorisset  staff    119242 Feb 11 09:43 intro_Python.pdf\n",
      "-rw-r--r--  1 christophemorisset  staff    179449 Feb 11 09:43 intro_Python_2.pdf\n",
      "-rw-r--r--  1 christophemorisset  staff    103229 Feb 11 09:43 intro_Python_3.pdf\n",
      "-rw-r--r--  1 christophemorisset  staff    884823 Mar 18 11:45 intro_Scipy.ipynb\n",
      "-rw-r--r--  1 christophemorisset  staff    683346 Feb 11 09:43 intro_Scipy.pdf\n",
      "-rw-------  1 christophemorisset  staff    125046 Feb 19 15:24 intro_numpy.ipynb\n",
      "-rw-r--r--  1 christophemorisset  staff    128064 Feb 11 09:43 intro_numpy.pdf\n",
      "drwxr-xr-x  3 christophemorisset  staff        96 Feb 11 09:43 \u001b[34mmastDownload\u001b[m\u001b[m\n",
      "-rw-r--r--  1 christophemorisset  staff   8830080 Feb 11 09:43 n10017o.fits\n",
      "-rw-r--r--  1 christophemorisset  staff      5760 Feb 25 12:59 new.fits\n",
      "-rw-r--r--  1 christophemorisset  staff    435801 Feb 11 09:43 query_res.dat\n",
      "-rw-r--r--  1 christophemorisset  staff   1538520 Mar 11 11:28 scatter.pdf\n",
      "-rw-r--r--  1 christophemorisset  staff    129658 Mar 11 11:28 scatter.png\n",
      "-rw-r--r--  1 christophemorisset  staff    860498 Mar 11 11:28 scatter3.png\n",
      "-rw-r--r--  1 christophemorisset  staff   1059840 Feb 11 09:43 swp04345.mxhi\n",
      "-rw-r--r--  1 christophemorisset  staff        47 Mar 25 10:52 sys_text.py\n",
      "-rw-r--r--  1 christophemorisset  staff       354 Mar 24 20:10 tab1.dat\n",
      "-rw-r--r--  1 christophemorisset  staff       668 Mar 24 20:19 tab_cds1.ascii\n",
      "-rw-r--r--  1 christophemorisset  staff     43200 Feb 11 09:43 tab_cds1.fits\n",
      "-rw-r--r--  1 christophemorisset  staff      1334 Mar 24 20:18 tab_cds1.tex\n",
      "-rw-r--r--  1 christophemorisset  staff      1617 Mar 24 20:19 tab_cds2.ascii\n",
      "-rw-------  1 christophemorisset  staff       455 Mar 24 20:08 table.html\n"
     ]
    }
   ],
   "source": [
    "var0 = subprocess.run(['ls', '-l'])"
   ]
  },
  {
   "cell_type": "code",
   "execution_count": 59,
   "metadata": {},
   "outputs": [],
   "source": [
    "var0 = subprocess.run(['ls', '-l'], capture_output=True, text=True)"
   ]
  },
  {
   "cell_type": "code",
   "execution_count": 60,
   "metadata": {},
   "outputs": [
    {
     "name": "stdout",
     "output_type": "stream",
     "text": [
      "total 133576\n",
      "-rw-r--r--  1 christophemorisset  staff    735972 Feb 11 09:43 ANN.ipynb\n",
      "-rwxr-xr-x  1 christophemorisset  staff    173771 Feb 11 09:43 \u001b[31mANN_1_2.png\u001b[m\u001b[m\n",
      "-rw-r--r--  1 christophemorisset  staff     20137 Feb 11 09:43 Calling Fortran.ipynb\n",
      "-rw-r--r--  1 christophemorisset  staff     86815 Feb 11 09:43 Calling Fortran.pdf\n",
      "-rw-r--r--  1 christophemorisset  staff   3600128 Feb 11 09:43 DR9_photo-z-small.npy\n",
      "-rw-r--r--  1 christophemorisset  staff       217 Feb 25 12:46 Demo.pickle\n",
      "-rw-r--r--  1 christophemorisset  staff       194 Feb 25 12:45 Demo.pklz\n",
      "-rw-r--r--  1 christophemorisset  staff       445 Feb 11 09:43 Evaluacion.ipynb\n",
      "-rw-r--r--  1 christophemorisset  staff      7717 Feb 11 09:43 Ex1.ipynb\n",
      "-rw-r--r--  1 christophemorisset  staff    381664 Feb 11 09:43 Ex1_done.ipynb\n",
      "-rw-r--r--  1 christophemorisset  staff    315341 Feb 11 09:43 Ex1_with_res.ipynb\n",
      "-rw-------  1 christophemorisset  staff    120910 Mar 11 11:13 Fig1.pdf\n",
      "-rw-r--r--  1 christophemorisset  staff     23342 Feb 11 09:43 Galaxies_classification.ipynb\n",
      "-rw-r--r--  1 christophemorisset  staff   1177040 Feb 11 09:43 HII.dat\n",
      "-rw-r--r--  1 christophemorisset  staff    853215 Feb 11 09:43 InstallPython.key\n",
      "-rw-------  1 christophemorisset  staff    709810 Mar 11 16:57 Interact with files.ipynb\n",
      "-rw-r--r--  1 christophemorisset  staff    432747 Feb 11 09:43 Interact with files.pdf\n",
      "-rw-r--r--  1 christophemorisset  staff    131497 Feb 11 09:43 Intro_1.odp\n",
      "-rw-r--r--  1 christophemorisset  staff    174202 Feb 11 09:43 Intro_1.pdf\n",
      "-rw-r--r--  1 christophemorisset  staff    130234 Feb 11 09:43 Intro_2014.odp\n",
      "-rw-r--r--  1 christophemorisset  staff   1477306 Feb 11 09:43 Machine Learning.pdf\n",
      "-rw-r--r--  1 christophemorisset  staff   1698962 Feb 11 09:43 MySQL 2.pdf\n",
      "-rw-r--r--  1 christophemorisset  staff    108782 Feb 11 09:43 MySQL.pdf\n",
      "-rw-r--r--  1 christophemorisset  staff   1166839 Feb 11 09:43 OOP.ipynb\n",
      "-rw-r--r--  1 christophemorisset  staff    536767 Feb 11 09:43 OOP.pdf\n",
      "-rw-r--r--  1 christophemorisset  staff     98792 Feb 11 09:43 Optimization.ipynb\n",
      "-rw-r--r--  1 christophemorisset  staff    481656 Feb 11 09:43 Optimization.pdf\n",
      "-rw-r--r--  1 christophemorisset  staff      2537 Feb 11 09:43 Parallel.ipynb\n",
      "-rw-r--r--  1 christophemorisset  staff    158652 Feb 11 09:43 Redshifts.ipynb\n",
      "-rw-r--r--  1 christophemorisset  staff    939003 Feb 11 09:43 Redshifts_ai4neb.ipynb\n",
      "-rw-r--r--  1 christophemorisset  staff      6120 Feb 11 09:43 Tarea_1.ipynb\n",
      "-rw-r--r--  1 christophemorisset  staff      1434 Feb 11 09:43 Test-Install.ipynb\n",
      "-rw-------  1 christophemorisset  staff     47792 Mar 25 11:00 Useful_libraries.ipynb\n",
      "-rw-r--r--  1 christophemorisset  staff    514073 Feb 11 09:43 Useful_libraries.pdf\n",
      "-rw-r--r--  1 christophemorisset  staff    120874 Feb 11 09:43 Using_SQLalchemy.ipynb\n",
      "-rw-r--r--  1 christophemorisset  staff     80302 Feb 11 09:43 Using_SQLalchemy.pdf\n",
      "-rw-------  1 christophemorisset  staff     38403 Mar 25 09:42 Using_astropy.ipynb\n",
      "-rw-r--r--  1 christophemorisset  staff    208399 Feb 11 09:43 Using_astropy.pdf\n",
      "-rw-r--r--  1 christophemorisset  staff     93320 Feb 11 09:43 Using_astroquery.ipynb\n",
      "-rw-r--r--  1 christophemorisset  staff     70028 Feb 11 09:43 Using_astroquery.pdf\n",
      "drwxr-xr-x  5 christophemorisset  staff       160 Feb 13 09:23 \u001b[34m__pycache__\u001b[m\u001b[m\n",
      "-rw-r--r--  1 christophemorisset  staff       114 Feb 11 09:43 call_test_2_err.py\n",
      "-rw-r--r--  1 christophemorisset  staff  14794880 Feb 11 09:43 cosmo-early.npy\n",
      "-rw-r--r--  1 christophemorisset  staff  14794880 Feb 11 09:43 cosmo-late.npy\n",
      "-rw-r--r--  1 christophemorisset  staff        65 Feb 25 10:15 data1.dat\n",
      "-rw-r--r--  1 christophemorisset  staff        14 Feb 25 12:22 data10.dat\n",
      "-rw-r--r--  1 christophemorisset  staff        16 Feb 25 12:36 data11.dat\n",
      "-rw-r--r--  1 christophemorisset  staff        16 Feb 25 12:36 data11.dat.gz\n",
      "-rw-r--r--  1 christophemorisset  staff       148 Feb 25 12:32 data12.dat\n",
      "-rw-------  1 christophemorisset  staff       210 Mar 24 19:50 data2.dat\n",
      "-rw-r--r--  1 christophemorisset  staff       165 Feb 25 11:42 data3.dat\n",
      "-rw-r--r--  1 christophemorisset  staff      1188 Feb 25 12:09 data4.dat\n",
      "-rw-r--r--  1 christophemorisset  staff      1186 Feb 25 12:11 data5.dat\n",
      "-rw-------  1 christophemorisset  staff      1187 Mar 24 20:11 data6.dat\n",
      "-rw-r--r--  1 christophemorisset  staff       298 Feb 11 09:43 dcumsum.f\n",
      "-rw-r--r--@ 1 christophemorisset  staff      1206 Feb 11 11:36 ex1.html\n",
      "-rw-------  1 christophemorisset  staff       159 Feb 11 21:45 ex1.py\n",
      "-rw-r--r--  1 christophemorisset  staff         8 Feb 11 09:43 ex1.txt\n",
      "-rw-r--r--  1 christophemorisset  staff       201 Feb 11 11:57 ex2.py\n",
      "-rw-------  1 christophemorisset  staff        39 Feb 13 09:14 ex3.py\n",
      "-rw-------  1 christophemorisset  staff        73 Mar 25 10:56 fact.py\n",
      "-rw-r--r--  1 christophemorisset  staff      4214 Feb 11 09:43 grep.py\n",
      "-rw-r--r--  1 christophemorisset  staff      4995 Feb 11 09:43 grep2.py\n",
      "-rw-r--r--  1 christophemorisset  staff      6319 Feb 11 09:43 grep3.py\n",
      "-rw-r--r--  1 christophemorisset  staff        49 Feb 11 09:43 hello.py\n",
      "-rw-r--r--  1 christophemorisset  staff      1090 Feb 11 09:43 hellofortran.c\n",
      "-rw-r--r--  1 christophemorisset  staff       178 Feb 11 09:43 hellofortran.f\n",
      "-rw-r--r--  1 christophemorisset  staff     33976 Feb 11 09:43 hellofortran.so\n",
      "-rw-r--r--  1 christophemorisset  staff       150 Feb 11 09:43 index.html\n",
      "-rw-------  1 christophemorisset  staff   4321848 Mar 24 19:22 intro_Matplotlib.ipynb\n",
      "-rw-r--r--  1 christophemorisset  staff   1677612 Feb 11 09:43 intro_Matplotlib.pdf\n",
      "-rw-r--r--  1 christophemorisset  staff    326924 Feb 11 09:43 intro_Python.html\n",
      "-rw-------  1 christophemorisset  staff    112578 Feb 13 09:17 intro_Python.ipynb\n",
      "-rw-r--r--  1 christophemorisset  staff    119242 Feb 11 09:43 intro_Python.pdf\n",
      "-rw-r--r--  1 christophemorisset  staff    179449 Feb 11 09:43 intro_Python_2.pdf\n",
      "-rw-r--r--  1 christophemorisset  staff    103229 Feb 11 09:43 intro_Python_3.pdf\n",
      "-rw-r--r--  1 christophemorisset  staff    884823 Mar 18 11:45 intro_Scipy.ipynb\n",
      "-rw-r--r--  1 christophemorisset  staff    683346 Feb 11 09:43 intro_Scipy.pdf\n",
      "-rw-------  1 christophemorisset  staff    125046 Feb 19 15:24 intro_numpy.ipynb\n",
      "-rw-r--r--  1 christophemorisset  staff    128064 Feb 11 09:43 intro_numpy.pdf\n",
      "drwxr-xr-x  3 christophemorisset  staff        96 Feb 11 09:43 \u001b[34mmastDownload\u001b[m\u001b[m\n",
      "-rw-r--r--  1 christophemorisset  staff   8830080 Feb 11 09:43 n10017o.fits\n",
      "-rw-r--r--  1 christophemorisset  staff      5760 Feb 25 12:59 new.fits\n",
      "-rw-r--r--  1 christophemorisset  staff    435801 Feb 11 09:43 query_res.dat\n",
      "-rw-r--r--  1 christophemorisset  staff   1538520 Mar 11 11:28 scatter.pdf\n",
      "-rw-r--r--  1 christophemorisset  staff    129658 Mar 11 11:28 scatter.png\n",
      "-rw-r--r--  1 christophemorisset  staff    860498 Mar 11 11:28 scatter3.png\n",
      "-rw-r--r--  1 christophemorisset  staff   1059840 Feb 11 09:43 swp04345.mxhi\n",
      "-rw-r--r--  1 christophemorisset  staff        47 Mar 25 10:52 sys_text.py\n",
      "-rw-r--r--  1 christophemorisset  staff       354 Mar 24 20:10 tab1.dat\n",
      "-rw-r--r--  1 christophemorisset  staff       668 Mar 24 20:19 tab_cds1.ascii\n",
      "-rw-r--r--  1 christophemorisset  staff     43200 Feb 11 09:43 tab_cds1.fits\n",
      "-rw-r--r--  1 christophemorisset  staff      1334 Mar 24 20:18 tab_cds1.tex\n",
      "-rw-r--r--  1 christophemorisset  staff      1617 Mar 24 20:19 tab_cds2.ascii\n",
      "-rw-------  1 christophemorisset  staff       455 Mar 24 20:08 table.html\n",
      "\n"
     ]
    }
   ],
   "source": [
    "print(var0.stdout)"
   ]
  },
  {
   "cell_type": "markdown",
   "metadata": {},
   "source": [
    "If you do not want to wait untill the command finishes, use Popen. It starts the command, and communicate() is transmiting the response of the command."
   ]
  },
  {
   "cell_type": "code",
   "execution_count": 61,
   "metadata": {
    "colab": {
     "base_uri": "https://localhost:8080/",
     "height": 34
    },
    "colab_type": "code",
    "collapsed": false,
    "id": "jYxGkVsLH7yw",
    "jupyter": {
     "outputs_hidden": false
    },
    "outputId": "8345f68f-94a6-4dd9-8b30-59a2a1c9c8d1"
   },
   "outputs": [
    {
     "name": "stdout",
     "output_type": "stream",
     "text": [
      "<Popen: returncode: None args: 'ls -l'>\n"
     ]
    }
   ],
   "source": [
    "command = 'ls -l'\n",
    "popen = subprocess.Popen(command, shell=True)\n",
    "print(popen)"
   ]
  },
  {
   "cell_type": "code",
   "execution_count": 62,
   "metadata": {
    "colab": {
     "base_uri": "https://localhost:8080/",
     "height": 119
    },
    "colab_type": "code",
    "collapsed": false,
    "id": "jN9M7W9AH7yy",
    "jupyter": {
     "outputs_hidden": false
    },
    "outputId": "d7363d86-c8ad-44e2-8268-acd9774564f9"
   },
   "outputs": [
    {
     "name": "stdout",
     "output_type": "stream",
     "text": [
      "<class 'bytes'>\n",
      "--------------------\n",
      "b'total 133592\\n-rw-r--r--  1 christophemorisset  staff    735972 Feb 11 09:43 ANN.ipynb\\n-rwxr-xr-x  1 christophemorisset  staff    173771 Feb 11 09:43 \\x1b[31mANN_1_2.png\\x1b[m\\x1b[m\\n-rw-r--r--  1 christophemorisset  staff     20137 Feb 11 09:43 Calling Fortran.ipynb\\n-rw-r--r--  1 christophemorisset  staff     86815 Feb 11 09:43 Calling Fortran.pdf\\n-rw-r--r--  1 christophemorisset  staff   3600128 Feb 11 09:43 DR9_photo-z-small.npy\\n-rw-r--r--  1 christophemorisset  staff       217 Feb 25 12:46 Demo.pickle\\n-rw-r--r--  1 christophemorisset  staff       194 Feb 25 12:45 Demo.pklz\\n-rw-r--r--  1 christophemorisset  staff       445 Feb 11 09:43 Evaluacion.ipynb\\n-rw-r--r--  1 christophemorisset  staff      7717 Feb 11 09:43 Ex1.ipynb\\n-rw-r--r--  1 christophemorisset  staff    381664 Feb 11 09:43 Ex1_done.ipynb\\n-rw-r--r--  1 christophemorisset  staff    315341 Feb 11 09:43 Ex1_with_res.ipynb\\n-rw-------  1 christophemorisset  staff    120910 Mar 11 11:13 Fig1.pdf\\n-rw-r--r--  1 christophemorisset  staff     23342 Feb 11 09:43 Galaxies_classification.ipynb\\n-rw-r--r--  1 christophemorisset  staff   1177040 Feb 11 09:43 HII.dat\\n-rw-r--r--  1 christophemorisset  staff    853215 Feb 11 09:43 InstallPython.key\\n-rw-------  1 christophemorisset  staff    709810 Mar 11 16:57 Interact with files.ipynb\\n-rw-r--r--  1 christophemorisset  staff    432747 Feb 11 09:43 Interact with files.pdf\\n-rw-r--r--  1 christophemorisset  staff    131497 Feb 11 09:43 Intro_1.odp\\n-rw-r--r--  1 christophemorisset  staff    174202 Feb 11 09:43 Intro_1.pdf\\n-rw-r--r--  1 christophemorisset  staff    130234 Feb 11 09:43 Intro_2014.odp\\n-rw-r--r--  1 christophemorisset  staff   1477306 Feb 11 09:43 Machine Learning.pdf\\n-rw-r--r--  1 christophemorisset  staff   1698962 Feb 11 09:43 MySQL 2.pdf\\n-rw-r--r--  1 christophemorisset  staff    108782 Feb 11 09:43 MySQL.pdf\\n-rw-r--r--  1 christophemorisset  staff   1166839 Feb 11 09:43 OOP.ipynb\\n-rw-r--r--  1 christophemorisset  staff    536767 Feb 11 09:43 OOP.pdf\\n-rw-r--r--  1 christophemorisset  staff     98792 Feb 11 09:43 Optimization.ipynb\\n-rw-r--r--  1 christophemorisset  staff    481656 Feb 11 09:43 Optimization.pdf\\n-rw-r--r--  1 christophemorisset  staff      2537 Feb 11 09:43 Parallel.ipynb\\n-rw-r--r--  1 christophemorisset  staff    158652 Feb 11 09:43 Redshifts.ipynb\\n-rw-r--r--  1 christophemorisset  staff    939003 Feb 11 09:43 Redshifts_ai4neb.ipynb\\n-rw-r--r--  1 christophemorisset  staff      6120 Feb 11 09:43 Tarea_1.ipynb\\n-rw-r--r--  1 christophemorisset  staff      1434 Feb 11 09:43 Test-Install.ipynb\\n-rw-------  1 christophemorisset  staff     56548 Mar 25 11:03 Useful_libraries.ipynb\\n-rw-r--r--  1 christophemorisset  staff    514073 Feb 11 09:43 Useful_libraries.pdf\\n-rw-r--r--  1 christophemorisset  staff    120874 Feb 11 09:43 Using_SQLalchemy.ipynb\\n-rw-r--r--  1 christophemorisset  staff     80302 Feb 11 09:43 Using_SQLalchemy.pdf\\n-rw-------  1 christophemorisset  staff     38403 Mar 25 09:42 Using_astropy.ipynb\\n-rw-r--r--  1 christophemorisset  staff    208399 Feb 11 09:43 Using_astropy.pdf\\n-rw-r--r--  1 christophemorisset  staff     93320 Feb 11 09:43 Using_astroquery.ipynb\\n-rw-r--r--  1 christophemorisset  staff     70028 Feb 11 09:43 Using_astroquery.pdf\\ndrwxr-xr-x  5 christophemorisset  staff       160 Feb 13 09:23 \\x1b[34m__pycache__\\x1b[m\\x1b[m\\n-rw-r--r--  1 christophemorisset  staff       114 Feb 11 09:43 call_test_2_err.py\\n-rw-r--r--  1 christophemorisset  staff  14794880 Feb 11 09:43 cosmo-early.npy\\n-rw-r--r--  1 christophemorisset  staff  14794880 Feb 11 09:43 cosmo-late.npy\\n-rw-r--r--  1 christophemorisset  staff        65 Feb 25 10:15 data1.dat\\n-rw-r--r--  1 christophemorisset  staff        14 Feb 25 12:22 data10.dat\\n-rw-r--r--  1 christophemorisset  staff        16 Feb 25 12:36 data11.dat\\n-rw-r--r--  1 christophemorisset  staff        16 Feb 25 12:36 data11.dat.gz\\n-rw-r--r--  1 christophemorisset  staff       148 Feb 25 12:32 data12.dat\\n-rw-------  1 christophemorisset  staff       210 Mar 24 19:50 data2.dat\\n-rw-r--r--  1 christophemorisset  staff       165 Feb 25 11:42 data3.dat\\n-rw-r--r--  1 christophemorisset  staff      1188 Feb 25 12:09 data4.dat\\n-rw-r--r--  1 christophemorisset  staff      1186 Feb 25 12:11 data5.dat\\n-rw-------  1 christophemorisset  staff      1187 Mar 24 20:11 data6.dat\\n-rw-r--r--  1 christophemorisset  staff       298 Feb 11 09:43 dcumsum.f\\n-rw-r--r--@ 1 christophemorisset  staff      1206 Feb 11 11:36 ex1.html\\n-rw-------  1 christophemorisset  staff       159 Feb 11 21:45 ex1.py\\n-rw-r--r--  1 christophemorisset  staff         8 Feb 11 09:43 ex1.txt\\n-rw-r--r--  1 christophemorisset  staff       201 Feb 11 11:57 ex2.py\\n-rw-------  1 christophemorisset  staff        39 Feb 13 09:14 ex3.py\\n-rw-------  1 christophemorisset  staff        73 Mar 25 10:56 fact.py\\n-rw-r--r--  1 christophemorisset  staff      4214 Feb 11 09:43 grep.py\\n-rw-r--r--  1 christophemorisset  staff      4995 Feb 11 09:43 grep2.py\\n-rw-r--r--  1 christophemorisset  staff      6319 Feb 11 09:43 grep3.py\\n-rw-r--r--  1 christophemorisset  staff        49 Feb 11 09:43 hello.py\\n-rw-r--r--  1 christophemorisset  staff      1090 Feb 11 09:43 hellofortran.c\\n-rw-r--r--  1 christophemorisset  staff       178 Feb 11 09:43 hellofortran.f\\n-rw-r--r--  1 christophemorisset  staff     33976 Feb 11 09:43 hellofortran.so\\n-rw-r--r--  1 christophemorisset  staff       150 Feb 11 09:43 index.html\\n-rw-------  1 christophemorisset  staff   4321848 Mar 24 19:22 intro_Matplotlib.ipynb\\n-rw-r--r--  1 christophemorisset  staff   1677612 Feb 11 09:43 intro_Matplotlib.pdf\\n-rw-r--r--  1 christophemorisset  staff    326924 Feb 11 09:43 intro_Python.html\\n-rw-------  1 christophemorisset  staff    112578 Feb 13 09:17 intro_Python.ipynb\\n-rw-r--r--  1 christophemorisset  staff    119242 Feb 11 09:43 intro_Python.pdf\\n-rw-r--r--  1 christophemorisset  staff    179449 Feb 11 09:43 intro_Python_2.pdf\\n-rw-r--r--  1 christophemorisset  staff    103229 Feb 11 09:43 intro_Python_3.pdf\\n-rw-r--r--  1 christophemorisset  staff    884823 Mar 18 11:45 intro_Scipy.ipynb\\n-rw-r--r--  1 christophemorisset  staff    683346 Feb 11 09:43 intro_Scipy.pdf\\n-rw-------  1 christophemorisset  staff    125046 Feb 19 15:24 intro_numpy.ipynb\\n-rw-r--r--  1 christophemorisset  staff    128064 Feb 11 09:43 intro_numpy.pdf\\ndrwxr-xr-x  3 christophemorisset  staff        96 Feb 11 09:43 \\x1b[34mmastDownload\\x1b[m\\x1b[m\\n-rw-r--r--  1 christophemorisset  staff   8830080 Feb 11 09:43 n10017o.fits\\n-rw-r--r--  1 christophemorisset  staff      5760 Feb 25 12:59 new.fits\\n-rw-r--r--  1 christophemorisset  staff    435801 Feb 11 09:43 query_res.dat\\n-rw-r--r--  1 christophemorisset  staff   1538520 Mar 11 11:28 scatter.pdf\\n-rw-r--r--  1 christophemorisset  staff    129658 Mar 11 11:28 scatter.png\\n-rw-r--r--  1 christophemorisset  staff    860498 Mar 11 11:28 scatter3.png\\n-rw-r--r--  1 christophemorisset  staff   1059840 Feb 11 09:43 swp04345.mxhi\\n-rw-r--r--  1 christophemorisset  staff        47 Mar 25 10:52 sys_text.py\\n-rw-r--r--  1 christophemorisset  staff       354 Mar 24 20:10 tab1.dat\\n-rw-r--r--  1 christophemorisset  staff       668 Mar 24 20:19 tab_cds1.ascii\\n-rw-r--r--  1 christophemorisset  staff     43200 Feb 11 09:43 tab_cds1.fits\\n-rw-r--r--  1 christophemorisset  staff      1334 Mar 24 20:18 tab_cds1.tex\\n-rw-r--r--  1 christophemorisset  staff      1617 Mar 24 20:19 tab_cds2.ascii\\n-rw-------  1 christophemorisset  staff       455 Mar 24 20:08 table.html\\n'\n",
      "--------------------\n",
      "total 133592\n",
      "-rw-r--r--  1 christophemorisset  staff    735972 Feb 11 09:43 ANN.ipynb\n",
      "-rwxr-xr-x  1 christophemorisset  staff    173771 Feb 11 09:43 \u001b[31mANN_1_2.png\u001b[m\u001b[m\n",
      "-rw-r--r--  1 christophemorisset  staff     20137 Feb 11 09:43 Calling Fortran.ipynb\n",
      "-rw-r--r--  1 christophemorisset  staff     86815 Feb 11 09:43 Calling Fortran.pdf\n",
      "-rw-r--r--  1 christophemorisset  staff   3600128 Feb 11 09:43 DR9_photo-z-small.npy\n",
      "-rw-r--r--  1 christophemorisset  staff       217 Feb 25 12:46 Demo.pickle\n",
      "-rw-r--r--  1 christophemorisset  staff       194 Feb 25 12:45 Demo.pklz\n",
      "-rw-r--r--  1 christophemorisset  staff       445 Feb 11 09:43 Evaluacion.ipynb\n",
      "-rw-r--r--  1 christophemorisset  staff      7717 Feb 11 09:43 Ex1.ipynb\n",
      "-rw-r--r--  1 christophemorisset  staff    381664 Feb 11 09:43 Ex1_done.ipynb\n",
      "-rw-r--r--  1 christophemorisset  staff    315341 Feb 11 09:43 Ex1_with_res.ipynb\n",
      "-rw-------  1 christophemorisset  staff    120910 Mar 11 11:13 Fig1.pdf\n",
      "-rw-r--r--  1 christophemorisset  staff     23342 Feb 11 09:43 Galaxies_classification.ipynb\n",
      "-rw-r--r--  1 christophemorisset  staff   1177040 Feb 11 09:43 HII.dat\n",
      "-rw-r--r--  1 christophemorisset  staff    853215 Feb 11 09:43 InstallPython.key\n",
      "-rw-------  1 christophemorisset  staff    709810 Mar 11 16:57 Interact with files.ipynb\n",
      "-rw-r--r--  1 christophemorisset  staff    432747 Feb 11 09:43 Interact with files.pdf\n",
      "-rw-r--r--  1 christophemorisset  staff    131497 Feb 11 09:43 Intro_1.odp\n",
      "-rw-r--r--  1 christophemorisset  staff    174202 Feb 11 09:43 Intro_1.pdf\n",
      "-rw-r--r--  1 christophemorisset  staff    130234 Feb 11 09:43 Intro_2014.odp\n",
      "-rw-r--r--  1 christophemorisset  staff   1477306 Feb 11 09:43 Machine Learning.pdf\n",
      "-rw-r--r--  1 christophemorisset  staff   1698962 Feb 11 09:43 MySQL 2.pdf\n",
      "-rw-r--r--  1 christophemorisset  staff    108782 Feb 11 09:43 MySQL.pdf\n",
      "-rw-r--r--  1 christophemorisset  staff   1166839 Feb 11 09:43 OOP.ipynb\n",
      "-rw-r--r--  1 christophemorisset  staff    536767 Feb 11 09:43 OOP.pdf\n",
      "-rw-r--r--  1 christophemorisset  staff     98792 Feb 11 09:43 Optimization.ipynb\n",
      "-rw-r--r--  1 christophemorisset  staff    481656 Feb 11 09:43 Optimization.pdf\n",
      "-rw-r--r--  1 christophemorisset  staff      2537 Feb 11 09:43 Parallel.ipynb\n",
      "-rw-r--r--  1 christophemorisset  staff    158652 Feb 11 09:43 Redshifts.ipynb\n",
      "-rw-r--r--  1 christophemorisset  staff    939003 Feb 11 09:43 Redshifts_ai4neb.ipynb\n",
      "-rw-r--r--  1 christophemorisset  staff      6120 Feb 11 09:43 Tarea_1.ipynb\n",
      "-rw-r--r--  1 christophemorisset  staff      1434 Feb 11 09:43 Test-Install.ipynb\n",
      "-rw-------  1 christophemorisset  staff     56548 Mar 25 11:03 Useful_libraries.ipynb\n",
      "-rw-r--r--  1 christophemorisset  staff    514073 Feb 11 09:43 Useful_libraries.pdf\n",
      "-rw-r--r--  1 christophemorisset  staff    120874 Feb 11 09:43 Using_SQLalchemy.ipynb\n",
      "-rw-r--r--  1 christophemorisset  staff     80302 Feb 11 09:43 Using_SQLalchemy.pdf\n",
      "-rw-------  1 christophemorisset  staff     38403 Mar 25 09:42 Using_astropy.ipynb\n",
      "-rw-r--r--  1 christophemorisset  staff    208399 Feb 11 09:43 Using_astropy.pdf\n",
      "-rw-r--r--  1 christophemorisset  staff     93320 Feb 11 09:43 Using_astroquery.ipynb\n",
      "-rw-r--r--  1 christophemorisset  staff     70028 Feb 11 09:43 Using_astroquery.pdf\n",
      "drwxr-xr-x  5 christophemorisset  staff       160 Feb 13 09:23 \u001b[34m__pycache__\u001b[m\u001b[m\n",
      "-rw-r--r--  1 christophemorisset  staff       114 Feb 11 09:43 call_test_2_err.py\n",
      "-rw-r--r--  1 christophemorisset  staff  14794880 Feb 11 09:43 cosmo-early.npy\n",
      "-rw-r--r--  1 christophemorisset  staff  14794880 Feb 11 09:43 cosmo-late.npy\n",
      "-rw-r--r--  1 christophemorisset  staff        65 Feb 25 10:15 data1.dat\n",
      "-rw-r--r--  1 christophemorisset  staff        14 Feb 25 12:22 data10.dat\n",
      "-rw-r--r--  1 christophemorisset  staff        16 Feb 25 12:36 data11.dat\n",
      "-rw-r--r--  1 christophemorisset  staff        16 Feb 25 12:36 data11.dat.gz\n",
      "-rw-r--r--  1 christophemorisset  staff       148 Feb 25 12:32 data12.dat\n",
      "-rw-------  1 christophemorisset  staff       210 Mar 24 19:50 data2.dat\n",
      "-rw-r--r--  1 christophemorisset  staff       165 Feb 25 11:42 data3.dat\n",
      "-rw-r--r--  1 christophemorisset  staff      1188 Feb 25 12:09 data4.dat\n",
      "-rw-r--r--  1 christophemorisset  staff      1186 Feb 25 12:11 data5.dat\n",
      "-rw-------  1 christophemorisset  staff      1187 Mar 24 20:11 data6.dat\n",
      "-rw-r--r--  1 christophemorisset  staff       298 Feb 11 09:43 dcumsum.f\n",
      "-rw-r--r--@ 1 christophemorisset  staff      1206 Feb 11 11:36 ex1.html\n",
      "-rw-------  1 christophemorisset  staff       159 Feb 11 21:45 ex1.py\n",
      "-rw-r--r--  1 christophemorisset  staff         8 Feb 11 09:43 ex1.txt\n",
      "-rw-r--r--  1 christophemorisset  staff       201 Feb 11 11:57 ex2.py\n",
      "-rw-------  1 christophemorisset  staff        39 Feb 13 09:14 ex3.py\n",
      "-rw-------  1 christophemorisset  staff        73 Mar 25 10:56 fact.py\n",
      "-rw-r--r--  1 christophemorisset  staff      4214 Feb 11 09:43 grep.py\n",
      "-rw-r--r--  1 christophemorisset  staff      4995 Feb 11 09:43 grep2.py\n",
      "-rw-r--r--  1 christophemorisset  staff      6319 Feb 11 09:43 grep3.py\n",
      "-rw-r--r--  1 christophemorisset  staff        49 Feb 11 09:43 hello.py\n",
      "-rw-r--r--  1 christophemorisset  staff      1090 Feb 11 09:43 hellofortran.c\n",
      "-rw-r--r--  1 christophemorisset  staff       178 Feb 11 09:43 hellofortran.f\n",
      "-rw-r--r--  1 christophemorisset  staff     33976 Feb 11 09:43 hellofortran.so\n",
      "-rw-r--r--  1 christophemorisset  staff       150 Feb 11 09:43 index.html\n",
      "-rw-------  1 christophemorisset  staff   4321848 Mar 24 19:22 intro_Matplotlib.ipynb\n",
      "-rw-r--r--  1 christophemorisset  staff   1677612 Feb 11 09:43 intro_Matplotlib.pdf\n",
      "-rw-r--r--  1 christophemorisset  staff    326924 Feb 11 09:43 intro_Python.html\n",
      "-rw-------  1 christophemorisset  staff    112578 Feb 13 09:17 intro_Python.ipynb\n",
      "-rw-r--r--  1 christophemorisset  staff    119242 Feb 11 09:43 intro_Python.pdf\n",
      "-rw-r--r--  1 christophemorisset  staff    179449 Feb 11 09:43 intro_Python_2.pdf\n",
      "-rw-r--r--  1 christophemorisset  staff    103229 Feb 11 09:43 intro_Python_3.pdf\n",
      "-rw-r--r--  1 christophemorisset  staff    884823 Mar 18 11:45 intro_Scipy.ipynb\n",
      "-rw-r--r--  1 christophemorisset  staff    683346 Feb 11 09:43 intro_Scipy.pdf\n",
      "-rw-------  1 christophemorisset  staff    125046 Feb 19 15:24 intro_numpy.ipynb\n",
      "-rw-r--r--  1 christophemorisset  staff    128064 Feb 11 09:43 intro_numpy.pdf\n",
      "drwxr-xr-x  3 christophemorisset  staff        96 Feb 11 09:43 \u001b[34mmastDownload\u001b[m\u001b[m\n",
      "-rw-r--r--  1 christophemorisset  staff   8830080 Feb 11 09:43 n10017o.fits\n",
      "-rw-r--r--  1 christophemorisset  staff      5760 Feb 25 12:59 new.fits\n",
      "-rw-r--r--  1 christophemorisset  staff    435801 Feb 11 09:43 query_res.dat\n",
      "-rw-r--r--  1 christophemorisset  staff   1538520 Mar 11 11:28 scatter.pdf\n",
      "-rw-r--r--  1 christophemorisset  staff    129658 Mar 11 11:28 scatter.png\n",
      "-rw-r--r--  1 christophemorisset  staff    860498 Mar 11 11:28 scatter3.png\n",
      "-rw-r--r--  1 christophemorisset  staff   1059840 Feb 11 09:43 swp04345.mxhi\n",
      "-rw-r--r--  1 christophemorisset  staff        47 Mar 25 10:52 sys_text.py\n",
      "-rw-r--r--  1 christophemorisset  staff       354 Mar 24 20:10 tab1.dat\n",
      "-rw-r--r--  1 christophemorisset  staff       668 Mar 24 20:19 tab_cds1.ascii\n",
      "-rw-r--r--  1 christophemorisset  staff     43200 Feb 11 09:43 tab_cds1.fits\n",
      "-rw-r--r--  1 christophemorisset  staff      1334 Mar 24 20:18 tab_cds1.tex\n",
      "-rw-r--r--  1 christophemorisset  staff      1617 Mar 24 20:19 tab_cds2.ascii\n",
      "-rw-------  1 christophemorisset  staff       455 Mar 24 20:08 table.html\n",
      "\n"
     ]
    }
   ],
   "source": [
    "popen = subprocess.Popen(command, stdout=subprocess.PIPE, shell=True)\n",
    "res = popen.communicate()[0]\n",
    "print(type(res))\n",
    "print('-'*20)\n",
    "print(res)\n",
    "print('-'*20)\n",
    "print(res.decode())"
   ]
  },
  {
   "cell_type": "code",
   "execution_count": 64,
   "metadata": {
    "colab": {
     "base_uri": "https://localhost:8080/",
     "height": 232
    },
    "colab_type": "code",
    "collapsed": false,
    "id": "PTND8VhiH7y0",
    "jupyter": {
     "outputs_hidden": false
    },
    "outputId": "c702c550-9697-4394-d2f7-dd234f8fb654"
   },
   "outputs": [
    {
     "name": "stdout",
     "output_type": "stream",
     "text": [
      "DR9_photo-z-small.npy          -> 3600128\n",
      "HII.dat                        -> 1177040\n",
      "Machine                        -> 1477306\n",
      "MySQL                          -> 1698962\n",
      "OOP.ipynb                      -> 1166839\n",
      "cosmo-early.npy                -> 14794880\n",
      "cosmo-late.npy                 -> 14794880\n",
      "intro_Matplotlib.ipynb         -> 4321848\n",
      "intro_Matplotlib.pdf           -> 1677612\n",
      "n10017o.fits                   -> 8830080\n",
      "scatter.pdf                    -> 1538520\n",
      "swp04345.mxhi                  -> 1059840\n"
     ]
    }
   ],
   "source": [
    "popen = subprocess.Popen(command, stdout=subprocess.PIPE, shell=True)\n",
    "res = popen.communicate()[0]\n",
    "for line in res.decode().split('\\n'):\n",
    "    lspl = line.split()\n",
    "    if len(lspl)> 4:\n",
    "        if int(lspl[4]) > 1024**2:\n",
    "            print(f\"{lspl[8]:30s} -> {lspl[4]}\")"
   ]
  },
  {
   "cell_type": "markdown",
   "metadata": {
    "colab_type": "text",
    "id": "MXvE3YCBH7y2"
   },
   "source": [
    "### re"
   ]
  },
  {
   "cell_type": "markdown",
   "metadata": {
    "colab_type": "text",
    "id": "_Oc5EkqJH7y2"
   },
   "source": [
    "The re module provides regular expression tools for advanced string processing. For complex matching and manipulation, regular expressions offer succinct, optimized solutions:"
   ]
  },
  {
   "cell_type": "markdown",
   "metadata": {
    "colab_type": "text",
    "id": "38FF2lkBH7y5"
   },
   "source": [
    "More in https://docs.python.org/3/library/re.html"
   ]
  },
  {
   "cell_type": "code",
   "execution_count": 66,
   "metadata": {
    "colab": {
     "base_uri": "https://localhost:8080/",
     "height": 34
    },
    "colab_type": "code",
    "collapsed": false,
    "id": "nTGpCPekH7y2",
    "jupyter": {
     "outputs_hidden": false
    },
    "outputId": "10b9758f-87bb-41b7-90ab-073fd5288c7d"
   },
   "outputs": [
    {
     "name": "stdout",
     "output_type": "stream",
     "text": [
      "['fo', 'fell', 'f', 'fastest']\n",
      "['foOt', 'fell', 'f', 'fastest']\n"
     ]
    }
   ],
   "source": [
    "import re\n",
    "text = 'whifch foOt or hand   fell f fastest'\n",
    "# Search the words starting with \"f\"\n",
    "matches = re.findall(r'\\bf[a-z]*', text)\n",
    "print(matches)\n",
    "matches = re.findall(r'\\b[fF]\\w*', text)\n",
    "print(matches)"
   ]
  },
  {
   "cell_type": "code",
   "execution_count": 67,
   "metadata": {
    "colab": {
     "base_uri": "https://localhost:8080/",
     "height": 35
    },
    "colab_type": "code",
    "collapsed": false,
    "id": "z1ffiZhsH7y4",
    "jupyter": {
     "outputs_hidden": false
    },
    "outputId": "0bee0f0b-2696-44b3-aa58-71726a04de7d"
   },
   "outputs": [
    {
     "name": "stdout",
     "output_type": "stream",
     "text": [
      "cat in the hat the\n"
     ]
    }
   ],
   "source": [
    "# Remove duplicate words\n",
    "text = 'cat in the the hat the'\n",
    "print(re.sub(r'(\\b[a-z]+) \\1', r'\\1', text))"
   ]
  },
  {
   "cell_type": "markdown",
   "metadata": {
    "colab_type": "text",
    "id": "cSgSOI7KH7y5"
   },
   "source": [
    "### urllib"
   ]
  },
  {
   "cell_type": "code",
   "execution_count": 69,
   "metadata": {
    "colab": {},
    "colab_type": "code",
    "collapsed": false,
    "id": "gdyqReWHH7y6",
    "jupyter": {
     "outputs_hidden": false
    }
   },
   "outputs": [],
   "source": [
    "from urllib.request import urlopen"
   ]
  },
  {
   "cell_type": "code",
   "execution_count": 70,
   "metadata": {
    "colab": {
     "base_uri": "https://localhost:8080/",
     "height": 153
    },
    "colab_type": "code",
    "collapsed": false,
    "id": "QfNtvQZGH7y8",
    "jupyter": {
     "outputs_hidden": false
    },
    "outputId": "e24b0aa9-a62e-47b1-b791-ac7e0ac5398b"
   },
   "outputs": [
    {
     "name": "stdout",
     "output_type": "stream",
     "text": [
      "b'<html>\\n'\n",
      "b'<body>\\n'\n",
      "b'<p>\\n'\n",
      "b'Remote IP Address:132.248.33.77</p>\\n'\n",
      "b'</body>\\n'\n",
      "b'</html>'\n",
      "-------\n",
      "132.248.33.77\n"
     ]
    }
   ],
   "source": [
    "for line in urlopen('http://dev.on-rev.com/myip.irev'):\n",
    "    print(line)\n",
    "    if 'IP' in str(line):\n",
    "        IP = str(line).split(':')[1][:-7]\n",
    "print('-------')\n",
    "print(IP)"
   ]
  },
  {
   "cell_type": "markdown",
   "metadata": {},
   "source": [
    "### Tables with power: pandas at https://pandas.pydata.org/\n",
    "\n",
    "Tutorials: \n",
    "* https://pandas.pydata.org/docs/user_guide/10min.html\n",
    "* https://www.learndatasci.com/tutorials/python-pandas-tutorial-complete-introduction-for-beginners/"
   ]
  },
  {
   "cell_type": "code",
   "execution_count": 71,
   "metadata": {},
   "outputs": [],
   "source": [
    "import pandas as pd"
   ]
  },
  {
   "cell_type": "code",
   "execution_count": 98,
   "metadata": {},
   "outputs": [
    {
     "name": "stdout",
     "output_type": "stream",
     "text": [
      "Overwriting data2.dat\n"
     ]
    }
   ],
   "source": [
    "%%writefile data2.dat\n",
    "# The following data are for test purpose\n",
    "N    f   x   y type\n",
    "1   2.3  6   8 star\n",
    "22   3.5  7   9 galaxy\n",
    "3  -4.2  5   7 cluster # comment\n",
    "5  4.55 5 7 cluster\n",
    "4  -10.5  5  7 star\n",
    "4  -10.55  5  7 star\n",
    "#4  -10.5  5  7 test"
   ]
  },
  {
   "cell_type": "code",
   "execution_count": 99,
   "metadata": {},
   "outputs": [],
   "source": [
    "# The N column is used as index. It is not mandatory to have an index defined, if not, pandas will create one.\n",
    "df = pd.read_csv('data2.dat', comment='#', sep='\\\\s+', index_col = 'N')"
   ]
  },
  {
   "cell_type": "code",
   "execution_count": 100,
   "metadata": {},
   "outputs": [
    {
     "data": {
      "application/vnd.microsoft.datawrangler.viewer.v0+json": {
       "columns": [
        {
         "name": "N",
         "rawType": "int64",
         "type": "integer"
        },
        {
         "name": "f",
         "rawType": "float64",
         "type": "float"
        },
        {
         "name": "x",
         "rawType": "int64",
         "type": "integer"
        },
        {
         "name": "y",
         "rawType": "int64",
         "type": "integer"
        },
        {
         "name": "type",
         "rawType": "object",
         "type": "string"
        }
       ],
       "conversionMethod": "pd.DataFrame",
       "ref": "01fd30ef-52cb-465a-b845-22f535c0e95a",
       "rows": [
        [
         "1",
         "2.3",
         "6",
         "8",
         "star"
        ],
        [
         "22",
         "3.5",
         "7",
         "9",
         "galaxy"
        ],
        [
         "3",
         "-4.2",
         "5",
         "7",
         "cluster"
        ],
        [
         "5",
         "4.55",
         "5",
         "7",
         "cluster"
        ],
        [
         "4",
         "-10.5",
         "5",
         "7",
         "star"
        ],
        [
         "4",
         "-10.55",
         "5",
         "7",
         "star"
        ]
       ],
       "shape": {
        "columns": 4,
        "rows": 6
       }
      },
      "text/html": [
       "<div>\n",
       "<style scoped>\n",
       "    .dataframe tbody tr th:only-of-type {\n",
       "        vertical-align: middle;\n",
       "    }\n",
       "\n",
       "    .dataframe tbody tr th {\n",
       "        vertical-align: top;\n",
       "    }\n",
       "\n",
       "    .dataframe thead th {\n",
       "        text-align: right;\n",
       "    }\n",
       "</style>\n",
       "<table border=\"1\" class=\"dataframe\">\n",
       "  <thead>\n",
       "    <tr style=\"text-align: right;\">\n",
       "      <th></th>\n",
       "      <th>f</th>\n",
       "      <th>x</th>\n",
       "      <th>y</th>\n",
       "      <th>type</th>\n",
       "    </tr>\n",
       "    <tr>\n",
       "      <th>N</th>\n",
       "      <th></th>\n",
       "      <th></th>\n",
       "      <th></th>\n",
       "      <th></th>\n",
       "    </tr>\n",
       "  </thead>\n",
       "  <tbody>\n",
       "    <tr>\n",
       "      <th>1</th>\n",
       "      <td>2.30</td>\n",
       "      <td>6</td>\n",
       "      <td>8</td>\n",
       "      <td>star</td>\n",
       "    </tr>\n",
       "    <tr>\n",
       "      <th>22</th>\n",
       "      <td>3.50</td>\n",
       "      <td>7</td>\n",
       "      <td>9</td>\n",
       "      <td>galaxy</td>\n",
       "    </tr>\n",
       "    <tr>\n",
       "      <th>3</th>\n",
       "      <td>-4.20</td>\n",
       "      <td>5</td>\n",
       "      <td>7</td>\n",
       "      <td>cluster</td>\n",
       "    </tr>\n",
       "    <tr>\n",
       "      <th>5</th>\n",
       "      <td>4.55</td>\n",
       "      <td>5</td>\n",
       "      <td>7</td>\n",
       "      <td>cluster</td>\n",
       "    </tr>\n",
       "    <tr>\n",
       "      <th>4</th>\n",
       "      <td>-10.50</td>\n",
       "      <td>5</td>\n",
       "      <td>7</td>\n",
       "      <td>star</td>\n",
       "    </tr>\n",
       "    <tr>\n",
       "      <th>4</th>\n",
       "      <td>-10.55</td>\n",
       "      <td>5</td>\n",
       "      <td>7</td>\n",
       "      <td>star</td>\n",
       "    </tr>\n",
       "  </tbody>\n",
       "</table>\n",
       "</div>"
      ],
      "text/plain": [
       "        f  x  y     type\n",
       "N                       \n",
       "1    2.30  6  8     star\n",
       "22   3.50  7  9   galaxy\n",
       "3   -4.20  5  7  cluster\n",
       "5    4.55  5  7  cluster\n",
       "4  -10.50  5  7     star\n",
       "4  -10.55  5  7     star"
      ]
     },
     "execution_count": 100,
     "metadata": {},
     "output_type": "execute_result"
    }
   ],
   "source": [
    "df"
   ]
  },
  {
   "cell_type": "code",
   "execution_count": 101,
   "metadata": {},
   "outputs": [
    {
     "name": "stdout",
     "output_type": "stream",
     "text": [
      "<class 'pandas.core.frame.DataFrame'>\n",
      "Index: 6 entries, 1 to 4\n",
      "Data columns (total 4 columns):\n",
      " #   Column  Non-Null Count  Dtype  \n",
      "---  ------  --------------  -----  \n",
      " 0   f       6 non-null      float64\n",
      " 1   x       6 non-null      int64  \n",
      " 2   y       6 non-null      int64  \n",
      " 3   type    6 non-null      object \n",
      "dtypes: float64(1), int64(2), object(1)\n",
      "memory usage: 240.0+ bytes\n"
     ]
    }
   ],
   "source": [
    "df.info()"
   ]
  },
  {
   "cell_type": "code",
   "execution_count": null,
   "metadata": {},
   "outputs": [
    {
     "data": {
      "application/vnd.microsoft.datawrangler.viewer.v0+json": {
       "columns": [
        {
         "name": "index",
         "rawType": "object",
         "type": "string"
        },
        {
         "name": "f",
         "rawType": "float64",
         "type": "float"
        },
        {
         "name": "x",
         "rawType": "float64",
         "type": "float"
        },
        {
         "name": "y",
         "rawType": "float64",
         "type": "float"
        }
       ],
       "conversionMethod": "pd.DataFrame",
       "ref": "70941d6c-99ee-491d-8e44-ef5057264fea",
       "rows": [
        [
         "count",
         "6.0",
         "6.0",
         "6.0"
        ],
        [
         "mean",
         "-2.483333333333334",
         "5.5",
         "7.5"
        ],
        [
         "std",
         "6.934455037468097",
         "0.8366600265340756",
         "0.8366600265340756"
        ],
        [
         "min",
         "-10.55",
         "5.0",
         "7.0"
        ],
        [
         "25%",
         "-8.925",
         "5.0",
         "7.0"
        ],
        [
         "50%",
         "-0.9500000000000002",
         "5.0",
         "7.0"
        ],
        [
         "75%",
         "3.2",
         "5.75",
         "7.75"
        ],
        [
         "max",
         "4.55",
         "7.0",
         "9.0"
        ]
       ],
       "shape": {
        "columns": 3,
        "rows": 8
       }
      },
      "text/html": [
       "<div>\n",
       "<style scoped>\n",
       "    .dataframe tbody tr th:only-of-type {\n",
       "        vertical-align: middle;\n",
       "    }\n",
       "\n",
       "    .dataframe tbody tr th {\n",
       "        vertical-align: top;\n",
       "    }\n",
       "\n",
       "    .dataframe thead th {\n",
       "        text-align: right;\n",
       "    }\n",
       "</style>\n",
       "<table border=\"1\" class=\"dataframe\">\n",
       "  <thead>\n",
       "    <tr style=\"text-align: right;\">\n",
       "      <th></th>\n",
       "      <th>f</th>\n",
       "      <th>x</th>\n",
       "      <th>y</th>\n",
       "    </tr>\n",
       "  </thead>\n",
       "  <tbody>\n",
       "    <tr>\n",
       "      <th>count</th>\n",
       "      <td>6.000000</td>\n",
       "      <td>6.00000</td>\n",
       "      <td>6.00000</td>\n",
       "    </tr>\n",
       "    <tr>\n",
       "      <th>mean</th>\n",
       "      <td>-2.483333</td>\n",
       "      <td>5.50000</td>\n",
       "      <td>7.50000</td>\n",
       "    </tr>\n",
       "    <tr>\n",
       "      <th>std</th>\n",
       "      <td>6.934455</td>\n",
       "      <td>0.83666</td>\n",
       "      <td>0.83666</td>\n",
       "    </tr>\n",
       "    <tr>\n",
       "      <th>min</th>\n",
       "      <td>-10.550000</td>\n",
       "      <td>5.00000</td>\n",
       "      <td>7.00000</td>\n",
       "    </tr>\n",
       "    <tr>\n",
       "      <th>25%</th>\n",
       "      <td>-8.925000</td>\n",
       "      <td>5.00000</td>\n",
       "      <td>7.00000</td>\n",
       "    </tr>\n",
       "    <tr>\n",
       "      <th>50%</th>\n",
       "      <td>-0.950000</td>\n",
       "      <td>5.00000</td>\n",
       "      <td>7.00000</td>\n",
       "    </tr>\n",
       "    <tr>\n",
       "      <th>75%</th>\n",
       "      <td>3.200000</td>\n",
       "      <td>5.75000</td>\n",
       "      <td>7.75000</td>\n",
       "    </tr>\n",
       "    <tr>\n",
       "      <th>max</th>\n",
       "      <td>4.550000</td>\n",
       "      <td>7.00000</td>\n",
       "      <td>9.00000</td>\n",
       "    </tr>\n",
       "  </tbody>\n",
       "</table>\n",
       "</div>"
      ],
      "text/plain": [
       "               f        x        y\n",
       "count   6.000000  6.00000  6.00000\n",
       "mean   -2.483333  5.50000  7.50000\n",
       "std     6.934455  0.83666  0.83666\n",
       "min   -10.550000  5.00000  7.00000\n",
       "25%    -8.925000  5.00000  7.00000\n",
       "50%    -0.950000  5.00000  7.00000\n",
       "75%     3.200000  5.75000  7.75000\n",
       "max     4.550000  7.00000  9.00000"
      ]
     },
     "execution_count": 102,
     "metadata": {},
     "output_type": "execute_result"
    }
   ],
   "source": [
    "df.describe()  # only for numerical columns"
   ]
  },
  {
   "cell_type": "code",
   "execution_count": 103,
   "metadata": {},
   "outputs": [],
   "source": [
    "df['R'] = np.sqrt(df['x']**2 + df.y**2)"
   ]
  },
  {
   "cell_type": "code",
   "execution_count": 104,
   "metadata": {},
   "outputs": [
    {
     "data": {
      "text/plain": [
       "N\n",
       "1     10.000000\n",
       "22    11.401754\n",
       "3      8.602325\n",
       "5      8.602325\n",
       "4      8.602325\n",
       "4      8.602325\n",
       "Name: R, dtype: float64"
      ]
     },
     "execution_count": 104,
     "metadata": {},
     "output_type": "execute_result"
    }
   ],
   "source": [
    "df['R']"
   ]
  },
  {
   "cell_type": "code",
   "execution_count": 105,
   "metadata": {},
   "outputs": [
    {
     "data": {
      "text/plain": [
       "Index([1, 22, 3, 5, 4, 4], dtype='int64', name='N')"
      ]
     },
     "execution_count": 105,
     "metadata": {},
     "output_type": "execute_result"
    }
   ],
   "source": [
    "# index no needs to be unique\n",
    "df.index"
   ]
  },
  {
   "cell_type": "code",
   "execution_count": 106,
   "metadata": {},
   "outputs": [
    {
     "data": {
      "application/vnd.microsoft.datawrangler.viewer.v0+json": {
       "columns": [
        {
         "name": "N",
         "rawType": "int64",
         "type": "integer"
        },
        {
         "name": "f",
         "rawType": "float64",
         "type": "float"
        },
        {
         "name": "x",
         "rawType": "int64",
         "type": "integer"
        },
        {
         "name": "y",
         "rawType": "int64",
         "type": "integer"
        },
        {
         "name": "type",
         "rawType": "object",
         "type": "string"
        },
        {
         "name": "R",
         "rawType": "float64",
         "type": "float"
        }
       ],
       "conversionMethod": "pd.DataFrame",
       "ref": "4226e9f0-f0ab-4561-86f4-ecca332deb4c",
       "rows": [
        [
         "4",
         "-10.5",
         "5",
         "7",
         "star",
         "8.602325267042627"
        ],
        [
         "4",
         "-10.55",
         "5",
         "7",
         "star",
         "8.602325267042627"
        ]
       ],
       "shape": {
        "columns": 5,
        "rows": 2
       }
      },
      "text/html": [
       "<div>\n",
       "<style scoped>\n",
       "    .dataframe tbody tr th:only-of-type {\n",
       "        vertical-align: middle;\n",
       "    }\n",
       "\n",
       "    .dataframe tbody tr th {\n",
       "        vertical-align: top;\n",
       "    }\n",
       "\n",
       "    .dataframe thead th {\n",
       "        text-align: right;\n",
       "    }\n",
       "</style>\n",
       "<table border=\"1\" class=\"dataframe\">\n",
       "  <thead>\n",
       "    <tr style=\"text-align: right;\">\n",
       "      <th></th>\n",
       "      <th>f</th>\n",
       "      <th>x</th>\n",
       "      <th>y</th>\n",
       "      <th>type</th>\n",
       "      <th>R</th>\n",
       "    </tr>\n",
       "    <tr>\n",
       "      <th>N</th>\n",
       "      <th></th>\n",
       "      <th></th>\n",
       "      <th></th>\n",
       "      <th></th>\n",
       "      <th></th>\n",
       "    </tr>\n",
       "  </thead>\n",
       "  <tbody>\n",
       "    <tr>\n",
       "      <th>4</th>\n",
       "      <td>-10.50</td>\n",
       "      <td>5</td>\n",
       "      <td>7</td>\n",
       "      <td>star</td>\n",
       "      <td>8.602325</td>\n",
       "    </tr>\n",
       "    <tr>\n",
       "      <th>4</th>\n",
       "      <td>-10.55</td>\n",
       "      <td>5</td>\n",
       "      <td>7</td>\n",
       "      <td>star</td>\n",
       "      <td>8.602325</td>\n",
       "    </tr>\n",
       "  </tbody>\n",
       "</table>\n",
       "</div>"
      ],
      "text/plain": [
       "       f  x  y  type         R\n",
       "N                             \n",
       "4 -10.50  5  7  star  8.602325\n",
       "4 -10.55  5  7  star  8.602325"
      ]
     },
     "execution_count": 106,
     "metadata": {},
     "output_type": "execute_result"
    }
   ],
   "source": [
    "# Access rows by the index\n",
    "df.loc[4]"
   ]
  },
  {
   "cell_type": "code",
   "execution_count": 109,
   "metadata": {},
   "outputs": [
    {
     "data": {
      "application/vnd.microsoft.datawrangler.viewer.v0+json": {
       "columns": [
        {
         "name": "N",
         "rawType": "int64",
         "type": "integer"
        },
        {
         "name": "f",
         "rawType": "float64",
         "type": "float"
        },
        {
         "name": "x",
         "rawType": "int64",
         "type": "integer"
        },
        {
         "name": "y",
         "rawType": "int64",
         "type": "integer"
        },
        {
         "name": "type",
         "rawType": "object",
         "type": "string"
        },
        {
         "name": "R",
         "rawType": "float64",
         "type": "float"
        }
       ],
       "conversionMethod": "pd.DataFrame",
       "ref": "c5e42af7-9035-49f0-8506-98c49e615397",
       "rows": [
        [
         "22",
         "3.5",
         "7",
         "9",
         "galaxy",
         "11.40175425099138"
        ],
        [
         "5",
         "4.55",
         "5",
         "7",
         "cluster",
         "8.602325267042627"
        ],
        [
         "4",
         "-10.55",
         "5",
         "7",
         "star",
         "8.602325267042627"
        ]
       ],
       "shape": {
        "columns": 5,
        "rows": 3
       }
      },
      "text/html": [
       "<div>\n",
       "<style scoped>\n",
       "    .dataframe tbody tr th:only-of-type {\n",
       "        vertical-align: middle;\n",
       "    }\n",
       "\n",
       "    .dataframe tbody tr th {\n",
       "        vertical-align: top;\n",
       "    }\n",
       "\n",
       "    .dataframe thead th {\n",
       "        text-align: right;\n",
       "    }\n",
       "</style>\n",
       "<table border=\"1\" class=\"dataframe\">\n",
       "  <thead>\n",
       "    <tr style=\"text-align: right;\">\n",
       "      <th></th>\n",
       "      <th>f</th>\n",
       "      <th>x</th>\n",
       "      <th>y</th>\n",
       "      <th>type</th>\n",
       "      <th>R</th>\n",
       "    </tr>\n",
       "    <tr>\n",
       "      <th>N</th>\n",
       "      <th></th>\n",
       "      <th></th>\n",
       "      <th></th>\n",
       "      <th></th>\n",
       "      <th></th>\n",
       "    </tr>\n",
       "  </thead>\n",
       "  <tbody>\n",
       "    <tr>\n",
       "      <th>22</th>\n",
       "      <td>3.50</td>\n",
       "      <td>7</td>\n",
       "      <td>9</td>\n",
       "      <td>galaxy</td>\n",
       "      <td>11.401754</td>\n",
       "    </tr>\n",
       "    <tr>\n",
       "      <th>5</th>\n",
       "      <td>4.55</td>\n",
       "      <td>5</td>\n",
       "      <td>7</td>\n",
       "      <td>cluster</td>\n",
       "      <td>8.602325</td>\n",
       "    </tr>\n",
       "    <tr>\n",
       "      <th>4</th>\n",
       "      <td>-10.55</td>\n",
       "      <td>5</td>\n",
       "      <td>7</td>\n",
       "      <td>star</td>\n",
       "      <td>8.602325</td>\n",
       "    </tr>\n",
       "  </tbody>\n",
       "</table>\n",
       "</div>"
      ],
      "text/plain": [
       "        f  x  y     type          R\n",
       "N                                  \n",
       "22   3.50  7  9   galaxy  11.401754\n",
       "5    4.55  5  7  cluster   8.602325\n",
       "4  -10.55  5  7     star   8.602325"
      ]
     },
     "execution_count": 109,
     "metadata": {},
     "output_type": "execute_result"
    }
   ],
   "source": [
    "# Access rows by position\n",
    "df.iloc[1::2]"
   ]
  },
  {
   "cell_type": "code",
   "execution_count": 110,
   "metadata": {},
   "outputs": [
    {
     "data": {
      "text/plain": [
       "'star'"
      ]
     },
     "execution_count": 110,
     "metadata": {},
     "output_type": "execute_result"
    }
   ],
   "source": [
    "df.iloc[4]['type']"
   ]
  },
  {
   "cell_type": "code",
   "execution_count": 111,
   "metadata": {},
   "outputs": [
    {
     "name": "stdout",
     "output_type": "stream",
     "text": [
      "N\n",
      "1      True\n",
      "22    False\n",
      "3     False\n",
      "5     False\n",
      "4      True\n",
      "4      True\n",
      "Name: type, dtype: bool\n",
      "[ True False False False  True  True]\n"
     ]
    }
   ],
   "source": [
    "mask = df['type'] == 'star'\n",
    "mask_arr = mask.to_numpy()\n",
    "print(mask)\n",
    "print(mask_arr)"
   ]
  },
  {
   "cell_type": "code",
   "execution_count": 112,
   "metadata": {},
   "outputs": [
    {
     "name": "stderr",
     "output_type": "stream",
     "text": [
      "/var/folders/7b/7gktm_g91hn54p3gxj15kb1m0000gn/T/ipykernel_8019/242906856.py:1: SettingWithCopyWarning: \n",
      "A value is trying to be set on a copy of a slice from a DataFrame.\n",
      "Try using .loc[row_indexer,col_indexer] = value instead\n",
      "\n",
      "See the caveats in the documentation: https://pandas.pydata.org/pandas-docs/stable/user_guide/indexing.html#returning-a-view-versus-a-copy\n",
      "  df[mask]['type'] = 'estrella'\n"
     ]
    }
   ],
   "source": [
    "df[mask]['type'] = 'estrella'"
   ]
  },
  {
   "cell_type": "code",
   "execution_count": 113,
   "metadata": {},
   "outputs": [],
   "source": [
    "df.loc[mask,'type'] = 'estrella'\n",
    "# df[mask]['type'] = 'estrella' # this will not work\n",
    "# df[mask_arr]['type'] = 'estrella' # this will not work"
   ]
  },
  {
   "cell_type": "code",
   "execution_count": 114,
   "metadata": {},
   "outputs": [
    {
     "data": {
      "application/vnd.microsoft.datawrangler.viewer.v0+json": {
       "columns": [
        {
         "name": "N",
         "rawType": "int64",
         "type": "integer"
        },
        {
         "name": "f",
         "rawType": "float64",
         "type": "float"
        },
        {
         "name": "x",
         "rawType": "int64",
         "type": "integer"
        },
        {
         "name": "y",
         "rawType": "int64",
         "type": "integer"
        },
        {
         "name": "type",
         "rawType": "object",
         "type": "string"
        },
        {
         "name": "R",
         "rawType": "float64",
         "type": "float"
        }
       ],
       "conversionMethod": "pd.DataFrame",
       "ref": "d13fb503-fdc1-4973-b80a-232c9af499a9",
       "rows": [
        [
         "1",
         "2.3",
         "6",
         "8",
         "estrella",
         "10.0"
        ],
        [
         "22",
         "3.5",
         "7",
         "9",
         "galaxy",
         "11.40175425099138"
        ],
        [
         "3",
         "-4.2",
         "5",
         "7",
         "cluster",
         "8.602325267042627"
        ],
        [
         "5",
         "4.55",
         "5",
         "7",
         "cluster",
         "8.602325267042627"
        ],
        [
         "4",
         "-10.5",
         "5",
         "7",
         "estrella",
         "8.602325267042627"
        ],
        [
         "4",
         "-10.55",
         "5",
         "7",
         "estrella",
         "8.602325267042627"
        ]
       ],
       "shape": {
        "columns": 5,
        "rows": 6
       }
      },
      "text/html": [
       "<div>\n",
       "<style scoped>\n",
       "    .dataframe tbody tr th:only-of-type {\n",
       "        vertical-align: middle;\n",
       "    }\n",
       "\n",
       "    .dataframe tbody tr th {\n",
       "        vertical-align: top;\n",
       "    }\n",
       "\n",
       "    .dataframe thead th {\n",
       "        text-align: right;\n",
       "    }\n",
       "</style>\n",
       "<table border=\"1\" class=\"dataframe\">\n",
       "  <thead>\n",
       "    <tr style=\"text-align: right;\">\n",
       "      <th></th>\n",
       "      <th>f</th>\n",
       "      <th>x</th>\n",
       "      <th>y</th>\n",
       "      <th>type</th>\n",
       "      <th>R</th>\n",
       "    </tr>\n",
       "    <tr>\n",
       "      <th>N</th>\n",
       "      <th></th>\n",
       "      <th></th>\n",
       "      <th></th>\n",
       "      <th></th>\n",
       "      <th></th>\n",
       "    </tr>\n",
       "  </thead>\n",
       "  <tbody>\n",
       "    <tr>\n",
       "      <th>1</th>\n",
       "      <td>2.30</td>\n",
       "      <td>6</td>\n",
       "      <td>8</td>\n",
       "      <td>estrella</td>\n",
       "      <td>10.000000</td>\n",
       "    </tr>\n",
       "    <tr>\n",
       "      <th>22</th>\n",
       "      <td>3.50</td>\n",
       "      <td>7</td>\n",
       "      <td>9</td>\n",
       "      <td>galaxy</td>\n",
       "      <td>11.401754</td>\n",
       "    </tr>\n",
       "    <tr>\n",
       "      <th>3</th>\n",
       "      <td>-4.20</td>\n",
       "      <td>5</td>\n",
       "      <td>7</td>\n",
       "      <td>cluster</td>\n",
       "      <td>8.602325</td>\n",
       "    </tr>\n",
       "    <tr>\n",
       "      <th>5</th>\n",
       "      <td>4.55</td>\n",
       "      <td>5</td>\n",
       "      <td>7</td>\n",
       "      <td>cluster</td>\n",
       "      <td>8.602325</td>\n",
       "    </tr>\n",
       "    <tr>\n",
       "      <th>4</th>\n",
       "      <td>-10.50</td>\n",
       "      <td>5</td>\n",
       "      <td>7</td>\n",
       "      <td>estrella</td>\n",
       "      <td>8.602325</td>\n",
       "    </tr>\n",
       "    <tr>\n",
       "      <th>4</th>\n",
       "      <td>-10.55</td>\n",
       "      <td>5</td>\n",
       "      <td>7</td>\n",
       "      <td>estrella</td>\n",
       "      <td>8.602325</td>\n",
       "    </tr>\n",
       "  </tbody>\n",
       "</table>\n",
       "</div>"
      ],
      "text/plain": [
       "        f  x  y      type          R\n",
       "N                                   \n",
       "1    2.30  6  8  estrella  10.000000\n",
       "22   3.50  7  9    galaxy  11.401754\n",
       "3   -4.20  5  7   cluster   8.602325\n",
       "5    4.55  5  7   cluster   8.602325\n",
       "4  -10.50  5  7  estrella   8.602325\n",
       "4  -10.55  5  7  estrella   8.602325"
      ]
     },
     "execution_count": 114,
     "metadata": {},
     "output_type": "execute_result"
    }
   ],
   "source": [
    "df"
   ]
  },
  {
   "cell_type": "code",
   "execution_count": 115,
   "metadata": {},
   "outputs": [
    {
     "data": {
      "text/plain": [
       "N\n",
       "1    10.000000\n",
       "4     8.602325\n",
       "4     8.602325\n",
       "Name: R, dtype: float64"
      ]
     },
     "execution_count": 115,
     "metadata": {},
     "output_type": "execute_result"
    }
   ],
   "source": [
    "df[mask]['R']"
   ]
  },
  {
   "cell_type": "code",
   "execution_count": 116,
   "metadata": {},
   "outputs": [
    {
     "data": {
      "text/plain": [
       "array([10.        ,  8.60232527,  8.60232527])"
      ]
     },
     "execution_count": 116,
     "metadata": {},
     "output_type": "execute_result"
    }
   ],
   "source": [
    "df.loc[mask,'R'].to_numpy()"
   ]
  },
  {
   "cell_type": "code",
   "execution_count": 117,
   "metadata": {},
   "outputs": [
    {
     "data": {
      "text/plain": [
       "x    5.333333\n",
       "y    7.333333\n",
       "dtype: float64"
      ]
     },
     "execution_count": 117,
     "metadata": {},
     "output_type": "execute_result"
    }
   ],
   "source": [
    "coord_cols = ['x', 'y']\n",
    "df.loc[mask, coord_cols].mean()"
   ]
  },
  {
   "cell_type": "code",
   "execution_count": 118,
   "metadata": {},
   "outputs": [
    {
     "data": {
      "text/plain": [
       "Index(['f', 'x', 'y', 'type', 'R'], dtype='object')"
      ]
     },
     "execution_count": 118,
     "metadata": {},
     "output_type": "execute_result"
    }
   ],
   "source": [
    "df.columns"
   ]
  },
  {
   "cell_type": "code",
   "execution_count": 120,
   "metadata": {},
   "outputs": [
    {
     "name": "stdout",
     "output_type": "stream",
     "text": [
      "      f  x  y     type         R\n",
      "N                               \n",
      "3 -4.20  5  7  cluster  8.602325\n",
      "5  4.55  5  7  cluster  8.602325\n",
      "       f  x  y      type          R\n",
      "N                                  \n",
      "1   2.30  6  8  estrella  10.000000\n",
      "4 -10.50  5  7  estrella   8.602325\n",
      "4 -10.55  5  7  estrella   8.602325\n",
      "      f  x  y    type          R\n",
      "N                               \n",
      "22  3.5  7  9  galaxy  11.401754\n"
     ]
    },
    {
     "data": {
      "application/vnd.microsoft.datawrangler.viewer.v0+json": {
       "columns": [
        {
         "name": "index",
         "rawType": "int64",
         "type": "integer"
        }
       ],
       "conversionMethod": "pd.DataFrame",
       "ref": "e39b5223-c917-4c48-8d81-e3a70a2293d1",
       "rows": [],
       "shape": {
        "columns": 0,
        "rows": 0
       }
      },
      "text/html": [
       "<div>\n",
       "<style scoped>\n",
       "    .dataframe tbody tr th:only-of-type {\n",
       "        vertical-align: middle;\n",
       "    }\n",
       "\n",
       "    .dataframe tbody tr th {\n",
       "        vertical-align: top;\n",
       "    }\n",
       "\n",
       "    .dataframe thead th {\n",
       "        text-align: right;\n",
       "    }\n",
       "</style>\n",
       "<table border=\"1\" class=\"dataframe\">\n",
       "  <thead>\n",
       "    <tr style=\"text-align: right;\">\n",
       "      <th></th>\n",
       "    </tr>\n",
       "  </thead>\n",
       "  <tbody>\n",
       "  </tbody>\n",
       "</table>\n",
       "</div>"
      ],
      "text/plain": [
       "Empty DataFrame\n",
       "Columns: []\n",
       "Index: []"
      ]
     },
     "execution_count": 120,
     "metadata": {},
     "output_type": "execute_result"
    }
   ],
   "source": [
    "df.groupby('type')[df.columns].apply(print)"
   ]
  },
  {
   "cell_type": "code",
   "execution_count": 121,
   "metadata": {},
   "outputs": [
    {
     "data": {
      "application/vnd.microsoft.datawrangler.viewer.v0+json": {
       "columns": [
        {
         "name": "type",
         "rawType": "object",
         "type": "string"
        },
        {
         "name": "f",
         "rawType": "float64",
         "type": "float"
        },
        {
         "name": "x",
         "rawType": "float64",
         "type": "float"
        },
        {
         "name": "y",
         "rawType": "float64",
         "type": "float"
        },
        {
         "name": "R",
         "rawType": "float64",
         "type": "float"
        }
       ],
       "conversionMethod": "pd.DataFrame",
       "ref": "41871684-f914-4eb5-a279-4f38a04d6cd0",
       "rows": [
        [
         "cluster",
         "0.17499999999999982",
         "5.0",
         "7.0",
         "8.602325267042627"
        ],
        [
         "estrella",
         "-6.25",
         "5.333333333333333",
         "7.333333333333333",
         "9.068216844695085"
        ],
        [
         "galaxy",
         "3.5",
         "7.0",
         "9.0",
         "11.40175425099138"
        ]
       ],
       "shape": {
        "columns": 4,
        "rows": 3
       }
      },
      "text/html": [
       "<div>\n",
       "<style scoped>\n",
       "    .dataframe tbody tr th:only-of-type {\n",
       "        vertical-align: middle;\n",
       "    }\n",
       "\n",
       "    .dataframe tbody tr th {\n",
       "        vertical-align: top;\n",
       "    }\n",
       "\n",
       "    .dataframe thead th {\n",
       "        text-align: right;\n",
       "    }\n",
       "</style>\n",
       "<table border=\"1\" class=\"dataframe\">\n",
       "  <thead>\n",
       "    <tr style=\"text-align: right;\">\n",
       "      <th></th>\n",
       "      <th>f</th>\n",
       "      <th>x</th>\n",
       "      <th>y</th>\n",
       "      <th>R</th>\n",
       "    </tr>\n",
       "    <tr>\n",
       "      <th>type</th>\n",
       "      <th></th>\n",
       "      <th></th>\n",
       "      <th></th>\n",
       "      <th></th>\n",
       "    </tr>\n",
       "  </thead>\n",
       "  <tbody>\n",
       "    <tr>\n",
       "      <th>cluster</th>\n",
       "      <td>0.175</td>\n",
       "      <td>5.000000</td>\n",
       "      <td>7.000000</td>\n",
       "      <td>8.602325</td>\n",
       "    </tr>\n",
       "    <tr>\n",
       "      <th>estrella</th>\n",
       "      <td>-6.250</td>\n",
       "      <td>5.333333</td>\n",
       "      <td>7.333333</td>\n",
       "      <td>9.068217</td>\n",
       "    </tr>\n",
       "    <tr>\n",
       "      <th>galaxy</th>\n",
       "      <td>3.500</td>\n",
       "      <td>7.000000</td>\n",
       "      <td>9.000000</td>\n",
       "      <td>11.401754</td>\n",
       "    </tr>\n",
       "  </tbody>\n",
       "</table>\n",
       "</div>"
      ],
      "text/plain": [
       "              f         x         y          R\n",
       "type                                          \n",
       "cluster   0.175  5.000000  7.000000   8.602325\n",
       "estrella -6.250  5.333333  7.333333   9.068217\n",
       "galaxy    3.500  7.000000  9.000000  11.401754"
      ]
     },
     "execution_count": 121,
     "metadata": {},
     "output_type": "execute_result"
    }
   ],
   "source": [
    "df.groupby('type').mean()"
   ]
  }
 ],
 "metadata": {
  "colab": {
   "name": "Useful_libraries.ipynb",
   "provenance": []
  },
  "kernelspec": {
   "display_name": "Python_Lecture",
   "language": "python",
   "name": "python3"
  },
  "language_info": {
   "codemirror_mode": {
    "name": "ipython",
    "version": 3
   },
   "file_extension": ".py",
   "mimetype": "text/x-python",
   "name": "python",
   "nbconvert_exporter": "python",
   "pygments_lexer": "ipython3",
   "version": "3.12.9"
  }
 },
 "nbformat": 4,
 "nbformat_minor": 4
}

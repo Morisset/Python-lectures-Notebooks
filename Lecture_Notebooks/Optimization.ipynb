{
 "cells": [
  {
   "cell_type": "code",
   "execution_count": 1,
   "metadata": {
    "collapsed": false,
    "jupyter": {
     "outputs_hidden": false
    }
   },
   "outputs": [
    {
     "name": "stdout",
     "output_type": "stream",
     "text": [
      "Fri May  9 14:36:33 2025\n"
     ]
    }
   ],
   "source": [
    "# Just to know last time this was run:\n",
    "import time\n",
    "print(time.ctime())"
   ]
  },
  {
   "cell_type": "markdown",
   "metadata": {},
   "source": [
    "# H Optimizing code writing"
   ]
  },
  {
   "cell_type": "markdown",
   "metadata": {},
   "source": [
    "This is part of the Python lecture given by Christophe Morisset at IA-UNAM. More informations at: https://github.com/Morisset/Python-lectures-Notebooks"
   ]
  },
  {
   "cell_type": "markdown",
   "metadata": {},
   "source": [
    "https://daily.dev/blog/top-7-python-profiling-tools-for-performance"
   ]
  },
  {
   "cell_type": "code",
   "execution_count": 2,
   "metadata": {
    "collapsed": false,
    "jupyter": {
     "outputs_hidden": false
    }
   },
   "outputs": [],
   "source": [
    "import numpy as np\n",
    "import os\n",
    "from urllib.request import urlopen\n",
    "from scipy.integrate import simpson as simps"
   ]
  },
  {
   "cell_type": "markdown",
   "metadata": {},
   "source": [
    "### Profiling the code: CPU usage"
   ]
  },
  {
   "cell_type": "code",
   "execution_count": 3,
   "metadata": {},
   "outputs": [
    {
     "name": "stdout",
     "output_type": "stream",
     "text": [
      "Overwriting test_1_prof.py\n"
     ]
    }
   ],
   "source": [
    "%%writefile test_1_prof.py\n",
    "\n",
    "import numpy as np\n",
    "import os\n",
    "from urllib.request import urlopen\n",
    "from scipy.integrate import simpson as simps\n",
    "\n",
    "class Stel_Spectrum(object):\n",
    "    \"\"\"\n",
    "    This object downloads a file from http://astro.uni-tuebingen.de/~rauch/TMAF/NLTE/He+C+N+O/\n",
    "    and is able to make some plots.    \n",
    "    \"\"\"\n",
    "    \n",
    "    spec_count = 0 # This attibute is at the level of the class, not of the object.\n",
    "    def __init__(self, filename=None, T=None, logg=None, verbose=False):\n",
    "        \"\"\"\n",
    "        Initialisation of the Stel_Spectrum object.\n",
    "        Parameter:\n",
    "            - filename\n",
    "            - T: temperature in K, e.g. 150000\n",
    "            - logg: e.g. 7.5\n",
    "            - verbose: if True, some info are printed out\n",
    "        The wl variable is an array of wavelengths in Angstrom.\n",
    "        The fl variable is the flux in erg/s/cm2/A\n",
    "        The variables T and logg are properties: changing them will reload the data\n",
    "        \"\"\"\n",
    "        self.verbose = verbose\n",
    "        if filename is None:\n",
    "            if T is not None and logg is not None:\n",
    "                self.__T = T # We need to initialize the hidden values, as logg is still not defined\n",
    "                self.logg = logg\n",
    "                self.filename = '0{0:06.0f}_{1:.2f}_33_50_02_15.bin_0.1.gz'.format(self.T, self.logg)\n",
    "            else:\n",
    "                raise TypeError(\"T and logg must be given\")\n",
    "        else:\n",
    "            self.filename = filename\n",
    "            self.__T = float(filename.split('_')[0]) # We need to initialize the hidden values, as logg is still not defined\n",
    "            self.logg = float(filename.split('_')[1])\n",
    "        Stel_Spectrum.spec_count += 1\n",
    "        if self.verbose:\n",
    "            print('Instantiation done')\n",
    "            \n",
    "    def dlfile(self):\n",
    "        \"\"\"\n",
    "        Downloading file if not already here. Put it in the current directory\n",
    "        \"\"\"\n",
    "        if not os.path.exists(self.filename):\n",
    "            if self.verbose:\n",
    "                print('Downloading {}'.format(self.filename))\n",
    "            try:\n",
    "                stel_file = urlopen('http://astro.uni-tuebingen.de/~rauch/TMAF/NLTE/He+C+N+O/' + \n",
    "                                            self.filename)\n",
    "                output = open(self.filename,'wb')\n",
    "                output.write(stel_file.read())\n",
    "                output.close()\n",
    "                self.file_found=True\n",
    "            except:\n",
    "                if self.verbose:\n",
    "                    print('file {} not found'.format(self.filename))\n",
    "                self.file_found=False\n",
    "        else:\n",
    "            if self.verbose:\n",
    "                print('{} already on disk'.format(self.filename))\n",
    "            self.file_found=True\n",
    "                \n",
    "    def read_data(self):\n",
    "        \"\"\"\n",
    "        read the data from the file\n",
    "        \"\"\"\n",
    "        if self.file_found:\n",
    "            data = np.genfromtxt(self.filename, comments='*', names='wl, fl')\n",
    "            self.fl = data['fl']\n",
    "            self.wl = data['wl'] # in A\n",
    "            self.fl /= 1e8 # F LAMBDA  GIVEN IN ERG/CM**2/SEC/CM -> erg/s/cm2/A\n",
    "            if self.verbose:\n",
    "                print('Read data from {}'.format(self.filename))\n",
    "        else:\n",
    "            if self.verbose:\n",
    "                print('file not found {}'.format(self.filename))\n",
    "            self.wl = None\n",
    "            self.fl = None\n",
    "        \n",
    "    def plot_spr(self, ax=None, *args, **kwargs):\n",
    "        \"\"\"\n",
    "        Plot the spectrum.\n",
    "        Parameter:\n",
    "            - ax: an axis (optionnal). If Noe or absent, axis is created\n",
    "            - any extra parameter is passed to ax.plot\n",
    "        \"\"\"\n",
    "        if self.wl is None:\n",
    "            print('No data to plot')\n",
    "            return\n",
    "        if ax is None:\n",
    "            fig, ax = plt.subplots()\n",
    "        ax.plot(self.wl, self.fl,\n",
    "                label='T3={0:.0f}, logg={1}'.format(self.T/1e3, self.logg),\n",
    "                *args, **kwargs) # Here are the transmissions of extra parameters to plot\n",
    "        ax.set_yscale('log')\n",
    "        ax.set_ylim(1e6, 1e14)\n",
    "        ax.set_xlabel('Wavelength (A)')\n",
    "        \n",
    "    def get_integ(self):\n",
    "        \"\"\"\n",
    "        Return the integral of Flambda over lambda, in erg/s/cm2\n",
    "        \"\"\"\n",
    "        if self.wl is None:\n",
    "            print('No data')\n",
    "            return None\n",
    "        return simps(self.fl, self.wl) # perform the integral\n",
    "    \n",
    "    def __getT(self): \n",
    "        return self.__T\n",
    "    \n",
    "    def __setT(self, value): \n",
    "        if not isinstance(value, (int, float)): # check the type of the input\n",
    "            raise TypeError('T must be an integer or a float')\n",
    "        if float(value) not in np.linspace(40000, 190000, 16): # check the value of the input\n",
    "            raise ValueError('T value must be between 40000 and 190000K, by 10000K steps')\n",
    "        elif self.__T != value:\n",
    "            self.__T = value\n",
    "            self.filename = '0{0:06.0f}_{1:.2f}_33_50_02_15.bin_0.1.gz'.format(self.T, self.logg)\n",
    "            self.dlfile() # will download new data\n",
    "            self.read_data() # will update the data\n",
    "        \n",
    "    def __delT(self): \n",
    "        print('T is needed')\n",
    "        \n",
    "    T = property(__getT, __setT, __delT, \"Stellar effective temperature in K\")\n",
    "    \n",
    "    def __getlogg(self): \n",
    "        return self.__logg\n",
    "    \n",
    "    def __setlogg(self, value):\n",
    "        try:\n",
    "            self.__logg \n",
    "        except:\n",
    "            self.__logg = -1\n",
    "        if not isinstance(value, (int, float)):\n",
    "            raise TypeError('logg must be an integer or a float')\n",
    "        if float(value) not in (-1., 5., 6., 7. ,8., 9.):\n",
    "            raise ValueError('Error, logg must be 6, 7, 8, or 9')\n",
    "            self.__logg = None\n",
    "        elif self.__logg != value:\n",
    "            self.__logg = value\n",
    "            self.filename = '0{0:06.0f}_{1:.2f}_33_50_02_15.bin_0.1.gz'.format(self.T, self.logg)\n",
    "            self.dlfile() # will download new data\n",
    "            self.read_data() # will update the data\n",
    "        \n",
    "    def __dellogg(self): \n",
    "        print('logg is needed')\n",
    "        \n",
    "    logg = property(__getlogg, __setlogg, __dellogg, \"Stellar logg\")\n",
    "\n",
    "    def print_info(self):\n",
    "        \"\"\"\n",
    "        Print out the filename and the number of points\n",
    "        \"\"\"\n",
    "        print(self.__repr__())\n",
    "        \n",
    "    def __repr__(self):\n",
    "        \"\"\"\n",
    "        This is what is used when calling \"print <obj>\" or <obj> ENTER\n",
    "        \"\"\"\n",
    "        if self.wl is None:\n",
    "            return'Filename: {0}, No data'.format(self.filename)\n",
    "        else:\n",
    "            return'Filename: {0}, number of points: {1}'.format(self.filename, len(self.wl))\n",
    "    \n",
    "    def __del__(self):\n",
    "        Stel_Spectrum.spec_count -= 1\n",
    "\n",
    "spectra = [] # we create an empty list\n",
    "for T in np.linspace(40000, 190000, 4): # this is the list of available temperature (check the site)\n",
    "    spectra.append(Stel_Spectrum(T=T, logg=6, verbose=True)) # we fill the list with the objects for each temperature\n",
    "T = np.array([sp.T for sp in spectra])\n",
    "F = np.array([sp.get_integ() for sp in spectra])\n",
    "for t, f in zip(T, F):\n",
    "    print('Temperature = {0:.0f}K, Flux = {1:.2e} erg/s/cm2'.format(t, f))\n",
    "print('DONE')"
   ]
  },
  {
   "cell_type": "code",
   "execution_count": 4,
   "metadata": {
    "collapsed": false,
    "jupyter": {
     "outputs_hidden": false
    }
   },
   "outputs": [
    {
     "name": "stdout",
     "output_type": "stream",
     "text": [
      "0040000_6.00_33_50_02_15.bin_0.1.gz already on disk\n",
      "Read data from 0040000_6.00_33_50_02_15.bin_0.1.gz\n",
      "Instantiation done\n",
      "0090000_6.00_33_50_02_15.bin_0.1.gz already on disk\n",
      "Read data from 0090000_6.00_33_50_02_15.bin_0.1.gz\n",
      "Instantiation done\n",
      "0140000_6.00_33_50_02_15.bin_0.1.gz already on disk\n",
      "Read data from 0140000_6.00_33_50_02_15.bin_0.1.gz\n",
      "Instantiation done\n",
      "0190000_6.00_33_50_02_15.bin_0.1.gz already on disk\n",
      "Read data from 0190000_6.00_33_50_02_15.bin_0.1.gz\n",
      "Instantiation done\n",
      "Temperature = 40000K, Flux = 4.00e+13 erg/s/cm2\n",
      "Temperature = 90000K, Flux = 1.05e+15 erg/s/cm2\n",
      "Temperature = 140000K, Flux = 6.93e+15 erg/s/cm2\n",
      "Temperature = 190000K, Flux = 2.35e+16 erg/s/cm2\n",
      "DONE\n",
      "\n",
      "IPython CPU timings (estimated):\n",
      "  User   :       0.07 s.\n",
      "  System :       0.01 s.\n",
      "Wall time:       0.09 s.\n"
     ]
    }
   ],
   "source": [
    "%run -t test_1_prof.py"
   ]
  },
  {
   "cell_type": "code",
   "execution_count": 5,
   "metadata": {
    "collapsed": false,
    "jupyter": {
     "outputs_hidden": false
    }
   },
   "outputs": [
    {
     "name": "stdout",
     "output_type": "stream",
     "text": [
      "0040000_6.00_33_50_02_15.bin_0.1.gz already on disk\n",
      "Read data from 0040000_6.00_33_50_02_15.bin_0.1.gz\n",
      "Instantiation done\n",
      "0090000_6.00_33_50_02_15.bin_0.1.gz already on disk\n",
      "Read data from 0090000_6.00_33_50_02_15.bin_0.1.gz\n",
      "Instantiation done\n",
      "0140000_6.00_33_50_02_15.bin_0.1.gz already on disk\n",
      "Read data from 0140000_6.00_33_50_02_15.bin_0.1.gz\n",
      "Instantiation done\n",
      "0190000_6.00_33_50_02_15.bin_0.1.gz already on disk\n",
      "Read data from 0190000_6.00_33_50_02_15.bin_0.1.gz\n",
      "Instantiation done\n",
      "Temperature = 40000K, Flux = 4.00e+13 erg/s/cm2\n",
      "Temperature = 90000K, Flux = 1.05e+15 erg/s/cm2\n",
      "Temperature = 140000K, Flux = 6.93e+15 erg/s/cm2\n",
      "Temperature = 190000K, Flux = 2.35e+16 erg/s/cm2\n",
      "DONE\n",
      " "
     ]
    },
    {
     "name": "stdout",
     "output_type": "stream",
     "text": [
      "         969374 function calls (969365 primitive calls) in 0.255 seconds\n",
      "\n",
      "   Ordered by: internal time\n",
      "\n",
      "   ncalls  tottime  percall  cumtime  percall filename:lineno(function)\n",
      "        4    0.073    0.018    0.248    0.062 _npyio_impl.py:1761(genfromtxt)\n",
      "    79896    0.038    0.000    0.056    0.000 _iotools.py:197(_delimited_splitter)\n",
      "    79896    0.030    0.000    0.096    0.000 _iotools.py:224(__call__)\n",
      "        8    0.020    0.002    0.035    0.004 _npyio_impl.py:2365(<listcomp>)\n",
      "   159608    0.015    0.000    0.015    0.000 _iotools.py:671(_loose_call)\n",
      "   159713    0.012    0.000    0.012    0.000 {method 'split' of 'str' objects}\n",
      "        6    0.012    0.002    0.012    0.002 {built-in method numpy.array}\n",
      "    79996    0.010    0.000    0.010    0.000 _iotools.py:11(_decode_line)\n",
      "   160721    0.010    0.000    0.010    0.000 {built-in method builtins.len}\n",
      "    80096    0.006    0.000    0.006    0.000 gzip.py:323(closed)\n",
      "    79920    0.005    0.000    0.005    0.000 {method 'strip' of 'str' objects}\n",
      "      168    0.004    0.000    0.004    0.000 {method 'decompress' of 'zlib.Decompress' objects}\n",
      "        4    0.004    0.001    0.252    0.063 test_1_prof.py:65(read_data)\n",
      "    79841    0.004    0.000    0.004    0.000 {method 'append' of 'list' objects}\n",
      "        1    0.001    0.001    0.001    0.001 {built-in method builtins.compile}\n",
      "        5    0.001    0.000    0.001    0.000 {built-in method posix.getcwd}\n",
      "      317    0.001    0.000    0.001    0.000 {method 'read' of '_io.BufferedReader' objects}\n",
      "       92    0.001    0.000    0.001    0.000 {built-in method builtins.next}\n",
      "      172    0.001    0.000    0.007    0.000 gzip.py:474(read)\n",
      "      172    0.001    0.000    0.007    0.000 _compression.py:66(readinto)\n",
      "      172    0.001    0.000    0.008    0.000 gzip.py:303(read1)\n",
      "      432    0.001    0.000    0.001    0.000 ipkernel.py:775(_clean_thread_parent_frames)\n",
      "        4    0.000    0.000    0.000    0.000 _quadrature.py:344(_basic_simpson)\n",
      "      216    0.000    0.000    0.001    0.000 ipkernel.py:790(<setcomp>)\n",
      "        6    0.000    0.000    0.000    0.000 {built-in method io.open}\n",
      "      216    0.000    0.000    0.000    0.000 threading.py:1494(enumerate)\n",
      "      320    0.000    0.000    0.001    0.000 gzip.py:86(read)\n",
      "      176    0.000    0.000    0.000    0.000 {built-in method zlib.crc32}\n",
      "        1    0.000    0.000    0.000    0.000 {built-in method posix.lstat}\n",
      "        9    0.000    0.000    0.000    0.000 {built-in method posix.stat}\n",
      "      172    0.000    0.000    0.008    0.000 {method 'read1' of '_io.BufferedReader' objects}\n",
      "     1512    0.000    0.000    0.000    0.000 threading.py:1161(ident)\n",
      "        2    0.000    0.000    0.000    0.000 socket.py:626(send)\n",
      "      168    0.000    0.000    0.000    0.000 gzip.py:525(_add_read_data)\n",
      "       34    0.000    0.000    0.001    0.000 interactiveshell.py:3025(write)\n",
      "       12    0.000    0.000    0.000    0.000 {method 'reduce' of 'numpy.ufunc' objects}\n",
      "       34    0.000    0.000    0.000    0.000 iostream.py:655(write)\n",
      "      172    0.000    0.000    0.000    0.000 {built-in method _codecs.utf_8_decode}\n",
      "      172    0.000    0.000    0.000    0.000 <frozen codecs>:319(decode)\n",
      "        8    0.000    0.000    0.000    0.000 {built-in method builtins.getattr}\n",
      "        8    0.000    0.000    0.000    0.000 _iotools.py:598(__init__)\n",
      "      2/1    0.000    0.000    0.255    0.255 {built-in method builtins.exec}\n",
      "       13    0.000    0.000    0.000    0.000 {built-in method posix._path_normpath}\n",
      "      168    0.000    0.000    0.000    0.000 gzip.py:99(prepend)\n",
      "        1    0.000    0.000    0.000    0.000 function_base.py:25(linspace)\n",
      "        4    0.000    0.000    0.000    0.000 gzip.py:25(open)\n",
      "        1    0.000    0.000    0.253    0.253 test_1_prof.py:1(<module>)\n",
      "       69    0.000    0.000    0.000    0.000 traitlets.py:629(get)\n",
      "       20    0.000    0.000    0.000    0.000 {method 'format' of 'str' objects}\n",
      "       17    0.000    0.000    0.001    0.000 {built-in method builtins.print}\n",
      "       12    0.000    0.000    0.000    0.000 _datasource.py:299(_isurl)\n",
      "        1    0.000    0.000    0.255    0.255 interactiveshell.py:2860(safe_execfile)\n",
      "        4    0.000    0.000    0.000    0.000 _function_base_impl.py:1386(diff)\n",
      "        4    0.000    0.000    0.252    0.063 test_1_prof.py:132(__setlogg)\n",
      "      176    0.000    0.000    0.000    0.000 _compression.py:12(_check_not_closed)\n",
      "      603    0.000    0.000    0.000    0.000 {built-in method builtins.isinstance}\n",
      "       16    0.000    0.000    0.000    0.000 parse.py:374(urlparse)\n",
      "       12    0.000    0.000    0.000    0.000 fromnumeric.py:69(_wrapreduction)\n",
      "      876    0.000    0.000    0.000    0.000 {method 'keys' of 'dict' objects}\n",
      "        4    0.000    0.000    0.000    0.000 _iotools.py:823(easy_dtype)\n",
      "        5    0.000    0.000    0.001    0.000 <frozen posixpath>:397(abspath)\n",
      "        8    0.000    0.000    0.000    0.000 _iotools.py:311(validate)\n",
      "        8    0.000    0.000    0.000    0.000 gzip.py:418(_read_gzip_header)\n",
      "     12/4    0.000    0.000    0.000    0.000 _iotools.py:84(flatten_dtype)\n",
      "       69    0.000    0.000    0.000    0.000 traitlets.py:676(__get__)\n",
      "        4    0.000    0.000    0.000    0.000 _datasource.py:371(abspath)\n",
      "       10    0.000    0.000    0.000    0.000 <frozen posixpath>:71(join)\n",
      "       12    0.000    0.000    0.000    0.000 numeric.py:65(zeros_like)\n",
      "        8    0.000    0.000    0.000    0.000 _iotools.py:284(__init__)\n",
      "      344    0.000    0.000    0.000    0.000 {method '__exit__' of 'memoryview' objects}\n",
      "        8    0.000    0.000    0.000    0.000 gzip.py:463(_init_read)\n",
      "        8    0.000    0.000    0.000    0.000 _datasource.py:413(_sanitize_relative_path)\n",
      "        8    0.000    0.000    0.000    0.000 fromnumeric.py:3369(prod)\n",
      "        4    0.000    0.000    0.000    0.000 gzip.py:134(__init__)\n",
      "      250    0.000    0.000    0.000    0.000 {method '__exit__' of '_thread.RLock' objects}\n",
      "        8    0.000    0.000    0.000    0.000 {method 'close' of '_io.BufferedReader' objects}\n",
      "        4    0.000    0.000    0.000    0.000 {method 'view' of 'numpy.ndarray' objects}\n",
      "      432    0.000    0.000    0.000    0.000 {method 'values' of 'dict' objects}\n",
      "        8    0.000    0.000    0.000    0.000 _iotools.py:381(__call__)\n",
      "        2    0.000    0.000    0.000    0.000 pathlib.py:484(_parse_args)\n",
      "        1    0.000    0.000    0.000    0.000 <frozen posixpath>:421(_joinrealpath)\n",
      "        2    0.000    0.000    0.000    0.000 pathlib.py:56(parse_parts)\n",
      "        4    0.000    0.000    0.001    0.000 _datasource.py:483(open)\n",
      "      172    0.000    0.000    0.000    0.000 {method 'cast' of 'memoryview' objects}\n",
      "        1    0.000    0.000    0.000    0.000 {built-in method builtins.__build_class__}\n",
      "        4    0.000    0.000    0.002    0.000 _datasource.py:154(open)\n",
      "        4    0.000    0.000    0.001    0.000 _quadrature.py:381(simpson)\n",
      "        4    0.000    0.000    0.000    0.000 _npyio_impl.py:2211(<listcomp>)\n",
      "       16    0.000    0.000    0.000    0.000 <frozen genericpath>:121(_splitext)\n",
      "       34    0.000    0.000    0.000    0.000 iostream.py:550(_is_master_process)\n",
      "        2    0.000    0.000    0.000    0.000 {method '__exit__' of '_io._IOBase' objects}\n",
      "       12    0.000    0.000    0.000    0.000 _datasource.py:262(_iszip)\n",
      "       12    0.000    0.000    0.000    0.000 _datasource.py:129(keys)\n",
      "        4    0.000    0.000    0.252    0.063 test_1_prof.py:14(__init__)\n",
      "        4    0.000    0.000    0.000    0.000 _datasource.py:340(_findfile)\n",
      "       16    0.000    0.000    0.000    0.000 parse.py:119(_coerce_args)\n",
      "        4    0.000    0.000    0.000    0.000 gzip.py:456(__init__)\n",
      "       16    0.000    0.000    0.000    0.000 <frozen posixpath>:117(splitext)\n",
      "        2    0.000    0.000    0.000    0.000 pathlib.py:504(_from_parts)\n",
      "        6    0.000    0.000    0.000    0.000 <frozen posixpath>:60(isabs)\n",
      "       16    0.000    0.000    0.000    0.000 <string>:1(<lambda>)\n",
      "       16    0.000    0.000    0.000    0.000 parse.py:811(__getattr__)\n",
      "        4    0.000    0.000    0.000    0.000 _npyio_impl.py:803(_ensure_ndmin_ndarray)\n",
      "       34    0.000    0.000    0.000    0.000 iostream.py:505(parent_header)\n",
      "        8    0.000    0.000    0.000    0.000 {built-in method zlib.decompressobj}\n",
      "        4    0.000    0.000    0.000    0.000 _internal.py:538(_view_is_safe)\n",
      "        6    0.000    0.000    0.000    0.000 pathlib.py:536(__str__)\n",
      "        2    0.000    0.000    0.000    0.000 iostream.py:259(schedule)\n",
      "        8    0.000    0.000    0.000    0.000 _iotools.py:584(_find_map_entry)\n",
      "       13    0.000    0.000    0.000    0.000 <frozen posixpath>:389(normpath)\n",
      "        1    0.000    0.000    0.000    0.000 <frozen posixpath>:412(realpath)\n",
      "        9    0.000    0.000    0.000    0.000 {built-in method sys.intern}\n",
      "        4    0.000    0.000    0.000    0.000 test_1_prof.py:42(dlfile)\n",
      "        4    0.000    0.000    0.000    0.000 gzip.py:529(_read_eof)\n",
      "        1    0.000    0.000    0.255    0.255 <string>:1(<module>)\n",
      "        4    0.000    0.000    0.000    0.000 _compression.py:39(__init__)\n",
      "        8    0.000    0.000    0.000    0.000 {built-in method _struct.unpack}\n",
      "       34    0.000    0.000    0.000    0.000 iostream.py:577(_schedule_flush)\n",
      "        1    0.000    0.000    0.000    0.000 {built-in method numpy.arange}\n",
      "        8    0.000    0.000    0.000    0.000 _datasource.py:290(_possible_names)\n",
      "      138    0.000    0.000    0.000    0.000 typing.py:2256(cast)\n",
      "        1    0.000    0.000    0.000    0.000 pathlib.py:981(resolve)\n",
      "        4    0.000    0.000    0.000    0.000 _iotools.py:168(__init__)\n",
      "       12    0.000    0.000    0.000    0.000 fromnumeric.py:70(<dictcomp>)\n",
      "        4    0.000    0.000    0.000    0.000 {method 'close' of '_io.TextIOWrapper' objects}\n",
      "        4    0.000    0.000    0.001    0.000 test_1_prof.py:101(get_integ)\n",
      "       32    0.000    0.000    0.000    0.000 {method 'rfind' of 'str' objects}\n",
      "        1    0.000    0.000    0.000    0.000 pathlib.py:868(__new__)\n",
      "       69    0.000    0.000    0.000    0.000 {built-in method posix.fspath}\n",
      "        8    0.000    0.000    0.000    0.000 gzip.py:467(_read_gzip_header)\n",
      "        8    0.000    0.000    0.000    0.000 <frozen genericpath>:16(exists)\n",
      "        4    0.000    0.000    0.001    0.000 _datasource.py:245(__init__)\n",
      "        4    0.000    0.000    0.000    0.000 gzip.py:327(close)\n",
      "       24    0.000    0.000    0.000    0.000 {method 'startswith' of 'str' objects}\n",
      "       19    0.000    0.000    0.000    0.000 {built-in method __new__ of type object at 0x1012955f0}\n",
      "        4    0.000    0.000    0.000    0.000 _compression.py:59(close)\n",
      "        5    0.000    0.000    0.000    0.000 pathlib.py:546(__fspath__)\n",
      "        2    0.000    0.000    0.000    0.000 threading.py:1185(is_alive)\n",
      "        2    0.000    0.000    0.000    0.000 pathlib.py:239(splitroot)\n",
      "       16    0.000    0.000    0.000    0.000 _iotools.py:364(<listcomp>)\n",
      "       16    0.000    0.000    0.000    0.000 <frozen posixpath>:41(_get_sep)\n",
      "        9    0.000    0.000    0.000    0.000 {method 'reshape' of 'numpy.ndarray' objects}\n",
      "       34    0.000    0.000    0.000    0.000 {built-in method builtins.any}\n",
      "        1    0.000    0.000    0.254    0.254 py3compat.py:52(execfile)\n",
      "       50    0.000    0.000    0.000    0.000 {method 'items' of 'dict' objects}\n",
      "       37    0.000    0.000    0.000    0.000 {method 'lstrip' of 'str' objects}\n",
      "       34    0.000    0.000    0.000    0.000 displaypub.py:150(is_publishing)\n",
      "        3    0.000    0.000    0.000    0.000 pathlib.py:523(_format_parsed_parts)\n",
      "        4    0.000    0.000    0.000    0.000 {built-in method _abc._abc_instancecheck}\n",
      "        1    0.000    0.000    0.000    0.000 pathlib.py:1036(open)\n",
      "        4    0.000    0.000    0.000    0.000 <frozen codecs>:309(__init__)\n",
      "       12    0.000    0.000    0.000    0.000 _npyio_impl.py:2441(<genexpr>)\n",
      "        4    0.000    0.000    0.000    0.000 fromnumeric.py:2349(sum)\n",
      "       12    0.000    0.000    0.000    0.000 <frozen posixpath>:131(splitdrive)\n",
      "       34    0.000    0.000    0.000    0.000 displayhook.py:118(is_active)\n",
      "        4    0.000    0.000    0.000    0.000 contextlib.py:347(__exit__)\n",
      "       19    0.000    0.000    0.000    0.000 {method 'join' of 'str' objects}\n",
      "        4    0.000    0.000    0.000    0.000 fromnumeric.py:1628(squeeze)\n",
      "       34    0.000    0.000    0.000    0.000 {method 'write' of '_io.StringIO' objects}\n",
      "        8    0.000    0.000    0.000    0.000 gzip.py:402(_read_exact)\n",
      "       20    0.000    0.000    0.000    0.000 {method 'replace' of 'str' objects}\n",
      "       34    0.000    0.000    0.000    0.000 {method 'get' of '_contextvars.ContextVar' objects}\n",
      "       34    0.000    0.000    0.000    0.000 {built-in method posix.getpid}\n",
      "        1    0.000    0.000    0.000    0.000 syspathcontext.py:11(__enter__)\n",
      "        1    0.000    0.000    0.000    0.000 test_1_prof.py:7(Stel_Spectrum)\n",
      "        8    0.000    0.000    0.000    0.000 _iotools.py:531(_dtypeortype)\n",
      "        4    0.000    0.000    0.000    0.000 _datasource.py:427(exists)\n",
      "        4    0.000    0.000    0.000    0.000 gzip.py:80(__init__)\n",
      "        4    0.000    0.000    0.000    0.000 {built-in method builtins.iter}\n",
      "        4    0.000    0.000    0.000    0.000 _datasource.py:276(_splitzipext)\n",
      "       12    0.000    0.000    0.000    0.000 {built-in method numpy.zeros}\n",
      "       20    0.000    0.000    0.000    0.000 _quadrature.py:245(tupleset)\n",
      "       13    0.000    0.000    0.000    0.000 {method 'endswith' of 'str' objects}\n",
      "        4    0.000    0.000    0.000    0.000 _npyio_impl.py:2073(<listcomp>)\n",
      "        4    0.000    0.000    0.000    0.000 _datasource.py:148(__getitem__)\n",
      "        4    0.000    0.000    0.000    0.000 <frozen abc>:117(__instancecheck__)\n",
      "        2    0.000    0.000    0.000    0.000 threading.py:1118(_wait_for_tstate_lock)\n",
      "        1    0.000    0.000    0.000    0.000 pathlib.py:777(parent)\n",
      "       16    0.000    0.000    0.000    0.000 _datasource.py:102(_load)\n",
      "        9    0.000    0.000    0.000    0.000 {method 'astype' of 'numpy.ndarray' objects}\n",
      "        1    0.000    0.000    0.000    0.000 syspathcontext.py:18(__exit__)\n",
      "        1    0.000    0.000    0.000    0.000 pathlib.py:1377(expanduser)\n",
      "        4    0.000    0.000    0.000    0.000 _npyio_impl.py:2112(<listcomp>)\n",
      "        4    0.000    0.000    0.000    0.000 _datasource.py:255(__del__)\n",
      "       16    0.000    0.000    0.000    0.000 {method 'extend' of 'list' objects}\n",
      "        1    0.000    0.000    0.000    0.000 <frozen importlib._bootstrap>:1207(_handle_fromlist)\n",
      "       16    0.000    0.000    0.000    0.000 {method 'get' of 'dict' objects}\n",
      "        2    0.000    0.000    0.000    0.000 iostream.py:138(_event_pipe)\n",
      "        1    0.000    0.000    0.000    0.000 pathlib.py:1008(stat)\n",
      "        4    0.000    0.000    0.000    0.000 gzip.py:346(flush)\n",
      "        4    0.000    0.000    0.000    0.000 {method 'update' of 'dict' objects}\n",
      "        1    0.000    0.000    0.001    0.001 test_1_prof.py:175(<listcomp>)\n",
      "       16    0.000    0.000    0.000    0.000 parse.py:108(_noop)\n",
      "        1    0.000    0.000    0.000    0.000 {method 'result_type' of 'numpy._core._multiarray_umath._array_converter' objects}\n",
      "        4    0.000    0.000    0.000    0.000 {method 'squeeze' of 'numpy.ndarray' objects}\n",
      "       12    0.000    0.000    0.000    0.000 test_1_prof.py:110(__getT)\n",
      "        4    0.000    0.000    0.000    0.000 contextlib.py:343(__init__)\n",
      "        5    0.000    0.000    0.000    0.000 {built-in method builtins.hasattr}\n",
      "        4    0.000    0.000    0.000    0.000 _iotools.py:37(_is_string_like)\n",
      "       16    0.000    0.000    0.000    0.000 _iotools.py:300(<lambda>)\n",
      "        4    0.000    0.000    0.000    0.000 <frozen codecs>:260(__init__)\n",
      "        4    0.000    0.000    0.000    0.000 _npyio_impl.py:2448(<listcomp>)\n",
      "        8    0.000    0.000    0.000    0.000 {method 'add' of 'set' objects}\n",
      "        4    0.000    0.000    0.000    0.000 _npyio_impl.py:793(_ensure_ndmin_ndarray_check_param)\n",
      "        4    0.000    0.000    0.000    0.000 {function DecompressReader.close at 0x102858360}\n",
      "       12    0.000    0.000    0.000    0.000 {method 'removeprefix' of 'str' objects}\n",
      "        2    0.000    0.000    0.000    0.000 {method 'acquire' of '_thread.lock' objects}\n",
      "        1    0.000    0.000    0.000    0.000 numeric.py:1937(isscalar)\n",
      "        1    0.000    0.000    0.000    0.000 builtin_trap.py:46(__enter__)\n",
      "        1    0.000    0.000    0.000    0.000 {method 'as_arrays' of 'numpy._core._multiarray_umath._array_converter' objects}\n",
      "       12    0.000    0.000    0.000    0.000 multiarray.py:1101(copyto)\n",
      "        1    0.000    0.000    0.000    0.000 test_1_prof.py:174(<listcomp>)\n",
      "        8    0.000    0.000    0.000    0.000 fromnumeric.py:3364(_prod_dispatcher)\n",
      "        8    0.000    0.000    0.000    0.000 test_1_prof.py:129(__getlogg)\n",
      "        4    0.000    0.000    0.000    0.000 _compression.py:160(tell)\n",
      "        1    0.000    0.000    0.000    0.000 fromnumeric.py:3571(ndim)\n",
      "        4    0.000    0.000    0.000    0.000 gzip.py:368(readable)\n",
      "        4    0.000    0.000    0.000    0.000 {built-in method numpy.lib.array_utils.normalize_axis_index}\n",
      "       12    0.000    0.000    0.000    0.000 multiarray.py:82(empty_like)\n",
      "        8    0.000    0.000    0.000    0.000 {built-in method numpy.asarray}\n",
      "        1    0.000    0.000    0.000    0.000 pathlib.py:515(_from_parsed_parts)\n",
      "        1    0.000    0.000    0.000    0.000 builtin_trap.py:53(__exit__)\n",
      "        4    0.000    0.000    0.000    0.000 gzip.py:371(writable)\n",
      "       12    0.000    0.000    0.000    0.000 numeric.py:59(_zeros_like_dispatcher)\n",
      "        4    0.000    0.000    0.000    0.000 fromnumeric.py:1624(_squeeze_dispatcher)\n",
      "        1    0.000    0.000    0.000    0.000 {method 'wrap' of 'numpy._core._multiarray_umath._array_converter' objects}\n",
      "        4    0.000    0.000    0.000    0.000 {built-in method io.text_encoding}\n",
      "        1    0.000    0.000    0.000    0.000 {method 'partition' of 'str' objects}\n",
      "        4    0.000    0.000    0.000    0.000 _compression.py:36(readable)\n",
      "        1    0.000    0.000    0.000    0.000 tz.py:74(utcoffset)\n",
      "        1    0.000    0.000    0.000    0.000 <string>:2(__init__)\n",
      "        4    0.000    0.000    0.000    0.000 contextlib.py:345(__enter__)\n",
      "        4    0.000    0.000    0.000    0.000 gzip.py:374(seekable)\n",
      "        4    0.000    0.000    0.000    0.000 _function_base_impl.py:1382(_diff_dispatcher)\n",
      "        4    0.000    0.000    0.000    0.000 {built-in method numpy.asanyarray}\n",
      "        2    0.000    0.000    0.000    0.000 threading.py:568(is_set)\n",
      "        4    0.000    0.000    0.000    0.000 fromnumeric.py:2344(_sum_dispatcher)\n",
      "        1    0.000    0.000    0.000    0.000 syspathcontext.py:8(__init__)\n",
      "        2    0.000    0.000    0.000    0.000 {method 'append' of 'collections.deque' objects}\n",
      "        1    0.000    0.000    0.000    0.000 {built-in method _stat.S_ISLNK}\n",
      "        1    0.000    0.000    0.000    0.000 fromnumeric.py:3567(_ndim_dispatcher)\n",
      "        1    0.000    0.000    0.000    0.000 {method 'remove' of 'list' objects}\n",
      "        2    0.000    0.000    0.000    0.000 {method 'reverse' of 'list' objects}\n",
      "        1    0.000    0.000    0.000    0.000 {method 'insert' of 'list' objects}\n",
      "        1    0.000    0.000    0.000    0.000 {method 'disable' of '_lsprof.Profiler' objects}\n",
      "        1    0.000    0.000    0.000    0.000 function_base.py:20(_linspace_dispatcher)\n",
      "        1    0.000    0.000    0.000    0.000 {built-in method _operator.index}"
     ]
    }
   ],
   "source": [
    "%run -p test_1_prof.py"
   ]
  },
  {
   "cell_type": "markdown",
   "metadata": {},
   "source": [
    "## Have a look at Scalene https://github.com/plasma-umass/scalene"
   ]
  },
  {
   "cell_type": "code",
   "execution_count": 6,
   "metadata": {},
   "outputs": [],
   "source": [
    "try:\n",
    "    import scalene\n",
    "except:\n",
    "    !pip install scalene\n",
    "    import scalene"
   ]
  },
  {
   "cell_type": "code",
   "execution_count": 7,
   "metadata": {},
   "outputs": [
    {
     "name": "stdout",
     "output_type": "stream",
     "text": [
      "Scalene extension successfully loaded. Note: Scalene currently only\n",
      "supports CPU+GPU profiling inside Jupyter notebooks. For full Scalene\n",
      "profiling, use the command line version. To profile in line mode, use\n",
      "`%scrun [options] statement`. To profile in cell mode, use `%%scalene\n",
      "[options]` followed by your code.\n",
      "\n",
      "NOTE: in Jupyter notebook on MacOS, Scalene cannot profile child\n",
      "processes. Do not run to try Scalene with multiprocessing in Jupyter\n",
      "Notebook.\n"
     ]
    }
   ],
   "source": [
    "%load_ext scalene"
   ]
  },
  {
   "cell_type": "code",
   "execution_count": 8,
   "metadata": {},
   "outputs": [],
   "source": [
    "import numpy as np\n",
    "\n",
    "def test_me():\n",
    "    for i in range(6):\n",
    "        x = np.array(range(10**7))\n",
    "        y = np.array(np.random.uniform(0, 100, size=(10**8)))"
   ]
  },
  {
   "cell_type": "code",
   "execution_count": 9,
   "metadata": {},
   "outputs": [],
   "source": [
    "test_me()"
   ]
  },
  {
   "cell_type": "code",
   "execution_count": 10,
   "metadata": {},
   "outputs": [
    {
     "name": "stdout",
     "output_type": "stream",
     "text": [
      "Overwriting test_me.py\n"
     ]
    }
   ],
   "source": [
    "%%writefile test_me.py\n",
    "import numpy as np\n",
    "\n",
    "def test_me():\n",
    "    for i in range(6):\n",
    "        x = np.array(range(10**7))\n",
    "        y = np.array(np.random.uniform(0, 100, size=(10**8)))\n",
    "\n",
    "test_me()"
   ]
  },
  {
   "cell_type": "code",
   "execution_count": 11,
   "metadata": {},
   "outputs": [
    {
     "name": "stderr",
     "output_type": "stream",
     "text": [
      "Scalene: An exception of type ImportError occurred. Arguments:\n",
      "(\"cannot import name 'display' from 'IPython.core.display' (/Users/christophemorisset/anaconda25/envs/Python_Lecture_ML/lib/python3.11/site-packages/IPython/core/display.py)\",)\n",
      "Traceback (most recent call last):\n",
      "  File \"/Users/christophemorisset/anaconda25/envs/Python_Lecture_ML/lib/python3.11/site-packages/scalene/scalene_profiler.py\", line 2133, in run_profiler\n",
      "    exit_status = profiler.profile_code(\n",
      "                  ^^^^^^^^^^^^^^^^^^^^^^\n",
      "  File \"/Users/christophemorisset/anaconda25/envs/Python_Lecture_ML/lib/python3.11/site-packages/scalene/scalene_profiler.py\", line 1868, in profile_code\n",
      "    ScaleneJupyter.display_profile(\n",
      "  File \"/Users/christophemorisset/anaconda25/envs/Python_Lecture_ML/lib/python3.11/site-packages/scalene/scalene_jupyter.py\", line 35, in display_profile\n",
      "    from IPython.core.display import display\n",
      "ImportError: cannot import name 'display' from 'IPython.core.display' (/Users/christophemorisset/anaconda25/envs/Python_Lecture_ML/lib/python3.11/site-packages/IPython/core/display.py)\n",
      "\n"
     ]
    }
   ],
   "source": [
    "%scrun test_me()"
   ]
  },
  {
   "cell_type": "code",
   "execution_count": 20,
   "metadata": {},
   "outputs": [
    {
     "data": {
      "text/html": [
       "\n",
       "        <iframe\n",
       "            width=\"100%\"\n",
       "            height=\"400\"\n",
       "            src=\"http://localhost:8183\"\n",
       "            frameborder=\"0\"\n",
       "            allowfullscreen\n",
       "            \n",
       "        ></iframe>\n",
       "        "
      ],
      "text/plain": [
       "<IPython.lib.display.IFrame at 0x172f73680>"
      ]
     },
     "metadata": {},
     "output_type": "display_data"
    }
   ],
   "source": [
    "%scrun --reduced-profile test_me()"
   ]
  },
  {
   "cell_type": "code",
   "execution_count": 17,
   "metadata": {},
   "outputs": [
    {
     "name": "stdout",
     "output_type": "stream",
     "text": [
      "0100000_6.00_33_50_02_15.bin_0.1.gz already on disk\n",
      "Read data from 0100000_6.00_33_50_02_15.bin_0.1.gz\n",
      "Instantiation done\n"
     ]
    },
    {
     "data": {
      "text/html": [
       "\n",
       "        <iframe\n",
       "            width=\"100%\"\n",
       "            height=\"400\"\n",
       "            src=\"http://localhost:8187\"\n",
       "            frameborder=\"0\"\n",
       "            allowfullscreen\n",
       "            \n",
       "        ></iframe>\n",
       "        "
      ],
      "text/plain": [
       "<IPython.lib.display.IFrame at 0x18ad934a0>"
      ]
     },
     "metadata": {},
     "output_type": "display_data"
    }
   ],
   "source": [
    "%scrun spectra = Stel_Spectrum(T=100000, logg=6, verbose=True)"
   ]
  },
  {
   "cell_type": "code",
   "execution_count": 12,
   "metadata": {},
   "outputs": [
    {
     "name": "stdout",
     "output_type": "stream",
     "text": [
      "0100000_6.00_33_50_02_15.bin_0.1.gz already on disk\n",
      "Read data from 0100000_6.00_33_50_02_15.bin_0.1.gz\n",
      "Instantiation done\n",
      "1790757180815459.2\n",
      "DONE\n",
      "/Users/christophemorisset/Google Drive/Pro/Python-MySQL/Python-lectures-Notebooks/Lecture_Notebooks\n"
     ]
    },
    {
     "name": "stderr",
     "output_type": "stream",
     "text": [
      "Scalene: An exception of type ImportError occurred. Arguments:\n",
      "(\"cannot import name 'display' from 'IPython.core.display' (/Users/christophemorisset/anaconda25/envs/Python_Lecture_ML/lib/python3.11/site-packages/IPython/core/display.py)\",)\n",
      "Traceback (most recent call last):\n",
      "  File \"/Users/christophemorisset/anaconda25/envs/Python_Lecture_ML/lib/python3.11/site-packages/scalene/scalene_profiler.py\", line 2133, in run_profiler\n",
      "    exit_status = profiler.profile_code(\n",
      "                  ^^^^^^^^^^^^^^^^^^^^^^\n",
      "  File \"/Users/christophemorisset/anaconda25/envs/Python_Lecture_ML/lib/python3.11/site-packages/scalene/scalene_profiler.py\", line 1868, in profile_code\n",
      "    ScaleneJupyter.display_profile(\n",
      "  File \"/Users/christophemorisset/anaconda25/envs/Python_Lecture_ML/lib/python3.11/site-packages/scalene/scalene_jupyter.py\", line 35, in display_profile\n",
      "    from IPython.core.display import display\n",
      "ImportError: cannot import name 'display' from 'IPython.core.display' (/Users/christophemorisset/anaconda25/envs/Python_Lecture_ML/lib/python3.11/site-packages/IPython/core/display.py)\n",
      "\n"
     ]
    }
   ],
   "source": [
    "%%scalene \n",
    "os.chdir('/Users/christophemorisset/Google Drive/Pro/Python-MySQL/Python-lectures-Notebooks/Lecture_Notebooks')\n",
    "spectra = Stel_Spectrum(T=100000, logg=6, verbose=True)\n",
    "I =  spectra.get_integ()\n",
    "print(I)\n",
    "print('DONE')\n",
    "print(os.getcwd())"
   ]
  },
  {
   "cell_type": "markdown",
   "metadata": {},
   "source": [
    "From terminal: scalene test_1_prof.py"
   ]
  },
  {
   "cell_type": "markdown",
   "metadata": {},
   "source": [
    "## Debugger"
   ]
  },
  {
   "cell_type": "markdown",
   "metadata": {},
   "source": [
    "## !!! Restart Kernel to be sure you are in the right directory (Scalene changes it...)"
   ]
  },
  {
   "cell_type": "code",
   "execution_count": 1,
   "metadata": {},
   "outputs": [],
   "source": [
    "import numpy as np\n",
    "import os\n",
    "from urllib.request import urlopen\n",
    "from scipy.integrate import simpson as simps"
   ]
  },
  {
   "cell_type": "code",
   "execution_count": 2,
   "metadata": {},
   "outputs": [
    {
     "data": {
      "text/plain": [
       "'/Users/christophemorisset/Google Drive/Pro/Python-MySQL/Python-lectures-Notebooks/Lecture_Notebooks'"
      ]
     },
     "execution_count": 2,
     "metadata": {},
     "output_type": "execute_result"
    }
   ],
   "source": [
    "pwd"
   ]
  },
  {
   "cell_type": "markdown",
   "metadata": {},
   "source": [
    "#### From the terminal"
   ]
  },
  {
   "cell_type": "markdown",
   "metadata": {},
   "source": [
    "#### Breakpoint"
   ]
  },
  {
   "cell_type": "code",
   "execution_count": 3,
   "metadata": {},
   "outputs": [
    {
     "name": "stdout",
     "output_type": "stream",
     "text": [
      "Overwriting test_3_err.py\n"
     ]
    }
   ],
   "source": [
    "%%writefile test_3_err.py\n",
    "a = 5\n",
    "b = 10\n",
    "print(a/c)\n",
    "print(a)"
   ]
  },
  {
   "cell_type": "code",
   "execution_count": 5,
   "metadata": {},
   "outputs": [
    {
     "ename": "NameError",
     "evalue": "name 'c' is not defined",
     "output_type": "error",
     "traceback": [
      "\u001b[0;31m---------------------------------------------------------------------------\u001b[0m",
      "\u001b[0;31mNameError\u001b[0m                                 Traceback (most recent call last)",
      "File \u001b[0;32m~/Google Drive/Pro/Python-MySQL/Python-lectures-Notebooks/Lecture_Notebooks/test_3_err.py:3\u001b[0m\n\u001b[1;32m      1\u001b[0m a \u001b[38;5;241m=\u001b[39m \u001b[38;5;241m5\u001b[39m\n\u001b[1;32m      2\u001b[0m b \u001b[38;5;241m=\u001b[39m \u001b[38;5;241m10\u001b[39m\n\u001b[0;32m----> 3\u001b[0m \u001b[38;5;28mprint\u001b[39m(a\u001b[38;5;241m/\u001b[39mb)\n\u001b[1;32m      4\u001b[0m \u001b[38;5;28mprint\u001b[39m(a)\n",
      "\u001b[0;31mNameError\u001b[0m: name 'c' is not defined"
     ]
    }
   ],
   "source": [
    "%run test_3_err"
   ]
  },
  {
   "cell_type": "code",
   "execution_count": 6,
   "metadata": {
    "collapsed": false,
    "jupyter": {
     "outputs_hidden": false
    }
   },
   "outputs": [
    {
     "name": "stdout",
     "output_type": "stream",
     "text": [
      "Overwriting test_5_pdb.py\n"
     ]
    }
   ],
   "source": [
    "%%writefile test_5_pdb.py\n",
    "import pdb # This is needed to use the debugger\n",
    "import numpy as np\n",
    "import os\n",
    "from urllib.request import urlopen\n",
    "from scipy.integrate import simpson as simps\n",
    "\n",
    "class Stel_Spectrum(object):\n",
    "    \"\"\"\n",
    "    This object downloads a file from http://astro.uni-tuebingen.de/~rauch/TMAF/NLTE/He+C+N+O/\n",
    "    and is able to make some plots.    \n",
    "    \"\"\"\n",
    "    \n",
    "    spec_count = 0 # This attibute is at the level of the class, not of the object.\n",
    "    def __init__(self, filename=None, T=None, logg=None, verbose=False):\n",
    "        \"\"\"\n",
    "        Initialisation of the Stel_Spectrum object.\n",
    "        Parameter:\n",
    "            - filename\n",
    "            - T: temperature in K, e.g. 150000\n",
    "            - logg: e.g. 7.5\n",
    "            - verbose: if True, some info are printed out\n",
    "        The wl variable is an array of wavelengths in Angstrom.\n",
    "        The fl variable is the flux in erg/s/cm2/A\n",
    "        The variables T and logg are properties: changing them will reload the data\n",
    "        \"\"\"\n",
    "        self.verbose = verbose\n",
    "        if filename is None:\n",
    "            if T is not None and logg is not None:\n",
    "                self.__T = T # We need to initialize the hidden values, as logg is still not defined\n",
    "                self.logg = logg\n",
    "                self.filename = '0{0:06.0f}_{1:.2f}_33_50_02_15.bin_0.1.gz'.format(self.T, self.logg)\n",
    "            else:\n",
    "                raise TypeError(\"T and logg must be given\")\n",
    "        else:\n",
    "            self.filename = filename\n",
    "            self.__T = float(filename.split('_')[0]) # We need to initialize the hidden values, as logg is still not defined\n",
    "            self.logg = float(filename.split('_')[1])\n",
    "        Stel_Spectrum.spec_count += 1\n",
    "        if self.verbose:\n",
    "            print('Instantiation done')\n",
    "            \n",
    "    def dlfile(self):\n",
    "        \"\"\"\n",
    "        Downloading file if not already here. Put it in the current directory\n",
    "        \"\"\"\n",
    "        if not os.path.exists(self.filename):\n",
    "            if self.verbose:\n",
    "                print('Downloading {}'.format(self.filename))\n",
    "            try:\n",
    "                stel_file = urlopen('http://astro.uni-tuebingen.de/~rauch/TMAF/NLTE/He+C+N+O/' + \n",
    "                                            self.filename)\n",
    "                output = open(self.filename,'wb')\n",
    "                output.write(stel_file.read())\n",
    "                output.close()\n",
    "                self.file_found=True\n",
    "            except:\n",
    "                if self.verbose:\n",
    "                    print('file {} not found'.format(self.filename))\n",
    "                self.file_found=False\n",
    "        else:\n",
    "            if self.verbose:\n",
    "                print('{} already on disk'.format(self.filename))\n",
    "            self.file_found=True\n",
    "                \n",
    "    def read_data(self):\n",
    "        \"\"\"\n",
    "        read the data from the file\n",
    "        \"\"\"\n",
    "        if self.file_found:\n",
    "            file2read = self.filename+'eee'\n",
    "            pdb.set_trace() # THIS IS A BREAKPOINT\n",
    "            data = np.genfromtxt(file2read, comments='*', names='wl, fl')\n",
    "            self.fl = data['fl']\n",
    "            self.wl = data['wl'] # in A\n",
    "            self.fl /= 1e8 # F LAMBDA  GIVEN IN ERG/CM**2/SEC/CM -> erg/s/cm2/A\n",
    "            if self.verbose:\n",
    "                print('Read data from {}'.format(self.filename))\n",
    "        else:\n",
    "            if self.verbose:\n",
    "                print('file not found {}'.format(self.filename))\n",
    "            self.wl = None\n",
    "            self.fl = None\n",
    "        \n",
    "    def plot_spr(self, ax=None, *args, **kwargs):\n",
    "        \"\"\"\n",
    "        Plot the spectrum.\n",
    "        Parameter:\n",
    "            - ax: an axis (optionnal). If Noe or absent, axis is created\n",
    "            - any extra parameter is passed to ax.plot\n",
    "        \"\"\"\n",
    "        if self.wl is None:\n",
    "            print('No data to plot')\n",
    "            return\n",
    "        if ax is None:\n",
    "            fig, ax = plt.subplots()\n",
    "        ax.plot(self.wl, self.fl,\n",
    "                label='T3={0:.0f}, logg={1}'.format(self.T/1e3, self.logg),\n",
    "                *args, **kwargs) # Here are the transmissions of extra parameters to plot\n",
    "        ax.set_yscale('log')\n",
    "        ax.set_ylim(1e6, 1e14)\n",
    "        ax.set_xlabel('Wavelength (A)')\n",
    "        \n",
    "    def get_integ(self):\n",
    "        \"\"\"\n",
    "        Return the integral of Flambda over lambda, in erg/s/cm2\n",
    "        \"\"\"\n",
    "        if self.wl is None:\n",
    "            print('No data')\n",
    "            return None\n",
    "        return simps(self.fl, self.wl) # perform the integral\n",
    "    \n",
    "    def __getT(self): \n",
    "        return self.__T\n",
    "    \n",
    "    def __setT(self, value): \n",
    "        if not isinstance(value, (int, float)): # check the type of the input\n",
    "            raise TypeError('T must be an integer or a float')\n",
    "        if float(value) not in np.linspace(40000, 190000, 16): # check the value of the input\n",
    "            raise ValueError('T value must be between 40000 and 190000K, by 10000K steps')\n",
    "        elif self.__T != value:\n",
    "            self.__T = value\n",
    "            self.filename = '0{0:06.0f}_{1:.2f}_33_50_02_15.bin_0.1.gz'.format(self.T, self.logg)\n",
    "            self.dlfile() # will download new data\n",
    "            self.read_data() # will update the data\n",
    "        \n",
    "    def __delT(self): \n",
    "        print('T is needed')\n",
    "        \n",
    "    T = property(__getT, __setT, __delT, \"Stellar effective temperature\")\n",
    "    \n",
    "    def __getlogg(self): \n",
    "        return self.__logg\n",
    "    \n",
    "    def __setlogg(self, value):\n",
    "        try:\n",
    "            self.__logg \n",
    "        except:\n",
    "            self.__logg = -1\n",
    "        if not isinstance(value, (int, float)):\n",
    "            raise TypeError('logg must be an integer or a float')\n",
    "        if float(value) not in (-1., 5., 6., 7. ,8., 9.):\n",
    "            raise ValueError('Error, logg must be 6, 7, 8, or 9')\n",
    "            self.__logg = None\n",
    "        elif self.__logg != value:\n",
    "            self.__logg = value\n",
    "            self.filename = '0{0:06.0f}_{1:.2f}_33_50_02_15.bin_0.1.gz'.format(self.T, self.logg)\n",
    "            self.dlfile() # will download new data\n",
    "            self.read_data() # will update the data\n",
    "        \n",
    "    def __dellogg(self): \n",
    "        print('logg is needed')\n",
    "        \n",
    "    logg = property(__getlogg, __setlogg, __dellogg, \"Stellar logg\")\n",
    "\n",
    "    def print_info(self):\n",
    "        \"\"\"\n",
    "        Print out the filename and the number of points\n",
    "        \"\"\"\n",
    "        print(self.__repr__())\n",
    "        \n",
    "    def __repr__(self):\n",
    "        \"\"\"\n",
    "        This is what is used when calling \"print <obj>\" or <obj> ENTER\n",
    "        \"\"\"\n",
    "        if self.wl is None:\n",
    "            return'Filename: {0}, No data'.format(self.filename)\n",
    "        else:\n",
    "            return'Filename: {0}, number of points: {1}'.format(self.filename, len(self.wl))\n",
    "    \n",
    "    def __del__(self):\n",
    "        Stel_Spectrum.spec_count -= 1\n",
    "\n",
    "sp = Stel_Spectrum(T=100000, logg=6)\n",
    "print('ending')\n",
    "print(sp.filename, sp.get_integ())"
   ]
  },
  {
   "cell_type": "markdown",
   "metadata": {},
   "source": [
    "The commands that can be used once inside the pdb debugger session are: \n",
    "* l(list)\tLists the code at the current position\n",
    "* u(p)\t    Walk up the call stack\n",
    "* d(own)\tWalk down the call stack\n",
    "* n(ext)\tExecute the next line (does not go down in new functions)\n",
    "* s(tep)\tExecute the next statement (goes down in new functions)\n",
    "* bt\t    Print the call stack\n",
    "* a\t        Print the local variables\n",
    "* !command\tExecute the given Python command (by opposition to pdb commands\n",
    "* break N   Set a breakpoint at line number N. If no N, list all the breakpoints\n",
    "* disable N Remove the breakpoin number N\n",
    "* c(ontinue) Run until the next breakpoint or the end of the program\n",
    "* return   Continues executing until the function is about to execute a return statement, and then it pauses. This gives you time to look at the return value before the function returns."
   ]
  },
  {
   "cell_type": "code",
   "execution_count": 7,
   "metadata": {
    "collapsed": false,
    "jupyter": {
     "outputs_hidden": false
    }
   },
   "outputs": [
    {
     "name": "stdout",
     "output_type": "stream",
     "text": [
      "> \u001b[0;32m/Users/christophemorisset/Google Drive/Pro/Python-MySQL/Python-lectures-Notebooks/Lecture_Notebooks/test_5_pdb.py\u001b[0m(72)\u001b[0;36mread_data\u001b[0;34m()\u001b[0m\n",
      "\u001b[0;32m     70 \u001b[0;31m            \u001b[0mfile2read\u001b[0m \u001b[0;34m=\u001b[0m \u001b[0mself\u001b[0m\u001b[0;34m.\u001b[0m\u001b[0mfilename\u001b[0m\u001b[0;34m+\u001b[0m\u001b[0;34m'eee'\u001b[0m\u001b[0;34m\u001b[0m\u001b[0;34m\u001b[0m\u001b[0m\n",
      "\u001b[0m\u001b[0;32m     71 \u001b[0;31m            \u001b[0mpdb\u001b[0m\u001b[0;34m.\u001b[0m\u001b[0mset_trace\u001b[0m\u001b[0;34m(\u001b[0m\u001b[0;34m)\u001b[0m \u001b[0;31m# THIS IS A BREAKPOINT\u001b[0m\u001b[0;34m\u001b[0m\u001b[0;34m\u001b[0m\u001b[0m\n",
      "\u001b[0m\u001b[0;32m---> 72 \u001b[0;31m            \u001b[0mdata\u001b[0m \u001b[0;34m=\u001b[0m \u001b[0mnp\u001b[0m\u001b[0;34m.\u001b[0m\u001b[0mgenfromtxt\u001b[0m\u001b[0;34m(\u001b[0m\u001b[0mfile2read\u001b[0m\u001b[0;34m,\u001b[0m \u001b[0mcomments\u001b[0m\u001b[0;34m=\u001b[0m\u001b[0;34m'*'\u001b[0m\u001b[0;34m,\u001b[0m \u001b[0mnames\u001b[0m\u001b[0;34m=\u001b[0m\u001b[0;34m'wl, fl'\u001b[0m\u001b[0;34m)\u001b[0m\u001b[0;34m\u001b[0m\u001b[0;34m\u001b[0m\u001b[0m\n",
      "\u001b[0m\u001b[0;32m     73 \u001b[0;31m            \u001b[0mself\u001b[0m\u001b[0;34m.\u001b[0m\u001b[0mfl\u001b[0m \u001b[0;34m=\u001b[0m \u001b[0mdata\u001b[0m\u001b[0;34m[\u001b[0m\u001b[0;34m'fl'\u001b[0m\u001b[0;34m]\u001b[0m\u001b[0;34m\u001b[0m\u001b[0;34m\u001b[0m\u001b[0m\n",
      "\u001b[0m\u001b[0;32m     74 \u001b[0;31m            \u001b[0mself\u001b[0m\u001b[0;34m.\u001b[0m\u001b[0mwl\u001b[0m \u001b[0;34m=\u001b[0m \u001b[0mdata\u001b[0m\u001b[0;34m[\u001b[0m\u001b[0;34m'wl'\u001b[0m\u001b[0;34m]\u001b[0m \u001b[0;31m# in A\u001b[0m\u001b[0;34m\u001b[0m\u001b[0;34m\u001b[0m\u001b[0m\n",
      "\u001b[0m\n"
     ]
    },
    {
     "ename": "BdbQuit",
     "evalue": "",
     "output_type": "error",
     "traceback": [
      "\u001b[0;31m---------------------------------------------------------------------------\u001b[0m",
      "\u001b[0;31mBdbQuit\u001b[0m                                   Traceback (most recent call last)",
      "File \u001b[0;32m~/Google Drive/Pro/Python-MySQL/Python-lectures-Notebooks/Lecture_Notebooks/test_5_pdb.py:173\u001b[0m\n\u001b[1;32m    170\u001b[0m     \u001b[38;5;28;01mdef\u001b[39;00m \u001b[38;5;21m__del__\u001b[39m(\u001b[38;5;28mself\u001b[39m):\n\u001b[1;32m    171\u001b[0m         Stel_Spectrum\u001b[38;5;241m.\u001b[39mspec_count \u001b[38;5;241m-\u001b[39m\u001b[38;5;241m=\u001b[39m \u001b[38;5;241m1\u001b[39m\n\u001b[0;32m--> 173\u001b[0m sp \u001b[38;5;241m=\u001b[39m Stel_Spectrum(T\u001b[38;5;241m=\u001b[39m\u001b[38;5;241m100000\u001b[39m, logg\u001b[38;5;241m=\u001b[39m\u001b[38;5;241m6\u001b[39m)\n\u001b[1;32m    174\u001b[0m \u001b[38;5;28mprint\u001b[39m(\u001b[38;5;124m'\u001b[39m\u001b[38;5;124mending\u001b[39m\u001b[38;5;124m'\u001b[39m)\n\u001b[1;32m    175\u001b[0m \u001b[38;5;28mprint\u001b[39m(sp\u001b[38;5;241m.\u001b[39mfilename, sp\u001b[38;5;241m.\u001b[39mget_integ())\n",
      "File \u001b[0;32m~/Google Drive/Pro/Python-MySQL/Python-lectures-Notebooks/Lecture_Notebooks/test_5_pdb.py:30\u001b[0m, in \u001b[0;36mStel_Spectrum.__init__\u001b[0;34m(self, filename, T, logg, verbose)\u001b[0m\n\u001b[1;32m     28\u001b[0m \u001b[38;5;28;01mif\u001b[39;00m T \u001b[38;5;129;01mis\u001b[39;00m \u001b[38;5;129;01mnot\u001b[39;00m \u001b[38;5;28;01mNone\u001b[39;00m \u001b[38;5;129;01mand\u001b[39;00m logg \u001b[38;5;129;01mis\u001b[39;00m \u001b[38;5;129;01mnot\u001b[39;00m \u001b[38;5;28;01mNone\u001b[39;00m:\n\u001b[1;32m     29\u001b[0m     \u001b[38;5;28mself\u001b[39m\u001b[38;5;241m.\u001b[39m__T \u001b[38;5;241m=\u001b[39m T \u001b[38;5;66;03m# We need to initialize the hidden values, as logg is still not defined\u001b[39;00m\n\u001b[0;32m---> 30\u001b[0m     \u001b[38;5;28mself\u001b[39m\u001b[38;5;241m.\u001b[39mlogg \u001b[38;5;241m=\u001b[39m logg\n\u001b[1;32m     31\u001b[0m     \u001b[38;5;28mself\u001b[39m\u001b[38;5;241m.\u001b[39mfilename \u001b[38;5;241m=\u001b[39m \u001b[38;5;124m'\u001b[39m\u001b[38;5;124m0\u001b[39m\u001b[38;5;132;01m{0:06.0f}\u001b[39;00m\u001b[38;5;124m_\u001b[39m\u001b[38;5;132;01m{1:.2f}\u001b[39;00m\u001b[38;5;124m_33_50_02_15.bin_0.1.gz\u001b[39m\u001b[38;5;124m'\u001b[39m\u001b[38;5;241m.\u001b[39mformat(\u001b[38;5;28mself\u001b[39m\u001b[38;5;241m.\u001b[39mT, \u001b[38;5;28mself\u001b[39m\u001b[38;5;241m.\u001b[39mlogg)\n\u001b[1;32m     32\u001b[0m \u001b[38;5;28;01melse\u001b[39;00m:\n",
      "File \u001b[0;32m~/Google Drive/Pro/Python-MySQL/Python-lectures-Notebooks/Lecture_Notebooks/test_5_pdb.py:148\u001b[0m, in \u001b[0;36mStel_Spectrum.__setlogg\u001b[0;34m(self, value)\u001b[0m\n\u001b[1;32m    146\u001b[0m \u001b[38;5;28mself\u001b[39m\u001b[38;5;241m.\u001b[39mfilename \u001b[38;5;241m=\u001b[39m \u001b[38;5;124m'\u001b[39m\u001b[38;5;124m0\u001b[39m\u001b[38;5;132;01m{0:06.0f}\u001b[39;00m\u001b[38;5;124m_\u001b[39m\u001b[38;5;132;01m{1:.2f}\u001b[39;00m\u001b[38;5;124m_33_50_02_15.bin_0.1.gz\u001b[39m\u001b[38;5;124m'\u001b[39m\u001b[38;5;241m.\u001b[39mformat(\u001b[38;5;28mself\u001b[39m\u001b[38;5;241m.\u001b[39mT, \u001b[38;5;28mself\u001b[39m\u001b[38;5;241m.\u001b[39mlogg)\n\u001b[1;32m    147\u001b[0m \u001b[38;5;28mself\u001b[39m\u001b[38;5;241m.\u001b[39mdlfile() \u001b[38;5;66;03m# will download new data\u001b[39;00m\n\u001b[0;32m--> 148\u001b[0m \u001b[38;5;28mself\u001b[39m\u001b[38;5;241m.\u001b[39mread_data()\n",
      "File \u001b[0;32m~/Google Drive/Pro/Python-MySQL/Python-lectures-Notebooks/Lecture_Notebooks/test_5_pdb.py:72\u001b[0m, in \u001b[0;36mStel_Spectrum.read_data\u001b[0;34m(self)\u001b[0m\n\u001b[1;32m     70\u001b[0m file2read \u001b[38;5;241m=\u001b[39m \u001b[38;5;28mself\u001b[39m\u001b[38;5;241m.\u001b[39mfilename\u001b[38;5;241m+\u001b[39m\u001b[38;5;124m'\u001b[39m\u001b[38;5;124meee\u001b[39m\u001b[38;5;124m'\u001b[39m\n\u001b[1;32m     71\u001b[0m pdb\u001b[38;5;241m.\u001b[39mset_trace() \u001b[38;5;66;03m# THIS IS A BREAKPOINT\u001b[39;00m\n\u001b[0;32m---> 72\u001b[0m data \u001b[38;5;241m=\u001b[39m np\u001b[38;5;241m.\u001b[39mgenfromtxt(file2read, comments\u001b[38;5;241m=\u001b[39m\u001b[38;5;124m'\u001b[39m\u001b[38;5;124m*\u001b[39m\u001b[38;5;124m'\u001b[39m, names\u001b[38;5;241m=\u001b[39m\u001b[38;5;124m'\u001b[39m\u001b[38;5;124mwl, fl\u001b[39m\u001b[38;5;124m'\u001b[39m)\n\u001b[1;32m     73\u001b[0m \u001b[38;5;28mself\u001b[39m\u001b[38;5;241m.\u001b[39mfl \u001b[38;5;241m=\u001b[39m data[\u001b[38;5;124m'\u001b[39m\u001b[38;5;124mfl\u001b[39m\u001b[38;5;124m'\u001b[39m]\n\u001b[1;32m     74\u001b[0m \u001b[38;5;28mself\u001b[39m\u001b[38;5;241m.\u001b[39mwl \u001b[38;5;241m=\u001b[39m data[\u001b[38;5;124m'\u001b[39m\u001b[38;5;124mwl\u001b[39m\u001b[38;5;124m'\u001b[39m] \u001b[38;5;66;03m# in A\u001b[39;00m\n",
      "File \u001b[0;32m~/anaconda3/envs/Python_Lecture/lib/python3.12/bdb.py:100\u001b[0m, in \u001b[0;36mBdb.trace_dispatch\u001b[0;34m(self, frame, event, arg)\u001b[0m\n\u001b[1;32m     98\u001b[0m     \u001b[38;5;28;01mreturn\u001b[39;00m \u001b[38;5;66;03m# None\u001b[39;00m\n\u001b[1;32m     99\u001b[0m \u001b[38;5;28;01mif\u001b[39;00m event \u001b[38;5;241m==\u001b[39m \u001b[38;5;124m'\u001b[39m\u001b[38;5;124mline\u001b[39m\u001b[38;5;124m'\u001b[39m:\n\u001b[0;32m--> 100\u001b[0m     \u001b[38;5;28;01mreturn\u001b[39;00m \u001b[38;5;28mself\u001b[39m\u001b[38;5;241m.\u001b[39mdispatch_line(frame)\n\u001b[1;32m    101\u001b[0m \u001b[38;5;28;01mif\u001b[39;00m event \u001b[38;5;241m==\u001b[39m \u001b[38;5;124m'\u001b[39m\u001b[38;5;124mcall\u001b[39m\u001b[38;5;124m'\u001b[39m:\n\u001b[1;32m    102\u001b[0m     \u001b[38;5;28;01mreturn\u001b[39;00m \u001b[38;5;28mself\u001b[39m\u001b[38;5;241m.\u001b[39mdispatch_call(frame, arg)\n",
      "File \u001b[0;32m~/anaconda3/envs/Python_Lecture/lib/python3.12/bdb.py:125\u001b[0m, in \u001b[0;36mBdb.dispatch_line\u001b[0;34m(self, frame)\u001b[0m\n\u001b[1;32m    123\u001b[0m \u001b[38;5;28;01mif\u001b[39;00m \u001b[38;5;28mself\u001b[39m\u001b[38;5;241m.\u001b[39mstop_here(frame) \u001b[38;5;129;01mor\u001b[39;00m \u001b[38;5;28mself\u001b[39m\u001b[38;5;241m.\u001b[39mbreak_here(frame):\n\u001b[1;32m    124\u001b[0m     \u001b[38;5;28mself\u001b[39m\u001b[38;5;241m.\u001b[39muser_line(frame)\n\u001b[0;32m--> 125\u001b[0m     \u001b[38;5;28;01mif\u001b[39;00m \u001b[38;5;28mself\u001b[39m\u001b[38;5;241m.\u001b[39mquitting: \u001b[38;5;28;01mraise\u001b[39;00m BdbQuit\n\u001b[1;32m    126\u001b[0m \u001b[38;5;28;01mreturn\u001b[39;00m \u001b[38;5;28mself\u001b[39m\u001b[38;5;241m.\u001b[39mtrace_dispatch\n",
      "\u001b[0;31mBdbQuit\u001b[0m: "
     ]
    }
   ],
   "source": [
    "%run test_5_pdb.py"
   ]
  },
  {
   "cell_type": "code",
   "execution_count": 9,
   "metadata": {},
   "outputs": [
    {
     "name": "stdout",
     "output_type": "stream",
     "text": [
      "Overwriting test_2_err.py\n"
     ]
    }
   ],
   "source": [
    "%%writefile test_2_err.py\n",
    "import numpy as np\n",
    "import os\n",
    "from urllib.request import urlopen\n",
    "from scipy.integrate import simpson as simps\n",
    "\n",
    "class Stel_Spectrum(object):\n",
    "    \"\"\"\n",
    "    This object downloads a file from http://astro.uni-tuebingen.de/~rauch/TMAF/NLTE/He+C+N+O/\n",
    "    and is able to make some plots.    \n",
    "    \"\"\"\n",
    "    \n",
    "    spec_count = 0 # This attibute is at the level of the class, not of the object.\n",
    "    def __init__(self, filename=None, T=None, logg=None, verbose=False):\n",
    "        \"\"\"\n",
    "        Initialisation of the Stel_Spectrum object.\n",
    "        Parameter:\n",
    "            - filename\n",
    "            - T: temperature in K, e.g. 150000\n",
    "            - logg: e.g. 7.5\n",
    "            - verbose: if True, some info are printed out\n",
    "        The wl variable is an array of wavelengths in Angstrom.\n",
    "        The fl variable is the flux in erg/s/cm2/A\n",
    "        The variables T and logg are properties: changing them will reload the data\n",
    "        \"\"\"\n",
    "        self.verbose = verbose\n",
    "        if filename is None:\n",
    "            if T is not None and logg is not None:\n",
    "                self.__T = T # We need to initialize the hidden values, as logg is still not defined\n",
    "                self.logg = logg\n",
    "                self.filename = '0{0:06.0f}_{1:.2f}_33_50_02_15.bin_0.1.gz'.format(self.T, self.logg)\n",
    "            else:\n",
    "                raise TypeError(\"T and logg must be given\")\n",
    "        else:\n",
    "            self.filename = filename\n",
    "            self.__T = float(filename.split('_')[0]) # We need to initialize the hidden values, as logg is still not defined\n",
    "            self.logg = float(filename.split('_')[1])\n",
    "        Stel_Spectrum.spec_count += 1\n",
    "        if self.verbose:\n",
    "            print('Instantiation done')\n",
    "            \n",
    "    def dlfile(self):\n",
    "        \"\"\"\n",
    "        Downloading file if not already here. Put it in the current directory\n",
    "        \"\"\"\n",
    "        if not os.path.exists(self.filename):\n",
    "            if self.verbose:\n",
    "                print('Downloading {}'.format(self.filename))\n",
    "            try:\n",
    "                stel_file = urlopen('http://astro.uni-tuebingen.de/~rauch/TMAF/NLTE/He+C+N+O/' + \n",
    "                                            self.filename)\n",
    "                output = open(self.filename,'wb')\n",
    "                output.write(stel_file.read())\n",
    "                output.close()\n",
    "                self.file_found=True\n",
    "            except:\n",
    "                if self.verbose:\n",
    "                    print('file {} not found'.format(self.filename))\n",
    "                self.file_found=False\n",
    "        else:\n",
    "            if self.verbose:\n",
    "                print('{} already on disk'.format(self.filename))\n",
    "            self.file_found=True\n",
    "                \n",
    "    def read_data(self):\n",
    "        \"\"\"\n",
    "        read the data from the file\n",
    "        \"\"\"\n",
    "        if self.file_found:\n",
    "            file2read = self.filename+'eee'\n",
    "            data = np.genfromtxt(file2read, comments='*', names='wl, fl')\n",
    "            self.fl = data['fl']\n",
    "            self.wl = data['wl'] # in A\n",
    "            self.fl /= 1e8 # F LAMBDA  GIVEN IN ERG/CM**2/SEC/CM -> erg/s/cm2/A\n",
    "            if self.verbose:\n",
    "                print('Read data from {}'.format(self.filename))\n",
    "        else:\n",
    "            if self.verbose:\n",
    "                print('file not found {}'.format(self.filename))\n",
    "            self.wl = None\n",
    "            self.fl = None\n",
    "        \n",
    "    def plot_spr(self, ax=None, *args, **kwargs):\n",
    "        \"\"\"\n",
    "        Plot the spectrum.\n",
    "        Parameter:\n",
    "            - ax: an axis (optionnal). If Noe or absent, axis is created\n",
    "            - any extra parameter is passed to ax.plot\n",
    "        \"\"\"\n",
    "        if self.wl is None:\n",
    "            print('No data to plot')\n",
    "            return\n",
    "        if ax is None:\n",
    "            fig, ax = plt.subplots()\n",
    "        ax.plot(self.wl, self.fl,\n",
    "                label='T3={0:.0f}, logg={1}'.format(self.T/1e3, self.logg),\n",
    "                *args, **kwargs) # Here are the transmissions of extra parameters to plot\n",
    "        ax.set_yscale('log')\n",
    "        ax.set_ylim(1e6, 1e14)\n",
    "        ax.set_xlabel('Wavelength (A)')\n",
    "        \n",
    "    def get_integ(self):\n",
    "        \"\"\"\n",
    "        Return the integral of Flambda over lambda, in erg/s/cm2\n",
    "        \"\"\"\n",
    "        if self.wl is None:\n",
    "            print('No data')\n",
    "            return None\n",
    "        return simps(self.fl, self.wl) # perform the integral\n",
    "    \n",
    "    def __getT(self): \n",
    "        return self.__T\n",
    "    \n",
    "    def __setT(self, value): \n",
    "        if not isinstance(value, (int, float)): # check the type of the input\n",
    "            raise TypeError('T must be an integer or a float')\n",
    "        if float(value) not in np.linspace(40000, 190000, 16): # check the value of the input\n",
    "            raise ValueError('T value must be between 40000 and 190000K, by 10000K steps')\n",
    "        elif self.__T != value:\n",
    "            self.__T = value\n",
    "            self.filename = '0{0:06.0f}_{1:.2f}_33_50_02_15.bin_0.1.gz'.format(self.T, self.logg)\n",
    "            self.dlfile() # will download new data\n",
    "            self.read_data() # will update the data\n",
    "        \n",
    "    def __delT(self): \n",
    "        print('T is needed')\n",
    "        \n",
    "    T = property(__getT, __setT, __delT, \"Stellar effective temperature\")\n",
    "    \n",
    "    def __getlogg(self): \n",
    "        return self.__logg\n",
    "    \n",
    "    def __setlogg(self, value):\n",
    "        try:\n",
    "            self.__logg \n",
    "        except:\n",
    "            self.__logg = -1\n",
    "        if not isinstance(value, (int, float)):\n",
    "            raise TypeError('logg must be an integer or a float')\n",
    "        if float(value) not in (-1., 5., 6., 7. ,8., 9.):\n",
    "            raise ValueError('Error, logg must be 6, 7, 8, or 9')\n",
    "            self.__logg = None\n",
    "        elif self.__logg != value:\n",
    "            self.__logg = value\n",
    "            self.filename = '0{0:06.0f}_{1:.2f}_33_50_02_15.bin_0.1.gz'.format(self.T, self.logg)\n",
    "            self.dlfile() # will download new data\n",
    "            self.read_data() # will update the data\n",
    "        \n",
    "    def __dellogg(self): \n",
    "        print('logg is needed')\n",
    "        \n",
    "    logg = property(__getlogg, __setlogg, __dellogg, \"Stellar logg\")\n",
    "\n",
    "    def print_info(self):\n",
    "        \"\"\"\n",
    "        Print out the filename and the number of points\n",
    "        \"\"\"\n",
    "        print(self.__repr__())\n",
    "        \n",
    "    def __repr__(self):\n",
    "        \"\"\"\n",
    "        This is what is used when calling \"print <obj>\" or <obj> ENTER\n",
    "        \"\"\"\n",
    "        if self.wl is None:\n",
    "            return'Filename: {0}, No data'.format(self.filename)\n",
    "        else:\n",
    "            return'Filename: {0}, number of points: {1}'.format(self.filename, len(self.wl))\n",
    "    \n",
    "    def __del__(self):\n",
    "        Stel_Spectrum.spec_count -= 1\n",
    "if __name__ == \"__main__\":\n",
    "    sp = Stel_Spectrum(T=100000, logg=6, verbose=True)\n",
    "    print('ending')\n",
    "    print(sp.filename, sp.get_integ())"
   ]
  },
  {
   "cell_type": "code",
   "execution_count": null,
   "metadata": {
    "collapsed": false,
    "jupyter": {
     "outputs_hidden": false
    }
   },
   "outputs": [
    {
     "name": "stdout",
     "output_type": "stream",
     "text": [
      "0100000_6.00_33_50_02_15.bin_0.1.gz already on disk\n",
      "Read data from 0100000_6.00_33_50_02_15.bin_0.1.gz\n",
      "Instantiation done\n",
      "ending\n",
      "0100000_6.00_33_50_02_15.bin_0.1.gz 1790757180815459.2\n"
     ]
    }
   ],
   "source": [
    "%run test_2_err.py "
   ]
  },
  {
   "cell_type": "markdown",
   "metadata": {},
   "source": [
    "Run it from spyder or vscode debugger mode..."
   ]
  },
  {
   "cell_type": "code",
   "execution_count": 8,
   "metadata": {},
   "outputs": [
    {
     "name": "stdout",
     "output_type": "stream",
     "text": [
      "0100000_6.00_33_50_02_15.bin_0.1.gz already on disk\n"
     ]
    },
    {
     "ename": "FileNotFoundError",
     "evalue": "0100000_6.00_33_50_02_15.bin_0.1.gzeee not found.",
     "output_type": "error",
     "traceback": [
      "\u001b[0;31m---------------------------------------------------------------------------\u001b[0m",
      "\u001b[0;31mFileNotFoundError\u001b[0m                         Traceback (most recent call last)",
      "Cell \u001b[0;32mIn[8], line 2\u001b[0m\n\u001b[1;32m      1\u001b[0m \u001b[38;5;28;01mfrom\u001b[39;00m \u001b[38;5;21;01mtest_2_err\u001b[39;00m \u001b[38;5;28;01mimport\u001b[39;00m Stel_Spectrum\n\u001b[0;32m----> 2\u001b[0m sp \u001b[38;5;241m=\u001b[39m Stel_Spectrum(T\u001b[38;5;241m=\u001b[39m\u001b[38;5;241m100000\u001b[39m, logg\u001b[38;5;241m=\u001b[39m\u001b[38;5;241m6\u001b[39m, verbose\u001b[38;5;241m=\u001b[39m\u001b[38;5;28;01mTrue\u001b[39;00m)\n\u001b[1;32m      3\u001b[0m \u001b[38;5;28mprint\u001b[39m(\u001b[38;5;124mf\u001b[39m\u001b[38;5;124m'\u001b[39m\u001b[38;5;124mDONE \u001b[39m\u001b[38;5;132;01m{\u001b[39;00msp\u001b[38;5;241m.\u001b[39mlogg\u001b[38;5;132;01m}\u001b[39;00m\u001b[38;5;124m'\u001b[39m)\n",
      "File \u001b[0;32m~/Google Drive/Pro/Python-MySQL/Python-lectures-Notebooks/Lecture_Notebooks/test_2_err.py:29\u001b[0m, in \u001b[0;36mStel_Spectrum.__init__\u001b[0;34m(self, filename, T, logg, verbose)\u001b[0m\n\u001b[1;32m     27\u001b[0m \u001b[38;5;28;01mif\u001b[39;00m T \u001b[38;5;129;01mis\u001b[39;00m \u001b[38;5;129;01mnot\u001b[39;00m \u001b[38;5;28;01mNone\u001b[39;00m \u001b[38;5;129;01mand\u001b[39;00m logg \u001b[38;5;129;01mis\u001b[39;00m \u001b[38;5;129;01mnot\u001b[39;00m \u001b[38;5;28;01mNone\u001b[39;00m:\n\u001b[1;32m     28\u001b[0m     \u001b[38;5;28mself\u001b[39m\u001b[38;5;241m.\u001b[39m__T \u001b[38;5;241m=\u001b[39m T \u001b[38;5;66;03m# We need to initialize the hidden values, as logg is still not defined\u001b[39;00m\n\u001b[0;32m---> 29\u001b[0m     \u001b[38;5;28mself\u001b[39m\u001b[38;5;241m.\u001b[39mlogg \u001b[38;5;241m=\u001b[39m logg\n\u001b[1;32m     30\u001b[0m     \u001b[38;5;28mself\u001b[39m\u001b[38;5;241m.\u001b[39mfilename \u001b[38;5;241m=\u001b[39m \u001b[38;5;124m'\u001b[39m\u001b[38;5;124m0\u001b[39m\u001b[38;5;132;01m{0:06.0f}\u001b[39;00m\u001b[38;5;124m_\u001b[39m\u001b[38;5;132;01m{1:.2f}\u001b[39;00m\u001b[38;5;124m_33_50_02_15.bin_0.1.gz\u001b[39m\u001b[38;5;124m'\u001b[39m\u001b[38;5;241m.\u001b[39mformat(\u001b[38;5;28mself\u001b[39m\u001b[38;5;241m.\u001b[39mT, \u001b[38;5;28mself\u001b[39m\u001b[38;5;241m.\u001b[39mlogg)\n\u001b[1;32m     31\u001b[0m \u001b[38;5;28;01melse\u001b[39;00m:\n",
      "File \u001b[0;32m~/Google Drive/Pro/Python-MySQL/Python-lectures-Notebooks/Lecture_Notebooks/test_2_err.py:146\u001b[0m, in \u001b[0;36mStel_Spectrum.__setlogg\u001b[0;34m(self, value)\u001b[0m\n\u001b[1;32m    144\u001b[0m \u001b[38;5;28mself\u001b[39m\u001b[38;5;241m.\u001b[39mfilename \u001b[38;5;241m=\u001b[39m \u001b[38;5;124m'\u001b[39m\u001b[38;5;124m0\u001b[39m\u001b[38;5;132;01m{0:06.0f}\u001b[39;00m\u001b[38;5;124m_\u001b[39m\u001b[38;5;132;01m{1:.2f}\u001b[39;00m\u001b[38;5;124m_33_50_02_15.bin_0.1.gz\u001b[39m\u001b[38;5;124m'\u001b[39m\u001b[38;5;241m.\u001b[39mformat(\u001b[38;5;28mself\u001b[39m\u001b[38;5;241m.\u001b[39mT, \u001b[38;5;28mself\u001b[39m\u001b[38;5;241m.\u001b[39mlogg)\n\u001b[1;32m    145\u001b[0m \u001b[38;5;28mself\u001b[39m\u001b[38;5;241m.\u001b[39mdlfile() \u001b[38;5;66;03m# will download new data\u001b[39;00m\n\u001b[0;32m--> 146\u001b[0m \u001b[38;5;28mself\u001b[39m\u001b[38;5;241m.\u001b[39mread_data()\n",
      "File \u001b[0;32m~/Google Drive/Pro/Python-MySQL/Python-lectures-Notebooks/Lecture_Notebooks/test_2_err.py:70\u001b[0m, in \u001b[0;36mStel_Spectrum.read_data\u001b[0;34m(self)\u001b[0m\n\u001b[1;32m     68\u001b[0m \u001b[38;5;28;01mif\u001b[39;00m \u001b[38;5;28mself\u001b[39m\u001b[38;5;241m.\u001b[39mfile_found:\n\u001b[1;32m     69\u001b[0m     file2read \u001b[38;5;241m=\u001b[39m \u001b[38;5;28mself\u001b[39m\u001b[38;5;241m.\u001b[39mfilename\u001b[38;5;241m+\u001b[39m\u001b[38;5;124m'\u001b[39m\u001b[38;5;124meee\u001b[39m\u001b[38;5;124m'\u001b[39m\n\u001b[0;32m---> 70\u001b[0m     data \u001b[38;5;241m=\u001b[39m np\u001b[38;5;241m.\u001b[39mgenfromtxt(file2read, comments\u001b[38;5;241m=\u001b[39m\u001b[38;5;124m'\u001b[39m\u001b[38;5;124m*\u001b[39m\u001b[38;5;124m'\u001b[39m, names\u001b[38;5;241m=\u001b[39m\u001b[38;5;124m'\u001b[39m\u001b[38;5;124mwl, fl\u001b[39m\u001b[38;5;124m'\u001b[39m)\n\u001b[1;32m     71\u001b[0m     \u001b[38;5;28mself\u001b[39m\u001b[38;5;241m.\u001b[39mfl \u001b[38;5;241m=\u001b[39m data[\u001b[38;5;124m'\u001b[39m\u001b[38;5;124mfl\u001b[39m\u001b[38;5;124m'\u001b[39m]\n\u001b[1;32m     72\u001b[0m     \u001b[38;5;28mself\u001b[39m\u001b[38;5;241m.\u001b[39mwl \u001b[38;5;241m=\u001b[39m data[\u001b[38;5;124m'\u001b[39m\u001b[38;5;124mwl\u001b[39m\u001b[38;5;124m'\u001b[39m] \u001b[38;5;66;03m# in A\u001b[39;00m\n",
      "File \u001b[0;32m~/anaconda3/envs/Python_Lecture/lib/python3.12/site-packages/numpy/lib/_npyio_impl.py:1990\u001b[0m, in \u001b[0;36mgenfromtxt\u001b[0;34m(fname, dtype, comments, delimiter, skip_header, skip_footer, converters, missing_values, filling_values, usecols, names, excludelist, deletechars, replace_space, autostrip, case_sensitive, defaultfmt, unpack, usemask, loose, invalid_raise, max_rows, encoding, ndmin, like)\u001b[0m\n\u001b[1;32m   1988\u001b[0m     fname \u001b[38;5;241m=\u001b[39m os\u001b[38;5;241m.\u001b[39mfspath(fname)\n\u001b[1;32m   1989\u001b[0m \u001b[38;5;28;01mif\u001b[39;00m \u001b[38;5;28misinstance\u001b[39m(fname, \u001b[38;5;28mstr\u001b[39m):\n\u001b[0;32m-> 1990\u001b[0m     fid \u001b[38;5;241m=\u001b[39m np\u001b[38;5;241m.\u001b[39mlib\u001b[38;5;241m.\u001b[39m_datasource\u001b[38;5;241m.\u001b[39mopen(fname, \u001b[38;5;124m'\u001b[39m\u001b[38;5;124mrt\u001b[39m\u001b[38;5;124m'\u001b[39m, encoding\u001b[38;5;241m=\u001b[39mencoding)\n\u001b[1;32m   1991\u001b[0m     fid_ctx \u001b[38;5;241m=\u001b[39m contextlib\u001b[38;5;241m.\u001b[39mclosing(fid)\n\u001b[1;32m   1992\u001b[0m \u001b[38;5;28;01melse\u001b[39;00m:\n",
      "File \u001b[0;32m~/anaconda3/envs/Python_Lecture/lib/python3.12/site-packages/numpy/lib/_datasource.py:192\u001b[0m, in \u001b[0;36mopen\u001b[0;34m(path, mode, destpath, encoding, newline)\u001b[0m\n\u001b[1;32m    155\u001b[0m \u001b[38;5;250m\u001b[39m\u001b[38;5;124;03m\"\"\"\u001b[39;00m\n\u001b[1;32m    156\u001b[0m \u001b[38;5;124;03mOpen `path` with `mode` and return the file object.\u001b[39;00m\n\u001b[1;32m    157\u001b[0m \n\u001b[0;32m   (...)\u001b[0m\n\u001b[1;32m    188\u001b[0m \n\u001b[1;32m    189\u001b[0m \u001b[38;5;124;03m\"\"\"\u001b[39;00m\n\u001b[1;32m    191\u001b[0m ds \u001b[38;5;241m=\u001b[39m DataSource(destpath)\n\u001b[0;32m--> 192\u001b[0m \u001b[38;5;28;01mreturn\u001b[39;00m ds\u001b[38;5;241m.\u001b[39mopen(path, mode, encoding\u001b[38;5;241m=\u001b[39mencoding, newline\u001b[38;5;241m=\u001b[39mnewline)\n",
      "File \u001b[0;32m~/anaconda3/envs/Python_Lecture/lib/python3.12/site-packages/numpy/lib/_datasource.py:529\u001b[0m, in \u001b[0;36mDataSource.open\u001b[0;34m(self, path, mode, encoding, newline)\u001b[0m\n\u001b[1;32m    526\u001b[0m     \u001b[38;5;28;01mreturn\u001b[39;00m _file_openers[ext](found, mode\u001b[38;5;241m=\u001b[39mmode,\n\u001b[1;32m    527\u001b[0m                               encoding\u001b[38;5;241m=\u001b[39mencoding, newline\u001b[38;5;241m=\u001b[39mnewline)\n\u001b[1;32m    528\u001b[0m \u001b[38;5;28;01melse\u001b[39;00m:\n\u001b[0;32m--> 529\u001b[0m     \u001b[38;5;28;01mraise\u001b[39;00m \u001b[38;5;167;01mFileNotFoundError\u001b[39;00m(\u001b[38;5;124mf\u001b[39m\u001b[38;5;124m\"\u001b[39m\u001b[38;5;132;01m{\u001b[39;00mpath\u001b[38;5;132;01m}\u001b[39;00m\u001b[38;5;124m not found.\u001b[39m\u001b[38;5;124m\"\u001b[39m)\n",
      "\u001b[0;31mFileNotFoundError\u001b[0m: 0100000_6.00_33_50_02_15.bin_0.1.gzeee not found."
     ]
    }
   ],
   "source": [
    "from test_2_err import Stel_Spectrum\n",
    "sp = Stel_Spectrum(T=100000, logg=6, verbose=True)\n",
    "print(f'DONE {sp.logg}')"
   ]
  },
  {
   "cell_type": "markdown",
   "metadata": {},
   "source": []
  }
 ],
 "metadata": {
  "kernelspec": {
   "display_name": "Python_Lecture_ML",
   "language": "python",
   "name": "python3"
  },
  "language_info": {
   "codemirror_mode": {
    "name": "ipython",
    "version": 3
   },
   "file_extension": ".py",
   "mimetype": "text/x-python",
   "name": "python",
   "nbconvert_exporter": "python",
   "pygments_lexer": "ipython3",
   "version": "3.11.5"
  }
 },
 "nbformat": 4,
 "nbformat_minor": 4
}

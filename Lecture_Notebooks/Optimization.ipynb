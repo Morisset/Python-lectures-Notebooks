{
 "cells": [
  {
   "cell_type": "code",
   "execution_count": 1,
   "metadata": {
    "collapsed": false,
    "jupyter": {
     "outputs_hidden": false
    }
   },
   "outputs": [
    {
     "name": "stdout",
     "output_type": "stream",
     "text": [
      "Mon Apr 21 17:21:21 2025\n"
     ]
    }
   ],
   "source": [
    "# Just to know last time this was run:\n",
    "import time\n",
    "print(time.ctime())"
   ]
  },
  {
   "cell_type": "markdown",
   "metadata": {},
   "source": [
    "# H Optimizing code writing"
   ]
  },
  {
   "cell_type": "markdown",
   "metadata": {},
   "source": [
    "This is part of the Python lecture given by Christophe Morisset at IA-UNAM. More informations at: https://github.com/Morisset/Python-lectures-Notebooks"
   ]
  },
  {
   "cell_type": "markdown",
   "metadata": {},
   "source": [
    "https://daily.dev/blog/top-7-python-profiling-tools-for-performance"
   ]
  },
  {
   "cell_type": "code",
   "execution_count": 11,
   "metadata": {
    "collapsed": false,
    "jupyter": {
     "outputs_hidden": false
    }
   },
   "outputs": [],
   "source": [
    "import numpy as np\n",
    "import os\n",
    "from urllib.request import urlopen\n",
    "from scipy.integrate import simpson as simps"
   ]
  },
  {
   "cell_type": "markdown",
   "metadata": {},
   "source": [
    "### Profiling the code: CPU usage"
   ]
  },
  {
   "cell_type": "code",
   "execution_count": 8,
   "metadata": {},
   "outputs": [
    {
     "name": "stdout",
     "output_type": "stream",
     "text": [
      "Overwriting test_1_prof.py\n"
     ]
    }
   ],
   "source": [
    "%%writefile test_1_prof.py\n",
    "\n",
    "import numpy as np\n",
    "import os\n",
    "from urllib.request import urlopen\n",
    "from scipy.integrate import simpson as simps\n",
    "\n",
    "class Stel_Spectrum(object):\n",
    "    \"\"\"\n",
    "    This object downloads a file from http://astro.uni-tuebingen.de/~rauch/TMAF/NLTE/He+C+N+O/\n",
    "    and is able to make some plots.    \n",
    "    \"\"\"\n",
    "    \n",
    "    spec_count = 0 # This attibute is at the level of the class, not of the object.\n",
    "    def __init__(self, filename=None, T=None, logg=None, verbose=False):\n",
    "        \"\"\"\n",
    "        Initialisation of the Stel_Spectrum object.\n",
    "        Parameter:\n",
    "            - filename\n",
    "            - T: temperature in K, e.g. 150000\n",
    "            - logg: e.g. 7.5\n",
    "            - verbose: if True, some info are printed out\n",
    "        The wl variable is an array of wavelengths in Angstrom.\n",
    "        The fl variable is the flux in erg/s/cm2/A\n",
    "        The variables T and logg are properties: changing them will reload the data\n",
    "        \"\"\"\n",
    "        self.verbose = verbose\n",
    "        if filename is None:\n",
    "            if T is not None and logg is not None:\n",
    "                self.__T = T # We need to initialize the hidden values, as logg is still not defined\n",
    "                self.logg = logg\n",
    "                self.filename = '0{0:06.0f}_{1:.2f}_33_50_02_15.bin_0.1.gz'.format(self.T, self.logg)\n",
    "            else:\n",
    "                raise TypeError(\"T and logg must be given\")\n",
    "        else:\n",
    "            self.filename = filename\n",
    "            self.__T = float(filename.split('_')[0]) # We need to initialize the hidden values, as logg is still not defined\n",
    "            self.logg = float(filename.split('_')[1])\n",
    "        Stel_Spectrum.spec_count += 1\n",
    "        if self.verbose:\n",
    "            print('Instantiation done')\n",
    "            \n",
    "    def dlfile(self):\n",
    "        \"\"\"\n",
    "        Downloading file if not already here. Put it in the current directory\n",
    "        \"\"\"\n",
    "        if not os.path.exists(self.filename):\n",
    "            if self.verbose:\n",
    "                print('Downloading {}'.format(self.filename))\n",
    "            try:\n",
    "                stel_file = urlopen('http://astro.uni-tuebingen.de/~rauch/TMAF/NLTE/He+C+N+O/' + \n",
    "                                            self.filename)\n",
    "                output = open(self.filename,'wb')\n",
    "                output.write(stel_file.read())\n",
    "                output.close()\n",
    "                self.file_found=True\n",
    "            except:\n",
    "                if self.verbose:\n",
    "                    print('file {} not found'.format(self.filename))\n",
    "                self.file_found=False\n",
    "        else:\n",
    "            if self.verbose:\n",
    "                print('{} already on disk'.format(self.filename))\n",
    "            self.file_found=True\n",
    "                \n",
    "    def read_data(self):\n",
    "        \"\"\"\n",
    "        read the data from the file\n",
    "        \"\"\"\n",
    "        if self.file_found:\n",
    "            data = np.genfromtxt(self.filename, comments='*', names='wl, fl')\n",
    "            self.fl = data['fl']\n",
    "            self.wl = data['wl'] # in A\n",
    "            self.fl /= 1e8 # F LAMBDA  GIVEN IN ERG/CM**2/SEC/CM -> erg/s/cm2/A\n",
    "            if self.verbose:\n",
    "                print('Read data from {}'.format(self.filename))\n",
    "        else:\n",
    "            if self.verbose:\n",
    "                print('file not found {}'.format(self.filename))\n",
    "            self.wl = None\n",
    "            self.fl = None\n",
    "        \n",
    "    def plot_spr(self, ax=None, *args, **kwargs):\n",
    "        \"\"\"\n",
    "        Plot the spectrum.\n",
    "        Parameter:\n",
    "            - ax: an axis (optionnal). If Noe or absent, axis is created\n",
    "            - any extra parameter is passed to ax.plot\n",
    "        \"\"\"\n",
    "        if self.wl is None:\n",
    "            print('No data to plot')\n",
    "            return\n",
    "        if ax is None:\n",
    "            fig, ax = plt.subplots()\n",
    "        ax.plot(self.wl, self.fl,\n",
    "                label='T3={0:.0f}, logg={1}'.format(self.T/1e3, self.logg),\n",
    "                *args, **kwargs) # Here are the transmissions of extra parameters to plot\n",
    "        ax.set_yscale('log')\n",
    "        ax.set_ylim(1e6, 1e14)\n",
    "        ax.set_xlabel('Wavelength (A)')\n",
    "        \n",
    "    def get_integ(self):\n",
    "        \"\"\"\n",
    "        Return the integral of Flambda over lambda, in erg/s/cm2\n",
    "        \"\"\"\n",
    "        if self.wl is None:\n",
    "            print('No data')\n",
    "            return None\n",
    "        return simps(self.fl, self.wl) # perform the integral\n",
    "    \n",
    "    def __getT(self): \n",
    "        return self.__T\n",
    "    \n",
    "    def __setT(self, value): \n",
    "        if not isinstance(value, (int, float)): # check the type of the input\n",
    "            raise TypeError('T must be an integer or a float')\n",
    "        if float(value) not in np.linspace(40000, 190000, 16): # check the value of the input\n",
    "            raise ValueError('T value must be between 40000 and 190000K, by 10000K steps')\n",
    "        elif self.__T != value:\n",
    "            self.__T = value\n",
    "            self.filename = '0{0:06.0f}_{1:.2f}_33_50_02_15.bin_0.1.gz'.format(self.T, self.logg)\n",
    "            self.dlfile() # will download new data\n",
    "            self.read_data() # will update the data\n",
    "        \n",
    "    def __delT(self): \n",
    "        print('T is needed')\n",
    "        \n",
    "    T = property(__getT, __setT, __delT, \"Stellar effective temperature in K\")\n",
    "    \n",
    "    def __getlogg(self): \n",
    "        return self.__logg\n",
    "    \n",
    "    def __setlogg(self, value):\n",
    "        try:\n",
    "            self.__logg \n",
    "        except:\n",
    "            self.__logg = -1\n",
    "        if not isinstance(value, (int, float)):\n",
    "            raise TypeError('logg must be an integer or a float')\n",
    "        if float(value) not in (-1., 5., 6., 7. ,8., 9.):\n",
    "            raise ValueError('Error, logg must be 6, 7, 8, or 9')\n",
    "            self.__logg = None\n",
    "        elif self.__logg != value:\n",
    "            self.__logg = value\n",
    "            self.filename = '0{0:06.0f}_{1:.2f}_33_50_02_15.bin_0.1.gz'.format(self.T, self.logg)\n",
    "            self.dlfile() # will download new data\n",
    "            self.read_data() # will update the data\n",
    "        \n",
    "    def __dellogg(self): \n",
    "        print('logg is needed')\n",
    "        \n",
    "    logg = property(__getlogg, __setlogg, __dellogg, \"Stellar logg\")\n",
    "\n",
    "    def print_info(self):\n",
    "        \"\"\"\n",
    "        Print out the filename and the number of points\n",
    "        \"\"\"\n",
    "        print(self.__repr__())\n",
    "        \n",
    "    def __repr__(self):\n",
    "        \"\"\"\n",
    "        This is what is used when calling \"print <obj>\" or <obj> ENTER\n",
    "        \"\"\"\n",
    "        if self.wl is None:\n",
    "            return'Filename: {0}, No data'.format(self.filename)\n",
    "        else:\n",
    "            return'Filename: {0}, number of points: {1}'.format(self.filename, len(self.wl))\n",
    "    \n",
    "    def __del__(self):\n",
    "        Stel_Spectrum.spec_count -= 1\n",
    "\n",
    "spectra = [] # we create an empty list\n",
    "for T in np.linspace(40000, 190000, 4): # this is the list of available temperature (check the site)\n",
    "    spectra.append(Stel_Spectrum(T=T, logg=6, verbose=True)) # we fill the list with the objects for each temperature\n",
    "T = np.array([sp.T for sp in spectra])\n",
    "F = np.array([sp.get_integ() for sp in spectra])\n",
    "for t, f in zip(T, F):\n",
    "    print('Temperature = {0:.0f}K, Flux = {1:.2e} erg/s/cm2'.format(t, f))\n",
    "print('DONE')"
   ]
  },
  {
   "cell_type": "code",
   "execution_count": 12,
   "metadata": {
    "collapsed": false,
    "jupyter": {
     "outputs_hidden": false
    }
   },
   "outputs": [
    {
     "name": "stdout",
     "output_type": "stream",
     "text": [
      "0040000_6.00_33_50_02_15.bin_0.1.gz already on disk\n",
      "Read data from 0040000_6.00_33_50_02_15.bin_0.1.gz\n",
      "Instantiation done\n",
      "0090000_6.00_33_50_02_15.bin_0.1.gz already on disk\n",
      "Read data from 0090000_6.00_33_50_02_15.bin_0.1.gz\n",
      "Instantiation done\n",
      "0140000_6.00_33_50_02_15.bin_0.1.gz already on disk\n",
      "Read data from 0140000_6.00_33_50_02_15.bin_0.1.gz\n",
      "Instantiation done\n",
      "0190000_6.00_33_50_02_15.bin_0.1.gz already on disk\n",
      "Read data from 0190000_6.00_33_50_02_15.bin_0.1.gz\n",
      "Instantiation done\n",
      "Temperature = 40000K, Flux = 4.00e+13 erg/s/cm2\n",
      "Temperature = 90000K, Flux = 1.05e+15 erg/s/cm2\n",
      "Temperature = 140000K, Flux = 6.93e+15 erg/s/cm2\n",
      "Temperature = 190000K, Flux = 2.35e+16 erg/s/cm2\n",
      "DONE\n",
      "\n",
      "IPython CPU timings (estimated):\n",
      "  User   :       0.13 s.\n",
      "  System :       0.02 s.\n",
      "Wall time:       0.17 s.\n"
     ]
    }
   ],
   "source": [
    "%run -t test_1_prof.py"
   ]
  },
  {
   "cell_type": "code",
   "execution_count": 15,
   "metadata": {
    "collapsed": false,
    "jupyter": {
     "outputs_hidden": false
    }
   },
   "outputs": [
    {
     "name": "stdout",
     "output_type": "stream",
     "text": [
      "0040000_6.00_33_50_02_15.bin_0.1.gz already on disk\n",
      "Read data from 0040000_6.00_33_50_02_15.bin_0.1.gz\n",
      "Instantiation done\n",
      "0090000_6.00_33_50_02_15.bin_0.1.gz already on disk\n",
      "Read data from 0090000_6.00_33_50_02_15.bin_0.1.gz\n",
      "Instantiation done\n",
      "0140000_6.00_33_50_02_15.bin_0.1.gz already on disk\n",
      "Read data from 0140000_6.00_33_50_02_15.bin_0.1.gz\n",
      "Instantiation done\n",
      "0190000_6.00_33_50_02_15.bin_0.1.gz already on disk\n",
      "Read data from 0190000_6.00_33_50_02_15.bin_0.1.gz\n",
      "Instantiation done\n",
      "Temperature = 40000K, Flux = 4.00e+13 erg/s/cm2\n",
      "Temperature = 90000K, Flux = 1.05e+15 erg/s/cm2\n",
      "Temperature = 140000K, Flux = 6.93e+15 erg/s/cm2\n",
      "Temperature = 190000K, Flux = 2.35e+16 erg/s/cm2\n",
      "DONE\n",
      " "
     ]
    },
    {
     "name": "stdout",
     "output_type": "stream",
     "text": [
      "         969165 function calls (969048 primitive calls) in 0.345 seconds\n",
      "\n",
      "   Ordered by: internal time\n",
      "\n",
      "   ncalls  tottime  percall  cumtime  percall filename:lineno(function)\n",
      "    90/87    0.083    0.001    0.575    0.007 threading.py:1155(_wait_for_tstate_lock)\n",
      "    79896    0.041    0.000    0.082    0.000 _iotools.py:197(_delimited_splitter)\n",
      "    79896    0.038    0.000    0.130    0.000 _iotools.py:224(__call__)\n",
      "     92/1    0.035    0.000    0.000    0.000 {method 'acquire' of '_thread.lock' objects}\n",
      "   159714    0.030    0.000    0.030    0.000 {method 'split' of 'str' objects}\n",
      "   159608    0.022    0.000    0.022    0.000 _iotools.py:671(_loose_call)\n",
      "   160587    0.014    0.000    0.014    0.000 {built-in method builtins.len}\n",
      "    79920    0.011    0.000    0.011    0.000 {method 'strip' of 'str' objects}\n",
      "    79996    0.010    0.000    0.010    0.000 _iotools.py:11(_decode_line)\n",
      "        6    0.009    0.002    0.009    0.002 {built-in method numpy.array}\n",
      "    79837    0.008    0.000    0.008    0.000 {method 'append' of 'list' objects}\n",
      "        4    0.008    0.002    0.020    0.005 _npyio_impl.py:1747(genfromtxt)\n",
      "    80096    0.007    0.000    0.007    0.000 gzip.py:346(closed)\n",
      "      153    0.005    0.000    0.005    0.000 {method 'read' of '_io.BufferedReader' objects}\n",
      "      168    0.004    0.000    0.004    0.000 {method 'decompress' of 'zlib._ZlibDecompressor' objects}\n",
      "      104    0.002    0.000    0.002    0.000 threading.py:1535(enumerate)\n",
      "      172    0.001    0.000    0.011    0.000 gzip.py:502(read)\n",
      "        1    0.001    0.001    0.001    0.001 {built-in method builtins.compile}\n",
      "      208    0.001    0.000    0.003    0.000 ipkernel.py:775(_clean_thread_parent_frames)\n",
      "      172    0.001    0.000    0.012    0.000 _compression.py:66(readinto)\n",
      "        4    0.001    0.000    0.001    0.000 _quadrature.py:344(_basic_simpson)\n",
      "      172    0.001    0.000    0.017    0.000 {method 'read1' of '_io.BufferedReader' objects}\n",
      "      176    0.001    0.000    0.001    0.000 {built-in method zlib.crc32}\n",
      "        4    0.000    0.000    0.002    0.000 zmqstream.py:556(_run_callback)\n",
      "        2    0.000    0.000    0.002    0.001 ioloop.py:742(_run_callback)\n",
      "       34    0.000    0.000    0.001    0.000 iostream.py:655(write)\n",
      "      256    0.000    0.000    0.001    0.000 signal.py:69(pthread_sigmask)\n",
      "        9    0.000    0.000    0.000    0.000 attrsettr.py:66(_get_attr_opt)\n",
      "        6    0.000    0.000    0.000    0.000 {built-in method _io.open}\n",
      "      172    0.000    0.000    0.000    0.000 {built-in method _codecs.utf_8_decode}\n",
      "        1    0.000    0.000    0.000    0.000 function_base.py:25(linspace)\n",
      "       12    0.000    0.000    0.000    0.000 {method 'reduce' of 'numpy.ufunc' objects}\n",
      "      256    0.000    0.000    0.000    0.000 {built-in method _signal.pthread_sigmask}\n",
      "      172    0.000    0.000    0.017    0.000 gzip.py:326(read1)\n",
      "        9    0.000    0.000    0.000    0.000 {built-in method posix.stat}\n",
      "  128/125    0.000    0.000    0.002    0.000 scalene_profiler.py:169(wrapped)\n",
      "        4    0.000    0.000    0.000    0.000 _iotools.py:823(easy_dtype)\n",
      "       43    0.000    0.000    0.651    0.015 threading.py:1117(join)\n",
      "      936    0.000    0.000    0.000    0.000 threading.py:1198(ident)\n",
      "        5    0.000    0.000    0.004    0.001 base_events.py:1922(_run_once)\n",
      "       17    0.000    0.000    0.000    0.000 socket.py:626(send)\n",
      "       20    0.000    0.000    0.000    0.000 {method 'format' of 'str' objects}\n",
      "      172    0.000    0.000    0.000    0.000 <frozen codecs>:319(decode)\n",
      "        5    0.000    0.000    0.000    0.000 {built-in method posix.getcwd}\n",
      "      344    0.000    0.000    0.000    0.000 {method '__exit__' of 'memoryview' objects}\n",
      "        1    0.000    0.000    0.001    0.001 pathlib.py:1228(resolve)\n",
      "        1    0.000    0.000    0.343    0.343 test_1_prof.py:1(<module>)\n",
      "  719/709    0.000    0.000    0.000    0.000 {built-in method builtins.isinstance}\n",
      "        4    0.000    0.000    0.000    0.000 gzip.py:28(open)\n",
      "      130    0.000    0.000    0.000    0.000 signal.py:24(_int_to_enum)\n",
      "       12    0.000    0.000    0.000    0.000 numeric.py:64(zeros_like)\n",
      "      174    0.000    0.000    0.000    0.000 enum.py:720(__call__)\n",
      "      386    0.000    0.000    0.000    0.000 signal.py:72(<genexpr>)\n",
      "       47    0.000    0.000    0.000    0.000 threading.py:1222(is_alive)\n",
      "        4    0.000    0.000    0.000    0.000 _function_base_impl.py:1369(diff)\n",
      "       58    0.000    0.000    0.000    0.000 {built-in method builtins.max}\n",
      "      428    0.000    0.000    0.000    0.000 {method 'keys' of 'dict' objects}\n",
      "        8    0.000    0.000    0.003    0.000 gzip.py:446(_read_gzip_header)\n",
      "        4    0.000    0.000    0.000    0.000 test_1_prof.py:65(read_data)\n",
      "        5    0.000    0.000    0.000    0.000 {method 'control' of 'select.kqueue' objects}\n",
      "     12/4    0.000    0.000    0.000    0.000 _iotools.py:84(flatten_dtype)\n",
      "      174    0.000    0.000    0.000    0.000 enum.py:1123(__new__)\n",
      "        8    0.000    0.000    0.000    0.000 _iotools.py:311(validate)\n",
      "        1    0.000    0.000    0.000    0.000 {method 'disable' of '_lsprof.Profiler' objects}\n",
      "        4    0.000    0.000    0.000    0.000 socket.py:774(recv_multipart)\n",
      "       92    0.000    0.000    0.005    0.000 {built-in method builtins.next}\n",
      "        8    0.000    0.000    0.003    0.000 gzip.py:495(_read_gzip_header)\n",
      "       12    0.000    0.000    0.000    0.000 fromnumeric.py:69(_wrapreduction)\n",
      "       17    0.000    0.000    0.001    0.000 {built-in method builtins.print}\n",
      "      156    0.000    0.000    0.004    0.000 gzip.py:89(read)\n",
      "       12    0.000    0.000    0.000    0.000 _datasource.py:299(_isurl)\n",
      "       44    0.000    0.000    0.000    0.000 scalene_profiler.py:445(reset_thread_sleeping)\n",
      "      172    0.000    0.000    0.000    0.000 {method 'cast' of 'memoryview' objects}\n",
      "       16    0.000    0.000    0.000    0.000 parse.py:374(urlparse)\n",
      "       16    0.000    0.000    0.000    0.000 parse.py:845(__getattr__)\n",
      "        8    0.000    0.000    0.000    0.000 _iotools.py:284(__init__)\n",
      "      208    0.000    0.000    0.000    0.000 {method 'values' of 'dict' objects}\n",
      "        9    0.000    0.000    0.000    0.000 attrsettr.py:43(__getattr__)\n",
      "       10    0.000    0.000    0.000    0.000 <frozen posixpath>:71(join)\n",
      "       93    0.000    0.000    0.000    0.000 enum.py:1538(_get_value)\n",
      "      176    0.000    0.000    0.000    0.000 _compression.py:12(_check_not_closed)\n",
      "        2    0.000    0.000    0.000    0.000 iostream.py:710(_flush_buffers)\n",
      "        8    0.000    0.000    0.000    0.000 {method 'close' of '_io.BufferedReader' objects}\n",
      "        4    0.000    0.000    0.000    0.000 gzip.py:152(__init__)\n",
      "       44    0.000    0.000    0.000    0.000 threading.py:1485(current_thread)\n",
      "        3    0.000    0.000    0.000    0.000 events.py:36(__init__)\n",
      "        8    0.000    0.000    0.000    0.000 _iotools.py:598(__init__)\n",
      "        1    0.000    0.000    0.000    0.000 {built-in method builtins.__build_class__}\n",
      "        4    0.000    0.000    0.001    0.000 test_1_prof.py:14(__init__)\n",
      "        5    0.000    0.000    0.000    0.000 selectors.py:558(select)\n",
      "      139    0.000    0.000    0.000    0.000 {method '__exit__' of '_thread.RLock' objects}\n",
      "        4    0.000    0.000    0.000    0.000 _compression.py:39(__init__)\n",
      "       44    0.000    0.000    0.000    0.000 scalene_profiler.py:437(set_thread_sleeping)\n",
      "        4    0.000    0.000    0.001    0.000 _quadrature.py:381(simpson)\n",
      "       14    0.000    0.000    0.000    0.000 enum.py:1556(__and__)\n",
      "      132    0.000    0.000    0.000    0.000 {built-in method _thread.get_ident}\n",
      "       17    0.000    0.000    0.000    0.000 {built-in method builtins.getattr}\n",
      "        4    0.000    0.000    0.002    0.001 zmqstream.py:583(_handle_events)\n",
      "        8    0.000    0.000    0.000    0.000 _datasource.py:413(_sanitize_relative_path)\n",
      "        4    0.000    0.000    0.000    0.000 {method 'view' of 'numpy.ndarray' objects}\n",
      "       17    0.000    0.000    0.000    0.000 enum.py:1545(__or__)\n",
      "        4    0.000    0.000    0.000    0.000 encoder.py:205(iterencode)\n",
      "        8    0.000    0.000    0.000    0.000 {built-in method _struct.unpack}\n",
      "        2    0.000    0.000    0.000    0.000 {method '__exit__' of '_io._IOBase' objects}\n",
      "        1    0.000    0.000    0.000    0.000 pathlib.py:1005(open)\n",
      "       12    0.000    0.000    0.000    0.000 _datasource.py:129(keys)\n",
      "       12    0.000    0.000    0.000    0.000 typing.py:392(inner)\n",
      "       34    0.000    0.000    0.000    0.000 iostream.py:550(_is_master_process)\n",
      "        4    0.000    0.000    0.000    0.000 gzip.py:484(__init__)\n",
      "       16    0.000    0.000    0.000    0.000 <frozen genericpath>:133(_splitext)\n",
      "        4    0.000    0.000    0.001    0.000 _datasource.py:340(_findfile)\n",
      "        5    0.000    0.000    0.000    0.000 <frozen posixpath>:408(abspath)\n",
      "        4    0.000    0.000    0.000    0.000 _compression.py:59(close)\n",
      "        5    0.000    0.000    0.000    0.000 zmqstream.py:663(_rebuild_io_state)\n",
      "        4    0.000    0.000    0.001    0.000 _datasource.py:483(open)\n",
      "       16    0.000    0.000    0.000    0.000 <frozen posixpath>:117(splitext)\n",
      "        8    0.000    0.000    0.000    0.000 fromnumeric.py:3328(prod)\n",
      "        8    0.000    0.000    0.000    0.000 <frozen genericpath>:16(exists)\n",
      "        8    0.000    0.000    0.000    0.000 _iotools.py:584(_find_map_entry)\n",
      "        4    0.000    0.000    0.000    0.000 gzip.py:555(_read_eof)\n",
      "        1    0.000    0.000    0.000    0.000 {built-in method posix.lstat}\n",
      "        5    0.000    0.000    0.000    0.000 zmqstream.py:686(_update_handler)\n",
      "        3    0.000    0.000    0.000    0.000 pathlib.py:358(__init__)\n",
      "       12    0.000    0.000    0.000    0.000 _datasource.py:262(_iszip)\n",
      "       16    0.000    0.000    0.000    0.000 parse.py:119(_coerce_args)\n",
      "       34    0.000    0.000    0.000    0.000 iostream.py:505(parent_header)\n",
      "        2    0.000    0.000    0.000    0.000 {method 'isoformat' of 'datetime.datetime' objects}\n",
      "       12    0.000    0.000    0.000    0.000 {built-in method numpy.zeros}\n",
      "        2    0.000    0.000    0.000    0.000 pathlib.py:387(_parse_path)\n",
      "       22    0.000    0.000    0.000    0.000 {built-in method builtins.hasattr}\n",
      "        4    0.000    0.000    0.000    0.000 _npyio_impl.py:813(_ensure_ndmin_ndarray)\n",
      "        4    0.000    0.000    0.000    0.000 _internal.py:538(_view_is_safe)\n",
      "        4    0.000    0.000    0.001    0.000 test_1_prof.py:42(dlfile)\n",
      "       51    0.000    0.000    0.000    0.000 {method 'items' of 'dict' objects}\n",
      "        1    0.000    0.000    0.000    0.000 {built-in method numpy.arange}\n",
      "        5    0.000    0.000    0.004    0.001 events.py:86(_run)\n",
      "        3    0.000    0.000    0.000    0.000 pathlib.py:1164(__new__)\n",
      "       34    0.000    0.000    0.000    0.000 {method 'write' of '_io.StringIO' objects}\n",
      "        4    0.000    0.000    0.000    0.000 _datasource.py:371(abspath)\n",
      "        5    0.000    0.000    0.000    0.000 queue.py:97(empty)\n",
      "       23    0.000    0.000    0.000    0.000 {method 'join' of 'str' objects}\n",
      "       25    0.000    0.000    0.000    0.000 {method 'startswith' of 'str' objects}\n",
      "        9    0.000    0.000    0.000    0.000 {built-in method sys.intern}\n",
      "        4    0.000    0.000    0.000    0.000 {built-in method _abc._abc_instancecheck}\n",
      "       20    0.000    0.000    0.000    0.000 {built-in method __new__ of type object at 0x100a955b0}\n",
      "        1    0.000    0.000    0.000    0.000 <frozen posixpath>:432(_joinrealpath)\n",
      "        2    0.000    0.000    0.001    0.000 iostream.py:276(<lambda>)\n",
      "        4    0.000    0.000    0.002    0.000 zmqstream.py:624(_handle_recv)\n",
      "       22    0.000    0.000    0.000    0.000 {method 'replace' of 'str' objects}\n",
      "       10    0.000    0.000    0.000    0.000 <frozen importlib._bootstrap>:1390(_handle_fromlist)\n",
      "       13    0.000    0.000    0.000    0.000 {built-in method posix._path_normpath}\n",
      "        2    0.000    0.000    0.000    0.000 socket.py:703(send_multipart)\n",
      "        1    0.000    0.000    0.000    0.000 iostream.py:718(_rotate_buffers)\n",
      "       18    0.000    0.000    0.000    0.000 traitlets.py:676(__get__)\n",
      "       32    0.000    0.000    0.000    0.000 {method 'rfind' of 'str' objects}\n",
      "        1    0.000    0.000    0.000    0.000 asyncio.py:225(add_callback)\n",
      "        4    0.000    0.000    0.000    0.000 {method 'close' of '_io.TextIOWrapper' objects}\n",
      "       12    0.000    0.000    0.000    0.000 base_events.py:738(time)\n",
      "        4    0.000    0.000    0.002    0.000 _datasource.py:154(open)\n",
      "        3    0.000    0.000    0.000    0.000 pathlib.py:1157(__init__)\n",
      "        9    0.000    0.000    0.000    0.000 {method 'reshape' of 'numpy.ndarray' objects}\n",
      "       91    0.000    0.000    0.000    0.000 threading.py:601(is_set)\n",
      "       34    0.000    0.000    0.000    0.000 iostream.py:577(_schedule_flush)\n",
      "        2    0.000    0.000    0.000    0.000 traitlets.py:3631(set)\n",
      "        5    0.000    0.000    0.000    0.000 {built-in method builtins.issubclass}\n",
      "        8    0.000    0.000    0.000    0.000 typing.py:1285(__hash__)\n",
      "        4    0.000    0.000    0.000    0.000 pathlib.py:551(drive)\n",
      "        1    0.000    0.000    0.000    0.000 session.py:690(serialize)\n",
      "    74/73    0.000    0.000    0.000    0.000 {built-in method posix.fspath}\n",
      "        3    0.000    0.000    0.000    0.000 iostream.py:259(schedule)\n",
      "        6    0.000    0.000    0.000    0.000 pathlib.py:437(__str__)\n",
      "        9    0.000    0.000    0.000    0.000 {method 'popleft' of 'collections.deque' objects}\n",
      "       34    0.000    0.000    0.000    0.000 {method 'get' of '_contextvars.ContextVar' objects}\n",
      "        2    0.000    0.000    0.001    0.000 iostream.py:278(_really_send)\n",
      "        4    0.000    0.000    0.000    0.000 _iotools.py:168(__init__)\n",
      "        5    0.000    0.000    0.000    0.000 typing.py:1221(__instancecheck__)\n",
      "        4    0.000    0.000    0.000    0.000 __init__.py:183(dumps)\n",
      "        4    0.000    0.000    0.000    0.000 {function DecompressReader.close at 0x10b7b82c0}\n",
      "        5    0.000    0.000    0.004    0.001 {method 'run' of '_contextvars.Context' objects}\n",
      "        5    0.000    0.000    0.000    0.000 typing.py:1492(__subclasscheck__)\n",
      "        8    0.000    0.000    0.000    0.000 gzip.py:491(_init_read)\n",
      "        2    0.000    0.000    0.000    0.000 base_events.py:771(call_at)\n",
      "        5    0.000    0.000    0.000    0.000 {built-in method _abc._abc_subclasscheck}\n",
      "        2    0.000    0.000    0.000    0.000 {method '__exit__' of 'sqlite3.Connection' objects}\n",
      "        8    0.000    0.000    0.000    0.000 gzip.py:430(_read_exact)\n",
      "       39    0.000    0.000    0.000    0.000 {built-in method posix.getpid}\n",
      "       13    0.000    0.000    0.000    0.000 <frozen posixpath>:131(splitdrive)\n",
      "        8    0.000    0.000    0.000    0.000 _iotools.py:381(__call__)\n",
      "        4    0.000    0.000    0.000    0.000 iostream.py:157(_handle_event)\n",
      "       18    0.000    0.000    0.000    0.000 traitlets.py:629(get)\n",
      "        4    0.000    0.000    0.000    0.000 {built-in method builtins.iter}\n",
      "        1    0.000    0.000    0.000    0.000 session.py:600(msg_id)\n",
      "        4    0.000    0.000    0.001    0.000 test_1_prof.py:101(get_integ)\n",
      "        2    0.000    0.000    0.000    0.000 base_events.py:747(call_later)\n",
      "        2    0.000    0.000    0.000    0.000 asyncio.py:210(call_at)\n",
      "        3    0.000    0.000    0.000    0.000 traitlets.py:718(_validate)\n",
      "       36    0.000    0.000    0.000    0.000 {method 'lstrip' of 'str' objects}\n",
      "        1    0.000    0.000    0.000    0.000 {built-in method now}\n",
      "        4    0.000    0.000    0.000    0.000 <frozen codecs>:309(__init__)\n",
      "        6    0.000    0.000    0.000    0.000 <frozen posixpath>:60(isabs)\n",
      "        4    0.000    0.000    0.000    0.000 gzip.py:350(close)\n",
      "        1    0.000    0.000    0.000    0.000 traitlets.py:1527(_notify_observers)\n",
      "       22    0.000    0.000    0.000    0.000 {method 'get' of 'dict' objects}\n",
      "        3    0.000    0.000    0.000    0.000 traitlets.py:689(set)\n",
      "        4    0.000    0.000    0.000    0.000 test_1_prof.py:132(__setlogg)\n",
      "        2    0.000    0.000    0.000    0.000 pathlib.py:407(_load_parts)\n",
      "        3    0.000    0.000    0.000    0.000 traitlets.py:727(_cross_validate)\n",
      "        1    0.000    0.000    0.000    0.000 iostream.py:616(_flush)\n",
      "       16    0.000    0.000    0.000    0.000 <string>:1(<lambda>)\n",
      "       20    0.000    0.000    0.000    0.000 {method 'extend' of 'list' objects}\n",
      "        4    0.000    0.000    0.000    0.000 contextlib.py:359(__exit__)\n",
      "        5    0.000    0.000    0.000    0.000 selector_events.py:750(_process_events)\n",
      "        4    0.000    0.000    0.000    0.000 encoder.py:183(encode)\n",
      "        1    0.000    0.000    0.000    0.000 base_events.py:818(_call_soon)\n",
      "        2    0.000    0.000    0.000    0.000 events.py:111(__init__)\n",
      "        4    0.000    0.000    0.001    0.000 _datasource.py:245(__init__)\n",
      "        9    0.000    0.000    0.000    0.000 {method 'astype' of 'numpy.ndarray' objects}\n",
      "        1    0.000    0.000    0.000    0.000 {method 'copy' of '_hashlib.HMAC' objects}\n",
      "       20    0.000    0.000    0.000    0.000 _quadrature.py:245(tupleset)\n",
      "        3    0.000    0.000    0.000    0.000 pathlib.py:429(_format_parsed_parts)\n",
      "        4    0.000    0.000    0.000    0.000 fromnumeric.py:2338(sum)\n",
      "        2    0.000    0.000    0.000    0.000 ioloop.py:596(call_later)\n",
      "       13    0.000    0.000    0.000    0.000 {method 'endswith' of 'str' objects}\n",
      "       12    0.000    0.000    0.000    0.000 _npyio_impl.py:2424(<genexpr>)\n",
      "        1    0.000    0.000    0.000    0.000 hmac.py:161(hexdigest)\n",
      "        5    0.000    0.000    0.000    0.000 pathlib.py:447(__fspath__)\n",
      "        4    0.000    0.000    0.000    0.000 session.py:92(json_packer)\n",
      "        8    0.000    0.000    0.000    0.000 {built-in method numpy.asarray}\n",
      "        2    0.000    0.000    0.000    0.000 {built-in method _heapq.heappush}\n",
      "      1/0    0.000    0.000    0.000          {built-in method builtins.exec}\n",
      "       16    0.000    0.000    0.000    0.000 <frozen posixpath>:41(_get_sep)\n",
      "        8    0.000    0.000    0.000    0.000 _datasource.py:290(_possible_names)\n",
      "        1    0.000    0.000    0.000    0.000 session.py:649(msg)\n",
      "        4    0.000    0.000    0.000    0.000 fromnumeric.py:1621(squeeze)\n",
      "       12    0.000    0.000    0.000    0.000 multiarray.py:1098(copyto)\n",
      "        2    0.000    0.000    0.000    0.000 traitlets.py:3474(validate)\n",
      "        2    0.000    0.000    0.000    0.000 pathlib.py:380(with_segments)\n",
      "        4    0.000    0.000    0.000    0.000 {method 'update' of '_hashlib.HMAC' objects}\n",
      "       12    0.000    0.000    0.000    0.000 {built-in method time.monotonic}\n",
      "        1    0.000    0.000    0.000    0.000 {method 'hexdigest' of '_hashlib.HMAC' objects}\n",
      "        3    0.000    0.000    0.000    0.000 iostream.py:138(_event_pipe)\n",
      "        1    0.000    0.000    0.000    0.000 test_1_prof.py:7(Stel_Spectrum)\n",
      "        4    0.000    0.000    0.000    0.000 {method 'update' of 'dict' objects}\n",
      "        9    0.000    0.000    0.000    0.000 {method 'append' of 'collections.deque' objects}\n",
      "        8    0.000    0.000    0.000    0.000 {method 'add' of 'set' objects}\n",
      "        3    0.000    0.000    0.000    0.000 traitlets.py:708(__set__)\n",
      "        5    0.000    0.000    0.000    0.000 <frozen abc>:121(__subclasscheck__)\n",
      "        1    0.000    0.000    0.000    0.000 session.py:675(sign)\n",
      "        1    0.000    0.000    0.343    0.343 py3compat.py:51(execfile)\n",
      "        2    0.000    0.000    0.000    0.000 iostream.py:587(_schedule_in_thread)\n",
      "        2    0.000    0.000    0.000    0.000 jsonutil.py:107(json_default)\n",
      "        1    0.000    0.000    0.000    0.000 <frozen posixpath>:423(realpath)\n",
      "       53    0.000    0.000    0.000    0.000 typing.py:2187(cast)\n",
      "        1    0.000    0.000    0.000    0.000 syspathcontext.py:57(__enter__)\n",
      "        4    0.000    0.000    0.000    0.000 _datasource.py:427(exists)\n",
      "        4    0.000    0.000    0.000    0.000 ioloop.py:541(time)\n",
      "        1    0.000    0.000    0.000    0.000 base_events.py:789(call_soon)\n",
      "        2    0.000    0.000    0.000    0.000 traitlets.py:3624(validate_elements)\n",
      "        5    0.000    0.000    0.000    0.000 zmqstream.py:542(sending)\n",
      "        3    0.000    0.000    0.000    0.000 {built-in method _contextvars.copy_context}\n",
      "        3    0.000    0.000    0.002    0.001 asyncio.py:200(_handle_events)\n",
      "        9    0.000    0.000    0.000    0.000 {method 'upper' of 'str' objects}\n",
      "        1    0.000    0.000    0.000    0.000 pathlib.py:1398(expanduser)\n",
      "        4    0.000    0.000    0.000    0.000 <frozen abc>:117(__instancecheck__)\n",
      "       12    0.000    0.000    0.000    0.000 {method 'removeprefix' of 'str' objects}\n",
      "        5    0.000    0.000    0.000    0.000 {method 'encode' of 'str' objects}\n",
      "        1    0.000    0.000    0.000    0.000 fromnumeric.py:3523(ndim)\n",
      "        1    0.000    0.000    0.000    0.000 session.py:754(send)\n",
      "        1    0.000    0.000    0.000    0.000 traitlets.py:1523(notify_change)\n",
      "        1    0.000    0.000    0.000    0.000 {method 'result_type' of 'numpy._core._multiarray_umath._array_converter' objects}\n",
      "        1    0.000    0.000    0.000    0.000 session.py:281(extract_header)\n",
      "        1    0.000    0.000    0.000    0.000 traitlets.py:1512(_notify_trait)\n",
      "        2    0.000    0.000    0.000    0.000 <frozen posixpath>:138(splitroot)\n",
      "        4    0.000    0.000    0.000    0.000 _datasource.py:255(__del__)\n",
      "        1    0.000    0.000    0.000    0.000 pathlib.py:731(parent)\n",
      "       16    0.000    0.000    0.000    0.000 _datasource.py:102(_load)\n",
      "       12    0.000    0.000    0.000    0.000 test_1_prof.py:110(__getT)\n",
      "        5    0.000    0.000    0.000    0.000 {built-in method builtins.min}\n",
      "        8    0.000    0.000    0.000    0.000 _iotools.py:531(_dtypeortype)\n",
      "        1    0.000    0.000    0.000    0.000 traitlets.py:2635(validate)\n",
      "        4    0.000    0.000    0.000    0.000 {built-in method _io.text_encoding}\n",
      "        4    0.000    0.000    0.000    0.000 _datasource.py:148(__getitem__)\n",
      "        4    0.000    0.000    0.000    0.000 _datasource.py:276(_splitzipext)\n",
      "        4    0.000    0.000    0.000    0.000 {method 'squeeze' of 'numpy.ndarray' objects}\n",
      "        4    0.000    0.000    0.000    0.000 gzip.py:102(prepend)\n",
      "        1    0.000    0.000    0.000    0.000 hmac.py:122(copy)\n",
      "        4    0.000    0.000    0.000    0.000 gzip.py:83(__init__)\n",
      "        2    0.000    0.000    0.000    0.000 traitlets.py:2304(validate)\n",
      "        1    0.000    0.000    0.000    0.000 session.py:645(msg_header)\n",
      "        1    0.000    0.000    0.000    0.000 iostream.py:271(send_multipart)\n",
      "        1    0.000    0.000    0.000    0.000 {method 'getvalue' of '_io.StringIO' objects}\n",
      "        3    0.000    0.000    0.000    0.000 base_events.py:1907(_add_callback)\n",
      "        7    0.000    0.000    0.000    0.000 {method '__exit__' of '_thread.lock' objects}\n",
      "        1    0.000    0.000    0.000    0.000 {built-in method _asyncio.get_running_loop}\n",
      "        8    0.000    0.000    0.000    0.000 {built-in method builtins.hash}\n",
      "        1    0.000    0.000    0.000    0.000 session.py:198(utcnow)\n",
      "        5    0.000    0.000    0.000    0.000 queue.py:209(_qsize)\n",
      "        1    0.000    0.000    0.000    0.000 history.py:839(_writeout_output_cache)\n",
      "        4    0.000    0.000    0.000    0.000 {built-in method time.time}\n",
      "        1    0.000    0.000    0.000    0.000 {method 'as_arrays' of 'numpy._core._multiarray_umath._array_converter' objects}\n",
      "        1    0.000    0.000    0.000    0.000 {built-in method _heapq.heappop}\n",
      "        2    0.000    0.000    0.000    0.000 iostream.py:216(_check_mp_mode)\n",
      "        4    0.000    0.000    0.000    0.000 hmac.py:117(update)\n",
      "        4    0.000    0.000    0.000    0.000 gzip.py:370(flush)\n",
      "        1    0.000    0.000    0.000    0.000 {built-in method _thread.allocate_lock}\n",
      "        2    0.000    0.000    0.000    0.000 iostream.py:213(_is_master_process)\n",
      "        3    0.000    0.000    0.000    0.000 selectors.py:275(_key_from_fd)\n",
      "       16    0.000    0.000    0.000    0.000 parse.py:108(_noop)\n",
      "        8    0.000    0.000    0.000    0.000 test_1_prof.py:129(__getlogg)\n",
      "        1    0.000    0.000    0.000    0.000 pathlib.py:420(_from_parsed_parts)\n",
      "        4    0.000    0.000    0.000    0.000 {built-in method numpy.lib.array_utils.normalize_axis_index}\n",
      "        1    0.000    0.000    0.000    0.000 threading.py:299(__enter__)\n",
      "        1    0.000    0.000    0.000    0.000 session.py:272(msg_header)\n",
      "        1    0.000    0.000    0.000    0.000 {built-in method builtins.locals}\n",
      "        4    0.000    0.000    0.000    0.000 _npyio_impl.py:803(_ensure_ndmin_ndarray_check_param)\n",
      "        8    0.000    0.000    0.000    0.000 fromnumeric.py:3323(_prod_dispatcher)\n",
      "        1    0.000    0.000    0.000    0.000 threading.py:308(_release_save)\n",
      "        2    0.000    0.000    0.000    0.000 jsonutil.py:38(_ensure_tzinfo)\n",
      "        4    0.000    0.000    0.000    0.000 encoder.py:105(__init__)\n",
      "        9    0.000    0.000    0.000    0.000 zmqstream.py:538(receiving)\n",
      "        1    0.000    0.000    0.000    0.000 traitlets.py:2558(_validate_bounds)\n",
      "        4    0.000    0.000    0.000    0.000 _iotools.py:37(_is_string_like)\n",
      "       12    0.000    0.000    0.000    0.000 numeric.py:58(_zeros_like_dispatcher)\n",
      "        1    0.000    0.000    0.000    0.000 zmqstream.py:694(<lambda>)\n",
      "        2    0.000    0.000    0.000    0.000 traitlets.py:3486(validate_elements)\n",
      "       16    0.000    0.000    0.000    0.000 _iotools.py:300(<lambda>)\n",
      "        2    0.000    0.000    0.000    0.000 events.py:127(__lt__)\n",
      "        1    0.000    0.000    0.000    0.000 builtin_trap.py:39(__enter__)\n",
      "        1    0.000    0.000    0.000    0.000 {method 'wrap' of 'numpy._core._multiarray_umath._array_converter' objects}\n",
      "        1    0.000    0.000    0.000    0.000 numeric.py:1927(isscalar)\n",
      "       12    0.000    0.000    0.000    0.000 multiarray.py:107(empty_like)\n",
      "        2    0.000    0.000    0.000    0.000 tz.py:74(utcoffset)\n",
      "        1    0.000    0.000    0.000    0.000 {method 'close' of '_io.StringIO' objects}\n",
      "        1    0.000    0.000    0.000    0.000 pathlib.py:835(stat)\n",
      "        4    0.000    0.000    0.000    0.000 _compression.py:160(tell)\n",
      "        4    0.000    0.000    0.000    0.000 <frozen codecs>:260(__init__)\n",
      "        1    0.000    0.000    0.000    0.000 builtin_trap.py:46(__exit__)\n",
      "        4    0.000    0.000    0.000    0.000 gzip.py:399(seekable)\n",
      "        1    0.000    0.000    0.000    0.000 {built-in method _stat.S_ISLNK}\n",
      "        4    0.000    0.000    0.000    0.000 contextlib.py:355(__init__)\n",
      "        4    0.000    0.000    0.000    0.000 gzip.py:393(readable)\n",
      "        1    0.000    0.000    0.000    0.000 iostream.py:725(_hooks)\n",
      "        1    0.000    0.000    0.000    0.000 {method 'copy' of 'dict' objects}\n",
      "        4    0.000    0.000    0.000    0.000 contextlib.py:357(__enter__)\n",
      "        4    0.000    0.000    0.000    0.000 gzip.py:396(writable)\n",
      "        4    0.000    0.000    0.000    0.000 fromnumeric.py:1617(_squeeze_dispatcher)\n",
      "        2    0.000    0.000    0.000    0.000 iostream.py:255(closed)\n",
      "        4    0.000    0.000    0.000    0.000 _function_base_impl.py:1365(_diff_dispatcher)\n",
      "        1    0.000    0.000    0.000    0.000 threading.py:314(_is_owned)\n",
      "        3    0.000    0.000    0.000    0.000 base_events.py:543(_check_closed)\n",
      "        5    0.000    0.000    0.000    0.000 pathlib.py:569(_tail)\n",
      "        1    0.000    0.000    0.000    0.000 {method '__enter__' of '_thread.lock' objects}\n",
      "        4    0.000    0.000    0.000    0.000 {built-in method numpy.asanyarray}\n",
      "        4    0.000    0.000    0.000    0.000 _compression.py:36(readable)\n",
      "        4    0.000    0.000    0.000    0.000 pathlib.py:560(root)\n",
      "        1    0.000    0.000    0.000    0.000 {method 'partition' of 'str' objects}\n",
      "        3    0.000    0.000    0.000    0.000 base_events.py:2017(get_debug)\n",
      "        4    0.000    0.000    0.000    0.000 fromnumeric.py:2333(_sum_dispatcher)\n",
      "        1    0.000    0.000    0.000    0.000 {method 'release' of '_thread.lock' objects}\n",
      "        1    0.000    0.000    0.000    0.000 {built-in method _operator.index}\n",
      "        1    0.000    0.000    0.000    0.000 fromnumeric.py:3519(_ndim_dispatcher)\n",
      "        1    0.000    0.000    0.000    0.000 function_base.py:20(_linspace_dispatcher)\n",
      "        1    0.000    0.000    0.000    0.000 syspathcontext.py:64(__exit__)\n",
      "        1    0.000    0.000    0.000    0.000 syspathcontext.py:54(__init__)\n",
      "        1    0.000    0.000    0.000    0.000 hmac.py:139(_current)"
     ]
    }
   ],
   "source": [
    "%run -p test_1_prof.py"
   ]
  },
  {
   "cell_type": "markdown",
   "metadata": {},
   "source": [
    "## Have a look at Scalene https://github.com/plasma-umass/scalene"
   ]
  },
  {
   "cell_type": "code",
   "execution_count": 13,
   "metadata": {},
   "outputs": [],
   "source": [
    "try:\n",
    "    import scalene\n",
    "except:\n",
    "    !pip install scalene\n",
    "    import scalene"
   ]
  },
  {
   "cell_type": "code",
   "execution_count": 14,
   "metadata": {},
   "outputs": [
    {
     "name": "stdout",
     "output_type": "stream",
     "text": [
      "The scalene extension is already loaded. To reload it, use:\n",
      "  %reload_ext scalene\n"
     ]
    }
   ],
   "source": [
    "%load_ext scalene"
   ]
  },
  {
   "cell_type": "code",
   "execution_count": 16,
   "metadata": {},
   "outputs": [],
   "source": [
    "import numpy as np\n",
    "\n",
    "def test_me():\n",
    "    for i in range(6):\n",
    "        x = np.array(range(10**7))\n",
    "        y = np.array(np.random.uniform(0, 100, size=(10**8)))"
   ]
  },
  {
   "cell_type": "code",
   "execution_count": 17,
   "metadata": {},
   "outputs": [],
   "source": [
    "test_me()"
   ]
  },
  {
   "cell_type": "code",
   "execution_count": 18,
   "metadata": {},
   "outputs": [
    {
     "name": "stdout",
     "output_type": "stream",
     "text": [
      "Overwriting test_me.py\n"
     ]
    }
   ],
   "source": [
    "%%writefile test_me.py\n",
    "import numpy as np\n",
    "\n",
    "def test_me():\n",
    "    for i in range(6):\n",
    "        x = np.array(range(10**7))\n",
    "        y = np.array(np.random.uniform(0, 100, size=(10**8)))\n",
    "\n",
    "test_me()"
   ]
  },
  {
   "cell_type": "code",
   "execution_count": 19,
   "metadata": {},
   "outputs": [
    {
     "data": {
      "text/html": [
       "\n",
       "        <iframe\n",
       "            width=\"100%\"\n",
       "            height=\"400\"\n",
       "            src=\"http://localhost:8182\"\n",
       "            frameborder=\"0\"\n",
       "            allowfullscreen\n",
       "            \n",
       "        ></iframe>\n",
       "        "
      ],
      "text/plain": [
       "<IPython.lib.display.IFrame at 0x17319a0f0>"
      ]
     },
     "metadata": {},
     "output_type": "display_data"
    }
   ],
   "source": [
    "%scrun test_me()"
   ]
  },
  {
   "cell_type": "code",
   "execution_count": 20,
   "metadata": {},
   "outputs": [
    {
     "data": {
      "text/html": [
       "\n",
       "        <iframe\n",
       "            width=\"100%\"\n",
       "            height=\"400\"\n",
       "            src=\"http://localhost:8183\"\n",
       "            frameborder=\"0\"\n",
       "            allowfullscreen\n",
       "            \n",
       "        ></iframe>\n",
       "        "
      ],
      "text/plain": [
       "<IPython.lib.display.IFrame at 0x172f73680>"
      ]
     },
     "metadata": {},
     "output_type": "display_data"
    }
   ],
   "source": [
    "%scrun --reduced-profile test_me()"
   ]
  },
  {
   "cell_type": "code",
   "execution_count": 17,
   "metadata": {},
   "outputs": [
    {
     "name": "stdout",
     "output_type": "stream",
     "text": [
      "0100000_6.00_33_50_02_15.bin_0.1.gz already on disk\n",
      "Read data from 0100000_6.00_33_50_02_15.bin_0.1.gz\n",
      "Instantiation done\n"
     ]
    },
    {
     "data": {
      "text/html": [
       "\n",
       "        <iframe\n",
       "            width=\"100%\"\n",
       "            height=\"400\"\n",
       "            src=\"http://localhost:8187\"\n",
       "            frameborder=\"0\"\n",
       "            allowfullscreen\n",
       "            \n",
       "        ></iframe>\n",
       "        "
      ],
      "text/plain": [
       "<IPython.lib.display.IFrame at 0x18ad934a0>"
      ]
     },
     "metadata": {},
     "output_type": "display_data"
    }
   ],
   "source": [
    "%scrun spectra = Stel_Spectrum(T=100000, logg=6, verbose=True)"
   ]
  },
  {
   "cell_type": "code",
   "execution_count": 21,
   "metadata": {},
   "outputs": [
    {
     "name": "stdout",
     "output_type": "stream",
     "text": [
      "0100000_6.00_33_50_02_15.bin_0.1.gz already on disk\n",
      "Read data from 0100000_6.00_33_50_02_15.bin_0.1.gz\n",
      "Instantiation done\n",
      "1790757180815459.2\n",
      "DONE\n",
      "/Users/christophemorisset/Google Drive/Pro/Python-MySQL/Python-lectures-Notebooks/Lecture_Notebooks\n"
     ]
    },
    {
     "data": {
      "text/html": [
       "\n",
       "        <iframe\n",
       "            width=\"100%\"\n",
       "            height=\"400\"\n",
       "            src=\"http://localhost:8184\"\n",
       "            frameborder=\"0\"\n",
       "            allowfullscreen\n",
       "            \n",
       "        ></iframe>\n",
       "        "
      ],
      "text/plain": [
       "<IPython.lib.display.IFrame at 0x1731f0260>"
      ]
     },
     "metadata": {},
     "output_type": "display_data"
    }
   ],
   "source": [
    "%%scalene \n",
    "os.chdir('/Users/christophemorisset/Google Drive/Pro/Python-MySQL/Python-lectures-Notebooks/Lecture_Notebooks')\n",
    "spectra = Stel_Spectrum(T=100000, logg=6, verbose=True)\n",
    "I =  spectra.get_integ()\n",
    "print(I)\n",
    "print('DONE')\n",
    "print(os.getcwd())"
   ]
  },
  {
   "cell_type": "markdown",
   "metadata": {},
   "source": [
    "From terminal: scalene test_1_prof.py"
   ]
  },
  {
   "cell_type": "markdown",
   "metadata": {},
   "source": [
    "## Debugger"
   ]
  },
  {
   "cell_type": "markdown",
   "metadata": {},
   "source": [
    "## !!! Restart Kernel to be sure you are in the right directory (Scalene changes it...)"
   ]
  },
  {
   "cell_type": "code",
   "execution_count": 1,
   "metadata": {},
   "outputs": [],
   "source": [
    "import numpy as np\n",
    "import os\n",
    "from urllib.request import urlopen\n",
    "from scipy.integrate import simpson as simps"
   ]
  },
  {
   "cell_type": "code",
   "execution_count": 2,
   "metadata": {},
   "outputs": [
    {
     "data": {
      "text/plain": [
       "'/Users/christophemorisset/Google Drive/Pro/Python-MySQL/Python-lectures-Notebooks/Lecture_Notebooks'"
      ]
     },
     "execution_count": 2,
     "metadata": {},
     "output_type": "execute_result"
    }
   ],
   "source": [
    "pwd"
   ]
  },
  {
   "cell_type": "markdown",
   "metadata": {},
   "source": [
    "#### From the terminal"
   ]
  },
  {
   "cell_type": "markdown",
   "metadata": {},
   "source": [
    "#### Breakpoint"
   ]
  },
  {
   "cell_type": "code",
   "execution_count": 3,
   "metadata": {},
   "outputs": [
    {
     "name": "stdout",
     "output_type": "stream",
     "text": [
      "Overwriting test_3_err.py\n"
     ]
    }
   ],
   "source": [
    "%%writefile test_3_err.py\n",
    "a = 5\n",
    "b = 10\n",
    "print(a/c)\n",
    "print(a)"
   ]
  },
  {
   "cell_type": "code",
   "execution_count": 5,
   "metadata": {},
   "outputs": [
    {
     "ename": "NameError",
     "evalue": "name 'c' is not defined",
     "output_type": "error",
     "traceback": [
      "\u001b[0;31m---------------------------------------------------------------------------\u001b[0m",
      "\u001b[0;31mNameError\u001b[0m                                 Traceback (most recent call last)",
      "File \u001b[0;32m~/Google Drive/Pro/Python-MySQL/Python-lectures-Notebooks/Lecture_Notebooks/test_3_err.py:3\u001b[0m\n\u001b[1;32m      1\u001b[0m a \u001b[38;5;241m=\u001b[39m \u001b[38;5;241m5\u001b[39m\n\u001b[1;32m      2\u001b[0m b \u001b[38;5;241m=\u001b[39m \u001b[38;5;241m10\u001b[39m\n\u001b[0;32m----> 3\u001b[0m \u001b[38;5;28mprint\u001b[39m(a\u001b[38;5;241m/\u001b[39mb)\n\u001b[1;32m      4\u001b[0m \u001b[38;5;28mprint\u001b[39m(a)\n",
      "\u001b[0;31mNameError\u001b[0m: name 'c' is not defined"
     ]
    }
   ],
   "source": [
    "%run test_3_err"
   ]
  },
  {
   "cell_type": "code",
   "execution_count": 6,
   "metadata": {
    "collapsed": false,
    "jupyter": {
     "outputs_hidden": false
    }
   },
   "outputs": [
    {
     "name": "stdout",
     "output_type": "stream",
     "text": [
      "Overwriting test_5_pdb.py\n"
     ]
    }
   ],
   "source": [
    "%%writefile test_5_pdb.py\n",
    "import pdb # This is needed to use the debugger\n",
    "import numpy as np\n",
    "import os\n",
    "from urllib.request import urlopen\n",
    "from scipy.integrate import simpson as simps\n",
    "\n",
    "class Stel_Spectrum(object):\n",
    "    \"\"\"\n",
    "    This object downloads a file from http://astro.uni-tuebingen.de/~rauch/TMAF/NLTE/He+C+N+O/\n",
    "    and is able to make some plots.    \n",
    "    \"\"\"\n",
    "    \n",
    "    spec_count = 0 # This attibute is at the level of the class, not of the object.\n",
    "    def __init__(self, filename=None, T=None, logg=None, verbose=False):\n",
    "        \"\"\"\n",
    "        Initialisation of the Stel_Spectrum object.\n",
    "        Parameter:\n",
    "            - filename\n",
    "            - T: temperature in K, e.g. 150000\n",
    "            - logg: e.g. 7.5\n",
    "            - verbose: if True, some info are printed out\n",
    "        The wl variable is an array of wavelengths in Angstrom.\n",
    "        The fl variable is the flux in erg/s/cm2/A\n",
    "        The variables T and logg are properties: changing them will reload the data\n",
    "        \"\"\"\n",
    "        self.verbose = verbose\n",
    "        if filename is None:\n",
    "            if T is not None and logg is not None:\n",
    "                self.__T = T # We need to initialize the hidden values, as logg is still not defined\n",
    "                self.logg = logg\n",
    "                self.filename = '0{0:06.0f}_{1:.2f}_33_50_02_15.bin_0.1.gz'.format(self.T, self.logg)\n",
    "            else:\n",
    "                raise TypeError(\"T and logg must be given\")\n",
    "        else:\n",
    "            self.filename = filename\n",
    "            self.__T = float(filename.split('_')[0]) # We need to initialize the hidden values, as logg is still not defined\n",
    "            self.logg = float(filename.split('_')[1])\n",
    "        Stel_Spectrum.spec_count += 1\n",
    "        if self.verbose:\n",
    "            print('Instantiation done')\n",
    "            \n",
    "    def dlfile(self):\n",
    "        \"\"\"\n",
    "        Downloading file if not already here. Put it in the current directory\n",
    "        \"\"\"\n",
    "        if not os.path.exists(self.filename):\n",
    "            if self.verbose:\n",
    "                print('Downloading {}'.format(self.filename))\n",
    "            try:\n",
    "                stel_file = urlopen('http://astro.uni-tuebingen.de/~rauch/TMAF/NLTE/He+C+N+O/' + \n",
    "                                            self.filename)\n",
    "                output = open(self.filename,'wb')\n",
    "                output.write(stel_file.read())\n",
    "                output.close()\n",
    "                self.file_found=True\n",
    "            except:\n",
    "                if self.verbose:\n",
    "                    print('file {} not found'.format(self.filename))\n",
    "                self.file_found=False\n",
    "        else:\n",
    "            if self.verbose:\n",
    "                print('{} already on disk'.format(self.filename))\n",
    "            self.file_found=True\n",
    "                \n",
    "    def read_data(self):\n",
    "        \"\"\"\n",
    "        read the data from the file\n",
    "        \"\"\"\n",
    "        if self.file_found:\n",
    "            file2read = self.filename+'eee'\n",
    "            pdb.set_trace() # THIS IS A BREAKPOINT\n",
    "            data = np.genfromtxt(file2read, comments='*', names='wl, fl')\n",
    "            self.fl = data['fl']\n",
    "            self.wl = data['wl'] # in A\n",
    "            self.fl /= 1e8 # F LAMBDA  GIVEN IN ERG/CM**2/SEC/CM -> erg/s/cm2/A\n",
    "            if self.verbose:\n",
    "                print('Read data from {}'.format(self.filename))\n",
    "        else:\n",
    "            if self.verbose:\n",
    "                print('file not found {}'.format(self.filename))\n",
    "            self.wl = None\n",
    "            self.fl = None\n",
    "        \n",
    "    def plot_spr(self, ax=None, *args, **kwargs):\n",
    "        \"\"\"\n",
    "        Plot the spectrum.\n",
    "        Parameter:\n",
    "            - ax: an axis (optionnal). If Noe or absent, axis is created\n",
    "            - any extra parameter is passed to ax.plot\n",
    "        \"\"\"\n",
    "        if self.wl is None:\n",
    "            print('No data to plot')\n",
    "            return\n",
    "        if ax is None:\n",
    "            fig, ax = plt.subplots()\n",
    "        ax.plot(self.wl, self.fl,\n",
    "                label='T3={0:.0f}, logg={1}'.format(self.T/1e3, self.logg),\n",
    "                *args, **kwargs) # Here are the transmissions of extra parameters to plot\n",
    "        ax.set_yscale('log')\n",
    "        ax.set_ylim(1e6, 1e14)\n",
    "        ax.set_xlabel('Wavelength (A)')\n",
    "        \n",
    "    def get_integ(self):\n",
    "        \"\"\"\n",
    "        Return the integral of Flambda over lambda, in erg/s/cm2\n",
    "        \"\"\"\n",
    "        if self.wl is None:\n",
    "            print('No data')\n",
    "            return None\n",
    "        return simps(self.fl, self.wl) # perform the integral\n",
    "    \n",
    "    def __getT(self): \n",
    "        return self.__T\n",
    "    \n",
    "    def __setT(self, value): \n",
    "        if not isinstance(value, (int, float)): # check the type of the input\n",
    "            raise TypeError('T must be an integer or a float')\n",
    "        if float(value) not in np.linspace(40000, 190000, 16): # check the value of the input\n",
    "            raise ValueError('T value must be between 40000 and 190000K, by 10000K steps')\n",
    "        elif self.__T != value:\n",
    "            self.__T = value\n",
    "            self.filename = '0{0:06.0f}_{1:.2f}_33_50_02_15.bin_0.1.gz'.format(self.T, self.logg)\n",
    "            self.dlfile() # will download new data\n",
    "            self.read_data() # will update the data\n",
    "        \n",
    "    def __delT(self): \n",
    "        print('T is needed')\n",
    "        \n",
    "    T = property(__getT, __setT, __delT, \"Stellar effective temperature\")\n",
    "    \n",
    "    def __getlogg(self): \n",
    "        return self.__logg\n",
    "    \n",
    "    def __setlogg(self, value):\n",
    "        try:\n",
    "            self.__logg \n",
    "        except:\n",
    "            self.__logg = -1\n",
    "        if not isinstance(value, (int, float)):\n",
    "            raise TypeError('logg must be an integer or a float')\n",
    "        if float(value) not in (-1., 5., 6., 7. ,8., 9.):\n",
    "            raise ValueError('Error, logg must be 6, 7, 8, or 9')\n",
    "            self.__logg = None\n",
    "        elif self.__logg != value:\n",
    "            self.__logg = value\n",
    "            self.filename = '0{0:06.0f}_{1:.2f}_33_50_02_15.bin_0.1.gz'.format(self.T, self.logg)\n",
    "            self.dlfile() # will download new data\n",
    "            self.read_data() # will update the data\n",
    "        \n",
    "    def __dellogg(self): \n",
    "        print('logg is needed')\n",
    "        \n",
    "    logg = property(__getlogg, __setlogg, __dellogg, \"Stellar logg\")\n",
    "\n",
    "    def print_info(self):\n",
    "        \"\"\"\n",
    "        Print out the filename and the number of points\n",
    "        \"\"\"\n",
    "        print(self.__repr__())\n",
    "        \n",
    "    def __repr__(self):\n",
    "        \"\"\"\n",
    "        This is what is used when calling \"print <obj>\" or <obj> ENTER\n",
    "        \"\"\"\n",
    "        if self.wl is None:\n",
    "            return'Filename: {0}, No data'.format(self.filename)\n",
    "        else:\n",
    "            return'Filename: {0}, number of points: {1}'.format(self.filename, len(self.wl))\n",
    "    \n",
    "    def __del__(self):\n",
    "        Stel_Spectrum.spec_count -= 1\n",
    "\n",
    "sp = Stel_Spectrum(T=100000, logg=6)\n",
    "print('ending')\n",
    "print(sp.filename, sp.get_integ())"
   ]
  },
  {
   "cell_type": "markdown",
   "metadata": {},
   "source": [
    "The commands that can be used once inside the pdb debugger session are: \n",
    "* l(list)\tLists the code at the current position\n",
    "* u(p)\t    Walk up the call stack\n",
    "* d(own)\tWalk down the call stack\n",
    "* n(ext)\tExecute the next line (does not go down in new functions)\n",
    "* s(tep)\tExecute the next statement (goes down in new functions)\n",
    "* bt\t    Print the call stack\n",
    "* a\t        Print the local variables\n",
    "* !command\tExecute the given Python command (by opposition to pdb commands\n",
    "* break N   Set a breakpoint at line number N. If no N, list all the breakpoints\n",
    "* disable N Remove the breakpoin number N\n",
    "* c(ontinue) Run until the next breakpoint or the end of the program\n",
    "* return   Continues executing until the function is about to execute a return statement, and then it pauses. This gives you time to look at the return value before the function returns."
   ]
  },
  {
   "cell_type": "code",
   "execution_count": 7,
   "metadata": {
    "collapsed": false,
    "jupyter": {
     "outputs_hidden": false
    }
   },
   "outputs": [
    {
     "name": "stdout",
     "output_type": "stream",
     "text": [
      "> \u001b[0;32m/Users/christophemorisset/Google Drive/Pro/Python-MySQL/Python-lectures-Notebooks/Lecture_Notebooks/test_5_pdb.py\u001b[0m(72)\u001b[0;36mread_data\u001b[0;34m()\u001b[0m\n",
      "\u001b[0;32m     70 \u001b[0;31m            \u001b[0mfile2read\u001b[0m \u001b[0;34m=\u001b[0m \u001b[0mself\u001b[0m\u001b[0;34m.\u001b[0m\u001b[0mfilename\u001b[0m\u001b[0;34m+\u001b[0m\u001b[0;34m'eee'\u001b[0m\u001b[0;34m\u001b[0m\u001b[0;34m\u001b[0m\u001b[0m\n",
      "\u001b[0m\u001b[0;32m     71 \u001b[0;31m            \u001b[0mpdb\u001b[0m\u001b[0;34m.\u001b[0m\u001b[0mset_trace\u001b[0m\u001b[0;34m(\u001b[0m\u001b[0;34m)\u001b[0m \u001b[0;31m# THIS IS A BREAKPOINT\u001b[0m\u001b[0;34m\u001b[0m\u001b[0;34m\u001b[0m\u001b[0m\n",
      "\u001b[0m\u001b[0;32m---> 72 \u001b[0;31m            \u001b[0mdata\u001b[0m \u001b[0;34m=\u001b[0m \u001b[0mnp\u001b[0m\u001b[0;34m.\u001b[0m\u001b[0mgenfromtxt\u001b[0m\u001b[0;34m(\u001b[0m\u001b[0mfile2read\u001b[0m\u001b[0;34m,\u001b[0m \u001b[0mcomments\u001b[0m\u001b[0;34m=\u001b[0m\u001b[0;34m'*'\u001b[0m\u001b[0;34m,\u001b[0m \u001b[0mnames\u001b[0m\u001b[0;34m=\u001b[0m\u001b[0;34m'wl, fl'\u001b[0m\u001b[0;34m)\u001b[0m\u001b[0;34m\u001b[0m\u001b[0;34m\u001b[0m\u001b[0m\n",
      "\u001b[0m\u001b[0;32m     73 \u001b[0;31m            \u001b[0mself\u001b[0m\u001b[0;34m.\u001b[0m\u001b[0mfl\u001b[0m \u001b[0;34m=\u001b[0m \u001b[0mdata\u001b[0m\u001b[0;34m[\u001b[0m\u001b[0;34m'fl'\u001b[0m\u001b[0;34m]\u001b[0m\u001b[0;34m\u001b[0m\u001b[0;34m\u001b[0m\u001b[0m\n",
      "\u001b[0m\u001b[0;32m     74 \u001b[0;31m            \u001b[0mself\u001b[0m\u001b[0;34m.\u001b[0m\u001b[0mwl\u001b[0m \u001b[0;34m=\u001b[0m \u001b[0mdata\u001b[0m\u001b[0;34m[\u001b[0m\u001b[0;34m'wl'\u001b[0m\u001b[0;34m]\u001b[0m \u001b[0;31m# in A\u001b[0m\u001b[0;34m\u001b[0m\u001b[0;34m\u001b[0m\u001b[0m\n",
      "\u001b[0m\n"
     ]
    },
    {
     "ename": "BdbQuit",
     "evalue": "",
     "output_type": "error",
     "traceback": [
      "\u001b[0;31m---------------------------------------------------------------------------\u001b[0m",
      "\u001b[0;31mBdbQuit\u001b[0m                                   Traceback (most recent call last)",
      "File \u001b[0;32m~/Google Drive/Pro/Python-MySQL/Python-lectures-Notebooks/Lecture_Notebooks/test_5_pdb.py:173\u001b[0m\n\u001b[1;32m    170\u001b[0m     \u001b[38;5;28;01mdef\u001b[39;00m \u001b[38;5;21m__del__\u001b[39m(\u001b[38;5;28mself\u001b[39m):\n\u001b[1;32m    171\u001b[0m         Stel_Spectrum\u001b[38;5;241m.\u001b[39mspec_count \u001b[38;5;241m-\u001b[39m\u001b[38;5;241m=\u001b[39m \u001b[38;5;241m1\u001b[39m\n\u001b[0;32m--> 173\u001b[0m sp \u001b[38;5;241m=\u001b[39m Stel_Spectrum(T\u001b[38;5;241m=\u001b[39m\u001b[38;5;241m100000\u001b[39m, logg\u001b[38;5;241m=\u001b[39m\u001b[38;5;241m6\u001b[39m)\n\u001b[1;32m    174\u001b[0m \u001b[38;5;28mprint\u001b[39m(\u001b[38;5;124m'\u001b[39m\u001b[38;5;124mending\u001b[39m\u001b[38;5;124m'\u001b[39m)\n\u001b[1;32m    175\u001b[0m \u001b[38;5;28mprint\u001b[39m(sp\u001b[38;5;241m.\u001b[39mfilename, sp\u001b[38;5;241m.\u001b[39mget_integ())\n",
      "File \u001b[0;32m~/Google Drive/Pro/Python-MySQL/Python-lectures-Notebooks/Lecture_Notebooks/test_5_pdb.py:30\u001b[0m, in \u001b[0;36mStel_Spectrum.__init__\u001b[0;34m(self, filename, T, logg, verbose)\u001b[0m\n\u001b[1;32m     28\u001b[0m \u001b[38;5;28;01mif\u001b[39;00m T \u001b[38;5;129;01mis\u001b[39;00m \u001b[38;5;129;01mnot\u001b[39;00m \u001b[38;5;28;01mNone\u001b[39;00m \u001b[38;5;129;01mand\u001b[39;00m logg \u001b[38;5;129;01mis\u001b[39;00m \u001b[38;5;129;01mnot\u001b[39;00m \u001b[38;5;28;01mNone\u001b[39;00m:\n\u001b[1;32m     29\u001b[0m     \u001b[38;5;28mself\u001b[39m\u001b[38;5;241m.\u001b[39m__T \u001b[38;5;241m=\u001b[39m T \u001b[38;5;66;03m# We need to initialize the hidden values, as logg is still not defined\u001b[39;00m\n\u001b[0;32m---> 30\u001b[0m     \u001b[38;5;28mself\u001b[39m\u001b[38;5;241m.\u001b[39mlogg \u001b[38;5;241m=\u001b[39m logg\n\u001b[1;32m     31\u001b[0m     \u001b[38;5;28mself\u001b[39m\u001b[38;5;241m.\u001b[39mfilename \u001b[38;5;241m=\u001b[39m \u001b[38;5;124m'\u001b[39m\u001b[38;5;124m0\u001b[39m\u001b[38;5;132;01m{0:06.0f}\u001b[39;00m\u001b[38;5;124m_\u001b[39m\u001b[38;5;132;01m{1:.2f}\u001b[39;00m\u001b[38;5;124m_33_50_02_15.bin_0.1.gz\u001b[39m\u001b[38;5;124m'\u001b[39m\u001b[38;5;241m.\u001b[39mformat(\u001b[38;5;28mself\u001b[39m\u001b[38;5;241m.\u001b[39mT, \u001b[38;5;28mself\u001b[39m\u001b[38;5;241m.\u001b[39mlogg)\n\u001b[1;32m     32\u001b[0m \u001b[38;5;28;01melse\u001b[39;00m:\n",
      "File \u001b[0;32m~/Google Drive/Pro/Python-MySQL/Python-lectures-Notebooks/Lecture_Notebooks/test_5_pdb.py:148\u001b[0m, in \u001b[0;36mStel_Spectrum.__setlogg\u001b[0;34m(self, value)\u001b[0m\n\u001b[1;32m    146\u001b[0m \u001b[38;5;28mself\u001b[39m\u001b[38;5;241m.\u001b[39mfilename \u001b[38;5;241m=\u001b[39m \u001b[38;5;124m'\u001b[39m\u001b[38;5;124m0\u001b[39m\u001b[38;5;132;01m{0:06.0f}\u001b[39;00m\u001b[38;5;124m_\u001b[39m\u001b[38;5;132;01m{1:.2f}\u001b[39;00m\u001b[38;5;124m_33_50_02_15.bin_0.1.gz\u001b[39m\u001b[38;5;124m'\u001b[39m\u001b[38;5;241m.\u001b[39mformat(\u001b[38;5;28mself\u001b[39m\u001b[38;5;241m.\u001b[39mT, \u001b[38;5;28mself\u001b[39m\u001b[38;5;241m.\u001b[39mlogg)\n\u001b[1;32m    147\u001b[0m \u001b[38;5;28mself\u001b[39m\u001b[38;5;241m.\u001b[39mdlfile() \u001b[38;5;66;03m# will download new data\u001b[39;00m\n\u001b[0;32m--> 148\u001b[0m \u001b[38;5;28mself\u001b[39m\u001b[38;5;241m.\u001b[39mread_data()\n",
      "File \u001b[0;32m~/Google Drive/Pro/Python-MySQL/Python-lectures-Notebooks/Lecture_Notebooks/test_5_pdb.py:72\u001b[0m, in \u001b[0;36mStel_Spectrum.read_data\u001b[0;34m(self)\u001b[0m\n\u001b[1;32m     70\u001b[0m file2read \u001b[38;5;241m=\u001b[39m \u001b[38;5;28mself\u001b[39m\u001b[38;5;241m.\u001b[39mfilename\u001b[38;5;241m+\u001b[39m\u001b[38;5;124m'\u001b[39m\u001b[38;5;124meee\u001b[39m\u001b[38;5;124m'\u001b[39m\n\u001b[1;32m     71\u001b[0m pdb\u001b[38;5;241m.\u001b[39mset_trace() \u001b[38;5;66;03m# THIS IS A BREAKPOINT\u001b[39;00m\n\u001b[0;32m---> 72\u001b[0m data \u001b[38;5;241m=\u001b[39m np\u001b[38;5;241m.\u001b[39mgenfromtxt(file2read, comments\u001b[38;5;241m=\u001b[39m\u001b[38;5;124m'\u001b[39m\u001b[38;5;124m*\u001b[39m\u001b[38;5;124m'\u001b[39m, names\u001b[38;5;241m=\u001b[39m\u001b[38;5;124m'\u001b[39m\u001b[38;5;124mwl, fl\u001b[39m\u001b[38;5;124m'\u001b[39m)\n\u001b[1;32m     73\u001b[0m \u001b[38;5;28mself\u001b[39m\u001b[38;5;241m.\u001b[39mfl \u001b[38;5;241m=\u001b[39m data[\u001b[38;5;124m'\u001b[39m\u001b[38;5;124mfl\u001b[39m\u001b[38;5;124m'\u001b[39m]\n\u001b[1;32m     74\u001b[0m \u001b[38;5;28mself\u001b[39m\u001b[38;5;241m.\u001b[39mwl \u001b[38;5;241m=\u001b[39m data[\u001b[38;5;124m'\u001b[39m\u001b[38;5;124mwl\u001b[39m\u001b[38;5;124m'\u001b[39m] \u001b[38;5;66;03m# in A\u001b[39;00m\n",
      "File \u001b[0;32m~/anaconda3/envs/Python_Lecture/lib/python3.12/bdb.py:100\u001b[0m, in \u001b[0;36mBdb.trace_dispatch\u001b[0;34m(self, frame, event, arg)\u001b[0m\n\u001b[1;32m     98\u001b[0m     \u001b[38;5;28;01mreturn\u001b[39;00m \u001b[38;5;66;03m# None\u001b[39;00m\n\u001b[1;32m     99\u001b[0m \u001b[38;5;28;01mif\u001b[39;00m event \u001b[38;5;241m==\u001b[39m \u001b[38;5;124m'\u001b[39m\u001b[38;5;124mline\u001b[39m\u001b[38;5;124m'\u001b[39m:\n\u001b[0;32m--> 100\u001b[0m     \u001b[38;5;28;01mreturn\u001b[39;00m \u001b[38;5;28mself\u001b[39m\u001b[38;5;241m.\u001b[39mdispatch_line(frame)\n\u001b[1;32m    101\u001b[0m \u001b[38;5;28;01mif\u001b[39;00m event \u001b[38;5;241m==\u001b[39m \u001b[38;5;124m'\u001b[39m\u001b[38;5;124mcall\u001b[39m\u001b[38;5;124m'\u001b[39m:\n\u001b[1;32m    102\u001b[0m     \u001b[38;5;28;01mreturn\u001b[39;00m \u001b[38;5;28mself\u001b[39m\u001b[38;5;241m.\u001b[39mdispatch_call(frame, arg)\n",
      "File \u001b[0;32m~/anaconda3/envs/Python_Lecture/lib/python3.12/bdb.py:125\u001b[0m, in \u001b[0;36mBdb.dispatch_line\u001b[0;34m(self, frame)\u001b[0m\n\u001b[1;32m    123\u001b[0m \u001b[38;5;28;01mif\u001b[39;00m \u001b[38;5;28mself\u001b[39m\u001b[38;5;241m.\u001b[39mstop_here(frame) \u001b[38;5;129;01mor\u001b[39;00m \u001b[38;5;28mself\u001b[39m\u001b[38;5;241m.\u001b[39mbreak_here(frame):\n\u001b[1;32m    124\u001b[0m     \u001b[38;5;28mself\u001b[39m\u001b[38;5;241m.\u001b[39muser_line(frame)\n\u001b[0;32m--> 125\u001b[0m     \u001b[38;5;28;01mif\u001b[39;00m \u001b[38;5;28mself\u001b[39m\u001b[38;5;241m.\u001b[39mquitting: \u001b[38;5;28;01mraise\u001b[39;00m BdbQuit\n\u001b[1;32m    126\u001b[0m \u001b[38;5;28;01mreturn\u001b[39;00m \u001b[38;5;28mself\u001b[39m\u001b[38;5;241m.\u001b[39mtrace_dispatch\n",
      "\u001b[0;31mBdbQuit\u001b[0m: "
     ]
    }
   ],
   "source": [
    "%run test_5_pdb.py"
   ]
  },
  {
   "cell_type": "code",
   "execution_count": 9,
   "metadata": {},
   "outputs": [
    {
     "name": "stdout",
     "output_type": "stream",
     "text": [
      "Overwriting test_2_err.py\n"
     ]
    }
   ],
   "source": [
    "%%writefile test_2_err.py\n",
    "import numpy as np\n",
    "import os\n",
    "from urllib.request import urlopen\n",
    "from scipy.integrate import simpson as simps\n",
    "\n",
    "class Stel_Spectrum(object):\n",
    "    \"\"\"\n",
    "    This object downloads a file from http://astro.uni-tuebingen.de/~rauch/TMAF/NLTE/He+C+N+O/\n",
    "    and is able to make some plots.    \n",
    "    \"\"\"\n",
    "    \n",
    "    spec_count = 0 # This attibute is at the level of the class, not of the object.\n",
    "    def __init__(self, filename=None, T=None, logg=None, verbose=False):\n",
    "        \"\"\"\n",
    "        Initialisation of the Stel_Spectrum object.\n",
    "        Parameter:\n",
    "            - filename\n",
    "            - T: temperature in K, e.g. 150000\n",
    "            - logg: e.g. 7.5\n",
    "            - verbose: if True, some info are printed out\n",
    "        The wl variable is an array of wavelengths in Angstrom.\n",
    "        The fl variable is the flux in erg/s/cm2/A\n",
    "        The variables T and logg are properties: changing them will reload the data\n",
    "        \"\"\"\n",
    "        self.verbose = verbose\n",
    "        if filename is None:\n",
    "            if T is not None and logg is not None:\n",
    "                self.__T = T # We need to initialize the hidden values, as logg is still not defined\n",
    "                self.logg = logg\n",
    "                self.filename = '0{0:06.0f}_{1:.2f}_33_50_02_15.bin_0.1.gz'.format(self.T, self.logg)\n",
    "            else:\n",
    "                raise TypeError(\"T and logg must be given\")\n",
    "        else:\n",
    "            self.filename = filename\n",
    "            self.__T = float(filename.split('_')[0]) # We need to initialize the hidden values, as logg is still not defined\n",
    "            self.logg = float(filename.split('_')[1])\n",
    "        Stel_Spectrum.spec_count += 1\n",
    "        if self.verbose:\n",
    "            print('Instantiation done')\n",
    "            \n",
    "    def dlfile(self):\n",
    "        \"\"\"\n",
    "        Downloading file if not already here. Put it in the current directory\n",
    "        \"\"\"\n",
    "        if not os.path.exists(self.filename):\n",
    "            if self.verbose:\n",
    "                print('Downloading {}'.format(self.filename))\n",
    "            try:\n",
    "                stel_file = urlopen('http://astro.uni-tuebingen.de/~rauch/TMAF/NLTE/He+C+N+O/' + \n",
    "                                            self.filename)\n",
    "                output = open(self.filename,'wb')\n",
    "                output.write(stel_file.read())\n",
    "                output.close()\n",
    "                self.file_found=True\n",
    "            except:\n",
    "                if self.verbose:\n",
    "                    print('file {} not found'.format(self.filename))\n",
    "                self.file_found=False\n",
    "        else:\n",
    "            if self.verbose:\n",
    "                print('{} already on disk'.format(self.filename))\n",
    "            self.file_found=True\n",
    "                \n",
    "    def read_data(self):\n",
    "        \"\"\"\n",
    "        read the data from the file\n",
    "        \"\"\"\n",
    "        if self.file_found:\n",
    "            file2read = self.filename+'eee'\n",
    "            data = np.genfromtxt(file2read, comments='*', names='wl, fl')\n",
    "            self.fl = data['fl']\n",
    "            self.wl = data['wl'] # in A\n",
    "            self.fl /= 1e8 # F LAMBDA  GIVEN IN ERG/CM**2/SEC/CM -> erg/s/cm2/A\n",
    "            if self.verbose:\n",
    "                print('Read data from {}'.format(self.filename))\n",
    "        else:\n",
    "            if self.verbose:\n",
    "                print('file not found {}'.format(self.filename))\n",
    "            self.wl = None\n",
    "            self.fl = None\n",
    "        \n",
    "    def plot_spr(self, ax=None, *args, **kwargs):\n",
    "        \"\"\"\n",
    "        Plot the spectrum.\n",
    "        Parameter:\n",
    "            - ax: an axis (optionnal). If Noe or absent, axis is created\n",
    "            - any extra parameter is passed to ax.plot\n",
    "        \"\"\"\n",
    "        if self.wl is None:\n",
    "            print('No data to plot')\n",
    "            return\n",
    "        if ax is None:\n",
    "            fig, ax = plt.subplots()\n",
    "        ax.plot(self.wl, self.fl,\n",
    "                label='T3={0:.0f}, logg={1}'.format(self.T/1e3, self.logg),\n",
    "                *args, **kwargs) # Here are the transmissions of extra parameters to plot\n",
    "        ax.set_yscale('log')\n",
    "        ax.set_ylim(1e6, 1e14)\n",
    "        ax.set_xlabel('Wavelength (A)')\n",
    "        \n",
    "    def get_integ(self):\n",
    "        \"\"\"\n",
    "        Return the integral of Flambda over lambda, in erg/s/cm2\n",
    "        \"\"\"\n",
    "        if self.wl is None:\n",
    "            print('No data')\n",
    "            return None\n",
    "        return simps(self.fl, self.wl) # perform the integral\n",
    "    \n",
    "    def __getT(self): \n",
    "        return self.__T\n",
    "    \n",
    "    def __setT(self, value): \n",
    "        if not isinstance(value, (int, float)): # check the type of the input\n",
    "            raise TypeError('T must be an integer or a float')\n",
    "        if float(value) not in np.linspace(40000, 190000, 16): # check the value of the input\n",
    "            raise ValueError('T value must be between 40000 and 190000K, by 10000K steps')\n",
    "        elif self.__T != value:\n",
    "            self.__T = value\n",
    "            self.filename = '0{0:06.0f}_{1:.2f}_33_50_02_15.bin_0.1.gz'.format(self.T, self.logg)\n",
    "            self.dlfile() # will download new data\n",
    "            self.read_data() # will update the data\n",
    "        \n",
    "    def __delT(self): \n",
    "        print('T is needed')\n",
    "        \n",
    "    T = property(__getT, __setT, __delT, \"Stellar effective temperature\")\n",
    "    \n",
    "    def __getlogg(self): \n",
    "        return self.__logg\n",
    "    \n",
    "    def __setlogg(self, value):\n",
    "        try:\n",
    "            self.__logg \n",
    "        except:\n",
    "            self.__logg = -1\n",
    "        if not isinstance(value, (int, float)):\n",
    "            raise TypeError('logg must be an integer or a float')\n",
    "        if float(value) not in (-1., 5., 6., 7. ,8., 9.):\n",
    "            raise ValueError('Error, logg must be 6, 7, 8, or 9')\n",
    "            self.__logg = None\n",
    "        elif self.__logg != value:\n",
    "            self.__logg = value\n",
    "            self.filename = '0{0:06.0f}_{1:.2f}_33_50_02_15.bin_0.1.gz'.format(self.T, self.logg)\n",
    "            self.dlfile() # will download new data\n",
    "            self.read_data() # will update the data\n",
    "        \n",
    "    def __dellogg(self): \n",
    "        print('logg is needed')\n",
    "        \n",
    "    logg = property(__getlogg, __setlogg, __dellogg, \"Stellar logg\")\n",
    "\n",
    "    def print_info(self):\n",
    "        \"\"\"\n",
    "        Print out the filename and the number of points\n",
    "        \"\"\"\n",
    "        print(self.__repr__())\n",
    "        \n",
    "    def __repr__(self):\n",
    "        \"\"\"\n",
    "        This is what is used when calling \"print <obj>\" or <obj> ENTER\n",
    "        \"\"\"\n",
    "        if self.wl is None:\n",
    "            return'Filename: {0}, No data'.format(self.filename)\n",
    "        else:\n",
    "            return'Filename: {0}, number of points: {1}'.format(self.filename, len(self.wl))\n",
    "    \n",
    "    def __del__(self):\n",
    "        Stel_Spectrum.spec_count -= 1\n",
    "if __name__ == \"__main__\":\n",
    "    sp = Stel_Spectrum(T=100000, logg=6, verbose=True)\n",
    "    print('ending')\n",
    "    print(sp.filename, sp.get_integ())"
   ]
  },
  {
   "cell_type": "code",
   "execution_count": null,
   "metadata": {
    "collapsed": false,
    "jupyter": {
     "outputs_hidden": false
    }
   },
   "outputs": [
    {
     "name": "stdout",
     "output_type": "stream",
     "text": [
      "0100000_6.00_33_50_02_15.bin_0.1.gz already on disk\n",
      "Read data from 0100000_6.00_33_50_02_15.bin_0.1.gz\n",
      "Instantiation done\n",
      "ending\n",
      "0100000_6.00_33_50_02_15.bin_0.1.gz 1790757180815459.2\n"
     ]
    }
   ],
   "source": [
    "%run test_2_err.py "
   ]
  },
  {
   "cell_type": "markdown",
   "metadata": {},
   "source": [
    "Run it from spyder or vscode debugger mode..."
   ]
  },
  {
   "cell_type": "code",
   "execution_count": 8,
   "metadata": {},
   "outputs": [
    {
     "name": "stdout",
     "output_type": "stream",
     "text": [
      "0100000_6.00_33_50_02_15.bin_0.1.gz already on disk\n"
     ]
    },
    {
     "ename": "FileNotFoundError",
     "evalue": "0100000_6.00_33_50_02_15.bin_0.1.gzeee not found.",
     "output_type": "error",
     "traceback": [
      "\u001b[0;31m---------------------------------------------------------------------------\u001b[0m",
      "\u001b[0;31mFileNotFoundError\u001b[0m                         Traceback (most recent call last)",
      "Cell \u001b[0;32mIn[8], line 2\u001b[0m\n\u001b[1;32m      1\u001b[0m \u001b[38;5;28;01mfrom\u001b[39;00m \u001b[38;5;21;01mtest_2_err\u001b[39;00m \u001b[38;5;28;01mimport\u001b[39;00m Stel_Spectrum\n\u001b[0;32m----> 2\u001b[0m sp \u001b[38;5;241m=\u001b[39m Stel_Spectrum(T\u001b[38;5;241m=\u001b[39m\u001b[38;5;241m100000\u001b[39m, logg\u001b[38;5;241m=\u001b[39m\u001b[38;5;241m6\u001b[39m, verbose\u001b[38;5;241m=\u001b[39m\u001b[38;5;28;01mTrue\u001b[39;00m)\n\u001b[1;32m      3\u001b[0m \u001b[38;5;28mprint\u001b[39m(\u001b[38;5;124mf\u001b[39m\u001b[38;5;124m'\u001b[39m\u001b[38;5;124mDONE \u001b[39m\u001b[38;5;132;01m{\u001b[39;00msp\u001b[38;5;241m.\u001b[39mlogg\u001b[38;5;132;01m}\u001b[39;00m\u001b[38;5;124m'\u001b[39m)\n",
      "File \u001b[0;32m~/Google Drive/Pro/Python-MySQL/Python-lectures-Notebooks/Lecture_Notebooks/test_2_err.py:29\u001b[0m, in \u001b[0;36mStel_Spectrum.__init__\u001b[0;34m(self, filename, T, logg, verbose)\u001b[0m\n\u001b[1;32m     27\u001b[0m \u001b[38;5;28;01mif\u001b[39;00m T \u001b[38;5;129;01mis\u001b[39;00m \u001b[38;5;129;01mnot\u001b[39;00m \u001b[38;5;28;01mNone\u001b[39;00m \u001b[38;5;129;01mand\u001b[39;00m logg \u001b[38;5;129;01mis\u001b[39;00m \u001b[38;5;129;01mnot\u001b[39;00m \u001b[38;5;28;01mNone\u001b[39;00m:\n\u001b[1;32m     28\u001b[0m     \u001b[38;5;28mself\u001b[39m\u001b[38;5;241m.\u001b[39m__T \u001b[38;5;241m=\u001b[39m T \u001b[38;5;66;03m# We need to initialize the hidden values, as logg is still not defined\u001b[39;00m\n\u001b[0;32m---> 29\u001b[0m     \u001b[38;5;28mself\u001b[39m\u001b[38;5;241m.\u001b[39mlogg \u001b[38;5;241m=\u001b[39m logg\n\u001b[1;32m     30\u001b[0m     \u001b[38;5;28mself\u001b[39m\u001b[38;5;241m.\u001b[39mfilename \u001b[38;5;241m=\u001b[39m \u001b[38;5;124m'\u001b[39m\u001b[38;5;124m0\u001b[39m\u001b[38;5;132;01m{0:06.0f}\u001b[39;00m\u001b[38;5;124m_\u001b[39m\u001b[38;5;132;01m{1:.2f}\u001b[39;00m\u001b[38;5;124m_33_50_02_15.bin_0.1.gz\u001b[39m\u001b[38;5;124m'\u001b[39m\u001b[38;5;241m.\u001b[39mformat(\u001b[38;5;28mself\u001b[39m\u001b[38;5;241m.\u001b[39mT, \u001b[38;5;28mself\u001b[39m\u001b[38;5;241m.\u001b[39mlogg)\n\u001b[1;32m     31\u001b[0m \u001b[38;5;28;01melse\u001b[39;00m:\n",
      "File \u001b[0;32m~/Google Drive/Pro/Python-MySQL/Python-lectures-Notebooks/Lecture_Notebooks/test_2_err.py:146\u001b[0m, in \u001b[0;36mStel_Spectrum.__setlogg\u001b[0;34m(self, value)\u001b[0m\n\u001b[1;32m    144\u001b[0m \u001b[38;5;28mself\u001b[39m\u001b[38;5;241m.\u001b[39mfilename \u001b[38;5;241m=\u001b[39m \u001b[38;5;124m'\u001b[39m\u001b[38;5;124m0\u001b[39m\u001b[38;5;132;01m{0:06.0f}\u001b[39;00m\u001b[38;5;124m_\u001b[39m\u001b[38;5;132;01m{1:.2f}\u001b[39;00m\u001b[38;5;124m_33_50_02_15.bin_0.1.gz\u001b[39m\u001b[38;5;124m'\u001b[39m\u001b[38;5;241m.\u001b[39mformat(\u001b[38;5;28mself\u001b[39m\u001b[38;5;241m.\u001b[39mT, \u001b[38;5;28mself\u001b[39m\u001b[38;5;241m.\u001b[39mlogg)\n\u001b[1;32m    145\u001b[0m \u001b[38;5;28mself\u001b[39m\u001b[38;5;241m.\u001b[39mdlfile() \u001b[38;5;66;03m# will download new data\u001b[39;00m\n\u001b[0;32m--> 146\u001b[0m \u001b[38;5;28mself\u001b[39m\u001b[38;5;241m.\u001b[39mread_data()\n",
      "File \u001b[0;32m~/Google Drive/Pro/Python-MySQL/Python-lectures-Notebooks/Lecture_Notebooks/test_2_err.py:70\u001b[0m, in \u001b[0;36mStel_Spectrum.read_data\u001b[0;34m(self)\u001b[0m\n\u001b[1;32m     68\u001b[0m \u001b[38;5;28;01mif\u001b[39;00m \u001b[38;5;28mself\u001b[39m\u001b[38;5;241m.\u001b[39mfile_found:\n\u001b[1;32m     69\u001b[0m     file2read \u001b[38;5;241m=\u001b[39m \u001b[38;5;28mself\u001b[39m\u001b[38;5;241m.\u001b[39mfilename\u001b[38;5;241m+\u001b[39m\u001b[38;5;124m'\u001b[39m\u001b[38;5;124meee\u001b[39m\u001b[38;5;124m'\u001b[39m\n\u001b[0;32m---> 70\u001b[0m     data \u001b[38;5;241m=\u001b[39m np\u001b[38;5;241m.\u001b[39mgenfromtxt(file2read, comments\u001b[38;5;241m=\u001b[39m\u001b[38;5;124m'\u001b[39m\u001b[38;5;124m*\u001b[39m\u001b[38;5;124m'\u001b[39m, names\u001b[38;5;241m=\u001b[39m\u001b[38;5;124m'\u001b[39m\u001b[38;5;124mwl, fl\u001b[39m\u001b[38;5;124m'\u001b[39m)\n\u001b[1;32m     71\u001b[0m     \u001b[38;5;28mself\u001b[39m\u001b[38;5;241m.\u001b[39mfl \u001b[38;5;241m=\u001b[39m data[\u001b[38;5;124m'\u001b[39m\u001b[38;5;124mfl\u001b[39m\u001b[38;5;124m'\u001b[39m]\n\u001b[1;32m     72\u001b[0m     \u001b[38;5;28mself\u001b[39m\u001b[38;5;241m.\u001b[39mwl \u001b[38;5;241m=\u001b[39m data[\u001b[38;5;124m'\u001b[39m\u001b[38;5;124mwl\u001b[39m\u001b[38;5;124m'\u001b[39m] \u001b[38;5;66;03m# in A\u001b[39;00m\n",
      "File \u001b[0;32m~/anaconda3/envs/Python_Lecture/lib/python3.12/site-packages/numpy/lib/_npyio_impl.py:1990\u001b[0m, in \u001b[0;36mgenfromtxt\u001b[0;34m(fname, dtype, comments, delimiter, skip_header, skip_footer, converters, missing_values, filling_values, usecols, names, excludelist, deletechars, replace_space, autostrip, case_sensitive, defaultfmt, unpack, usemask, loose, invalid_raise, max_rows, encoding, ndmin, like)\u001b[0m\n\u001b[1;32m   1988\u001b[0m     fname \u001b[38;5;241m=\u001b[39m os\u001b[38;5;241m.\u001b[39mfspath(fname)\n\u001b[1;32m   1989\u001b[0m \u001b[38;5;28;01mif\u001b[39;00m \u001b[38;5;28misinstance\u001b[39m(fname, \u001b[38;5;28mstr\u001b[39m):\n\u001b[0;32m-> 1990\u001b[0m     fid \u001b[38;5;241m=\u001b[39m np\u001b[38;5;241m.\u001b[39mlib\u001b[38;5;241m.\u001b[39m_datasource\u001b[38;5;241m.\u001b[39mopen(fname, \u001b[38;5;124m'\u001b[39m\u001b[38;5;124mrt\u001b[39m\u001b[38;5;124m'\u001b[39m, encoding\u001b[38;5;241m=\u001b[39mencoding)\n\u001b[1;32m   1991\u001b[0m     fid_ctx \u001b[38;5;241m=\u001b[39m contextlib\u001b[38;5;241m.\u001b[39mclosing(fid)\n\u001b[1;32m   1992\u001b[0m \u001b[38;5;28;01melse\u001b[39;00m:\n",
      "File \u001b[0;32m~/anaconda3/envs/Python_Lecture/lib/python3.12/site-packages/numpy/lib/_datasource.py:192\u001b[0m, in \u001b[0;36mopen\u001b[0;34m(path, mode, destpath, encoding, newline)\u001b[0m\n\u001b[1;32m    155\u001b[0m \u001b[38;5;250m\u001b[39m\u001b[38;5;124;03m\"\"\"\u001b[39;00m\n\u001b[1;32m    156\u001b[0m \u001b[38;5;124;03mOpen `path` with `mode` and return the file object.\u001b[39;00m\n\u001b[1;32m    157\u001b[0m \n\u001b[0;32m   (...)\u001b[0m\n\u001b[1;32m    188\u001b[0m \n\u001b[1;32m    189\u001b[0m \u001b[38;5;124;03m\"\"\"\u001b[39;00m\n\u001b[1;32m    191\u001b[0m ds \u001b[38;5;241m=\u001b[39m DataSource(destpath)\n\u001b[0;32m--> 192\u001b[0m \u001b[38;5;28;01mreturn\u001b[39;00m ds\u001b[38;5;241m.\u001b[39mopen(path, mode, encoding\u001b[38;5;241m=\u001b[39mencoding, newline\u001b[38;5;241m=\u001b[39mnewline)\n",
      "File \u001b[0;32m~/anaconda3/envs/Python_Lecture/lib/python3.12/site-packages/numpy/lib/_datasource.py:529\u001b[0m, in \u001b[0;36mDataSource.open\u001b[0;34m(self, path, mode, encoding, newline)\u001b[0m\n\u001b[1;32m    526\u001b[0m     \u001b[38;5;28;01mreturn\u001b[39;00m _file_openers[ext](found, mode\u001b[38;5;241m=\u001b[39mmode,\n\u001b[1;32m    527\u001b[0m                               encoding\u001b[38;5;241m=\u001b[39mencoding, newline\u001b[38;5;241m=\u001b[39mnewline)\n\u001b[1;32m    528\u001b[0m \u001b[38;5;28;01melse\u001b[39;00m:\n\u001b[0;32m--> 529\u001b[0m     \u001b[38;5;28;01mraise\u001b[39;00m \u001b[38;5;167;01mFileNotFoundError\u001b[39;00m(\u001b[38;5;124mf\u001b[39m\u001b[38;5;124m\"\u001b[39m\u001b[38;5;132;01m{\u001b[39;00mpath\u001b[38;5;132;01m}\u001b[39;00m\u001b[38;5;124m not found.\u001b[39m\u001b[38;5;124m\"\u001b[39m)\n",
      "\u001b[0;31mFileNotFoundError\u001b[0m: 0100000_6.00_33_50_02_15.bin_0.1.gzeee not found."
     ]
    }
   ],
   "source": [
    "from test_2_err import Stel_Spectrum\n",
    "sp = Stel_Spectrum(T=100000, logg=6, verbose=True)\n",
    "print(f'DONE {sp.logg}')"
   ]
  },
  {
   "cell_type": "markdown",
   "metadata": {},
   "source": []
  }
 ],
 "metadata": {
  "kernelspec": {
   "display_name": "Python_Lecture",
   "language": "python",
   "name": "python3"
  },
  "language_info": {
   "codemirror_mode": {
    "name": "ipython",
    "version": 3
   },
   "file_extension": ".py",
   "mimetype": "text/x-python",
   "name": "python",
   "nbconvert_exporter": "python",
   "pygments_lexer": "ipython3",
   "version": "3.12.9"
  }
 },
 "nbformat": 4,
 "nbformat_minor": 4
}

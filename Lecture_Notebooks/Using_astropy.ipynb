{
 "cells": [
  {
   "cell_type": "code",
   "execution_count": 1,
   "metadata": {
    "collapsed": false,
    "jupyter": {
     "outputs_hidden": false
    }
   },
   "outputs": [
    {
     "name": "stdout",
     "output_type": "stream",
     "text": [
      "Fri May  9 14:44:59 2025\n",
      "3.11.5 (main, Sep 11 2023, 08:17:37) [Clang 14.0.6 ]\n"
     ]
    }
   ],
   "source": [
    "# The following is to know when this notebook has been run and with which python version.\n",
    "import time, sys\n",
    "print(time.ctime())\n",
    "print(sys.version.split('|')[0])"
   ]
  },
  {
   "cell_type": "markdown",
   "metadata": {},
   "source": [
    "# G The astropy package"
   ]
  },
  {
   "cell_type": "markdown",
   "metadata": {},
   "source": [
    "The Astropy Project is a community effort to develop a single core package for Astronomy in Python and foster interoperability between Python astronomy packages. More informations here: http://www.astropy.org/\n",
    "\n",
    "The astropy group received US$ 1 million a few years ago to found astropy for 3 years.\n",
    "\n",
    "https://www.slideshare.net/KelleCruz/astropy-project-update-for-adass\n",
    "\n",
    "https://learn.astropy.org/"
   ]
  },
  {
   "cell_type": "code",
   "execution_count": 2,
   "metadata": {
    "collapsed": false,
    "jupyter": {
     "outputs_hidden": false
    }
   },
   "outputs": [],
   "source": [
    "import numpy as np\n",
    "import matplotlib.pyplot as plt"
   ]
  },
  {
   "cell_type": "markdown",
   "metadata": {},
   "source": [
    "### Constants and Units"
   ]
  },
  {
   "cell_type": "markdown",
   "metadata": {},
   "source": [
    "http://docs.astropy.org/en/stable/constants/index.html\n",
    "\n",
    "http://docs.astropy.org/en/stable/units/index.html"
   ]
  },
  {
   "cell_type": "code",
   "execution_count": 3,
   "metadata": {
    "collapsed": false,
    "jupyter": {
     "outputs_hidden": false
    }
   },
   "outputs": [
    {
     "name": "stdout",
     "output_type": "stream",
     "text": [
      "6.1.3\n",
      "Help on package astropy.constants in astropy:\n",
      "\n",
      "NAME\n",
      "    astropy.constants\n",
      "\n",
      "DESCRIPTION\n",
      "    Contains astronomical and physical constants for use in Astropy or other\n",
      "    places.\n",
      "    \n",
      "    A typical use case might be::\n",
      "    \n",
      "        >>> from astropy.constants import c, m_e\n",
      "        >>> # ... define the mass of something you want the rest energy of as m ...\n",
      "        >>> m = m_e\n",
      "        >>> E = m * c**2\n",
      "        >>> E.to('MeV')  # doctest: +FLOAT_CMP\n",
      "        <Quantity 0.510998927603161 MeV>\n",
      "    \n",
      "    The following constants are available:\n",
      "    \n",
      "    ========== ============== ================ =========================\n",
      "       Name        Value            Unit       Description\n",
      "    ========== ============== ================ =========================\n",
      "        G        6.6743e-11     m3 / (kg s2)   Gravitational constant\n",
      "       N_A     6.02214076e+23    1 / (mol)     Avogadro's number\n",
      "        R        8.31446262     J / (K mol)    Gas constant\n",
      "       Ryd       10973731.6       1 / (m)      Rydberg constant\n",
      "        a0     5.29177211e-11        m         Bohr radius\n",
      "      alpha    0.00729735257                   Fine-structure constant\n",
      "       atm         101325            Pa        Standard atmosphere\n",
      "      b_wien   0.00289777196        m K        Wien wavelength displacement law constant\n",
      "        c        299792458        m / (s)      Speed of light in vacuum\n",
      "        e      1.60217663e-19        C         Electron charge\n",
      "       eps0    8.85418781e-12       F/m        Vacuum electric permittivity\n",
      "        g0        9.80665          m / s2      Standard acceleration of gravity\n",
      "        h      6.62607015e-34       J s        Planck constant\n",
      "       hbar    1.05457182e-34       J s        Reduced Planck constant\n",
      "       k_B      1.380649e-23      J / (K)      Boltzmann constant\n",
      "       m_e     9.1093837e-31         kg        Electron mass\n",
      "       m_n     1.6749275e-27         kg        Neutron mass\n",
      "       m_p     1.67262192e-27        kg        Proton mass\n",
      "       mu0     1.25663706e-06       N/A2       Vacuum magnetic permeability\n",
      "       muB     9.27401008e-24       J/T        Bohr magneton\n",
      "     sigma_T   6.65245873e-29        m2        Thomson scattering cross-section\n",
      "     sigma_sb  5.67037442e-08   W / (K4 m2)    Stefan-Boltzmann constant\n",
      "        u      1.66053907e-27        kg        Atomic mass\n",
      "     GM_earth   3.986004e+14     m3 / (s2)     Nominal Earth mass parameter\n",
      "      GM_jup   1.2668653e+17     m3 / (s2)     Nominal Jupiter mass parameter\n",
      "      GM_sun   1.3271244e+20     m3 / (s2)     Nominal solar mass parameter\n",
      "      L_bol0     3.0128e+28          W         Luminosity for absolute bolometric magnitude 0\n",
      "      L_sun      3.828e+26           W         Nominal solar luminosity\n",
      "     M_earth   5.97216787e+24        kg        Earth mass\n",
      "      M_jup    1.8981246e+27         kg        Jupiter mass\n",
      "      M_sun    1.98840987e+30        kg        Solar mass\n",
      "     R_earth      6378100            m         Nominal Earth equatorial radius\n",
      "      R_jup       71492000           m         Nominal Jupiter equatorial radius\n",
      "      R_sun      695700000           m         Nominal solar radius\n",
      "        au     1.49597871e+11        m         Astronomical Unit\n",
      "       kpc     3.08567758e+19        m         Kiloparsec\n",
      "        pc     3.08567758e+16        m         Parsec\n",
      "    ========== ============== ================ =========================\n",
      "\n",
      "PACKAGE CONTENTS\n",
      "    astropyconst13\n",
      "    astropyconst20\n",
      "    astropyconst40\n",
      "    cgs\n",
      "    codata2010\n",
      "    codata2014\n",
      "    codata2018\n",
      "    config\n",
      "    constant\n",
      "    iau2012\n",
      "    iau2015\n",
      "    si\n",
      "    tests (package)\n",
      "    utils\n",
      "\n",
      "SUBMODULES\n",
      "    codata\n",
      "    iaudata\n",
      "\n",
      "DATA\n",
      "    G = <<class 'astropy.constants.codata2018.CODATA2018...e-15 unit='m3 /...\n",
      "    GM_earth = <<class 'astropy.constants.iau2015.IAU2015'> nam...it='m3 /...\n",
      "    GM_jup = <<class 'astropy.constants.iau2015.IAU2015'> nam...it='m3 / s...\n",
      "    GM_sun = <<class 'astropy.constants.iau2015.IAU2015'> nam...it='m3 / s...\n",
      "    L_bol0 = <<class 'astropy.constants.iau2015.IAU2015'> nam...0.0 unit='...\n",
      "    L_sun = <<class 'astropy.constants.iau2015.IAU2015'> nam...0.0 unit='W...\n",
      "    M_earth = <<class 'astropy.constants.iau2015.IAU2015'> nam...eference=...\n",
      "    M_jup = <<class 'astropy.constants.iau2015.IAU2015'> nam...eference='I...\n",
      "    M_sun = <<class 'astropy.constants.iau2015.IAU2015'> nam...eference='I...\n",
      "    N_A = <<class 'astropy.constants.codata2018.CODATA2018...ainty=0.0 uni...\n",
      "    R = <<class 'astropy.constants.codata2018.CODATA2018...y=0.0 unit='J /...\n",
      "    R_earth = <<class 'astropy.constants.iau2015.IAU2015'> nam...0.0 unit=...\n",
      "    R_jup = <<class 'astropy.constants.iau2015.IAU2015'> nam...0.0 unit='m...\n",
      "    R_sun = <<class 'astropy.constants.iau2015.IAU2015'> nam...0.0 unit='m...\n",
      "    Ryd = <<class 'astropy.constants.codata2018.CODATA2018...nty=2.1e-05 u...\n",
      "    a0 = <<class 'astropy.constants.codata2018.CODATA2018...certainty=8e-2...\n",
      "    alpha = <<class 'astropy.constants.codata2018.CODATA2018...ertainty=1....\n",
      "    atm = <<class 'astropy.constants.codata2018.CODATA2018...ncertainty=0....\n",
      "    au = <<class 'astropy.constants.iau2015.IAU2015'> nam...=0.0 unit='m' ...\n",
      "    b_wien = <<class 'astropy.constants.codata2018.CODATA2018...certainty=...\n",
      "    c = <<class 'astropy.constants.codata2018.CODATA2018...rtainty=0.0 uni...\n",
      "    e = <<class 'astropy.constants.codata2018.EMCODATA20...uncertainty=0.0...\n",
      "    eps0 = <<class 'astropy.constants.codata2018.EMCODATA20...nty=1.3e-21 ...\n",
      "    g0 = <<class 'astropy.constants.codata2018.CODATA2018...tainty=0.0 uni...\n",
      "    h = <<class 'astropy.constants.codata2018.CODATA2018...certainty=0.0 u...\n",
      "    hbar = <<class 'astropy.constants.codata2018.CODATA2018...certainty=0....\n",
      "    k_B = <<class 'astropy.constants.codata2018.CODATA2018...rtainty=0.0 u...\n",
      "    kpc = <<class 'astropy.constants.iau2015.IAU2015'> nam...ived from au ...\n",
      "    m_e = <<class 'astropy.constants.codata2018.CODATA2018...tainty=2.8e-4...\n",
      "    m_n = <<class 'astropy.constants.codata2018.CODATA2018...tainty=9.5e-3...\n",
      "    m_p = <<class 'astropy.constants.codata2018.CODATA2018...tainty=5.1e-3...\n",
      "    mu0 = <<class 'astropy.constants.codata2018.CODATA2018...ty=1.9e-16 un...\n",
      "    muB = <<class 'astropy.constants.codata2018.CODATA2018...nty=2.8e-33 u...\n",
      "    pc = <<class 'astropy.constants.iau2015.IAU2015'> nam...ived from au +...\n",
      "    sigma_T = <<class 'astropy.constants.codata2018.CODATA2018...ertainty=...\n",
      "    sigma_sb = <<class 'astropy.constants.codata2018.CODATA2018...y=0.0 un...\n",
      "    u = <<class 'astropy.constants.codata2018.CODATA2018...ertainty=5e-37 ...\n",
      "\n",
      "FILE\n",
      "    /Users/christophemorisset/anaconda25/envs/Python_Lecture_ML/lib/python3.11/site-packages/astropy/constants/__init__.py\n",
      "\n",
      "\n"
     ]
    }
   ],
   "source": [
    "import astropy\n",
    "print(astropy.__version__)\n",
    "from astropy import constants as const\n",
    "from astropy import units as u\n",
    "help(const)"
   ]
  },
  {
   "cell_type": "code",
   "execution_count": 4,
   "metadata": {
    "collapsed": false,
    "jupyter": {
     "outputs_hidden": false
    }
   },
   "outputs": [
    {
     "name": "stdout",
     "output_type": "stream",
     "text": [
      "  Name   = Speed of light in vacuum\n",
      "  Value  = 299792458.0\n",
      "  Uncertainty  = 0.0\n",
      "  Unit  = m / s\n",
      "  Reference = CODATA 2018\n"
     ]
    }
   ],
   "source": [
    "# Pretty printing\n",
    "print(const.c)"
   ]
  },
  {
   "cell_type": "code",
   "execution_count": 5,
   "metadata": {
    "collapsed": false,
    "jupyter": {
     "outputs_hidden": false
    }
   },
   "outputs": [
    {
     "name": "stdout",
     "output_type": "stream",
     "text": [
      "3.0660139378555056e-07 Mpc / yr\n"
     ]
    }
   ],
   "source": [
    "# .to change the unit\n",
    "print(const.c.to('Mpc/yr'))"
   ]
  },
  {
   "cell_type": "code",
   "execution_count": 6,
   "metadata": {
    "collapsed": false,
    "jupyter": {
     "outputs_hidden": false
    }
   },
   "outputs": [
    {
     "data": {
      "text/latex": [
       "$8.9875518 \\times 10^{16} \\; \\mathrm{\\frac{m^{2}}{s^{2}}}$"
      ],
      "text/plain": [
       "<Quantity 8.98755179e+16 m2 / s2>"
      ]
     },
     "execution_count": 6,
     "metadata": {},
     "output_type": "execute_result"
    }
   ],
   "source": [
    "# basic operations are managed\n",
    "const.c ** 2"
   ]
  },
  {
   "cell_type": "code",
   "execution_count": 7,
   "metadata": {
    "collapsed": false,
    "jupyter": {
     "outputs_hidden": false
    }
   },
   "outputs": [
    {
     "data": {
      "text/latex": [
       "$17314.516 \\; \\mathrm{\\frac{m^{1/2}}{s^{1/2}}}$"
      ],
      "text/plain": [
       "<Quantity 17314.51581766 m(1/2) / s(1/2)>"
      ]
     },
     "execution_count": 7,
     "metadata": {},
     "output_type": "execute_result"
    }
   ],
   "source": [
    "np.sqrt(const.c)"
   ]
  },
  {
   "cell_type": "code",
   "execution_count": 8,
   "metadata": {
    "collapsed": false,
    "jupyter": {
     "outputs_hidden": false
    }
   },
   "outputs": [
    {
     "name": "stdout",
     "output_type": "stream",
     "text": [
      "17314.51581766005 m(1/2) / s(1/2)\n"
     ]
    }
   ],
   "source": [
    "print(np.sqrt(const.c))"
   ]
  },
  {
   "cell_type": "code",
   "execution_count": 9,
   "metadata": {
    "collapsed": false,
    "jupyter": {
     "outputs_hidden": false
    }
   },
   "outputs": [
    {
     "name": "stdout",
     "output_type": "stream",
     "text": [
      "5.965229612094153e+30 kg\n",
      "8.225977685950412e+21 m3 g / (AU2 s2)\n"
     ]
    }
   ],
   "source": [
    "# Following the units\n",
    "M1 = 3 * const.M_sun\n",
    "M2 = 100 * u.g\n",
    "Dist = 2.2 * u.au\n",
    "F = const.G * M1 * M2 / Dist ** 2\n",
    "print(M1)\n",
    "print(F)"
   ]
  },
  {
   "cell_type": "code",
   "execution_count": 10,
   "metadata": {
    "collapsed": false,
    "jupyter": {
     "outputs_hidden": false
    }
   },
   "outputs": [
    {
     "data": {
      "text/latex": [
       "$8.2259777 \\times 10^{21} \\; \\mathrm{\\frac{m^{3}\\,g}{AU^{2}\\,s^{2}}}$"
      ],
      "text/plain": [
       "<Quantity 8.22597769e+21 m3 g / (AU2 s2)>"
      ]
     },
     "execution_count": 10,
     "metadata": {},
     "output_type": "execute_result"
    }
   ],
   "source": [
    "F"
   ]
  },
  {
   "cell_type": "code",
   "execution_count": 11,
   "metadata": {
    "collapsed": false,
    "jupyter": {
     "outputs_hidden": false
    }
   },
   "outputs": [
    {
     "name": "stdout",
     "output_type": "stream",
     "text": [
      "0.0003675671602160826 N\n"
     ]
    }
   ],
   "source": [
    "# Convert in more classical unit\n",
    "print(F.to(u.N))"
   ]
  },
  {
   "cell_type": "code",
   "execution_count": 12,
   "metadata": {
    "collapsed": false,
    "jupyter": {
     "outputs_hidden": false
    }
   },
   "outputs": [],
   "source": [
    "q = 42.0 * u.meter"
   ]
  },
  {
   "cell_type": "code",
   "execution_count": 13,
   "metadata": {
    "collapsed": false,
    "jupyter": {
     "outputs_hidden": false
    }
   },
   "outputs": [
    {
     "data": {
      "text/latex": [
       "$1764 \\; \\mathrm{m^{2}}$"
      ],
      "text/plain": [
       "<Quantity 1764. m2>"
      ]
     },
     "execution_count": 13,
     "metadata": {},
     "output_type": "execute_result"
    }
   ],
   "source": [
    "q**2"
   ]
  },
  {
   "cell_type": "code",
   "execution_count": 14,
   "metadata": {
    "collapsed": false,
    "jupyter": {
     "outputs_hidden": false
    }
   },
   "outputs": [
    {
     "name": "stdout",
     "output_type": "stream",
     "text": [
      "1764.0\n",
      "1764.0\n"
     ]
    }
   ],
   "source": [
    "# Extract only the value\n",
    "print((q**2).value)\n",
    "print(q.value**2)"
   ]
  },
  {
   "cell_type": "code",
   "execution_count": 15,
   "metadata": {
    "collapsed": false,
    "jupyter": {
     "outputs_hidden": false
    }
   },
   "outputs": [
    {
     "name": "stdout",
     "output_type": "stream",
     "text": [
      "<class 'astropy.units.quantity.Quantity'>\n",
      "[2.803206e-09 5.606412e-09] m3 / (kg s2)\n"
     ]
    }
   ],
   "source": [
    "arr = np.array([q.value, 2*q.value]) * const.G\n",
    "print(type(arr))\n",
    "print(arr)"
   ]
  },
  {
   "cell_type": "code",
   "execution_count": 16,
   "metadata": {
    "collapsed": false,
    "jupyter": {
     "outputs_hidden": false
    }
   },
   "outputs": [
    {
     "name": "stdout",
     "output_type": "stream",
     "text": [
      "<class 'astropy.units.quantity.Quantity'>\n",
      "[2.803206e-09 2.803206e-09] m4 / (kg s2)\n",
      "[2.20274915e-26 2.20274915e-26] m12 / (kg3 s6)\n"
     ]
    }
   ],
   "source": [
    "arr = np.ones(2) * q * const.G\n",
    "print(type(arr))\n",
    "print(arr)\n",
    "print(arr**3)"
   ]
  },
  {
   "cell_type": "code",
   "execution_count": 17,
   "metadata": {
    "collapsed": false,
    "jupyter": {
     "outputs_hidden": false
    }
   },
   "outputs": [
    {
     "name": "stdout",
     "output_type": "stream",
     "text": [
      "0.008746355685131196 km s / m\n",
      "8.746355685131196 s\n",
      "0.0003675671602160826 kg m / s2\n"
     ]
    }
   ],
   "source": [
    "# Resolving redondant units\n",
    "d = 3 * u.km\n",
    "v = 343 * u.meter / u.second # sound velocity\n",
    "t = d / v\n",
    "print(t)\n",
    "print(t.decompose())\n",
    "print(F.decompose())"
   ]
  },
  {
   "cell_type": "code",
   "execution_count": 18,
   "metadata": {
    "collapsed": false,
    "jupyter": {
     "outputs_hidden": false
    }
   },
   "outputs": [
    {
     "name": "stdout",
     "output_type": "stream",
     "text": [
      "30856775814913.67 km\n"
     ]
    }
   ],
   "source": [
    "x = 1.0 * u.parsec\n",
    "print(x.to(u.km))"
   ]
  },
  {
   "cell_type": "code",
   "execution_count": 19,
   "metadata": {
    "collapsed": false,
    "jupyter": {
     "outputs_hidden": false
    }
   },
   "outputs": [],
   "source": [
    "lam = 5007 * u.angstrom"
   ]
  },
  {
   "cell_type": "code",
   "execution_count": 20,
   "metadata": {
    "collapsed": false,
    "jupyter": {
     "outputs_hidden": false
    }
   },
   "outputs": [
    {
     "name": "stdout",
     "output_type": "stream",
     "text": [
      "500.70000000000005 nm\n",
      "0.5007000000000001 micron\n",
      "0.5007000000000001 um\n"
     ]
    }
   ],
   "source": [
    "print(lam.to(u.nm))\n",
    "print(lam.to(u.micron))\n",
    "print(lam.to(u.um))"
   ]
  },
  {
   "cell_type": "code",
   "execution_count": 21,
   "metadata": {
    "collapsed": false,
    "jupyter": {
     "outputs_hidden": false
    }
   },
   "outputs": [
    {
     "name": "stdout",
     "output_type": "stream",
     "text": [
      "598746.6706610745 GHz\n"
     ]
    }
   ],
   "source": [
    "# Some transformations needs extra information\n",
    "print(lam.to(u.GHz, equivalencies=u.spectral()))"
   ]
  },
  {
   "cell_type": "code",
   "execution_count": 22,
   "metadata": {},
   "outputs": [],
   "source": [
    "from astropy.modeling.models import BlackBody\n",
    "\n",
    "# wavelengths and spectrum are 1D arrays\n",
    "# wavelengths between 1000 and ~ 30000 A\n",
    "temp = 5500 * u.K\n",
    "wavelengths = np.logspace(3, 4.5, num=1000) * u.AA\n",
    "wavelengths = wavelengths.to(u.um)\n",
    "bb_lam = BlackBody(temp, scale=1.0 * u.erg / (u.cm ** 2 * u.AA * u.s * u.sr))\n",
    "spectrum = bb_lam(wavelengths)"
   ]
  },
  {
   "cell_type": "code",
   "execution_count": 23,
   "metadata": {},
   "outputs": [
    {
     "data": {
      "text/plain": [
       "Text(0.5, 1.0, 'BB @ 5500 K with Bol. Flux=1.65e+10 erg / (s cm2)')"
      ]
     },
     "execution_count": 23,
     "metadata": {},
     "output_type": "execute_result"
    },
    {
     "data": {
      "image/png": "[encoded data removed]",
      "text/plain": [
       "<Figure size 640x480 with 1 Axes>"
      ]
     },
     "metadata": {},
     "output_type": "display_data"
    }
   ],
   "source": [
    "f, ax = plt.subplots()\n",
    "ax.plot(wavelengths, spectrum)\n",
    "ax.set_xscale('log')\n",
    "ax.set_yscale('log')\n",
    "ax.set_xlabel(f'Wavelengths [{wavelengths.unit}]')\n",
    "ax.set_ylabel(f'Flux [{spectrum.unit}]')\n",
    "ax.set_title(fr'BB @ {temp:.0f} with Bol. Flux={bb_lam.bolometric_flux:.2e}')"
   ]
  },
  {
   "cell_type": "markdown",
   "metadata": {},
   "source": [
    "https://docs.astropy.org/en/stable/visualization/index.html"
   ]
  },
  {
   "cell_type": "code",
   "execution_count": 24,
   "metadata": {},
   "outputs": [
    {
     "data": {
      "image/png": "[encoded data removed]",
      "text/plain": [
       "<Figure size 640x480 with 1 Axes>"
      ]
     },
     "metadata": {},
     "output_type": "display_data"
    }
   ],
   "source": [
    "from astropy import visualization\n",
    "with visualization.quantity_support():\n",
    "    f, ax = plt.subplots()\n",
    "    ax.plot(wavelengths, spectrum)\n",
    "    ax.set_xscale('log')\n",
    "    ax.set_yscale('log')\n",
    "    ax.set_title(fr'BB @ {temp:.0f} with Bol. Flux={bb_lam.bolometric_flux:.2e}')"
   ]
  },
  {
   "cell_type": "markdown",
   "metadata": {},
   "source": [
    "### Data Table"
   ]
  },
  {
   "cell_type": "markdown",
   "metadata": {},
   "source": [
    "http://docs.astropy.org/en/stable/table/index.html"
   ]
  },
  {
   "cell_type": "code",
   "execution_count": 25,
   "metadata": {
    "collapsed": false,
    "jupyter": {
     "outputs_hidden": false
    }
   },
   "outputs": [],
   "source": [
    "from astropy.table import Table"
   ]
  },
  {
   "cell_type": "code",
   "execution_count": 26,
   "metadata": {
    "collapsed": false,
    "jupyter": {
     "outputs_hidden": false
    }
   },
   "outputs": [
    {
     "name": "stdout",
     "output_type": "stream",
     "text": [
      " a   b   c \n",
      "--- --- ---\n",
      "  1 2.0   x\n",
      "  4 5.0   y\n",
      "  5 8.2   z\n"
     ]
    }
   ],
   "source": [
    "# create a table with non homogeneous types\n",
    "a = [1, 4, 5]\n",
    "b = [2.0, 5.0, 8.2]\n",
    "c = ['x', 'y', 'z']\n",
    "t = Table((a, b, c), names=('a', 'b', 'c'), meta={'name': 'first table'})\n",
    "print(t)"
   ]
  },
  {
   "cell_type": "code",
   "execution_count": 27,
   "metadata": {
    "collapsed": false,
    "jupyter": {
     "outputs_hidden": false
    }
   },
   "outputs": [
    {
     "data": {
      "text/html": [
       "<div><i>Table length=3</i>\n",
       "<table id=\"table4878474000\" class=\"table-striped table-bordered table-condensed\">\n",
       "<thead><tr><th>a</th><th>b</th><th>c</th></tr></thead>\n",
       "<thead><tr><th>int64</th><th>float64</th><th>str1</th></tr></thead>\n",
       "<tr><td>1</td><td>2.0</td><td>x</td></tr>\n",
       "<tr><td>4</td><td>5.0</td><td>y</td></tr>\n",
       "<tr><td>5</td><td>8.2</td><td>z</td></tr>\n",
       "</table></div>"
      ],
      "text/plain": [
       "<Table length=3>\n",
       "  a      b     c  \n",
       "int64 float64 str1\n",
       "----- ------- ----\n",
       "    1     2.0    x\n",
       "    4     5.0    y\n",
       "    5     8.2    z"
      ]
     },
     "execution_count": 27,
     "metadata": {},
     "output_type": "execute_result"
    }
   ],
   "source": [
    "# Pretty output\n",
    "t"
   ]
  },
  {
   "cell_type": "code",
   "execution_count": 28,
   "metadata": {
    "collapsed": false,
    "jupyter": {
     "outputs_hidden": false
    }
   },
   "outputs": [
    {
     "data": {
      "text/html": [
       "<div><i>Table length=3</i>\n",
       "<table id=\"table4878474000\" class=\"table-striped table-bordered table-condensed\">\n",
       "<thead><tr><th>a</th><th>b</th><th>c</th></tr></thead>\n",
       "<thead><tr><th></th><th>m / s</th><th></th></tr></thead>\n",
       "<thead><tr><th>int64</th><th>float64</th><th>str1</th></tr></thead>\n",
       "<tr><td>1</td><td>2.000</td><td>x</td></tr>\n",
       "<tr><td>4</td><td>5.000</td><td>y</td></tr>\n",
       "<tr><td>5</td><td>8.200</td><td>z</td></tr>\n",
       "</table></div>"
      ],
      "text/plain": [
       "<Table length=3>\n",
       "  a      b     c  \n",
       "       m / s      \n",
       "int64 float64 str1\n",
       "----- ------- ----\n",
       "    1   2.000    x\n",
       "    4   5.000    y\n",
       "    5   8.200    z"
      ]
     },
     "execution_count": 28,
     "metadata": {},
     "output_type": "execute_result"
    }
   ],
   "source": [
    "# One can change the output format\n",
    "t['b'].format = '7.3f'\n",
    "t['b'].format = '{:7.3f}'\n",
    "# and add units\n",
    "t['b'].unit = u.m / u.s\n",
    "t"
   ]
  },
  {
   "cell_type": "code",
   "execution_count": 29,
   "metadata": {
    "collapsed": false,
    "jupyter": {
     "outputs_hidden": false
    }
   },
   "outputs": [],
   "source": [
    "# The t.show_in_browser() method is not available anymore. One can use the following instead:\n",
    "t.write('table.html', format='html', overwrite=True)"
   ]
  },
  {
   "cell_type": "code",
   "execution_count": 30,
   "metadata": {
    "collapsed": false,
    "jupyter": {
     "outputs_hidden": false
    }
   },
   "outputs": [
    {
     "data": {
      "text/plain": [
       "['a', 'b', 'c']"
      ]
     },
     "execution_count": 30,
     "metadata": {},
     "output_type": "execute_result"
    }
   ],
   "source": [
    "# access the column names\n",
    "t.colnames"
   ]
  },
  {
   "cell_type": "code",
   "execution_count": 31,
   "metadata": {
    "collapsed": false,
    "jupyter": {
     "outputs_hidden": false
    }
   },
   "outputs": [
    {
     "data": {
      "text/plain": [
       "3"
      ]
     },
     "execution_count": 31,
     "metadata": {},
     "output_type": "execute_result"
    }
   ],
   "source": [
    "# length of the table (number of rows)\n",
    "len(t)"
   ]
  },
  {
   "cell_type": "code",
   "execution_count": 32,
   "metadata": {
    "collapsed": false,
    "jupyter": {
     "outputs_hidden": false
    }
   },
   "outputs": [
    {
     "data": {
      "text/plain": [
       "np.int64(4)"
      ]
     },
     "execution_count": 32,
     "metadata": {},
     "output_type": "execute_result"
    }
   ],
   "source": [
    "# Acces one element\n",
    "t['a'][1]"
   ]
  },
  {
   "cell_type": "code",
   "execution_count": 33,
   "metadata": {
    "collapsed": false,
    "jupyter": {
     "outputs_hidden": false
    }
   },
   "outputs": [
    {
     "data": {
      "text/html": [
       "<div><i>Table length=3</i>\n",
       "<table id=\"table4878474000\" class=\"table-striped table-bordered table-condensed\">\n",
       "<thead><tr><th>a</th><th>b</th><th>c</th></tr></thead>\n",
       "<thead><tr><th></th><th>m / s</th><th></th></tr></thead>\n",
       "<thead><tr><th>int64</th><th>float64</th><th>str1</th></tr></thead>\n",
       "<tr><td>1</td><td>2.000</td><td>x</td></tr>\n",
       "<tr><td>11</td><td>5.000</td><td>y</td></tr>\n",
       "<tr><td>5</td><td>8.200</td><td>z</td></tr>\n",
       "</table></div>"
      ],
      "text/plain": [
       "<Table length=3>\n",
       "  a      b     c  \n",
       "       m / s      \n",
       "int64 float64 str1\n",
       "----- ------- ----\n",
       "    1   2.000    x\n",
       "   11   5.000    y\n",
       "    5   8.200    z"
      ]
     },
     "execution_count": 33,
     "metadata": {},
     "output_type": "execute_result"
    }
   ],
   "source": [
    "# Modify one element\n",
    "t['a'][1] = 11 #11.9 will be rounded\n",
    "t"
   ]
  },
  {
   "cell_type": "code",
   "execution_count": 34,
   "metadata": {
    "collapsed": false,
    "jupyter": {
     "outputs_hidden": false
    }
   },
   "outputs": [],
   "source": [
    "# easy add column:\n",
    "t['d'] = [1, 2, 3]"
   ]
  },
  {
   "cell_type": "code",
   "execution_count": 35,
   "metadata": {
    "collapsed": false,
    "jupyter": {
     "outputs_hidden": false
    }
   },
   "outputs": [
    {
     "data": {
      "text/html": [
       "<div><i>Table length=3</i>\n",
       "<table id=\"table4878474000\" class=\"table-striped table-bordered table-condensed\">\n",
       "<thead><tr><th>a</th><th>b</th><th>c</th><th>d</th></tr></thead>\n",
       "<thead><tr><th></th><th>m / s</th><th></th><th></th></tr></thead>\n",
       "<thead><tr><th>int64</th><th>float64</th><th>str1</th><th>int64</th></tr></thead>\n",
       "<tr><td>1</td><td>2.000</td><td>x</td><td>1</td></tr>\n",
       "<tr><td>11</td><td>5.000</td><td>y</td><td>2</td></tr>\n",
       "<tr><td>5</td><td>8.200</td><td>z</td><td>3</td></tr>\n",
       "</table></div>"
      ],
      "text/plain": [
       "<Table length=3>\n",
       "  a      b     c     d  \n",
       "       m / s            \n",
       "int64 float64 str1 int64\n",
       "----- ------- ---- -----\n",
       "    1   2.000    x     1\n",
       "   11   5.000    y     2\n",
       "    5   8.200    z     3"
      ]
     },
     "execution_count": 35,
     "metadata": {},
     "output_type": "execute_result"
    }
   ],
   "source": [
    "t"
   ]
  },
  {
   "cell_type": "code",
   "execution_count": 36,
   "metadata": {
    "collapsed": false,
    "jupyter": {
     "outputs_hidden": false
    }
   },
   "outputs": [
    {
     "data": {
      "text/html": [
       "<div><i>Table length=3</i>\n",
       "<table id=\"table4878474000\" class=\"table-striped table-bordered table-condensed\">\n",
       "<thead><tr><th>A</th><th>b</th><th>c</th><th>d</th></tr></thead>\n",
       "<thead><tr><th></th><th>m / s</th><th></th><th></th></tr></thead>\n",
       "<thead><tr><th>int64</th><th>float64</th><th>str1</th><th>int64</th></tr></thead>\n",
       "<tr><td>1</td><td>2.000</td><td>x</td><td>1</td></tr>\n",
       "<tr><td>11</td><td>5.000</td><td>y</td><td>2</td></tr>\n",
       "<tr><td>5</td><td>8.200</td><td>z</td><td>3</td></tr>\n",
       "</table></div>"
      ],
      "text/plain": [
       "<Table length=3>\n",
       "  A      b     c     d  \n",
       "       m / s            \n",
       "int64 float64 str1 int64\n",
       "----- ------- ---- -----\n",
       "    1   2.000    x     1\n",
       "   11   5.000    y     2\n",
       "    5   8.200    z     3"
      ]
     },
     "execution_count": 36,
     "metadata": {},
     "output_type": "execute_result"
    }
   ],
   "source": [
    "t.rename_column('a', 'A')\n",
    "t"
   ]
  },
  {
   "cell_type": "code",
   "execution_count": 37,
   "metadata": {
    "collapsed": false,
    "jupyter": {
     "outputs_hidden": false
    }
   },
   "outputs": [
    {
     "data": {
      "text/html": [
       "<div><i>Table length=4</i>\n",
       "<table id=\"table4878474000\" class=\"table-striped table-bordered table-condensed\">\n",
       "<thead><tr><th>A</th><th>b</th><th>c</th><th>d</th></tr></thead>\n",
       "<thead><tr><th></th><th>m / s</th><th></th><th></th></tr></thead>\n",
       "<thead><tr><th>int64</th><th>float64</th><th>str1</th><th>int64</th></tr></thead>\n",
       "<tr><td>1</td><td>2.000</td><td>x</td><td>1</td></tr>\n",
       "<tr><td>11</td><td>5.000</td><td>y</td><td>2</td></tr>\n",
       "<tr><td>5</td><td>8.200</td><td>z</td><td>3</td></tr>\n",
       "<tr><td>-6</td><td>-9.300</td><td>r</td><td>10</td></tr>\n",
       "</table></div>"
      ],
      "text/plain": [
       "<Table length=4>\n",
       "  A      b     c     d  \n",
       "       m / s            \n",
       "int64 float64 str1 int64\n",
       "----- ------- ---- -----\n",
       "    1   2.000    x     1\n",
       "   11   5.000    y     2\n",
       "    5   8.200    z     3\n",
       "   -6  -9.300    r    10"
      ]
     },
     "execution_count": 37,
     "metadata": {},
     "output_type": "execute_result"
    }
   ],
   "source": [
    "t.add_row([-6, -9.3, 'r', 10.8])\n",
    "t"
   ]
  },
  {
   "cell_type": "code",
   "execution_count": 38,
   "metadata": {
    "collapsed": false,
    "jupyter": {
     "outputs_hidden": false
    }
   },
   "outputs": [
    {
     "data": {
      "text/html": [
       "<div><i>Table masked=True length=4</i>\n",
       "<table id=\"table4942020880\" class=\"table-striped table-bordered table-condensed\">\n",
       "<thead><tr><th>A</th><th>b</th><th>c</th><th>d</th></tr></thead>\n",
       "<thead><tr><th></th><th>m / s</th><th></th><th></th></tr></thead>\n",
       "<thead><tr><th>int64</th><th>float64</th><th>str1</th><th>int64</th></tr></thead>\n",
       "<tr><td>--</td><td>2.000</td><td>x</td><td>1</td></tr>\n",
       "<tr><td>--</td><td>5.000</td><td>y</td><td>2</td></tr>\n",
       "<tr><td>5</td><td>8.200</td><td>z</td><td>3</td></tr>\n",
       "<tr><td>-6</td><td>-9.300</td><td>r</td><td>10</td></tr>\n",
       "</table></div>"
      ],
      "text/plain": [
       "<Table masked=True length=4>\n",
       "  A      b     c     d  \n",
       "       m / s            \n",
       "int64 float64 str1 int64\n",
       "----- ------- ---- -----\n",
       "   --   2.000    x     1\n",
       "   --   5.000    y     2\n",
       "    5   8.200    z     3\n",
       "   -6  -9.300    r    10"
      ]
     },
     "execution_count": 38,
     "metadata": {},
     "output_type": "execute_result"
    }
   ],
   "source": [
    "# Masked values\n",
    "t2 = Table(t, masked=True)\n",
    "t2['A'].mask = [True, True, False, False, False, False] # True is for the masked values!!\n",
    "t2"
   ]
  },
  {
   "cell_type": "code",
   "execution_count": 39,
   "metadata": {
    "collapsed": false,
    "jupyter": {
     "outputs_hidden": false
    }
   },
   "outputs": [
    {
     "data": {
      "text/html": [
       "<div><i>Table masked=True length=4</i>\n",
       "<table id=\"table4942020880\" class=\"table-striped table-bordered table-condensed\">\n",
       "<thead><tr><th>A</th><th>b</th><th>c</th><th>d</th></tr></thead>\n",
       "<thead><tr><th></th><th>m / s</th><th></th><th></th></tr></thead>\n",
       "<thead><tr><th>int64</th><th>float64</th><th>str1</th><th>int64</th></tr></thead>\n",
       "<tr><td>--</td><td>2.000</td><td>x</td><td>1</td></tr>\n",
       "<tr><td>11</td><td>5.000</td><td>y</td><td>2</td></tr>\n",
       "<tr><td>5</td><td>8.200</td><td>z</td><td>3</td></tr>\n",
       "<tr><td>-6</td><td>-9.300</td><td>r</td><td>10</td></tr>\n",
       "</table></div>"
      ],
      "text/plain": [
       "<Table masked=True length=4>\n",
       "  A      b     c     d  \n",
       "       m / s            \n",
       "int64 float64 str1 int64\n",
       "----- ------- ---- -----\n",
       "   --   2.000    x     1\n",
       "   11   5.000    y     2\n",
       "    5   8.200    z     3\n",
       "   -6  -9.300    r    10"
      ]
     },
     "execution_count": 39,
     "metadata": {},
     "output_type": "execute_result"
    }
   ],
   "source": [
    "# masked values are not lost\n",
    "t2['A'].mask = [True, False, False, False, False, False] # True is for the masked values!!\n",
    "t2"
   ]
  },
  {
   "cell_type": "code",
   "execution_count": 40,
   "metadata": {
    "collapsed": false,
    "jupyter": {
     "outputs_hidden": false
    }
   },
   "outputs": [
    {
     "data": {
      "text/html": [
       "<div><i>Table length=4</i>\n",
       "<table id=\"table4878474000\" class=\"table-striped table-bordered table-condensed\">\n",
       "<thead><tr><th>A</th><th>b</th><th>c</th><th>d</th><th>A2</th></tr></thead>\n",
       "<thead><tr><th>m</th><th>m / s</th><th></th><th></th><th>m</th></tr></thead>\n",
       "<thead><tr><th>int64</th><th>float64</th><th>str1</th><th>int64</th><th>int64</th></tr></thead>\n",
       "<tr><td>1</td><td>2.000</td><td>x</td><td>1</td><td>1</td></tr>\n",
       "<tr><td>11</td><td>5.000</td><td>y</td><td>2</td><td>121</td></tr>\n",
       "<tr><td>5</td><td>8.200</td><td>z</td><td>3</td><td>25</td></tr>\n",
       "<tr><td>-6</td><td>-9.300</td><td>r</td><td>10</td><td>36</td></tr>\n",
       "</table></div>"
      ],
      "text/plain": [
       "<Table length=4>\n",
       "  A      b     c     d     A2 \n",
       "  m    m / s               m  \n",
       "int64 float64 str1 int64 int64\n",
       "----- ------- ---- ----- -----\n",
       "    1   2.000    x     1     1\n",
       "   11   5.000    y     2   121\n",
       "    5   8.200    z     3    25\n",
       "   -6  -9.300    r    10    36"
      ]
     },
     "execution_count": 40,
     "metadata": {},
     "output_type": "execute_result"
    }
   ],
   "source": [
    "t['A'].unit = u.m\n",
    "t['A2'] = t['A']**2\n",
    "t\n",
    "# !!!! WRONG UNIT FOR A2!!!!"
   ]
  },
  {
   "cell_type": "code",
   "execution_count": 41,
   "metadata": {},
   "outputs": [
    {
     "data": {
      "text/latex": [
       "$[2,~5,~0.01,~-9.3] \\; \\mathrm{\\frac{m}{s}}$"
      ],
      "text/plain": [
       "<Quantity [ 2.  ,  5.  ,  0.01, -9.3 ] m / s>"
      ]
     },
     "execution_count": 41,
     "metadata": {},
     "output_type": "execute_result"
    }
   ],
   "source": [
    "# Creat a table from a table. Use QTable to manage units.\n",
    "from astropy.table import QTable\n",
    "tq = QTable(t)\n",
    "tq['b'][2] = 1.0 * u.cm / u.s\n",
    "tq['b']"
   ]
  },
  {
   "cell_type": "code",
   "execution_count": 42,
   "metadata": {},
   "outputs": [
    {
     "data": {
      "text/html": [
       "<div><i>QTable length=4</i>\n",
       "<table id=\"table4942742160\" class=\"table-striped table-bordered table-condensed\">\n",
       "<thead><tr><th>a2</th><th>b2</th><th>a2/b2</th></tr></thead>\n",
       "<thead><tr><th>m2</th><th>m2 / s2</th><th>s2</th></tr></thead>\n",
       "<thead><tr><th>float64</th><th>float64</th><th>float64</th></tr></thead>\n",
       "<tr><td>1.0</td><td>4.0</td><td>0.25</td></tr>\n",
       "<tr><td>121.0</td><td>25.0</td><td>4.84</td></tr>\n",
       "<tr><td>25.0</td><td>0.0001</td><td>250000.0</td></tr>\n",
       "<tr><td>36.0</td><td>86.49000000000001</td><td>0.4162330905306971</td></tr>\n",
       "</table></div>"
      ],
      "text/plain": [
       "<QTable length=4>\n",
       "   a2           b2              a2/b2       \n",
       "   m2        m2 / s2              s2        \n",
       "float64      float64           float64      \n",
       "------- ----------------- ------------------\n",
       "    1.0               4.0               0.25\n",
       "  121.0              25.0               4.84\n",
       "   25.0            0.0001           250000.0\n",
       "   36.0 86.49000000000001 0.4162330905306971"
      ]
     },
     "execution_count": 42,
     "metadata": {},
     "output_type": "execute_result"
    }
   ],
   "source": [
    "t2 = QTable([tq['A']**2, tq['b']**2, tq['A']**2 / tq['b']**2], names=('a2', 'b2', 'a2/b2'))\n",
    "t2"
   ]
  },
  {
   "cell_type": "code",
   "execution_count": 43,
   "metadata": {
    "collapsed": false,
    "jupyter": {
     "outputs_hidden": false
    }
   },
   "outputs": [],
   "source": [
    "# Managing columns\n",
    "from astropy.table import Column"
   ]
  },
  {
   "cell_type": "code",
   "execution_count": 44,
   "metadata": {
    "collapsed": false,
    "jupyter": {
     "outputs_hidden": false
    }
   },
   "outputs": [
    {
     "data": {
      "text/html": [
       "<div><i>Table length=2</i>\n",
       "<table id=\"table4861309136\" class=\"table-striped table-bordered table-condensed\">\n",
       "<thead><tr><th>col0</th><th>col1</th><th>axis</th><th>axis obj</th></tr></thead>\n",
       "<thead><tr><th>int64</th><th>object</th><th>str1</th><th>object</th></tr></thead>\n",
       "<tr><td>1</td><td>[2, 5, 4, 5, 6, 3]</td><td>x</td><td>Axes(0.125,0.11;0.352273x0.77)</td></tr>\n",
       "<tr><td>4</td><td>[5, 7, 6]</td><td>y</td><td>Axes(0.547727,0.11;0.352273x0.77)</td></tr>\n",
       "</table></div>"
      ],
      "text/plain": [
       "<Table length=2>\n",
       " col0        col1        axis              axis obj            \n",
       "int64       object       str1               object             \n",
       "----- ------------------ ---- ---------------------------------\n",
       "    1 [2, 5, 4, 5, 6, 3]    x    Axes(0.125,0.11;0.352273x0.77)\n",
       "    4          [5, 7, 6]    y Axes(0.547727,0.11;0.352273x0.77)"
      ]
     },
     "execution_count": 44,
     "metadata": {},
     "output_type": "execute_result"
    },
    {
     "data": {
      "image/png": "[encoded data removed]",
      "text/plain": [
       "<Figure size 640x480 with 2 Axes>"
      ]
     },
     "metadata": {},
     "output_type": "display_data"
    }
   ],
   "source": [
    "# Create a table combining different formats\n",
    "a = (1, 4)\n",
    "b = np.array([[2, 5, 4, 5, 6, 3], [5, 7, 6]], dtype=object)  # vector column\n",
    "c = Column(['x', 'y'], name='axis')\n",
    "f, (ax1, ax2) = plt.subplots(1,2)\n",
    "d = Column([ax1, ax2], name='axis obj')\n",
    "\n",
    "t3 = Table((a, b, c, d))  # Data column named \"c\" has a name \"axis\" in that table\n",
    "t3"
   ]
  },
  {
   "cell_type": "code",
   "execution_count": 45,
   "metadata": {
    "collapsed": false,
    "jupyter": {
     "outputs_hidden": false
    }
   },
   "outputs": [
    {
     "data": {
      "text/html": [
       "<div><i>Table length=2</i>\n",
       "<table id=\"table4944641232\" class=\"table-striped table-bordered table-condensed\">\n",
       "<thead><tr><th>a</th><th>b</th><th>c</th></tr></thead>\n",
       "<thead><tr><th>int64</th><th>float64</th><th>str1</th></tr></thead>\n",
       "<tr><td>1</td><td>2.0</td><td>x</td></tr>\n",
       "<tr><td>4</td><td>5.0</td><td>y</td></tr>\n",
       "</table></div>"
      ],
      "text/plain": [
       "<Table length=2>\n",
       "  a      b     c  \n",
       "int64 float64 str1\n",
       "----- ------- ----\n",
       "    1     2.0    x\n",
       "    4     5.0    y"
      ]
     },
     "execution_count": 45,
     "metadata": {},
     "output_type": "execute_result"
    }
   ],
   "source": [
    "# table from a dictionnary, column by column\n",
    "rr = {'a': [1, 4],\n",
    "      'b': [2.0, 5.0],\n",
    "      'c': ('x', 'y')}\n",
    "t4 = Table(rr)\n",
    "t4"
   ]
  },
  {
   "cell_type": "code",
   "execution_count": 46,
   "metadata": {
    "collapsed": false,
    "jupyter": {
     "outputs_hidden": false
    }
   },
   "outputs": [
    {
     "data": {
      "text/html": [
       "<div><i>Table length=2</i>\n",
       "<table id=\"table4880549264\" class=\"table-striped table-bordered table-condensed\">\n",
       "<thead><tr><th>a</th><th>b</th><th>c</th></tr></thead>\n",
       "<thead><tr><th>int64</th><th>int64</th><th>int64</th></tr></thead>\n",
       "<tr><td>5</td><td>10</td><td>--</td></tr>\n",
       "<tr><td>--</td><td>30</td><td>15</td></tr>\n",
       "</table></div>"
      ],
      "text/plain": [
       "<Table length=2>\n",
       "  a     b     c  \n",
       "int64 int64 int64\n",
       "----- ----- -----\n",
       "    5    10    --\n",
       "   --    30    15"
      ]
     },
     "execution_count": 46,
     "metadata": {},
     "output_type": "execute_result"
    }
   ],
   "source": [
    "# Create table row by row. Not allthe columns need to be defined at the beginning.\n",
    "t5 = Table(rows=[{'a': 5, 'b': 10}, {'c': 15, 'b': 30}])\n",
    "t5"
   ]
  },
  {
   "cell_type": "code",
   "execution_count": 47,
   "metadata": {
    "collapsed": false,
    "jupyter": {
     "outputs_hidden": false
    }
   },
   "outputs": [
    {
     "name": "stdout",
     "output_type": "stream",
     "text": [
      "[(1, 2., b'x') (4, 5., b'y')]\n",
      "........................\n",
      " a   b   c \n",
      "--- --- ---\n",
      "  1 2.0   x\n",
      "  4 5.0   y\n"
     ]
    }
   ],
   "source": [
    "# Numpy structured array\n",
    "arr = np.array([(1, 2.0, 'x'),\n",
    "                (4, 5.0, 'y')],\n",
    "               dtype=[('a', 'i8'), ('b', 'f8'), ('c', 'S2')])\n",
    "print(arr)\n",
    "print('........................')\n",
    "t6 = Table(arr)\n",
    "print(t6)"
   ]
  },
  {
   "cell_type": "markdown",
   "metadata": {},
   "source": [
    "Python arrays versus `numpy` arrays as input\n",
    "\n",
    "There is a slightly subtle issue that is important to understand in the way that Table objects are created. Any data input that looks like a Python list (including a tuple) is considered to be a list of columns. In contrast an homogeneous numpy array input is interpreted as a list of rows:"
   ]
  },
  {
   "cell_type": "code",
   "execution_count": 48,
   "metadata": {
    "collapsed": false,
    "jupyter": {
     "outputs_hidden": false
    }
   },
   "outputs": [
    {
     "data": {
      "text/html": [
       "<div><i>Table length=3</i>\n",
       "<table id=\"table4943387344\" class=\"table-striped table-bordered table-condensed\">\n",
       "<thead><tr><th>col0</th><th>col1</th><th>col2</th><th>col3</th></tr></thead>\n",
       "<thead><tr><th>int64</th><th>int64</th><th>int64</th><th>int64</th></tr></thead>\n",
       "<tr><td>1</td><td>4</td><td>7</td><td>10</td></tr>\n",
       "<tr><td>2</td><td>5</td><td>8</td><td>11</td></tr>\n",
       "<tr><td>3</td><td>6</td><td>9</td><td>12</td></tr>\n",
       "</table></div>"
      ],
      "text/plain": [
       "<Table length=3>\n",
       " col0  col1  col2  col3\n",
       "int64 int64 int64 int64\n",
       "----- ----- ----- -----\n",
       "    1     4     7    10\n",
       "    2     5     8    11\n",
       "    3     6     9    12"
      ]
     },
     "execution_count": 48,
     "metadata": {},
     "output_type": "execute_result"
    }
   ],
   "source": [
    "t7 = Table(((1,2,3), (4,5,6), (7,8,9), (10,11,12))) # column by column\n",
    "t7"
   ]
  },
  {
   "cell_type": "code",
   "execution_count": 49,
   "metadata": {
    "collapsed": false,
    "jupyter": {
     "outputs_hidden": false
    }
   },
   "outputs": [
    {
     "name": "stdout",
     "output_type": "stream",
     "text": [
      "col0 col1 col2\n",
      "---- ---- ----\n",
      "   1    2    3\n",
      "   4    5    6\n",
      "   7    8    9\n",
      "  10   11   12\n"
     ]
    }
   ],
   "source": [
    "arr7 = np.array(((1,2,3), (4,5,6), (7,8,9), (10,11,12))) # Row by row\n",
    "t7 = Table(arr7)\n",
    "print(t7)"
   ]
  },
  {
   "cell_type": "code",
   "execution_count": 50,
   "metadata": {
    "collapsed": false,
    "jupyter": {
     "outputs_hidden": false
    }
   },
   "outputs": [
    {
     "name": "stdout",
     "output_type": "stream",
     "text": [
      "[(99, 2., b'x') ( 4, 5., b'y')]\n",
      " a   b   c \n",
      "--- --- ---\n",
      " 99 2.0   x\n",
      "  4 5.0   y\n"
     ]
    }
   ],
   "source": [
    "arr = np.array([(1, 2.0, 'x'),\n",
    "                (4, 5.0, 'y')],\n",
    "               dtype=[('a', 'i8'), ('b', 'f8'), ('c', 'S2')])\n",
    "t6 = Table(arr, copy=False) # pointing to the original data.\n",
    "arr['a'][0] = 99 # changing numpy array will change Table\n",
    "print(arr)\n",
    "print(t6)"
   ]
  },
  {
   "cell_type": "code",
   "execution_count": 51,
   "metadata": {
    "collapsed": false,
    "jupyter": {
     "outputs_hidden": false
    }
   },
   "outputs": [
    {
     "data": {
      "text/plain": [
       "<TableColumns names=('a','b','c')>"
      ]
     },
     "execution_count": 51,
     "metadata": {},
     "output_type": "execute_result"
    }
   ],
   "source": [
    "t6.columns"
   ]
  },
  {
   "cell_type": "code",
   "execution_count": 52,
   "metadata": {
    "collapsed": false,
    "jupyter": {
     "outputs_hidden": false
    }
   },
   "outputs": [
    {
     "data": {
      "text/plain": [
       "['a', 'b', 'c']"
      ]
     },
     "execution_count": 52,
     "metadata": {},
     "output_type": "execute_result"
    }
   ],
   "source": [
    "t6.colnames"
   ]
  },
  {
   "cell_type": "code",
   "execution_count": 53,
   "metadata": {
    "collapsed": false,
    "jupyter": {
     "outputs_hidden": false
    }
   },
   "outputs": [
    {
     "data": {
      "text/plain": [
       "array([(99, 2., b'x'), ( 4, 5., b'y')],\n",
       "      dtype=[('a', '<i8'), ('b', '<f8'), ('c', 'S2')])"
      ]
     },
     "execution_count": 53,
     "metadata": {},
     "output_type": "execute_result"
    }
   ],
   "source": [
    "# One can obtain a numpy structured array from a Table\n",
    "np.array(t6)"
   ]
  },
  {
   "cell_type": "code",
   "execution_count": 54,
   "metadata": {
    "collapsed": false,
    "jupyter": {
     "outputs_hidden": false
    }
   },
   "outputs": [
    {
     "name": "stdout",
     "output_type": "stream",
     "text": [
      "col0 col1 col2 col3 col4 col5 col6 ... col83 col84 col85 col86 col87 col88 col89\n",
      "---- ---- ---- ---- ---- ---- ---- ... ----- ----- ----- ----- ----- ----- -----\n",
      "   0    1    2    3    4    5    6 ...    83    84    85    86    87    88    89\n",
      "  90   91   92   93   94   95   96 ...   173   174   175   176   177   178   179\n",
      " 180  181  182  183  184  185  186 ...   263   264   265   266   267   268   269\n",
      " 270  271  272  273  274  275  276 ...   353   354   355   356   357   358   359\n",
      " 360  361  362  363  364  365  366 ...   443   444   445   446   447   448   449\n",
      " 450  451  452  453  454  455  456 ...   533   534   535   536   537   538   539\n",
      " 540  541  542  543  544  545  546 ...   623   624   625   626   627   628   629\n",
      " 630  631  632  633  634  635  636 ...   713   714   715   716   717   718   719\n",
      " 720  721  722  723  724  725  726 ...   803   804   805   806   807   808   809\n",
      " 810  811  812  813  814  815  816 ...   893   894   895   896   897   898   899\n",
      " ...  ...  ...  ...  ...  ...  ... ...   ...   ...   ...   ...   ...   ...   ...\n",
      "8100 8101 8102 8103 8104 8105 8106 ...  8183  8184  8185  8186  8187  8188  8189\n",
      "8190 8191 8192 8193 8194 8195 8196 ...  8273  8274  8275  8276  8277  8278  8279\n",
      "8280 8281 8282 8283 8284 8285 8286 ...  8363  8364  8365  8366  8367  8368  8369\n",
      "8370 8371 8372 8373 8374 8375 8376 ...  8453  8454  8455  8456  8457  8458  8459\n",
      "8460 8461 8462 8463 8464 8465 8466 ...  8543  8544  8545  8546  8547  8548  8549\n",
      "8550 8551 8552 8553 8554 8555 8556 ...  8633  8634  8635  8636  8637  8638  8639\n",
      "8640 8641 8642 8643 8644 8645 8646 ...  8723  8724  8725  8726  8727  8728  8729\n",
      "8730 8731 8732 8733 8734 8735 8736 ...  8813  8814  8815  8816  8817  8818  8819\n",
      "8820 8821 8822 8823 8824 8825 8826 ...  8903  8904  8905  8906  8907  8908  8909\n",
      "8910 8911 8912 8913 8914 8915 8916 ...  8993  8994  8995  8996  8997  8998  8999\n",
      "Length = 100 rows\n"
     ]
    }
   ],
   "source": [
    "arr = np.arange(9000).reshape(100, 90)  # 100 rows x 90 columns array\n",
    "t = Table(arr)\n",
    "print(t)"
   ]
  },
  {
   "cell_type": "code",
   "execution_count": 55,
   "metadata": {
    "collapsed": false,
    "jupyter": {
     "outputs_hidden": false
    }
   },
   "outputs": [
    {
     "data": {
      "text/html": [
       "<div><i>Table masked=True length=5</i>\n",
       "<table id=\"table4878473936\" class=\"table-striped table-bordered table-condensed\">\n",
       "<thead><tr><th>a</th><th>b</th><th>c</th></tr></thead>\n",
       "<thead><tr><th>int64</th><th>int64</th><th>int64</th></tr></thead>\n",
       "<tr><td>0</td><td>1</td><td>2</td></tr>\n",
       "<tr><td>3</td><td>4</td><td>5</td></tr>\n",
       "<tr><td>6</td><td>7</td><td>8</td></tr>\n",
       "<tr><td>9</td><td>10</td><td>11</td></tr>\n",
       "<tr><td>12</td><td>13</td><td>14</td></tr>\n",
       "</table></div>"
      ],
      "text/plain": [
       "<Table masked=True length=5>\n",
       "  a     b     c  \n",
       "int64 int64 int64\n",
       "----- ----- -----\n",
       "    0     1     2\n",
       "    3     4     5\n",
       "    6     7     8\n",
       "    9    10    11\n",
       "   12    13    14"
      ]
     },
     "execution_count": 55,
     "metadata": {},
     "output_type": "execute_result"
    }
   ],
   "source": [
    "# create a simple table to play with\n",
    "arr = np.arange(15).reshape(5, 3)\n",
    "t = Table(arr, names=('a', 'b', 'c'), meta={'keywords': {'key1': 'val1'}}, masked=True)\n",
    "t"
   ]
  },
  {
   "cell_type": "code",
   "execution_count": 56,
   "metadata": {
    "collapsed": false,
    "jupyter": {
     "outputs_hidden": false
    }
   },
   "outputs": [
    {
     "data": {
      "text/html": [
       "<div><i>Table masked=True length=5</i>\n",
       "<table id=\"table4878473936\" class=\"table-striped table-bordered table-condensed\">\n",
       "<thead><tr><th>a</th><th>b</th><th>c</th></tr></thead>\n",
       "<thead><tr><th>int64</th><th>int64</th><th>int64</th></tr></thead>\n",
       "<tr><td>1</td><td>1</td><td>2</td></tr>\n",
       "<tr><td>-2</td><td>4</td><td>5</td></tr>\n",
       "<tr><td>3</td><td>7</td><td>8</td></tr>\n",
       "<tr><td>-4</td><td>10</td><td>11</td></tr>\n",
       "<tr><td>7</td><td>13</td><td>14</td></tr>\n",
       "</table></div>"
      ],
      "text/plain": [
       "<Table masked=True length=5>\n",
       "  a     b     c  \n",
       "int64 int64 int64\n",
       "----- ----- -----\n",
       "    1     1     2\n",
       "   -2     4     5\n",
       "    3     7     8\n",
       "   -4    10    11\n",
       "    7    13    14"
      ]
     },
     "execution_count": 56,
     "metadata": {},
     "output_type": "execute_result"
    }
   ],
   "source": [
    "t['a'] = [1, -2, 3, -4, 7]  # Set all\n",
    "t"
   ]
  },
  {
   "cell_type": "code",
   "execution_count": 57,
   "metadata": {
    "collapsed": false,
    "jupyter": {
     "outputs_hidden": false
    }
   },
   "outputs": [
    {
     "data": {
      "text/html": [
       "<div><i>Table masked=True length=5</i>\n",
       "<table id=\"table4878473936\" class=\"table-striped table-bordered table-condensed\">\n",
       "<thead><tr><th>a</th><th>b</th><th>c</th></tr></thead>\n",
       "<thead><tr><th>int64</th><th>int64</th><th>int64</th></tr></thead>\n",
       "<tr><td>1</td><td>1</td><td>2</td></tr>\n",
       "<tr><td>-2</td><td>4</td><td>5</td></tr>\n",
       "<tr><td>30</td><td>7</td><td>8</td></tr>\n",
       "<tr><td>-4</td><td>10</td><td>11</td></tr>\n",
       "<tr><td>7</td><td>13</td><td>14</td></tr>\n",
       "</table></div>"
      ],
      "text/plain": [
       "<Table masked=True length=5>\n",
       "  a     b     c  \n",
       "int64 int64 int64\n",
       "----- ----- -----\n",
       "    1     1     2\n",
       "   -2     4     5\n",
       "   30     7     8\n",
       "   -4    10    11\n",
       "    7    13    14"
      ]
     },
     "execution_count": 57,
     "metadata": {},
     "output_type": "execute_result"
    }
   ],
   "source": [
    "t['a'][2] = 30 # set one\n",
    "t"
   ]
  },
  {
   "cell_type": "code",
   "execution_count": 58,
   "metadata": {
    "collapsed": false,
    "jupyter": {
     "outputs_hidden": false
    }
   },
   "outputs": [
    {
     "data": {
      "text/html": [
       "<div><i>Table masked=True length=5</i>\n",
       "<table id=\"table4878473936\" class=\"table-striped table-bordered table-condensed\">\n",
       "<thead><tr><th>a</th><th>b</th><th>c</th></tr></thead>\n",
       "<thead><tr><th>int64</th><th>int64</th><th>int64</th></tr></thead>\n",
       "<tr><td>1</td><td>1</td><td>2</td></tr>\n",
       "<tr><td>8</td><td>9</td><td>10</td></tr>\n",
       "<tr><td>30</td><td>7</td><td>8</td></tr>\n",
       "<tr><td>-4</td><td>10</td><td>11</td></tr>\n",
       "<tr><td>7</td><td>13</td><td>14</td></tr>\n",
       "</table></div>"
      ],
      "text/plain": [
       "<Table masked=True length=5>\n",
       "  a     b     c  \n",
       "int64 int64 int64\n",
       "----- ----- -----\n",
       "    1     1     2\n",
       "    8     9    10\n",
       "   30     7     8\n",
       "   -4    10    11\n",
       "    7    13    14"
      ]
     },
     "execution_count": 58,
     "metadata": {},
     "output_type": "execute_result"
    }
   ],
   "source": [
    "# set one row\n",
    "t[1] = (8, 9, 10)\n",
    "t"
   ]
  },
  {
   "cell_type": "code",
   "execution_count": 59,
   "metadata": {
    "collapsed": false,
    "jupyter": {
     "outputs_hidden": false
    }
   },
   "outputs": [
    {
     "data": {
      "text/html": [
       "<div><i>Table masked=True length=5</i>\n",
       "<table id=\"table4878473936\" class=\"table-striped table-bordered table-condensed\">\n",
       "<thead><tr><th>a</th><th>b</th><th>c</th></tr></thead>\n",
       "<thead><tr><th>int64</th><th>int64</th><th>int64</th></tr></thead>\n",
       "<tr><td>99</td><td>1</td><td>2</td></tr>\n",
       "<tr><td>99</td><td>9</td><td>10</td></tr>\n",
       "<tr><td>99</td><td>7</td><td>8</td></tr>\n",
       "<tr><td>99</td><td>10</td><td>11</td></tr>\n",
       "<tr><td>99</td><td>13</td><td>14</td></tr>\n",
       "</table></div>"
      ],
      "text/plain": [
       "<Table masked=True length=5>\n",
       "  a     b     c  \n",
       "int64 int64 int64\n",
       "----- ----- -----\n",
       "   99     1     2\n",
       "   99     9    10\n",
       "   99     7     8\n",
       "   99    10    11\n",
       "   99    13    14"
      ]
     },
     "execution_count": 59,
     "metadata": {},
     "output_type": "execute_result"
    }
   ],
   "source": [
    "# Set a whole column\n",
    "t['a'] = 99\n",
    "t"
   ]
  },
  {
   "cell_type": "code",
   "execution_count": 60,
   "metadata": {
    "collapsed": false,
    "jupyter": {
     "outputs_hidden": false
    }
   },
   "outputs": [
    {
     "data": {
      "text/html": [
       "<div><i>Table masked=True length=5</i>\n",
       "<table id=\"table4878473936\" class=\"table-striped table-bordered table-condensed\">\n",
       "<thead><tr><th>a</th><th>b</th><th>c</th><th>d</th></tr></thead>\n",
       "<thead><tr><th>int64</th><th>int64</th><th>int64</th><th>int64</th></tr></thead>\n",
       "<tr><td>99</td><td>1</td><td>2</td><td>1</td></tr>\n",
       "<tr><td>99</td><td>9</td><td>10</td><td>2</td></tr>\n",
       "<tr><td>99</td><td>7</td><td>8</td><td>3</td></tr>\n",
       "<tr><td>99</td><td>10</td><td>11</td><td>4</td></tr>\n",
       "<tr><td>99</td><td>13</td><td>14</td><td>5</td></tr>\n",
       "</table></div>"
      ],
      "text/plain": [
       "<Table masked=True length=5>\n",
       "  a     b     c     d  \n",
       "int64 int64 int64 int64\n",
       "----- ----- ----- -----\n",
       "   99     1     2     1\n",
       "   99     9    10     2\n",
       "   99     7     8     3\n",
       "   99    10    11     4\n",
       "   99    13    14     5"
      ]
     },
     "execution_count": 60,
     "metadata": {},
     "output_type": "execute_result"
    }
   ],
   "source": [
    "# Add a column\n",
    "t.add_column(Column(np.array([1,2,3,4,5]), name='d'))\n",
    "t"
   ]
  },
  {
   "cell_type": "code",
   "execution_count": 61,
   "metadata": {
    "collapsed": false,
    "jupyter": {
     "outputs_hidden": false
    }
   },
   "outputs": [
    {
     "data": {
      "text/html": [
       "<div><i>Table masked=True length=5</i>\n",
       "<table id=\"table4878473936\" class=\"table-striped table-bordered table-condensed\">\n",
       "<thead><tr><th>a</th><th>c</th><th>d</th></tr></thead>\n",
       "<thead><tr><th>int64</th><th>int64</th><th>int64</th></tr></thead>\n",
       "<tr><td>99</td><td>2</td><td>1</td></tr>\n",
       "<tr><td>99</td><td>10</td><td>2</td></tr>\n",
       "<tr><td>99</td><td>8</td><td>3</td></tr>\n",
       "<tr><td>99</td><td>11</td><td>4</td></tr>\n",
       "<tr><td>99</td><td>14</td><td>5</td></tr>\n",
       "</table></div>"
      ],
      "text/plain": [
       "<Table masked=True length=5>\n",
       "  a     c     d  \n",
       "int64 int64 int64\n",
       "----- ----- -----\n",
       "   99     2     1\n",
       "   99    10     2\n",
       "   99     8     3\n",
       "   99    11     4\n",
       "   99    14     5"
      ]
     },
     "execution_count": 61,
     "metadata": {},
     "output_type": "execute_result"
    }
   ],
   "source": [
    "# remove a column\n",
    "t.remove_column('b')\n",
    "t"
   ]
  },
  {
   "cell_type": "code",
   "execution_count": 62,
   "metadata": {
    "collapsed": false,
    "jupyter": {
     "outputs_hidden": false
    }
   },
   "outputs": [
    {
     "data": {
      "text/html": [
       "<div><i>Table masked=True length=6</i>\n",
       "<table id=\"table4878473936\" class=\"table-striped table-bordered table-condensed\">\n",
       "<thead><tr><th>a</th><th>c</th><th>d</th></tr></thead>\n",
       "<thead><tr><th>int64</th><th>int64</th><th>int64</th></tr></thead>\n",
       "<tr><td>99</td><td>2</td><td>1</td></tr>\n",
       "<tr><td>99</td><td>10</td><td>2</td></tr>\n",
       "<tr><td>99</td><td>8</td><td>3</td></tr>\n",
       "<tr><td>99</td><td>11</td><td>4</td></tr>\n",
       "<tr><td>99</td><td>14</td><td>5</td></tr>\n",
       "<tr><td>-8</td><td>-9</td><td>10</td></tr>\n",
       "</table></div>"
      ],
      "text/plain": [
       "<Table masked=True length=6>\n",
       "  a     c     d  \n",
       "int64 int64 int64\n",
       "----- ----- -----\n",
       "   99     2     1\n",
       "   99    10     2\n",
       "   99     8     3\n",
       "   99    11     4\n",
       "   99    14     5\n",
       "   -8    -9    10"
      ]
     },
     "execution_count": 62,
     "metadata": {},
     "output_type": "execute_result"
    }
   ],
   "source": [
    "# add a row\n",
    "t.add_row([-8, -9, 10])\n",
    "t"
   ]
  },
  {
   "cell_type": "code",
   "execution_count": 63,
   "metadata": {
    "collapsed": false,
    "jupyter": {
     "outputs_hidden": false
    }
   },
   "outputs": [
    {
     "data": {
      "text/html": [
       "<div><i>Table masked=True length=4</i>\n",
       "<table id=\"table4878473936\" class=\"table-striped table-bordered table-condensed\">\n",
       "<thead><tr><th>a</th><th>c</th><th>d</th></tr></thead>\n",
       "<thead><tr><th>int64</th><th>int64</th><th>int64</th></tr></thead>\n",
       "<tr><td>99</td><td>2</td><td>1</td></tr>\n",
       "<tr><td>99</td><td>11</td><td>4</td></tr>\n",
       "<tr><td>99</td><td>14</td><td>5</td></tr>\n",
       "<tr><td>-8</td><td>-9</td><td>10</td></tr>\n",
       "</table></div>"
      ],
      "text/plain": [
       "<Table masked=True length=4>\n",
       "  a     c     d  \n",
       "int64 int64 int64\n",
       "----- ----- -----\n",
       "   99     2     1\n",
       "   99    11     4\n",
       "   99    14     5\n",
       "   -8    -9    10"
      ]
     },
     "execution_count": 63,
     "metadata": {},
     "output_type": "execute_result"
    }
   ],
   "source": [
    "# Remove some rows\n",
    "t.remove_rows([1, 2])\n",
    "t"
   ]
  },
  {
   "cell_type": "code",
   "execution_count": 64,
   "metadata": {
    "collapsed": false,
    "jupyter": {
     "outputs_hidden": false
    }
   },
   "outputs": [
    {
     "data": {
      "text/html": [
       "<div><i>Table masked=True length=4</i>\n",
       "<table id=\"table4878473936\" class=\"table-striped table-bordered table-condensed\">\n",
       "<thead><tr><th>a</th><th>c</th><th>d</th></tr></thead>\n",
       "<thead><tr><th>int64</th><th>int64</th><th>int64</th></tr></thead>\n",
       "<tr><td>-8</td><td>-9</td><td>10</td></tr>\n",
       "<tr><td>99</td><td>2</td><td>1</td></tr>\n",
       "<tr><td>99</td><td>11</td><td>4</td></tr>\n",
       "<tr><td>99</td><td>14</td><td>5</td></tr>\n",
       "</table></div>"
      ],
      "text/plain": [
       "<Table masked=True length=4>\n",
       "  a     c     d  \n",
       "int64 int64 int64\n",
       "----- ----- -----\n",
       "   -8    -9    10\n",
       "   99     2     1\n",
       "   99    11     4\n",
       "   99    14     5"
      ]
     },
     "execution_count": 64,
     "metadata": {},
     "output_type": "execute_result"
    }
   ],
   "source": [
    "# sort the Table using one column\n",
    "t.sort('c')\n",
    "t"
   ]
  },
  {
   "cell_type": "code",
   "execution_count": 65,
   "metadata": {
    "collapsed": false,
    "jupyter": {
     "outputs_hidden": false
    }
   },
   "outputs": [
    {
     "name": "stdout",
     "output_type": "stream",
     "text": [
      "[False False  True  True]\n"
     ]
    }
   ],
   "source": [
    "filter = (t['a'] > 50) & (t['d'] > 3)\n",
    "print(filter)"
   ]
  },
  {
   "cell_type": "code",
   "execution_count": 66,
   "metadata": {
    "collapsed": false,
    "jupyter": {
     "outputs_hidden": false
    }
   },
   "outputs": [
    {
     "data": {
      "text/html": [
       "<div><i>Table masked=True length=2</i>\n",
       "<table id=\"table4943228624\" class=\"table-striped table-bordered table-condensed\">\n",
       "<thead><tr><th>a</th><th>c</th><th>d</th></tr></thead>\n",
       "<thead><tr><th>int64</th><th>int64</th><th>int64</th></tr></thead>\n",
       "<tr><td>99</td><td>11</td><td>4</td></tr>\n",
       "<tr><td>99</td><td>14</td><td>5</td></tr>\n",
       "</table></div>"
      ],
      "text/plain": [
       "<Table masked=True length=2>\n",
       "  a     c     d  \n",
       "int64 int64 int64\n",
       "----- ----- -----\n",
       "   99    11     4\n",
       "   99    14     5"
      ]
     },
     "execution_count": 66,
     "metadata": {},
     "output_type": "execute_result"
    }
   ],
   "source": [
    "t[filter]"
   ]
  },
  {
   "cell_type": "code",
   "execution_count": 67,
   "metadata": {},
   "outputs": [
    {
     "data": {
      "text/html": [
       "<div><i>Table masked=True length=4</i>\n",
       "<table id=\"table4878473936\" class=\"table-striped table-bordered table-condensed\">\n",
       "<thead><tr><th>a</th><th>c</th><th>d</th></tr></thead>\n",
       "<thead><tr><th>int64</th><th>int64</th><th>int64</th></tr></thead>\n",
       "<tr><td>--</td><td>-9</td><td>10</td></tr>\n",
       "<tr><td>99</td><td>2</td><td>--</td></tr>\n",
       "<tr><td>99</td><td>11</td><td>4</td></tr>\n",
       "<tr><td>99</td><td>14</td><td>5</td></tr>\n",
       "</table></div>"
      ],
      "text/plain": [
       "<Table masked=True length=4>\n",
       "  a     c     d  \n",
       "int64 int64 int64\n",
       "----- ----- -----\n",
       "   --    -9    10\n",
       "   99     2    --\n",
       "   99    11     4\n",
       "   99    14     5"
      ]
     },
     "execution_count": 67,
     "metadata": {},
     "output_type": "execute_result"
    }
   ],
   "source": [
    "t['a'].mask = ~(t['a'] > 50) # mask is False where the condition is False\n",
    "t['d'].mask = ~(t['d'] > 3)\n",
    "t"
   ]
  },
  {
   "cell_type": "code",
   "execution_count": 68,
   "metadata": {
    "collapsed": false,
    "jupyter": {
     "outputs_hidden": false
    }
   },
   "outputs": [
    {
     "name": "stdout",
     "output_type": "stream",
     "text": [
      "Overwriting tab1.dat\n"
     ]
    }
   ],
   "source": [
    "%%writefile tab1.dat\n",
    "#name    obs_date    mag_b  mag_v\n",
    "M31     2012-01-02  17.0   17.5\n",
    "M31     2012-01-02  17.1   17.4\n",
    "M101    2012-01-02  15.1   13.5\n",
    "M82     2012-02-14  16.2   14.5\n",
    "M31     2012-02-14  16.9   17.3\n",
    "M82     2012-02-14  15.2   15.5\n",
    "M101    2012-02-14  15.0   13.6\n",
    "M82     2012-03-26  15.7   16.5\n",
    "M101    2012-03-26  15.1   13.5\n",
    "M101    2012-03-26  14.8   14.3"
   ]
  },
  {
   "cell_type": "code",
   "execution_count": 69,
   "metadata": {
    "collapsed": false,
    "jupyter": {
     "outputs_hidden": false
    }
   },
   "outputs": [],
   "source": [
    "# directly read a Table from an ascii file\n",
    "obs = Table.read('tab1.dat', format='ascii')"
   ]
  },
  {
   "cell_type": "code",
   "execution_count": 70,
   "metadata": {
    "collapsed": false,
    "jupyter": {
     "outputs_hidden": false
    }
   },
   "outputs": [
    {
     "data": {
      "text/html": [
       "<div><i>Table length=10</i>\n",
       "<table id=\"table4944520464\" class=\"table-striped table-bordered table-condensed\">\n",
       "<thead><tr><th>name</th><th>obs_date</th><th>mag_b</th><th>mag_v</th></tr></thead>\n",
       "<thead><tr><th>str4</th><th>str10</th><th>float64</th><th>float64</th></tr></thead>\n",
       "<tr><td>M31</td><td>2012-01-02</td><td>17.0</td><td>17.5</td></tr>\n",
       "<tr><td>M31</td><td>2012-01-02</td><td>17.1</td><td>17.4</td></tr>\n",
       "<tr><td>M101</td><td>2012-01-02</td><td>15.1</td><td>13.5</td></tr>\n",
       "<tr><td>M82</td><td>2012-02-14</td><td>16.2</td><td>14.5</td></tr>\n",
       "<tr><td>M31</td><td>2012-02-14</td><td>16.9</td><td>17.3</td></tr>\n",
       "<tr><td>M82</td><td>2012-02-14</td><td>15.2</td><td>15.5</td></tr>\n",
       "<tr><td>M101</td><td>2012-02-14</td><td>15.0</td><td>13.6</td></tr>\n",
       "<tr><td>M82</td><td>2012-03-26</td><td>15.7</td><td>16.5</td></tr>\n",
       "<tr><td>M101</td><td>2012-03-26</td><td>15.1</td><td>13.5</td></tr>\n",
       "<tr><td>M101</td><td>2012-03-26</td><td>14.8</td><td>14.3</td></tr>\n",
       "</table></div>"
      ],
      "text/plain": [
       "<Table length=10>\n",
       "name  obs_date   mag_b   mag_v \n",
       "str4   str10    float64 float64\n",
       "---- ---------- ------- -------\n",
       " M31 2012-01-02    17.0    17.5\n",
       " M31 2012-01-02    17.1    17.4\n",
       "M101 2012-01-02    15.1    13.5\n",
       " M82 2012-02-14    16.2    14.5\n",
       " M31 2012-02-14    16.9    17.3\n",
       " M82 2012-02-14    15.2    15.5\n",
       "M101 2012-02-14    15.0    13.6\n",
       " M82 2012-03-26    15.7    16.5\n",
       "M101 2012-03-26    15.1    13.5\n",
       "M101 2012-03-26    14.8    14.3"
      ]
     },
     "execution_count": 70,
     "metadata": {},
     "output_type": "execute_result"
    }
   ],
   "source": [
    "obs"
   ]
  },
  {
   "cell_type": "code",
   "execution_count": 71,
   "metadata": {
    "collapsed": false,
    "jupyter": {
     "outputs_hidden": false
    }
   },
   "outputs": [
    {
     "data": {
      "text/html": [
       "<div><i>Table length=10</i>\n",
       "<table id=\"table4944364880\" class=\"table-striped table-bordered table-condensed\">\n",
       "<thead><tr><th>name</th><th>obs_date</th><th>mag_b</th><th>mag_v</th></tr></thead>\n",
       "<thead><tr><th>str4</th><th>str10</th><th>float64</th><th>float64</th></tr></thead>\n",
       "<tr><td>M101</td><td>2012-01-02</td><td>15.1</td><td>13.5</td></tr>\n",
       "<tr><td>M101</td><td>2012-02-14</td><td>15.0</td><td>13.6</td></tr>\n",
       "<tr><td>M101</td><td>2012-03-26</td><td>15.1</td><td>13.5</td></tr>\n",
       "<tr><td>M101</td><td>2012-03-26</td><td>14.8</td><td>14.3</td></tr>\n",
       "<tr><td>M31</td><td>2012-01-02</td><td>17.0</td><td>17.5</td></tr>\n",
       "<tr><td>M31</td><td>2012-01-02</td><td>17.1</td><td>17.4</td></tr>\n",
       "<tr><td>M31</td><td>2012-02-14</td><td>16.9</td><td>17.3</td></tr>\n",
       "<tr><td>M82</td><td>2012-02-14</td><td>16.2</td><td>14.5</td></tr>\n",
       "<tr><td>M82</td><td>2012-02-14</td><td>15.2</td><td>15.5</td></tr>\n",
       "<tr><td>M82</td><td>2012-03-26</td><td>15.7</td><td>16.5</td></tr>\n",
       "</table></div>"
      ],
      "text/plain": [
       "<Table length=10>\n",
       "name  obs_date   mag_b   mag_v \n",
       "str4   str10    float64 float64\n",
       "---- ---------- ------- -------\n",
       "M101 2012-01-02    15.1    13.5\n",
       "M101 2012-02-14    15.0    13.6\n",
       "M101 2012-03-26    15.1    13.5\n",
       "M101 2012-03-26    14.8    14.3\n",
       " M31 2012-01-02    17.0    17.5\n",
       " M31 2012-01-02    17.1    17.4\n",
       " M31 2012-02-14    16.9    17.3\n",
       " M82 2012-02-14    16.2    14.5\n",
       " M82 2012-02-14    15.2    15.5\n",
       " M82 2012-03-26    15.7    16.5"
      ]
     },
     "execution_count": 71,
     "metadata": {},
     "output_type": "execute_result"
    }
   ],
   "source": [
    "# Group data\n",
    "obs_by_name = obs.group_by('name')\n",
    "obs_by_name"
   ]
  },
  {
   "cell_type": "code",
   "execution_count": 72,
   "metadata": {
    "collapsed": false,
    "jupyter": {
     "outputs_hidden": false
    }
   },
   "outputs": [
    {
     "name": "stdout",
     "output_type": "stream",
     "text": [
      "name\n",
      "----\n",
      "M101\n",
      " M31\n",
      " M82\n"
     ]
    }
   ],
   "source": [
    "print(obs_by_name.groups.keys)"
   ]
  },
  {
   "cell_type": "code",
   "execution_count": 73,
   "metadata": {
    "collapsed": false,
    "jupyter": {
     "outputs_hidden": false
    }
   },
   "outputs": [
    {
     "name": "stdout",
     "output_type": "stream",
     "text": [
      "name  obs_date \n",
      "---- ----------\n",
      "M101 2012-01-02\n",
      "M101 2012-02-14\n",
      "M101 2012-03-26\n",
      " M31 2012-01-02\n",
      " M31 2012-02-14\n",
      " M82 2012-02-14\n",
      " M82 2012-03-26\n"
     ]
    }
   ],
   "source": [
    "# Using 2 keys to group\n",
    "print(obs.group_by(['name', 'obs_date']).groups.keys)"
   ]
  },
  {
   "cell_type": "code",
   "execution_count": 74,
   "metadata": {
    "collapsed": false,
    "jupyter": {
     "outputs_hidden": false
    }
   },
   "outputs": [
    {
     "name": "stdout",
     "output_type": "stream",
     "text": [
      "name  obs_date  mag_b mag_v\n",
      "---- ---------- ----- -----\n",
      " M31 2012-01-02  17.0  17.5\n",
      " M31 2012-01-02  17.1  17.4\n",
      " M31 2012-02-14  16.9  17.3\n"
     ]
    }
   ],
   "source": [
    "# Extracting a group\n",
    "print(obs_by_name.groups[1])"
   ]
  },
  {
   "cell_type": "code",
   "execution_count": 75,
   "metadata": {
    "collapsed": false,
    "jupyter": {
     "outputs_hidden": false
    }
   },
   "outputs": [
    {
     "name": "stdout",
     "output_type": "stream",
     "text": [
      "[ True False False]\n",
      "name  obs_date  mag_b mag_v\n",
      "---- ---------- ----- -----\n",
      "M101 2012-01-02  15.1  13.5\n",
      "M101 2012-02-14  15.0  13.6\n",
      "M101 2012-03-26  15.1  13.5\n",
      "M101 2012-03-26  14.8  14.3\n"
     ]
    }
   ],
   "source": [
    "# Using a mask to select entries\n",
    "mask = obs_by_name.groups.keys['name'] == 'M101'\n",
    "print(mask)\n",
    "print(obs_by_name.groups[mask])"
   ]
  },
  {
   "cell_type": "code",
   "execution_count": 76,
   "metadata": {
    "collapsed": false,
    "jupyter": {
     "outputs_hidden": false
    }
   },
   "outputs": [
    {
     "name": "stdout",
     "output_type": "stream",
     "text": [
      "name       mag_b              mag_v       \n",
      "---- ------------------ ------------------\n",
      "M101 15.000000000000002 13.725000000000001\n",
      " M31               17.0 17.400000000000002\n",
      " M82 15.699999999999998               15.5\n"
     ]
    },
    {
     "name": "stderr",
     "output_type": "stream",
     "text": [
      "WARNING: Cannot aggregate column 'obs_date' with type '<U10': the resolved dtypes are not compatible with add.reduceat. Resolved (dtype('<U10'), dtype('<U10'), dtype('<U20')) [astropy.table.groups]\n"
     ]
    }
   ],
   "source": [
    "# Some functions can be applied to the elements of a group\n",
    "obs_mean = obs_by_name.groups.aggregate(np.mean) \n",
    "print(obs_mean)"
   ]
  },
  {
   "cell_type": "code",
   "execution_count": 77,
   "metadata": {
    "collapsed": false,
    "jupyter": {
     "outputs_hidden": false
    }
   },
   "outputs": [
    {
     "name": "stdout",
     "output_type": "stream",
     "text": [
      "name       mag_v              mag_b       \n",
      "---- ------------------ ------------------\n",
      "M101 13.725000000000001 15.000000000000002\n",
      " M31 17.400000000000002               17.0\n",
      " M82               15.5 15.699999999999998\n"
     ]
    }
   ],
   "source": [
    "print(obs_by_name['name', 'mag_v', 'mag_b'].groups.aggregate(np.mean))"
   ]
  },
  {
   "cell_type": "code",
   "execution_count": 78,
   "metadata": {
    "collapsed": false,
    "jupyter": {
     "outputs_hidden": false
    }
   },
   "outputs": [],
   "source": [
    "# creat a new Table on the fly\n",
    "obs1 = Table.read(\"\"\"name    obs_date    mag_b  logLx\n",
    "M31     2012-01-02  17.0   42.5\n",
    "M82     2012-10-29  16.2   43.5\n",
    "M101    2012-10-31  15.1   44.5\"\"\", format='ascii')"
   ]
  },
  {
   "cell_type": "code",
   "execution_count": 79,
   "metadata": {
    "collapsed": false,
    "jupyter": {
     "outputs_hidden": false
    }
   },
   "outputs": [],
   "source": [
    "# this is used to stack Tables\n",
    "from astropy.table import vstack"
   ]
  },
  {
   "cell_type": "code",
   "execution_count": 80,
   "metadata": {
    "collapsed": false,
    "jupyter": {
     "outputs_hidden": false
    }
   },
   "outputs": [
    {
     "data": {
      "text/html": [
       "<div><i>Table length=13</i>\n",
       "<table id=\"table4944383888\" class=\"table-striped table-bordered table-condensed\">\n",
       "<thead><tr><th>name</th><th>obs_date</th><th>mag_b</th><th>mag_v</th><th>logLx</th></tr></thead>\n",
       "<thead><tr><th>str4</th><th>str10</th><th>float64</th><th>float64</th><th>float64</th></tr></thead>\n",
       "<tr><td>M31</td><td>2012-01-02</td><td>17.0</td><td>17.5</td><td>--</td></tr>\n",
       "<tr><td>M31</td><td>2012-01-02</td><td>17.1</td><td>17.4</td><td>--</td></tr>\n",
       "<tr><td>M101</td><td>2012-01-02</td><td>15.1</td><td>13.5</td><td>--</td></tr>\n",
       "<tr><td>M82</td><td>2012-02-14</td><td>16.2</td><td>14.5</td><td>--</td></tr>\n",
       "<tr><td>M31</td><td>2012-02-14</td><td>16.9</td><td>17.3</td><td>--</td></tr>\n",
       "<tr><td>M82</td><td>2012-02-14</td><td>15.2</td><td>15.5</td><td>--</td></tr>\n",
       "<tr><td>M101</td><td>2012-02-14</td><td>15.0</td><td>13.6</td><td>--</td></tr>\n",
       "<tr><td>M82</td><td>2012-03-26</td><td>15.7</td><td>16.5</td><td>--</td></tr>\n",
       "<tr><td>M101</td><td>2012-03-26</td><td>15.1</td><td>13.5</td><td>--</td></tr>\n",
       "<tr><td>M101</td><td>2012-03-26</td><td>14.8</td><td>14.3</td><td>--</td></tr>\n",
       "<tr><td>M31</td><td>2012-01-02</td><td>17.0</td><td>--</td><td>42.5</td></tr>\n",
       "<tr><td>M82</td><td>2012-10-29</td><td>16.2</td><td>--</td><td>43.5</td></tr>\n",
       "<tr><td>M101</td><td>2012-10-31</td><td>15.1</td><td>--</td><td>44.5</td></tr>\n",
       "</table></div>"
      ],
      "text/plain": [
       "<Table length=13>\n",
       "name  obs_date   mag_b   mag_v   logLx \n",
       "str4   str10    float64 float64 float64\n",
       "---- ---------- ------- ------- -------\n",
       " M31 2012-01-02    17.0    17.5      --\n",
       " M31 2012-01-02    17.1    17.4      --\n",
       "M101 2012-01-02    15.1    13.5      --\n",
       " M82 2012-02-14    16.2    14.5      --\n",
       " M31 2012-02-14    16.9    17.3      --\n",
       " M82 2012-02-14    15.2    15.5      --\n",
       "M101 2012-02-14    15.0    13.6      --\n",
       " M82 2012-03-26    15.7    16.5      --\n",
       "M101 2012-03-26    15.1    13.5      --\n",
       "M101 2012-03-26    14.8    14.3      --\n",
       " M31 2012-01-02    17.0      --    42.5\n",
       " M82 2012-10-29    16.2      --    43.5\n",
       "M101 2012-10-31    15.1      --    44.5"
      ]
     },
     "execution_count": 80,
     "metadata": {},
     "output_type": "execute_result"
    }
   ],
   "source": [
    "tvs = vstack([obs, obs1])\n",
    "tvs"
   ]
  },
  {
   "cell_type": "code",
   "execution_count": 81,
   "metadata": {
    "collapsed": false,
    "jupyter": {
     "outputs_hidden": false
    }
   },
   "outputs": [
    {
     "name": "stdout",
     "output_type": "stream",
     "text": [
      "Overwriting data6.dat\n"
     ]
    }
   ],
   "source": [
    "%%writefile data6.dat\n",
    "Line        Iobs     lambda  rel_er   Obs_code\n",
    "H  1  4861A 1.00000    4861. 0.08000  Anabel                               \n",
    "H  1  6563A 2.8667     6563. 0.19467  Anabel                               \n",
    "H  1  4340A 0.4933     4340. 0.03307  Anabel                               \n",
    "H  1  4102A 0.2907     4102. 0.02229  Anabel                               \n",
    "H  1  3970A 0.1800     3970. 0.01253  Anabel                               \n",
    "N  2  6584A 2.1681     6584. 0.08686  Anabel                               \n",
    "N  2 121.7m 0.0044621217000. 0.20000  Liu                                  \n",
    "O  1  6300A 0.0147     6300. 0.00325  Anabel                               \n",
    "TOTL  2326A 0.07900    2326. 0.20000  Adams                                \n",
    "C  2 157.6m 0.00856 1576000. 0.20000  Liu                                  \n",
    "O  1 63.17m 0.13647  631700. 0.10000  Liu                                  \n",
    "O  1 145.5m 0.00446 1455000. 0.200    Liu                                  \n",
    "TOTL  3727A 0.77609    3727. 0.200    Torres-Peimbert                      \n",
    "S II  4070A 0.06174    4070. 0.200    Torres-Peimbert                      \n",
    "S II  4078A 0.06174    4078. 0.200    Torres-Peimbert                      "
   ]
  },
  {
   "cell_type": "code",
   "execution_count": 82,
   "metadata": {
    "collapsed": false,
    "jupyter": {
     "outputs_hidden": false
    }
   },
   "outputs": [
    {
     "data": {
      "text/html": [
       "<div><i>Table length=15</i>\n",
       "<table id=\"table4943931536\" class=\"table-striped table-bordered table-condensed\">\n",
       "<thead><tr><th>Line</th><th>Iobs</th><th>lambda</th><th>rel_er</th><th>Obs_code</th></tr></thead>\n",
       "<thead><tr><th>str11</th><th>float64</th><th>float64</th><th>float64</th><th>str15</th></tr></thead>\n",
       "<tr><td>H  1  4861A</td><td>1.0</td><td>4861.0</td><td>0.08</td><td>Anabel</td></tr>\n",
       "<tr><td>H  1  6563A</td><td>2.8667</td><td>6563.0</td><td>0.19467</td><td>Anabel</td></tr>\n",
       "<tr><td>H  1  4340A</td><td>0.4933</td><td>4340.0</td><td>0.03307</td><td>Anabel</td></tr>\n",
       "<tr><td>H  1  4102A</td><td>0.2907</td><td>4102.0</td><td>0.02229</td><td>Anabel</td></tr>\n",
       "<tr><td>H  1  3970A</td><td>0.18</td><td>3970.0</td><td>0.01253</td><td>Anabel</td></tr>\n",
       "<tr><td>N  2  6584A</td><td>2.1681</td><td>6584.0</td><td>0.08686</td><td>Anabel</td></tr>\n",
       "<tr><td>N  2 121.7m</td><td>0.004462</td><td>1217000.0</td><td>0.2</td><td>Liu</td></tr>\n",
       "<tr><td>O  1  6300A</td><td>0.0147</td><td>6300.0</td><td>0.00325</td><td>Anabel</td></tr>\n",
       "<tr><td>TOTL  2326A</td><td>0.079</td><td>2326.0</td><td>0.2</td><td>Adams</td></tr>\n",
       "<tr><td>C  2 157.6m</td><td>0.00856</td><td>1576000.0</td><td>0.2</td><td>Liu</td></tr>\n",
       "<tr><td>O  1 63.17m</td><td>0.13647</td><td>631700.0</td><td>0.1</td><td>Liu</td></tr>\n",
       "<tr><td>O  1 145.5m</td><td>0.00446</td><td>1455000.0</td><td>0.2</td><td>Liu</td></tr>\n",
       "<tr><td>TOTL  3727A</td><td>0.77609</td><td>3727.0</td><td>0.2</td><td>Torres-Peimbert</td></tr>\n",
       "<tr><td>S II  4070A</td><td>0.06174</td><td>4070.0</td><td>0.2</td><td>Torres-Peimbert</td></tr>\n",
       "<tr><td>S II  4078A</td><td>0.06174</td><td>4078.0</td><td>0.2</td><td>Torres-Peimbert</td></tr>\n",
       "</table></div>"
      ],
      "text/plain": [
       "<Table length=15>\n",
       "    Line      Iobs     lambda   rel_er     Obs_code   \n",
       "   str11    float64   float64  float64      str15     \n",
       "----------- -------- --------- ------- ---------------\n",
       "H  1  4861A      1.0    4861.0    0.08          Anabel\n",
       "H  1  6563A   2.8667    6563.0 0.19467          Anabel\n",
       "H  1  4340A   0.4933    4340.0 0.03307          Anabel\n",
       "H  1  4102A   0.2907    4102.0 0.02229          Anabel\n",
       "H  1  3970A     0.18    3970.0 0.01253          Anabel\n",
       "N  2  6584A   2.1681    6584.0 0.08686          Anabel\n",
       "N  2 121.7m 0.004462 1217000.0     0.2             Liu\n",
       "O  1  6300A   0.0147    6300.0 0.00325          Anabel\n",
       "TOTL  2326A    0.079    2326.0     0.2           Adams\n",
       "C  2 157.6m  0.00856 1576000.0     0.2             Liu\n",
       "O  1 63.17m  0.13647  631700.0     0.1             Liu\n",
       "O  1 145.5m  0.00446 1455000.0     0.2             Liu\n",
       "TOTL  3727A  0.77609    3727.0     0.2 Torres-Peimbert\n",
       "S II  4070A  0.06174    4070.0     0.2 Torres-Peimbert\n",
       "S II  4078A  0.06174    4078.0     0.2 Torres-Peimbert"
      ]
     },
     "execution_count": 82,
     "metadata": {},
     "output_type": "execute_result"
    }
   ],
   "source": [
    "d = Table.read('data6.dat', format='ascii.fixed_width', \n",
    "               col_starts=(0, 12, 20, 29, 38))\n",
    "d"
   ]
  },
  {
   "cell_type": "code",
   "execution_count": 83,
   "metadata": {
    "collapsed": false,
    "jupyter": {
     "outputs_hidden": false
    }
   },
   "outputs": [
    {
     "data": {
      "text/html": [
       "<div><i>Table length=15</i>\n",
       "<table id=\"table4943233872\" class=\"table-striped table-bordered table-condensed\">\n",
       "<thead><tr><th>Line</th><th>Iobs</th><th>lambda</th><th>rel_er</th><th>Obs_code</th></tr></thead>\n",
       "<thead><tr><th>str11</th><th>float64</th><th>float64</th><th>float64</th><th>str15</th></tr></thead>\n",
       "<tr><td>TOTL  2326A</td><td>0.079</td><td>2326.0</td><td>0.2</td><td>Adams</td></tr>\n",
       "<tr><td>H  1  4861A</td><td>1.0</td><td>4861.0</td><td>0.08</td><td>Anabel</td></tr>\n",
       "<tr><td>H  1  6563A</td><td>2.8667</td><td>6563.0</td><td>0.19467</td><td>Anabel</td></tr>\n",
       "<tr><td>H  1  4340A</td><td>0.4933</td><td>4340.0</td><td>0.03307</td><td>Anabel</td></tr>\n",
       "<tr><td>H  1  4102A</td><td>0.2907</td><td>4102.0</td><td>0.02229</td><td>Anabel</td></tr>\n",
       "<tr><td>H  1  3970A</td><td>0.18</td><td>3970.0</td><td>0.01253</td><td>Anabel</td></tr>\n",
       "<tr><td>N  2  6584A</td><td>2.1681</td><td>6584.0</td><td>0.08686</td><td>Anabel</td></tr>\n",
       "<tr><td>O  1  6300A</td><td>0.0147</td><td>6300.0</td><td>0.00325</td><td>Anabel</td></tr>\n",
       "<tr><td>N  2 121.7m</td><td>0.004462</td><td>1217000.0</td><td>0.2</td><td>Liu</td></tr>\n",
       "<tr><td>C  2 157.6m</td><td>0.00856</td><td>1576000.0</td><td>0.2</td><td>Liu</td></tr>\n",
       "<tr><td>O  1 63.17m</td><td>0.13647</td><td>631700.0</td><td>0.1</td><td>Liu</td></tr>\n",
       "<tr><td>O  1 145.5m</td><td>0.00446</td><td>1455000.0</td><td>0.2</td><td>Liu</td></tr>\n",
       "<tr><td>TOTL  3727A</td><td>0.77609</td><td>3727.0</td><td>0.2</td><td>Torres-Peimbert</td></tr>\n",
       "<tr><td>S II  4070A</td><td>0.06174</td><td>4070.0</td><td>0.2</td><td>Torres-Peimbert</td></tr>\n",
       "<tr><td>S II  4078A</td><td>0.06174</td><td>4078.0</td><td>0.2</td><td>Torres-Peimbert</td></tr>\n",
       "</table></div>"
      ],
      "text/plain": [
       "<Table length=15>\n",
       "    Line      Iobs     lambda   rel_er     Obs_code   \n",
       "   str11    float64   float64  float64      str15     \n",
       "----------- -------- --------- ------- ---------------\n",
       "TOTL  2326A    0.079    2326.0     0.2           Adams\n",
       "H  1  4861A      1.0    4861.0    0.08          Anabel\n",
       "H  1  6563A   2.8667    6563.0 0.19467          Anabel\n",
       "H  1  4340A   0.4933    4340.0 0.03307          Anabel\n",
       "H  1  4102A   0.2907    4102.0 0.02229          Anabel\n",
       "H  1  3970A     0.18    3970.0 0.01253          Anabel\n",
       "N  2  6584A   2.1681    6584.0 0.08686          Anabel\n",
       "O  1  6300A   0.0147    6300.0 0.00325          Anabel\n",
       "N  2 121.7m 0.004462 1217000.0     0.2             Liu\n",
       "C  2 157.6m  0.00856 1576000.0     0.2             Liu\n",
       "O  1 63.17m  0.13647  631700.0     0.1             Liu\n",
       "O  1 145.5m  0.00446 1455000.0     0.2             Liu\n",
       "TOTL  3727A  0.77609    3727.0     0.2 Torres-Peimbert\n",
       "S II  4070A  0.06174    4070.0     0.2 Torres-Peimbert\n",
       "S II  4078A  0.06174    4078.0     0.2 Torres-Peimbert"
      ]
     },
     "execution_count": 83,
     "metadata": {},
     "output_type": "execute_result"
    }
   ],
   "source": [
    "d.group_by('Obs_code')"
   ]
  },
  {
   "cell_type": "markdown",
   "metadata": {},
   "source": [
    "There is a lot of possibilities of joining Tables, see http://docs.astropy.org/en/stable/table/operations.html"
   ]
  },
  {
   "cell_type": "markdown",
   "metadata": {},
   "source": [
    "### Pandas and Table"
   ]
  },
  {
   "cell_type": "code",
   "execution_count": 84,
   "metadata": {},
   "outputs": [],
   "source": [
    "df = t.to_pandas()"
   ]
  },
  {
   "cell_type": "code",
   "execution_count": 85,
   "metadata": {},
   "outputs": [
    {
     "data": {
      "application/vnd.microsoft.datawrangler.viewer.v0+json": {
       "columns": [
        {
         "name": "index",
         "rawType": "int64",
         "type": "integer"
        },
        {
         "name": "a",
         "rawType": "Int64",
         "type": "integer"
        },
        {
         "name": "c",
         "rawType": "int64",
         "type": "integer"
        },
        {
         "name": "d",
         "rawType": "Int64",
         "type": "integer"
        }
       ],
       "conversionMethod": "pd.DataFrame",
       "ref": "752e13ff-2550-4071-9d74-2a082ba0448d",
       "rows": [
        [
         "0",
         null,
         "-9",
         "10"
        ],
        [
         "1",
         "99",
         "2",
         null
        ],
        [
         "2",
         "99",
         "11",
         "4"
        ],
        [
         "3",
         "99",
         "14",
         "5"
        ]
       ],
       "shape": {
        "columns": 3,
        "rows": 4
       }
      },
      "text/html": [
       "<div>\n",
       "<style scoped>\n",
       "    .dataframe tbody tr th:only-of-type {\n",
       "        vertical-align: middle;\n",
       "    }\n",
       "\n",
       "    .dataframe tbody tr th {\n",
       "        vertical-align: top;\n",
       "    }\n",
       "\n",
       "    .dataframe thead th {\n",
       "        text-align: right;\n",
       "    }\n",
       "</style>\n",
       "<table border=\"1\" class=\"dataframe\">\n",
       "  <thead>\n",
       "    <tr style=\"text-align: right;\">\n",
       "      <th></th>\n",
       "      <th>a</th>\n",
       "      <th>c</th>\n",
       "      <th>d</th>\n",
       "    </tr>\n",
       "  </thead>\n",
       "  <tbody>\n",
       "    <tr>\n",
       "      <th>0</th>\n",
       "      <td>&lt;NA&gt;</td>\n",
       "      <td>-9</td>\n",
       "      <td>10</td>\n",
       "    </tr>\n",
       "    <tr>\n",
       "      <th>1</th>\n",
       "      <td>99</td>\n",
       "      <td>2</td>\n",
       "      <td>&lt;NA&gt;</td>\n",
       "    </tr>\n",
       "    <tr>\n",
       "      <th>2</th>\n",
       "      <td>99</td>\n",
       "      <td>11</td>\n",
       "      <td>4</td>\n",
       "    </tr>\n",
       "    <tr>\n",
       "      <th>3</th>\n",
       "      <td>99</td>\n",
       "      <td>14</td>\n",
       "      <td>5</td>\n",
       "    </tr>\n",
       "  </tbody>\n",
       "</table>\n",
       "</div>"
      ],
      "text/plain": [
       "      a   c     d\n",
       "0  <NA>  -9    10\n",
       "1    99   2  <NA>\n",
       "2    99  11     4\n",
       "3    99  14     5"
      ]
     },
     "execution_count": 85,
     "metadata": {},
     "output_type": "execute_result"
    }
   ],
   "source": [
    "df "
   ]
  },
  {
   "cell_type": "code",
   "execution_count": 86,
   "metadata": {},
   "outputs": [
    {
     "data": {
      "text/html": [
       "<div><i>Table length=4</i>\n",
       "<table id=\"table4944409616\" class=\"table-striped table-bordered table-condensed\">\n",
       "<thead><tr><th>a</th><th>c</th><th>d</th></tr></thead>\n",
       "<thead><tr><th>int64</th><th>int64</th><th>int64</th></tr></thead>\n",
       "<tr><td>--</td><td>-9</td><td>10</td></tr>\n",
       "<tr><td>99</td><td>2</td><td>--</td></tr>\n",
       "<tr><td>99</td><td>11</td><td>4</td></tr>\n",
       "<tr><td>99</td><td>14</td><td>5</td></tr>\n",
       "</table></div>"
      ],
      "text/plain": [
       "<Table length=4>\n",
       "  a     c     d  \n",
       "int64 int64 int64\n",
       "----- ----- -----\n",
       "   --    -9    10\n",
       "   99     2    --\n",
       "   99    11     4\n",
       "   99    14     5"
      ]
     },
     "execution_count": 86,
     "metadata": {},
     "output_type": "execute_result"
    }
   ],
   "source": [
    "t2 = Table.from_pandas(df)\n",
    "t2"
   ]
  },
  {
   "cell_type": "markdown",
   "metadata": {},
   "source": [
    "### Downloading from CDS"
   ]
  },
  {
   "cell_type": "markdown",
   "metadata": {},
   "source": [
    "Look for data on \"Diffuse gas\" at Vizier: https://vizier.u-strasbg.fr/viz-bin/VizieR"
   ]
  },
  {
   "cell_type": "code",
   "execution_count": 87,
   "metadata": {},
   "outputs": [],
   "source": [
    "t = Table.read(\"http://cdsarc.unistra.fr/ftp/J/other/RMxAA/45.261/digeda.dat\", \n",
    "               format='ascii.cds',\n",
    "               readme='http://cdsarc.unistra.fr/ftp/J/other/RMxAA/45.261/ReadMe')"
   ]
  },
  {
   "cell_type": "code",
   "execution_count": 88,
   "metadata": {
    "collapsed": false,
    "jupyter": {
     "outputs_hidden": false
    }
   },
   "outputs": [],
   "source": [
    "t = Table.read(\"ftp://cdsarc.u-strasbg.fr/pub/cats/J/other/RMxAA/45.261/digeda.dat\", \n",
    "               format='ascii.cds', \n",
    "               readme='ftp://cdsarc.u-strasbg.fr/pub/cats/J/other/RMxAA/45.261/ReadMe')"
   ]
  },
  {
   "cell_type": "code",
   "execution_count": 89,
   "metadata": {
    "collapsed": false,
    "jupyter": {
     "outputs_hidden": false
    }
   },
   "outputs": [
    {
     "data": {
      "text/html": [
       "<div><i>Table length=1061</i>\n",
       "<table id=\"table13040566800\" class=\"table-striped table-bordered table-condensed\">\n",
       "<thead><tr><th>ObsID</th><th>Pos</th><th>I3727</th><th>I4363</th><th>IHb</th><th>I4959</th><th>I5007</th><th>I5876</th><th>I6300</th><th>I6548</th><th>IHa</th><th>I6583</th><th>I6716</th><th>I6731</th><th>I16+31</th><th>Te</th><th>R16/31</th><th>R07/59</th><th>RHa/Hb</th><th>EM(Ha)</th><th>RefID</th><th>MType</th><th>Slit</th><th>Region</th><th>GalID</th><th>RefN</th></tr></thead>\n",
       "<thead><tr><th></th><th>pc</th><th></th><th></th><th></th><th></th><th></th><th></th><th></th><th></th><th></th><th></th><th></th><th></th><th></th><th>10000 K</th><th></th><th></th><th></th><th>pc / cm6</th><th></th><th></th><th></th><th></th><th></th><th></th></tr></thead>\n",
       "<thead><tr><th>int64</th><th>float64</th><th>float64</th><th>float64</th><th>float64</th><th>float64</th><th>float64</th><th>float64</th><th>float64</th><th>float64</th><th>float64</th><th>float64</th><th>float64</th><th>float64</th><th>float64</th><th>float64</th><th>float64</th><th>float64</th><th>float64</th><th>float64</th><th>int64</th><th>int64</th><th>int64</th><th>int64</th><th>int64</th><th>int64</th></tr></thead>\n",
       "<tr><td>1</td><td>0.03</td><td>--</td><td>--</td><td>1.0</td><td>0.2</td><td>0.6</td><td>--</td><td>--</td><td>--</td><td>2.86</td><td>1.0</td><td>--</td><td>--</td><td>--</td><td>--</td><td>--</td><td>--</td><td>--</td><td>--</td><td>1</td><td>12</td><td>3</td><td>1</td><td>2</td><td>1</td></tr>\n",
       "<tr><td>2</td><td>0.03</td><td>--</td><td>--</td><td>1.0</td><td>0.33</td><td>0.96</td><td>--</td><td>--</td><td>--</td><td>2.86</td><td>1.32</td><td>--</td><td>--</td><td>--</td><td>--</td><td>--</td><td>--</td><td>--</td><td>--</td><td>1</td><td>12</td><td>3</td><td>1</td><td>2</td><td>1</td></tr>\n",
       "<tr><td>3</td><td>0.05</td><td>--</td><td>--</td><td>1.0</td><td>0.32</td><td>0.95</td><td>--</td><td>--</td><td>--</td><td>2.86</td><td>1.11</td><td>--</td><td>--</td><td>--</td><td>--</td><td>--</td><td>--</td><td>--</td><td>--</td><td>1</td><td>12</td><td>3</td><td>1</td><td>2</td><td>1</td></tr>\n",
       "<tr><td>4</td><td>0.06</td><td>--</td><td>--</td><td>1.0</td><td>0.12</td><td>0.36</td><td>--</td><td>--</td><td>--</td><td>2.86</td><td>1.06</td><td>--</td><td>--</td><td>--</td><td>--</td><td>--</td><td>--</td><td>--</td><td>--</td><td>1</td><td>12</td><td>3</td><td>1</td><td>2</td><td>1</td></tr>\n",
       "<tr><td>5</td><td>0.07</td><td>--</td><td>--</td><td>1.0</td><td>0.27</td><td>0.8</td><td>--</td><td>--</td><td>--</td><td>2.86</td><td>1.08</td><td>--</td><td>--</td><td>--</td><td>--</td><td>--</td><td>--</td><td>--</td><td>--</td><td>1</td><td>12</td><td>3</td><td>1</td><td>2</td><td>1</td></tr>\n",
       "<tr><td>6</td><td>0.12</td><td>--</td><td>--</td><td>1.0</td><td>0.31</td><td>0.9</td><td>--</td><td>--</td><td>--</td><td>2.86</td><td>1.06</td><td>--</td><td>--</td><td>--</td><td>--</td><td>--</td><td>--</td><td>--</td><td>--</td><td>1</td><td>12</td><td>3</td><td>1</td><td>2</td><td>1</td></tr>\n",
       "<tr><td>7</td><td>0.13</td><td>--</td><td>--</td><td>1.0</td><td>0.29</td><td>0.85</td><td>--</td><td>--</td><td>--</td><td>2.86</td><td>1.42</td><td>--</td><td>--</td><td>--</td><td>--</td><td>--</td><td>--</td><td>--</td><td>--</td><td>1</td><td>12</td><td>3</td><td>1</td><td>2</td><td>1</td></tr>\n",
       "<tr><td>8</td><td>0.15</td><td>--</td><td>--</td><td>1.0</td><td>0.3</td><td>0.89</td><td>--</td><td>--</td><td>--</td><td>2.86</td><td>0.94</td><td>--</td><td>--</td><td>--</td><td>--</td><td>--</td><td>--</td><td>--</td><td>--</td><td>1</td><td>12</td><td>3</td><td>1</td><td>2</td><td>1</td></tr>\n",
       "<tr><td>9</td><td>0.15</td><td>--</td><td>--</td><td>1.0</td><td>0.57</td><td>1.67</td><td>--</td><td>--</td><td>--</td><td>2.86</td><td>0.86</td><td>--</td><td>--</td><td>--</td><td>--</td><td>--</td><td>--</td><td>--</td><td>--</td><td>1</td><td>12</td><td>3</td><td>1</td><td>2</td><td>1</td></tr>\n",
       "<tr><td>...</td><td>...</td><td>...</td><td>...</td><td>...</td><td>...</td><td>...</td><td>...</td><td>...</td><td>...</td><td>...</td><td>...</td><td>...</td><td>...</td><td>...</td><td>...</td><td>...</td><td>...</td><td>...</td><td>...</td><td>...</td><td>...</td><td>...</td><td>...</td><td>...</td><td>...</td></tr>\n",
       "<tr><td>1053</td><td>-1.0</td><td>--</td><td>--</td><td>0.35</td><td>--</td><td>0.5</td><td>--</td><td>--</td><td>--</td><td>1.0</td><td>--</td><td>0.25</td><td>--</td><td>--</td><td>--</td><td>--</td><td>--</td><td>--</td><td>--</td><td>18</td><td>2</td><td>3</td><td>3</td><td>92</td><td>44</td></tr>\n",
       "<tr><td>1054</td><td>-1.0</td><td>--</td><td>--</td><td>0.35</td><td>--</td><td>0.23</td><td>--</td><td>--</td><td>--</td><td>1.0</td><td>--</td><td>0.15</td><td>--</td><td>--</td><td>--</td><td>--</td><td>--</td><td>--</td><td>--</td><td>18</td><td>2</td><td>3</td><td>3</td><td>92</td><td>44</td></tr>\n",
       "<tr><td>1055</td><td>-1.0</td><td>--</td><td>--</td><td>0.35</td><td>--</td><td>0.6</td><td>--</td><td>--</td><td>--</td><td>1.0</td><td>--</td><td>0.14</td><td>--</td><td>--</td><td>--</td><td>--</td><td>--</td><td>--</td><td>--</td><td>18</td><td>2</td><td>3</td><td>1</td><td>92</td><td>44</td></tr>\n",
       "<tr><td>1056</td><td>-1.0</td><td>--</td><td>--</td><td>0.35</td><td>--</td><td>0.33</td><td>--</td><td>--</td><td>--</td><td>1.0</td><td>--</td><td>--</td><td>--</td><td>--</td><td>--</td><td>--</td><td>--</td><td>--</td><td>--</td><td>18</td><td>2</td><td>3</td><td>3</td><td>92</td><td>44</td></tr>\n",
       "<tr><td>1057</td><td>-1.0</td><td>--</td><td>--</td><td>0.35</td><td>--</td><td>0.56</td><td>--</td><td>--</td><td>--</td><td>1.0</td><td>--</td><td>0.35</td><td>--</td><td>--</td><td>--</td><td>--</td><td>--</td><td>--</td><td>--</td><td>18</td><td>2</td><td>3</td><td>1</td><td>92</td><td>44</td></tr>\n",
       "<tr><td>1058</td><td>-1.0</td><td>--</td><td>--</td><td>0.35</td><td>--</td><td>0.3</td><td>--</td><td>--</td><td>--</td><td>1.0</td><td>--</td><td>0.24</td><td>--</td><td>--</td><td>--</td><td>--</td><td>--</td><td>--</td><td>--</td><td>18</td><td>2</td><td>3</td><td>3</td><td>92</td><td>44</td></tr>\n",
       "<tr><td>1059</td><td>-1.0</td><td>--</td><td>--</td><td>0.35</td><td>--</td><td>0.54</td><td>--</td><td>--</td><td>--</td><td>1.0</td><td>--</td><td>--</td><td>--</td><td>--</td><td>--</td><td>--</td><td>--</td><td>--</td><td>--</td><td>18</td><td>2</td><td>3</td><td>3</td><td>92</td><td>44</td></tr>\n",
       "<tr><td>1060</td><td>-1.0</td><td>--</td><td>--</td><td>0.35</td><td>--</td><td>1.33</td><td>--</td><td>--</td><td>--</td><td>1.0</td><td>--</td><td>--</td><td>--</td><td>--</td><td>--</td><td>--</td><td>--</td><td>--</td><td>--</td><td>18</td><td>2</td><td>3</td><td>1</td><td>92</td><td>44</td></tr>\n",
       "<tr><td>1061</td><td>-1.0</td><td>--</td><td>--</td><td>0.35</td><td>--</td><td>0.44</td><td>--</td><td>--</td><td>--</td><td>1.0</td><td>--</td><td>--</td><td>--</td><td>--</td><td>--</td><td>--</td><td>--</td><td>--</td><td>--</td><td>18</td><td>2</td><td>3</td><td>3</td><td>92</td><td>44</td></tr>\n",
       "</table></div>"
      ],
      "text/plain": [
       "<Table length=1061>\n",
       "ObsID   Pos    I3727   I4363    IHb    I4959  ... MType  Slit Region GalID  RefN\n",
       "         pc                                   ...                               \n",
       "int64 float64 float64 float64 float64 float64 ... int64 int64 int64  int64 int64\n",
       "----- ------- ------- ------- ------- ------- ... ----- ----- ------ ----- -----\n",
       "    1    0.03      --      --     1.0     0.2 ...    12     3      1     2     1\n",
       "    2    0.03      --      --     1.0    0.33 ...    12     3      1     2     1\n",
       "    3    0.05      --      --     1.0    0.32 ...    12     3      1     2     1\n",
       "    4    0.06      --      --     1.0    0.12 ...    12     3      1     2     1\n",
       "    5    0.07      --      --     1.0    0.27 ...    12     3      1     2     1\n",
       "    6    0.12      --      --     1.0    0.31 ...    12     3      1     2     1\n",
       "    7    0.13      --      --     1.0    0.29 ...    12     3      1     2     1\n",
       "    8    0.15      --      --     1.0     0.3 ...    12     3      1     2     1\n",
       "    9    0.15      --      --     1.0    0.57 ...    12     3      1     2     1\n",
       "  ...     ...     ...     ...     ...     ... ...   ...   ...    ...   ...   ...\n",
       " 1053    -1.0      --      --    0.35      -- ...     2     3      3    92    44\n",
       " 1054    -1.0      --      --    0.35      -- ...     2     3      3    92    44\n",
       " 1055    -1.0      --      --    0.35      -- ...     2     3      1    92    44\n",
       " 1056    -1.0      --      --    0.35      -- ...     2     3      3    92    44\n",
       " 1057    -1.0      --      --    0.35      -- ...     2     3      1    92    44\n",
       " 1058    -1.0      --      --    0.35      -- ...     2     3      3    92    44\n",
       " 1059    -1.0      --      --    0.35      -- ...     2     3      3    92    44\n",
       " 1060    -1.0      --      --    0.35      -- ...     2     3      1    92    44\n",
       " 1061    -1.0      --      --    0.35      -- ...     2     3      3    92    44"
      ]
     },
     "execution_count": 89,
     "metadata": {},
     "output_type": "execute_result"
    }
   ],
   "source": [
    "t"
   ]
  },
  {
   "cell_type": "code",
   "execution_count": 90,
   "metadata": {
    "collapsed": false,
    "jupyter": {
     "outputs_hidden": false
    }
   },
   "outputs": [
    {
     "data": {
      "image/png": "[encoded data removed]",
      "text/plain": [
       "<Figure size 640x480 with 1 Axes>"
      ]
     },
     "metadata": {},
     "output_type": "display_data"
    }
   ],
   "source": [
    "f, ax = plt.subplots()\n",
    "ax.scatter(np.log10(t['I6583']), np.log10(t['I5007']), c=t['RefN'], edgecolor='None')\n",
    "ax.set_xlabel(r'log [NII]/H$\\alpha$')\n",
    "ax.set_ylabel(r'log [OIII]/H$\\beta$');"
   ]
  },
  {
   "cell_type": "code",
   "execution_count": 91,
   "metadata": {
    "collapsed": false,
    "jupyter": {
     "outputs_hidden": false
    }
   },
   "outputs": [],
   "source": [
    "t = Table.read(\"ftp://cdsarc.u-strasbg.fr/pub/cats/VII/253/snrs.dat\",\n",
    "readme=\"ftp://cdsarc.u-strasbg.fr/pub/cats/VII/253/ReadMe\",\n",
    "format=\"ascii.cds\")"
   ]
  },
  {
   "cell_type": "code",
   "execution_count": 92,
   "metadata": {
    "collapsed": false,
    "jupyter": {
     "outputs_hidden": false
    }
   },
   "outputs": [
    {
     "data": {
      "text/html": [
       "<div><i>Table length=274</i>\n",
       "<table id=\"table13038341904\" class=\"table-striped table-bordered table-condensed\">\n",
       "<thead><tr><th>SNR</th><th>RAh</th><th>RAm</th><th>RAs</th><th>DE-</th><th>DEd</th><th>DEm</th><th>MajDiam</th><th>---</th><th>MinDiam</th><th>u_MinDiam</th><th>type</th><th>l_S(1GHz)</th><th>S(1GHz)</th><th>u_S(1GHz)</th><th>Sp-Index</th><th>u_Sp-Index</th><th>Names</th></tr></thead>\n",
       "<thead><tr><th></th><th>h</th><th>min</th><th>s</th><th></th><th>deg</th><th>arcmin</th><th>arcmin</th><th></th><th>arcmin</th><th></th><th></th><th></th><th>Jy</th><th></th><th></th><th></th><th></th></tr></thead>\n",
       "<thead><tr><th>str11</th><th>int64</th><th>int64</th><th>int64</th><th>str1</th><th>int64</th><th>int64</th><th>float64</th><th>str1</th><th>float64</th><th>str1</th><th>str2</th><th>str1</th><th>float64</th><th>str1</th><th>float64</th><th>str1</th><th>str26</th></tr></thead>\n",
       "<tr><td>G000.0+00.0</td><td>17</td><td>45</td><td>44</td><td>-</td><td>29</td><td>0</td><td>3.5</td><td>x</td><td>2.5</td><td>--</td><td>S</td><td>--</td><td>100.0</td><td>?</td><td>0.8</td><td>?</td><td>Sgr A East</td></tr>\n",
       "<tr><td>G000.3+00.0</td><td>17</td><td>46</td><td>15</td><td>-</td><td>28</td><td>38</td><td>15.0</td><td>x</td><td>8.0</td><td>--</td><td>S</td><td>--</td><td>22.0</td><td>--</td><td>0.6</td><td>--</td><td>--</td></tr>\n",
       "<tr><td>G000.9+00.1</td><td>17</td><td>47</td><td>21</td><td>-</td><td>28</td><td>9</td><td>8.0</td><td>--</td><td>--</td><td>--</td><td>C</td><td>--</td><td>18.0</td><td>?</td><td>--</td><td>v</td><td>--</td></tr>\n",
       "<tr><td>G001.0-00.1</td><td>17</td><td>48</td><td>30</td><td>-</td><td>28</td><td>9</td><td>8.0</td><td>--</td><td>--</td><td>--</td><td>S</td><td>--</td><td>15.0</td><td>--</td><td>0.6</td><td>?</td><td>--</td></tr>\n",
       "<tr><td>G001.4-00.1</td><td>17</td><td>49</td><td>39</td><td>-</td><td>27</td><td>46</td><td>10.0</td><td>--</td><td>--</td><td>--</td><td>S</td><td>--</td><td>2.0</td><td>?</td><td>--</td><td>?</td><td>--</td></tr>\n",
       "<tr><td>G001.9+00.3</td><td>17</td><td>48</td><td>45</td><td>-</td><td>27</td><td>10</td><td>1.5</td><td>--</td><td>--</td><td>--</td><td>S</td><td>--</td><td>0.6</td><td>--</td><td>0.6</td><td>--</td><td>--</td></tr>\n",
       "<tr><td>G003.7-00.2</td><td>17</td><td>55</td><td>26</td><td>-</td><td>25</td><td>50</td><td>14.0</td><td>x</td><td>11.0</td><td>--</td><td>S</td><td>--</td><td>2.3</td><td>--</td><td>0.65</td><td>--</td><td>--</td></tr>\n",
       "<tr><td>G003.8+00.3</td><td>17</td><td>52</td><td>55</td><td>-</td><td>25</td><td>28</td><td>18.0</td><td>--</td><td>--</td><td>--</td><td>S?</td><td>--</td><td>3.0</td><td>?</td><td>0.6</td><td>--</td><td>--</td></tr>\n",
       "<tr><td>G004.2-03.5</td><td>18</td><td>8</td><td>55</td><td>-</td><td>27</td><td>3</td><td>28.0</td><td>--</td><td>--</td><td>--</td><td>S</td><td>--</td><td>3.2</td><td>?</td><td>0.6</td><td>?</td><td>--</td></tr>\n",
       "<tr><td>...</td><td>...</td><td>...</td><td>...</td><td>...</td><td>...</td><td>...</td><td>...</td><td>...</td><td>...</td><td>...</td><td>...</td><td>...</td><td>...</td><td>...</td><td>...</td><td>...</td><td>...</td></tr>\n",
       "<tr><td>G356.3-01.5</td><td>17</td><td>42</td><td>35</td><td>-</td><td>32</td><td>52</td><td>20.0</td><td>x</td><td>15.0</td><td>--</td><td>S</td><td>--</td><td>3.0</td><td>?</td><td>--</td><td>?</td><td>--</td></tr>\n",
       "<tr><td>G357.7-00.1</td><td>17</td><td>40</td><td>29</td><td>-</td><td>30</td><td>58</td><td>8.0</td><td>x</td><td>3.0</td><td>?</td><td>?</td><td>--</td><td>37.0</td><td>--</td><td>0.4</td><td>--</td><td>MSH 17-39</td></tr>\n",
       "<tr><td>G357.7+00.3</td><td>17</td><td>38</td><td>35</td><td>-</td><td>30</td><td>44</td><td>24.0</td><td>--</td><td>--</td><td>--</td><td>S</td><td>--</td><td>10.0</td><td>--</td><td>0.4</td><td>?</td><td>--</td></tr>\n",
       "<tr><td>G358.0+03.8</td><td>17</td><td>26</td><td>0</td><td>-</td><td>28</td><td>36</td><td>38.0</td><td>--</td><td>--</td><td>--</td><td>S</td><td>--</td><td>1.5</td><td>?</td><td>--</td><td>?</td><td>--</td></tr>\n",
       "<tr><td>G358.1+00.1</td><td>17</td><td>37</td><td>0</td><td>-</td><td>29</td><td>59</td><td>20.0</td><td>--</td><td>--</td><td>--</td><td>S</td><td>--</td><td>2.0</td><td>?</td><td>--</td><td>?</td><td>--</td></tr>\n",
       "<tr><td>G358.5-00.9</td><td>17</td><td>46</td><td>10</td><td>-</td><td>30</td><td>40</td><td>17.0</td><td>--</td><td>--</td><td>--</td><td>S</td><td>--</td><td>4.0</td><td>?</td><td>--</td><td>?</td><td>--</td></tr>\n",
       "<tr><td>G359.0-00.9</td><td>17</td><td>46</td><td>50</td><td>-</td><td>30</td><td>16</td><td>23.0</td><td>--</td><td>--</td><td>--</td><td>S</td><td>--</td><td>23.0</td><td>--</td><td>0.5</td><td>--</td><td>--</td></tr>\n",
       "<tr><td>G359.1-00.5</td><td>17</td><td>45</td><td>30</td><td>-</td><td>29</td><td>57</td><td>24.0</td><td>--</td><td>--</td><td>--</td><td>S</td><td>--</td><td>14.0</td><td>--</td><td>0.4</td><td>?</td><td>--</td></tr>\n",
       "<tr><td>G359.1+00.9</td><td>17</td><td>39</td><td>36</td><td>-</td><td>29</td><td>11</td><td>12.0</td><td>x</td><td>11.0</td><td>--</td><td>S</td><td>--</td><td>2.0</td><td>?</td><td>--</td><td>?</td><td>--</td></tr>\n",
       "</table></div>"
      ],
      "text/plain": [
       "<Table length=274>\n",
       "    SNR      RAh   RAm   RAs  DE-  ... u_S(1GHz) Sp-Index u_Sp-Index   Names   \n",
       "              h    min    s        ...                                         \n",
       "   str11    int64 int64 int64 str1 ...    str1   float64     str1      str26   \n",
       "----------- ----- ----- ----- ---- ... --------- -------- ---------- ----------\n",
       "G000.0+00.0    17    45    44    - ...         ?      0.8          ? Sgr A East\n",
       "G000.3+00.0    17    46    15    - ...        --      0.6         --         --\n",
       "G000.9+00.1    17    47    21    - ...         ?       --          v         --\n",
       "G001.0-00.1    17    48    30    - ...        --      0.6          ?         --\n",
       "G001.4-00.1    17    49    39    - ...         ?       --          ?         --\n",
       "G001.9+00.3    17    48    45    - ...        --      0.6         --         --\n",
       "G003.7-00.2    17    55    26    - ...        --     0.65         --         --\n",
       "G003.8+00.3    17    52    55    - ...         ?      0.6         --         --\n",
       "G004.2-03.5    18     8    55    - ...         ?      0.6          ?         --\n",
       "        ...   ...   ...   ...  ... ...       ...      ...        ...        ...\n",
       "G356.3-01.5    17    42    35    - ...         ?       --          ?         --\n",
       "G357.7-00.1    17    40    29    - ...        --      0.4         --  MSH 17-39\n",
       "G357.7+00.3    17    38    35    - ...        --      0.4          ?         --\n",
       "G358.0+03.8    17    26     0    - ...         ?       --          ?         --\n",
       "G358.1+00.1    17    37     0    - ...         ?       --          ?         --\n",
       "G358.5-00.9    17    46    10    - ...         ?       --          ?         --\n",
       "G359.0-00.9    17    46    50    - ...        --      0.5         --         --\n",
       "G359.1-00.5    17    45    30    - ...        --      0.4          ?         --\n",
       "G359.1+00.9    17    39    36    - ...         ?       --          ?         --"
      ]
     },
     "execution_count": 92,
     "metadata": {},
     "output_type": "execute_result"
    }
   ],
   "source": [
    "t"
   ]
  },
  {
   "cell_type": "code",
   "execution_count": 93,
   "metadata": {
    "collapsed": false,
    "jupyter": {
     "outputs_hidden": false
    }
   },
   "outputs": [],
   "source": [
    "t[0:10].write('tab_cds1.tex', format='latex', overwrite=True, formats={'Sp-Index': '%0.2f'})"
   ]
  },
  {
   "cell_type": "code",
   "execution_count": 94,
   "metadata": {
    "collapsed": false,
    "jupyter": {
     "outputs_hidden": false
    }
   },
   "outputs": [
    {
     "name": "stdout",
     "output_type": "stream",
     "text": [
      "\\begin{table}\n",
      "\\begin{tabular}{cccccccccccccccccc}\n",
      "SNR & RAh & RAm & RAs & DE- & DEd & DEm & MajDiam & --- & MinDiam & u_MinDiam & type & l_S(1GHz) & S(1GHz) & u_S(1GHz) & Sp-Index & u_Sp-Index & Names \\\\\n",
      " & $\\mathrm{h}$ & $\\mathrm{min}$ & $\\mathrm{s}$ &  & $\\mathrm{deg}$ & $\\mathrm{arcmin}$ & $\\mathrm{arcmin}$ &  & $\\mathrm{arcmin}$ &  &  &  & $\\mathrm{Jy}$ &  &  &  &  \\\\\n",
      "G000.0+00.0 & 17 & 45 & 44 & - & 29 & 0 & 3.5 & x & 2.5 &  & S &  & 100.0 & ? & 0.80 & ? & Sgr A East \\\\\n",
      "G000.3+00.0 & 17 & 46 & 15 & - & 28 & 38 & 15.0 & x & 8.0 &  & S &  & 22.0 &  & 0.60 &  &  \\\\\n",
      "G000.9+00.1 & 17 & 47 & 21 & - & 28 & 9 & 8.0 &  &  &  & C &  & 18.0 & ? &  & v &  \\\\\n",
      "G001.0-00.1 & 17 & 48 & 30 & - & 28 & 9 & 8.0 &  &  &  & S &  & 15.0 &  & 0.60 & ? &  \\\\\n",
      "G001.4-00.1 & 17 & 49 & 39 & - & 27 & 46 & 10.0 &  &  &  & S &  & 2.0 & ? &  & ? &  \\\\\n",
      "G001.9+00.3 & 17 & 48 & 45 & - & 27 & 10 & 1.5 &  &  &  & S &  & 0.6 &  & 0.60 &  &  \\\\\n",
      "G003.7-00.2 & 17 & 55 & 26 & - & 25 & 50 & 14.0 & x & 11.0 &  & S &  & 2.3 &  & 0.65 &  &  \\\\\n",
      "G003.8+00.3 & 17 & 52 & 55 & - & 25 & 28 & 18.0 &  &  &  & S? &  & 3.0 & ? & 0.60 &  &  \\\\\n",
      "G004.2-03.5 & 18 & 8 & 55 & - & 27 & 3 & 28.0 &  &  &  & S &  & 3.2 & ? & 0.60 & ? &  \\\\\n",
      "G004.5+06.8 & 17 & 30 & 42 & - & 21 & 29 & 3.0 &  &  &  & S &  & 19.0 &  & 0.64 &  & Kepler, SN1604, 3C358 \\\\\n",
      "\\end{tabular}\n",
      "\\end{table}\n"
     ]
    }
   ],
   "source": [
    "!cat tab_cds1.tex"
   ]
  },
  {
   "cell_type": "code",
   "execution_count": 95,
   "metadata": {
    "collapsed": false,
    "jupyter": {
     "outputs_hidden": false
    }
   },
   "outputs": [],
   "source": [
    "t[10:20].write('tab_cds1.ascii', format='ascii', delimiter='|', formats={'Sp-Index': '%0.2f'}, overwrite=True)"
   ]
  },
  {
   "cell_type": "code",
   "execution_count": 96,
   "metadata": {
    "collapsed": false,
    "jupyter": {
     "outputs_hidden": false
    }
   },
   "outputs": [
    {
     "name": "stdout",
     "output_type": "stream",
     "text": [
      "SNR|RAh|RAm|RAs|DE-|DEd|DEm|MajDiam|---|MinDiam|u_MinDiam|type|l_S(1GHz)|S(1GHz)|u_S(1GHz)|Sp-Index|u_Sp-Index|Names\n",
      "G004.8+06.2|17|33|25|-|21|34|18.0||||S||3.0||0.60||\n",
      "G005.2-02.6|18|7|30|-|25|45|18.0||||S||2.6|?|0.60|?|\n",
      "G005.4-01.2|18|2|10|-|24|54|35.0||||C?||35.0|?|0.20|?|Milne 56\n",
      "G005.5+00.3|17|57|4|-|24|0|15.0|x|12.0||S||5.5||0.70||\n",
      "G005.9+03.1|17|47|20|-|22|16|20.0||||S||3.3|?|0.40|?|\n",
      "G006.1+00.5|17|57|29|-|23|25|18.0|x|12.0||S||4.5||0.90||\n",
      "G006.1+01.2|17|54|55|-|23|5|30.0|x|26.0||F||4.0|?|0.30|?|\n",
      "G006.4-00.1|18|0|30|-|23|26|48.0||||C||310.0|||v|W28\n",
      "G006.4+04.0|17|45|10|-|21|22|31.0||||S||1.3|?|0.40|?|\n",
      "G006.5-00.4|18|2|11|-|23|34|18.0||||S||27.0||0.60||\n"
     ]
    }
   ],
   "source": [
    "!cat tab_cds1.ascii"
   ]
  },
  {
   "cell_type": "code",
   "execution_count": 97,
   "metadata": {
    "collapsed": false,
    "jupyter": {
     "outputs_hidden": false
    }
   },
   "outputs": [],
   "source": [
    "t[10:20].write('tab_cds2.ascii', format='ascii.fixed_width', delimiter='|', formats={'Sp-Index': '%0.2f'}, overwrite=True)"
   ]
  },
  {
   "cell_type": "code",
   "execution_count": 98,
   "metadata": {
    "collapsed": false,
    "jupyter": {
     "outputs_hidden": false
    }
   },
   "outputs": [
    {
     "name": "stdout",
     "output_type": "stream",
     "text": [
      "|         SNR | RAh | RAm | RAs | DE- | DEd | DEm | MajDiam | --- | MinDiam | u_MinDiam | type | l_S(1GHz) | S(1GHz) | u_S(1GHz) | Sp-Index | u_Sp-Index |    Names |\n",
      "| G004.8+06.2 |  17 |  33 |  25 |   - |  21 |  34 |    18.0 |     |         |           |    S |           |     3.0 |           |     0.60 |            |          |\n",
      "| G005.2-02.6 |  18 |   7 |  30 |   - |  25 |  45 |    18.0 |     |         |           |    S |           |     2.6 |         ? |     0.60 |          ? |          |\n",
      "| G005.4-01.2 |  18 |   2 |  10 |   - |  24 |  54 |    35.0 |     |         |           |   C? |           |    35.0 |         ? |     0.20 |          ? | Milne 56 |\n",
      "| G005.5+00.3 |  17 |  57 |   4 |   - |  24 |   0 |    15.0 |   x |    12.0 |           |    S |           |     5.5 |           |     0.70 |            |          |\n",
      "| G005.9+03.1 |  17 |  47 |  20 |   - |  22 |  16 |    20.0 |     |         |           |    S |           |     3.3 |         ? |     0.40 |          ? |          |\n",
      "| G006.1+00.5 |  17 |  57 |  29 |   - |  23 |  25 |    18.0 |   x |    12.0 |           |    S |           |     4.5 |           |     0.90 |            |          |\n",
      "| G006.1+01.2 |  17 |  54 |  55 |   - |  23 |   5 |    30.0 |   x |    26.0 |           |    F |           |     4.0 |         ? |     0.30 |          ? |          |\n",
      "| G006.4-00.1 |  18 |   0 |  30 |   - |  23 |  26 |    48.0 |     |         |           |    C |           |   310.0 |           |          |          v |      W28 |\n",
      "| G006.4+04.0 |  17 |  45 |  10 |   - |  21 |  22 |    31.0 |     |         |           |    S |           |     1.3 |         ? |     0.40 |          ? |          |\n",
      "| G006.5-00.4 |  18 |   2 |  11 |   - |  23 |  34 |    18.0 |     |         |           |    S |           |    27.0 |           |     0.60 |            |          |\n"
     ]
    }
   ],
   "source": [
    "!cat tab_cds2.ascii"
   ]
  },
  {
   "cell_type": "markdown",
   "metadata": {},
   "source": [
    "The astropy Table can also read FITS files (if containing tables), VO tables and hdf5 format. See more there: http://docs.astropy.org/en/stable/io/unified.html"
   ]
  },
  {
   "cell_type": "markdown",
   "metadata": {},
   "source": [
    "### Time and Dates"
   ]
  },
  {
   "cell_type": "markdown",
   "metadata": {},
   "source": [
    "The astropy.time package provides functionality for manipulating times and dates. Specific emphasis is placed on supporting time scales (e.g. UTC, TAI, UT1, TDB) and time representations (e.g. JD, MJD, ISO 8601) that are used in astronomy and required to calculate, e.g., sidereal times and barycentric corrections. It uses Cython to wrap the C language ERFA time and calendar routines, using a fast and memory efficient vectorization scheme. More here: http://docs.astropy.org/en/stable/time/index.html"
   ]
  },
  {
   "cell_type": "markdown",
   "metadata": {},
   "source": [
    "### Coordinates"
   ]
  },
  {
   "cell_type": "markdown",
   "metadata": {},
   "source": [
    "The coordinates package provides classes for representing a variety of celestial/spatial coordinates, as well as tools for converting between common coordinate systems in a uniform way."
   ]
  },
  {
   "cell_type": "code",
   "execution_count": 99,
   "metadata": {
    "collapsed": false,
    "jupyter": {
     "outputs_hidden": false
    }
   },
   "outputs": [],
   "source": [
    "from astropy import units as u\n",
    "from astropy.coordinates import SkyCoord"
   ]
  },
  {
   "cell_type": "code",
   "execution_count": 100,
   "metadata": {
    "collapsed": false,
    "jupyter": {
     "outputs_hidden": false
    }
   },
   "outputs": [
    {
     "data": {
      "text/plain": [
       "<SkyCoord (ICRS): (ra, dec) in deg\n",
       "    (10.5, 41.2)>"
      ]
     },
     "execution_count": 100,
     "metadata": {},
     "output_type": "execute_result"
    }
   ],
   "source": [
    "c = SkyCoord(ra=10.5*u.degree, dec=41.2*u.degree, frame='icrs')\n",
    "c"
   ]
  },
  {
   "cell_type": "code",
   "execution_count": 101,
   "metadata": {
    "collapsed": false,
    "jupyter": {
     "outputs_hidden": false
    }
   },
   "outputs": [
    {
     "data": {
      "text/plain": [
       "<SkyCoord (ICRS): (ra, dec) in deg\n",
       "    (10.5, 41.2)>"
      ]
     },
     "execution_count": 101,
     "metadata": {},
     "output_type": "execute_result"
    }
   ],
   "source": [
    "c = SkyCoord('0 42 00 +41 12 00', frame='icrs', unit=(u.hourangle, u.deg))\n",
    "c"
   ]
  },
  {
   "cell_type": "code",
   "execution_count": 102,
   "metadata": {
    "collapsed": false,
    "jupyter": {
     "outputs_hidden": false
    }
   },
   "outputs": [
    {
     "name": "stdout",
     "output_type": "stream",
     "text": [
      "10d30m00s 41d12m00s\n"
     ]
    }
   ],
   "source": [
    "print(c.ra, c.dec)"
   ]
  },
  {
   "cell_type": "code",
   "execution_count": 103,
   "metadata": {
    "collapsed": false,
    "jupyter": {
     "outputs_hidden": false
    }
   },
   "outputs": [
    {
     "data": {
      "text/plain": [
       "'10.5 41.2'"
      ]
     },
     "execution_count": 103,
     "metadata": {},
     "output_type": "execute_result"
    }
   ],
   "source": [
    "c.to_string('decimal')"
   ]
  },
  {
   "cell_type": "code",
   "execution_count": 104,
   "metadata": {
    "collapsed": false,
    "jupyter": {
     "outputs_hidden": false
    }
   },
   "outputs": [
    {
     "name": "stdout",
     "output_type": "stream",
     "text": [
      "$41^\\circ12{}^\\prime00{}^{\\prime\\prime}$\n"
     ]
    }
   ],
   "source": [
    "print(c.dec.to_string(format='latex'))"
   ]
  },
  {
   "cell_type": "markdown",
   "metadata": {},
   "source": [
    "$$41^\\circ12{}^\\prime00{}^{\\prime\\prime}$$"
   ]
  },
  {
   "cell_type": "markdown",
   "metadata": {},
   "source": [
    "### Modeling"
   ]
  },
  {
   "cell_type": "markdown",
   "metadata": {},
   "source": [
    "astropy.modeling provides a framework for representing models and performing model evaluation and fitting. It currently supports 1-D and 2-D models and fitting with parameter constraints.\n",
    "\n",
    "It is designed to be easily extensible and flexible. Models do not reference fitting algorithms explicitly and new fitting algorithms may be added without changing the existing models (though not all models can be used with all fitting algorithms due to constraints such as model linearity).\n",
    "\n",
    "The goal is to eventually provide a rich toolset of models and fitters such that most users will not need to define new model classes, nor special purpose fitting routines (while making it reasonably easy to do when necessary).\n",
    "\n",
    "http://docs.astropy.org/en/stable/modeling/index.html\n",
    "\n",
    "More examples: https://learn.astropy.org/rst-tutorials/Models-Quick-Fit.html"
   ]
  },
  {
   "cell_type": "markdown",
   "metadata": {},
   "source": [
    "### Convolution and filtering"
   ]
  },
  {
   "cell_type": "markdown",
   "metadata": {},
   "source": [
    "astropy.convolution provides convolution functions and kernels that offers improvements compared to the scipy scipy.ndimage convolution routines, including:\n",
    "\n",
    "* Proper treatment of NaN values\n",
    "* A single function for 1-D, 2-D, and 3-D convolution\n",
    "* Improved options for the treatment of edges\n",
    "* Both direct and Fast Fourier Transform (FFT) versions\n",
    "* Built-in kernels that are commonly used in Astronomy\n",
    "\n",
    "More on http://docs.astropy.org/en/stable/convolution/index.html"
   ]
  },
  {
   "cell_type": "markdown",
   "metadata": {},
   "source": [
    "### CCD reduction"
   ]
  },
  {
   "cell_type": "markdown",
   "metadata": {},
   "source": [
    "Ccdproc is is an Astropy affiliated package for basic data reductions of CCD images. It provides the essential tools for processing of CCD images in a framework that provides error propagation and bad pixel tracking throughout the reduction process.\n",
    "\n",
    "https://ccdproc.readthedocs.io/en/latest/"
   ]
  }
 ],
 "metadata": {
  "kernelspec": {
   "display_name": "Python_Lecture_ML",
   "language": "python",
   "name": "python3"
  },
  "language_info": {
   "codemirror_mode": {
    "name": "ipython",
    "version": 3
   },
   "file_extension": ".py",
   "mimetype": "text/x-python",
   "name": "python",
   "nbconvert_exporter": "python",
   "pygments_lexer": "ipython3",
   "version": "3.11.5"
  }
 },
 "nbformat": 4,
 "nbformat_minor": 4
}

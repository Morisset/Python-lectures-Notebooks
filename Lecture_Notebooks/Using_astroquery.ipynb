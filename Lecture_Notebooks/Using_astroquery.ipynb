{
 "cells": [
  {
   "cell_type": "markdown",
   "metadata": {},
   "source": [
    "# K Using astroquery"
   ]
  },
  {
   "cell_type": "markdown",
   "metadata": {},
   "source": [
    "* Astroquery: part of astropy : https://astroquery.readthedocs.io/en/latest/index.html\n",
    "\n",
    "astroquery: An Astronomical Web-querying Package in Python \n",
    "Ginsburg, A., Sipocz, B. M., Brasseur, C. E., Cowperthwaite, P. S., Craig, M. W., Deil, C., Guillochon, J., Guzman, G., Liedtke, S., Lian Lim, P., Lockhart, K. E., Mommert, M., Morris, B. M., Norman, H., Parikh, M., Persson, M. V., Robitaille, T. P., Segovia, J.-C., Singer, L. P., Tollerud, E. J., de Val-Borro, M., Valtchanov, I., Woillez, J., Astroquery Collaboration, & a subset of astropy Collaboration\n",
    "2019, Astronomical Journal, 157, 98\n",
    "\n",
    "ABSTRACT: astroquery is a collection of tools for requesting data from databases hosted on remote servers with interfaces exposed on the internet, including those with web pages but without formal application program interfaces. These tools are built on the Python requests package, which is used to make HTTP requests, and astropy, which provides most of the data parsing functionality. astroquery modules generally attempt to replicate the web page interface provided by a given service as closely as possible, making the transition from browser-based to command-line interaction easy. astroquery has received significant contributions from throughout the astronomical community, including several from telescope archives. astroquery enables the creation of fully reproducible workflows from data acquisition through publication. This paper describes the philosophy, basic structure, and development model of the astroquery package. The complete documentation for astroquery can be found at <A href=\"http://astroquery.readthedocs.io/\">http://astroquery.readthedocs.io/</A>.\n",
    "ADS URL : https://ui.adsabs.harvard.edu/abs/2019AJ....157...98G\n",
    "\n",
    "* Some examples of Astroquery uses:\n",
    " * part of astroquery: TAP/TAP+: https://astroquery.readthedocs.io/en/latest/utils/tap.html\n",
    " * Gaia TAP+: https://astroquery.readthedocs.io/en/latest/gaia/gaia.html\n",
    " * Atomic line list: https://astroquery.readthedocs.io/en/latest/atomic/atomic.html\n",
    " * Simbad: https://astroquery.readthedocs.io/en/latest/simbad/simbad.html\n",
    " * Vizier: https://astroquery.readthedocs.io/en/latest/vizier/vizier.html\n",
    " * This lecture explains step by step how to extract information from the Gaia database: https://allendowney.github.io/AstronomicalData/\n",
    " \n",
    "* Talk on astroquery from ADASS XXX conference : https://www.youtube.com/watch?v=FcLvhgSHLl0\n"
   ]
  },
  {
   "cell_type": "code",
   "execution_count": 2,
   "metadata": {},
   "outputs": [],
   "source": [
    "import matplotlib.pyplot as plt"
   ]
  },
  {
   "cell_type": "markdown",
   "metadata": {},
   "source": [
    "### Querying Vizier"
   ]
  },
  {
   "cell_type": "code",
   "execution_count": 1,
   "metadata": {},
   "outputs": [],
   "source": [
    "try:\n",
    "    from astroquery.vizier import Vizier\n",
    "except:\n",
    "    !pip install astroquery\n",
    "    from astroquery.vizier import Vizier"
   ]
  },
  {
   "cell_type": "code",
   "execution_count": 24,
   "metadata": {},
   "outputs": [
    {
     "name": "stderr",
     "output_type": "stream",
     "text": [
      "WARNING: UnitsWarning: Unit 'Sun' not supported by the VOUnit standard. Did you mean uN? [astropy.units.format.vounit]\n",
      "WARNING: UnitsWarning: The unit 'ct' has been deprecated in the VOUnit standard. [astropy.units.format.utils]\n"
     ]
    }
   ],
   "source": [
    "catalog_list = Vizier.find_catalogs('Kang W51')"
   ]
  },
  {
   "cell_type": "code",
   "execution_count": 27,
   "metadata": {},
   "outputs": [
    {
     "data": {
      "text/plain": [
       "OrderedDict([('J/ApJ/684/1143', </>),\n",
       "             ('J/ApJ/736/87', </>),\n",
       "             ('J/ApJ/738/79', </>),\n",
       "             ('J/ApJ/760/12', </>),\n",
       "             ('J/ApJ/785/119', </>),\n",
       "             ('J/ApJ/813/39', </>),\n",
       "             ('J/ApJ/839/12', </>),\n",
       "             ('J/ApJ/859/4', </>),\n",
       "             ('J/ApJ/879/10', </>),\n",
       "             ('J/ApJ/886/75', </>),\n",
       "             ('J/ApJ/886/93', </>),\n",
       "             ('J/ApJ/887/134', </>),\n",
       "             ('J/ApJ/889/L34', </>),\n",
       "             ('J/ApJ/892/93', </>),\n",
       "             ('J/ApJ/902/104', </>),\n",
       "             ('J/ApJ/916/47', </>),\n",
       "             ('J/ApJS/165/360', </>),\n",
       "             ('J/ApJS/191/232', </>),\n",
       "             ('J/ApJS/236/51', </>),\n",
       "             ('J/ApJS/238/29', </>),\n",
       "             ('J/ApJS/249/33', </>),\n",
       "             ('J/ApJS/258/40', </>),\n",
       "             ('J/ApJS/265/4', </>),\n",
       "             ('J/A+A/454/717', </>),\n",
       "             ('J/A+A/548/A29', </>),\n",
       "             ('J/A+A/563/A120', </>),\n",
       "             ('J/A+A/578/A51', </>),\n",
       "             ('J/A+A/622/A81', </>),\n",
       "             ('J/A+A/642/A85', </>),\n",
       "             ('J/A+A/647/A78', </>),\n",
       "             ('J/A+A/651/A74', </>),\n",
       "             ('J/AJ/127/539', </>),\n",
       "             ('J/AJ/128/846', </>),\n",
       "             ('J/AJ/144/35', </>),\n",
       "             ('J/AJ/144/150', </>),\n",
       "             ('J/AJ/145/167', </>),\n",
       "             ('J/AJ/149/59', </>),\n",
       "             ('J/AJ/150/1', </>),\n",
       "             ('J/MNRAS/310/982', </>),\n",
       "             ('J/MNRAS/359/865', </>),\n",
       "             ('J/MNRAS/385/2225', </>),\n",
       "             ('J/MNRAS/401/160', </>),\n",
       "             ('J/MNRAS/439/611', </>),\n",
       "             ('J/MNRAS/485/2895', </>),\n",
       "             ('J/MNRAS/496/2790', </>),\n",
       "             ('J/MNRAS/496/2821', </>)])"
      ]
     },
     "execution_count": 27,
     "metadata": {},
     "output_type": "execute_result"
    }
   ],
   "source": [
    "catalog_list"
   ]
  },
  {
   "cell_type": "code",
   "execution_count": 5,
   "metadata": {},
   "outputs": [
    {
     "name": "stdout",
     "output_type": "stream",
     "text": [
      "TableList with 1 tables:\n",
      "\t'0:J/ApJ/706/83/ysos' with 22 column(s) and 50 row(s) \n"
     ]
    }
   ],
   "source": [
    "catalogs = Vizier.get_catalogs('J/ApJ/706/83/ysos')\n",
    "print(catalogs)"
   ]
  },
  {
   "cell_type": "code",
   "execution_count": 28,
   "metadata": {},
   "outputs": [
    {
     "name": "stdout",
     "output_type": "stream",
     "text": [
      "TableList with 1 tables:\n",
      "\t'0:J/ApJ/706/83/ysos' with 22 column(s) and 737 row(s) \n"
     ]
    }
   ],
   "source": [
    "Vizier.ROW_LIMIT = -1\n",
    "catalogs = Vizier.get_catalogs('J/ApJ/706/83/ysos')\n",
    "print(catalogs)"
   ]
  },
  {
   "cell_type": "code",
   "execution_count": 29,
   "metadata": {},
   "outputs": [],
   "source": [
    "Table = catalogs['J/ApJ/706/83/ysos']"
   ]
  },
  {
   "cell_type": "code",
   "execution_count": 30,
   "metadata": {},
   "outputs": [
    {
     "data": {
      "text/plain": [
       "astropy.table.table.Table"
      ]
     },
     "execution_count": 30,
     "metadata": {},
     "output_type": "execute_result"
    }
   ],
   "source": [
    "type(Table)"
   ]
  },
  {
   "cell_type": "code",
   "execution_count": 31,
   "metadata": {},
   "outputs": [
    {
     "name": "stdout",
     "output_type": "stream",
     "text": [
      "Seq f_Seq      SSTGLMC       AV   Mstar  ...  A  _2M Simbad  _Glon    _Glat  \n",
      "                            mag  solMass ...                  deg      deg   \n",
      "--- ----- ----------------- ---- ------- ... --- --- ------ -------- --------\n",
      "  1       G048.7567-00.6341  4.0     3.0 ...   F  2M Simbad  48.7567  -0.6341\n",
      "  2       G048.7579-00.2797  1.6     2.7 ...   F  2M Simbad  48.7579  -0.2797\n",
      "  3       G048.7605-00.0388 33.3     4.1 ...   W  2M Simbad  48.7605  -0.0388\n",
      "  4       G048.7618+00.0627 51.8     4.0 ...   W  2M Simbad  48.7618   0.0627\n",
      "  5       G048.7637+00.2022 25.7     3.5 ...   W  2M Simbad  48.7637   0.2022\n",
      "  6       G048.7655+00.1017  3.0     3.2 ...   F  2M Simbad  48.7655   0.1017\n",
      "  7       G048.7667+00.0766  7.5     4.0 ...   F  2M Simbad  48.7667   0.0766\n",
      "  8       G048.7702-00.1505 18.8     3.9 ...   W  2M Simbad  48.7702  -0.1505\n",
      "  9       G048.7703+00.0786 52.7     6.6 ...   W  2M Simbad  48.7703   0.0786\n",
      " 10       G048.7720-00.4792  9.3     4.6 ...   F  2M Simbad  48.7720  -0.4792\n",
      "...   ...               ...  ...     ... ... ... ...    ...      ...      ...\n",
      "728       G049.9895-00.0079 20.0     4.9 ...   W  2M Simbad  49.9895  -0.0079\n",
      "729       G049.9899-00.1413 21.5    10.1 ...   W  2M Simbad  49.9899  -0.1413\n",
      "730       G049.9914-00.1333 23.5     9.1 ...   W  2M Simbad  49.9914  -0.1333\n",
      "731       G049.9937+00.0231  6.4     3.2 ...   F  2M Simbad  49.9937   0.0231\n",
      "732       G049.9952-00.0063 12.5     4.9 ...   W  2M Simbad  49.9952  -0.0063\n",
      "733       G049.9972+00.2599 33.6     5.6 ...   W  2M Simbad  49.9972   0.2599\n",
      "734       G049.9973+00.2605 17.3    10.1 ...   W  2M Simbad  49.9973   0.2605\n",
      "735       G049.9973+00.2630  8.4     5.2 ...   F  2M Simbad  49.9973   0.2630\n",
      "736       G049.9977-00.1261 11.3     8.3 ...   W  2M Simbad  49.9977  -0.1261\n",
      "737       G049.9982-00.1303 25.9     8.1 ...   W  2M Simbad  49.9982  -0.1303\n",
      "Length = 737 rows\n"
     ]
    }
   ],
   "source": [
    "print(Table)"
   ]
  },
  {
   "cell_type": "code",
   "execution_count": 10,
   "metadata": {},
   "outputs": [
    {
     "name": "stdout",
     "output_type": "stream",
     "text": [
      "['Seq', 'f_Seq', 'SSTGLMC', 'AV', 'Mstar', 'Ltot', 'Stg', 'Cl1', 'Cl2', 'Jmag', 'Hmag', 'Ksmag', '__3.6_', '__4.5_', '__5.8_', '__8.0_', '__24_', 'A', '_2M', 'Simbad', '_Glon', '_Glat']\n"
     ]
    }
   ],
   "source": [
    "print(Table.keys())"
   ]
  },
  {
   "cell_type": "code",
   "execution_count": 32,
   "metadata": {},
   "outputs": [
    {
     "data": {
      "image/png": "[encoded data removed]",
      "text/plain": [
       "<Figure size 640x480 with 1 Axes>"
      ]
     },
     "metadata": {},
     "output_type": "display_data"
    }
   ],
   "source": [
    "f, ax = plt.subplots()\n",
    "ax.scatter(Table['Jmag'] - Table['Hmag'], Table['Jmag'], c=Table['Mstar']);"
   ]
  },
  {
   "cell_type": "markdown",
   "metadata": {},
   "source": [
    "### Querying MAST\n",
    "\n",
    "https://archive.stsci.edu/access-mast-data"
   ]
  },
  {
   "cell_type": "code",
   "execution_count": 12,
   "metadata": {},
   "outputs": [],
   "source": [
    "from astroquery.mast import Catalogs, Observations"
   ]
  },
  {
   "cell_type": "code",
   "execution_count": 13,
   "metadata": {},
   "outputs": [],
   "source": [
    "obs_table = Observations.query_object(\"IC 418\",radius=\".02 deg\")"
   ]
  },
  {
   "cell_type": "code",
   "execution_count": 14,
   "metadata": {},
   "outputs": [],
   "source": [
    "obs_table.show_in_browser(jsviewer=True)"
   ]
  },
  {
   "cell_type": "code",
   "execution_count": 15,
   "metadata": {},
   "outputs": [],
   "source": [
    "mask_spectrum = obs_table['dataproduct_type'] == 'spectrum'"
   ]
  },
  {
   "cell_type": "code",
   "execution_count": 16,
   "metadata": {},
   "outputs": [
    {
     "name": "stdout",
     "output_type": "stream",
     "text": [
      "237 90\n"
     ]
    }
   ],
   "source": [
    "print(len(obs_table), mask_spectrum.sum())"
   ]
  },
  {
   "cell_type": "code",
   "execution_count": 17,
   "metadata": {},
   "outputs": [],
   "source": [
    "data_products_by_obs = Observations.get_product_list(obs_table[mask_spectrum][0:2])"
   ]
  },
  {
   "cell_type": "code",
   "execution_count": 18,
   "metadata": {},
   "outputs": [],
   "source": [
    "data_products_by_obs.show_in_browser(jsviewer=True)"
   ]
  },
  {
   "cell_type": "code",
   "execution_count": 19,
   "metadata": {},
   "outputs": [
    {
     "name": "stdout",
     "output_type": "stream",
     "text": [
      "Downloading URL https://mast.stsci.edu/api/v0.1/Download/file?uri=mast:IUE/url/pub/iue/data/lwr/02000/lwr02252.mxlo.gz to ./mastDownload/IUE/lwr02252/lwr02252.mxlo.gz ... [Done]\n",
      "Downloading URL https://mast.stsci.edu/api/v0.1/Download/file?uri=mast:IUE/url/pub/vospectra/iue2/lwr02252mxlo_vo.fits to ./mastDownload/IUE/lwr02252/lwr02252mxlo_vo.fits ... [Done]\n"
     ]
    }
   ],
   "source": [
    "obs1 = Observations.download_products('295913', productType=\"SCIENCE\")"
   ]
  },
  {
   "cell_type": "code",
   "execution_count": 20,
   "metadata": {},
   "outputs": [
    {
     "data": {
      "text/html": [
       "<div><i>Table length=2</i>\n",
       "<table id=\"table140477016378240\" class=\"table-striped table-bordered table-condensed\">\n",
       "<thead><tr><th>Local Path</th><th>Status</th><th>Message</th><th>URL</th></tr></thead>\n",
       "<thead><tr><th>str48</th><th>str8</th><th>object</th><th>object</th></tr></thead>\n",
       "<tr><td>./mastDownload/IUE/lwr02252/lwr02252.mxlo.gz</td><td>COMPLETE</td><td>None</td><td>None</td></tr>\n",
       "<tr><td>./mastDownload/IUE/lwr02252/lwr02252mxlo_vo.fits</td><td>COMPLETE</td><td>None</td><td>None</td></tr>\n",
       "</table></div>"
      ],
      "text/plain": [
       "<Table length=2>\n",
       "                   Local Path                     Status  Message  URL  \n",
       "                     str48                         str8    object object\n",
       "------------------------------------------------ -------- ------- ------\n",
       "    ./mastDownload/IUE/lwr02252/lwr02252.mxlo.gz COMPLETE    None   None\n",
       "./mastDownload/IUE/lwr02252/lwr02252mxlo_vo.fits COMPLETE    None   None"
      ]
     },
     "execution_count": 20,
     "metadata": {},
     "output_type": "execute_result"
    }
   ],
   "source": [
    "obs1"
   ]
  },
  {
   "cell_type": "markdown",
   "metadata": {},
   "source": [
    "### Catalogs"
   ]
  },
  {
   "cell_type": "code",
   "execution_count": 21,
   "metadata": {},
   "outputs": [],
   "source": [
    "catalog_data = Catalogs.query_object(\"IC 418\")"
   ]
  },
  {
   "cell_type": "code",
   "execution_count": 22,
   "metadata": {},
   "outputs": [
    {
     "data": {
      "text/html": [
       "<div><i>Table masked=True length=2602</i>\n",
       "<table id=\"table140477019105264\" class=\"table-striped table-bordered table-condensed\">\n",
       "<thead><tr><th>MatchID</th><th>Distance</th><th>MatchRA</th><th>MatchDec</th><th>DSigma</th><th>AbsCorr</th><th>NumFilters</th><th>NumVisits</th><th>NumImages</th><th>StartTime</th><th>StopTime</th><th>StartMJD</th><th>StopMJD</th><th>TargetName</th><th>CI</th><th>CI_Sigma</th><th>KronRadius</th><th>KronRadius_Sigma</th><th>Extinction</th><th>SpectrumFlag</th><th>W2_F502N</th><th>W2_F502N_MAD</th><th>W2_F502N_N</th><th>W2_F555W</th><th>W2_F555W_MAD</th><th>W2_F555W_N</th><th>W2_F606W</th><th>W2_F606W_MAD</th><th>W2_F606W_N</th><th>W2_F656N</th><th>W2_F656N_MAD</th><th>W2_F656N_N</th><th>W2_F658N</th><th>W2_F658N_MAD</th><th>W2_F658N_N</th></tr></thead>\n",
       "<thead><tr><th>str9</th><th>float64</th><th>float64</th><th>float64</th><th>float64</th><th>str1</th><th>int64</th><th>int64</th><th>int64</th><th>str21</th><th>str21</th><th>float64</th><th>float64</th><th>str10</th><th>float64</th><th>float64</th><th>float64</th><th>float64</th><th>float64</th><th>str1</th><th>float64</th><th>float64</th><th>int64</th><th>float64</th><th>float64</th><th>int64</th><th>float64</th><th>float64</th><th>int64</th><th>float64</th><th>float64</th><th>int64</th><th>float64</th><th>float64</th><th>int64</th></tr></thead>\n",
       "<tr><td>90374054</td><td>0.0024195100745320595</td><td>81.86755647816761</td><td>-12.697274723428315</td><td>140.12916369880315</td><td>Y</td><td>3</td><td>2</td><td>5</td><td>/Date(937279573430)/</td><td>/Date(1189379756870)/</td><td>51435.14321097685</td><td>54352.969408194534</td><td>IC418</td><td>2.7597674796916367</td><td>0.7014744682366316</td><td>0.45499999999999996</td><td>0.0</td><td>0.2232816070318222</td><td>N</td><td>11.487844467163086</td><td>0.7058448791503906</td><td>2</td><td>13.508299827575684</td><td>0.0</td><td>1</td><td>nan</td><td>nan</td><td>0</td><td>nan</td><td>nan</td><td>0</td><td>11.417695045471191</td><td>0.3621950149536133</td><td>2</td></tr>\n",
       "<tr><td>85650262</td><td>0.011976049939482375</td><td>81.867462</td><td>-12.697490600000002</td><td>0.0</td><td>N</td><td>1</td><td>1</td><td>1</td><td>/Date(919163413257)/</td><td>/Date(919165173380)/</td><td>51225.46543117147</td><td>51225.48580298154</td><td>PK215-24D1</td><td>3.672507594359245</td><td>0.0</td><td>0.45499999999999996</td><td>0.0</td><td>0.2232816070318222</td><td>N</td><td>nan</td><td>nan</td><td>0</td><td>nan</td><td>nan</td><td>0</td><td>nan</td><td>nan</td><td>0</td><td>13.073589324951172</td><td>0.0</td><td>1</td><td>nan</td><td>nan</td><td>0</td></tr>\n",
       "<tr><td>59074158</td><td>0.012807511497058832</td><td>81.8675081</td><td>-12.6970878</td><td>0.0</td><td>N</td><td>1</td><td>1</td><td>1</td><td>/Date(919163413257)/</td><td>/Date(919165173380)/</td><td>51225.46543117147</td><td>51225.48580298154</td><td>PK215-24D1</td><td>1.3282477315459005</td><td>0.0</td><td>0.45499999999999996</td><td>0.0</td><td>0.2232816070318222</td><td>N</td><td>nan</td><td>nan</td><td>0</td><td>nan</td><td>nan</td><td>0</td><td>nan</td><td>nan</td><td>0</td><td>11.700789451599121</td><td>0.0</td><td>1</td><td>nan</td><td>nan</td><td>0</td></tr>\n",
       "<tr><td>49514032</td><td>0.016868456405597757</td><td>81.8673507</td><td>-12.6970766</td><td>0.0</td><td>N</td><td>1</td><td>1</td><td>1</td><td>/Date(1002132615097)/</td><td>/Date(1002133515093)/</td><td>52185.75711911125</td><td>52185.76753574284</td><td>IC418</td><td>2.0561933157307144</td><td>0.0</td><td>0.45499999999999996</td><td>0.0</td><td>0.2232816070318222</td><td>N</td><td>nan</td><td>nan</td><td>0</td><td>nan</td><td>nan</td><td>0</td><td>nan</td><td>nan</td><td>0</td><td>nan</td><td>nan</td><td>0</td><td>12.264599800109863</td><td>0.0</td><td>1</td></tr>\n",
       "<tr><td>3849061</td><td>0.02201639285139814</td><td>81.86745490070544</td><td>-12.697661182669316</td><td>0.0</td><td>Y</td><td>1</td><td>1</td><td>1</td><td>/Date(1189374496997)/</td><td>/Date(1189375876997)/</td><td>54352.908530027606</td><td>54352.9245022363</td><td>IC418</td><td>3.8767163433245755</td><td>0.0</td><td>0.45499999999999996</td><td>0.0</td><td>0.2232816070318222</td><td>N</td><td>13.405989646911621</td><td>0.0</td><td>1</td><td>nan</td><td>nan</td><td>0</td><td>nan</td><td>nan</td><td>0</td><td>nan</td><td>nan</td><td>0</td><td>nan</td><td>nan</td><td>0</td></tr>\n",
       "<tr><td>79528152</td><td>0.025527337955486177</td><td>81.8675458104757</td><td>-12.697725597380884</td><td>0.0</td><td>Y</td><td>3</td><td>1</td><td>3</td><td>/Date(937279573430)/</td><td>/Date(937287233430)/</td><td>51435.14321097685</td><td>51435.23186839372</td><td>IC418</td><td>3.234443902714927</td><td>0.20027712778925374</td><td>0.4549999999999999</td><td>6.798699777552591e-17</td><td>0.2232816070318222</td><td>N</td><td>12.978099822998047</td><td>0.0</td><td>1</td><td>16.269100189208984</td><td>0.0</td><td>1</td><td>nan</td><td>nan</td><td>0</td><td>nan</td><td>nan</td><td>0</td><td>16.81999969482422</td><td>0.0</td><td>1</td></tr>\n",
       "<tr><td>34439260</td><td>0.028276258555586024</td><td>81.86788534214881</td><td>-12.696986964414894</td><td>0.0</td><td>Y</td><td>2</td><td>1</td><td>2</td><td>/Date(1189374496997)/</td><td>/Date(1189379756870)/</td><td>54352.908530027606</td><td>54352.969408194534</td><td>IC418</td><td>3.699908973280848</td><td>0.19068432706273944</td><td>0.45499999999999996</td><td>0.0</td><td>0.2232816070318222</td><td>N</td><td>13.309289932250977</td><td>0.0</td><td>1</td><td>nan</td><td>nan</td><td>0</td><td>nan</td><td>nan</td><td>0</td><td>nan</td><td>nan</td><td>0</td><td>16.369991302490234</td><td>0.0</td><td>1</td></tr>\n",
       "<tr><td>60760708</td><td>0.032571346344362324</td><td>81.8680064</td><td>-12.697572600000003</td><td>0.0</td><td>N</td><td>1</td><td>1</td><td>1</td><td>/Date(1002132615097)/</td><td>/Date(1002133515093)/</td><td>52185.75711911125</td><td>52185.76753574284</td><td>IC418</td><td>2.9283987071218807</td><td>0.0</td><td>0.45499999999999996</td><td>0.0</td><td>0.2232816070318222</td><td>N</td><td>nan</td><td>nan</td><td>0</td><td>nan</td><td>nan</td><td>0</td><td>nan</td><td>nan</td><td>0</td><td>nan</td><td>nan</td><td>0</td><td>15.468600273132324</td><td>0.0</td><td>1</td></tr>\n",
       "<tr><td>14474603</td><td>0.03545828567463777</td><td>81.8670761</td><td>-12.6969036</td><td>0.0</td><td>N</td><td>1</td><td>1</td><td>1</td><td>/Date(919163413257)/</td><td>/Date(919165173380)/</td><td>51225.46543117147</td><td>51225.48580298154</td><td>PK215-24D1</td><td>4.013897429059999</td><td>0.0</td><td>0.45499999999999996</td><td>0.0</td><td>0.2232816070318222</td><td>N</td><td>nan</td><td>nan</td><td>0</td><td>nan</td><td>nan</td><td>0</td><td>nan</td><td>nan</td><td>0</td><td>14.019389152526855</td><td>0.0</td><td>1</td><td>nan</td><td>nan</td><td>0</td></tr>\n",
       "<tr><td>83044493</td><td>0.03605499193155451</td><td>81.8678133</td><td>-12.6967697</td><td>0.0</td><td>N</td><td>1</td><td>1</td><td>1</td><td>/Date(919163413257)/</td><td>/Date(919165173380)/</td><td>51225.46543117147</td><td>51225.48580298154</td><td>PK215-24D1</td><td>4.232779370333853</td><td>0.0</td><td>0.45499999999999996</td><td>0.0</td><td>0.2232816070318222</td><td>N</td><td>nan</td><td>nan</td><td>0</td><td>nan</td><td>nan</td><td>0</td><td>nan</td><td>nan</td><td>0</td><td>13.396889686584473</td><td>0.0</td><td>1</td><td>nan</td><td>nan</td><td>0</td></tr>\n",
       "<tr><td>...</td><td>...</td><td>...</td><td>...</td><td>...</td><td>...</td><td>...</td><td>...</td><td>...</td><td>...</td><td>...</td><td>...</td><td>...</td><td>...</td><td>...</td><td>...</td><td>...</td><td>...</td><td>...</td><td>...</td><td>...</td><td>...</td><td>...</td><td>...</td><td>...</td><td>...</td><td>...</td><td>...</td><td>...</td><td>...</td><td>...</td><td>...</td><td>...</td><td>...</td><td>...</td></tr>\n",
       "<tr><td>46442569</td><td>6.163894540712083</td><td>81.78104725146208</td><td>-12.638691162636576</td><td>0.0</td><td>Y</td><td>1</td><td>1</td><td>1</td><td>/Date(921328453407)/</td><td>/Date(921330593407)/</td><td>51250.52376624057</td><td>51250.5485347826</td><td>ANY</td><td>2.6652325031369233</td><td>0.0</td><td>0.3499999940395355</td><td>0.0</td><td>0.2097422033548355</td><td>N</td><td>nan</td><td>nan</td><td>0</td><td>nan</td><td>nan</td><td>0</td><td>25.13559913635254</td><td>0.0</td><td>1</td><td>nan</td><td>nan</td><td>0</td><td>nan</td><td>nan</td><td>0</td></tr>\n",
       "<tr><td>87561287</td><td>6.2027311621484245</td><td>81.8014541924262</td><td>-12.616483280326616</td><td>0.0</td><td>Y</td><td>1</td><td>1</td><td>1</td><td>/Date(921328453407)/</td><td>/Date(921330593407)/</td><td>51250.52376624057</td><td>51250.5485347826</td><td>ANY</td><td>0.9568604619004005</td><td>0.0</td><td>0.3499999940395355</td><td>0.0</td><td>0.2315555065870285</td><td>N</td><td>nan</td><td>nan</td><td>0</td><td>nan</td><td>nan</td><td>0</td><td>23.901199340820312</td><td>0.0</td><td>1</td><td>nan</td><td>nan</td><td>0</td><td>nan</td><td>nan</td><td>0</td></tr>\n",
       "<tr><td>40311846</td><td>6.203098083469302</td><td>81.78591026945158</td><td>-12.63136365705184</td><td>0.0</td><td>Y</td><td>1</td><td>1</td><td>1</td><td>/Date(921328453407)/</td><td>/Date(921330593407)/</td><td>51250.52376624057</td><td>51250.5485347826</td><td>ANY</td><td>1.1751162451367045</td><td>0.0</td><td>0.3499999940395355</td><td>0.0</td><td>0.2315555065870285</td><td>N</td><td>nan</td><td>nan</td><td>0</td><td>nan</td><td>nan</td><td>0</td><td>23.322799682617188</td><td>0.0</td><td>1</td><td>nan</td><td>nan</td><td>0</td><td>nan</td><td>nan</td><td>0</td></tr>\n",
       "<tr><td>98018064</td><td>6.211493316222754</td><td>81.78285300240735</td><td>-12.634908449161575</td><td>0.0</td><td>Y</td><td>1</td><td>1</td><td>1</td><td>/Date(921328453407)/</td><td>/Date(921330593407)/</td><td>51250.52376624057</td><td>51250.5485347826</td><td>ANY</td><td>1.9106977207716123</td><td>0.0</td><td>0.3710000216960907</td><td>0.0</td><td>0.2315555065870285</td><td>N</td><td>nan</td><td>nan</td><td>0</td><td>nan</td><td>nan</td><td>0</td><td>25.186500549316406</td><td>0.0</td><td>1</td><td>nan</td><td>nan</td><td>0</td><td>nan</td><td>nan</td><td>0</td></tr>\n",
       "<tr><td>24343268</td><td>6.243147156375478</td><td>81.80339943978788</td><td>-12.614160758091833</td><td>0.0</td><td>Y</td><td>1</td><td>1</td><td>1</td><td>/Date(921328453407)/</td><td>/Date(921330593407)/</td><td>51250.52376624057</td><td>51250.5485347826</td><td>ANY</td><td>1.9168604251950287</td><td>0.0</td><td>0.3499999940395355</td><td>0.0</td><td>0.2315555065870285</td><td>N</td><td>nan</td><td>nan</td><td>0</td><td>nan</td><td>nan</td><td>0</td><td>18.99449920654297</td><td>0.0</td><td>1</td><td>nan</td><td>nan</td><td>0</td><td>nan</td><td>nan</td><td>0</td></tr>\n",
       "<tr><td>33286019</td><td>6.279836860966224</td><td>81.78279148395757</td><td>-12.633113753019495</td><td>0.0</td><td>Y</td><td>1</td><td>1</td><td>1</td><td>/Date(921328453407)/</td><td>/Date(921330593407)/</td><td>51250.52376624057</td><td>51250.5485347826</td><td>ANY</td><td>1.9672093003295188</td><td>0.0</td><td>0.3499999940395355</td><td>0.0</td><td>0.2315555065870285</td><td>N</td><td>nan</td><td>nan</td><td>0</td><td>nan</td><td>nan</td><td>0</td><td>24.434900283813477</td><td>0.0</td><td>1</td><td>nan</td><td>nan</td><td>0</td><td>nan</td><td>nan</td><td>0</td></tr>\n",
       "<tr><td>13146491</td><td>6.36624878774303</td><td>81.79527629046265</td><td>-12.617998168506656</td><td>0.0</td><td>Y</td><td>1</td><td>1</td><td>1</td><td>/Date(921328453407)/</td><td>/Date(921330593407)/</td><td>51250.52376624057</td><td>51250.5485347826</td><td>ANY</td><td>0.8990697389425234</td><td>0.0</td><td>0.3499999940395355</td><td>0.0</td><td>0.2315555065870285</td><td>N</td><td>nan</td><td>nan</td><td>0</td><td>nan</td><td>nan</td><td>0</td><td>24.90530014038086</td><td>0.0</td><td>1</td><td>nan</td><td>nan</td><td>0</td><td>nan</td><td>nan</td><td>0</td></tr>\n",
       "<tr><td>103027787</td><td>6.379484953628598</td><td>81.77510689904253</td><td>-12.64095593589095</td><td>0.0</td><td>Y</td><td>1</td><td>1</td><td>1</td><td>/Date(921328453407)/</td><td>/Date(921330593407)/</td><td>51250.52376624057</td><td>51250.5485347826</td><td>ANY</td><td>1.8162791119065396</td><td>0.0</td><td>0.3499999940395355</td><td>0.0</td><td>0.2097422033548355</td><td>N</td><td>nan</td><td>nan</td><td>0</td><td>nan</td><td>nan</td><td>0</td><td>23.958999633789062</td><td>0.0</td><td>1</td><td>nan</td><td>nan</td><td>0</td><td>nan</td><td>nan</td><td>0</td></tr>\n",
       "<tr><td>69478781</td><td>6.429983914053197</td><td>81.79812954297455</td><td>-12.614233789213866</td><td>0.0</td><td>Y</td><td>1</td><td>1</td><td>1</td><td>/Date(921328453407)/</td><td>/Date(921330593407)/</td><td>51250.52376624057</td><td>51250.5485347826</td><td>ANY</td><td>0.7718604664469875</td><td>0.0</td><td>0.3499999940395355</td><td>0.0</td><td>0.2315555065870285</td><td>N</td><td>nan</td><td>nan</td><td>0</td><td>nan</td><td>nan</td><td>0</td><td>24.647499084472656</td><td>0.0</td><td>1</td><td>nan</td><td>nan</td><td>0</td><td>nan</td><td>nan</td><td>0</td></tr>\n",
       "<tr><td>74166488</td><td>6.43736824292383</td><td>81.80108818382145</td><td>-12.611807703304587</td><td>0.0</td><td>Y</td><td>1</td><td>1</td><td>1</td><td>/Date(921328453407)/</td><td>/Date(921330593407)/</td><td>51250.52376624057</td><td>51250.5485347826</td><td>ANY</td><td>1.2626743593881298</td><td>0.0</td><td>0.3499999940395355</td><td>0.0</td><td>0.2315555065870285</td><td>N</td><td>nan</td><td>nan</td><td>0</td><td>nan</td><td>nan</td><td>0</td><td>24.84950065612793</td><td>0.0</td><td>1</td><td>nan</td><td>nan</td><td>0</td><td>nan</td><td>nan</td><td>0</td></tr>\n",
       "</table></div>"
      ],
      "text/plain": [
       "<Table masked=True length=2602>\n",
       " MatchID         Distance       ...    W2_F658N_MAD    W2_F658N_N\n",
       "   str9          float64        ...      float64         int64   \n",
       "--------- --------------------- ... ------------------ ----------\n",
       " 90374054 0.0024195100745320595 ... 0.3621950149536133          2\n",
       " 85650262  0.011976049939482375 ...                nan          0\n",
       " 59074158  0.012807511497058832 ...                nan          0\n",
       " 49514032  0.016868456405597757 ...                0.0          1\n",
       "  3849061   0.02201639285139814 ...                nan          0\n",
       " 79528152  0.025527337955486177 ...                0.0          1\n",
       " 34439260  0.028276258555586024 ...                0.0          1\n",
       " 60760708  0.032571346344362324 ...                0.0          1\n",
       " 14474603   0.03545828567463777 ...                nan          0\n",
       " 83044493   0.03605499193155451 ...                nan          0\n",
       "      ...                   ... ...                ...        ...\n",
       " 46442569     6.163894540712083 ...                nan          0\n",
       " 87561287    6.2027311621484245 ...                nan          0\n",
       " 40311846     6.203098083469302 ...                nan          0\n",
       " 98018064     6.211493316222754 ...                nan          0\n",
       " 24343268     6.243147156375478 ...                nan          0\n",
       " 33286019     6.279836860966224 ...                nan          0\n",
       " 13146491      6.36624878774303 ...                nan          0\n",
       "103027787     6.379484953628598 ...                nan          0\n",
       " 69478781     6.429983914053197 ...                nan          0\n",
       " 74166488      6.43736824292383 ...                nan          0"
      ]
     },
     "execution_count": 22,
     "metadata": {},
     "output_type": "execute_result"
    }
   ],
   "source": [
    "catalog_data"
   ]
  },
  {
   "cell_type": "code",
   "execution_count": 23,
   "metadata": {},
   "outputs": [],
   "source": [
    "catalog_data.show_in_browser(jsviewer=True)"
   ]
  }
 ],
 "metadata": {
  "kernelspec": {
   "display_name": "ML",
   "language": "python",
   "name": "python3"
  },
  "language_info": {
   "codemirror_mode": {
    "name": "ipython",
    "version": 3
   },
   "file_extension": ".py",
   "mimetype": "text/x-python",
   "name": "python",
   "nbconvert_exporter": "python",
   "pygments_lexer": "ipython3",
   "version": "3.9.16"
  }
 },
 "nbformat": 4,
 "nbformat_minor": 4
}

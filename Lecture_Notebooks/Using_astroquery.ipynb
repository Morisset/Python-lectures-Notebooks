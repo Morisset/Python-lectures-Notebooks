{
 "cells": [
  {
   "cell_type": "markdown",
   "metadata": {},
   "source": [
    "# K Using astroquery"
   ]
  },
  {
   "cell_type": "markdown",
   "metadata": {},
   "source": [
    "* Astroquery: part of astropy : https://astroquery.readthedocs.io/en/latest/index.html\n",
    "\n",
    "astroquery: An Astronomical Web-querying Package in Python \n",
    "Ginsburg, A., Sipocz, B. M., Brasseur, C. E., Cowperthwaite, P. S., Craig, M. W., Deil, C., Guillochon, J., Guzman, G., Liedtke, S., Lian Lim, P., Lockhart, K. E., Mommert, M., Morris, B. M., Norman, H., Parikh, M., Persson, M. V., Robitaille, T. P., Segovia, J.-C., Singer, L. P., Tollerud, E. J., de Val-Borro, M., Valtchanov, I., Woillez, J., Astroquery Collaboration, & a subset of astropy Collaboration\n",
    "2019, Astronomical Journal, 157, 98\n",
    "\n",
    "ABSTRACT: astroquery is a collection of tools for requesting data from databases hosted on remote servers with interfaces exposed on the internet, including those with web pages but without formal application program interfaces. These tools are built on the Python requests package, which is used to make HTTP requests, and astropy, which provides most of the data parsing functionality. astroquery modules generally attempt to replicate the web page interface provided by a given service as closely as possible, making the transition from browser-based to command-line interaction easy. astroquery has received significant contributions from throughout the astronomical community, including several from telescope archives. astroquery enables the creation of fully reproducible workflows from data acquisition through publication. This paper describes the philosophy, basic structure, and development model of the astroquery package. The complete documentation for astroquery can be found at <A href=\"http://astroquery.readthedocs.io/\">http://astroquery.readthedocs.io/</A>.\n",
    "ADS URL : https://ui.adsabs.harvard.edu/abs/2019AJ....157...98G\n",
    "\n",
    "* Some examples of Astroquery uses:\n",
    " * part of astroquery: TAP/TAP+: https://astroquery.readthedocs.io/en/latest/utils/tap.html\n",
    " * Gaia TAP+: https://astroquery.readthedocs.io/en/latest/gaia/gaia.html\n",
    " * Atomic line list: https://astroquery.readthedocs.io/en/latest/atomic/atomic.html\n",
    " * Simbad: https://astroquery.readthedocs.io/en/latest/simbad/simbad.html\n",
    " * Vizier: https://astroquery.readthedocs.io/en/latest/vizier/vizier.html\n",
    " * This lecture explains step by step how to extract information from the Gaia database: https://allendowney.github.io/AstronomicalData/\n",
    " \n",
    "* Talk on astroquery from ADASS XXX conference : https://www.youtube.com/watch?v=FcLvhgSHLl0\n"
   ]
  },
  {
   "cell_type": "code",
   "execution_count": 54,
   "metadata": {},
   "outputs": [],
   "source": [
    "import matplotlib.pyplot as plt"
   ]
  },
  {
   "cell_type": "markdown",
   "metadata": {},
   "source": [
    "### Querying Vizier"
   ]
  },
  {
   "cell_type": "code",
   "execution_count": 55,
   "metadata": {},
   "outputs": [],
   "source": [
    "try:\n",
    "    from astroquery.vizier import Vizier\n",
    "except:\n",
    "    !pip install astroquery\n",
    "    from astroquery.vizier import Vizier"
   ]
  },
  {
   "cell_type": "code",
   "execution_count": 56,
   "metadata": {},
   "outputs": [],
   "source": [
    "catalog_list = Vizier.find_catalogs('Kang W51')"
   ]
  },
  {
   "cell_type": "code",
   "execution_count": 4,
   "metadata": {},
   "outputs": [
    {
     "data": {
      "text/plain": [
       "OrderedDict([('J/ApJ/684/1143', </>),\n",
       "             ('J/ApJ/736/87', </>),\n",
       "             ('J/ApJ/738/79', </>),\n",
       "             ('J/ApJ/760/12', </>),\n",
       "             ('J/ApJ/785/119', </>),\n",
       "             ('J/ApJ/813/39', </>),\n",
       "             ('J/ApJ/839/12', </>),\n",
       "             ('J/ApJ/859/4', </>),\n",
       "             ('J/ApJ/879/10', </>),\n",
       "             ('J/ApJ/886/75', </>),\n",
       "             ('J/ApJ/886/93', </>),\n",
       "             ('J/ApJ/887/134', </>),\n",
       "             ('J/ApJ/889/L34', </>),\n",
       "             ('J/ApJ/892/93', </>),\n",
       "             ('J/ApJ/902/104', </>),\n",
       "             ('J/ApJ/916/47', </>),\n",
       "             ('J/ApJ/920/L45', </>),\n",
       "             ('J/ApJS/165/360', </>),\n",
       "             ('J/ApJS/191/232', </>),\n",
       "             ('J/ApJS/236/51', </>),\n",
       "             ('J/ApJS/238/29', </>),\n",
       "             ('J/ApJS/249/33', </>),\n",
       "             ('J/ApJS/258/40', </>),\n",
       "             ('J/ApJS/265/4', </>),\n",
       "             ('J/ApJS/269/25', </>),\n",
       "             ('J/ApJS/271/25', </>),\n",
       "             ('J/ApJS/272/22', </>),\n",
       "             ('J/A+A/454/717', </>),\n",
       "             ('J/A+A/548/A29', </>),\n",
       "             ('J/A+A/563/A120', </>),\n",
       "             ('J/A+A/578/A51', </>),\n",
       "             ('J/A+A/622/A81', </>),\n",
       "             ('J/A+A/642/A85', </>),\n",
       "             ('J/A+A/647/A78', </>),\n",
       "             ('J/A+A/651/A74', </>),\n",
       "             ('J/AJ/127/539', </>),\n",
       "             ('J/AJ/128/846', </>),\n",
       "             ('J/AJ/144/35', </>),\n",
       "             ('J/AJ/144/150', </>),\n",
       "             ('J/AJ/145/167', </>),\n",
       "             ('J/AJ/149/59', </>),\n",
       "             ('J/AJ/150/1', </>),\n",
       "             ('J/MNRAS/310/982', </>),\n",
       "             ('J/MNRAS/359/865', </>),\n",
       "             ('J/MNRAS/385/2225', </>),\n",
       "             ('J/MNRAS/401/160', </>),\n",
       "             ('J/MNRAS/439/611', </>),\n",
       "             ('J/MNRAS/485/2895', </>),\n",
       "             ('J/MNRAS/496/2790', </>),\n",
       "             ('J/MNRAS/496/2821', </>),\n",
       "             ('J/MNRAS/505/2801', </>)])"
      ]
     },
     "execution_count": 4,
     "metadata": {},
     "output_type": "execute_result"
    }
   ],
   "source": [
    "catalog_list"
   ]
  },
  {
   "cell_type": "code",
   "execution_count": 57,
   "metadata": {},
   "outputs": [
    {
     "name": "stdout",
     "output_type": "stream",
     "text": [
      "TableList with 1 tables:\n",
      "\t'0:J/ApJ/706/83/ysos' with 22 column(s) and 737 row(s) \n"
     ]
    }
   ],
   "source": [
    "catalogs = Vizier.get_catalogs('J/ApJ/706/83/ysos')\n",
    "print(catalogs)"
   ]
  },
  {
   "cell_type": "code",
   "execution_count": 58,
   "metadata": {},
   "outputs": [
    {
     "name": "stdout",
     "output_type": "stream",
     "text": [
      "TableList with 1 tables:\n",
      "\t'0:J/ApJ/706/83/ysos' with 22 column(s) and 737 row(s) \n"
     ]
    }
   ],
   "source": [
    "Vizier.ROW_LIMIT = -1\n",
    "catalogs = Vizier.get_catalogs('J/ApJ/706/83/ysos')\n",
    "print(catalogs)"
   ]
  },
  {
   "cell_type": "code",
   "execution_count": 59,
   "metadata": {},
   "outputs": [],
   "source": [
    "Table = catalogs['J/ApJ/706/83/ysos']"
   ]
  },
  {
   "cell_type": "code",
   "execution_count": 60,
   "metadata": {},
   "outputs": [
    {
     "data": {
      "text/plain": [
       "astropy.table.table.Table"
      ]
     },
     "execution_count": 60,
     "metadata": {},
     "output_type": "execute_result"
    }
   ],
   "source": [
    "type(Table)"
   ]
  },
  {
   "cell_type": "code",
   "execution_count": 61,
   "metadata": {},
   "outputs": [
    {
     "name": "stdout",
     "output_type": "stream",
     "text": [
      "Seq f_Seq      SSTGLMC       AV   Mstar  ...  A   2M Simbad  _Glon    _Glat  \n",
      "                            mag  solMass ...                  deg      deg   \n",
      "--- ----- ----------------- ---- ------- ... --- --- ------ -------- --------\n",
      "  1       G048.7567-00.6341  4.0     3.0 ...   F  2M Simbad  48.7567  -0.6341\n",
      "  2       G048.7579-00.2797  1.6     2.7 ...   F  2M Simbad  48.7579  -0.2797\n",
      "  3       G048.7605-00.0388 33.3     4.1 ...   W  2M Simbad  48.7605  -0.0388\n",
      "  4       G048.7618+00.0627 51.8     4.0 ...   W  2M Simbad  48.7618   0.0627\n",
      "  5       G048.7637+00.2022 25.7     3.5 ...   W  2M Simbad  48.7637   0.2022\n",
      "  6       G048.7655+00.1017  3.0     3.2 ...   F  2M Simbad  48.7655   0.1017\n",
      "  7       G048.7667+00.0766  7.5     4.0 ...   F  2M Simbad  48.7667   0.0766\n",
      "  8       G048.7702-00.1505 18.8     3.9 ...   W  2M Simbad  48.7702  -0.1505\n",
      "  9       G048.7703+00.0786 52.7     6.6 ...   W  2M Simbad  48.7703   0.0786\n",
      "...   ...               ...  ...     ... ... ... ...    ...      ...      ...\n",
      "728       G049.9895-00.0079 20.0     4.9 ...   W  2M Simbad  49.9895  -0.0079\n",
      "729       G049.9899-00.1413 21.5    10.1 ...   W  2M Simbad  49.9899  -0.1413\n",
      "730       G049.9914-00.1333 23.5     9.1 ...   W  2M Simbad  49.9914  -0.1333\n",
      "731       G049.9937+00.0231  6.4     3.2 ...   F  2M Simbad  49.9937   0.0231\n",
      "732       G049.9952-00.0063 12.5     4.9 ...   W  2M Simbad  49.9952  -0.0063\n",
      "733       G049.9972+00.2599 33.6     5.6 ...   W  2M Simbad  49.9972   0.2599\n",
      "734       G049.9973+00.2605 17.3    10.1 ...   W  2M Simbad  49.9973   0.2605\n",
      "735       G049.9973+00.2630  8.4     5.2 ...   F  2M Simbad  49.9973   0.2630\n",
      "736       G049.9977-00.1261 11.3     8.3 ...   W  2M Simbad  49.9977  -0.1261\n",
      "737       G049.9982-00.1303 25.9     8.1 ...   W  2M Simbad  49.9982  -0.1303\n",
      "Length = 737 rows\n"
     ]
    }
   ],
   "source": [
    "print(Table)"
   ]
  },
  {
   "cell_type": "code",
   "execution_count": 63,
   "metadata": {},
   "outputs": [
    {
     "name": "stdout",
     "output_type": "stream",
     "text": [
      "['Seq', 'f_Seq', 'SSTGLMC', 'AV', 'Mstar', 'Ltot', 'Stg', 'Cl1', 'Cl2', 'Jmag', 'Hmag', 'Ksmag', '[3.6]', '[4.5]', '[5.8]', '[8.0]', '[24]', 'A', '2M', 'Simbad', '_Glon', '_Glat']\n"
     ]
    }
   ],
   "source": [
    "print(Table.keys())"
   ]
  },
  {
   "cell_type": "code",
   "execution_count": 64,
   "metadata": {},
   "outputs": [
    {
     "data": {
      "image/png": "[encoded data removed]",
      "text/plain": [
       "<Figure size 640x480 with 1 Axes>"
      ]
     },
     "metadata": {},
     "output_type": "display_data"
    }
   ],
   "source": [
    "f, ax = plt.subplots()\n",
    "ax.scatter(Table['Jmag'] - Table['Hmag'], Table['Jmag'], c=Table['Mstar']);"
   ]
  },
  {
   "cell_type": "markdown",
   "metadata": {},
   "source": [
    "### Querying MAST\n",
    "\n",
    "https://archive.stsci.edu/access-mast-data"
   ]
  },
  {
   "cell_type": "code",
   "execution_count": 65,
   "metadata": {},
   "outputs": [],
   "source": [
    "from astroquery.mast import Catalogs, Observations"
   ]
  },
  {
   "cell_type": "code",
   "execution_count": 66,
   "metadata": {},
   "outputs": [],
   "source": [
    "obs_table = Observations.query_object(\"IC 418\",radius=\".02 deg\")"
   ]
  },
  {
   "cell_type": "code",
   "execution_count": 67,
   "metadata": {},
   "outputs": [
    {
     "data": {
      "text/html": [
       "<div><i>Table masked=True length=353</i>\n",
       "<table id=\"table6474674992\" class=\"table-striped table-bordered table-condensed\">\n",
       "<thead><tr><th>intentType</th><th>obs_collection</th><th>provenance_name</th><th>instrument_name</th><th>project</th><th>filters</th><th>wavelength_region</th><th>target_name</th><th>target_classification</th><th>obs_id</th><th>s_ra</th><th>s_dec</th><th>dataproduct_type</th><th>proposal_pi</th><th>calib_level</th><th>t_min</th><th>t_max</th><th>t_exptime</th><th>em_min</th><th>em_max</th><th>obs_title</th><th>t_obs_release</th><th>proposal_id</th><th>proposal_type</th><th>sequence_number</th><th>s_region</th><th>jpegURL</th><th>dataURL</th><th>dataRights</th><th>mtFlag</th><th>srcDen</th><th>obsid</th><th>distance</th></tr></thead>\n",
       "<thead><tr><th>str11</th><th>str11</th><th>str31</th><th>str13</th><th>str12</th><th>str17</th><th>str16</th><th>str32</th><th>str46</th><th>str87</th><th>float64</th><th>float64</th><th>str10</th><th>str22</th><th>int64</th><th>float64</th><th>float64</th><th>float64</th><th>float64</th><th>float64</th><th>str98</th><th>float64</th><th>str23</th><th>str12</th><th>int64</th><th>str1440</th><th>str175</th><th>str176</th><th>str6</th><th>bool</th><th>float64</th><th>str9</th><th>float64</th></tr></thead>\n",
       "<tr><td>science</td><td>TESS</td><td>SPOC</td><td>Photometer</td><td>TESS</td><td>TESS</td><td>Optical</td><td>TESS FFI</td><td>--</td><td>tess-s0005-2-3</td><td>76.24730259566788</td><td>-13.043574209125993</td><td>image</td><td>Ricker, George</td><td>3</td><td>58437.48329798611</td><td>58463.775210451386</td><td>1425.599416</td><td>600.0</td><td>1000.0</td><td>--</td><td>58514.6666666</td><td>N/A</td><td>--</td><td>5</td><td>POLYGON 80.877724 -6.298324 83.805 -17.419389 71.177098 -19.948212 69.128295 -8.212671 80.877724 -6.298324</td><td>--</td><td>--</td><td>PUBLIC</td><td>False</td><td>nan</td><td>61577646</td><td>0.0</td></tr>\n",
       "<tr><td>science</td><td>TESS</td><td>SPOC</td><td>Photometer</td><td>TESS</td><td>TESS</td><td>Optical</td><td>TESS FFI</td><td>--</td><td>tess-s0006-2-4</td><td>86.20076433960975</td><td>-12.290026174766716</td><td>image</td><td>Ricker, George</td><td>3</td><td>58467.77524697917</td><td>58489.54576832176</td><td>1425.59941</td><td>600.0</td><td>1000.0</td><td>--</td><td>58541.8333333</td><td>N/A</td><td>--</td><td>6</td><td>POLYGON 92.524765 -6.513264 92.23118 -18.413969 79.397962 -17.686918 80.643378 -6.268166 92.524765 -6.513264</td><td>--</td><td>--</td><td>PUBLIC</td><td>False</td><td>nan</td><td>62280345</td><td>0.0</td></tr>\n",
       "<tr><td>science</td><td>TESS</td><td>SPOC</td><td>Photometer</td><td>TESS</td><td>TESS</td><td>Optical</td><td>TESS FFI</td><td>--</td><td>tess-s0032-2-3</td><td>80.69524906410993</td><td>-12.619495930222602</td><td>image</td><td>Ricker, George</td><td>3</td><td>59173.7260392</td><td>59199.73321153</td><td>475.199789</td><td>600.0</td><td>1000.0</td><td>--</td><td>59239.0</td><td>N/A</td><td>--</td><td>32</td><td>POLYGON 85.57205900 -6.05059500 88.06623900 -17.27450800 75.37014200 -19.32517900 73.77363400 -7.54183100 85.57205900 -6.05059500</td><td>--</td><td>--</td><td>PUBLIC</td><td>False</td><td>nan</td><td>28210379</td><td>0.0</td></tr>\n",
       "<tr><td>science</td><td>SPITZER_SHA</td><td>SSC Pipeline</td><td>IRS</td><td>--</td><td>IRS-SH</td><td>INFRARED</td><td>IC 418</td><td>--</td><td>0000004AEA00</td><td>81.868042</td><td>-12.696694</td><td>spectrum</td><td>Cruikshank, Dale</td><td>2</td><td>53279.7558145</td><td>53279.7558873009</td><td>6.29</td><td>9900.0</td><td>19600.0</td><td>Survey of PAH Emission, 10-19.5 um</td><td>53658.91718743</td><td>PAH EMISSION-1_93</td><td>Spitzer</td><td>4909568</td><td>POLYGON 81.866942 -12.696382 81.867905 -12.695476 81.870138 -12.697736 81.869175 -12.698642 81.866942 -12.696382</td><td>--</td><td>https://irsa.ipac.caltech.edu/data/SPITZER/SHA/archive/proc/IRSX003800/r4909568/ch1/bcd/SPITZER_S1_4909568_0000_0002_9_spect.fits</td><td>PUBLIC</td><td>False</td><td>nan</td><td>1746918</td><td>0.821401040670269</td></tr>\n",
       "<tr><td>science</td><td>SPITZER_SHA</td><td>SSC Pipeline</td><td>IRS</td><td>--</td><td>IRS-SH</td><td>INFRARED</td><td>IC 418</td><td>--</td><td>0000004AEA00</td><td>81.868042</td><td>-12.696694</td><td>spectrum</td><td>Cruikshank, Dale</td><td>2</td><td>53279.7558145</td><td>53279.7558145</td><td>0.0</td><td>9900.0</td><td>19600.0</td><td>Survey of PAH Emission, 10-19.5 um</td><td>53658.91718743</td><td>PAH EMISSION-1_93</td><td>Spitzer</td><td>4909568</td><td>POLYGON 81.866942 -12.696382 81.867905 -12.695476 81.870138 -12.697736 81.869175 -12.698642 81.866942 -12.696382</td><td>--</td><td>https://irsa.ipac.caltech.edu/data/SPITZER/SHA/archive/proc/IRSX003800/r4909568/ch1/bcd/SPITZER_S1_4909568_0000_0002_9_spec2.tbl</td><td>PUBLIC</td><td>False</td><td>nan</td><td>1746918</td><td>0.821401040670269</td></tr>\n",
       "<tr><td>science</td><td>SPITZER_SHA</td><td>SSC Pipeline</td><td>IRS</td><td>--</td><td>IRS-SH</td><td>INFRARED</td><td>IC 418</td><td>--</td><td>0000004AEA00</td><td>81.868042</td><td>-12.696694</td><td>spectrum</td><td>Cruikshank, Dale</td><td>2</td><td>53279.7558145</td><td>53279.7558873009</td><td>6.29</td><td>9900.0</td><td>19600.0</td><td>Survey of PAH Emission, 10-19.5 um</td><td>53658.91718743</td><td>PAH EMISSION-1_93</td><td>Spitzer</td><td>4909568</td><td>POLYGON 81.866942 -12.696382 81.867905 -12.695476 81.870138 -12.697736 81.869175 -12.698642 81.866942 -12.696382</td><td>--</td><td>https://irsa.ipac.caltech.edu/data/SPITZER/SHA/archive/proc/IRSX003800/r4909568/ch1/bcd/SPITZER_S1_4909568_0000_0002_9_f2ap.fits</td><td>PUBLIC</td><td>False</td><td>nan</td><td>1746918</td><td>0.821401040670269</td></tr>\n",
       "<tr><td>science</td><td>SPITZER_SHA</td><td>SSC Pipeline</td><td>IRS</td><td>--</td><td>IRS-SH</td><td>INFRARED</td><td>IC 418</td><td>--</td><td>0000004AEA00</td><td>81.868042</td><td>-12.696694</td><td>spectrum</td><td>Cruikshank, Dale</td><td>2</td><td>53279.7556567</td><td>53279.7557295009</td><td>6.29</td><td>9900.0</td><td>19600.0</td><td>Survey of PAH Emission, 10-19.5 um</td><td>53658.91718743</td><td>PAH EMISSION-1_93</td><td>Spitzer</td><td>4909568</td><td>POLYGON 81.866951 -12.696388 81.867915 -12.695482 81.870148 -12.697742 81.869184 -12.698648 81.866951 -12.696388</td><td>--</td><td>https://irsa.ipac.caltech.edu/data/SPITZER/SHA/archive/proc/IRSX003800/r4909568/ch1/bcd/SPITZER_S1_4909568_0000_0001_9_spect.tbl</td><td>PUBLIC</td><td>False</td><td>nan</td><td>1746918</td><td>0.829168070675179</td></tr>\n",
       "<tr><td>science</td><td>SPITZER_SHA</td><td>SSC Pipeline</td><td>IRS</td><td>--</td><td>IRS-SH</td><td>INFRARED</td><td>IC 418</td><td>--</td><td>0000004AEA00</td><td>81.868042</td><td>-12.696694</td><td>spectrum</td><td>Cruikshank, Dale</td><td>2</td><td>53279.7556567</td><td>53279.7557295009</td><td>6.29</td><td>9900.0</td><td>19600.0</td><td>Survey of PAH Emission, 10-19.5 um</td><td>53658.91718743</td><td>PAH EMISSION-1_93</td><td>Spitzer</td><td>4909568</td><td>POLYGON 81.866951 -12.696388 81.867915 -12.695482 81.870148 -12.697742 81.869184 -12.698648 81.866951 -12.696388</td><td>--</td><td>https://irsa.ipac.caltech.edu/data/SPITZER/SHA/archive/proc/IRSX003800/r4909568/ch1/bcd/SPITZER_S1_4909568_0000_0001_9_f2ap.fits</td><td>PUBLIC</td><td>False</td><td>nan</td><td>1746918</td><td>0.829168070675179</td></tr>\n",
       "<tr><td>science</td><td>SPITZER_SHA</td><td>SSC Pipeline</td><td>IRS</td><td>--</td><td>IRS-SH</td><td>INFRARED</td><td>IC 418</td><td>--</td><td>0000004AEA00</td><td>81.868042</td><td>-12.696694</td><td>spectrum</td><td>Cruikshank, Dale</td><td>2</td><td>53279.7556567</td><td>53279.7556567</td><td>0.0</td><td>9900.0</td><td>19600.0</td><td>Survey of PAH Emission, 10-19.5 um</td><td>53658.91718743</td><td>PAH EMISSION-1_93</td><td>Spitzer</td><td>4909568</td><td>POLYGON 81.866951 -12.696388 81.867915 -12.695482 81.870148 -12.697742 81.869184 -12.698648 81.866951 -12.696388</td><td>--</td><td>https://irsa.ipac.caltech.edu/data/SPITZER/SHA/archive/proc/IRSX003800/r4909568/ch1/bcd/SPITZER_S1_4909568_0000_0001_9_spec2.tbl</td><td>PUBLIC</td><td>False</td><td>nan</td><td>1746918</td><td>0.829168070675179</td></tr>\n",
       "<tr><td>...</td><td>...</td><td>...</td><td>...</td><td>...</td><td>...</td><td>...</td><td>...</td><td>...</td><td>...</td><td>...</td><td>...</td><td>...</td><td>...</td><td>...</td><td>...</td><td>...</td><td>...</td><td>...</td><td>...</td><td>...</td><td>...</td><td>...</td><td>...</td><td>...</td><td>...</td><td>...</td><td>...</td><td>...</td><td>...</td><td>...</td><td>...</td><td>...</td></tr>\n",
       "<tr><td>science</td><td>HLA</td><td>HLA</td><td>WFPC2/PC</td><td>HLA</td><td>F656N</td><td>OPTICAL</td><td>IC418</td><td>--</td><td>hst_11122_02_wfpc2_f656n_pc</td><td>81.86790002185717</td><td>-12.697303599444009</td><td>image</td><td>BALICK</td><td>3</td><td>54352.95921</td><td>54352.96315</td><td>260.0</td><td>655299987792.9688</td><td>657460021972.6562</td><td>--</td><td>54719.36481488</td><td>11122</td><td>HLA</td><td>--</td><td>POLYGON J2000 81.87519000 -12.69654100 81.86712300 -12.69019300 81.86061000 -12.69806600 81.86868000 -12.70441500 81.87519000 -12.69654100</td><td>https://hla.stsci.edu/cgi-bin/preview.cgi?dataset=hst_11122_02_wfpc2_f656n_pc</td><td>https://hla.stsci.edu/cgi-bin/getdata.cgi?dataset=hst_11122_02_wfpc2_f656n_pc_drz.fits</td><td>PUBLIC</td><td>--</td><td>nan</td><td>25723603</td><td>0.0</td></tr>\n",
       "<tr><td>science</td><td>HLA</td><td>HLA</td><td>WFPC2/WFC</td><td>HLA</td><td>F656N</td><td>OPTICAL</td><td>IC418</td><td>--</td><td>hst_11122_02_wfpc2_f656n_wf</td><td>81.87843537093755</td><td>-12.692651600985542</td><td>image</td><td>BALICK</td><td>3</td><td>54352.95921</td><td>54352.96315</td><td>260.0</td><td>655299987792.9688</td><td>657460021972.6562</td><td>--</td><td>54719.36481488</td><td>11122</td><td>HLA</td><td>--</td><td>POLYGON J2000 81.88893073 -12.68078514 81.88905500 -12.68063200 81.88720226 -12.67920139 81.87128300 -12.66690800 81.85720200 -12.68425800 81.86624984 -12.69124853 81.86061000 -12.69806600 81.86712220 -12.70318946 81.85983200 -12.71189700 81.87739500 -12.72588900 81.89175000 -12.70874000 81.89168189 -12.70868574 81.90456100 -12.69298900 81.88893073 -12.68078514</td><td>https://hla.stsci.edu/cgi-bin/preview.cgi?dataset=hst_11122_02_wfpc2_f656n_wf</td><td>https://hla.stsci.edu/cgi-bin/getdata.cgi?dataset=hst_11122_02_wfpc2_f656n_wf_drz.fits</td><td>PUBLIC</td><td>--</td><td>15281.0</td><td>25723604</td><td>0.0</td></tr>\n",
       "<tr><td>science</td><td>HLA</td><td>HLA</td><td>WFPC2/PC</td><td>HLA</td><td>F658N;F656N;F502N</td><td>OPTICAL</td><td>IC418</td><td>--</td><td>hst_11122_02_wfpc2_f658n_f656n_f502n_pc</td><td>81.86791229248047</td><td>-12.697175979614258</td><td>IMAGE</td><td>BALICK</td><td>3</td><td>nan</td><td>nan</td><td>1780.0</td><td>nan</td><td>nan</td><td>--</td><td>54719.36510423</td><td>11122</td><td>HLA</td><td>--</td><td>Polygon J2000 81.87519000 -12.69654100 81.86712300 -12.69019300 81.86061000 -12.69806600 81.86868000 -12.70441500</td><td>http://hla.stsci.edu/cgi-bin/fitscut.cgi?red=hst_11122_02_wfpc2_f658n_pc&amp;amp;green=hst_11122_02_wfpc2_f656n_pc&amp;amp;blue=hst_11122_02_wfpc2_f502n_pc&amp;amp;size=ALL&amp;amp;format=jpg</td><td>http://hla.stsci.edu/cgi-bin/fitscut.cgi?red=hst_11122_02_wfpc2_f658n_pc&amp;amp;green=hst_11122_02_wfpc2_f656n_pc&amp;amp;blue=hst_11122_02_wfpc2_f502n_pc&amp;amp;size=ALL&amp;amp;format=fits</td><td>PUBLIC</td><td>--</td><td>nan</td><td>26169487</td><td>0.0</td></tr>\n",
       "<tr><td>science</td><td>HLA</td><td>HLA</td><td>WFPC2/WFC</td><td>HLA</td><td>F658N;F656N;F502N</td><td>OPTICAL</td><td>IC418</td><td>--</td><td>hst_11122_02_wfpc2_f658n_f656n_f502n_wf</td><td>81.88082122802734</td><td>-12.696256637573242</td><td>IMAGE</td><td>BALICK</td><td>3</td><td>nan</td><td>nan</td><td>1780.0</td><td>nan</td><td>nan</td><td>--</td><td>54719.36510423</td><td>11122</td><td>HLA</td><td>--</td><td>Polygon J2000 81.85720200 -12.68425800 81.86624984 -12.69124853 81.86061000 -12.69806600 81.86712220 -12.70318946 81.85983200 -12.71189700 81.87739500 -12.72588900 81.89175000 -12.70874000 81.89168189 -12.70868574 81.90456100 -12.69298900 81.88893073 -12.68078514 81.88905500 -12.68063200 81.88720226 -12.67920139 81.87128300 -12.66690800</td><td>http://hla.stsci.edu/cgi-bin/fitscut.cgi?red=hst_11122_02_wfpc2_f658n_wf&amp;amp;green=hst_11122_02_wfpc2_f656n_wf&amp;amp;blue=hst_11122_02_wfpc2_f502n_wf&amp;amp;size=ALL&amp;amp;format=jpg</td><td>http://hla.stsci.edu/cgi-bin/fitscut.cgi?red=hst_11122_02_wfpc2_f658n_wf&amp;amp;green=hst_11122_02_wfpc2_f656n_wf&amp;amp;blue=hst_11122_02_wfpc2_f502n_wf&amp;amp;size=ALL&amp;amp;format=fits</td><td>PUBLIC</td><td>--</td><td>nan</td><td>26169488</td><td>0.0</td></tr>\n",
       "<tr><td>science</td><td>HLA</td><td>HLA</td><td>WFPC2/PC</td><td>HLA</td><td>F658N</td><td>OPTICAL</td><td>IC418</td><td>--</td><td>hst_11122_02_wfpc2_f658n_pc</td><td>81.86790002185717</td><td>-12.697303599444009</td><td>image</td><td>BALICK</td><td>3</td><td>54352.96477</td><td>54352.9694</td><td>320.0</td><td>657659973144.5312</td><td>660500000000.0</td><td>--</td><td>54719.3651158</td><td>11122</td><td>HLA</td><td>--</td><td>POLYGON J2000 81.87519000 -12.69654100 81.86712300 -12.69019300 81.86061000 -12.69806600 81.86868000 -12.70441500 81.87519000 -12.69654100</td><td>https://hla.stsci.edu/cgi-bin/preview.cgi?dataset=hst_11122_02_wfpc2_f658n_pc</td><td>https://hla.stsci.edu/cgi-bin/getdata.cgi?dataset=hst_11122_02_wfpc2_f658n_pc_drz.fits</td><td>PUBLIC</td><td>--</td><td>nan</td><td>25723605</td><td>0.0</td></tr>\n",
       "<tr><td>science</td><td>HLA</td><td>HLA</td><td>WFPC2/WFC</td><td>HLA</td><td>F658N</td><td>OPTICAL</td><td>IC418</td><td>--</td><td>hst_11122_02_wfpc2_f658n_wf</td><td>81.87843537093755</td><td>-12.692651600985542</td><td>image</td><td>BALICK</td><td>3</td><td>54352.96477</td><td>54352.9694</td><td>320.0</td><td>657659973144.5312</td><td>660500000000.0</td><td>--</td><td>54719.3651158</td><td>11122</td><td>HLA</td><td>--</td><td>POLYGON J2000 81.85720200 -12.68425800 81.86624984 -12.69124853 81.86061000 -12.69806600 81.86712220 -12.70318946 81.85983200 -12.71189700 81.87739500 -12.72588900 81.89175000 -12.70874000 81.89168189 -12.70868574 81.90456100 -12.69298900 81.88893073 -12.68078514 81.88905500 -12.68063200 81.88720226 -12.67920139 81.87128300 -12.66690800 81.85720200 -12.68425800</td><td>https://hla.stsci.edu/cgi-bin/preview.cgi?dataset=hst_11122_02_wfpc2_f658n_wf</td><td>https://hla.stsci.edu/cgi-bin/getdata.cgi?dataset=hst_11122_02_wfpc2_f658n_wf_drz.fits</td><td>PUBLIC</td><td>--</td><td>15281.0</td><td>25723606</td><td>0.0</td></tr>\n",
       "<tr><td>science</td><td>HLA</td><td>HLA</td><td>WFPC2/PC</td><td>HLA</td><td>DETECTION</td><td>--</td><td>IC418</td><td>--</td><td>hst_11122_02_wfpc2_total_pc</td><td>81.86790002185717</td><td>-12.697303599444009</td><td>image</td><td>BALICK</td><td>3</td><td>54352.90852</td><td>54352.9694</td><td>1780.0</td><td>nan</td><td>nan</td><td>--</td><td>54719.3651158</td><td>11122</td><td>HLA</td><td>--</td><td>POLYGON J2000 81.86712300 -12.69019300 81.86061000 -12.69806600 81.86868000 -12.70441500 81.87519000 -12.69654100 81.86712300 -12.69019300</td><td>https://hla.stsci.edu/cgi-bin/preview.cgi?dataset=hst_11122_02_wfpc2_total_pc</td><td>https://hla.stsci.edu/cgi-bin/getdata.cgi?dataset=hst_11122_02_wfpc2_total_pc_drz.fits</td><td>PUBLIC</td><td>--</td><td>nan</td><td>25723607</td><td>0.0</td></tr>\n",
       "<tr><td>science</td><td>HLA</td><td>HLA</td><td>WFPC2/WFC</td><td>HLA</td><td>DETECTION</td><td>--</td><td>IC418</td><td>--</td><td>hst_11122_02_wfpc2_total_wf</td><td>81.87843537093755</td><td>-12.692651600985542</td><td>image</td><td>BALICK</td><td>3</td><td>54352.90852</td><td>54352.9694</td><td>1780.0</td><td>nan</td><td>nan</td><td>--</td><td>54719.3651158</td><td>11122</td><td>HLA</td><td>--</td><td>POLYGON J2000 81.89168189 -12.70868574 81.90456100 -12.69298900 81.88893073 -12.68078514 81.88905500 -12.68063200 81.88720226 -12.67920139 81.87128300 -12.66690800 81.85720200 -12.68425800 81.86624984 -12.69124853 81.86061000 -12.69806600 81.86712220 -12.70318946 81.85983200 -12.71189700 81.87739500 -12.72588900 81.89175000 -12.70874000 81.89168189 -12.70868574</td><td>https://hla.stsci.edu/cgi-bin/preview.cgi?dataset=hst_11122_02_wfpc2_total_wf</td><td>https://hla.stsci.edu/cgi-bin/getdata.cgi?dataset=hst_11122_02_wfpc2_total_wf_drz.fits</td><td>PUBLIC</td><td>--</td><td>15281.0</td><td>25723608</td><td>0.0</td></tr>\n",
       "<tr><td>science</td><td>FUSE</td><td>--</td><td>FUV</td><td>--</td><td>--</td><td>UV</td><td>IC418</td><td>--</td><td>p1151111000</td><td>81.87004200000001</td><td>-12.69675</td><td>spectrum</td><td>Shull</td><td>2</td><td>52245.0996875</td><td>52245.25396991</td><td>4423.0</td><td>90000000000.0</td><td>119000000000.0</td><td>FUSE Team Project on Diffuse Molecular Hydrogen</td><td>nan</td><td>P115</td><td>--</td><td>--</td><td>CIRCLE ICRS 81.870042 -12.69675 0.00416666666667</td><td>http://archive.stsci.edu/browse/previews/fuse/p1151111/p115111100000spechistf.gif</td><td>http://archive.stsci.edu/pub/vospectra/fuse2/p115111100000nvo4histfcal_vo.fits</td><td>PUBLIC</td><td>--</td><td>5885.0</td><td>345403</td><td>0.0</td></tr>\n",
       "<tr><td>science</td><td>BEFS</td><td>--</td><td>BEFS</td><td>--</td><td>--</td><td>EUV;UV</td><td>IC 418</td><td>--</td><td>befs2160</td><td>81.8675</td><td>-12.6973</td><td>spectrum</td><td>--</td><td>2</td><td>50417.40347222</td><td>50417.41734954</td><td>1114.0</td><td>90707200000.0</td><td>122218000000.00002</td><td>--</td><td>nan</td><td>--</td><td>--</td><td>--</td><td>POSITION ICRS 81.86750000 -12.69730000</td><td>http://archive.stsci.edu/browse/previews/orfeus/befs/gif/BEFS2160.gif</td><td>http://archive.stsci.edu/pub/vospectra/befs2/befs2160_spc1_vo.fits</td><td>PUBLIC</td><td>--</td><td>5885.0</td><td>347967</td><td>0.08716222509304365</td></tr>\n",
       "</table></div>"
      ],
      "text/plain": [
       "<Table masked=True length=353>\n",
       "intentType obs_collection provenance_name ...  obsid         distance     \n",
       "  str11        str11           str31      ...   str9         float64      \n",
       "---------- -------------- --------------- ... -------- -------------------\n",
       "   science           TESS            SPOC ... 61577646                 0.0\n",
       "   science           TESS            SPOC ... 62280345                 0.0\n",
       "   science           TESS            SPOC ... 28210379                 0.0\n",
       "   science    SPITZER_SHA    SSC Pipeline ...  1746918   0.821401040670269\n",
       "   science    SPITZER_SHA    SSC Pipeline ...  1746918   0.821401040670269\n",
       "   science    SPITZER_SHA    SSC Pipeline ...  1746918   0.821401040670269\n",
       "   science    SPITZER_SHA    SSC Pipeline ...  1746918   0.829168070675179\n",
       "   science    SPITZER_SHA    SSC Pipeline ...  1746918   0.829168070675179\n",
       "   science    SPITZER_SHA    SSC Pipeline ...  1746918   0.829168070675179\n",
       "       ...            ...             ... ...      ...                 ...\n",
       "   science            HLA             HLA ... 25723603                 0.0\n",
       "   science            HLA             HLA ... 25723604                 0.0\n",
       "   science            HLA             HLA ... 26169487                 0.0\n",
       "   science            HLA             HLA ... 26169488                 0.0\n",
       "   science            HLA             HLA ... 25723605                 0.0\n",
       "   science            HLA             HLA ... 25723606                 0.0\n",
       "   science            HLA             HLA ... 25723607                 0.0\n",
       "   science            HLA             HLA ... 25723608                 0.0\n",
       "   science           FUSE              -- ...   345403                 0.0\n",
       "   science           BEFS              -- ...   347967 0.08716222509304365"
      ]
     },
     "execution_count": 67,
     "metadata": {},
     "output_type": "execute_result"
    }
   ],
   "source": [
    "obs_table"
   ]
  },
  {
   "cell_type": "code",
   "execution_count": 16,
   "metadata": {},
   "outputs": [],
   "source": [
    "mask_spectrum = obs_table['dataproduct_type'] == 'spectrum'"
   ]
  },
  {
   "cell_type": "code",
   "execution_count": 17,
   "metadata": {},
   "outputs": [
    {
     "name": "stdout",
     "output_type": "stream",
     "text": [
      "353 167\n"
     ]
    }
   ],
   "source": [
    "print(len(obs_table), mask_spectrum.sum())"
   ]
  },
  {
   "cell_type": "code",
   "execution_count": 18,
   "metadata": {},
   "outputs": [],
   "source": [
    "data_products_by_obs = Observations.get_product_list(obs_table[mask_spectrum][0:2])"
   ]
  },
  {
   "cell_type": "code",
   "execution_count": 20,
   "metadata": {},
   "outputs": [
    {
     "data": {
      "text/html": [
       "<div><i>Table masked=True length=154</i>\n",
       "<table id=\"table6363762512\" class=\"table-striped table-bordered table-condensed\">\n",
       "<thead><tr><th>obsID</th><th>obs_collection</th><th>dataproduct_type</th><th>obs_id</th><th>description</th><th>type</th><th>dataURI</th><th>productType</th><th>productGroupDescription</th><th>productSubGroupDescription</th><th>productDocumentationURL</th><th>project</th><th>prvversion</th><th>proposal_id</th><th>productFilename</th><th>size</th><th>parent_obsid</th><th>dataRights</th><th>calib_level</th><th>filters</th></tr></thead>\n",
       "<thead><tr><th>str7</th><th>str11</th><th>str8</th><th>str12</th><th>str27</th><th>str1</th><th>str135</th><th>str9</th><th>str28</th><th>str1</th><th>str1</th><th>str12</th><th>str11</th><th>str17</th><th>str46</th><th>int64</th><th>str7</th><th>str6</th><th>int64</th><th>str6</th></tr></thead>\n",
       "<tr><td>1746918</td><td>SPITZER_SHA</td><td>cube</td><td>0000004AEA00</td><td>Spitzer science fits file</td><td>S</td><td>https://irsa.ipac.caltech.edu/data/SPITZER/SHA/archive/proc/IRSX003800/r4909568/ch1/raw/SPITZER_S1_4909568_0000_0000_9_raw.fits</td><td>SCIENCE</td><td>Minimum Recommended Products</td><td>--</td><td>--</td><td>SSC Pipeline</td><td>JPL_FOS SIS</td><td>PAH EMISSION-1_93</td><td>SPITZER_S1_4909568_0000_0000_9_raw.fits</td><td>158400</td><td>1746918</td><td>PUBLIC</td><td>1</td><td>IRS-SH</td></tr>\n",
       "<tr><td>1746918</td><td>SPITZER_SHA</td><td>cube</td><td>0000004AEA00</td><td>Spitzer science fits file</td><td>S</td><td>https://irsa.ipac.caltech.edu/data/SPITZER/SHA/archive/proc/IRSX003800/r4909568/ch1/raw/SPITZER_S1_4909568_0000_0001_9_raw.fits</td><td>SCIENCE</td><td>Minimum Recommended Products</td><td>--</td><td>--</td><td>SSC Pipeline</td><td>JPL_FOS SIS</td><td>PAH EMISSION-1_93</td><td>SPITZER_S1_4909568_0000_0001_9_raw.fits</td><td>158400</td><td>1746918</td><td>PUBLIC</td><td>1</td><td>IRS-SH</td></tr>\n",
       "<tr><td>1746918</td><td>SPITZER_SHA</td><td>cube</td><td>0000004AEA00</td><td>Spitzer science fits file</td><td>S</td><td>https://irsa.ipac.caltech.edu/data/SPITZER/SHA/archive/proc/IRSX003800/r4909568/ch1/raw/SPITZER_S1_4909568_0000_0002_9_raw.fits</td><td>SCIENCE</td><td>Minimum Recommended Products</td><td>--</td><td>--</td><td>SSC Pipeline</td><td>JPL_FOS SIS</td><td>PAH EMISSION-1_93</td><td>SPITZER_S1_4909568_0000_0002_9_raw.fits</td><td>158400</td><td>1746918</td><td>PUBLIC</td><td>1</td><td>IRS-SH</td></tr>\n",
       "<tr><td>1746918</td><td>SPITZER_SHA</td><td>cube</td><td>0000004AEA00</td><td>Spitzer science fits file</td><td>S</td><td>https://irsa.ipac.caltech.edu/data/SPITZER/SHA/archive/proc/IRSX003800/r4909568/ch1/raw/SPITZER_S1_4909568_0001_0000_9_raw.fits</td><td>SCIENCE</td><td>Minimum Recommended Products</td><td>--</td><td>--</td><td>SSC Pipeline</td><td>JPL_FOS SIS</td><td>PAH EMISSION-1_93</td><td>SPITZER_S1_4909568_0001_0000_9_raw.fits</td><td>158400</td><td>1746918</td><td>PUBLIC</td><td>1</td><td>IRS-SH</td></tr>\n",
       "<tr><td>1746918</td><td>SPITZER_SHA</td><td>cube</td><td>0000004AEA00</td><td>Spitzer science fits file</td><td>S</td><td>https://irsa.ipac.caltech.edu/data/SPITZER/SHA/archive/proc/IRSX003800/r4909568/ch1/raw/SPITZER_S1_4909568_0001_0001_9_raw.fits</td><td>SCIENCE</td><td>Minimum Recommended Products</td><td>--</td><td>--</td><td>SSC Pipeline</td><td>JPL_FOS SIS</td><td>PAH EMISSION-1_93</td><td>SPITZER_S1_4909568_0001_0001_9_raw.fits</td><td>158400</td><td>1746918</td><td>PUBLIC</td><td>1</td><td>IRS-SH</td></tr>\n",
       "<tr><td>1746918</td><td>SPITZER_SHA</td><td>cube</td><td>0000004AEA00</td><td>Spitzer science fits file</td><td>S</td><td>https://irsa.ipac.caltech.edu/data/SPITZER/SHA/archive/proc/IRSX003800/r4909568/ch1/raw/SPITZER_S1_4909568_0001_0002_9_raw.fits</td><td>SCIENCE</td><td>Minimum Recommended Products</td><td>--</td><td>--</td><td>SSC Pipeline</td><td>JPL_FOS SIS</td><td>PAH EMISSION-1_93</td><td>SPITZER_S1_4909568_0001_0002_9_raw.fits</td><td>158400</td><td>1746918</td><td>PUBLIC</td><td>1</td><td>IRS-SH</td></tr>\n",
       "<tr><td>1746918</td><td>SPITZER_SHA</td><td>image</td><td>0000004AEA00</td><td>Spitzer info readme file</td><td>S</td><td>https://irsa.ipac.caltech.edu/data/SPITZER/SHA/archive/proc/IRSX003800/r4909568/QualityAnalysis_4909568.README</td><td>INFO</td><td>--</td><td>--</td><td>--</td><td>SSC Pipeline</td><td>--</td><td>PAH EMISSION-1_93</td><td>QualityAnalysis_4909568.README</td><td>3188</td><td>1746918</td><td>PUBLIC</td><td>1</td><td>--</td></tr>\n",
       "<tr><td>1746918</td><td>SPITZER_SHA</td><td>image</td><td>0000004AEA00</td><td>Spitzer weight fits file</td><td>S</td><td>https://irsa.ipac.caltech.edu/data/SPITZER/SHA/archive/proc/IRSX003800/r4909568/SPITZER_S_4909568_DOC.fits</td><td>WEIGHT</td><td>--</td><td>--</td><td>--</td><td>SSC Pipeline</td><td>--</td><td>PAH EMISSION-1_93</td><td>SPITZER_S_4909568_DOC.fits</td><td>8640</td><td>1746918</td><td>PUBLIC</td><td>1</td><td>--</td></tr>\n",
       "<tr><td>1746918</td><td>SPITZER_SHA</td><td>spectrum</td><td>0000004AEA00</td><td>Spitzer auxiliary fits file</td><td>S</td><td>https://irsa.ipac.caltech.edu/data/SPITZER/SHA/archive/proc/IRSX003800/r4909568/ch1/bcd/SPITZER_S1_4909568_0000_0000_9_bmask.fits</td><td>AUXILIARY</td><td>--</td><td>--</td><td>--</td><td>SSC Pipeline</td><td>S18.18.0</td><td>PAH EMISSION-1_93</td><td>SPITZER_S1_4909568_0000_0000_9_bmask.fits</td><td>72000</td><td>1746918</td><td>PUBLIC</td><td>2</td><td>IRS-SH</td></tr>\n",
       "<tr><td>...</td><td>...</td><td>...</td><td>...</td><td>...</td><td>...</td><td>...</td><td>...</td><td>...</td><td>...</td><td>...</td><td>...</td><td>...</td><td>...</td><td>...</td><td>...</td><td>...</td><td>...</td><td>...</td><td>...</td></tr>\n",
       "<tr><td>1746918</td><td>SPITZER_SHA</td><td>spectrum</td><td>0000004AEA00</td><td>Spitzer science fits file</td><td>S</td><td>https://irsa.ipac.caltech.edu/data/SPITZER/SHA/archive/proc/IRSX003800/r4909568/ch1/bcd/SPITZER_S1_4909568_0001_0002_9_f2ap.fits</td><td>SCIENCE</td><td>Minimum Recommended Products</td><td>--</td><td>--</td><td>SSC Pipeline</td><td>S18.18.0</td><td>PAH EMISSION-1_93</td><td>SPITZER_S1_4909568_0001_0002_9_f2ap.fits</td><td>106560</td><td>1746918</td><td>PUBLIC</td><td>2</td><td>IRS-SH</td></tr>\n",
       "<tr><td>1746918</td><td>SPITZER_SHA</td><td>spectrum</td><td>0000004AEA00</td><td>Spitzer science tbl file</td><td>S</td><td>https://irsa.ipac.caltech.edu/data/SPITZER/SHA/archive/proc/IRSX003800/r4909568/ch1/bcd/SPITZER_S1_4909568_0001_0002_9_spec2.tbl</td><td>SCIENCE</td><td>Minimum Recommended Products</td><td>--</td><td>--</td><td>SSC Pipeline</td><td>S18.18.0</td><td>PAH EMISSION-1_93</td><td>SPITZER_S1_4909568_0001_0002_9_spec2.tbl</td><td>131456</td><td>1746918</td><td>PUBLIC</td><td>2</td><td>IRS-SH</td></tr>\n",
       "<tr><td>1746918</td><td>SPITZER_SHA</td><td>spectrum</td><td>0000004AEA00</td><td>Spitzer science fits file</td><td>S</td><td>https://irsa.ipac.caltech.edu/data/SPITZER/SHA/archive/proc/IRSX003800/r4909568/ch1/bcd/SPITZER_S1_4909568_0001_0002_9_spect.fits</td><td>SCIENCE</td><td>Minimum Recommended Products</td><td>--</td><td>--</td><td>SSC Pipeline</td><td>S18.18.0</td><td>PAH EMISSION-1_93</td><td>SPITZER_S1_4909568_0001_0002_9_spect.fits</td><td>48960</td><td>1746918</td><td>PUBLIC</td><td>2</td><td>IRS-SH</td></tr>\n",
       "<tr><td>1746918</td><td>SPITZER_SHA</td><td>spectrum</td><td>0000004AEA00</td><td>Spitzer science tbl file</td><td>S</td><td>https://irsa.ipac.caltech.edu/data/SPITZER/SHA/archive/proc/IRSX003800/r4909568/ch1/bcd/SPITZER_S1_4909568_0001_0002_9_spect.tbl</td><td>SCIENCE</td><td>Minimum Recommended Products</td><td>--</td><td>--</td><td>SSC Pipeline</td><td>S18.18.0</td><td>PAH EMISSION-1_93</td><td>SPITZER_S1_4909568_0001_0002_9_spect.tbl</td><td>131450</td><td>1746918</td><td>PUBLIC</td><td>2</td><td>IRS-SH</td></tr>\n",
       "<tr><td>1746918</td><td>SPITZER_SHA</td><td>spectrum</td><td>0000004AEA00</td><td>Spitzer science fits file</td><td>S</td><td>https://irsa.ipac.caltech.edu/data/SPITZER/SHA/archive/proc/IRSX003800/r4909568/ch1/pbcd/SPITZER_S1_4909568_0000_9_A37096861_tune.fits</td><td>SCIENCE</td><td>Minimum Recommended Products</td><td>--</td><td>--</td><td>SSC Pipeline</td><td>S18.18.0</td><td>PAH EMISSION-1_93</td><td>SPITZER_S1_4909568_0000_9_A37096861_tune.fits</td><td>51840</td><td>1746918</td><td>PUBLIC</td><td>2</td><td>IRS-SH</td></tr>\n",
       "<tr><td>1746918</td><td>SPITZER_SHA</td><td>spectrum</td><td>0000004AEA00</td><td>Spitzer science fits file</td><td>S</td><td>https://irsa.ipac.caltech.edu/data/SPITZER/SHA/archive/proc/IRSX003800/r4909568/ch1/pbcd/SPITZER_S1_4909568_0000_9_E7276913_coa2d.fits</td><td>SCIENCE</td><td>Minimum Recommended Products</td><td>--</td><td>--</td><td>SSC Pipeline</td><td>S18.18.0</td><td>PAH EMISSION-1_93</td><td>SPITZER_S1_4909568_0000_9_E7276913_coa2d.fits</td><td>89280</td><td>1746918</td><td>PUBLIC</td><td>2</td><td>IRS-SH</td></tr>\n",
       "<tr><td>1746918</td><td>SPITZER_SHA</td><td>spectrum</td><td>0000004AEA00</td><td>Spitzer science tbl file</td><td>S</td><td>https://irsa.ipac.caltech.edu/data/SPITZER/SHA/archive/proc/IRSX003800/r4909568/ch1/pbcd/SPITZER_S1_4909568_0000_9_E7277220_tune.tbl</td><td>SCIENCE</td><td>Minimum Recommended Products</td><td>--</td><td>--</td><td>SSC Pipeline</td><td>S18.18.0</td><td>PAH EMISSION-1_93</td><td>SPITZER_S1_4909568_0000_9_E7277220_tune.tbl</td><td>132940</td><td>1746918</td><td>PUBLIC</td><td>2</td><td>IRS-SH</td></tr>\n",
       "<tr><td>1746918</td><td>SPITZER_SHA</td><td>spectrum</td><td>0000004AEA00</td><td>Spitzer science fits file</td><td>S</td><td>https://irsa.ipac.caltech.edu/data/SPITZER/SHA/archive/proc/IRSX003800/r4909568/ch1/pbcd/SPITZER_S1_4909568_0001_9_A37096963_tune.fits</td><td>SCIENCE</td><td>Minimum Recommended Products</td><td>--</td><td>--</td><td>SSC Pipeline</td><td>S18.18.0</td><td>PAH EMISSION-1_93</td><td>SPITZER_S1_4909568_0001_9_A37096963_tune.fits</td><td>51840</td><td>1746918</td><td>PUBLIC</td><td>2</td><td>IRS-SH</td></tr>\n",
       "<tr><td>1746918</td><td>SPITZER_SHA</td><td>spectrum</td><td>0000004AEA00</td><td>Spitzer science fits file</td><td>S</td><td>https://irsa.ipac.caltech.edu/data/SPITZER/SHA/archive/proc/IRSX003800/r4909568/ch1/pbcd/SPITZER_S1_4909568_0001_9_E7276935_coa2d.fits</td><td>SCIENCE</td><td>Minimum Recommended Products</td><td>--</td><td>--</td><td>SSC Pipeline</td><td>S18.18.0</td><td>PAH EMISSION-1_93</td><td>SPITZER_S1_4909568_0001_9_E7276935_coa2d.fits</td><td>89280</td><td>1746918</td><td>PUBLIC</td><td>2</td><td>IRS-SH</td></tr>\n",
       "<tr><td>1746918</td><td>SPITZER_SHA</td><td>spectrum</td><td>0000004AEA00</td><td>Spitzer science tbl file</td><td>S</td><td>https://irsa.ipac.caltech.edu/data/SPITZER/SHA/archive/proc/IRSX003800/r4909568/ch1/pbcd/SPITZER_S1_4909568_0001_9_E7277224_tune.tbl</td><td>SCIENCE</td><td>Minimum Recommended Products</td><td>--</td><td>--</td><td>SSC Pipeline</td><td>S18.18.0</td><td>PAH EMISSION-1_93</td><td>SPITZER_S1_4909568_0001_9_E7277224_tune.tbl</td><td>132943</td><td>1746918</td><td>PUBLIC</td><td>2</td><td>IRS-SH</td></tr>\n",
       "</table></div>"
      ],
      "text/plain": [
       "<Table masked=True length=154>\n",
       " obsID  obs_collection dataproduct_type ... dataRights calib_level filters\n",
       "  str7      str11            str8       ...    str6       int64      str6 \n",
       "------- -------------- ---------------- ... ---------- ----------- -------\n",
       "1746918    SPITZER_SHA             cube ...     PUBLIC           1  IRS-SH\n",
       "1746918    SPITZER_SHA             cube ...     PUBLIC           1  IRS-SH\n",
       "1746918    SPITZER_SHA             cube ...     PUBLIC           1  IRS-SH\n",
       "1746918    SPITZER_SHA             cube ...     PUBLIC           1  IRS-SH\n",
       "1746918    SPITZER_SHA             cube ...     PUBLIC           1  IRS-SH\n",
       "1746918    SPITZER_SHA             cube ...     PUBLIC           1  IRS-SH\n",
       "1746918    SPITZER_SHA            image ...     PUBLIC           1      --\n",
       "1746918    SPITZER_SHA            image ...     PUBLIC           1      --\n",
       "1746918    SPITZER_SHA         spectrum ...     PUBLIC           2  IRS-SH\n",
       "    ...            ...              ... ...        ...         ...     ...\n",
       "1746918    SPITZER_SHA         spectrum ...     PUBLIC           2  IRS-SH\n",
       "1746918    SPITZER_SHA         spectrum ...     PUBLIC           2  IRS-SH\n",
       "1746918    SPITZER_SHA         spectrum ...     PUBLIC           2  IRS-SH\n",
       "1746918    SPITZER_SHA         spectrum ...     PUBLIC           2  IRS-SH\n",
       "1746918    SPITZER_SHA         spectrum ...     PUBLIC           2  IRS-SH\n",
       "1746918    SPITZER_SHA         spectrum ...     PUBLIC           2  IRS-SH\n",
       "1746918    SPITZER_SHA         spectrum ...     PUBLIC           2  IRS-SH\n",
       "1746918    SPITZER_SHA         spectrum ...     PUBLIC           2  IRS-SH\n",
       "1746918    SPITZER_SHA         spectrum ...     PUBLIC           2  IRS-SH\n",
       "1746918    SPITZER_SHA         spectrum ...     PUBLIC           2  IRS-SH"
      ]
     },
     "execution_count": 20,
     "metadata": {},
     "output_type": "execute_result"
    }
   ],
   "source": [
    "data_products_by_obs"
   ]
  },
  {
   "cell_type": "code",
   "execution_count": 21,
   "metadata": {},
   "outputs": [
    {
     "name": "stdout",
     "output_type": "stream",
     "text": [
      "Downloading URL https://mast.stsci.edu/api/v0.1/Download/file?uri=mast:IUE/url/pub/iue/data/lwr/02000/lwr02252.mxlo.gz to ./mastDownload/IUE/lwr02252/lwr02252.mxlo.gz ... [Done]\n",
      "INFO: Found cached file ./mastDownload/IUE/lwr02252/lwr02252mxlo_vo.fits with expected size 48960. [astroquery.query]\n"
     ]
    }
   ],
   "source": [
    "obs1 = Observations.download_products('295913', productType=\"SCIENCE\")"
   ]
  },
  {
   "cell_type": "code",
   "execution_count": 22,
   "metadata": {},
   "outputs": [
    {
     "data": {
      "text/html": [
       "<div><i>Table length=2</i>\n",
       "<table id=\"table6365298400\" class=\"table-striped table-bordered table-condensed\">\n",
       "<thead><tr><th>Local Path</th><th>Status</th><th>Message</th><th>URL</th></tr></thead>\n",
       "<thead><tr><th>str48</th><th>str8</th><th>object</th><th>object</th></tr></thead>\n",
       "<tr><td>./mastDownload/IUE/lwr02252/lwr02252.mxlo.gz</td><td>COMPLETE</td><td>None</td><td>None</td></tr>\n",
       "<tr><td>./mastDownload/IUE/lwr02252/lwr02252mxlo_vo.fits</td><td>COMPLETE</td><td>None</td><td>None</td></tr>\n",
       "</table></div>"
      ],
      "text/plain": [
       "<Table length=2>\n",
       "                   Local Path                     Status  Message  URL  \n",
       "                     str48                         str8    object object\n",
       "------------------------------------------------ -------- ------- ------\n",
       "    ./mastDownload/IUE/lwr02252/lwr02252.mxlo.gz COMPLETE    None   None\n",
       "./mastDownload/IUE/lwr02252/lwr02252mxlo_vo.fits COMPLETE    None   None"
      ]
     },
     "execution_count": 22,
     "metadata": {},
     "output_type": "execute_result"
    }
   ],
   "source": [
    "obs1"
   ]
  },
  {
   "cell_type": "markdown",
   "metadata": {},
   "source": [
    "### Catalogs"
   ]
  },
  {
   "cell_type": "code",
   "execution_count": 68,
   "metadata": {},
   "outputs": [],
   "source": [
    "catalog_data = Catalogs.query_object(\"IC 418\")"
   ]
  },
  {
   "cell_type": "code",
   "execution_count": 24,
   "metadata": {},
   "outputs": [
    {
     "data": {
      "text/html": [
       "<div><i>Table masked=True length=2602</i>\n",
       "<table id=\"table6365167696\" class=\"table-striped table-bordered table-condensed\">\n",
       "<thead><tr><th>MatchID</th><th>Distance</th><th>MatchRA</th><th>MatchDec</th><th>DSigma</th><th>AbsCorr</th><th>NumFilters</th><th>NumVisits</th><th>NumImages</th><th>StartTime</th><th>StopTime</th><th>StartMJD</th><th>StopMJD</th><th>TargetName</th><th>CI</th><th>CI_Sigma</th><th>KronRadius</th><th>KronRadius_Sigma</th><th>Extinction</th><th>SpectrumFlag</th><th>W2_F502N</th><th>W2_F502N_MAD</th><th>W2_F502N_N</th><th>W2_F555W</th><th>W2_F555W_MAD</th><th>W2_F555W_N</th><th>W2_F606W</th><th>W2_F606W_MAD</th><th>W2_F606W_N</th><th>W2_F656N</th><th>W2_F656N_MAD</th><th>W2_F656N_N</th><th>W2_F658N</th><th>W2_F658N_MAD</th><th>W2_F658N_N</th></tr></thead>\n",
       "<thead><tr><th>str9</th><th>float64</th><th>float64</th><th>float64</th><th>float64</th><th>str1</th><th>int64</th><th>int64</th><th>int64</th><th>str21</th><th>str21</th><th>float64</th><th>float64</th><th>str10</th><th>float64</th><th>float64</th><th>float64</th><th>float64</th><th>float64</th><th>str1</th><th>float64</th><th>float64</th><th>int64</th><th>float64</th><th>float64</th><th>int64</th><th>float64</th><th>float64</th><th>int64</th><th>float64</th><th>float64</th><th>int64</th><th>float64</th><th>float64</th><th>int64</th></tr></thead>\n",
       "<tr><td>90374054</td><td>0.0024195100745320595</td><td>81.86755647816761</td><td>-12.697274723428315</td><td>140.12916369880315</td><td>Y</td><td>3</td><td>2</td><td>5</td><td>/Date(937279573430)/</td><td>/Date(1189379756870)/</td><td>51435.14321097685</td><td>54352.969408194534</td><td>IC418</td><td>2.7597674796916367</td><td>0.7014744682366316</td><td>0.45499999999999996</td><td>0.0</td><td>0.2232816070318222</td><td>N</td><td>11.487844467163086</td><td>0.7058448791503906</td><td>2</td><td>13.508299827575684</td><td>0.0</td><td>1</td><td>nan</td><td>nan</td><td>0</td><td>nan</td><td>nan</td><td>0</td><td>11.417695045471191</td><td>0.3621950149536133</td><td>2</td></tr>\n",
       "<tr><td>85650262</td><td>0.011976049939482375</td><td>81.867462</td><td>-12.697490600000002</td><td>0.0</td><td>N</td><td>1</td><td>1</td><td>1</td><td>/Date(919163413257)/</td><td>/Date(919165173380)/</td><td>51225.46543117147</td><td>51225.48580298154</td><td>PK215-24D1</td><td>3.672507594359245</td><td>0.0</td><td>0.45499999999999996</td><td>0.0</td><td>0.2232816070318222</td><td>N</td><td>nan</td><td>nan</td><td>0</td><td>nan</td><td>nan</td><td>0</td><td>nan</td><td>nan</td><td>0</td><td>13.073589324951172</td><td>0.0</td><td>1</td><td>nan</td><td>nan</td><td>0</td></tr>\n",
       "<tr><td>59074158</td><td>0.012807511497058832</td><td>81.8675081</td><td>-12.6970878</td><td>0.0</td><td>N</td><td>1</td><td>1</td><td>1</td><td>/Date(919163413257)/</td><td>/Date(919165173380)/</td><td>51225.46543117147</td><td>51225.48580298154</td><td>PK215-24D1</td><td>1.3282477315459005</td><td>0.0</td><td>0.45499999999999996</td><td>0.0</td><td>0.2232816070318222</td><td>N</td><td>nan</td><td>nan</td><td>0</td><td>nan</td><td>nan</td><td>0</td><td>nan</td><td>nan</td><td>0</td><td>11.700789451599121</td><td>0.0</td><td>1</td><td>nan</td><td>nan</td><td>0</td></tr>\n",
       "<tr><td>49514032</td><td>0.016868456405597757</td><td>81.8673507</td><td>-12.6970766</td><td>0.0</td><td>N</td><td>1</td><td>1</td><td>1</td><td>/Date(1002132615097)/</td><td>/Date(1002133515093)/</td><td>52185.75711911125</td><td>52185.76753574284</td><td>IC418</td><td>2.0561933157307144</td><td>0.0</td><td>0.45499999999999996</td><td>0.0</td><td>0.2232816070318222</td><td>N</td><td>nan</td><td>nan</td><td>0</td><td>nan</td><td>nan</td><td>0</td><td>nan</td><td>nan</td><td>0</td><td>nan</td><td>nan</td><td>0</td><td>12.264599800109863</td><td>0.0</td><td>1</td></tr>\n",
       "<tr><td>3849061</td><td>0.02201639285139814</td><td>81.86745490070544</td><td>-12.697661182669316</td><td>0.0</td><td>Y</td><td>1</td><td>1</td><td>1</td><td>/Date(1189374496997)/</td><td>/Date(1189375876997)/</td><td>54352.908530027606</td><td>54352.9245022363</td><td>IC418</td><td>3.8767163433245755</td><td>0.0</td><td>0.45499999999999996</td><td>0.0</td><td>0.2232816070318222</td><td>N</td><td>13.405989646911621</td><td>0.0</td><td>1</td><td>nan</td><td>nan</td><td>0</td><td>nan</td><td>nan</td><td>0</td><td>nan</td><td>nan</td><td>0</td><td>nan</td><td>nan</td><td>0</td></tr>\n",
       "<tr><td>79528152</td><td>0.025527337955486177</td><td>81.8675458104757</td><td>-12.697725597380884</td><td>0.0</td><td>Y</td><td>3</td><td>1</td><td>3</td><td>/Date(937279573430)/</td><td>/Date(937287233430)/</td><td>51435.14321097685</td><td>51435.23186839372</td><td>IC418</td><td>3.234443902714927</td><td>0.20027712778925374</td><td>0.4549999999999999</td><td>6.798699777552591e-17</td><td>0.2232816070318222</td><td>N</td><td>12.978099822998047</td><td>0.0</td><td>1</td><td>16.269100189208984</td><td>0.0</td><td>1</td><td>nan</td><td>nan</td><td>0</td><td>nan</td><td>nan</td><td>0</td><td>16.81999969482422</td><td>0.0</td><td>1</td></tr>\n",
       "<tr><td>34439260</td><td>0.028276258555586024</td><td>81.86788534214881</td><td>-12.696986964414894</td><td>0.0</td><td>Y</td><td>2</td><td>1</td><td>2</td><td>/Date(1189374496997)/</td><td>/Date(1189379756870)/</td><td>54352.908530027606</td><td>54352.969408194534</td><td>IC418</td><td>3.699908973280848</td><td>0.19068432706273944</td><td>0.45499999999999996</td><td>0.0</td><td>0.2232816070318222</td><td>N</td><td>13.309289932250977</td><td>0.0</td><td>1</td><td>nan</td><td>nan</td><td>0</td><td>nan</td><td>nan</td><td>0</td><td>nan</td><td>nan</td><td>0</td><td>16.369991302490234</td><td>0.0</td><td>1</td></tr>\n",
       "<tr><td>60760708</td><td>0.032571346344362324</td><td>81.8680064</td><td>-12.697572600000003</td><td>0.0</td><td>N</td><td>1</td><td>1</td><td>1</td><td>/Date(1002132615097)/</td><td>/Date(1002133515093)/</td><td>52185.75711911125</td><td>52185.76753574284</td><td>IC418</td><td>2.9283987071218807</td><td>0.0</td><td>0.45499999999999996</td><td>0.0</td><td>0.2232816070318222</td><td>N</td><td>nan</td><td>nan</td><td>0</td><td>nan</td><td>nan</td><td>0</td><td>nan</td><td>nan</td><td>0</td><td>nan</td><td>nan</td><td>0</td><td>15.468600273132324</td><td>0.0</td><td>1</td></tr>\n",
       "<tr><td>14474603</td><td>0.03545828567463777</td><td>81.8670761</td><td>-12.6969036</td><td>0.0</td><td>N</td><td>1</td><td>1</td><td>1</td><td>/Date(919163413257)/</td><td>/Date(919165173380)/</td><td>51225.46543117147</td><td>51225.48580298154</td><td>PK215-24D1</td><td>4.013897429059999</td><td>0.0</td><td>0.45499999999999996</td><td>0.0</td><td>0.2232816070318222</td><td>N</td><td>nan</td><td>nan</td><td>0</td><td>nan</td><td>nan</td><td>0</td><td>nan</td><td>nan</td><td>0</td><td>14.019389152526855</td><td>0.0</td><td>1</td><td>nan</td><td>nan</td><td>0</td></tr>\n",
       "<tr><td>...</td><td>...</td><td>...</td><td>...</td><td>...</td><td>...</td><td>...</td><td>...</td><td>...</td><td>...</td><td>...</td><td>...</td><td>...</td><td>...</td><td>...</td><td>...</td><td>...</td><td>...</td><td>...</td><td>...</td><td>...</td><td>...</td><td>...</td><td>...</td><td>...</td><td>...</td><td>...</td><td>...</td><td>...</td><td>...</td><td>...</td><td>...</td><td>...</td><td>...</td><td>...</td></tr>\n",
       "<tr><td>46442569</td><td>6.163894540712083</td><td>81.78104725146208</td><td>-12.638691162636576</td><td>0.0</td><td>Y</td><td>1</td><td>1</td><td>1</td><td>/Date(921328453407)/</td><td>/Date(921330593407)/</td><td>51250.52376624057</td><td>51250.5485347826</td><td>ANY</td><td>2.6652325031369233</td><td>0.0</td><td>0.3499999940395355</td><td>0.0</td><td>0.2097422033548355</td><td>N</td><td>nan</td><td>nan</td><td>0</td><td>nan</td><td>nan</td><td>0</td><td>25.13559913635254</td><td>0.0</td><td>1</td><td>nan</td><td>nan</td><td>0</td><td>nan</td><td>nan</td><td>0</td></tr>\n",
       "<tr><td>87561287</td><td>6.2027311621484245</td><td>81.8014541924262</td><td>-12.616483280326616</td><td>0.0</td><td>Y</td><td>1</td><td>1</td><td>1</td><td>/Date(921328453407)/</td><td>/Date(921330593407)/</td><td>51250.52376624057</td><td>51250.5485347826</td><td>ANY</td><td>0.9568604619004005</td><td>0.0</td><td>0.3499999940395355</td><td>0.0</td><td>0.2315555065870285</td><td>N</td><td>nan</td><td>nan</td><td>0</td><td>nan</td><td>nan</td><td>0</td><td>23.901199340820312</td><td>0.0</td><td>1</td><td>nan</td><td>nan</td><td>0</td><td>nan</td><td>nan</td><td>0</td></tr>\n",
       "<tr><td>40311846</td><td>6.203098083469302</td><td>81.78591026945158</td><td>-12.63136365705184</td><td>0.0</td><td>Y</td><td>1</td><td>1</td><td>1</td><td>/Date(921328453407)/</td><td>/Date(921330593407)/</td><td>51250.52376624057</td><td>51250.5485347826</td><td>ANY</td><td>1.1751162451367045</td><td>0.0</td><td>0.3499999940395355</td><td>0.0</td><td>0.2315555065870285</td><td>N</td><td>nan</td><td>nan</td><td>0</td><td>nan</td><td>nan</td><td>0</td><td>23.322799682617188</td><td>0.0</td><td>1</td><td>nan</td><td>nan</td><td>0</td><td>nan</td><td>nan</td><td>0</td></tr>\n",
       "<tr><td>98018064</td><td>6.211493316222754</td><td>81.78285300240735</td><td>-12.634908449161575</td><td>0.0</td><td>Y</td><td>1</td><td>1</td><td>1</td><td>/Date(921328453407)/</td><td>/Date(921330593407)/</td><td>51250.52376624057</td><td>51250.5485347826</td><td>ANY</td><td>1.9106977207716123</td><td>0.0</td><td>0.3710000216960907</td><td>0.0</td><td>0.2315555065870285</td><td>N</td><td>nan</td><td>nan</td><td>0</td><td>nan</td><td>nan</td><td>0</td><td>25.186500549316406</td><td>0.0</td><td>1</td><td>nan</td><td>nan</td><td>0</td><td>nan</td><td>nan</td><td>0</td></tr>\n",
       "<tr><td>24343268</td><td>6.243147156375478</td><td>81.80339943978788</td><td>-12.614160758091833</td><td>0.0</td><td>Y</td><td>1</td><td>1</td><td>1</td><td>/Date(921328453407)/</td><td>/Date(921330593407)/</td><td>51250.52376624057</td><td>51250.5485347826</td><td>ANY</td><td>1.9168604251950287</td><td>0.0</td><td>0.3499999940395355</td><td>0.0</td><td>0.2315555065870285</td><td>N</td><td>nan</td><td>nan</td><td>0</td><td>nan</td><td>nan</td><td>0</td><td>18.99449920654297</td><td>0.0</td><td>1</td><td>nan</td><td>nan</td><td>0</td><td>nan</td><td>nan</td><td>0</td></tr>\n",
       "<tr><td>33286019</td><td>6.279836860966224</td><td>81.78279148395757</td><td>-12.633113753019495</td><td>0.0</td><td>Y</td><td>1</td><td>1</td><td>1</td><td>/Date(921328453407)/</td><td>/Date(921330593407)/</td><td>51250.52376624057</td><td>51250.5485347826</td><td>ANY</td><td>1.9672093003295188</td><td>0.0</td><td>0.3499999940395355</td><td>0.0</td><td>0.2315555065870285</td><td>N</td><td>nan</td><td>nan</td><td>0</td><td>nan</td><td>nan</td><td>0</td><td>24.434900283813477</td><td>0.0</td><td>1</td><td>nan</td><td>nan</td><td>0</td><td>nan</td><td>nan</td><td>0</td></tr>\n",
       "<tr><td>13146491</td><td>6.36624878774303</td><td>81.79527629046265</td><td>-12.617998168506656</td><td>0.0</td><td>Y</td><td>1</td><td>1</td><td>1</td><td>/Date(921328453407)/</td><td>/Date(921330593407)/</td><td>51250.52376624057</td><td>51250.5485347826</td><td>ANY</td><td>0.8990697389425234</td><td>0.0</td><td>0.3499999940395355</td><td>0.0</td><td>0.2315555065870285</td><td>N</td><td>nan</td><td>nan</td><td>0</td><td>nan</td><td>nan</td><td>0</td><td>24.90530014038086</td><td>0.0</td><td>1</td><td>nan</td><td>nan</td><td>0</td><td>nan</td><td>nan</td><td>0</td></tr>\n",
       "<tr><td>103027787</td><td>6.379484953628598</td><td>81.77510689904253</td><td>-12.64095593589095</td><td>0.0</td><td>Y</td><td>1</td><td>1</td><td>1</td><td>/Date(921328453407)/</td><td>/Date(921330593407)/</td><td>51250.52376624057</td><td>51250.5485347826</td><td>ANY</td><td>1.8162791119065396</td><td>0.0</td><td>0.3499999940395355</td><td>0.0</td><td>0.2097422033548355</td><td>N</td><td>nan</td><td>nan</td><td>0</td><td>nan</td><td>nan</td><td>0</td><td>23.958999633789062</td><td>0.0</td><td>1</td><td>nan</td><td>nan</td><td>0</td><td>nan</td><td>nan</td><td>0</td></tr>\n",
       "<tr><td>69478781</td><td>6.429983914053197</td><td>81.79812954297455</td><td>-12.614233789213866</td><td>0.0</td><td>Y</td><td>1</td><td>1</td><td>1</td><td>/Date(921328453407)/</td><td>/Date(921330593407)/</td><td>51250.52376624057</td><td>51250.5485347826</td><td>ANY</td><td>0.7718604664469875</td><td>0.0</td><td>0.3499999940395355</td><td>0.0</td><td>0.2315555065870285</td><td>N</td><td>nan</td><td>nan</td><td>0</td><td>nan</td><td>nan</td><td>0</td><td>24.647499084472656</td><td>0.0</td><td>1</td><td>nan</td><td>nan</td><td>0</td><td>nan</td><td>nan</td><td>0</td></tr>\n",
       "<tr><td>74166488</td><td>6.43736824292383</td><td>81.80108818382145</td><td>-12.611807703304587</td><td>0.0</td><td>Y</td><td>1</td><td>1</td><td>1</td><td>/Date(921328453407)/</td><td>/Date(921330593407)/</td><td>51250.52376624057</td><td>51250.5485347826</td><td>ANY</td><td>1.2626743593881298</td><td>0.0</td><td>0.3499999940395355</td><td>0.0</td><td>0.2315555065870285</td><td>N</td><td>nan</td><td>nan</td><td>0</td><td>nan</td><td>nan</td><td>0</td><td>24.84950065612793</td><td>0.0</td><td>1</td><td>nan</td><td>nan</td><td>0</td><td>nan</td><td>nan</td><td>0</td></tr>\n",
       "</table></div>"
      ],
      "text/plain": [
       "<Table masked=True length=2602>\n",
       " MatchID         Distance       ...    W2_F658N_MAD    W2_F658N_N\n",
       "   str9          float64        ...      float64         int64   \n",
       "--------- --------------------- ... ------------------ ----------\n",
       " 90374054 0.0024195100745320595 ... 0.3621950149536133          2\n",
       " 85650262  0.011976049939482375 ...                nan          0\n",
       " 59074158  0.012807511497058832 ...                nan          0\n",
       " 49514032  0.016868456405597757 ...                0.0          1\n",
       "  3849061   0.02201639285139814 ...                nan          0\n",
       " 79528152  0.025527337955486177 ...                0.0          1\n",
       " 34439260  0.028276258555586024 ...                0.0          1\n",
       " 60760708  0.032571346344362324 ...                0.0          1\n",
       " 14474603   0.03545828567463777 ...                nan          0\n",
       "      ...                   ... ...                ...        ...\n",
       " 46442569     6.163894540712083 ...                nan          0\n",
       " 87561287    6.2027311621484245 ...                nan          0\n",
       " 40311846     6.203098083469302 ...                nan          0\n",
       " 98018064     6.211493316222754 ...                nan          0\n",
       " 24343268     6.243147156375478 ...                nan          0\n",
       " 33286019     6.279836860966224 ...                nan          0\n",
       " 13146491      6.36624878774303 ...                nan          0\n",
       "103027787     6.379484953628598 ...                nan          0\n",
       " 69478781     6.429983914053197 ...                nan          0\n",
       " 74166488      6.43736824292383 ...                nan          0"
      ]
     },
     "execution_count": 24,
     "metadata": {},
     "output_type": "execute_result"
    }
   ],
   "source": [
    "catalog_data"
   ]
  },
  {
   "cell_type": "markdown",
   "metadata": {},
   "source": [
    "## Quasar images\n",
    "\n",
    "From https://www.opencadc.org/notebook-tutorials/Notebooks/astroquery_example_quasars.html\n",
    "\n",
    "See also: https://skyserver.sdss.org/dr14/en/tools/search/sql.aspx"
   ]
  },
  {
   "cell_type": "code",
   "execution_count": null,
   "metadata": {},
   "outputs": [
    {
     "name": "stdout",
     "output_type": "stream",
     "text": [
      "Number of results: 101\n"
     ]
    },
    {
     "data": {
      "application/vnd.microsoft.datawrangler.viewer.v0+json": {
       "columns": [
        {
         "name": "index",
         "rawType": "int64",
         "type": "integer"
        },
        {
         "name": "name",
         "rawType": "object",
         "type": "string"
        },
        {
         "name": "RA",
         "rawType": "float64",
         "type": "float"
        },
        {
         "name": "DEC",
         "rawType": "float64",
         "type": "float"
        },
        {
         "name": "MJD",
         "rawType": "int32",
         "type": "integer"
        },
        {
         "name": "redshift",
         "rawType": "float32",
         "type": "float"
        },
        {
         "name": "CLASS_BEST",
         "rawType": "object",
         "type": "string"
        },
        {
         "name": "CONF_BEST",
         "rawType": "int64",
         "type": "integer"
        }
       ],
       "conversionMethod": "pd.DataFrame",
       "ref": "bd0fe94b-3d04-442a-a1c2-e4ca489931c5",
       "rows": [
        [
         "0",
         "2RXS J001129.4+005801",
         "2.8766715",
         "0.96438806",
         "55478",
         "1.49",
         "QSO",
         "3"
        ],
        [
         "1",
         "2RXS J003605.5+183808",
         "9.0268789",
         "18.633067",
         "56903",
         "1.4701166",
         "QSO",
         "3"
        ],
        [
         "2",
         "2RXS J011517.4-012653",
         "18.821264",
         "-1.4512583",
         "56980",
         "1.3710678",
         "QSO",
         "3"
        ],
        [
         "3",
         "2RXS J023154.7-045201",
         "37.97309",
         "-4.8642137",
         "56603",
         "1.32",
         "QSO",
         "3"
        ],
        [
         "4",
         "2RXS J023507.3-040208",
         "38.780584",
         "-4.0348059",
         "57336",
         "1.4427986",
         "QSO",
         "3"
        ]
       ],
       "shape": {
        "columns": 7,
        "rows": 5
       }
      },
      "text/html": [
       "<div>\n",
       "<style scoped>\n",
       "    .dataframe tbody tr th:only-of-type {\n",
       "        vertical-align: middle;\n",
       "    }\n",
       "\n",
       "    .dataframe tbody tr th {\n",
       "        vertical-align: top;\n",
       "    }\n",
       "\n",
       "    .dataframe thead th {\n",
       "        text-align: right;\n",
       "    }\n",
       "</style>\n",
       "<table border=\"1\" class=\"dataframe\">\n",
       "  <thead>\n",
       "    <tr style=\"text-align: right;\">\n",
       "      <th></th>\n",
       "      <th>name</th>\n",
       "      <th>RA</th>\n",
       "      <th>DEC</th>\n",
       "      <th>MJD</th>\n",
       "      <th>redshift</th>\n",
       "      <th>CLASS_BEST</th>\n",
       "      <th>CONF_BEST</th>\n",
       "    </tr>\n",
       "  </thead>\n",
       "  <tbody>\n",
       "    <tr>\n",
       "      <th>0</th>\n",
       "      <td>2RXS J001129.4+005801</td>\n",
       "      <td>2.876672</td>\n",
       "      <td>0.964388</td>\n",
       "      <td>55478</td>\n",
       "      <td>1.490000</td>\n",
       "      <td>QSO</td>\n",
       "      <td>3</td>\n",
       "    </tr>\n",
       "    <tr>\n",
       "      <th>1</th>\n",
       "      <td>2RXS J003605.5+183808</td>\n",
       "      <td>9.026879</td>\n",
       "      <td>18.633067</td>\n",
       "      <td>56903</td>\n",
       "      <td>1.470117</td>\n",
       "      <td>QSO</td>\n",
       "      <td>3</td>\n",
       "    </tr>\n",
       "    <tr>\n",
       "      <th>2</th>\n",
       "      <td>2RXS J011517.4-012653</td>\n",
       "      <td>18.821264</td>\n",
       "      <td>-1.451258</td>\n",
       "      <td>56980</td>\n",
       "      <td>1.371068</td>\n",
       "      <td>QSO</td>\n",
       "      <td>3</td>\n",
       "    </tr>\n",
       "    <tr>\n",
       "      <th>3</th>\n",
       "      <td>2RXS J023154.7-045201</td>\n",
       "      <td>37.973090</td>\n",
       "      <td>-4.864214</td>\n",
       "      <td>56603</td>\n",
       "      <td>1.320000</td>\n",
       "      <td>QSO</td>\n",
       "      <td>3</td>\n",
       "    </tr>\n",
       "    <tr>\n",
       "      <th>4</th>\n",
       "      <td>2RXS J023507.3-040208</td>\n",
       "      <td>38.780584</td>\n",
       "      <td>-4.034806</td>\n",
       "      <td>57336</td>\n",
       "      <td>1.442799</td>\n",
       "      <td>QSO</td>\n",
       "      <td>3</td>\n",
       "    </tr>\n",
       "  </tbody>\n",
       "</table>\n",
       "</div>"
      ],
      "text/plain": [
       "                    name         RA        DEC    MJD  redshift CLASS_BEST  \\\n",
       "0  2RXS J001129.4+005801   2.876672   0.964388  55478  1.490000        QSO   \n",
       "1  2RXS J003605.5+183808   9.026879  18.633067  56903  1.470117        QSO   \n",
       "2  2RXS J011517.4-012653  18.821264  -1.451258  56980  1.371068        QSO   \n",
       "3  2RXS J023154.7-045201  37.973090  -4.864214  56603  1.320000        QSO   \n",
       "4  2RXS J023507.3-040208  38.780584  -4.034806  57336  1.442799        QSO   \n",
       "\n",
       "   CONF_BEST  \n",
       "0          3  \n",
       "1          3  \n",
       "2          3  \n",
       "3          3  \n",
       "4          3  "
      ]
     },
     "execution_count": 40,
     "metadata": {},
     "output_type": "execute_result"
    }
   ],
   "source": [
    "from urllib.parse import urlencode\n",
    "\n",
    "from astropy.table import Table\n",
    "\n",
    "# Define the query\n",
    "query = \"\"\"SELECT name, DR14_PLUG_RA AS RA, DR14_PLUG_DEC AS DEC, \n",
    "    MJD, redshift, \n",
    "    CLASS_BEST, CONF_BEST \n",
    "FROM spiders_quasar \n",
    "WHERE ( redshift > {redshift_lower} \n",
    "    AND redshift < {redshift_upper} \n",
    "    AND CLASS_BEST='QSO' \n",
    "    AND DR14_ZWARNING=0 )\"\"\".format(redshift_lower=1.3, redshift_upper=1.5)\n",
    "\n",
    "# Build the request\n",
    "base_url = 'http://skyserver.sdss.org/dr14/SkyServerWS/SearchTools/SqlSearch'\n",
    "parameters = {'cmd': query, 'format': 'fits'}\n",
    "url_params = urlencode(parameters)\n",
    "data_url = '{}?{}'.format(base_url, url_params)\n",
    "\n",
    "# Grab the data from the url and convert to a pandas dataframe\n",
    "qso_table = Table.read(data_url, format='fits')\n",
    "qso_data = qso_table.to_pandas()\n",
    "\n",
    "# Convert byte strings to regular strings\n",
    "qso_data[\"CLASS_BEST\"] = qso_data[\"CLASS_BEST\"].str.decode(\"utf-8\")\n",
    "qso_data[\"name\"] = qso_data[\"name\"].str.decode(\"utf-8\")\n",
    "\n",
    "print('Number of results: {}'.format(len(qso_data)))\n",
    "qso_data.head()"
   ]
  },
  {
   "cell_type": "markdown",
   "metadata": {},
   "source": [
    "## SDSS DR18, joining tables"
   ]
  },
  {
   "cell_type": "code",
   "execution_count": 69,
   "metadata": {},
   "outputs": [
    {
     "name": "stdout",
     "output_type": "stream",
     "text": [
      "Number of results: 10000\n"
     ]
    },
    {
     "data": {
      "application/vnd.microsoft.datawrangler.viewer.v0+json": {
       "columns": [
        {
         "name": "index",
         "rawType": "int64",
         "type": "integer"
        },
        {
         "name": "objid",
         "rawType": "int64",
         "type": "integer"
        },
        {
         "name": "ra",
         "rawType": "float64",
         "type": "float"
        },
        {
         "name": "dec",
         "rawType": "float64",
         "type": "float"
        },
        {
         "name": "u",
         "rawType": "float32",
         "type": "float"
        },
        {
         "name": "g",
         "rawType": "float32",
         "type": "float"
        },
        {
         "name": "r",
         "rawType": "float32",
         "type": "float"
        },
        {
         "name": "i",
         "rawType": "float32",
         "type": "float"
        },
        {
         "name": "z",
         "rawType": "float32",
         "type": "float"
        },
        {
         "name": "run",
         "rawType": "int16",
         "type": "integer"
        },
        {
         "name": "rerun",
         "rawType": "int16",
         "type": "integer"
        },
        {
         "name": "camcol",
         "rawType": "uint8",
         "type": "integer"
        },
        {
         "name": "field",
         "rawType": "int16",
         "type": "integer"
        },
        {
         "name": "specobjid",
         "rawType": "object",
         "type": "string"
        },
        {
         "name": "class",
         "rawType": "object",
         "type": "string"
        },
        {
         "name": "redshift",
         "rawType": "float32",
         "type": "float"
        },
        {
         "name": "plate",
         "rawType": "int16",
         "type": "integer"
        },
        {
         "name": "mjd",
         "rawType": "int32",
         "type": "integer"
        },
        {
         "name": "fiberid",
         "rawType": "int16",
         "type": "integer"
        }
       ],
       "conversionMethod": "pd.DataFrame",
       "ref": "1181a677-413f-4271-8184-4a42fd577d60",
       "rows": [
        [
         "0",
         "1237648721208672404",
         "129.6076166536256",
         "-0.15860598871385986",
         "19.06218",
         "18.000385",
         "17.65346",
         "17.666698",
         "17.498667",
         "756",
         "301",
         "3",
         "92",
         "8390304900123482112",
         "STAR",
         "9.706288e-06",
         "7452",
         "56745",
         "359"
        ],
        [
         "1",
         "1237659326031201332",
         "250.41277988577826",
         "36.19047169686033",
         "19.445974",
         "18.48041",
         "18.176233",
         "18.05454",
         "18.061897",
         "3225",
         "301",
         "4",
         "266",
         "2460136985440918528",
         "STAR",
         "-0.0007663208",
         "2185",
         "53532",
         "166"
        ],
        [
         "2",
         "1237658206122868827",
         "187.71261423859485",
         "51.20238670853776",
         "18.92099",
         "19.153826",
         "19.581593",
         "19.934433",
         "20.10489",
         "2964",
         "301",
         "6",
         "333",
         "7514391050963933184",
         "STAR",
         "0.0001774461",
         "6674",
         "56416",
         "491"
        ],
        [
         "3",
         "1237655369284648998",
         "168.66332274449414",
         "60.905081696832085",
         "17.94771",
         "17.373198",
         "17.597744",
         "17.37786",
         "17.3863",
         "2304",
         "301",
         "2",
         "145",
         "872652455777691648",
         "GALAXY",
         "0.053535618",
         "775",
         "52295",
         "291"
        ],
        [
         "4",
         "1237659326033428565",
         "254.2517398169221",
         "32.18991791264047",
         "18.696894",
         "17.674751",
         "17.3293",
         "17.189348",
         "17.096918",
         "3225",
         "301",
         "4",
         "300",
         "12282679717174466560",
         "STAR",
         "-0.0003631408",
         "10909",
         "58280",
         "864"
        ]
       ],
       "shape": {
        "columns": 18,
        "rows": 5
       }
      },
      "text/html": [
       "<div>\n",
       "<style scoped>\n",
       "    .dataframe tbody tr th:only-of-type {\n",
       "        vertical-align: middle;\n",
       "    }\n",
       "\n",
       "    .dataframe tbody tr th {\n",
       "        vertical-align: top;\n",
       "    }\n",
       "\n",
       "    .dataframe thead th {\n",
       "        text-align: right;\n",
       "    }\n",
       "</style>\n",
       "<table border=\"1\" class=\"dataframe\">\n",
       "  <thead>\n",
       "    <tr style=\"text-align: right;\">\n",
       "      <th></th>\n",
       "      <th>objid</th>\n",
       "      <th>ra</th>\n",
       "      <th>dec</th>\n",
       "      <th>u</th>\n",
       "      <th>g</th>\n",
       "      <th>r</th>\n",
       "      <th>i</th>\n",
       "      <th>z</th>\n",
       "      <th>run</th>\n",
       "      <th>rerun</th>\n",
       "      <th>camcol</th>\n",
       "      <th>field</th>\n",
       "      <th>specobjid</th>\n",
       "      <th>class</th>\n",
       "      <th>redshift</th>\n",
       "      <th>plate</th>\n",
       "      <th>mjd</th>\n",
       "      <th>fiberid</th>\n",
       "    </tr>\n",
       "  </thead>\n",
       "  <tbody>\n",
       "    <tr>\n",
       "      <th>0</th>\n",
       "      <td>1237648721208672404</td>\n",
       "      <td>129.607617</td>\n",
       "      <td>-0.158606</td>\n",
       "      <td>19.062180</td>\n",
       "      <td>18.000385</td>\n",
       "      <td>17.653460</td>\n",
       "      <td>17.666698</td>\n",
       "      <td>17.498667</td>\n",
       "      <td>756</td>\n",
       "      <td>301</td>\n",
       "      <td>3</td>\n",
       "      <td>92</td>\n",
       "      <td>8390304900123482112</td>\n",
       "      <td>STAR</td>\n",
       "      <td>0.000010</td>\n",
       "      <td>7452</td>\n",
       "      <td>56745</td>\n",
       "      <td>359</td>\n",
       "    </tr>\n",
       "    <tr>\n",
       "      <th>1</th>\n",
       "      <td>1237659326031201332</td>\n",
       "      <td>250.412780</td>\n",
       "      <td>36.190472</td>\n",
       "      <td>19.445974</td>\n",
       "      <td>18.480410</td>\n",
       "      <td>18.176233</td>\n",
       "      <td>18.054541</td>\n",
       "      <td>18.061897</td>\n",
       "      <td>3225</td>\n",
       "      <td>301</td>\n",
       "      <td>4</td>\n",
       "      <td>266</td>\n",
       "      <td>2460136985440918528</td>\n",
       "      <td>STAR</td>\n",
       "      <td>-0.000766</td>\n",
       "      <td>2185</td>\n",
       "      <td>53532</td>\n",
       "      <td>166</td>\n",
       "    </tr>\n",
       "    <tr>\n",
       "      <th>2</th>\n",
       "      <td>1237658206122868827</td>\n",
       "      <td>187.712614</td>\n",
       "      <td>51.202387</td>\n",
       "      <td>18.920990</td>\n",
       "      <td>19.153826</td>\n",
       "      <td>19.581593</td>\n",
       "      <td>19.934433</td>\n",
       "      <td>20.104891</td>\n",
       "      <td>2964</td>\n",
       "      <td>301</td>\n",
       "      <td>6</td>\n",
       "      <td>333</td>\n",
       "      <td>7514391050963933184</td>\n",
       "      <td>STAR</td>\n",
       "      <td>0.000177</td>\n",
       "      <td>6674</td>\n",
       "      <td>56416</td>\n",
       "      <td>491</td>\n",
       "    </tr>\n",
       "    <tr>\n",
       "      <th>3</th>\n",
       "      <td>1237655369284648998</td>\n",
       "      <td>168.663323</td>\n",
       "      <td>60.905082</td>\n",
       "      <td>17.947710</td>\n",
       "      <td>17.373198</td>\n",
       "      <td>17.597744</td>\n",
       "      <td>17.377859</td>\n",
       "      <td>17.386299</td>\n",
       "      <td>2304</td>\n",
       "      <td>301</td>\n",
       "      <td>2</td>\n",
       "      <td>145</td>\n",
       "      <td>872652455777691648</td>\n",
       "      <td>GALAXY</td>\n",
       "      <td>0.053536</td>\n",
       "      <td>775</td>\n",
       "      <td>52295</td>\n",
       "      <td>291</td>\n",
       "    </tr>\n",
       "    <tr>\n",
       "      <th>4</th>\n",
       "      <td>1237659326033428565</td>\n",
       "      <td>254.251740</td>\n",
       "      <td>32.189918</td>\n",
       "      <td>18.696894</td>\n",
       "      <td>17.674751</td>\n",
       "      <td>17.329300</td>\n",
       "      <td>17.189348</td>\n",
       "      <td>17.096918</td>\n",
       "      <td>3225</td>\n",
       "      <td>301</td>\n",
       "      <td>4</td>\n",
       "      <td>300</td>\n",
       "      <td>12282679717174466560</td>\n",
       "      <td>STAR</td>\n",
       "      <td>-0.000363</td>\n",
       "      <td>10909</td>\n",
       "      <td>58280</td>\n",
       "      <td>864</td>\n",
       "    </tr>\n",
       "  </tbody>\n",
       "</table>\n",
       "</div>"
      ],
      "text/plain": [
       "                 objid          ra        dec          u          g  \\\n",
       "0  1237648721208672404  129.607617  -0.158606  19.062180  18.000385   \n",
       "1  1237659326031201332  250.412780  36.190472  19.445974  18.480410   \n",
       "2  1237658206122868827  187.712614  51.202387  18.920990  19.153826   \n",
       "3  1237655369284648998  168.663323  60.905082  17.947710  17.373198   \n",
       "4  1237659326033428565  254.251740  32.189918  18.696894  17.674751   \n",
       "\n",
       "           r          i          z   run  rerun  camcol  field  \\\n",
       "0  17.653460  17.666698  17.498667   756    301       3     92   \n",
       "1  18.176233  18.054541  18.061897  3225    301       4    266   \n",
       "2  19.581593  19.934433  20.104891  2964    301       6    333   \n",
       "3  17.597744  17.377859  17.386299  2304    301       2    145   \n",
       "4  17.329300  17.189348  17.096918  3225    301       4    300   \n",
       "\n",
       "              specobjid   class  redshift  plate    mjd  fiberid  \n",
       "0   8390304900123482112    STAR  0.000010   7452  56745      359  \n",
       "1   2460136985440918528    STAR -0.000766   2185  53532      166  \n",
       "2   7514391050963933184    STAR  0.000177   6674  56416      491  \n",
       "3    872652455777691648  GALAXY  0.053536    775  52295      291  \n",
       "4  12282679717174466560    STAR -0.000363  10909  58280      864  "
      ]
     },
     "execution_count": 69,
     "metadata": {},
     "output_type": "execute_result"
    }
   ],
   "source": [
    "# Define the query\n",
    "query = \"\"\"SELECT TOP 10000\n",
    "    p.objid,p.ra,p.dec,p.u,p.g,p.r,p.i,p.z,\n",
    "    p.run, p.rerun, p.camcol, p.field,\n",
    "    s.specobjid, s.class, s.z as redshift,\n",
    "    s.plate, s.mjd, s.fiberid\n",
    "FROM PhotoObj AS p\n",
    "JOIN SpecObj AS s ON s.bestobjid = p.objid\n",
    "WHERE \n",
    " p.u BETWEEN 0 AND 19.6\n",
    " AND g BETWEEN 0 AND 20\"\"\"\n",
    "\n",
    "# Build the request\n",
    "base_url = 'http://skyserver.sdss.org/dr18/SkyServerWS/SearchTools/SqlSearch'\n",
    "parameters = {'cmd': query, 'format': 'fits'}\n",
    "url_params = urlencode(parameters)\n",
    "data_url = '{}?{}'.format(base_url, url_params)\n",
    "\n",
    "# Grab the data from the url and convert to a pandas dataframe\n",
    "dr18_table = Table.read(data_url, format='fits')\n",
    "dr18_data = dr18_table.to_pandas()\n",
    "\n",
    "dr18_data[\"class\"] = dr18_data[\"class\"].str.decode(\"utf-8\")\n",
    "dr18_data[\"specobjid\"] = dr18_data[\"specobjid\"].str.decode(\"utf-8\")\n",
    "\n",
    "print('Number of results: {}'.format(len(dr18_data)))\n",
    "dr18_data.head()"
   ]
  },
  {
   "cell_type": "markdown",
   "metadata": {},
   "source": [
    "* DR8 handles searches by spectral lines differently than previous releases. In addition, spectral lines for galaxies and stars are\n",
    "* identified through different processes.\n",
    "* Spectral lines for galaxies are calculated using the MPA-JHU spectroscopic reanalysis (Tremonti et al. 2004; Brinchmann et al. 2004) and are stored in the galSpecLine table. For more on how spectral lines of galaxies are found, see the Galspec page of the sdss3.org website.\n",
    "* Spectral lines for stars are calculated using the SEGUE Stellar Parameter Pipeline (SSPP; Lee et al. 2008) and are stored in the sppLines\n",
    "* table. \n",
    "* For more on how spectral lines of stars are found, see the SSPP page of the sdss3.org website.\n",
    "\n",
    "* Finding galaxies by their emission lines:\n",
    "\n",
    "This query selects galaxy spectra with high internal reddening, as measured by the standard Balmer decrement technique. It makes use of the galSpec tables for the measurements of galaxy lines. In this case we use galSpecLine, which has emission line measurements.\n"
   ]
  },
  {
   "cell_type": "code",
   "execution_count": 51,
   "metadata": {},
   "outputs": [
    {
     "name": "stdout",
     "output_type": "stream",
     "text": [
      "Number of results: 1297\n"
     ]
    },
    {
     "data": {
      "application/vnd.microsoft.datawrangler.viewer.v0+json": {
       "columns": [
        {
         "name": "index",
         "rawType": "int64",
         "type": "integer"
        },
        {
         "name": "plate",
         "rawType": "int16",
         "type": "integer"
        },
        {
         "name": "fiberid",
         "rawType": "int16",
         "type": "integer"
        },
        {
         "name": "mjd",
         "rawType": "int32",
         "type": "integer"
        },
        {
         "name": "z",
         "rawType": "float32",
         "type": "float"
        },
        {
         "name": "zwarning",
         "rawType": "int32",
         "type": "integer"
        },
        {
         "name": "h_beta_flux",
         "rawType": "float32",
         "type": "float"
        },
        {
         "name": "h_beta_flux_err",
         "rawType": "float32",
         "type": "float"
        },
        {
         "name": "h_alpha_flux",
         "rawType": "float32",
         "type": "float"
        },
        {
         "name": "h_alpha_flux_err",
         "rawType": "float32",
         "type": "float"
        }
       ],
       "conversionMethod": "pd.DataFrame",
       "ref": "c8fc161c-94d2-4745-ab95-7fb17bf76721",
       "rows": [
        [
         "0",
         "1023",
         "464",
         "52818",
         "0.2138861",
         "0",
         "17.707502",
         "2.0477734",
         "155.33298",
         "4.9390798"
        ],
        [
         "1",
         "990",
         "91",
         "52465",
         "0.13877589",
         "0",
         "16.826162",
         "3.2830184",
         "155.30424",
         "4.3986654"
        ],
        [
         "2",
         "387",
         "607",
         "51791",
         "0.13904488",
         "0",
         "16.839197",
         "2.8529558",
         "139.46281",
         "3.9788716"
        ],
        [
         "3",
         "2086",
         "149",
         "53401",
         "0.23159696",
         "0",
         "23.869757",
         "3.4110854",
         "215.19362",
         "5.971058"
        ],
        [
         "4",
         "1716",
         "265",
         "53827",
         "0.116115786",
         "0",
         "13.177597",
         "2.5332143",
         "111.35347",
         "3.9813046"
        ]
       ],
       "shape": {
        "columns": 9,
        "rows": 5
       }
      },
      "text/html": [
       "<div>\n",
       "<style scoped>\n",
       "    .dataframe tbody tr th:only-of-type {\n",
       "        vertical-align: middle;\n",
       "    }\n",
       "\n",
       "    .dataframe tbody tr th {\n",
       "        vertical-align: top;\n",
       "    }\n",
       "\n",
       "    .dataframe thead th {\n",
       "        text-align: right;\n",
       "    }\n",
       "</style>\n",
       "<table border=\"1\" class=\"dataframe\">\n",
       "  <thead>\n",
       "    <tr style=\"text-align: right;\">\n",
       "      <th></th>\n",
       "      <th>plate</th>\n",
       "      <th>fiberid</th>\n",
       "      <th>mjd</th>\n",
       "      <th>z</th>\n",
       "      <th>zwarning</th>\n",
       "      <th>h_beta_flux</th>\n",
       "      <th>h_beta_flux_err</th>\n",
       "      <th>h_alpha_flux</th>\n",
       "      <th>h_alpha_flux_err</th>\n",
       "    </tr>\n",
       "  </thead>\n",
       "  <tbody>\n",
       "    <tr>\n",
       "      <th>0</th>\n",
       "      <td>1023</td>\n",
       "      <td>464</td>\n",
       "      <td>52818</td>\n",
       "      <td>0.213886</td>\n",
       "      <td>0</td>\n",
       "      <td>17.707502</td>\n",
       "      <td>2.047773</td>\n",
       "      <td>155.332977</td>\n",
       "      <td>4.939080</td>\n",
       "    </tr>\n",
       "    <tr>\n",
       "      <th>1</th>\n",
       "      <td>990</td>\n",
       "      <td>91</td>\n",
       "      <td>52465</td>\n",
       "      <td>0.138776</td>\n",
       "      <td>0</td>\n",
       "      <td>16.826162</td>\n",
       "      <td>3.283018</td>\n",
       "      <td>155.304245</td>\n",
       "      <td>4.398665</td>\n",
       "    </tr>\n",
       "    <tr>\n",
       "      <th>2</th>\n",
       "      <td>387</td>\n",
       "      <td>607</td>\n",
       "      <td>51791</td>\n",
       "      <td>0.139045</td>\n",
       "      <td>0</td>\n",
       "      <td>16.839197</td>\n",
       "      <td>2.852956</td>\n",
       "      <td>139.462814</td>\n",
       "      <td>3.978872</td>\n",
       "    </tr>\n",
       "    <tr>\n",
       "      <th>3</th>\n",
       "      <td>2086</td>\n",
       "      <td>149</td>\n",
       "      <td>53401</td>\n",
       "      <td>0.231597</td>\n",
       "      <td>0</td>\n",
       "      <td>23.869757</td>\n",
       "      <td>3.411085</td>\n",
       "      <td>215.193619</td>\n",
       "      <td>5.971058</td>\n",
       "    </tr>\n",
       "    <tr>\n",
       "      <th>4</th>\n",
       "      <td>1716</td>\n",
       "      <td>265</td>\n",
       "      <td>53827</td>\n",
       "      <td>0.116116</td>\n",
       "      <td>0</td>\n",
       "      <td>13.177597</td>\n",
       "      <td>2.533214</td>\n",
       "      <td>111.353470</td>\n",
       "      <td>3.981305</td>\n",
       "    </tr>\n",
       "  </tbody>\n",
       "</table>\n",
       "</div>"
      ],
      "text/plain": [
       "   plate  fiberid    mjd         z  zwarning  h_beta_flux  h_beta_flux_err  \\\n",
       "0   1023      464  52818  0.213886         0    17.707502         2.047773   \n",
       "1    990       91  52465  0.138776         0    16.826162         3.283018   \n",
       "2    387      607  51791  0.139045         0    16.839197         2.852956   \n",
       "3   2086      149  53401  0.231597         0    23.869757         3.411085   \n",
       "4   1716      265  53827  0.116116         0    13.177597         2.533214   \n",
       "\n",
       "   h_alpha_flux  h_alpha_flux_err  \n",
       "0    155.332977          4.939080  \n",
       "1    155.304245          4.398665  \n",
       "2    139.462814          3.978872  \n",
       "3    215.193619          5.971058  \n",
       "4    111.353470          3.981305  "
      ]
     },
     "execution_count": 51,
     "metadata": {},
     "output_type": "execute_result"
    }
   ],
   "source": [
    "Hab_min = 8.\n",
    "query = f\"\"\" SELECT \n",
    "s.plate, s.fiberid, s.mjd, s.z, s.zwarning,\n",
    "g.h_beta_flux, g.h_beta_flux_err,\n",
    "g.h_alpha_flux, g.h_alpha_flux_err\n",
    "FROM GalSpecLine AS g\n",
    "JOIN SpecObj AS s\n",
    "ON s.specobjid = g.specobjid\n",
    "WHERE\n",
    "h_alpha_flux > h_alpha_flux_err*5\n",
    "AND h_beta_flux > h_beta_flux_err*5\n",
    "AND h_beta_flux_err > 0\n",
    "AND h_alpha_flux > {Hab_min} * h_beta_flux\n",
    "AND s.class = 'GALAXY'\n",
    "AND s.zwarning = 0\"\"\"\n",
    "\n",
    "# Build the request\n",
    "base_url = 'http://skyserver.sdss.org/dr18/SkyServerWS/SearchTools/SqlSearch'\n",
    "parameters = {'cmd': query, 'format': 'fits'}\n",
    "url_params = urlencode(parameters)\n",
    "data_url = '{}?{}'.format(base_url, url_params)\n",
    "\n",
    "# Grab the data from the url and convert to a pandas dataframe\n",
    "gals_table = Table.read(data_url, format='fits')\n",
    "gals_data = gals_table.to_pandas()\n",
    "\n",
    "print('Number of results: {}'.format(len(gals_data)))\n",
    "gals_data.head()"
   ]
  },
  {
   "cell_type": "code",
   "execution_count": 52,
   "metadata": {},
   "outputs": [
    {
     "data": {
      "image/png": "[encoded data removed]",
      "text/plain": [
       "<Figure size 640x480 with 1 Axes>"
      ]
     },
     "metadata": {},
     "output_type": "display_data"
    }
   ],
   "source": [
    "f, ax = plt.subplots()\n",
    "ax.hist(gals_data['z'], bins=50);"
   ]
  },
  {
   "cell_type": "code",
   "execution_count": null,
   "metadata": {},
   "outputs": [],
   "source": []
  }
 ],
 "metadata": {
  "kernelspec": {
   "display_name": "Python_Lecture",
   "language": "python",
   "name": "python3"
  },
  "language_info": {
   "codemirror_mode": {
    "name": "ipython",
    "version": 3
   },
   "file_extension": ".py",
   "mimetype": "text/x-python",
   "name": "python",
   "nbconvert_exporter": "python",
   "pygments_lexer": "ipython3",
   "version": "3.13.2"
  }
 },
 "nbformat": 4,
 "nbformat_minor": 4
}

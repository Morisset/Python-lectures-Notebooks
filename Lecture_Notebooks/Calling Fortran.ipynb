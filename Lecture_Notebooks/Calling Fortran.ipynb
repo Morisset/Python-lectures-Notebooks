{
 "cells": [
  {
   "cell_type": "code",
   "execution_count": 1,
   "metadata": {
    "collapsed": false
   },
   "outputs": [
    {
     "name": "stdout",
     "output_type": "stream",
     "text": [
      "Wed Oct 31 17:17:43 2018\n"
     ]
    }
   ],
   "source": [
    "# Just to know last time this was run:\n",
    "import time\n",
    "print time.ctime()"
   ]
  },
  {
   "cell_type": "markdown",
   "metadata": {},
   "source": [
    "# I Calling Fortran from Python"
   ]
  },
  {
   "cell_type": "markdown",
   "metadata": {},
   "source": [
    "This is part of the Python lecture given by Christophe Morisset at IA-UNAM. More informations at: http://python-astro.blogspot.mx/"
   ]
  },
  {
   "cell_type": "code",
   "execution_count": 2,
   "metadata": {
    "collapsed": false
   },
   "outputs": [],
   "source": [
    "import numpy as np"
   ]
  },
  {
   "cell_type": "markdown",
   "metadata": {},
   "source": [
    "The following is part of this excellent web page: http://nbviewer.ipython.org/github/jrjohansson/scientific-python-lectures/blob/master/Lecture-6A-Fortran-and-C.ipynb"
   ]
  },
  {
   "cell_type": "code",
   "execution_count": 3,
   "metadata": {
    "collapsed": false
   },
   "outputs": [],
   "source": [
    "# simple python algorithm: example of a SLOW implementation\n",
    "# Why? Because the loop is implemented in python.\n",
    "def py_dcumsum(a):\n",
    "    b = np.empty_like(a)\n",
    "    b[0] = a[0]\n",
    "    for n in range(1,len(a)):\n",
    "        b[n] = b[n-1]+a[n]\n",
    "    return b"
   ]
  },
  {
   "cell_type": "code",
   "execution_count": 4,
   "metadata": {
    "collapsed": false
   },
   "outputs": [],
   "source": [
    "# The numpy version of the cumsum\n",
    "def numpy_cumsum(a):\n",
    "    return np.cumsum(a)"
   ]
  },
  {
   "cell_type": "markdown",
   "metadata": {},
   "source": [
    "We write here a fortran function with some special code to interact with python"
   ]
  },
  {
   "cell_type": "code",
   "execution_count": 6,
   "metadata": {
    "collapsed": false
   },
   "outputs": [
    {
     "name": "stdout",
     "output_type": "stream",
     "text": [
      "Overwriting dcumsum.f\n"
     ]
    }
   ],
   "source": [
    "%%writefile dcumsum.f\n",
    "c File dcumsum.f\n",
    "       subroutine dcumsum(a, b, n)\n",
    "       double precision a(n)\n",
    "       double precision b(n)\n",
    "       integer n\n",
    "cf2py  intent(in) :: a\n",
    "cf2py  intent(out) :: b\n",
    "cf2py  intent(hide) :: n\n",
    "\n",
    "       b(1) = a(1)\n",
    "       do 100 i=2, n\n",
    "           b(i) = b(i-1) + a(i)\n",
    "100    continue\n",
    "       end"
   ]
  },
  {
   "cell_type": "code",
   "execution_count": 7,
   "metadata": {
    "collapsed": false
   },
   "outputs": [
    {
     "name": "stdout",
     "output_type": "stream",
     "text": [
      "\u001b[39mrunning build\u001b[0m\n",
      "\u001b[39mrunning config_cc\u001b[0m\n",
      "\u001b[39munifing config_cc, config, build_clib, build_ext, build commands --compiler options\u001b[0m\n",
      "\u001b[39mrunning config_fc\u001b[0m\n",
      "\u001b[39munifing config_fc, config, build_clib, build_ext, build commands --fcompiler options\u001b[0m\n",
      "\u001b[39mrunning build_src\u001b[0m\n",
      "\u001b[39mbuild_src\u001b[0m\n",
      "\u001b[39mbuilding extension \"dcumsum\" sources\u001b[0m\n",
      "\u001b[39mf2py options: []\u001b[0m\n",
      "\u001b[39mf2py:> /var/folders/bb/jg97y_ln7cn8wbgbl8zs8rvr0000gn/T/tmpcaefpp/src.macosx-10.5-x86_64-2.7/dcumsummodule.c\u001b[0m\n",
      "\u001b[39mcreating /var/folders/bb/jg97y_ln7cn8wbgbl8zs8rvr0000gn/T/tmpcaefpp/src.macosx-10.5-x86_64-2.7\u001b[0m\n",
      "Reading fortran codes...\n",
      "\tReading file 'dcumsum.f' (format:fix,strict)\n",
      "Post-processing...\n",
      "\tBlock: dcumsum\n",
      "\t\t\tBlock: dcumsum\n",
      "Post-processing (stage 2)...\n",
      "Building modules...\n",
      "\tBuilding module \"dcumsum\"...\n",
      "\t\tConstructing wrapper function \"dcumsum\"...\n",
      "\t\t  b = dcumsum(a)\n",
      "\tWrote C/API module \"dcumsum\" to file \"/var/folders/bb/jg97y_ln7cn8wbgbl8zs8rvr0000gn/T/tmpcaefpp/src.macosx-10.5-x86_64-2.7/dcumsummodule.c\"\n",
      "\u001b[39m  adding '/var/folders/bb/jg97y_ln7cn8wbgbl8zs8rvr0000gn/T/tmpcaefpp/src.macosx-10.5-x86_64-2.7/fortranobject.c' to sources.\u001b[0m\n",
      "\u001b[39m  adding '/var/folders/bb/jg97y_ln7cn8wbgbl8zs8rvr0000gn/T/tmpcaefpp/src.macosx-10.5-x86_64-2.7' to include_dirs.\u001b[0m\n",
      "\u001b[39mcopying /Users/christophemorisset/anaconda/lib/python2.7/site-packages/numpy/f2py/src/fortranobject.c -> /var/folders/bb/jg97y_ln7cn8wbgbl8zs8rvr0000gn/T/tmpcaefpp/src.macosx-10.5-x86_64-2.7\u001b[0m\n",
      "\u001b[39mcopying /Users/christophemorisset/anaconda/lib/python2.7/site-packages/numpy/f2py/src/fortranobject.h -> /var/folders/bb/jg97y_ln7cn8wbgbl8zs8rvr0000gn/T/tmpcaefpp/src.macosx-10.5-x86_64-2.7\u001b[0m\n",
      "\u001b[39mbuild_src: building npy-pkg config files\u001b[0m\n",
      "\u001b[39mrunning build_ext\u001b[0m\n",
      "\u001b[39mcustomize UnixCCompiler\u001b[0m\n",
      "\u001b[39mcustomize UnixCCompiler using build_ext\u001b[0m\n",
      "\u001b[39mcustomize Gnu95FCompiler\u001b[0m\n",
      "\u001b[39mFound executable /usr/local/bin/gfortran\u001b[0m\n",
      "\u001b[39mcustomize Gnu95FCompiler\u001b[0m\n",
      "\u001b[39mcustomize Gnu95FCompiler using build_ext\u001b[0m\n",
      "\u001b[39mbuilding 'dcumsum' extension\u001b[0m\n",
      "\u001b[39mcompiling C sources\u001b[0m\n",
      "\u001b[39mC compiler: gcc -fno-strict-aliasing -I/Users/christophemorisset/anaconda/include -arch x86_64 -DNDEBUG -g -fwrapv -O3 -Wall -Wstrict-prototypes\n",
      "\u001b[0m\n",
      "\u001b[39mcreating /var/folders/bb/jg97y_ln7cn8wbgbl8zs8rvr0000gn/T/tmpcaefpp/var\u001b[0m\n",
      "\u001b[39mcreating /var/folders/bb/jg97y_ln7cn8wbgbl8zs8rvr0000gn/T/tmpcaefpp/var/folders\u001b[0m\n",
      "\u001b[39mcreating /var/folders/bb/jg97y_ln7cn8wbgbl8zs8rvr0000gn/T/tmpcaefpp/var/folders/bb\u001b[0m\n",
      "\u001b[39mcreating /var/folders/bb/jg97y_ln7cn8wbgbl8zs8rvr0000gn/T/tmpcaefpp/var/folders/bb/jg97y_ln7cn8wbgbl8zs8rvr0000gn\u001b[0m\n",
      "\u001b[39mcreating /var/folders/bb/jg97y_ln7cn8wbgbl8zs8rvr0000gn/T/tmpcaefpp/var/folders/bb/jg97y_ln7cn8wbgbl8zs8rvr0000gn/T\u001b[0m\n",
      "\u001b[39mcreating /var/folders/bb/jg97y_ln7cn8wbgbl8zs8rvr0000gn/T/tmpcaefpp/var/folders/bb/jg97y_ln7cn8wbgbl8zs8rvr0000gn/T/tmpcaefpp\u001b[0m\n",
      "\u001b[39mcreating /var/folders/bb/jg97y_ln7cn8wbgbl8zs8rvr0000gn/T/tmpcaefpp/var/folders/bb/jg97y_ln7cn8wbgbl8zs8rvr0000gn/T/tmpcaefpp/src.macosx-10.5-x86_64-2.7\u001b[0m\n",
      "\u001b[39mcompile options: '-I/var/folders/bb/jg97y_ln7cn8wbgbl8zs8rvr0000gn/T/tmpcaefpp/src.macosx-10.5-x86_64-2.7 -I/Users/christophemorisset/anaconda/lib/python2.7/site-packages/numpy/core/include -I/Users/christophemorisset/anaconda/include/python2.7 -c'\u001b[0m\n",
      "\u001b[39mgcc: /var/folders/bb/jg97y_ln7cn8wbgbl8zs8rvr0000gn/T/tmpcaefpp/src.macosx-10.5-x86_64-2.7/dcumsummodule.c\u001b[0m\n",
      "In file included from /Users/christophemorisset/anaconda/lib/python2.7/site-packages/numpy/core/include/numpy/ndarraytypes.h:1777:0,\n",
      "                 from /Users/christophemorisset/anaconda/lib/python2.7/site-packages/numpy/core/include/numpy/ndarrayobject.h:18,\n",
      "                 from /Users/christophemorisset/anaconda/lib/python2.7/site-packages/numpy/core/include/numpy/arrayobject.h:4,\n",
      "                 from /var/folders/bb/jg97y_ln7cn8wbgbl8zs8rvr0000gn/T/tmpcaefpp/src.macosx-10.5-x86_64-2.7/fortranobject.h:13,\n",
      "                 from /var/folders/bb/jg97y_ln7cn8wbgbl8zs8rvr0000gn/T/tmpcaefpp/src.macosx-10.5-x86_64-2.7/dcumsummodule.c:19:\n",
      "/Users/christophemorisset/anaconda/lib/python2.7/site-packages/numpy/core/include/numpy/npy_1_7_deprecated_api.h:15:2: warning: #warning \"Using deprecated NumPy API, disable it by \" \"#defining NPY_NO_DEPRECATED_API NPY_1_7_API_VERSION\" [-Wcpp]\n",
      " #warning \"Using deprecated NumPy API, disable it by \" \\\n",
      "  ^\n",
      "/var/folders/bb/jg97y_ln7cn8wbgbl8zs8rvr0000gn/T/tmpcaefpp/src.macosx-10.5-x86_64-2.7/dcumsummodule.c:112:12: warning: 'f2py_size' defined but not used [-Wunused-function]\n",
      " static int f2py_size(PyArrayObject* var, ...)\n",
      "            ^\n",
      "\u001b[39mgcc: /var/folders/bb/jg97y_ln7cn8wbgbl8zs8rvr0000gn/T/tmpcaefpp/src.macosx-10.5-x86_64-2.7/fortranobject.c\u001b[0m\n",
      "In file included from /Users/christophemorisset/anaconda/lib/python2.7/site-packages/numpy/core/include/numpy/ndarraytypes.h:1777:0,\n",
      "                 from /Users/christophemorisset/anaconda/lib/python2.7/site-packages/numpy/core/include/numpy/ndarrayobject.h:18,\n",
      "                 from /Users/christophemorisset/anaconda/lib/python2.7/site-packages/numpy/core/include/numpy/arrayobject.h:4,\n",
      "                 from /var/folders/bb/jg97y_ln7cn8wbgbl8zs8rvr0000gn/T/tmpcaefpp/src.macosx-10.5-x86_64-2.7/fortranobject.h:13,\n",
      "                 from /var/folders/bb/jg97y_ln7cn8wbgbl8zs8rvr0000gn/T/tmpcaefpp/src.macosx-10.5-x86_64-2.7/fortranobject.c:2:\n",
      "/Users/christophemorisset/anaconda/lib/python2.7/site-packages/numpy/core/include/numpy/npy_1_7_deprecated_api.h:15:2: warning: #warning \"Using deprecated NumPy API, disable it by \" \"#defining NPY_NO_DEPRECATED_API NPY_1_7_API_VERSION\" [-Wcpp]\n",
      " #warning \"Using deprecated NumPy API, disable it by \" \\\n",
      "  ^\n",
      "\u001b[39mcompiling Fortran sources\u001b[0m\n",
      "\u001b[39mFortran f77 compiler: gfortran -Wall -g -ffixed-form -fno-second-underscore -m64 -fPIC -O3 -funroll-loops\n",
      "Fortran f90 compiler: /usr/local/bin/gfortran -Wall -g -fno-second-underscore -m64 -fPIC -O3 -funroll-loops\n",
      "Fortran fix compiler: /usr/local/bin/gfortran -Wall -g -ffixed-form -fno-second-underscore -Wall -g -fno-second-underscore -m64 -fPIC -O3 -funroll-loops\u001b[0m\n",
      "\u001b[39mcompile options: '-I/var/folders/bb/jg97y_ln7cn8wbgbl8zs8rvr0000gn/T/tmpcaefpp/src.macosx-10.5-x86_64-2.7 -I/Users/christophemorisset/anaconda/lib/python2.7/site-packages/numpy/core/include -I/Users/christophemorisset/anaconda/include/python2.7 -c'\u001b[0m\n",
      "\u001b[39mgfortran:f77: dcumsum.f\u001b[0m\n",
      "\u001b[39m/usr/local/bin/gfortran -Wall -g -m64 -Wall -g -undefined dynamic_lookup -bundle /var/folders/bb/jg97y_ln7cn8wbgbl8zs8rvr0000gn/T/tmpcaefpp/var/folders/bb/jg97y_ln7cn8wbgbl8zs8rvr0000gn/T/tmpcaefpp/src.macosx-10.5-x86_64-2.7/dcumsummodule.o /var/folders/bb/jg97y_ln7cn8wbgbl8zs8rvr0000gn/T/tmpcaefpp/var/folders/bb/jg97y_ln7cn8wbgbl8zs8rvr0000gn/T/tmpcaefpp/src.macosx-10.5-x86_64-2.7/fortranobject.o /var/folders/bb/jg97y_ln7cn8wbgbl8zs8rvr0000gn/T/tmpcaefpp/dcumsum.o -L/usr/local/lib/gcc/x86_64-apple-darwin14.0.0/5.0.0 -L/Users/christophemorisset/anaconda/lib -lgfortran -o ./dcumsum.so\u001b[0m\n",
      "Removing build directory /var/folders/bb/jg97y_ln7cn8wbgbl8zs8rvr0000gn/T/tmpcaefpp\n"
     ]
    }
   ],
   "source": [
    "# Compiling. On my OSX, gfortran is used\n",
    "!f2py --f77exec=gfortran -c dcumsum.f -m dcumsum"
   ]
  },
  {
   "cell_type": "code",
   "execution_count": 8,
   "metadata": {
    "collapsed": false
   },
   "outputs": [],
   "source": [
    "# Importing the function as if it where a python package\n",
    "import dcumsum"
   ]
  },
  {
   "cell_type": "code",
   "execution_count": 10,
   "metadata": {
    "collapsed": false
   },
   "outputs": [],
   "source": [
    "a = np.linspace(10,100, 1000)"
   ]
  },
  {
   "cell_type": "code",
   "execution_count": 11,
   "metadata": {
    "collapsed": false
   },
   "outputs": [
    {
     "name": "stdout",
     "output_type": "stream",
     "text": [
      "1000 loops, best of 3: 278 µs per loop\n"
     ]
    }
   ],
   "source": [
    "%timeit py_dcumsum(a)"
   ]
  },
  {
   "cell_type": "code",
   "execution_count": 12,
   "metadata": {
    "collapsed": false
   },
   "outputs": [
    {
     "name": "stdout",
     "output_type": "stream",
     "text": [
      "The slowest run took 9.87 times longer than the fastest. This could mean that an intermediate result is being cached.\n",
      "100000 loops, best of 3: 3.86 µs per loop\n"
     ]
    }
   ],
   "source": [
    "%timeit numpy_cumsum(a)"
   ]
  },
  {
   "cell_type": "code",
   "execution_count": 13,
   "metadata": {
    "collapsed": false
   },
   "outputs": [
    {
     "name": "stdout",
     "output_type": "stream",
     "text": [
      "The slowest run took 28.97 times longer than the fastest. This could mean that an intermediate result is being cached.\n",
      "100000 loops, best of 3: 3.31 µs per loop\n"
     ]
    }
   ],
   "source": [
    "%timeit a.cumsum()"
   ]
  },
  {
   "cell_type": "code",
   "execution_count": 14,
   "metadata": {
    "collapsed": false
   },
   "outputs": [
    {
     "name": "stdout",
     "output_type": "stream",
     "text": [
      "The slowest run took 10.30 times longer than the fastest. This could mean that an intermediate result is being cached.\n",
      "1000000 loops, best of 3: 1.25 µs per loop\n"
     ]
    }
   ],
   "source": [
    "%timeit dcumsum.dcumsum(a)"
   ]
  },
  {
   "cell_type": "markdown",
   "metadata": {},
   "source": [
    "The Fortran call is still 2 times faster than the numpy object method, and 10 times faster than the loop."
   ]
  },
  {
   "cell_type": "markdown",
   "metadata": {},
   "source": [
    "### cython"
   ]
  },
  {
   "cell_type": "code",
   "execution_count": 3,
   "metadata": {
    "collapsed": false
   },
   "outputs": [],
   "source": [
    "# Integration of a function by summing values\n",
    "def f(x):    \n",
    "   return x**2 - x\n",
    "def integrate_f(a, b, N):\n",
    "    s  = 0    \n",
    "    dx = float(b - a) / N\n",
    "    for i in range(N):   \n",
    "       s += f(a + i*dx)\n",
    "    return s*dx"
   ]
  },
  {
   "cell_type": "code",
   "execution_count": 4,
   "metadata": {
    "collapsed": false
   },
   "outputs": [],
   "source": [
    "# To allow the use of %%cython\n",
    "%load_ext Cython"
   ]
  },
  {
   "cell_type": "code",
   "execution_count": 5,
   "metadata": {
    "collapsed": false
   },
   "outputs": [],
   "source": [
    "%%cython\n",
    "cdef double cy_f(x):    \n",
    "   return x**2 - x\n",
    "def cy_integrate_f(double a, double b, int N):\n",
    "    cdef int i\n",
    "    cdef double s, dx\n",
    "    s  = 0\n",
    "    dx = (b - a) / N\n",
    "    for i in range(N):\n",
    "        s += cy_f(a + i*dx)\n",
    "    return s*dx"
   ]
  },
  {
   "cell_type": "code",
   "execution_count": 26,
   "metadata": {
    "collapsed": false
   },
   "outputs": [
    {
     "name": "stdout",
     "output_type": "stream",
     "text": [
      "1000 loops, best of 3: 269 µs per loop\n"
     ]
    }
   ],
   "source": [
    "%timeit integrate_f(0,3,10**3)"
   ]
  },
  {
   "cell_type": "code",
   "execution_count": 27,
   "metadata": {
    "collapsed": false
   },
   "outputs": [
    {
     "name": "stdout",
     "output_type": "stream",
     "text": [
      "10000 loops, best of 3: 65.8 µs per loop\n"
     ]
    }
   ],
   "source": [
    "# Really faster!!!\n",
    "%timeit cy_integrate_f(0,3,10**3)"
   ]
  },
  {
   "cell_type": "code",
   "execution_count": 28,
   "metadata": {
    "collapsed": false
   },
   "outputs": [
    {
     "name": "stdout",
     "output_type": "stream",
     "text": [
      "4.4910045 4.4910045\n"
     ]
    }
   ],
   "source": [
    "# Same values are obtain (hopefully!)\n",
    "print integrate_f(0,3,10**3), cy_integrate_f(0,3,10**3)"
   ]
  },
  {
   "cell_type": "code",
   "execution_count": 29,
   "metadata": {},
   "outputs": [
    {
     "name": "stderr",
     "output_type": "stream",
     "text": [
      "/Users/christophemorisset/anaconda/lib/python2.7/site-packages/ipykernel/__main__.py:4: DeprecationWarning: object of type <type 'float'> cannot be safely interpreted as an integer.\n"
     ]
    }
   ],
   "source": [
    "a = 0.\n",
    "b = 3.\n",
    "N= 1e3\n",
    "xs = np.linspace(a, b, N+1)"
   ]
  },
  {
   "cell_type": "code",
   "execution_count": 30,
   "metadata": {},
   "outputs": [
    {
     "name": "stdout",
     "output_type": "stream",
     "text": [
      "The slowest run took 66.38 times longer than the fastest. This could mean that an intermediate result is being cached.\n",
      "100000 loops, best of 3: 5.35 µs per loop\n"
     ]
    }
   ],
   "source": [
    "%timeit s = f(xs).sum()"
   ]
  },
  {
   "cell_type": "markdown",
   "metadata": {},
   "source": [
    "Let's now compare when doing havy matrix operations, taken from http://technicaldiscovery.blogspot.mx/2011/06/speeding-up-python-numpy-cython-and.html"
   ]
  },
  {
   "cell_type": "code",
   "execution_count": 31,
   "metadata": {
    "collapsed": false
   },
   "outputs": [],
   "source": [
    "dx = 0.1\n",
    "dy = 0.1\n",
    "dx2 = dx*dx\n",
    "dy2 = dy*dy\n",
    "\n",
    "# The looping way\n",
    "def py_update(u):\n",
    "    nx, ny = u.shape\n",
    "    for i in xrange(1,nx-1):\n",
    "        for j in xrange(1, ny-1):\n",
    "            u[i,j] = ((u[i+1, j] + u[i-1, j]) * dy2 +\n",
    "                      (u[i, j+1] + u[i, j-1]) * dx2) / (2*(dx2+dy2))\n",
    "\n",
    "def calc(N, Niter=100, func=py_update, args=()):\n",
    "    u = np.zeros([N, N])\n",
    "    u[0] = 1\n",
    "    for i in range(Niter):\n",
    "        func(u,*args)\n",
    "    return u"
   ]
  },
  {
   "cell_type": "code",
   "execution_count": 32,
   "metadata": {
    "collapsed": false
   },
   "outputs": [
    {
     "name": "stdout",
     "output_type": "stream",
     "text": [
      "10 loops, best of 3: 43.1 ms per loop\n"
     ]
    }
   ],
   "source": [
    "%timeit calc(20)"
   ]
  },
  {
   "cell_type": "code",
   "execution_count": 33,
   "metadata": {
    "collapsed": false
   },
   "outputs": [],
   "source": [
    "# The numpy way\n",
    "def num_update(u):\n",
    "    u[1:-1,1:-1] = ((u[2:,1:-1]+u[:-2,1:-1])*dy2 + \n",
    "                    (u[1:-1,2:] + u[1:-1,:-2])*dx2) / (2*(dx2+dy2))"
   ]
  },
  {
   "cell_type": "code",
   "execution_count": 34,
   "metadata": {
    "collapsed": false
   },
   "outputs": [
    {
     "name": "stdout",
     "output_type": "stream",
     "text": [
      "1000 loops, best of 3: 1.17 ms per loop\n"
     ]
    }
   ],
   "source": [
    "%timeit calc(20, func=num_update)"
   ]
  },
  {
   "cell_type": "code",
   "execution_count": 35,
   "metadata": {
    "collapsed": false
   },
   "outputs": [],
   "source": [
    "%%cython\n",
    "cimport numpy as np\n",
    "\n",
    "def cy_update(np.ndarray[double, ndim=2] u, double dx2, double dy2):\n",
    "    cdef unsigned int i, j\n",
    "    for i in xrange(1,u.shape[0]-1):\n",
    "        for j in xrange(1, u.shape[1]-1):\n",
    "            u[i,j] = ((u[i+1, j] + u[i-1, j]) * dy2 +\n",
    "                      (u[i, j+1] + u[i, j-1]) * dx2) / (2*(dx2+dy2))\n"
   ]
  },
  {
   "cell_type": "code",
   "execution_count": 36,
   "metadata": {
    "collapsed": false
   },
   "outputs": [
    {
     "name": "stdout",
     "output_type": "stream",
     "text": [
      "1000 loops, best of 3: 329 µs per loop\n"
     ]
    }
   ],
   "source": [
    "%timeit calc(20, func=cy_update, args=(dx2, dy2))"
   ]
  },
  {
   "cell_type": "code",
   "execution_count": null,
   "metadata": {
    "collapsed": true
   },
   "outputs": [],
   "source": []
  }
 ],
 "metadata": {
  "kernelspec": {
   "display_name": "Python 2",
   "language": "python",
   "name": "python2"
  },
  "language_info": {
   "codemirror_mode": {
    "name": "ipython",
    "version": 2
   },
   "file_extension": ".py",
   "mimetype": "text/x-python",
   "name": "python",
   "nbconvert_exporter": "python",
   "pygments_lexer": "ipython2",
   "version": "2.7.11"
  }
 },
 "nbformat": 4,
 "nbformat_minor": 2
}
